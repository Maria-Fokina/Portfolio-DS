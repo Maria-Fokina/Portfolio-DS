{
 "cells": [
  {
   "cell_type": "markdown",
   "metadata": {},
   "source": [
    "# Выбор локации для скважины"
   ]
  },
  {
   "cell_type": "markdown",
   "metadata": {},
   "source": [
    "        "
   ]
  },
  {
   "cell_type": "markdown",
   "metadata": {},
   "source": [
    "**Описание проекта:**\n",
    "Добывающей компании «ГлавРосГосНефти» нужно решить, где бурить новую скважину.\n",
    "\n",
    "**Цель проекта:**\n",
    "Задача: на основе данных геологической разведки построить модель для определения региона, где добыча принесёт наибольшую прибыль\n",
    "\n",
    "**Шаги для выбора локации:**\n",
    "\n",
    "- В избранном регионе ищут месторождения, для каждого определяют значения признаков\n",
    "- Строят модель и оценивают объём запасов\n",
    "- Выбирают месторождения с самым высокими оценками значений. Количество месторождений зависит от бюджета компании и стоимости разработки одной скважины\n",
    "- Прибыль равна суммарной прибыли отобранных месторождений"
   ]
  },
  {
   "cell_type": "markdown",
   "metadata": {},
   "source": [
    "**Вводные параметры:**\n",
    "* Для обучения модели подходит только линейная регрессия (остальные — недостаточно предсказуемые).\n",
    "* При разведке региона исследуют 500 точек, из которых с помощью машинного обучения выбирают 200 лучших для разработки.\n",
    "* Бюджет на разработку скважин в регионе — 10 млрд рублей.\n",
    "* При нынешних ценах один баррель сырья приносит 450 рублей дохода. Доход с каждой единицы продукта составляет 450 тыс. рублей, поскольку объём указан в тысячах баррелей.\n",
    "* После оценки рисков нужно оставить лишь те регионы, в которых вероятность убытков меньше 2.5%. Среди них выбирают регион с наибольшей средней прибылью.\n",
    "* Данные синтетические: детали контрактов и характеристики месторождений не разглашаются."
   ]
  },
  {
   "cell_type": "markdown",
   "metadata": {},
   "source": [
    "**Описание данных согласно документации:**\n",
    "* Данные геологоразведки трёх регионов находятся в файлах: \n",
    " - geo_data_0.csv\n",
    " - geo_data_1.csv\n",
    " - geo_data_2.csv\n",
    "* id — уникальный идентификатор скважины;\n",
    "* f0, f1, f2 — три признака точек (неважно, что они означают, но сами признаки значимы);\n",
    "* product — объём запасов в скважине (тыс. баррелей)."
   ]
  },
  {
   "cell_type": "markdown",
   "metadata": {},
   "source": [
    "**План работы:**\n",
    "1. Загрузка и подготовка данных\n",
    "2. Обучение и проверка модели для каждого региона\n",
    "3. Подготовка данных к расчёту прибыли\n",
    "4. Выбор скважин с максимальными значениями предсказаний и рассчет прибыль\n",
    "5. Посчитаем риски и прибыль для каждого региона(техника Bootstrap, средняя прибыль, 95%-й доверительный интервал и риск убытков)\n",
    "6. Итоговый вывод"
   ]
  },
  {
   "cell_type": "markdown",
   "metadata": {},
   "source": [
    "## Загрузка и подготовка данных"
   ]
  },
  {
   "cell_type": "code",
   "execution_count": 2,
   "metadata": {},
   "outputs": [],
   "source": [
    "from sklearn.linear_model import LinearRegression\n",
    "from sklearn.model_selection import train_test_split\n",
    "from sklearn.metrics import f1_score, mean_squared_error\n",
    "\n",
    "import pandas as pd\n",
    "import numpy as np\n",
    "import matplotlib.pyplot as plt\n",
    "import seaborn as sns\n",
    "\n",
    "from IPython.display import display\n"
   ]
  },
  {
   "cell_type": "code",
   "execution_count": 3,
   "metadata": {},
   "outputs": [],
   "source": [
    "df_1 = pd.read_csv('/data/geo_data_0.csv')\n",
    "df_2 = pd.read_csv('/data/geo_data_1.csv')\n",
    "df_3 = pd.read_csv('/data/geo_data_2.csv')"
   ]
  },
  {
   "cell_type": "code",
   "execution_count": 4,
   "metadata": {},
   "outputs": [],
   "source": [
    "def basic_properties (data):\n",
    "    print('Размер датасета:',data.shape)\n",
    "    display(data.head(10))\n",
    "    print('-' * 100, '\\n')\n",
    "    print(data.info())\n",
    "    print('-' * 100, '\\n')\n",
    "    print('Всего явных дубликатов:', data.duplicated().sum())\n",
    "    print('-' * 100, '\\n')\n",
    "    print('Количество пропусков:')\n",
    "    display(data.isna().sum())\n",
    "    print('Нулевые значения:')\n",
    "    print(data.isnull().sum())\n",
    "    print('-' * 100, '\\n')\n",
    "    print('Основная статистика:')\n",
    "    display(data.describe())\n",
    "    print('-' * 100, '\\n')\n",
    "    print('Корреляция Пирсона:')\n",
    "    display(data.corr())\n",
    "    print('-' * 100, '\\n')\n",
    "    print('Гистограммы распределения признаков:')\n",
    "    data.hist(figsize=(15, 8), bins=60, edgecolor='Black', color='LightGrey')"
   ]
  },
  {
   "cell_type": "markdown",
   "metadata": {},
   "source": [
    "### Основные показатели по данным геологоразведки 1-ого региона"
   ]
  },
  {
   "cell_type": "code",
   "execution_count": 5,
   "metadata": {
    "scrolled": false
   },
   "outputs": [
    {
     "name": "stdout",
     "output_type": "stream",
     "text": [
      "Размер датасета: (100000, 5)\n"
     ]
    },
    {
     "data": {
      "text/html": [
       "<div>\n",
       "<style scoped>\n",
       "    .dataframe tbody tr th:only-of-type {\n",
       "        vertical-align: middle;\n",
       "    }\n",
       "\n",
       "    .dataframe tbody tr th {\n",
       "        vertical-align: top;\n",
       "    }\n",
       "\n",
       "    .dataframe thead th {\n",
       "        text-align: right;\n",
       "    }\n",
       "</style>\n",
       "<table border=\"1\" class=\"dataframe\">\n",
       "  <thead>\n",
       "    <tr style=\"text-align: right;\">\n",
       "      <th></th>\n",
       "      <th>id</th>\n",
       "      <th>f0</th>\n",
       "      <th>f1</th>\n",
       "      <th>f2</th>\n",
       "      <th>product</th>\n",
       "    </tr>\n",
       "  </thead>\n",
       "  <tbody>\n",
       "    <tr>\n",
       "      <th>0</th>\n",
       "      <td>txEyH</td>\n",
       "      <td>0.705745</td>\n",
       "      <td>-0.497823</td>\n",
       "      <td>1.221170</td>\n",
       "      <td>105.280062</td>\n",
       "    </tr>\n",
       "    <tr>\n",
       "      <th>1</th>\n",
       "      <td>2acmU</td>\n",
       "      <td>1.334711</td>\n",
       "      <td>-0.340164</td>\n",
       "      <td>4.365080</td>\n",
       "      <td>73.037750</td>\n",
       "    </tr>\n",
       "    <tr>\n",
       "      <th>2</th>\n",
       "      <td>409Wp</td>\n",
       "      <td>1.022732</td>\n",
       "      <td>0.151990</td>\n",
       "      <td>1.419926</td>\n",
       "      <td>85.265647</td>\n",
       "    </tr>\n",
       "    <tr>\n",
       "      <th>3</th>\n",
       "      <td>iJLyR</td>\n",
       "      <td>-0.032172</td>\n",
       "      <td>0.139033</td>\n",
       "      <td>2.978566</td>\n",
       "      <td>168.620776</td>\n",
       "    </tr>\n",
       "    <tr>\n",
       "      <th>4</th>\n",
       "      <td>Xdl7t</td>\n",
       "      <td>1.988431</td>\n",
       "      <td>0.155413</td>\n",
       "      <td>4.751769</td>\n",
       "      <td>154.036647</td>\n",
       "    </tr>\n",
       "    <tr>\n",
       "      <th>5</th>\n",
       "      <td>wX4Hy</td>\n",
       "      <td>0.969570</td>\n",
       "      <td>0.489775</td>\n",
       "      <td>-0.735383</td>\n",
       "      <td>64.741541</td>\n",
       "    </tr>\n",
       "    <tr>\n",
       "      <th>6</th>\n",
       "      <td>tL6pL</td>\n",
       "      <td>0.645075</td>\n",
       "      <td>0.530656</td>\n",
       "      <td>1.780266</td>\n",
       "      <td>49.055285</td>\n",
       "    </tr>\n",
       "    <tr>\n",
       "      <th>7</th>\n",
       "      <td>BYPU6</td>\n",
       "      <td>-0.400648</td>\n",
       "      <td>0.808337</td>\n",
       "      <td>-5.624670</td>\n",
       "      <td>72.943292</td>\n",
       "    </tr>\n",
       "    <tr>\n",
       "      <th>8</th>\n",
       "      <td>j9Oui</td>\n",
       "      <td>0.643105</td>\n",
       "      <td>-0.551583</td>\n",
       "      <td>2.372141</td>\n",
       "      <td>113.356160</td>\n",
       "    </tr>\n",
       "    <tr>\n",
       "      <th>9</th>\n",
       "      <td>OLuZU</td>\n",
       "      <td>2.173381</td>\n",
       "      <td>0.563698</td>\n",
       "      <td>9.441852</td>\n",
       "      <td>127.910945</td>\n",
       "    </tr>\n",
       "  </tbody>\n",
       "</table>\n",
       "</div>"
      ],
      "text/plain": [
       "      id        f0        f1        f2     product\n",
       "0  txEyH  0.705745 -0.497823  1.221170  105.280062\n",
       "1  2acmU  1.334711 -0.340164  4.365080   73.037750\n",
       "2  409Wp  1.022732  0.151990  1.419926   85.265647\n",
       "3  iJLyR -0.032172  0.139033  2.978566  168.620776\n",
       "4  Xdl7t  1.988431  0.155413  4.751769  154.036647\n",
       "5  wX4Hy  0.969570  0.489775 -0.735383   64.741541\n",
       "6  tL6pL  0.645075  0.530656  1.780266   49.055285\n",
       "7  BYPU6 -0.400648  0.808337 -5.624670   72.943292\n",
       "8  j9Oui  0.643105 -0.551583  2.372141  113.356160\n",
       "9  OLuZU  2.173381  0.563698  9.441852  127.910945"
      ]
     },
     "metadata": {},
     "output_type": "display_data"
    },
    {
     "name": "stdout",
     "output_type": "stream",
     "text": [
      "---------------------------------------------------------------------------------------------------- \n",
      "\n",
      "<class 'pandas.core.frame.DataFrame'>\n",
      "RangeIndex: 100000 entries, 0 to 99999\n",
      "Data columns (total 5 columns):\n",
      " #   Column   Non-Null Count   Dtype  \n",
      "---  ------   --------------   -----  \n",
      " 0   id       100000 non-null  object \n",
      " 1   f0       100000 non-null  float64\n",
      " 2   f1       100000 non-null  float64\n",
      " 3   f2       100000 non-null  float64\n",
      " 4   product  100000 non-null  float64\n",
      "dtypes: float64(4), object(1)\n",
      "memory usage: 3.8+ MB\n"
     ]
    },
    {
     "data": {
      "text/plain": [
       "None"
      ]
     },
     "metadata": {},
     "output_type": "display_data"
    },
    {
     "name": "stdout",
     "output_type": "stream",
     "text": [
      "---------------------------------------------------------------------------------------------------- \n",
      "\n",
      "Всего явных дубликатов: 0\n",
      "---------------------------------------------------------------------------------------------------- \n",
      "\n",
      "Количество пропусков:\n"
     ]
    },
    {
     "data": {
      "text/plain": [
       "id         0\n",
       "f0         0\n",
       "f1         0\n",
       "f2         0\n",
       "product    0\n",
       "dtype: int64"
      ]
     },
     "metadata": {},
     "output_type": "display_data"
    },
    {
     "name": "stdout",
     "output_type": "stream",
     "text": [
      "Нулевые значения:\n",
      "id         0\n",
      "f0         0\n",
      "f1         0\n",
      "f2         0\n",
      "product    0\n",
      "dtype: int64\n",
      "---------------------------------------------------------------------------------------------------- \n",
      "\n",
      "Основная статистика:\n"
     ]
    },
    {
     "data": {
      "text/html": [
       "<div>\n",
       "<style scoped>\n",
       "    .dataframe tbody tr th:only-of-type {\n",
       "        vertical-align: middle;\n",
       "    }\n",
       "\n",
       "    .dataframe tbody tr th {\n",
       "        vertical-align: top;\n",
       "    }\n",
       "\n",
       "    .dataframe thead th {\n",
       "        text-align: right;\n",
       "    }\n",
       "</style>\n",
       "<table border=\"1\" class=\"dataframe\">\n",
       "  <thead>\n",
       "    <tr style=\"text-align: right;\">\n",
       "      <th></th>\n",
       "      <th>f0</th>\n",
       "      <th>f1</th>\n",
       "      <th>f2</th>\n",
       "      <th>product</th>\n",
       "    </tr>\n",
       "  </thead>\n",
       "  <tbody>\n",
       "    <tr>\n",
       "      <th>count</th>\n",
       "      <td>100000.000000</td>\n",
       "      <td>100000.000000</td>\n",
       "      <td>100000.000000</td>\n",
       "      <td>100000.000000</td>\n",
       "    </tr>\n",
       "    <tr>\n",
       "      <th>mean</th>\n",
       "      <td>0.500419</td>\n",
       "      <td>0.250143</td>\n",
       "      <td>2.502647</td>\n",
       "      <td>92.500000</td>\n",
       "    </tr>\n",
       "    <tr>\n",
       "      <th>std</th>\n",
       "      <td>0.871832</td>\n",
       "      <td>0.504433</td>\n",
       "      <td>3.248248</td>\n",
       "      <td>44.288691</td>\n",
       "    </tr>\n",
       "    <tr>\n",
       "      <th>min</th>\n",
       "      <td>-1.408605</td>\n",
       "      <td>-0.848218</td>\n",
       "      <td>-12.088328</td>\n",
       "      <td>0.000000</td>\n",
       "    </tr>\n",
       "    <tr>\n",
       "      <th>25%</th>\n",
       "      <td>-0.072580</td>\n",
       "      <td>-0.200881</td>\n",
       "      <td>0.287748</td>\n",
       "      <td>56.497507</td>\n",
       "    </tr>\n",
       "    <tr>\n",
       "      <th>50%</th>\n",
       "      <td>0.502360</td>\n",
       "      <td>0.250252</td>\n",
       "      <td>2.515969</td>\n",
       "      <td>91.849972</td>\n",
       "    </tr>\n",
       "    <tr>\n",
       "      <th>75%</th>\n",
       "      <td>1.073581</td>\n",
       "      <td>0.700646</td>\n",
       "      <td>4.715088</td>\n",
       "      <td>128.564089</td>\n",
       "    </tr>\n",
       "    <tr>\n",
       "      <th>max</th>\n",
       "      <td>2.362331</td>\n",
       "      <td>1.343769</td>\n",
       "      <td>16.003790</td>\n",
       "      <td>185.364347</td>\n",
       "    </tr>\n",
       "  </tbody>\n",
       "</table>\n",
       "</div>"
      ],
      "text/plain": [
       "                  f0             f1             f2        product\n",
       "count  100000.000000  100000.000000  100000.000000  100000.000000\n",
       "mean        0.500419       0.250143       2.502647      92.500000\n",
       "std         0.871832       0.504433       3.248248      44.288691\n",
       "min        -1.408605      -0.848218     -12.088328       0.000000\n",
       "25%        -0.072580      -0.200881       0.287748      56.497507\n",
       "50%         0.502360       0.250252       2.515969      91.849972\n",
       "75%         1.073581       0.700646       4.715088     128.564089\n",
       "max         2.362331       1.343769      16.003790     185.364347"
      ]
     },
     "metadata": {},
     "output_type": "display_data"
    },
    {
     "name": "stdout",
     "output_type": "stream",
     "text": [
      "---------------------------------------------------------------------------------------------------- \n",
      "\n",
      "Корреляция Пирсона:\n"
     ]
    },
    {
     "data": {
      "text/html": [
       "<div>\n",
       "<style scoped>\n",
       "    .dataframe tbody tr th:only-of-type {\n",
       "        vertical-align: middle;\n",
       "    }\n",
       "\n",
       "    .dataframe tbody tr th {\n",
       "        vertical-align: top;\n",
       "    }\n",
       "\n",
       "    .dataframe thead th {\n",
       "        text-align: right;\n",
       "    }\n",
       "</style>\n",
       "<table border=\"1\" class=\"dataframe\">\n",
       "  <thead>\n",
       "    <tr style=\"text-align: right;\">\n",
       "      <th></th>\n",
       "      <th>f0</th>\n",
       "      <th>f1</th>\n",
       "      <th>f2</th>\n",
       "      <th>product</th>\n",
       "    </tr>\n",
       "  </thead>\n",
       "  <tbody>\n",
       "    <tr>\n",
       "      <th>f0</th>\n",
       "      <td>1.000000</td>\n",
       "      <td>-0.440723</td>\n",
       "      <td>-0.003153</td>\n",
       "      <td>0.143536</td>\n",
       "    </tr>\n",
       "    <tr>\n",
       "      <th>f1</th>\n",
       "      <td>-0.440723</td>\n",
       "      <td>1.000000</td>\n",
       "      <td>0.001724</td>\n",
       "      <td>-0.192356</td>\n",
       "    </tr>\n",
       "    <tr>\n",
       "      <th>f2</th>\n",
       "      <td>-0.003153</td>\n",
       "      <td>0.001724</td>\n",
       "      <td>1.000000</td>\n",
       "      <td>0.483663</td>\n",
       "    </tr>\n",
       "    <tr>\n",
       "      <th>product</th>\n",
       "      <td>0.143536</td>\n",
       "      <td>-0.192356</td>\n",
       "      <td>0.483663</td>\n",
       "      <td>1.000000</td>\n",
       "    </tr>\n",
       "  </tbody>\n",
       "</table>\n",
       "</div>"
      ],
      "text/plain": [
       "               f0        f1        f2   product\n",
       "f0       1.000000 -0.440723 -0.003153  0.143536\n",
       "f1      -0.440723  1.000000  0.001724 -0.192356\n",
       "f2      -0.003153  0.001724  1.000000  0.483663\n",
       "product  0.143536 -0.192356  0.483663  1.000000"
      ]
     },
     "metadata": {},
     "output_type": "display_data"
    },
    {
     "name": "stdout",
     "output_type": "stream",
     "text": [
      "---------------------------------------------------------------------------------------------------- \n",
      "\n",
      "Гистограммы распределения признаков:\n"
     ]
    },
    {
     "data": {
      "image/png": "[encoded data removed]",
      "text/plain": [
       "<Figure size 1080x576 with 4 Axes>"
      ]
     },
     "metadata": {
      "needs_background": "light"
     },
     "output_type": "display_data"
    }
   ],
   "source": [
    "basic_properties(df_1)"
   ]
  },
  {
   "cell_type": "markdown",
   "metadata": {},
   "source": [
    "1. Наблюдаем заметную корреляцию Пирсона признака f2 с объемами запасов нефти (product) - 0.483663\n",
    "2. Распределения признаков на гистограммах симметричны - что является следствием синтетичности данных\n",
    "3. В целом значения признаков f0, f1 не похожи на нормальное распределение, нужно будет привести их к нормальному"
   ]
  },
  {
   "cell_type": "markdown",
   "metadata": {},
   "source": [
    "### Основные показатели по данным геологоразведки 2-ого региона"
   ]
  },
  {
   "cell_type": "code",
   "execution_count": 6,
   "metadata": {
    "scrolled": false
   },
   "outputs": [
    {
     "name": "stdout",
     "output_type": "stream",
     "text": [
      "Размер датасета: (100000, 5)\n"
     ]
    },
    {
     "data": {
      "text/html": [
       "<div>\n",
       "<style scoped>\n",
       "    .dataframe tbody tr th:only-of-type {\n",
       "        vertical-align: middle;\n",
       "    }\n",
       "\n",
       "    .dataframe tbody tr th {\n",
       "        vertical-align: top;\n",
       "    }\n",
       "\n",
       "    .dataframe thead th {\n",
       "        text-align: right;\n",
       "    }\n",
       "</style>\n",
       "<table border=\"1\" class=\"dataframe\">\n",
       "  <thead>\n",
       "    <tr style=\"text-align: right;\">\n",
       "      <th></th>\n",
       "      <th>id</th>\n",
       "      <th>f0</th>\n",
       "      <th>f1</th>\n",
       "      <th>f2</th>\n",
       "      <th>product</th>\n",
       "    </tr>\n",
       "  </thead>\n",
       "  <tbody>\n",
       "    <tr>\n",
       "      <th>0</th>\n",
       "      <td>kBEdx</td>\n",
       "      <td>-15.001348</td>\n",
       "      <td>-8.276000</td>\n",
       "      <td>-0.005876</td>\n",
       "      <td>3.179103</td>\n",
       "    </tr>\n",
       "    <tr>\n",
       "      <th>1</th>\n",
       "      <td>62mP7</td>\n",
       "      <td>14.272088</td>\n",
       "      <td>-3.475083</td>\n",
       "      <td>0.999183</td>\n",
       "      <td>26.953261</td>\n",
       "    </tr>\n",
       "    <tr>\n",
       "      <th>2</th>\n",
       "      <td>vyE1P</td>\n",
       "      <td>6.263187</td>\n",
       "      <td>-5.948386</td>\n",
       "      <td>5.001160</td>\n",
       "      <td>134.766305</td>\n",
       "    </tr>\n",
       "    <tr>\n",
       "      <th>3</th>\n",
       "      <td>KcrkZ</td>\n",
       "      <td>-13.081196</td>\n",
       "      <td>-11.506057</td>\n",
       "      <td>4.999415</td>\n",
       "      <td>137.945408</td>\n",
       "    </tr>\n",
       "    <tr>\n",
       "      <th>4</th>\n",
       "      <td>AHL4O</td>\n",
       "      <td>12.702195</td>\n",
       "      <td>-8.147433</td>\n",
       "      <td>5.004363</td>\n",
       "      <td>134.766305</td>\n",
       "    </tr>\n",
       "    <tr>\n",
       "      <th>5</th>\n",
       "      <td>HHckp</td>\n",
       "      <td>-3.327590</td>\n",
       "      <td>-2.205276</td>\n",
       "      <td>3.003647</td>\n",
       "      <td>84.038886</td>\n",
       "    </tr>\n",
       "    <tr>\n",
       "      <th>6</th>\n",
       "      <td>h5Ujo</td>\n",
       "      <td>-11.142655</td>\n",
       "      <td>-10.133399</td>\n",
       "      <td>4.002382</td>\n",
       "      <td>110.992147</td>\n",
       "    </tr>\n",
       "    <tr>\n",
       "      <th>7</th>\n",
       "      <td>muH9x</td>\n",
       "      <td>4.234715</td>\n",
       "      <td>-0.001354</td>\n",
       "      <td>2.004588</td>\n",
       "      <td>53.906522</td>\n",
       "    </tr>\n",
       "    <tr>\n",
       "      <th>8</th>\n",
       "      <td>YiRkx</td>\n",
       "      <td>13.355129</td>\n",
       "      <td>-0.332068</td>\n",
       "      <td>4.998647</td>\n",
       "      <td>134.766305</td>\n",
       "    </tr>\n",
       "    <tr>\n",
       "      <th>9</th>\n",
       "      <td>jG6Gi</td>\n",
       "      <td>1.069227</td>\n",
       "      <td>-11.025667</td>\n",
       "      <td>4.997844</td>\n",
       "      <td>137.945408</td>\n",
       "    </tr>\n",
       "  </tbody>\n",
       "</table>\n",
       "</div>"
      ],
      "text/plain": [
       "      id         f0         f1        f2     product\n",
       "0  kBEdx -15.001348  -8.276000 -0.005876    3.179103\n",
       "1  62mP7  14.272088  -3.475083  0.999183   26.953261\n",
       "2  vyE1P   6.263187  -5.948386  5.001160  134.766305\n",
       "3  KcrkZ -13.081196 -11.506057  4.999415  137.945408\n",
       "4  AHL4O  12.702195  -8.147433  5.004363  134.766305\n",
       "5  HHckp  -3.327590  -2.205276  3.003647   84.038886\n",
       "6  h5Ujo -11.142655 -10.133399  4.002382  110.992147\n",
       "7  muH9x   4.234715  -0.001354  2.004588   53.906522\n",
       "8  YiRkx  13.355129  -0.332068  4.998647  134.766305\n",
       "9  jG6Gi   1.069227 -11.025667  4.997844  137.945408"
      ]
     },
     "metadata": {},
     "output_type": "display_data"
    },
    {
     "name": "stdout",
     "output_type": "stream",
     "text": [
      "---------------------------------------------------------------------------------------------------- \n",
      "\n",
      "<class 'pandas.core.frame.DataFrame'>\n",
      "RangeIndex: 100000 entries, 0 to 99999\n",
      "Data columns (total 5 columns):\n",
      " #   Column   Non-Null Count   Dtype  \n",
      "---  ------   --------------   -----  \n",
      " 0   id       100000 non-null  object \n",
      " 1   f0       100000 non-null  float64\n",
      " 2   f1       100000 non-null  float64\n",
      " 3   f2       100000 non-null  float64\n",
      " 4   product  100000 non-null  float64\n",
      "dtypes: float64(4), object(1)\n",
      "memory usage: 3.8+ MB\n"
     ]
    },
    {
     "data": {
      "text/plain": [
       "None"
      ]
     },
     "metadata": {},
     "output_type": "display_data"
    },
    {
     "name": "stdout",
     "output_type": "stream",
     "text": [
      "---------------------------------------------------------------------------------------------------- \n",
      "\n",
      "Всего явных дубликатов: 0\n",
      "---------------------------------------------------------------------------------------------------- \n",
      "\n",
      "Количество пропусков:\n"
     ]
    },
    {
     "data": {
      "text/plain": [
       "id         0\n",
       "f0         0\n",
       "f1         0\n",
       "f2         0\n",
       "product    0\n",
       "dtype: int64"
      ]
     },
     "metadata": {},
     "output_type": "display_data"
    },
    {
     "name": "stdout",
     "output_type": "stream",
     "text": [
      "Нулевые значения:\n",
      "id         0\n",
      "f0         0\n",
      "f1         0\n",
      "f2         0\n",
      "product    0\n",
      "dtype: int64\n",
      "---------------------------------------------------------------------------------------------------- \n",
      "\n",
      "Основная статистика:\n"
     ]
    },
    {
     "data": {
      "text/html": [
       "<div>\n",
       "<style scoped>\n",
       "    .dataframe tbody tr th:only-of-type {\n",
       "        vertical-align: middle;\n",
       "    }\n",
       "\n",
       "    .dataframe tbody tr th {\n",
       "        vertical-align: top;\n",
       "    }\n",
       "\n",
       "    .dataframe thead th {\n",
       "        text-align: right;\n",
       "    }\n",
       "</style>\n",
       "<table border=\"1\" class=\"dataframe\">\n",
       "  <thead>\n",
       "    <tr style=\"text-align: right;\">\n",
       "      <th></th>\n",
       "      <th>f0</th>\n",
       "      <th>f1</th>\n",
       "      <th>f2</th>\n",
       "      <th>product</th>\n",
       "    </tr>\n",
       "  </thead>\n",
       "  <tbody>\n",
       "    <tr>\n",
       "      <th>count</th>\n",
       "      <td>100000.000000</td>\n",
       "      <td>100000.000000</td>\n",
       "      <td>100000.000000</td>\n",
       "      <td>100000.000000</td>\n",
       "    </tr>\n",
       "    <tr>\n",
       "      <th>mean</th>\n",
       "      <td>1.141296</td>\n",
       "      <td>-4.796579</td>\n",
       "      <td>2.494541</td>\n",
       "      <td>68.825000</td>\n",
       "    </tr>\n",
       "    <tr>\n",
       "      <th>std</th>\n",
       "      <td>8.965932</td>\n",
       "      <td>5.119872</td>\n",
       "      <td>1.703572</td>\n",
       "      <td>45.944423</td>\n",
       "    </tr>\n",
       "    <tr>\n",
       "      <th>min</th>\n",
       "      <td>-31.609576</td>\n",
       "      <td>-26.358598</td>\n",
       "      <td>-0.018144</td>\n",
       "      <td>0.000000</td>\n",
       "    </tr>\n",
       "    <tr>\n",
       "      <th>25%</th>\n",
       "      <td>-6.298551</td>\n",
       "      <td>-8.267985</td>\n",
       "      <td>1.000021</td>\n",
       "      <td>26.953261</td>\n",
       "    </tr>\n",
       "    <tr>\n",
       "      <th>50%</th>\n",
       "      <td>1.153055</td>\n",
       "      <td>-4.813172</td>\n",
       "      <td>2.011479</td>\n",
       "      <td>57.085625</td>\n",
       "    </tr>\n",
       "    <tr>\n",
       "      <th>75%</th>\n",
       "      <td>8.621015</td>\n",
       "      <td>-1.332816</td>\n",
       "      <td>3.999904</td>\n",
       "      <td>107.813044</td>\n",
       "    </tr>\n",
       "    <tr>\n",
       "      <th>max</th>\n",
       "      <td>29.421755</td>\n",
       "      <td>18.734063</td>\n",
       "      <td>5.019721</td>\n",
       "      <td>137.945408</td>\n",
       "    </tr>\n",
       "  </tbody>\n",
       "</table>\n",
       "</div>"
      ],
      "text/plain": [
       "                  f0             f1             f2        product\n",
       "count  100000.000000  100000.000000  100000.000000  100000.000000\n",
       "mean        1.141296      -4.796579       2.494541      68.825000\n",
       "std         8.965932       5.119872       1.703572      45.944423\n",
       "min       -31.609576     -26.358598      -0.018144       0.000000\n",
       "25%        -6.298551      -8.267985       1.000021      26.953261\n",
       "50%         1.153055      -4.813172       2.011479      57.085625\n",
       "75%         8.621015      -1.332816       3.999904     107.813044\n",
       "max        29.421755      18.734063       5.019721     137.945408"
      ]
     },
     "metadata": {},
     "output_type": "display_data"
    },
    {
     "name": "stdout",
     "output_type": "stream",
     "text": [
      "---------------------------------------------------------------------------------------------------- \n",
      "\n",
      "Корреляция Пирсона:\n"
     ]
    },
    {
     "data": {
      "text/html": [
       "<div>\n",
       "<style scoped>\n",
       "    .dataframe tbody tr th:only-of-type {\n",
       "        vertical-align: middle;\n",
       "    }\n",
       "\n",
       "    .dataframe tbody tr th {\n",
       "        vertical-align: top;\n",
       "    }\n",
       "\n",
       "    .dataframe thead th {\n",
       "        text-align: right;\n",
       "    }\n",
       "</style>\n",
       "<table border=\"1\" class=\"dataframe\">\n",
       "  <thead>\n",
       "    <tr style=\"text-align: right;\">\n",
       "      <th></th>\n",
       "      <th>f0</th>\n",
       "      <th>f1</th>\n",
       "      <th>f2</th>\n",
       "      <th>product</th>\n",
       "    </tr>\n",
       "  </thead>\n",
       "  <tbody>\n",
       "    <tr>\n",
       "      <th>f0</th>\n",
       "      <td>1.000000</td>\n",
       "      <td>0.182287</td>\n",
       "      <td>-0.001777</td>\n",
       "      <td>-0.030491</td>\n",
       "    </tr>\n",
       "    <tr>\n",
       "      <th>f1</th>\n",
       "      <td>0.182287</td>\n",
       "      <td>1.000000</td>\n",
       "      <td>-0.002595</td>\n",
       "      <td>-0.010155</td>\n",
       "    </tr>\n",
       "    <tr>\n",
       "      <th>f2</th>\n",
       "      <td>-0.001777</td>\n",
       "      <td>-0.002595</td>\n",
       "      <td>1.000000</td>\n",
       "      <td>0.999397</td>\n",
       "    </tr>\n",
       "    <tr>\n",
       "      <th>product</th>\n",
       "      <td>-0.030491</td>\n",
       "      <td>-0.010155</td>\n",
       "      <td>0.999397</td>\n",
       "      <td>1.000000</td>\n",
       "    </tr>\n",
       "  </tbody>\n",
       "</table>\n",
       "</div>"
      ],
      "text/plain": [
       "               f0        f1        f2   product\n",
       "f0       1.000000  0.182287 -0.001777 -0.030491\n",
       "f1       0.182287  1.000000 -0.002595 -0.010155\n",
       "f2      -0.001777 -0.002595  1.000000  0.999397\n",
       "product -0.030491 -0.010155  0.999397  1.000000"
      ]
     },
     "metadata": {},
     "output_type": "display_data"
    },
    {
     "name": "stdout",
     "output_type": "stream",
     "text": [
      "---------------------------------------------------------------------------------------------------- \n",
      "\n",
      "Гистограммы распределения признаков:\n"
     ]
    },
    {
     "data": {
      "image/png": "[encoded data removed]",
      "text/plain": [
       "<Figure size 1080x576 with 4 Axes>"
      ]
     },
     "metadata": {
      "needs_background": "light"
     },
     "output_type": "display_data"
    }
   ],
   "source": [
    "basic_properties(df_2)"
   ]
  },
  {
   "cell_type": "markdown",
   "metadata": {},
   "source": [
    "1. Наблюдаем высокую корреляцию Пирсона признака f2 с объемами запасов нефти (product), 0.999397, можно сказать - прямую.\n",
    "2. Показания среднего и медианы во всем признаках примерно равны, кроме целевого признака - медиана на 17% ниже по показателю чем среднее\n",
    "3. В целом значения признаков f0, f2 не похожи на нормальное распределение, нужно будет привести их к нормальному\n",
    "4. Распределения признаков на гистограммах снова симметричны - что является следствием синтетичности данных"
   ]
  },
  {
   "cell_type": "markdown",
   "metadata": {},
   "source": [
    "### Основные показатели по данным геологоразведки 3-ого региона"
   ]
  },
  {
   "cell_type": "code",
   "execution_count": 7,
   "metadata": {
    "scrolled": false
   },
   "outputs": [
    {
     "name": "stdout",
     "output_type": "stream",
     "text": [
      "Размер датасета: (100000, 5)\n"
     ]
    },
    {
     "data": {
      "text/html": [
       "<div>\n",
       "<style scoped>\n",
       "    .dataframe tbody tr th:only-of-type {\n",
       "        vertical-align: middle;\n",
       "    }\n",
       "\n",
       "    .dataframe tbody tr th {\n",
       "        vertical-align: top;\n",
       "    }\n",
       "\n",
       "    .dataframe thead th {\n",
       "        text-align: right;\n",
       "    }\n",
       "</style>\n",
       "<table border=\"1\" class=\"dataframe\">\n",
       "  <thead>\n",
       "    <tr style=\"text-align: right;\">\n",
       "      <th></th>\n",
       "      <th>id</th>\n",
       "      <th>f0</th>\n",
       "      <th>f1</th>\n",
       "      <th>f2</th>\n",
       "      <th>product</th>\n",
       "    </tr>\n",
       "  </thead>\n",
       "  <tbody>\n",
       "    <tr>\n",
       "      <th>0</th>\n",
       "      <td>fwXo0</td>\n",
       "      <td>-1.146987</td>\n",
       "      <td>0.963328</td>\n",
       "      <td>-0.828965</td>\n",
       "      <td>27.758673</td>\n",
       "    </tr>\n",
       "    <tr>\n",
       "      <th>1</th>\n",
       "      <td>WJtFt</td>\n",
       "      <td>0.262778</td>\n",
       "      <td>0.269839</td>\n",
       "      <td>-2.530187</td>\n",
       "      <td>56.069697</td>\n",
       "    </tr>\n",
       "    <tr>\n",
       "      <th>2</th>\n",
       "      <td>ovLUW</td>\n",
       "      <td>0.194587</td>\n",
       "      <td>0.289035</td>\n",
       "      <td>-5.586433</td>\n",
       "      <td>62.871910</td>\n",
       "    </tr>\n",
       "    <tr>\n",
       "      <th>3</th>\n",
       "      <td>q6cA6</td>\n",
       "      <td>2.236060</td>\n",
       "      <td>-0.553760</td>\n",
       "      <td>0.930038</td>\n",
       "      <td>114.572842</td>\n",
       "    </tr>\n",
       "    <tr>\n",
       "      <th>4</th>\n",
       "      <td>WPMUX</td>\n",
       "      <td>-0.515993</td>\n",
       "      <td>1.716266</td>\n",
       "      <td>5.899011</td>\n",
       "      <td>149.600746</td>\n",
       "    </tr>\n",
       "    <tr>\n",
       "      <th>5</th>\n",
       "      <td>LzZXx</td>\n",
       "      <td>-0.758092</td>\n",
       "      <td>0.710691</td>\n",
       "      <td>2.585887</td>\n",
       "      <td>90.222465</td>\n",
       "    </tr>\n",
       "    <tr>\n",
       "      <th>6</th>\n",
       "      <td>WBHRv</td>\n",
       "      <td>-0.574891</td>\n",
       "      <td>0.317727</td>\n",
       "      <td>1.773745</td>\n",
       "      <td>45.641478</td>\n",
       "    </tr>\n",
       "    <tr>\n",
       "      <th>7</th>\n",
       "      <td>XO8fn</td>\n",
       "      <td>-1.906649</td>\n",
       "      <td>-2.458350</td>\n",
       "      <td>-0.177097</td>\n",
       "      <td>72.480640</td>\n",
       "    </tr>\n",
       "    <tr>\n",
       "      <th>8</th>\n",
       "      <td>ybmQ5</td>\n",
       "      <td>1.776292</td>\n",
       "      <td>-0.279356</td>\n",
       "      <td>3.004156</td>\n",
       "      <td>106.616832</td>\n",
       "    </tr>\n",
       "    <tr>\n",
       "      <th>9</th>\n",
       "      <td>OilcN</td>\n",
       "      <td>-1.214452</td>\n",
       "      <td>-0.439314</td>\n",
       "      <td>5.922514</td>\n",
       "      <td>52.954532</td>\n",
       "    </tr>\n",
       "  </tbody>\n",
       "</table>\n",
       "</div>"
      ],
      "text/plain": [
       "      id        f0        f1        f2     product\n",
       "0  fwXo0 -1.146987  0.963328 -0.828965   27.758673\n",
       "1  WJtFt  0.262778  0.269839 -2.530187   56.069697\n",
       "2  ovLUW  0.194587  0.289035 -5.586433   62.871910\n",
       "3  q6cA6  2.236060 -0.553760  0.930038  114.572842\n",
       "4  WPMUX -0.515993  1.716266  5.899011  149.600746\n",
       "5  LzZXx -0.758092  0.710691  2.585887   90.222465\n",
       "6  WBHRv -0.574891  0.317727  1.773745   45.641478\n",
       "7  XO8fn -1.906649 -2.458350 -0.177097   72.480640\n",
       "8  ybmQ5  1.776292 -0.279356  3.004156  106.616832\n",
       "9  OilcN -1.214452 -0.439314  5.922514   52.954532"
      ]
     },
     "metadata": {},
     "output_type": "display_data"
    },
    {
     "name": "stdout",
     "output_type": "stream",
     "text": [
      "---------------------------------------------------------------------------------------------------- \n",
      "\n",
      "<class 'pandas.core.frame.DataFrame'>\n",
      "RangeIndex: 100000 entries, 0 to 99999\n",
      "Data columns (total 5 columns):\n",
      " #   Column   Non-Null Count   Dtype  \n",
      "---  ------   --------------   -----  \n",
      " 0   id       100000 non-null  object \n",
      " 1   f0       100000 non-null  float64\n",
      " 2   f1       100000 non-null  float64\n",
      " 3   f2       100000 non-null  float64\n",
      " 4   product  100000 non-null  float64\n",
      "dtypes: float64(4), object(1)\n",
      "memory usage: 3.8+ MB\n"
     ]
    },
    {
     "data": {
      "text/plain": [
       "None"
      ]
     },
     "metadata": {},
     "output_type": "display_data"
    },
    {
     "name": "stdout",
     "output_type": "stream",
     "text": [
      "---------------------------------------------------------------------------------------------------- \n",
      "\n",
      "Всего явных дубликатов: 0\n",
      "---------------------------------------------------------------------------------------------------- \n",
      "\n",
      "Количество пропусков:\n"
     ]
    },
    {
     "data": {
      "text/plain": [
       "id         0\n",
       "f0         0\n",
       "f1         0\n",
       "f2         0\n",
       "product    0\n",
       "dtype: int64"
      ]
     },
     "metadata": {},
     "output_type": "display_data"
    },
    {
     "name": "stdout",
     "output_type": "stream",
     "text": [
      "Нулевые значения:\n",
      "id         0\n",
      "f0         0\n",
      "f1         0\n",
      "f2         0\n",
      "product    0\n",
      "dtype: int64\n",
      "---------------------------------------------------------------------------------------------------- \n",
      "\n",
      "Основная статистика:\n"
     ]
    },
    {
     "data": {
      "text/html": [
       "<div>\n",
       "<style scoped>\n",
       "    .dataframe tbody tr th:only-of-type {\n",
       "        vertical-align: middle;\n",
       "    }\n",
       "\n",
       "    .dataframe tbody tr th {\n",
       "        vertical-align: top;\n",
       "    }\n",
       "\n",
       "    .dataframe thead th {\n",
       "        text-align: right;\n",
       "    }\n",
       "</style>\n",
       "<table border=\"1\" class=\"dataframe\">\n",
       "  <thead>\n",
       "    <tr style=\"text-align: right;\">\n",
       "      <th></th>\n",
       "      <th>f0</th>\n",
       "      <th>f1</th>\n",
       "      <th>f2</th>\n",
       "      <th>product</th>\n",
       "    </tr>\n",
       "  </thead>\n",
       "  <tbody>\n",
       "    <tr>\n",
       "      <th>count</th>\n",
       "      <td>100000.000000</td>\n",
       "      <td>100000.000000</td>\n",
       "      <td>100000.000000</td>\n",
       "      <td>100000.000000</td>\n",
       "    </tr>\n",
       "    <tr>\n",
       "      <th>mean</th>\n",
       "      <td>0.002023</td>\n",
       "      <td>-0.002081</td>\n",
       "      <td>2.495128</td>\n",
       "      <td>95.000000</td>\n",
       "    </tr>\n",
       "    <tr>\n",
       "      <th>std</th>\n",
       "      <td>1.732045</td>\n",
       "      <td>1.730417</td>\n",
       "      <td>3.473445</td>\n",
       "      <td>44.749921</td>\n",
       "    </tr>\n",
       "    <tr>\n",
       "      <th>min</th>\n",
       "      <td>-8.760004</td>\n",
       "      <td>-7.084020</td>\n",
       "      <td>-11.970335</td>\n",
       "      <td>0.000000</td>\n",
       "    </tr>\n",
       "    <tr>\n",
       "      <th>25%</th>\n",
       "      <td>-1.162288</td>\n",
       "      <td>-1.174820</td>\n",
       "      <td>0.130359</td>\n",
       "      <td>59.450441</td>\n",
       "    </tr>\n",
       "    <tr>\n",
       "      <th>50%</th>\n",
       "      <td>0.009424</td>\n",
       "      <td>-0.009482</td>\n",
       "      <td>2.484236</td>\n",
       "      <td>94.925613</td>\n",
       "    </tr>\n",
       "    <tr>\n",
       "      <th>75%</th>\n",
       "      <td>1.158535</td>\n",
       "      <td>1.163678</td>\n",
       "      <td>4.858794</td>\n",
       "      <td>130.595027</td>\n",
       "    </tr>\n",
       "    <tr>\n",
       "      <th>max</th>\n",
       "      <td>7.238262</td>\n",
       "      <td>7.844801</td>\n",
       "      <td>16.739402</td>\n",
       "      <td>190.029838</td>\n",
       "    </tr>\n",
       "  </tbody>\n",
       "</table>\n",
       "</div>"
      ],
      "text/plain": [
       "                  f0             f1             f2        product\n",
       "count  100000.000000  100000.000000  100000.000000  100000.000000\n",
       "mean        0.002023      -0.002081       2.495128      95.000000\n",
       "std         1.732045       1.730417       3.473445      44.749921\n",
       "min        -8.760004      -7.084020     -11.970335       0.000000\n",
       "25%        -1.162288      -1.174820       0.130359      59.450441\n",
       "50%         0.009424      -0.009482       2.484236      94.925613\n",
       "75%         1.158535       1.163678       4.858794     130.595027\n",
       "max         7.238262       7.844801      16.739402     190.029838"
      ]
     },
     "metadata": {},
     "output_type": "display_data"
    },
    {
     "name": "stdout",
     "output_type": "stream",
     "text": [
      "---------------------------------------------------------------------------------------------------- \n",
      "\n",
      "Корреляция Пирсона:\n"
     ]
    },
    {
     "data": {
      "text/html": [
       "<div>\n",
       "<style scoped>\n",
       "    .dataframe tbody tr th:only-of-type {\n",
       "        vertical-align: middle;\n",
       "    }\n",
       "\n",
       "    .dataframe tbody tr th {\n",
       "        vertical-align: top;\n",
       "    }\n",
       "\n",
       "    .dataframe thead th {\n",
       "        text-align: right;\n",
       "    }\n",
       "</style>\n",
       "<table border=\"1\" class=\"dataframe\">\n",
       "  <thead>\n",
       "    <tr style=\"text-align: right;\">\n",
       "      <th></th>\n",
       "      <th>f0</th>\n",
       "      <th>f1</th>\n",
       "      <th>f2</th>\n",
       "      <th>product</th>\n",
       "    </tr>\n",
       "  </thead>\n",
       "  <tbody>\n",
       "    <tr>\n",
       "      <th>f0</th>\n",
       "      <td>1.000000</td>\n",
       "      <td>0.000528</td>\n",
       "      <td>-0.000448</td>\n",
       "      <td>-0.001987</td>\n",
       "    </tr>\n",
       "    <tr>\n",
       "      <th>f1</th>\n",
       "      <td>0.000528</td>\n",
       "      <td>1.000000</td>\n",
       "      <td>0.000779</td>\n",
       "      <td>-0.001012</td>\n",
       "    </tr>\n",
       "    <tr>\n",
       "      <th>f2</th>\n",
       "      <td>-0.000448</td>\n",
       "      <td>0.000779</td>\n",
       "      <td>1.000000</td>\n",
       "      <td>0.445871</td>\n",
       "    </tr>\n",
       "    <tr>\n",
       "      <th>product</th>\n",
       "      <td>-0.001987</td>\n",
       "      <td>-0.001012</td>\n",
       "      <td>0.445871</td>\n",
       "      <td>1.000000</td>\n",
       "    </tr>\n",
       "  </tbody>\n",
       "</table>\n",
       "</div>"
      ],
      "text/plain": [
       "               f0        f1        f2   product\n",
       "f0       1.000000  0.000528 -0.000448 -0.001987\n",
       "f1       0.000528  1.000000  0.000779 -0.001012\n",
       "f2      -0.000448  0.000779  1.000000  0.445871\n",
       "product -0.001987 -0.001012  0.445871  1.000000"
      ]
     },
     "metadata": {},
     "output_type": "display_data"
    },
    {
     "name": "stdout",
     "output_type": "stream",
     "text": [
      "---------------------------------------------------------------------------------------------------- \n",
      "\n",
      "Гистограммы распределения признаков:\n"
     ]
    },
    {
     "data": {
      "image/png": "[encoded data removed]",
      "text/plain": [
       "<Figure size 1080x576 with 4 Axes>"
      ]
     },
     "metadata": {
      "needs_background": "light"
     },
     "output_type": "display_data"
    }
   ],
   "source": [
    "basic_properties(df_3)"
   ]
  },
  {
   "cell_type": "markdown",
   "metadata": {},
   "source": [
    "1. Наблюдаем заметную корреляцию Пирсона признака f2 с объемами запасов нефти (product) - 0.445871\n",
    "2. Распределения признаков на гистограммах симметричны - что является следствием синтетичности данных\n",
    "3. В этом регионе признаки имеют нормальное распределение значений"
   ]
  },
  {
   "cell_type": "markdown",
   "metadata": {},
   "source": [
    "### Удаление ненужного столбца\n",
    "\n",
    "Во всех датафреймах удалим столбец id - он не влияет на исследование:"
   ]
  },
  {
   "cell_type": "code",
   "execution_count": 8,
   "metadata": {},
   "outputs": [],
   "source": [
    "df_1 = df_1.drop(['id'], axis=1)\n",
    "df_2 = df_2.drop(['id'], axis=1)\n",
    "df_3 = df_3.drop(['id'], axis=1)"
   ]
  },
  {
   "cell_type": "markdown",
   "metadata": {},
   "source": [
    "### Вывод:\n",
    "1. Данные не содержат дубликатов, пропусков, нарушений хорошего стиля, в целом, изначально хорошо подготовлены\n",
    "2. Удален столбец 'id' во всех трех датафреймах, т к не несет нужной информации доля исследования\n",
    "3. Распределения признаков на гистограммах симметричны - что является следствием синтетичности данных\n",
    "4. Наиболее высокая корреляция Пирсона наблюдается по признаку f2  с объемами запасов нефти (product) во всех регионах, во 2ом регионе прямая зависимость- 0.999397\n",
    "5. в 1ом и 2ом регионе признаки распределены отлично от нормального распределения, в 3ем регионе - у признаков нормальное распределение.\n"
   ]
  },
  {
   "cell_type": "markdown",
   "metadata": {},
   "source": [
    "## Обучение и проверка модели"
   ]
  },
  {
   "cell_type": "markdown",
   "metadata": {},
   "source": [
    "Для обучения модели подходит только линейная регрессия (остальные — недостаточно предсказуемые)."
   ]
  },
  {
   "cell_type": "code",
   "execution_count": 9,
   "metadata": {},
   "outputs": [
    {
     "name": "stdout",
     "output_type": "stream",
     "text": [
      "Для 1ого региона:\n",
      "Средний объем прогнозируемого сырья: 92.59256778438035\n",
      "RMSE: 37.5794217150813\n"
     ]
    }
   ],
   "source": [
    "target_1 = df_1['product']\n",
    "features_1 = df_1.drop('product', axis=1)\n",
    "features_train_1, features_valid_1, target_train_1, target_valid_1 = train_test_split(\n",
    "features_1, target_1, test_size=0.25, random_state=12345)\n",
    "\n",
    "model_1 = LinearRegression()\n",
    "model_1.fit(features_train_1, target_train_1)\n",
    "    \n",
    "prediction_valid_1 = model_1.predict(features_valid_1)\n",
    "\n",
    "    \n",
    "avg_predicted_volume_1 = prediction_valid_1.mean()\n",
    "rmse_1 = mean_squared_error(target_valid_1, prediction_valid_1, squared=False)  \n",
    "    \n",
    "print('Для 1ого региона:') \n",
    "print('Средний объем прогнозируемого сырья:', avg_predicted_volume_1)\n",
    "print('RMSE:', rmse_1)\n"
   ]
  },
  {
   "cell_type": "code",
   "execution_count": 10,
   "metadata": {},
   "outputs": [
    {
     "name": "stdout",
     "output_type": "stream",
     "text": [
      "Для 2ого региона:\n",
      "Средний объем прогнозируемого сырья: 68.728546895446\n",
      "RMSE: 0.893099286775617\n"
     ]
    }
   ],
   "source": [
    "target_2 = df_2['product']\n",
    "features_2 = df_2.drop('product', axis=1)\n",
    "features_train_2, features_valid_2, target_train_2, target_valid_2 = train_test_split(\n",
    "features_2, target_2, test_size=0.25, random_state=12345)\n",
    "\n",
    "model_2 = LinearRegression()\n",
    "model_2.fit(features_train_2, target_train_2)\n",
    "    \n",
    "prediction_valid_2 = model_2.predict(features_valid_2)\n",
    "prediction_full_2 = model_2.predict(features_2)\n",
    "    \n",
    "avg_predicted_volume_2 = prediction_valid_2.mean()\n",
    "rmse_2 = mean_squared_error(target_valid_2, prediction_valid_2, squared=False)  \n",
    "    \n",
    "print('Для 2ого региона:') \n",
    "print('Средний объем прогнозируемого сырья:', avg_predicted_volume_2)\n",
    "print('RMSE:', rmse_2)\n"
   ]
  },
  {
   "cell_type": "code",
   "execution_count": 11,
   "metadata": {},
   "outputs": [
    {
     "name": "stdout",
     "output_type": "stream",
     "text": [
      "Для 3eго региона:\n",
      "Средний объем прогнозируемого сырья: 94.96504596800489\n",
      "RMSE: 40.02970873393434\n"
     ]
    }
   ],
   "source": [
    "target_3 = df_3['product']\n",
    "features_3 = df_3.drop('product', axis=1)\n",
    "features_train_3, features_valid_3, target_train_3, target_valid_3 = train_test_split(\n",
    "features_3, target_3, test_size=0.25, random_state=12345)\n",
    "\n",
    "model_3 = LinearRegression()\n",
    "model_3.fit(features_train_3, target_train_3)\n",
    "    \n",
    "prediction_valid_3 = model_3.predict(features_valid_3)\n",
    "prediction_full_3 = model_3.predict(features_3)\n",
    "    \n",
    "avg_predicted_volume_3 = prediction_valid_3.mean()\n",
    "rmse_3 = mean_squared_error(target_valid_3, prediction_valid_3, squared=False)  \n",
    "    \n",
    "print('Для 3eго региона:') \n",
    "print('Средний объем прогнозируемого сырья:', avg_predicted_volume_3)\n",
    "print('RMSE:', rmse_3)\n"
   ]
  },
  {
   "cell_type": "markdown",
   "metadata": {},
   "source": [
    "### Вывод:\n",
    "* Как предполагалось, во 2ом регионе показатель RMSE (0.893) выше всего, это связано скорее всего с прямой корреляцией по признаку f2, которую выявили ранее. \n",
    "* Самый низкий показатель RMSE (37.57) в 1 регионе\n",
    "* Средний объем прогнозируемого по валидационной выборке сырья больше у 1(92.59) и 3(94.96) регионов, у второго заметно ниже - (68.72), но это не основной показатель, посмотрим данные на лучших 200 скважинах"
   ]
  },
  {
   "cell_type": "markdown",
   "metadata": {},
   "source": [
    "## Подготовка к расчёту прибыли"
   ]
  },
  {
   "cell_type": "markdown",
   "metadata": {},
   "source": [
    "**Создадим необходимые переменные для расчета бизнес-метрик:**\n",
    "* OBJECTS - 500 - точки скважин в каждом регионе\n",
    "* SELECTED_OBJECTS - 200 шт - лучшие точки региона для разработки \n",
    "* BUDGET — 10 млрд рублей - бюджет на разработку скважин в регионе\n",
    "* cost_one_well - стоимость разработки одной скважины\n",
    "* revenue_1000_barrels - 450 тыс рублей - доход с одной тысячи баррелей\n",
    "* damages_threshold - 2.5% - пороговое значение вероятности убытков  "
   ]
  },
  {
   "cell_type": "code",
   "execution_count": 12,
   "metadata": {},
   "outputs": [
    {
     "name": "stdout",
     "output_type": "stream",
     "text": [
      "Стоимость разработки одной скважины: 50000000 рублей\n"
     ]
    }
   ],
   "source": [
    "OBJECTS = 500\n",
    "SELECTED_OBJECTS = 200\n",
    "BUDGET = 10_000_000_000\n",
    "cost_one_well = BUDGET /SELECTED_OBJECTS\n",
    "REVENUE_1000_BARRELS = 450_000\n",
    "damages_threshold = 0.025\n",
    "print('Стоимость разработки одной скважины: %.0f'%cost_one_well, 'рублей')"
   ]
  },
  {
   "cell_type": "markdown",
   "metadata": {},
   "source": [
    "**Рассчитаем средний объем сырья в каждом регионе по изначальным данным:**"
   ]
  },
  {
   "cell_type": "code",
   "execution_count": 13,
   "metadata": {},
   "outputs": [
    {
     "name": "stdout",
     "output_type": "stream",
     "text": [
      "Средний объем сырья в 1ом регионе по предоставленным данным: 92.50\n",
      "Средний объем сырья во 2ом регионе по предоставленным данным: 68.83\n",
      "Средний объем сырья в 3ем регионе по предоставленным данным: 95.00\n"
     ]
    }
   ],
   "source": [
    "volume_product_1 = df_1['product'].mean()\n",
    "volume_product_2 = df_2['product'].mean()\n",
    "volume_product_3 = df_3['product'].mean()\n",
    "print('Средний объем сырья в 1ом регионе по предоставленным данным: %.2f'%volume_product_1)\n",
    "print('Средний объем сырья во 2ом регионе по предоставленным данным: %.2f'%volume_product_2)\n",
    "print('Средний объем сырья в 3ем регионе по предоставленным данным: %.2f'%volume_product_3)"
   ]
  },
  {
   "cell_type": "markdown",
   "metadata": {},
   "source": [
    "**Рассчитаем объем сырья для безубыточной разработки  1ой скважины и региона:**"
   ]
  },
  {
   "cell_type": "code",
   "execution_count": 14,
   "metadata": {},
   "outputs": [
    {
     "name": "stdout",
     "output_type": "stream",
     "text": [
      "Oбъем сырья для безубыточной разработки скважины: 111.11 тыс. баррелей\n",
      "Oбщий объем сырья для безубыточной разработки скважин в одном регионе: 22222.22 тыс. баррелей\n"
     ]
    }
   ],
   "source": [
    "perfect_volume_product =  BUDGET / (REVENUE_1000_BARRELS * SELECTED_OBJECTS)\n",
    "perfect_volume_product_region = BUDGET / REVENUE_1000_BARRELS\n",
    "print('Oбъем сырья для безубыточной разработки скважины: %.2f'%perfect_volume_product,'тыс. баррелей' )\n",
    "print('Oбщий объем сырья для безубыточной разработки скважин в одном регионе: %.2f'%perfect_volume_product_region,'тыс. баррелей' )"
   ]
  },
  {
   "cell_type": "markdown",
   "metadata": {},
   "source": [
    "**Посмотрим сколько скважин в каждом регионе имеют объем сырья равный или больше пороговаого значения 111.11 тыс баррелей**"
   ]
  },
  {
   "cell_type": "code",
   "execution_count": 15,
   "metadata": {},
   "outputs": [
    {
     "name": "stdout",
     "output_type": "stream",
     "text": [
      "Доля скважин с объем сырья большим или равным 111.11 тыс баррелей в 1 регионе = 36.58%\n",
      "Доля скважин с объем сырья большим или равным 111.11 тыс баррелей в 1 регионе = 16.54%\n",
      "Доля скважин с объем сырья большим или равным 111.11 тыс баррелей в 1 регионе = 38.18%\n"
     ]
    }
   ],
   "source": [
    "print(f'Доля скважин с объем сырья большим или равным 111.11 тыс баррелей в 1 регионе = {len(df_1.query(\"product >= 111.11\")) / len(df_1):.2%}')\n",
    "print(f'Доля скважин с объем сырья большим или равным 111.11 тыс баррелей в 1 регионе = {len(df_2.query(\"product >= 111.11\")) / len(df_2):.2%}')\n",
    "print(f'Доля скважин с объем сырья большим или равным 111.11 тыс баррелей в 1 регионе = {len(df_3.query(\"product >= 111.11\")) / len(df_3):.2%}')\n"
   ]
  },
  {
   "cell_type": "markdown",
   "metadata": {},
   "source": [
    "200 скважин от 500 это 40%, в каждом регионе количество скважин с объем сырья большим или равным 111.11 тыс баррелей не достигает 40%"
   ]
  },
  {
   "cell_type": "markdown",
   "metadata": {},
   "source": [
    "## Расчёт прибыли и рисков "
   ]
  },
  {
   "cell_type": "markdown",
   "metadata": {},
   "source": [
    "### Расчет среднего объема по предсказанным 200 лучшим скважинам"
   ]
  },
  {
   "cell_type": "markdown",
   "metadata": {},
   "source": [
    "Переведем предсказания в объекты Series, отберем по 200 лучших скважин, расчитаем среднее: "
   ]
  },
  {
   "cell_type": "code",
   "execution_count": 16,
   "metadata": {},
   "outputs": [],
   "source": [
    "prediction_full_1 = pd.Series(model_1.predict(features_1))\n",
    "prediction_full_2 = pd.Series(model_2.predict(features_2))\n",
    "prediction_full_3 = pd.Series(model_3.predict(features_3))\n"
   ]
  },
  {
   "cell_type": "code",
   "execution_count": 17,
   "metadata": {
    "scrolled": true
   },
   "outputs": [
    {
     "name": "stdout",
     "output_type": "stream",
     "text": [
      "Регион 1: 163.2177352995591\n",
      "Регион 2: 139.16229068572267\n",
      "Регион 3: 156.26428434380662\n"
     ]
    }
   ],
   "source": [
    "print(\"Регион 1:\", prediction_full_1.sort_values(ascending=False)[:200].mean())\n",
    "print(\"Регион 2:\", prediction_full_2.sort_values(ascending=False)[:200].mean())\n",
    "print(\"Регион 3:\", prediction_full_3.sort_values(ascending=False)[:200].mean())"
   ]
  },
  {
   "cell_type": "markdown",
   "metadata": {},
   "source": [
    "В первом регионе самый высокий показатель по предсказанным 200 скважинам - 163.21\n"
   ]
  },
  {
   "cell_type": "markdown",
   "metadata": {},
   "source": [
    "### Напишем функцию для расчета выручки:"
   ]
  },
  {
   "cell_type": "markdown",
   "metadata": {},
   "source": [
    "Напишем функцию для расчёта прибыли по выбранным скважинам и предсказаниям модели:"
   ]
  },
  {
   "cell_type": "code",
   "execution_count": 18,
   "metadata": {},
   "outputs": [],
   "source": [
    "def profit(target, probabilities, count, REVENUE_1000_BARRELS, BUDGET):\n",
    "    probs_sorted = probabilities.sort_values(ascending=False).head(count)\n",
    "    selected = target[probs_sorted.index][:count]\n",
    "    profit = selected.sum() * REVENUE_1000_BARRELS - BUDGET\n",
    "    return profit\n",
    "\n",
    "def risk_of_loss (df):\n",
    "    return (df < 0).mean() * 100"
   ]
  },
  {
   "cell_type": "markdown",
   "metadata": {},
   "source": [
    "* Выбрали скважины с максимальными значениями предсказаний.\n",
    "* Просуммировали целевое значение объёма сырья, соответствующее этим предсказаниям.\n",
    "* Рассчитали прибыль для полученного объёма сырья."
   ]
  },
  {
   "cell_type": "markdown",
   "metadata": {},
   "source": [
    "### Расчитаем выручку по всем регионам:"
   ]
  },
  {
   "cell_type": "code",
   "execution_count": 19,
   "metadata": {
    "scrolled": false
   },
   "outputs": [
    {
     "name": "stdout",
     "output_type": "stream",
     "text": [
      "Для 1ого региона:\n",
      "Средняя прибыль с 200 лучших скважин, отобраных по предсказанию: 431092313.50 рублей.\n",
      "Доверительный интервал лежит между -70541767.30 - 979019659.05 рублей.\n",
      "Вероятность убытка в 1ом регионе: 5.1\n"
     ]
    },
    {
     "data": {
      "image/png": "[encoded data removed]",
      "text/plain": [
       "<Figure size 1080x576 with 1 Axes>"
      ]
     },
     "metadata": {
      "needs_background": "light"
     },
     "output_type": "display_data"
    }
   ],
   "source": [
    "state = np.random.RandomState(12345)\n",
    "\n",
    "values_1 = []\n",
    "    \n",
    "for _ in range(1000):\n",
    "    target_subsample = target_1.sample(n=objects, replace=True, random_state=state)\n",
    "    probs_subsample = prediction_full_1[target_subsample.index]\n",
    "    sample_revenue = profit(target_subsample, probs_subsample, SELECTED_OBJECTS, REVENUE_1000_BARRELS, BUDGET)\n",
    "    values_1.append(sample_revenue)\n",
    "        \n",
    "values_1 = pd.Series(values_1)\n",
    "mean_1 = values_1.mean()\n",
    "    \n",
    "lower_1 = values_1.quantile(0.025)\n",
    "upper_1 = values_1.quantile(0.975)    \n",
    "     \n",
    "print('Для 1ого региона:')\n",
    "print(f'Средняя прибыль с 200 лучших скважин, отобраных по предсказанию: {mean_1:.2f} рублей.')\n",
    "print(f'Доверительный интервал лежит между {lower_1:.2f} - {upper_1:.2f} рублей.')\n",
    "print(f'Вероятность убытка в 1ом регионе: {risk_of_loss(values_1)}')\n",
    "\n",
    "values_1.hist(figsize=(15, 8), bins=60, edgecolor='Black', color='LightGrey')\n",
    "plt.grid(True)\n",
    "plt.axvline(values_1.quantile(0.025), color='DarkGoldenRod')\n",
    "plt.axvline(values_1.quantile(0.975), color='DarkBlue')\n",
    "plt.legend(['Квантиль 2.5% для 95%-го доверительного интервала', \n",
    "                'Квантиль 97.5% для 95%-го доверительного интервала'])\n",
    "plt.xlabel('Прогнозируемая прибыль, руб.')\n",
    "plt.ylabel('Количество скважин из 200')\n",
    "plt.title('Распределение прибыли для 1ого региона ')\n",
    "plt.show()"
   ]
  },
  {
   "cell_type": "code",
   "execution_count": 20,
   "metadata": {},
   "outputs": [
    {
     "name": "stdout",
     "output_type": "stream",
     "text": [
      "Для 2ого региона:\n",
      "Средняя прибыль с 200 лучших скважин, отобраных по предсказанию: 450071682.61 рублей.\n",
      "Доверительный интервал лежит между 44596630.49 - 830796301.52 рублей.\n",
      "Вероятность убытка в 1ом регионе: 1.0\n"
     ]
    },
    {
     "data": {
      "image/png": "[encoded data removed]",
      "text/plain": [
       "<Figure size 1080x576 with 1 Axes>"
      ]
     },
     "metadata": {
      "needs_background": "light"
     },
     "output_type": "display_data"
    }
   ],
   "source": [
    "values_2 = []\n",
    "    \n",
    "for _ in range(1000):\n",
    "    target_subsample = target_2.sample(n=objects, replace=True, random_state=state)\n",
    "    probs_subsample = prediction_full_2[target_subsample.index]\n",
    "    sample_revenue = profit(target_subsample, probs_subsample, SELECTED_OBJECTS, REVENUE_1000_BARRELS, BUDGET)\n",
    "    values_2.append(sample_revenue)\n",
    "        \n",
    "values_2 = pd.Series(values_2)\n",
    "mean_2 = values_2.mean()\n",
    "    \n",
    "lower_2 = values_2.quantile(0.025)\n",
    "upper_2 = values_2.quantile(0.975)    \n",
    "     \n",
    "print('Для 2ого региона:')\n",
    "print(f'Средняя прибыль с 200 лучших скважин, отобраных по предсказанию: {mean_2:.2f} рублей.')\n",
    "print(f'Доверительный интервал лежит между {lower_2:.2f} - {upper_2:.2f} рублей.')\n",
    "print(f'Вероятность убытка в 1ом регионе: {risk_of_loss(values_2)}')\n",
    "\n",
    "values_2.hist(figsize=(15, 8), bins=60, edgecolor='Black', color='LightGrey')\n",
    "plt.grid(True)\n",
    "plt.axvline(values_2.quantile(0.025), color='DarkGoldenRod')\n",
    "plt.axvline(values_2.quantile(0.975), color='DarkBlue')\n",
    "plt.legend(['Квантиль 2.5% для 95%-го доверительного интервала', \n",
    "                'Квантиль 97.5% для 95%-го доверительного интервала'])\n",
    "plt.xlabel('Прогнозируемая прибыль, руб.')\n",
    "plt.ylabel('Количество скважин из 200')\n",
    "plt.title('Распределение прибыли для 2ого региона ')\n",
    "plt.show()"
   ]
  },
  {
   "cell_type": "code",
   "execution_count": 21,
   "metadata": {
    "scrolled": false
   },
   "outputs": [
    {
     "name": "stdout",
     "output_type": "stream",
     "text": [
      "Для 3ого региона:\n",
      "Средняя прибыль с 200 лучших скважин, отобраных по предсказанию: 392180188.43 рублей.\n",
      "Доверительный интервал лежит между -148308503.90 - 884150739.87 рублей.\n",
      "Вероятность убытка в 1ом регионе: 8.3\n"
     ]
    },
    {
     "data": {
      "image/png": "[encoded data removed]",
      "text/plain": [
       "<Figure size 1080x576 with 1 Axes>"
      ]
     },
     "metadata": {
      "needs_background": "light"
     },
     "output_type": "display_data"
    }
   ],
   "source": [
    "values_3 = []\n",
    "    \n",
    "for _ in range(1000):\n",
    "    target_subsample = target_3.sample(n=objects, replace=True, random_state=state)\n",
    "    probs_subsample = prediction_full_3[target_subsample.index]\n",
    "    sample_revenue = profit(target_subsample, probs_subsample, SELECTED_OBJECTS, REVENUE_1000_BARRELS, budget)\n",
    "    values_3.append(sample_revenue)\n",
    "        \n",
    "values_3 = pd.Series(values_3)\n",
    "mean_3 = values_3.mean()\n",
    "    \n",
    "lower_3 = values_3.quantile(0.025)\n",
    "upper_3 = values_3.quantile(0.975)    \n",
    "     \n",
    "print('Для 3ого региона:')\n",
    "print(f'Средняя прибыль с 200 лучших скважин, отобраных по предсказанию: {mean_3:.2f} рублей.')\n",
    "print(f'Доверительный интервал лежит между {lower_3:.2f} - {upper_3:.2f} рублей.')\n",
    "print(f'Вероятность убытка в 1ом регионе: {risk_of_loss(values_3)}')\n",
    "\n",
    "values_1.hist(figsize=(15, 8), bins=60, edgecolor='Black', color='LightGrey')\n",
    "plt.grid(True)\n",
    "plt.axvline(values_3.quantile(0.025), color='DarkGoldenRod')\n",
    "plt.axvline(values_3.quantile(0.975), color='DarkBlue')\n",
    "plt.legend(['Квантиль 2.5% для 95%-го доверительного интервала', \n",
    "                'Квантиль 97.5% для 95%-го доверительного интервала'])\n",
    "plt.xlabel('Прогнозируемая прибыль, руб.')\n",
    "plt.ylabel('Количество скважин из 200')\n",
    "plt.title('Распределение прибыли для 3ого региона ')\n",
    "plt.show()"
   ]
  },
  {
   "cell_type": "markdown",
   "metadata": {},
   "source": [
    "### Определение региона для разработки"
   ]
  },
  {
   "cell_type": "markdown",
   "metadata": {},
   "source": [
    "Соберем все полученые метрики в таблицу и сравним регионы:"
   ]
  },
  {
   "cell_type": "code",
   "execution_count": 22,
   "metadata": {},
   "outputs": [
    {
     "data": {
      "text/html": [
       "<div>\n",
       "<style scoped>\n",
       "    .dataframe tbody tr th:only-of-type {\n",
       "        vertical-align: middle;\n",
       "    }\n",
       "\n",
       "    .dataframe tbody tr th {\n",
       "        vertical-align: top;\n",
       "    }\n",
       "\n",
       "    .dataframe thead th {\n",
       "        text-align: right;\n",
       "    }\n",
       "</style>\n",
       "<table border=\"1\" class=\"dataframe\">\n",
       "  <thead>\n",
       "    <tr style=\"text-align: right;\">\n",
       "      <th></th>\n",
       "      <th>1ый регион</th>\n",
       "      <th>2ой регион</th>\n",
       "      <th>3ий регион</th>\n",
       "    </tr>\n",
       "  </thead>\n",
       "  <tbody>\n",
       "    <tr>\n",
       "      <th>Средняя прогнозируемая прибыль по лучшим 200 скважинам, млн.руб</th>\n",
       "      <td>431.09</td>\n",
       "      <td>472.21</td>\n",
       "      <td>372.77</td>\n",
       "    </tr>\n",
       "    <tr>\n",
       "      <th>Общий запас сырья по лучшим 200 скважинам, тыс.баррелей</th>\n",
       "      <td>163.21</td>\n",
       "      <td>139.16</td>\n",
       "      <td>156.26</td>\n",
       "    </tr>\n",
       "    <tr>\n",
       "      <th>Вероятность убытка, %</th>\n",
       "      <td>5.1</td>\n",
       "      <td>1.5</td>\n",
       "      <td>8.2</td>\n",
       "    </tr>\n",
       "  </tbody>\n",
       "</table>\n",
       "</div>"
      ],
      "text/plain": [
       "                                                   1ый регион 2ой регион  \\\n",
       "Средняя прогнозируемая прибыль по лучшим 200 ск...     431.09     472.21   \n",
       "Общий запас сырья по лучшим 200 скважинам, тыс....     163.21     139.16   \n",
       "Вероятность убытка, %                                     5.1        1.5   \n",
       "\n",
       "                                                   3ий регион  \n",
       "Средняя прогнозируемая прибыль по лучшим 200 ск...     372.77  \n",
       "Общий запас сырья по лучшим 200 скважинам, тыс....     156.26  \n",
       "Вероятность убытка, %                                     8.2  "
      ]
     },
     "execution_count": 22,
     "metadata": {},
     "output_type": "execute_result"
    }
   ],
   "source": [
    "result_df = pd.DataFrame(index=['Средняя прогнозируемая прибыль по лучшим 200 скважинам, млн.руб',\n",
    "                                'Общий запас сырья по лучшим 200 скважинам, тыс.баррелей','Вероятность убытка, %'], \n",
    "                         columns=['1ый регион','2ой регион','3ий регион'])\n",
    "result_df['1ый регион'] = '431.09', '163.21', '5.1'\n",
    "result_df['2ой регион'] = '472.21', '139.16', '1.5'\n",
    "result_df['3ий регион'] = '372.77', '156.26', '8.2'\n",
    "result_df"
   ]
  },
  {
   "cell_type": "markdown",
   "metadata": {},
   "source": [
    "Наилучший показатель по прогнозируемой выручке у региона №2, так же у этого региона наименьшая вероятность убытка - 1.5%. Два других региона не прошли порог вероятности убытка в 2.5%, поэтому, несмотря на меньшие запасы сырья по сравнению с 1 и 3 регионами, вероятность эффективной и прибыльной разработки выше у 2 ого региона."
   ]
  },
  {
   "cell_type": "markdown",
   "metadata": {},
   "source": [
    "### Итоговый вывод\n",
    "1. Данные не содержат дубликатов, пропусков, нарушений хорошего стиля, в целом, изначально  хорошо подготовлены\n",
    "2. Удален столбец 'id' во всех трех датафреймах, т к не несет нужной информации доля исследования\n",
    "3. Распределения признаков на гистограммах симметричны - что является следствием синтетичности данных\n",
    "4. Наиболее высокая корреляция Пирсона наблюдается по признаку f2 с объемами запасов нефти (product) во всех регионах, во 2ом регионе прямая зависимость- 0.999397\n",
    "5. В 1ом и 2ом регионе признаки распределены отлично от нормального распределения, в 3ем регионе - у признаков нормальное распределение.\n",
    "6. Как предполагалось, во 2ом регионе показатель RMSE (0.893) выше всего, это связано скорее всего с прямой корреляцией по признаку f2, которую выявили ранее.\n",
    "7. Самый низкий показатель RMSE (37.57) в 1 регионе\n",
    "8. Средний объем прогнозируемого по валидационной выборке сырья больше у 1(92.59) и 3(94.96) регионов, у второго заметно ниже - (68.72)\n",
    "9. Расчитали выручку и риск убыточности по всем регионам\n",
    "\n",
    "\n",
    "|метрики|1ый регион|2ой регион|3ий регион|\n",
    "|--------|---------|-----------|----------|\n",
    "|Средняя прогнозируемая прибыль по лучшим 200 скважинам, млн.руб|\t431.09|\t472.21|\t372.77|\n",
    "|Общий запас сырья по лучшим 200 скважинам, тыс.баррелей|\t163.21|\t139.16|\t156.26|\n",
    "|Вероятность убытка, %|\t5.1|1.5|\t8.2|\n",
    "\n",
    "**10. Наилучший показатель по прогнозируемой выручке у региона №2, так же у этого региона наименьшая вероятность убытка - 1.5%. Два других региона не прошли порог вероятности убытка в 2.5%, поэтому, несмотря на меньшие запасы сырья по сравнению с 1 и 3 регионами, вероятность эффективной и прибыльной разработки выше у 2 ого региона.**\n"
   ]
  }
 ],
 "metadata": {
  "ExecuteTimeLog": [
   {
    "duration": 48,
    "start_time": "2023-07-25T16:42:57.043Z"
   },
   {
    "duration": 1722,
    "start_time": "2023-07-25T16:43:02.334Z"
   },
   {
    "duration": 794,
    "start_time": "2023-07-25T16:43:04.058Z"
   },
   {
    "duration": 369,
    "start_time": "2023-07-25T16:45:15.949Z"
   },
   {
    "duration": 1698,
    "start_time": "2023-07-25T17:02:14.643Z"
   },
   {
    "duration": 777,
    "start_time": "2023-07-25T17:02:16.345Z"
   },
   {
    "duration": 233,
    "start_time": "2023-07-25T17:02:17.124Z"
   },
   {
    "duration": 53,
    "start_time": "2023-07-25T17:03:42.335Z"
   },
   {
    "duration": 115,
    "start_time": "2023-07-25T17:04:02.145Z"
   },
   {
    "duration": 1059,
    "start_time": "2023-07-25T17:04:38.189Z"
   },
   {
    "duration": 1306,
    "start_time": "2023-07-25T17:05:01.619Z"
   },
   {
    "duration": 1068,
    "start_time": "2023-07-25T17:06:30.581Z"
   },
   {
    "duration": 1177,
    "start_time": "2023-07-25T17:06:42.125Z"
   },
   {
    "duration": 1094,
    "start_time": "2023-07-25T17:07:02.160Z"
   },
   {
    "duration": 1274,
    "start_time": "2023-07-25T17:07:55.959Z"
   },
   {
    "duration": 1033,
    "start_time": "2023-07-25T17:08:13.004Z"
   },
   {
    "duration": 1219,
    "start_time": "2023-07-25T17:08:34.328Z"
   },
   {
    "duration": 1085,
    "start_time": "2023-07-25T17:08:47.151Z"
   },
   {
    "duration": 1267,
    "start_time": "2023-07-25T17:09:12.721Z"
   },
   {
    "duration": 1113,
    "start_time": "2023-07-25T17:09:20.417Z"
   },
   {
    "duration": 1167,
    "start_time": "2023-07-25T17:09:40.922Z"
   },
   {
    "duration": 1336,
    "start_time": "2023-07-25T17:09:51.025Z"
   },
   {
    "duration": 844,
    "start_time": "2023-07-25T17:10:03.723Z"
   },
   {
    "duration": 1566,
    "start_time": "2023-07-25T17:10:10.334Z"
   },
   {
    "duration": 1125,
    "start_time": "2023-07-25T17:10:29.018Z"
   },
   {
    "duration": 1174,
    "start_time": "2023-07-25T17:10:51.514Z"
   },
   {
    "duration": 1103,
    "start_time": "2023-07-25T17:11:16.539Z"
   },
   {
    "duration": 1061,
    "start_time": "2023-07-25T17:15:04.190Z"
   },
   {
    "duration": 1184,
    "start_time": "2023-07-25T17:15:41.500Z"
   },
   {
    "duration": 1090,
    "start_time": "2023-07-25T17:16:38.550Z"
   },
   {
    "duration": 1193,
    "start_time": "2023-07-25T17:17:01.611Z"
   },
   {
    "duration": 5,
    "start_time": "2023-07-25T17:17:38.410Z"
   },
   {
    "duration": 1893,
    "start_time": "2023-07-25T17:17:56.155Z"
   },
   {
    "duration": 455,
    "start_time": "2023-07-25T17:17:58.050Z"
   },
   {
    "duration": 5,
    "start_time": "2023-07-25T17:17:58.509Z"
   },
   {
    "duration": 1164,
    "start_time": "2023-07-25T17:17:58.516Z"
   },
   {
    "duration": 1141,
    "start_time": "2023-07-25T17:17:59.683Z"
   },
   {
    "duration": 1039,
    "start_time": "2023-07-25T17:18:47.103Z"
   },
   {
    "duration": 5,
    "start_time": "2023-07-25T17:30:07.595Z"
   },
   {
    "duration": 1103,
    "start_time": "2023-07-25T17:30:13.958Z"
   },
   {
    "duration": 7,
    "start_time": "2023-07-25T17:30:47.577Z"
   },
   {
    "duration": 6,
    "start_time": "2023-07-25T17:30:58.630Z"
   },
   {
    "duration": 6,
    "start_time": "2023-07-25T17:35:23.898Z"
   },
   {
    "duration": 147,
    "start_time": "2023-07-25T17:35:27.835Z"
   },
   {
    "duration": 9,
    "start_time": "2023-07-25T17:35:43.082Z"
   },
   {
    "duration": 1006,
    "start_time": "2023-07-25T17:35:44.506Z"
   },
   {
    "duration": 1156,
    "start_time": "2023-07-25T17:36:00.034Z"
   },
   {
    "duration": 9,
    "start_time": "2023-07-25T17:50:25.619Z"
   },
   {
    "duration": 210,
    "start_time": "2023-07-25T17:50:30.254Z"
   },
   {
    "duration": 531,
    "start_time": "2023-07-25T17:50:38.436Z"
   },
   {
    "duration": 0,
    "start_time": "2023-07-25T17:50:38.969Z"
   },
   {
    "duration": 0,
    "start_time": "2023-07-25T17:50:38.970Z"
   },
   {
    "duration": 0,
    "start_time": "2023-07-25T17:50:38.971Z"
   },
   {
    "duration": 0,
    "start_time": "2023-07-25T17:50:38.972Z"
   },
   {
    "duration": 0,
    "start_time": "2023-07-25T17:50:38.973Z"
   },
   {
    "duration": 0,
    "start_time": "2023-07-25T17:50:38.974Z"
   },
   {
    "duration": 20314,
    "start_time": "2023-07-25T17:54:07.411Z"
   },
   {
    "duration": 2287,
    "start_time": "2023-07-25T17:55:26.963Z"
   },
   {
    "duration": 116,
    "start_time": "2023-07-25T17:55:34.500Z"
   },
   {
    "duration": 13,
    "start_time": "2023-07-25T17:56:17.036Z"
   },
   {
    "duration": 12,
    "start_time": "2023-07-25T17:56:21.810Z"
   },
   {
    "duration": 11,
    "start_time": "2023-07-25T17:57:23.027Z"
   },
   {
    "duration": 408,
    "start_time": "2023-07-25T17:59:31.551Z"
   },
   {
    "duration": 24,
    "start_time": "2023-07-25T17:59:40.023Z"
   },
   {
    "duration": 477,
    "start_time": "2023-07-25T17:59:43.933Z"
   },
   {
    "duration": 10647,
    "start_time": "2023-07-25T17:59:45.567Z"
   },
   {
    "duration": 21428,
    "start_time": "2023-07-26T11:41:07.401Z"
   },
   {
    "duration": 6901,
    "start_time": "2023-07-26T11:41:28.831Z"
   },
   {
    "duration": 3310,
    "start_time": "2023-07-26T11:41:35.737Z"
   },
   {
    "duration": 204,
    "start_time": "2023-07-26T11:41:39.049Z"
   },
   {
    "duration": 0,
    "start_time": "2023-07-26T11:41:39.255Z"
   },
   {
    "duration": 0,
    "start_time": "2023-07-26T11:41:39.256Z"
   },
   {
    "duration": 0,
    "start_time": "2023-07-26T11:41:39.257Z"
   },
   {
    "duration": 20,
    "start_time": "2023-07-26T11:41:52.027Z"
   },
   {
    "duration": 9,
    "start_time": "2023-07-26T11:42:09.998Z"
   },
   {
    "duration": 484,
    "start_time": "2023-07-26T11:42:11.913Z"
   },
   {
    "duration": 15,
    "start_time": "2023-07-26T11:42:13.935Z"
   },
   {
    "duration": 17,
    "start_time": "2023-07-26T11:44:10.644Z"
   },
   {
    "duration": 19,
    "start_time": "2023-07-26T11:44:12.594Z"
   },
   {
    "duration": 6873,
    "start_time": "2023-07-26T11:44:24.314Z"
   },
   {
    "duration": 7113,
    "start_time": "2023-07-26T11:44:59.063Z"
   },
   {
    "duration": 2,
    "start_time": "2023-07-26T11:46:25.518Z"
   },
   {
    "duration": 3,
    "start_time": "2023-07-26T11:59:14.069Z"
   },
   {
    "duration": 18,
    "start_time": "2023-07-26T12:00:37.834Z"
   },
   {
    "duration": 6,
    "start_time": "2023-07-26T12:00:47.106Z"
   },
   {
    "duration": 1615,
    "start_time": "2023-07-26T12:00:47.114Z"
   },
   {
    "duration": 497,
    "start_time": "2023-07-26T12:00:48.739Z"
   },
   {
    "duration": 6,
    "start_time": "2023-07-26T12:00:49.238Z"
   },
   {
    "duration": 1105,
    "start_time": "2023-07-26T12:00:49.246Z"
   },
   {
    "duration": 1288,
    "start_time": "2023-07-26T12:00:50.353Z"
   },
   {
    "duration": 1122,
    "start_time": "2023-07-26T12:00:51.645Z"
   },
   {
    "duration": 10,
    "start_time": "2023-07-26T12:06:52.130Z"
   },
   {
    "duration": 1682,
    "start_time": "2023-07-26T12:06:52.142Z"
   },
   {
    "duration": 569,
    "start_time": "2023-07-26T12:06:53.826Z"
   },
   {
    "duration": 8,
    "start_time": "2023-07-26T12:06:54.397Z"
   },
   {
    "duration": 1141,
    "start_time": "2023-07-26T12:06:54.407Z"
   },
   {
    "duration": 1201,
    "start_time": "2023-07-26T12:06:55.550Z"
   },
   {
    "duration": 1077,
    "start_time": "2023-07-26T12:06:56.753Z"
   },
   {
    "duration": 20,
    "start_time": "2023-07-26T12:26:26.022Z"
   },
   {
    "duration": 3,
    "start_time": "2023-07-26T13:03:34.859Z"
   },
   {
    "duration": 1522,
    "start_time": "2023-07-26T13:03:34.864Z"
   },
   {
    "duration": 433,
    "start_time": "2023-07-26T13:03:36.389Z"
   },
   {
    "duration": 6,
    "start_time": "2023-07-26T13:03:36.825Z"
   },
   {
    "duration": 1031,
    "start_time": "2023-07-26T13:03:36.832Z"
   },
   {
    "duration": 1070,
    "start_time": "2023-07-26T13:03:37.865Z"
   },
   {
    "duration": 980,
    "start_time": "2023-07-26T13:03:38.936Z"
   },
   {
    "duration": 18,
    "start_time": "2023-07-26T13:03:39.918Z"
   },
   {
    "duration": 3,
    "start_time": "2023-07-26T14:41:05.363Z"
   },
   {
    "duration": 5727,
    "start_time": "2023-07-26T14:41:05.369Z"
   },
   {
    "duration": 2112,
    "start_time": "2023-07-26T14:41:11.101Z"
   },
   {
    "duration": 6,
    "start_time": "2023-07-26T14:41:13.214Z"
   },
   {
    "duration": 1053,
    "start_time": "2023-07-26T14:41:13.222Z"
   },
   {
    "duration": 967,
    "start_time": "2023-07-26T14:41:14.280Z"
   },
   {
    "duration": 884,
    "start_time": "2023-07-26T14:41:15.249Z"
   },
   {
    "duration": 19,
    "start_time": "2023-07-26T14:41:16.134Z"
   },
   {
    "duration": 59,
    "start_time": "2023-07-26T14:53:21.209Z"
   },
   {
    "duration": 93,
    "start_time": "2023-07-26T14:54:54.533Z"
   },
   {
    "duration": 5,
    "start_time": "2023-07-26T15:36:45.430Z"
   },
   {
    "duration": 925,
    "start_time": "2023-07-26T15:36:48.406Z"
   },
   {
    "duration": 5,
    "start_time": "2023-07-26T15:37:09.864Z"
   },
   {
    "duration": 848,
    "start_time": "2023-07-26T15:37:16.360Z"
   },
   {
    "duration": 5,
    "start_time": "2023-07-26T15:37:46.691Z"
   },
   {
    "duration": 1012,
    "start_time": "2023-07-26T15:37:49.707Z"
   },
   {
    "duration": 6,
    "start_time": "2023-07-26T15:38:08.435Z"
   },
   {
    "duration": 755,
    "start_time": "2023-07-26T15:38:13.848Z"
   },
   {
    "duration": 698,
    "start_time": "2023-07-26T15:38:27.533Z"
   },
   {
    "duration": 7,
    "start_time": "2023-07-26T15:39:10.403Z"
   },
   {
    "duration": 874,
    "start_time": "2023-07-26T15:39:15.118Z"
   },
   {
    "duration": 5,
    "start_time": "2023-07-26T15:40:03.839Z"
   },
   {
    "duration": 756,
    "start_time": "2023-07-26T15:40:06.337Z"
   },
   {
    "duration": 8,
    "start_time": "2023-07-26T15:41:12.058Z"
   },
   {
    "duration": 946,
    "start_time": "2023-07-26T15:41:13.094Z"
   },
   {
    "duration": 5,
    "start_time": "2023-07-26T15:41:31.206Z"
   },
   {
    "duration": 853,
    "start_time": "2023-07-26T15:41:33.857Z"
   },
   {
    "duration": 5,
    "start_time": "2023-07-26T15:41:57.846Z"
   },
   {
    "duration": 874,
    "start_time": "2023-07-26T15:42:03.391Z"
   },
   {
    "duration": 4,
    "start_time": "2023-07-26T15:42:17.569Z"
   },
   {
    "duration": 1358,
    "start_time": "2023-07-26T15:42:17.574Z"
   },
   {
    "duration": 1847,
    "start_time": "2023-07-26T15:42:18.933Z"
   },
   {
    "duration": 6,
    "start_time": "2023-07-26T15:42:20.787Z"
   },
   {
    "duration": 927,
    "start_time": "2023-07-26T15:42:20.795Z"
   },
   {
    "duration": 1087,
    "start_time": "2023-07-26T15:42:21.724Z"
   },
   {
    "duration": 893,
    "start_time": "2023-07-26T15:42:22.812Z"
   },
   {
    "duration": 19,
    "start_time": "2023-07-26T15:42:23.707Z"
   },
   {
    "duration": 67,
    "start_time": "2023-07-27T08:39:56.676Z"
   },
   {
    "duration": 273,
    "start_time": "2023-07-27T08:40:05.779Z"
   },
   {
    "duration": 10,
    "start_time": "2023-07-27T08:40:13.312Z"
   },
   {
    "duration": 9,
    "start_time": "2023-07-27T08:40:37.000Z"
   },
   {
    "duration": 4,
    "start_time": "2023-07-27T08:40:56.777Z"
   },
   {
    "duration": 6,
    "start_time": "2023-07-27T08:40:59.971Z"
   },
   {
    "duration": 3,
    "start_time": "2023-07-27T08:41:14.100Z"
   },
   {
    "duration": 1656,
    "start_time": "2023-07-27T08:41:14.105Z"
   },
   {
    "duration": 867,
    "start_time": "2023-07-27T08:41:15.763Z"
   },
   {
    "duration": 8,
    "start_time": "2023-07-27T08:41:16.632Z"
   },
   {
    "duration": 843,
    "start_time": "2023-07-27T08:41:16.642Z"
   },
   {
    "duration": 827,
    "start_time": "2023-07-27T08:41:17.487Z"
   },
   {
    "duration": 748,
    "start_time": "2023-07-27T08:41:18.316Z"
   },
   {
    "duration": 16,
    "start_time": "2023-07-27T08:41:19.065Z"
   },
   {
    "duration": 42,
    "start_time": "2023-07-27T08:41:19.083Z"
   },
   {
    "duration": 124,
    "start_time": "2023-07-27T08:41:19.127Z"
   },
   {
    "duration": 5,
    "start_time": "2023-07-27T08:42:06.191Z"
   },
   {
    "duration": 35,
    "start_time": "2023-07-27T08:42:08.284Z"
   },
   {
    "duration": 4,
    "start_time": "2023-07-27T08:43:08.827Z"
   },
   {
    "duration": 26,
    "start_time": "2023-07-27T08:43:10.609Z"
   },
   {
    "duration": 6,
    "start_time": "2023-07-27T08:43:22.703Z"
   },
   {
    "duration": 37,
    "start_time": "2023-07-27T08:43:24.518Z"
   },
   {
    "duration": 4,
    "start_time": "2023-07-27T08:49:48.667Z"
   },
   {
    "duration": 29,
    "start_time": "2023-07-27T08:49:49.678Z"
   },
   {
    "duration": 7,
    "start_time": "2023-07-27T08:50:09.187Z"
   },
   {
    "duration": 28,
    "start_time": "2023-07-27T08:50:10.448Z"
   },
   {
    "duration": 5,
    "start_time": "2023-07-27T08:55:22.608Z"
   },
   {
    "duration": 21,
    "start_time": "2023-07-27T08:55:24.072Z"
   },
   {
    "duration": 5,
    "start_time": "2023-07-27T08:55:49.561Z"
   },
   {
    "duration": 22,
    "start_time": "2023-07-27T08:55:51.289Z"
   },
   {
    "duration": 5,
    "start_time": "2023-07-27T08:56:06.234Z"
   },
   {
    "duration": 1995,
    "start_time": "2023-07-27T08:56:06.242Z"
   },
   {
    "duration": 527,
    "start_time": "2023-07-27T08:56:08.239Z"
   },
   {
    "duration": 7,
    "start_time": "2023-07-27T08:56:08.768Z"
   },
   {
    "duration": 740,
    "start_time": "2023-07-27T08:56:08.778Z"
   },
   {
    "duration": 801,
    "start_time": "2023-07-27T08:56:09.520Z"
   },
   {
    "duration": 778,
    "start_time": "2023-07-27T08:56:10.322Z"
   },
   {
    "duration": 16,
    "start_time": "2023-07-27T08:56:11.102Z"
   },
   {
    "duration": 13,
    "start_time": "2023-07-27T08:56:11.120Z"
   },
   {
    "duration": 126,
    "start_time": "2023-07-27T08:56:11.135Z"
   },
   {
    "duration": 3,
    "start_time": "2023-07-27T08:57:45.164Z"
   },
   {
    "duration": 1661,
    "start_time": "2023-07-27T08:57:45.169Z"
   },
   {
    "duration": 326,
    "start_time": "2023-07-27T08:57:46.832Z"
   },
   {
    "duration": 5,
    "start_time": "2023-07-27T08:57:47.160Z"
   },
   {
    "duration": 772,
    "start_time": "2023-07-27T08:57:47.167Z"
   },
   {
    "duration": 815,
    "start_time": "2023-07-27T08:57:47.941Z"
   },
   {
    "duration": 742,
    "start_time": "2023-07-27T08:57:48.757Z"
   },
   {
    "duration": 17,
    "start_time": "2023-07-27T08:57:49.501Z"
   },
   {
    "duration": 13,
    "start_time": "2023-07-27T08:57:49.520Z"
   },
   {
    "duration": 135,
    "start_time": "2023-07-27T08:57:49.534Z"
   },
   {
    "duration": 4,
    "start_time": "2023-07-27T08:59:55.401Z"
   },
   {
    "duration": 21,
    "start_time": "2023-07-27T08:59:56.808Z"
   },
   {
    "duration": 4,
    "start_time": "2023-07-27T09:00:22.429Z"
   },
   {
    "duration": 5,
    "start_time": "2023-07-27T09:00:26.781Z"
   },
   {
    "duration": 29,
    "start_time": "2023-07-27T09:00:28.130Z"
   },
   {
    "duration": 3,
    "start_time": "2023-07-27T09:01:18.721Z"
   },
   {
    "duration": 1759,
    "start_time": "2023-07-27T09:01:18.726Z"
   },
   {
    "duration": 317,
    "start_time": "2023-07-27T09:01:20.487Z"
   },
   {
    "duration": 6,
    "start_time": "2023-07-27T09:01:20.806Z"
   },
   {
    "duration": 744,
    "start_time": "2023-07-27T09:01:20.814Z"
   },
   {
    "duration": 779,
    "start_time": "2023-07-27T09:01:21.559Z"
   },
   {
    "duration": 735,
    "start_time": "2023-07-27T09:01:22.339Z"
   },
   {
    "duration": 26,
    "start_time": "2023-07-27T09:01:23.076Z"
   },
   {
    "duration": 2982,
    "start_time": "2023-07-27T09:01:23.104Z"
   },
   {
    "duration": 350,
    "start_time": "2023-07-27T09:01:26.088Z"
   },
   {
    "duration": 5,
    "start_time": "2023-07-27T09:03:07.033Z"
   },
   {
    "duration": 224,
    "start_time": "2023-07-27T09:03:08.481Z"
   },
   {
    "duration": 4,
    "start_time": "2023-07-27T09:03:36.718Z"
   },
   {
    "duration": 82,
    "start_time": "2023-07-27T09:03:38.018Z"
   },
   {
    "duration": 5,
    "start_time": "2023-07-27T09:07:26.623Z"
   },
   {
    "duration": 101,
    "start_time": "2023-07-27T09:07:28.300Z"
   },
   {
    "duration": 5,
    "start_time": "2023-07-27T09:08:26.551Z"
   },
   {
    "duration": 246,
    "start_time": "2023-07-27T09:08:27.957Z"
   },
   {
    "duration": 5,
    "start_time": "2023-07-27T09:09:06.306Z"
   },
   {
    "duration": 35,
    "start_time": "2023-07-27T09:09:07.681Z"
   },
   {
    "duration": 18,
    "start_time": "2023-07-27T09:09:22.948Z"
   },
   {
    "duration": 18,
    "start_time": "2023-07-27T09:09:24.412Z"
   },
   {
    "duration": 6,
    "start_time": "2023-07-27T09:10:28.083Z"
   },
   {
    "duration": 1707,
    "start_time": "2023-07-27T09:10:28.091Z"
   },
   {
    "duration": 332,
    "start_time": "2023-07-27T09:10:29.799Z"
   },
   {
    "duration": 8,
    "start_time": "2023-07-27T09:10:30.133Z"
   },
   {
    "duration": 808,
    "start_time": "2023-07-27T09:10:30.142Z"
   },
   {
    "duration": 850,
    "start_time": "2023-07-27T09:10:30.952Z"
   },
   {
    "duration": 843,
    "start_time": "2023-07-27T09:10:31.804Z"
   },
   {
    "duration": 16,
    "start_time": "2023-07-27T09:10:32.649Z"
   },
   {
    "duration": 10,
    "start_time": "2023-07-27T09:10:32.667Z"
   },
   {
    "duration": 221,
    "start_time": "2023-07-27T09:10:32.680Z"
   },
   {
    "duration": 101,
    "start_time": "2023-07-27T09:10:32.903Z"
   },
   {
    "duration": 208,
    "start_time": "2023-07-27T09:10:33.006Z"
   },
   {
    "duration": 6,
    "start_time": "2023-07-27T09:12:29.799Z"
   },
   {
    "duration": 28,
    "start_time": "2023-07-27T09:12:31.237Z"
   },
   {
    "duration": 6,
    "start_time": "2023-07-27T09:12:38.070Z"
   },
   {
    "duration": 18,
    "start_time": "2023-07-27T09:12:39.601Z"
   },
   {
    "duration": 17,
    "start_time": "2023-07-27T09:12:40.951Z"
   },
   {
    "duration": 19,
    "start_time": "2023-07-27T09:12:42.138Z"
   },
   {
    "duration": 8,
    "start_time": "2023-07-27T15:47:20.694Z"
   },
   {
    "duration": 3,
    "start_time": "2023-07-27T15:51:17.958Z"
   },
   {
    "duration": 45,
    "start_time": "2023-07-27T16:11:18.354Z"
   },
   {
    "duration": 4,
    "start_time": "2023-07-27T16:11:35.607Z"
   },
   {
    "duration": 1611,
    "start_time": "2023-07-27T16:11:35.612Z"
   },
   {
    "duration": 1591,
    "start_time": "2023-07-27T16:11:37.224Z"
   },
   {
    "duration": 8,
    "start_time": "2023-07-27T16:11:38.817Z"
   },
   {
    "duration": 867,
    "start_time": "2023-07-27T16:11:38.826Z"
   },
   {
    "duration": 974,
    "start_time": "2023-07-27T16:11:39.694Z"
   },
   {
    "duration": 915,
    "start_time": "2023-07-27T16:11:40.670Z"
   },
   {
    "duration": 20,
    "start_time": "2023-07-27T16:11:41.587Z"
   },
   {
    "duration": 20,
    "start_time": "2023-07-27T16:11:41.608Z"
   },
   {
    "duration": 132,
    "start_time": "2023-07-27T16:11:41.630Z"
   },
   {
    "duration": 113,
    "start_time": "2023-07-27T16:11:41.764Z"
   },
   {
    "duration": 192,
    "start_time": "2023-07-27T16:11:41.879Z"
   },
   {
    "duration": 3,
    "start_time": "2023-07-27T16:11:42.073Z"
   },
   {
    "duration": 183,
    "start_time": "2023-07-27T16:11:42.078Z"
   },
   {
    "duration": 4,
    "start_time": "2023-07-27T16:13:28.546Z"
   },
   {
    "duration": 64,
    "start_time": "2023-07-27T16:15:19.350Z"
   },
   {
    "duration": 4,
    "start_time": "2023-07-27T16:15:24.795Z"
   },
   {
    "duration": 5,
    "start_time": "2023-07-27T16:16:26.065Z"
   },
   {
    "duration": 3,
    "start_time": "2023-07-27T16:23:05.652Z"
   },
   {
    "duration": 175,
    "start_time": "2023-07-27T16:24:00.805Z"
   },
   {
    "duration": 3,
    "start_time": "2023-07-27T16:24:04.496Z"
   },
   {
    "duration": 4,
    "start_time": "2023-07-27T16:24:32.545Z"
   },
   {
    "duration": 4,
    "start_time": "2023-07-27T16:25:02.810Z"
   },
   {
    "duration": 4,
    "start_time": "2023-07-27T16:25:16.965Z"
   },
   {
    "duration": 4,
    "start_time": "2023-07-27T16:25:19.953Z"
   },
   {
    "duration": 3,
    "start_time": "2023-07-27T16:25:32.822Z"
   },
   {
    "duration": 1430,
    "start_time": "2023-07-27T16:25:32.827Z"
   },
   {
    "duration": 382,
    "start_time": "2023-07-27T16:25:34.259Z"
   },
   {
    "duration": 7,
    "start_time": "2023-07-27T16:25:34.643Z"
   },
   {
    "duration": 1029,
    "start_time": "2023-07-27T16:25:34.658Z"
   },
   {
    "duration": 2132,
    "start_time": "2023-07-27T16:25:35.689Z"
   },
   {
    "duration": 924,
    "start_time": "2023-07-27T16:25:37.823Z"
   },
   {
    "duration": 24,
    "start_time": "2023-07-27T16:25:38.748Z"
   },
   {
    "duration": 23,
    "start_time": "2023-07-27T16:25:38.774Z"
   },
   {
    "duration": 63,
    "start_time": "2023-07-27T16:25:38.799Z"
   },
   {
    "duration": 113,
    "start_time": "2023-07-27T16:25:38.863Z"
   },
   {
    "duration": 187,
    "start_time": "2023-07-27T16:25:38.978Z"
   },
   {
    "duration": 92,
    "start_time": "2023-07-27T16:25:39.167Z"
   },
   {
    "duration": 96,
    "start_time": "2023-07-27T16:25:39.268Z"
   },
   {
    "duration": 5,
    "start_time": "2023-07-27T16:25:39.366Z"
   },
   {
    "duration": 4,
    "start_time": "2023-07-27T16:25:57.253Z"
   },
   {
    "duration": 4,
    "start_time": "2023-07-27T16:26:01.203Z"
   },
   {
    "duration": 3,
    "start_time": "2023-07-27T17:02:01.897Z"
   },
   {
    "duration": 1595,
    "start_time": "2023-07-27T17:02:01.902Z"
   },
   {
    "duration": 371,
    "start_time": "2023-07-27T17:02:03.499Z"
   },
   {
    "duration": 6,
    "start_time": "2023-07-27T17:02:03.872Z"
   },
   {
    "duration": 975,
    "start_time": "2023-07-27T17:02:03.880Z"
   },
   {
    "duration": 1070,
    "start_time": "2023-07-27T17:02:04.857Z"
   },
   {
    "duration": 882,
    "start_time": "2023-07-27T17:02:05.929Z"
   },
   {
    "duration": 20,
    "start_time": "2023-07-27T17:02:06.813Z"
   },
   {
    "duration": 7,
    "start_time": "2023-07-27T17:02:06.835Z"
   },
   {
    "duration": 316,
    "start_time": "2023-07-27T17:02:06.843Z"
   },
   {
    "duration": 0,
    "start_time": "2023-07-27T17:02:07.161Z"
   },
   {
    "duration": 0,
    "start_time": "2023-07-27T17:02:07.162Z"
   },
   {
    "duration": 0,
    "start_time": "2023-07-27T17:02:07.164Z"
   },
   {
    "duration": 0,
    "start_time": "2023-07-27T17:02:07.165Z"
   },
   {
    "duration": 0,
    "start_time": "2023-07-27T17:02:07.166Z"
   },
   {
    "duration": 0,
    "start_time": "2023-07-27T17:02:07.167Z"
   },
   {
    "duration": 5,
    "start_time": "2023-07-27T17:03:23.159Z"
   },
   {
    "duration": 113,
    "start_time": "2023-07-27T17:03:25.056Z"
   },
   {
    "duration": 3,
    "start_time": "2023-07-27T17:03:36.700Z"
   },
   {
    "duration": 1438,
    "start_time": "2023-07-27T17:03:36.705Z"
   },
   {
    "duration": 387,
    "start_time": "2023-07-27T17:03:38.144Z"
   },
   {
    "duration": 6,
    "start_time": "2023-07-27T17:03:38.533Z"
   },
   {
    "duration": 1005,
    "start_time": "2023-07-27T17:03:38.542Z"
   },
   {
    "duration": 1054,
    "start_time": "2023-07-27T17:03:39.550Z"
   },
   {
    "duration": 922,
    "start_time": "2023-07-27T17:03:40.606Z"
   },
   {
    "duration": 30,
    "start_time": "2023-07-27T17:03:41.530Z"
   },
   {
    "duration": 5,
    "start_time": "2023-07-27T17:03:41.561Z"
   },
   {
    "duration": 303,
    "start_time": "2023-07-27T17:03:41.567Z"
   },
   {
    "duration": 0,
    "start_time": "2023-07-27T17:03:41.872Z"
   },
   {
    "duration": 0,
    "start_time": "2023-07-27T17:03:41.873Z"
   },
   {
    "duration": 0,
    "start_time": "2023-07-27T17:03:41.874Z"
   },
   {
    "duration": 0,
    "start_time": "2023-07-27T17:03:41.875Z"
   },
   {
    "duration": 0,
    "start_time": "2023-07-27T17:03:41.876Z"
   },
   {
    "duration": 0,
    "start_time": "2023-07-27T17:03:41.878Z"
   },
   {
    "duration": 5,
    "start_time": "2023-07-27T17:16:48.495Z"
   },
   {
    "duration": 72,
    "start_time": "2023-07-27T17:16:49.687Z"
   },
   {
    "duration": 10,
    "start_time": "2023-07-27T17:16:55.615Z"
   },
   {
    "duration": 8,
    "start_time": "2023-07-27T17:37:56.098Z"
   },
   {
    "duration": 10,
    "start_time": "2023-07-27T17:37:57.594Z"
   },
   {
    "duration": 5,
    "start_time": "2023-07-27T17:38:06.906Z"
   },
   {
    "duration": 6,
    "start_time": "2023-07-27T17:38:08.197Z"
   },
   {
    "duration": 3,
    "start_time": "2023-07-27T17:38:09.498Z"
   },
   {
    "duration": 31,
    "start_time": "2023-07-27T17:39:43.622Z"
   },
   {
    "duration": 31,
    "start_time": "2023-07-27T17:39:44.951Z"
   },
   {
    "duration": 10,
    "start_time": "2023-07-27T17:54:09.377Z"
   },
   {
    "duration": 4,
    "start_time": "2023-07-28T07:48:09.308Z"
   },
   {
    "duration": 1727,
    "start_time": "2023-07-28T07:48:09.314Z"
   },
   {
    "duration": 1872,
    "start_time": "2023-07-28T07:48:11.043Z"
   },
   {
    "duration": 6,
    "start_time": "2023-07-28T07:48:12.917Z"
   },
   {
    "duration": 905,
    "start_time": "2023-07-28T07:48:12.925Z"
   },
   {
    "duration": 925,
    "start_time": "2023-07-28T07:48:13.832Z"
   },
   {
    "duration": 891,
    "start_time": "2023-07-28T07:48:14.759Z"
   },
   {
    "duration": 33,
    "start_time": "2023-07-28T07:48:15.652Z"
   },
   {
    "duration": 7,
    "start_time": "2023-07-28T07:48:15.687Z"
   },
   {
    "duration": 192,
    "start_time": "2023-07-28T07:48:15.695Z"
   },
   {
    "duration": 97,
    "start_time": "2023-07-28T07:48:15.891Z"
   },
   {
    "duration": 183,
    "start_time": "2023-07-28T07:48:15.992Z"
   },
   {
    "duration": 10,
    "start_time": "2023-07-28T07:48:16.181Z"
   },
   {
    "duration": 6,
    "start_time": "2023-07-28T07:48:16.286Z"
   },
   {
    "duration": 3,
    "start_time": "2023-07-28T07:48:16.294Z"
   },
   {
    "duration": 106,
    "start_time": "2023-07-28T07:49:04.187Z"
   },
   {
    "duration": 6,
    "start_time": "2023-07-28T07:49:10.441Z"
   },
   {
    "duration": 4,
    "start_time": "2023-07-28T07:58:02.864Z"
   },
   {
    "duration": 7,
    "start_time": "2023-07-28T08:08:06.844Z"
   },
   {
    "duration": 7,
    "start_time": "2023-07-28T08:09:13.666Z"
   },
   {
    "duration": 6,
    "start_time": "2023-07-28T08:09:22.714Z"
   },
   {
    "duration": 3,
    "start_time": "2023-07-28T08:09:56.862Z"
   },
   {
    "duration": 5,
    "start_time": "2023-07-28T08:10:03.151Z"
   },
   {
    "duration": 5,
    "start_time": "2023-07-28T08:32:03.922Z"
   },
   {
    "duration": 88,
    "start_time": "2023-07-28T08:41:34.646Z"
   },
   {
    "duration": 48,
    "start_time": "2023-07-28T08:41:50.149Z"
   },
   {
    "duration": 5,
    "start_time": "2023-07-28T08:41:57.910Z"
   },
   {
    "duration": 28,
    "start_time": "2023-07-28T08:41:59.343Z"
   },
   {
    "duration": 8,
    "start_time": "2023-07-28T08:42:38.553Z"
   },
   {
    "duration": 89,
    "start_time": "2023-07-28T08:42:55.606Z"
   },
   {
    "duration": 110,
    "start_time": "2023-07-28T08:43:13.041Z"
   },
   {
    "duration": 80,
    "start_time": "2023-07-28T08:43:30.224Z"
   },
   {
    "duration": 13,
    "start_time": "2023-07-28T08:43:58.725Z"
   },
   {
    "duration": 7,
    "start_time": "2023-07-28T08:54:10.628Z"
   },
   {
    "duration": 73,
    "start_time": "2023-07-28T08:54:12.520Z"
   },
   {
    "duration": 7,
    "start_time": "2023-07-28T08:54:23.004Z"
   },
   {
    "duration": 4,
    "start_time": "2023-07-28T08:54:25.743Z"
   },
   {
    "duration": 4,
    "start_time": "2023-07-28T08:55:04.956Z"
   },
   {
    "duration": 124,
    "start_time": "2023-07-28T08:55:06.469Z"
   },
   {
    "duration": 18,
    "start_time": "2023-07-28T08:57:30.270Z"
   },
   {
    "duration": 29,
    "start_time": "2023-07-28T08:57:31.591Z"
   },
   {
    "duration": 21,
    "start_time": "2023-07-28T08:57:34.315Z"
   },
   {
    "duration": 24,
    "start_time": "2023-07-28T08:57:35.303Z"
   },
   {
    "duration": 12,
    "start_time": "2023-07-28T08:57:36.545Z"
   },
   {
    "duration": 4,
    "start_time": "2023-07-28T08:58:03.050Z"
   },
   {
    "duration": 1537,
    "start_time": "2023-07-28T08:58:03.056Z"
   },
   {
    "duration": 423,
    "start_time": "2023-07-28T08:58:04.601Z"
   },
   {
    "duration": 7,
    "start_time": "2023-07-28T08:58:05.026Z"
   },
   {
    "duration": 1021,
    "start_time": "2023-07-28T08:58:05.036Z"
   },
   {
    "duration": 1098,
    "start_time": "2023-07-28T08:58:06.059Z"
   },
   {
    "duration": 1007,
    "start_time": "2023-07-28T08:58:07.159Z"
   },
   {
    "duration": 30,
    "start_time": "2023-07-28T08:58:08.168Z"
   },
   {
    "duration": 25,
    "start_time": "2023-07-28T08:58:08.200Z"
   },
   {
    "duration": 50,
    "start_time": "2023-07-28T08:58:08.227Z"
   },
   {
    "duration": 195,
    "start_time": "2023-07-28T08:58:08.285Z"
   },
   {
    "duration": 120,
    "start_time": "2023-07-28T08:58:08.487Z"
   },
   {
    "duration": 88,
    "start_time": "2023-07-28T08:58:08.613Z"
   },
   {
    "duration": 79,
    "start_time": "2023-07-28T08:58:08.709Z"
   },
   {
    "duration": 12,
    "start_time": "2023-07-28T08:58:08.793Z"
   },
   {
    "duration": 15,
    "start_time": "2023-07-28T08:58:08.807Z"
   },
   {
    "duration": 19,
    "start_time": "2023-07-28T08:58:08.824Z"
   },
   {
    "duration": 2,
    "start_time": "2023-07-28T08:58:08.845Z"
   },
   {
    "duration": 3,
    "start_time": "2023-07-28T09:00:46.323Z"
   },
   {
    "duration": 120,
    "start_time": "2023-07-28T09:31:52.388Z"
   },
   {
    "duration": 4,
    "start_time": "2023-07-28T09:32:04.887Z"
   },
   {
    "duration": 2008,
    "start_time": "2023-07-28T09:32:04.893Z"
   },
   {
    "duration": 385,
    "start_time": "2023-07-28T09:32:06.902Z"
   },
   {
    "duration": 8,
    "start_time": "2023-07-28T09:32:07.289Z"
   },
   {
    "duration": 887,
    "start_time": "2023-07-28T09:32:07.299Z"
   },
   {
    "duration": 938,
    "start_time": "2023-07-28T09:32:08.191Z"
   },
   {
    "duration": 861,
    "start_time": "2023-07-28T09:32:09.131Z"
   },
   {
    "duration": 18,
    "start_time": "2023-07-28T09:32:09.995Z"
   },
   {
    "duration": 17,
    "start_time": "2023-07-28T09:32:10.015Z"
   },
   {
    "duration": 67,
    "start_time": "2023-07-28T09:32:10.034Z"
   },
   {
    "duration": 186,
    "start_time": "2023-07-28T09:32:10.103Z"
   },
   {
    "duration": 208,
    "start_time": "2023-07-28T09:32:10.294Z"
   },
   {
    "duration": 6,
    "start_time": "2023-07-28T09:32:10.504Z"
   },
   {
    "duration": 17,
    "start_time": "2023-07-28T09:32:10.580Z"
   },
   {
    "duration": 82,
    "start_time": "2023-07-28T09:32:10.599Z"
   },
   {
    "duration": 43,
    "start_time": "2023-07-28T09:32:10.683Z"
   },
   {
    "duration": 16,
    "start_time": "2023-07-28T09:32:10.727Z"
   },
   {
    "duration": 146,
    "start_time": "2023-07-28T09:32:10.744Z"
   },
   {
    "duration": 10,
    "start_time": "2023-07-28T09:32:54.743Z"
   },
   {
    "duration": 11,
    "start_time": "2023-07-28T09:32:57.743Z"
   },
   {
    "duration": 14,
    "start_time": "2023-07-28T09:33:10.486Z"
   },
   {
    "duration": 16,
    "start_time": "2023-07-28T09:33:53.263Z"
   },
   {
    "duration": 14,
    "start_time": "2023-07-28T09:35:46.120Z"
   },
   {
    "duration": 4,
    "start_time": "2023-07-28T09:42:03.589Z"
   },
   {
    "duration": 1565,
    "start_time": "2023-07-28T09:42:03.596Z"
   },
   {
    "duration": 434,
    "start_time": "2023-07-28T09:42:05.163Z"
   },
   {
    "duration": 7,
    "start_time": "2023-07-28T09:42:05.599Z"
   },
   {
    "duration": 977,
    "start_time": "2023-07-28T09:42:05.608Z"
   },
   {
    "duration": 1026,
    "start_time": "2023-07-28T09:42:06.590Z"
   },
   {
    "duration": 944,
    "start_time": "2023-07-28T09:42:07.617Z"
   },
   {
    "duration": 24,
    "start_time": "2023-07-28T09:42:08.563Z"
   },
   {
    "duration": 19,
    "start_time": "2023-07-28T09:42:08.591Z"
   },
   {
    "duration": 67,
    "start_time": "2023-07-28T09:42:08.612Z"
   },
   {
    "duration": 208,
    "start_time": "2023-07-28T09:42:08.682Z"
   },
   {
    "duration": 107,
    "start_time": "2023-07-28T09:42:08.893Z"
   },
   {
    "duration": 78,
    "start_time": "2023-07-28T09:42:09.004Z"
   },
   {
    "duration": 103,
    "start_time": "2023-07-28T09:42:09.086Z"
   },
   {
    "duration": 28,
    "start_time": "2023-07-28T09:42:09.194Z"
   },
   {
    "duration": 50,
    "start_time": "2023-07-28T09:42:09.223Z"
   },
   {
    "duration": 4,
    "start_time": "2023-07-28T09:42:09.287Z"
   },
   {
    "duration": 140,
    "start_time": "2023-07-28T09:42:09.293Z"
   },
   {
    "duration": 27,
    "start_time": "2023-07-28T09:44:41.770Z"
   },
   {
    "duration": 17691,
    "start_time": "2023-07-28T09:44:50.170Z"
   },
   {
    "duration": 3,
    "start_time": "2023-07-28T09:47:03.317Z"
   },
   {
    "duration": 2151,
    "start_time": "2023-07-28T09:47:03.323Z"
   },
   {
    "duration": 456,
    "start_time": "2023-07-28T09:47:05.482Z"
   },
   {
    "duration": 7,
    "start_time": "2023-07-28T09:47:05.940Z"
   },
   {
    "duration": 1023,
    "start_time": "2023-07-28T09:47:05.949Z"
   },
   {
    "duration": 1063,
    "start_time": "2023-07-28T09:47:06.974Z"
   },
   {
    "duration": 984,
    "start_time": "2023-07-28T09:47:08.039Z"
   },
   {
    "duration": 19,
    "start_time": "2023-07-28T09:47:09.025Z"
   },
   {
    "duration": 17,
    "start_time": "2023-07-28T09:47:09.046Z"
   },
   {
    "duration": 50,
    "start_time": "2023-07-28T09:47:09.066Z"
   },
   {
    "duration": 193,
    "start_time": "2023-07-28T09:47:09.118Z"
   },
   {
    "duration": 117,
    "start_time": "2023-07-28T09:47:09.377Z"
   },
   {
    "duration": 85,
    "start_time": "2023-07-28T09:47:09.500Z"
   },
   {
    "duration": 94,
    "start_time": "2023-07-28T09:47:09.600Z"
   },
   {
    "duration": 4,
    "start_time": "2023-07-28T09:47:09.696Z"
   },
   {
    "duration": 22,
    "start_time": "2023-07-28T09:47:09.702Z"
   },
   {
    "duration": 4,
    "start_time": "2023-07-28T09:47:09.726Z"
   },
   {
    "duration": 14956,
    "start_time": "2023-07-28T09:47:09.732Z"
   },
   {
    "duration": 5147,
    "start_time": "2023-07-28T09:48:52.323Z"
   },
   {
    "duration": 5133,
    "start_time": "2023-07-28T09:49:35.033Z"
   },
   {
    "duration": 130,
    "start_time": "2023-07-28T09:57:05.872Z"
   },
   {
    "duration": 4,
    "start_time": "2023-07-28T09:57:31.756Z"
   },
   {
    "duration": 1561,
    "start_time": "2023-07-28T09:57:31.763Z"
   },
   {
    "duration": 423,
    "start_time": "2023-07-28T09:57:33.326Z"
   },
   {
    "duration": 10,
    "start_time": "2023-07-28T09:57:33.751Z"
   },
   {
    "duration": 1062,
    "start_time": "2023-07-28T09:57:33.765Z"
   },
   {
    "duration": 1067,
    "start_time": "2023-07-28T09:57:34.830Z"
   },
   {
    "duration": 975,
    "start_time": "2023-07-28T09:57:35.899Z"
   },
   {
    "duration": 25,
    "start_time": "2023-07-28T09:57:36.886Z"
   },
   {
    "duration": 195,
    "start_time": "2023-07-28T09:57:36.913Z"
   },
   {
    "duration": 0,
    "start_time": "2023-07-28T09:57:37.110Z"
   },
   {
    "duration": 0,
    "start_time": "2023-07-28T09:57:37.111Z"
   },
   {
    "duration": 0,
    "start_time": "2023-07-28T09:57:37.112Z"
   },
   {
    "duration": 0,
    "start_time": "2023-07-28T09:57:37.114Z"
   },
   {
    "duration": 0,
    "start_time": "2023-07-28T09:57:37.115Z"
   },
   {
    "duration": 0,
    "start_time": "2023-07-28T09:57:37.116Z"
   },
   {
    "duration": 0,
    "start_time": "2023-07-28T09:57:37.118Z"
   },
   {
    "duration": 0,
    "start_time": "2023-07-28T09:57:37.119Z"
   },
   {
    "duration": 0,
    "start_time": "2023-07-28T09:57:37.120Z"
   },
   {
    "duration": 297,
    "start_time": "2023-07-28T09:58:28.494Z"
   },
   {
    "duration": 326,
    "start_time": "2023-07-28T09:59:23.969Z"
   },
   {
    "duration": 370,
    "start_time": "2023-07-28T09:59:40.911Z"
   },
   {
    "duration": 4,
    "start_time": "2023-07-28T10:00:01.407Z"
   },
   {
    "duration": 1710,
    "start_time": "2023-07-28T10:00:01.413Z"
   },
   {
    "duration": 427,
    "start_time": "2023-07-28T10:00:03.125Z"
   },
   {
    "duration": 7,
    "start_time": "2023-07-28T10:00:03.554Z"
   },
   {
    "duration": 1179,
    "start_time": "2023-07-28T10:00:03.563Z"
   },
   {
    "duration": 1076,
    "start_time": "2023-07-28T10:00:04.746Z"
   },
   {
    "duration": 1021,
    "start_time": "2023-07-28T10:00:05.824Z"
   },
   {
    "duration": 19,
    "start_time": "2023-07-28T10:00:06.846Z"
   },
   {
    "duration": 314,
    "start_time": "2023-07-28T10:00:06.867Z"
   },
   {
    "duration": 4,
    "start_time": "2023-07-28T10:00:07.183Z"
   },
   {
    "duration": 199,
    "start_time": "2023-07-28T10:00:07.189Z"
   },
   {
    "duration": 14,
    "start_time": "2023-07-28T10:00:07.390Z"
   },
   {
    "duration": 23,
    "start_time": "2023-07-28T10:00:07.407Z"
   },
   {
    "duration": 6,
    "start_time": "2023-07-28T10:00:07.431Z"
   },
   {
    "duration": 158,
    "start_time": "2023-07-28T10:00:07.439Z"
   },
   {
    "duration": 14602,
    "start_time": "2023-07-28T10:01:06.656Z"
   },
   {
    "duration": 110,
    "start_time": "2023-07-28T10:02:07.788Z"
   },
   {
    "duration": 64,
    "start_time": "2023-07-28T10:02:24.829Z"
   },
   {
    "duration": 158,
    "start_time": "2023-07-28T10:03:09.728Z"
   },
   {
    "duration": 145,
    "start_time": "2023-07-28T10:04:35.737Z"
   },
   {
    "duration": 400,
    "start_time": "2023-07-28T10:05:00.097Z"
   },
   {
    "duration": 4,
    "start_time": "2023-07-28T10:05:09.263Z"
   },
   {
    "duration": 1637,
    "start_time": "2023-07-28T10:05:09.269Z"
   },
   {
    "duration": 409,
    "start_time": "2023-07-28T10:05:10.908Z"
   },
   {
    "duration": 7,
    "start_time": "2023-07-28T10:05:11.319Z"
   },
   {
    "duration": 1018,
    "start_time": "2023-07-28T10:05:11.330Z"
   },
   {
    "duration": 1054,
    "start_time": "2023-07-28T10:05:12.350Z"
   },
   {
    "duration": 960,
    "start_time": "2023-07-28T10:05:13.407Z"
   },
   {
    "duration": 27,
    "start_time": "2023-07-28T10:05:14.369Z"
   },
   {
    "duration": 499,
    "start_time": "2023-07-28T10:05:14.398Z"
   },
   {
    "duration": 87,
    "start_time": "2023-07-28T10:05:14.902Z"
   },
   {
    "duration": 93,
    "start_time": "2023-07-28T10:05:14.996Z"
   },
   {
    "duration": 30,
    "start_time": "2023-07-28T10:05:15.091Z"
   },
   {
    "duration": 27,
    "start_time": "2023-07-28T10:05:15.122Z"
   },
   {
    "duration": 3,
    "start_time": "2023-07-28T10:05:15.152Z"
   },
   {
    "duration": 151,
    "start_time": "2023-07-28T10:05:15.156Z"
   },
   {
    "duration": 14,
    "start_time": "2023-07-28T10:05:42.130Z"
   },
   {
    "duration": 15,
    "start_time": "2023-07-28T10:07:46.102Z"
   },
   {
    "duration": 11,
    "start_time": "2023-07-28T10:07:57.938Z"
   },
   {
    "duration": 4,
    "start_time": "2023-07-28T10:08:10.030Z"
   },
   {
    "duration": 1535,
    "start_time": "2023-07-28T10:08:10.037Z"
   },
   {
    "duration": 430,
    "start_time": "2023-07-28T10:08:11.574Z"
   },
   {
    "duration": 6,
    "start_time": "2023-07-28T10:08:12.006Z"
   },
   {
    "duration": 997,
    "start_time": "2023-07-28T10:08:12.015Z"
   },
   {
    "duration": 1056,
    "start_time": "2023-07-28T10:08:13.015Z"
   },
   {
    "duration": 966,
    "start_time": "2023-07-28T10:08:14.073Z"
   },
   {
    "duration": 19,
    "start_time": "2023-07-28T10:08:15.041Z"
   },
   {
    "duration": 431,
    "start_time": "2023-07-28T10:08:15.062Z"
   },
   {
    "duration": 6,
    "start_time": "2023-07-28T10:08:15.496Z"
   },
   {
    "duration": 19,
    "start_time": "2023-07-28T10:08:15.578Z"
   },
   {
    "duration": 77,
    "start_time": "2023-07-28T10:08:15.599Z"
   },
   {
    "duration": 45,
    "start_time": "2023-07-28T10:08:15.679Z"
   },
   {
    "duration": 6,
    "start_time": "2023-07-28T10:08:15.726Z"
   },
   {
    "duration": 131,
    "start_time": "2023-07-28T10:08:15.734Z"
   },
   {
    "duration": 15,
    "start_time": "2023-07-28T10:08:41.748Z"
   },
   {
    "duration": 14653,
    "start_time": "2023-07-28T10:09:50.441Z"
   },
   {
    "duration": 12,
    "start_time": "2023-07-28T10:10:17.211Z"
   },
   {
    "duration": 13,
    "start_time": "2023-07-28T10:11:49.546Z"
   },
   {
    "duration": 5044,
    "start_time": "2023-07-28T10:12:01.846Z"
   },
   {
    "duration": 4815,
    "start_time": "2023-07-28T10:12:25.372Z"
   },
   {
    "duration": 14216,
    "start_time": "2023-07-28T10:12:38.590Z"
   },
   {
    "duration": 14777,
    "start_time": "2023-07-28T10:13:13.438Z"
   },
   {
    "duration": 14522,
    "start_time": "2023-07-28T10:14:43.197Z"
   },
   {
    "duration": 3,
    "start_time": "2023-07-28T10:15:51.906Z"
   },
   {
    "duration": 28,
    "start_time": "2023-07-28T10:15:53.111Z"
   },
   {
    "duration": 24,
    "start_time": "2023-07-28T10:16:42.105Z"
   },
   {
    "duration": 3,
    "start_time": "2023-07-28T10:16:51.690Z"
   },
   {
    "duration": 15291,
    "start_time": "2023-07-28T10:16:52.640Z"
   },
   {
    "duration": 4,
    "start_time": "2023-07-28T10:19:00.862Z"
   },
   {
    "duration": 14655,
    "start_time": "2023-07-28T10:19:03.599Z"
   },
   {
    "duration": 3,
    "start_time": "2023-07-28T10:23:55.994Z"
   },
   {
    "duration": 16233,
    "start_time": "2023-07-28T10:23:58.649Z"
   },
   {
    "duration": 18,
    "start_time": "2023-07-28T10:30:00.545Z"
   },
   {
    "duration": 16,
    "start_time": "2023-07-28T10:30:13.091Z"
   },
   {
    "duration": 16,
    "start_time": "2023-07-28T10:30:43.613Z"
   },
   {
    "duration": 10901,
    "start_time": "2023-07-28T10:33:13.303Z"
   },
   {
    "duration": 5825,
    "start_time": "2023-07-28T11:18:02.696Z"
   },
   {
    "duration": 2112,
    "start_time": "2023-07-28T11:22:21.728Z"
   },
   {
    "duration": 1735,
    "start_time": "2023-07-28T11:23:27.761Z"
   },
   {
    "duration": 2237,
    "start_time": "2023-07-28T11:23:44.896Z"
   },
   {
    "duration": 26,
    "start_time": "2023-07-28T11:25:15.296Z"
   },
   {
    "duration": 1473,
    "start_time": "2023-07-28T11:26:12.533Z"
   },
   {
    "duration": 1261,
    "start_time": "2023-07-28T11:26:18.441Z"
   },
   {
    "duration": 1659,
    "start_time": "2023-07-28T11:26:32.688Z"
   },
   {
    "duration": 18,
    "start_time": "2023-07-28T11:26:55.183Z"
   },
   {
    "duration": 14,
    "start_time": "2023-07-28T11:27:24.802Z"
   },
   {
    "duration": 4,
    "start_time": "2023-07-28T11:29:59.062Z"
   },
   {
    "duration": 16,
    "start_time": "2023-07-28T11:30:00.086Z"
   },
   {
    "duration": 4,
    "start_time": "2023-07-28T11:30:36.523Z"
   },
   {
    "duration": 1413,
    "start_time": "2023-07-28T11:30:36.528Z"
   },
   {
    "duration": 411,
    "start_time": "2023-07-28T11:30:37.943Z"
   },
   {
    "duration": 7,
    "start_time": "2023-07-28T11:30:38.355Z"
   },
   {
    "duration": 917,
    "start_time": "2023-07-28T11:30:38.364Z"
   },
   {
    "duration": 970,
    "start_time": "2023-07-28T11:30:39.283Z"
   },
   {
    "duration": 964,
    "start_time": "2023-07-28T11:30:40.255Z"
   },
   {
    "duration": 18,
    "start_time": "2023-07-28T11:30:41.221Z"
   },
   {
    "duration": 127,
    "start_time": "2023-07-28T11:30:41.240Z"
   },
   {
    "duration": 0,
    "start_time": "2023-07-28T11:30:41.369Z"
   },
   {
    "duration": 0,
    "start_time": "2023-07-28T11:30:41.374Z"
   },
   {
    "duration": 0,
    "start_time": "2023-07-28T11:30:41.375Z"
   },
   {
    "duration": 0,
    "start_time": "2023-07-28T11:30:41.375Z"
   },
   {
    "duration": 0,
    "start_time": "2023-07-28T11:30:41.376Z"
   },
   {
    "duration": 0,
    "start_time": "2023-07-28T11:30:41.377Z"
   },
   {
    "duration": 3,
    "start_time": "2023-07-28T11:31:17.650Z"
   },
   {
    "duration": 1461,
    "start_time": "2023-07-28T11:31:17.655Z"
   },
   {
    "duration": 389,
    "start_time": "2023-07-28T11:31:19.118Z"
   },
   {
    "duration": 6,
    "start_time": "2023-07-28T11:31:19.509Z"
   },
   {
    "duration": 1015,
    "start_time": "2023-07-28T11:31:19.516Z"
   },
   {
    "duration": 1092,
    "start_time": "2023-07-28T11:31:20.533Z"
   },
   {
    "duration": 984,
    "start_time": "2023-07-28T11:31:21.627Z"
   },
   {
    "duration": 20,
    "start_time": "2023-07-28T11:31:22.612Z"
   },
   {
    "duration": 170,
    "start_time": "2023-07-28T11:31:22.634Z"
   },
   {
    "duration": 0,
    "start_time": "2023-07-28T11:31:22.806Z"
   },
   {
    "duration": 0,
    "start_time": "2023-07-28T11:31:22.808Z"
   },
   {
    "duration": 0,
    "start_time": "2023-07-28T11:31:22.809Z"
   },
   {
    "duration": 0,
    "start_time": "2023-07-28T11:31:22.811Z"
   },
   {
    "duration": 0,
    "start_time": "2023-07-28T11:31:22.812Z"
   },
   {
    "duration": 0,
    "start_time": "2023-07-28T11:31:22.814Z"
   },
   {
    "duration": 4,
    "start_time": "2023-07-28T11:32:19.538Z"
   },
   {
    "duration": 1881,
    "start_time": "2023-07-28T11:32:19.544Z"
   },
   {
    "duration": 398,
    "start_time": "2023-07-28T11:32:21.427Z"
   },
   {
    "duration": 6,
    "start_time": "2023-07-28T11:32:21.827Z"
   },
   {
    "duration": 935,
    "start_time": "2023-07-28T11:32:21.834Z"
   },
   {
    "duration": 995,
    "start_time": "2023-07-28T11:32:22.774Z"
   },
   {
    "duration": 931,
    "start_time": "2023-07-28T11:32:23.771Z"
   },
   {
    "duration": 18,
    "start_time": "2023-07-28T11:32:24.704Z"
   },
   {
    "duration": 145,
    "start_time": "2023-07-28T11:32:24.724Z"
   },
   {
    "duration": 0,
    "start_time": "2023-07-28T11:32:24.871Z"
   },
   {
    "duration": 0,
    "start_time": "2023-07-28T11:32:24.872Z"
   },
   {
    "duration": 0,
    "start_time": "2023-07-28T11:32:24.877Z"
   },
   {
    "duration": 1,
    "start_time": "2023-07-28T11:32:24.881Z"
   },
   {
    "duration": 0,
    "start_time": "2023-07-28T11:32:24.882Z"
   },
   {
    "duration": 0,
    "start_time": "2023-07-28T11:32:24.883Z"
   },
   {
    "duration": 6,
    "start_time": "2023-07-28T11:33:04.371Z"
   },
   {
    "duration": 1614,
    "start_time": "2023-07-28T11:33:04.379Z"
   },
   {
    "duration": 401,
    "start_time": "2023-07-28T11:33:05.996Z"
   },
   {
    "duration": 6,
    "start_time": "2023-07-28T11:33:06.400Z"
   },
   {
    "duration": 995,
    "start_time": "2023-07-28T11:33:06.408Z"
   },
   {
    "duration": 1109,
    "start_time": "2023-07-28T11:33:07.405Z"
   },
   {
    "duration": 952,
    "start_time": "2023-07-28T11:33:08.517Z"
   },
   {
    "duration": 23,
    "start_time": "2023-07-28T11:33:09.476Z"
   },
   {
    "duration": 385,
    "start_time": "2023-07-28T11:33:09.501Z"
   },
   {
    "duration": 91,
    "start_time": "2023-07-28T11:33:09.890Z"
   },
   {
    "duration": 97,
    "start_time": "2023-07-28T11:33:09.987Z"
   },
   {
    "duration": 5,
    "start_time": "2023-07-28T11:33:10.088Z"
   },
   {
    "duration": 39,
    "start_time": "2023-07-28T11:33:10.095Z"
   },
   {
    "duration": 12,
    "start_time": "2023-07-28T11:33:10.136Z"
   },
   {
    "duration": 174,
    "start_time": "2023-07-28T11:33:10.149Z"
   },
   {
    "duration": 5097,
    "start_time": "2023-07-28T11:34:29.574Z"
   },
   {
    "duration": 419,
    "start_time": "2023-07-28T11:36:37.063Z"
   },
   {
    "duration": 10,
    "start_time": "2023-07-28T11:36:48.099Z"
   },
   {
    "duration": 3,
    "start_time": "2023-07-28T11:36:59.213Z"
   },
   {
    "duration": 5,
    "start_time": "2023-07-28T11:37:02.491Z"
   },
   {
    "duration": 4,
    "start_time": "2023-07-28T11:37:56.253Z"
   },
   {
    "duration": 11471,
    "start_time": "2023-07-28T11:37:56.258Z"
   },
   {
    "duration": 10953,
    "start_time": "2023-07-28T11:39:54.150Z"
   },
   {
    "duration": 359,
    "start_time": "2023-07-28T11:46:12.729Z"
   },
   {
    "duration": 12,
    "start_time": "2023-07-28T11:55:52.508Z"
   },
   {
    "duration": 19,
    "start_time": "2023-07-28T11:57:40.449Z"
   },
   {
    "duration": 13,
    "start_time": "2023-07-28T12:02:53.458Z"
   },
   {
    "duration": 61,
    "start_time": "2023-07-28T12:07:33.106Z"
   },
   {
    "duration": 66,
    "start_time": "2023-07-28T12:07:39.008Z"
   },
   {
    "duration": 19,
    "start_time": "2023-07-28T12:07:43.262Z"
   },
   {
    "duration": 7,
    "start_time": "2023-07-28T12:07:53.640Z"
   },
   {
    "duration": 29,
    "start_time": "2023-07-28T12:08:30.948Z"
   },
   {
    "duration": 18,
    "start_time": "2023-07-28T12:14:27.688Z"
   },
   {
    "duration": 191,
    "start_time": "2023-07-28T12:15:10.610Z"
   },
   {
    "duration": 17,
    "start_time": "2023-07-28T12:15:11.852Z"
   },
   {
    "duration": 4,
    "start_time": "2023-07-28T12:15:19.443Z"
   },
   {
    "duration": 1768,
    "start_time": "2023-07-28T12:15:19.449Z"
   },
   {
    "duration": 419,
    "start_time": "2023-07-28T12:15:21.219Z"
   },
   {
    "duration": 6,
    "start_time": "2023-07-28T12:15:21.640Z"
   },
   {
    "duration": 1053,
    "start_time": "2023-07-28T12:15:21.648Z"
   },
   {
    "duration": 1132,
    "start_time": "2023-07-28T12:15:22.705Z"
   },
   {
    "duration": 1019,
    "start_time": "2023-07-28T12:15:23.838Z"
   },
   {
    "duration": 17,
    "start_time": "2023-07-28T12:15:24.859Z"
   },
   {
    "duration": 300,
    "start_time": "2023-07-28T12:15:24.881Z"
   },
   {
    "duration": 0,
    "start_time": "2023-07-28T12:15:25.192Z"
   },
   {
    "duration": 0,
    "start_time": "2023-07-28T12:15:25.193Z"
   },
   {
    "duration": 0,
    "start_time": "2023-07-28T12:15:25.195Z"
   },
   {
    "duration": 0,
    "start_time": "2023-07-28T12:15:25.195Z"
   },
   {
    "duration": 0,
    "start_time": "2023-07-28T12:15:25.197Z"
   },
   {
    "duration": 0,
    "start_time": "2023-07-28T12:15:25.198Z"
   },
   {
    "duration": 0,
    "start_time": "2023-07-28T12:15:25.199Z"
   },
   {
    "duration": 0,
    "start_time": "2023-07-28T12:15:25.200Z"
   },
   {
    "duration": 0,
    "start_time": "2023-07-28T12:15:25.201Z"
   },
   {
    "duration": 49,
    "start_time": "2023-07-28T12:15:35.362Z"
   },
   {
    "duration": 12,
    "start_time": "2023-07-28T12:15:36.760Z"
   },
   {
    "duration": 139,
    "start_time": "2023-07-28T12:15:51.838Z"
   },
   {
    "duration": 118,
    "start_time": "2023-07-28T12:15:52.963Z"
   },
   {
    "duration": 35,
    "start_time": "2023-07-28T12:16:08.422Z"
   },
   {
    "duration": 44,
    "start_time": "2023-07-28T12:16:43.766Z"
   },
   {
    "duration": 30,
    "start_time": "2023-07-28T12:16:45.237Z"
   },
   {
    "duration": 4,
    "start_time": "2023-07-28T12:16:54.331Z"
   },
   {
    "duration": 1371,
    "start_time": "2023-07-28T12:16:54.338Z"
   },
   {
    "duration": 387,
    "start_time": "2023-07-28T12:16:55.711Z"
   },
   {
    "duration": 8,
    "start_time": "2023-07-28T12:16:56.101Z"
   },
   {
    "duration": 926,
    "start_time": "2023-07-28T12:16:56.111Z"
   },
   {
    "duration": 1051,
    "start_time": "2023-07-28T12:16:57.039Z"
   },
   {
    "duration": 923,
    "start_time": "2023-07-28T12:16:58.092Z"
   },
   {
    "duration": 17,
    "start_time": "2023-07-28T12:16:59.017Z"
   },
   {
    "duration": 323,
    "start_time": "2023-07-28T12:16:59.036Z"
   },
   {
    "duration": 0,
    "start_time": "2023-07-28T12:16:59.361Z"
   },
   {
    "duration": 0,
    "start_time": "2023-07-28T12:16:59.363Z"
   },
   {
    "duration": 0,
    "start_time": "2023-07-28T12:16:59.364Z"
   },
   {
    "duration": 0,
    "start_time": "2023-07-28T12:16:59.365Z"
   },
   {
    "duration": 0,
    "start_time": "2023-07-28T12:16:59.366Z"
   },
   {
    "duration": 0,
    "start_time": "2023-07-28T12:16:59.383Z"
   },
   {
    "duration": 0,
    "start_time": "2023-07-28T12:16:59.383Z"
   },
   {
    "duration": 0,
    "start_time": "2023-07-28T12:16:59.384Z"
   },
   {
    "duration": 0,
    "start_time": "2023-07-28T12:16:59.386Z"
   },
   {
    "duration": 305,
    "start_time": "2023-07-28T12:17:16.488Z"
   },
   {
    "duration": 10,
    "start_time": "2023-07-28T12:17:21.158Z"
   },
   {
    "duration": 171,
    "start_time": "2023-07-28T12:17:22.910Z"
   },
   {
    "duration": 14,
    "start_time": "2023-07-28T12:17:24.140Z"
   },
   {
    "duration": 23,
    "start_time": "2023-07-28T12:18:04.065Z"
   },
   {
    "duration": 15,
    "start_time": "2023-07-28T12:18:37.070Z"
   },
   {
    "duration": 1570,
    "start_time": "2023-07-28T12:18:37.089Z"
   },
   {
    "duration": 498,
    "start_time": "2023-07-28T12:18:38.661Z"
   },
   {
    "duration": 6,
    "start_time": "2023-07-28T12:18:39.161Z"
   },
   {
    "duration": 993,
    "start_time": "2023-07-28T12:18:39.170Z"
   },
   {
    "duration": 1233,
    "start_time": "2023-07-28T12:18:40.165Z"
   },
   {
    "duration": 1034,
    "start_time": "2023-07-28T12:18:41.400Z"
   },
   {
    "duration": 24,
    "start_time": "2023-07-28T12:18:42.436Z"
   },
   {
    "duration": 429,
    "start_time": "2023-07-28T12:18:42.477Z"
   },
   {
    "duration": 168,
    "start_time": "2023-07-28T12:18:42.912Z"
   },
   {
    "duration": 321,
    "start_time": "2023-07-28T12:18:43.086Z"
   },
   {
    "duration": 0,
    "start_time": "2023-07-28T12:18:43.409Z"
   },
   {
    "duration": 0,
    "start_time": "2023-07-28T12:18:43.411Z"
   },
   {
    "duration": 0,
    "start_time": "2023-07-28T12:18:43.412Z"
   },
   {
    "duration": 0,
    "start_time": "2023-07-28T12:18:43.414Z"
   },
   {
    "duration": 0,
    "start_time": "2023-07-28T12:18:43.415Z"
   },
   {
    "duration": 0,
    "start_time": "2023-07-28T12:18:43.416Z"
   },
   {
    "duration": 0,
    "start_time": "2023-07-28T12:18:43.417Z"
   },
   {
    "duration": 195,
    "start_time": "2023-07-28T12:19:33.598Z"
   },
   {
    "duration": 94,
    "start_time": "2023-07-28T12:19:52.707Z"
   },
   {
    "duration": 14,
    "start_time": "2023-07-28T12:19:55.127Z"
   },
   {
    "duration": 57,
    "start_time": "2023-07-28T12:20:01.731Z"
   },
   {
    "duration": 22,
    "start_time": "2023-07-28T12:20:03.370Z"
   },
   {
    "duration": 163,
    "start_time": "2023-07-28T12:20:38.725Z"
   },
   {
    "duration": 13,
    "start_time": "2023-07-28T12:20:42.649Z"
   },
   {
    "duration": 34,
    "start_time": "2023-07-28T12:45:13.096Z"
   },
   {
    "duration": 4,
    "start_time": "2023-07-28T12:45:29.338Z"
   },
   {
    "duration": 1556,
    "start_time": "2023-07-28T12:45:29.344Z"
   },
   {
    "duration": 400,
    "start_time": "2023-07-28T12:45:30.901Z"
   },
   {
    "duration": 6,
    "start_time": "2023-07-28T12:45:31.303Z"
   },
   {
    "duration": 1007,
    "start_time": "2023-07-28T12:45:31.311Z"
   },
   {
    "duration": 1064,
    "start_time": "2023-07-28T12:45:32.320Z"
   },
   {
    "duration": 978,
    "start_time": "2023-07-28T12:45:33.386Z"
   },
   {
    "duration": 33,
    "start_time": "2023-07-28T12:45:34.365Z"
   },
   {
    "duration": 387,
    "start_time": "2023-07-28T12:45:34.400Z"
   },
   {
    "duration": 0,
    "start_time": "2023-07-28T12:45:34.789Z"
   },
   {
    "duration": 0,
    "start_time": "2023-07-28T12:45:34.791Z"
   },
   {
    "duration": 0,
    "start_time": "2023-07-28T12:45:34.792Z"
   },
   {
    "duration": 0,
    "start_time": "2023-07-28T12:45:34.793Z"
   },
   {
    "duration": 0,
    "start_time": "2023-07-28T12:45:34.794Z"
   },
   {
    "duration": 0,
    "start_time": "2023-07-28T12:45:34.795Z"
   },
   {
    "duration": 0,
    "start_time": "2023-07-28T12:45:34.796Z"
   },
   {
    "duration": 0,
    "start_time": "2023-07-28T12:45:34.797Z"
   },
   {
    "duration": 0,
    "start_time": "2023-07-28T12:45:34.798Z"
   },
   {
    "duration": 44,
    "start_time": "2023-07-28T12:46:01.642Z"
   },
   {
    "duration": 42,
    "start_time": "2023-07-28T12:46:17.645Z"
   },
   {
    "duration": 3,
    "start_time": "2023-07-28T12:46:24.767Z"
   },
   {
    "duration": 1385,
    "start_time": "2023-07-28T12:46:24.772Z"
   },
   {
    "duration": 432,
    "start_time": "2023-07-28T12:46:26.159Z"
   },
   {
    "duration": 6,
    "start_time": "2023-07-28T12:46:26.592Z"
   },
   {
    "duration": 924,
    "start_time": "2023-07-28T12:46:26.600Z"
   },
   {
    "duration": 1020,
    "start_time": "2023-07-28T12:46:27.526Z"
   },
   {
    "duration": 942,
    "start_time": "2023-07-28T12:46:28.547Z"
   },
   {
    "duration": 20,
    "start_time": "2023-07-28T12:46:29.491Z"
   },
   {
    "duration": 363,
    "start_time": "2023-07-28T12:46:29.513Z"
   },
   {
    "duration": 11,
    "start_time": "2023-07-28T12:46:29.878Z"
   },
   {
    "duration": 404,
    "start_time": "2023-07-28T12:46:29.892Z"
   },
   {
    "duration": 0,
    "start_time": "2023-07-28T12:46:30.299Z"
   },
   {
    "duration": 0,
    "start_time": "2023-07-28T12:46:30.300Z"
   },
   {
    "duration": 0,
    "start_time": "2023-07-28T12:46:30.301Z"
   },
   {
    "duration": 0,
    "start_time": "2023-07-28T12:46:30.302Z"
   },
   {
    "duration": 0,
    "start_time": "2023-07-28T12:46:30.304Z"
   },
   {
    "duration": 0,
    "start_time": "2023-07-28T12:46:30.306Z"
   },
   {
    "duration": 0,
    "start_time": "2023-07-28T12:46:30.307Z"
   },
   {
    "duration": 13,
    "start_time": "2023-07-28T12:46:59.864Z"
   },
   {
    "duration": 236,
    "start_time": "2023-07-28T12:50:15.943Z"
   },
   {
    "duration": 211,
    "start_time": "2023-07-28T12:50:31.770Z"
   },
   {
    "duration": 459,
    "start_time": "2023-07-28T12:50:42.240Z"
   },
   {
    "duration": 9,
    "start_time": "2023-07-28T12:50:45.021Z"
   },
   {
    "duration": 187,
    "start_time": "2023-07-28T13:04:00.300Z"
   },
   {
    "duration": 56,
    "start_time": "2023-07-28T13:04:09.044Z"
   },
   {
    "duration": 38,
    "start_time": "2023-07-28T13:05:22.122Z"
   },
   {
    "duration": 47,
    "start_time": "2023-07-28T13:05:44.807Z"
   },
   {
    "duration": 126,
    "start_time": "2023-07-28T13:05:47.161Z"
   },
   {
    "duration": 32,
    "start_time": "2023-07-28T13:06:59.205Z"
   },
   {
    "duration": 6,
    "start_time": "2023-07-28T13:08:22.415Z"
   },
   {
    "duration": 6,
    "start_time": "2023-07-28T13:09:10.003Z"
   },
   {
    "duration": 4,
    "start_time": "2023-07-28T13:09:28.437Z"
   },
   {
    "duration": 5,
    "start_time": "2023-07-28T13:09:51.341Z"
   },
   {
    "duration": 4,
    "start_time": "2023-07-28T13:10:03.043Z"
   },
   {
    "duration": 8,
    "start_time": "2023-07-28T13:10:14.995Z"
   },
   {
    "duration": 4,
    "start_time": "2023-07-28T13:10:16.703Z"
   },
   {
    "duration": 16,
    "start_time": "2023-07-28T13:10:19.615Z"
   },
   {
    "duration": 13,
    "start_time": "2023-07-28T13:15:23.615Z"
   },
   {
    "duration": 17,
    "start_time": "2023-07-28T13:15:35.907Z"
   },
   {
    "duration": 29,
    "start_time": "2023-07-28T13:16:00.038Z"
   },
   {
    "duration": 25,
    "start_time": "2023-07-28T13:16:13.805Z"
   },
   {
    "duration": 32,
    "start_time": "2023-07-28T13:16:40.295Z"
   },
   {
    "duration": 65,
    "start_time": "2023-07-28T13:18:07.436Z"
   },
   {
    "duration": 51,
    "start_time": "2023-07-28T13:18:25.821Z"
   },
   {
    "duration": 23,
    "start_time": "2023-07-28T13:25:00.710Z"
   },
   {
    "duration": 61,
    "start_time": "2023-07-28T13:25:03.098Z"
   },
   {
    "duration": 3,
    "start_time": "2023-07-28T13:25:04.217Z"
   },
   {
    "duration": 27,
    "start_time": "2023-07-28T13:25:05.536Z"
   },
   {
    "duration": 76,
    "start_time": "2023-07-28T13:29:44.220Z"
   },
   {
    "duration": 29,
    "start_time": "2023-07-28T13:29:52.414Z"
   },
   {
    "duration": 7,
    "start_time": "2023-07-28T13:31:03.916Z"
   },
   {
    "duration": 15,
    "start_time": "2023-07-28T13:31:08.138Z"
   },
   {
    "duration": 15,
    "start_time": "2023-07-28T13:32:16.142Z"
   },
   {
    "duration": 3,
    "start_time": "2023-07-28T13:32:27.840Z"
   },
   {
    "duration": 1435,
    "start_time": "2023-07-28T13:32:27.844Z"
   },
   {
    "duration": 447,
    "start_time": "2023-07-28T13:32:29.280Z"
   },
   {
    "duration": 6,
    "start_time": "2023-07-28T13:32:29.728Z"
   },
   {
    "duration": 973,
    "start_time": "2023-07-28T13:32:29.736Z"
   },
   {
    "duration": 1069,
    "start_time": "2023-07-28T13:32:30.711Z"
   },
   {
    "duration": 983,
    "start_time": "2023-07-28T13:32:31.781Z"
   },
   {
    "duration": 29,
    "start_time": "2023-07-28T13:32:32.766Z"
   },
   {
    "duration": 98,
    "start_time": "2023-07-28T13:32:32.797Z"
   },
   {
    "duration": 124,
    "start_time": "2023-07-28T13:32:32.902Z"
   },
   {
    "duration": 141,
    "start_time": "2023-07-28T13:32:33.078Z"
   },
   {
    "duration": 89,
    "start_time": "2023-07-28T13:32:33.292Z"
   },
   {
    "duration": 26,
    "start_time": "2023-07-28T13:32:33.383Z"
   },
   {
    "duration": 21,
    "start_time": "2023-07-28T13:32:33.413Z"
   },
   {
    "duration": 38,
    "start_time": "2023-07-28T13:32:33.436Z"
   },
   {
    "duration": 166,
    "start_time": "2023-07-28T13:32:33.475Z"
   },
   {
    "duration": 0,
    "start_time": "2023-07-28T13:32:33.642Z"
   },
   {
    "duration": 0,
    "start_time": "2023-07-28T13:32:33.646Z"
   },
   {
    "duration": 0,
    "start_time": "2023-07-28T13:32:33.650Z"
   },
   {
    "duration": 42,
    "start_time": "2023-07-28T13:32:42.116Z"
   },
   {
    "duration": 3,
    "start_time": "2023-07-28T13:32:43.115Z"
   },
   {
    "duration": 158,
    "start_time": "2023-07-28T13:32:44.459Z"
   },
   {
    "duration": 20,
    "start_time": "2023-07-28T13:33:31.912Z"
   },
   {
    "duration": 16,
    "start_time": "2023-07-28T13:34:36.423Z"
   },
   {
    "duration": 18,
    "start_time": "2023-07-28T13:34:59.017Z"
   },
   {
    "duration": 15,
    "start_time": "2023-07-28T13:36:01.108Z"
   },
   {
    "duration": 15,
    "start_time": "2023-07-28T13:36:16.207Z"
   },
   {
    "duration": 20,
    "start_time": "2023-07-28T13:36:31.848Z"
   },
   {
    "duration": 3,
    "start_time": "2023-07-28T13:37:16.760Z"
   },
   {
    "duration": 1512,
    "start_time": "2023-07-28T13:37:16.765Z"
   },
   {
    "duration": 458,
    "start_time": "2023-07-28T13:37:18.283Z"
   },
   {
    "duration": 7,
    "start_time": "2023-07-28T13:37:18.744Z"
   },
   {
    "duration": 1059,
    "start_time": "2023-07-28T13:37:18.753Z"
   },
   {
    "duration": 1249,
    "start_time": "2023-07-28T13:37:19.815Z"
   },
   {
    "duration": 1133,
    "start_time": "2023-07-28T13:37:21.066Z"
   },
   {
    "duration": 23,
    "start_time": "2023-07-28T13:37:22.205Z"
   },
   {
    "duration": 86,
    "start_time": "2023-07-28T13:37:22.230Z"
   },
   {
    "duration": 131,
    "start_time": "2023-07-28T13:37:22.383Z"
   },
   {
    "duration": 191,
    "start_time": "2023-07-28T13:37:22.516Z"
   },
   {
    "duration": 83,
    "start_time": "2023-07-28T13:37:22.710Z"
   },
   {
    "duration": 102,
    "start_time": "2023-07-28T13:37:22.795Z"
   },
   {
    "duration": 8,
    "start_time": "2023-07-28T13:37:22.899Z"
   },
   {
    "duration": 46,
    "start_time": "2023-07-28T13:37:22.909Z"
   },
   {
    "duration": 56,
    "start_time": "2023-07-28T13:37:22.957Z"
   },
   {
    "duration": 4,
    "start_time": "2023-07-28T13:37:23.015Z"
   },
   {
    "duration": 191,
    "start_time": "2023-07-28T13:37:23.020Z"
   },
   {
    "duration": 18,
    "start_time": "2023-07-28T13:38:26.597Z"
   },
   {
    "duration": 3,
    "start_time": "2023-07-28T13:40:14.962Z"
   },
   {
    "duration": 1555,
    "start_time": "2023-07-28T13:40:14.967Z"
   },
   {
    "duration": 486,
    "start_time": "2023-07-28T13:40:16.523Z"
   },
   {
    "duration": 9,
    "start_time": "2023-07-28T13:40:17.011Z"
   },
   {
    "duration": 1037,
    "start_time": "2023-07-28T13:40:17.022Z"
   },
   {
    "duration": 1055,
    "start_time": "2023-07-28T13:40:18.061Z"
   },
   {
    "duration": 902,
    "start_time": "2023-07-28T13:40:19.118Z"
   },
   {
    "duration": 19,
    "start_time": "2023-07-28T13:40:20.021Z"
   },
   {
    "duration": 67,
    "start_time": "2023-07-28T13:40:20.042Z"
   },
   {
    "duration": 170,
    "start_time": "2023-07-28T13:40:20.116Z"
   },
   {
    "duration": 193,
    "start_time": "2023-07-28T13:40:20.288Z"
   },
   {
    "duration": 5,
    "start_time": "2023-07-28T13:40:20.484Z"
   },
   {
    "duration": 90,
    "start_time": "2023-07-28T13:40:20.491Z"
   },
   {
    "duration": 29,
    "start_time": "2023-07-28T13:40:20.583Z"
   },
   {
    "duration": 71,
    "start_time": "2023-07-28T13:40:20.614Z"
   },
   {
    "duration": 44,
    "start_time": "2023-07-28T13:40:20.687Z"
   },
   {
    "duration": 5,
    "start_time": "2023-07-28T13:40:20.732Z"
   },
   {
    "duration": 166,
    "start_time": "2023-07-28T13:40:20.739Z"
   },
   {
    "duration": 6,
    "start_time": "2023-07-28T13:41:03.524Z"
   },
   {
    "duration": 5,
    "start_time": "2023-07-28T13:41:56.246Z"
   },
   {
    "duration": 37,
    "start_time": "2023-07-28T13:43:27.104Z"
   },
   {
    "duration": 6,
    "start_time": "2023-07-28T13:43:28.754Z"
   },
   {
    "duration": 3,
    "start_time": "2023-07-28T13:43:34.753Z"
   },
   {
    "duration": 1440,
    "start_time": "2023-07-28T13:43:34.758Z"
   },
   {
    "duration": 424,
    "start_time": "2023-07-28T13:43:36.203Z"
   },
   {
    "duration": 7,
    "start_time": "2023-07-28T13:43:36.628Z"
   },
   {
    "duration": 999,
    "start_time": "2023-07-28T13:43:36.637Z"
   },
   {
    "duration": 1083,
    "start_time": "2023-07-28T13:43:37.638Z"
   },
   {
    "duration": 975,
    "start_time": "2023-07-28T13:43:38.723Z"
   },
   {
    "duration": 21,
    "start_time": "2023-07-28T13:43:39.699Z"
   },
   {
    "duration": 186,
    "start_time": "2023-07-28T13:43:39.722Z"
   },
   {
    "duration": 43,
    "start_time": "2023-07-28T13:43:39.976Z"
   },
   {
    "duration": 182,
    "start_time": "2023-07-28T13:43:40.021Z"
   },
   {
    "duration": 7,
    "start_time": "2023-07-28T13:43:40.206Z"
   },
   {
    "duration": 30,
    "start_time": "2023-07-28T13:43:40.276Z"
   },
   {
    "duration": 83,
    "start_time": "2023-07-28T13:43:40.312Z"
   },
   {
    "duration": 38,
    "start_time": "2023-07-28T13:43:40.398Z"
   },
   {
    "duration": 35,
    "start_time": "2023-07-28T13:43:40.438Z"
   },
   {
    "duration": 9,
    "start_time": "2023-07-28T13:43:40.486Z"
   },
   {
    "duration": 17,
    "start_time": "2023-07-28T13:43:40.497Z"
   },
   {
    "duration": 182,
    "start_time": "2023-07-28T13:43:40.516Z"
   },
   {
    "duration": 3,
    "start_time": "2023-07-28T13:44:28.059Z"
   },
   {
    "duration": 20,
    "start_time": "2023-07-28T13:44:30.232Z"
   },
   {
    "duration": 3,
    "start_time": "2023-07-28T13:44:34.462Z"
   },
   {
    "duration": 24,
    "start_time": "2023-07-28T13:44:35.504Z"
   },
   {
    "duration": 5,
    "start_time": "2023-07-28T13:44:41.901Z"
   },
   {
    "duration": 22,
    "start_time": "2023-07-28T13:44:42.997Z"
   },
   {
    "duration": 4,
    "start_time": "2023-07-28T13:49:55.912Z"
   },
   {
    "duration": 22,
    "start_time": "2023-07-28T13:49:57.209Z"
   },
   {
    "duration": 64,
    "start_time": "2023-07-28T13:50:55.457Z"
   },
   {
    "duration": 4,
    "start_time": "2023-07-28T14:25:47.438Z"
   },
   {
    "duration": 23,
    "start_time": "2023-07-28T14:25:48.531Z"
   },
   {
    "duration": 4,
    "start_time": "2023-07-28T14:26:12.007Z"
   },
   {
    "duration": 22,
    "start_time": "2023-07-28T14:26:13.251Z"
   },
   {
    "duration": 70,
    "start_time": "2023-07-28T14:26:18.077Z"
   },
   {
    "duration": 3,
    "start_time": "2023-07-28T14:26:19.742Z"
   },
   {
    "duration": 39,
    "start_time": "2023-07-28T14:26:20.607Z"
   },
   {
    "duration": 4,
    "start_time": "2023-07-28T14:30:04.754Z"
   },
   {
    "duration": 21,
    "start_time": "2023-07-28T14:30:05.721Z"
   },
   {
    "duration": 3,
    "start_time": "2023-07-28T14:30:16.146Z"
   },
   {
    "duration": 1398,
    "start_time": "2023-07-28T14:30:16.151Z"
   },
   {
    "duration": 430,
    "start_time": "2023-07-28T14:30:17.551Z"
   },
   {
    "duration": 9,
    "start_time": "2023-07-28T14:30:17.984Z"
   },
   {
    "duration": 956,
    "start_time": "2023-07-28T14:30:17.995Z"
   },
   {
    "duration": 1053,
    "start_time": "2023-07-28T14:30:18.953Z"
   },
   {
    "duration": 1045,
    "start_time": "2023-07-28T14:30:20.009Z"
   },
   {
    "duration": 24,
    "start_time": "2023-07-28T14:30:21.055Z"
   },
   {
    "duration": 55,
    "start_time": "2023-07-28T14:30:21.086Z"
   },
   {
    "duration": 185,
    "start_time": "2023-07-28T14:30:21.197Z"
   },
   {
    "duration": 134,
    "start_time": "2023-07-28T14:30:21.386Z"
   },
   {
    "duration": 57,
    "start_time": "2023-07-28T14:30:21.522Z"
   },
   {
    "duration": 113,
    "start_time": "2023-07-28T14:30:21.580Z"
   },
   {
    "duration": 9,
    "start_time": "2023-07-28T14:30:21.694Z"
   },
   {
    "duration": 34,
    "start_time": "2023-07-28T14:30:21.705Z"
   },
   {
    "duration": 45,
    "start_time": "2023-07-28T14:30:21.740Z"
   },
   {
    "duration": 8,
    "start_time": "2023-07-28T14:30:21.787Z"
   },
   {
    "duration": 20,
    "start_time": "2023-07-28T14:30:21.797Z"
   },
   {
    "duration": 149,
    "start_time": "2023-07-28T14:30:21.819Z"
   },
   {
    "duration": 42,
    "start_time": "2023-07-28T14:34:22.244Z"
   },
   {
    "duration": 11,
    "start_time": "2023-07-28T14:34:27.696Z"
   },
   {
    "duration": 1477,
    "start_time": "2023-07-28T14:34:27.710Z"
   },
   {
    "duration": 417,
    "start_time": "2023-07-28T14:34:29.189Z"
   },
   {
    "duration": 14,
    "start_time": "2023-07-28T14:34:29.610Z"
   },
   {
    "duration": 994,
    "start_time": "2023-07-28T14:34:29.632Z"
   },
   {
    "duration": 1025,
    "start_time": "2023-07-28T14:34:30.628Z"
   },
   {
    "duration": 965,
    "start_time": "2023-07-28T14:34:31.654Z"
   },
   {
    "duration": 18,
    "start_time": "2023-07-28T14:34:32.621Z"
   },
   {
    "duration": 52,
    "start_time": "2023-07-28T14:34:32.641Z"
   },
   {
    "duration": 198,
    "start_time": "2023-07-28T14:34:32.695Z"
   },
   {
    "duration": 186,
    "start_time": "2023-07-28T14:34:32.901Z"
   },
   {
    "duration": 13,
    "start_time": "2023-07-28T14:34:33.105Z"
   },
   {
    "duration": 60,
    "start_time": "2023-07-28T14:34:33.177Z"
   },
   {
    "duration": 63,
    "start_time": "2023-07-28T14:34:33.239Z"
   },
   {
    "duration": 32,
    "start_time": "2023-07-28T14:34:33.308Z"
   },
   {
    "duration": 31,
    "start_time": "2023-07-28T14:34:33.342Z"
   },
   {
    "duration": 19,
    "start_time": "2023-07-28T14:34:33.392Z"
   },
   {
    "duration": 27,
    "start_time": "2023-07-28T14:34:33.412Z"
   },
   {
    "duration": 179,
    "start_time": "2023-07-28T14:34:33.441Z"
   },
   {
    "duration": 4,
    "start_time": "2023-07-28T14:35:48.507Z"
   },
   {
    "duration": 3,
    "start_time": "2023-07-28T14:41:09.627Z"
   },
   {
    "duration": 1310,
    "start_time": "2023-07-28T14:41:09.632Z"
   },
   {
    "duration": 390,
    "start_time": "2023-07-28T14:41:10.943Z"
   },
   {
    "duration": 5,
    "start_time": "2023-07-28T14:41:11.335Z"
   },
   {
    "duration": 956,
    "start_time": "2023-07-28T14:41:11.342Z"
   },
   {
    "duration": 960,
    "start_time": "2023-07-28T14:41:12.302Z"
   },
   {
    "duration": 963,
    "start_time": "2023-07-28T14:41:13.264Z"
   },
   {
    "duration": 19,
    "start_time": "2023-07-28T14:41:14.228Z"
   },
   {
    "duration": 56,
    "start_time": "2023-07-28T14:41:14.249Z"
   },
   {
    "duration": 199,
    "start_time": "2023-07-28T14:41:14.307Z"
   },
   {
    "duration": 131,
    "start_time": "2023-07-28T14:41:14.574Z"
   },
   {
    "duration": 83,
    "start_time": "2023-07-28T14:41:14.707Z"
   },
   {
    "duration": 92,
    "start_time": "2023-07-28T14:41:14.792Z"
   },
   {
    "duration": 20,
    "start_time": "2023-07-28T14:41:14.890Z"
   },
   {
    "duration": 19,
    "start_time": "2023-07-28T14:41:14.912Z"
   },
   {
    "duration": 87,
    "start_time": "2023-07-28T14:41:14.932Z"
   },
   {
    "duration": 0,
    "start_time": "2023-07-28T14:41:15.021Z"
   },
   {
    "duration": 0,
    "start_time": "2023-07-28T14:41:15.022Z"
   },
   {
    "duration": 0,
    "start_time": "2023-07-28T14:41:15.023Z"
   },
   {
    "duration": 176,
    "start_time": "2023-07-28T14:41:30.296Z"
   },
   {
    "duration": 68,
    "start_time": "2023-07-28T14:41:50.403Z"
   },
   {
    "duration": 14,
    "start_time": "2023-07-28T14:41:54.934Z"
   },
   {
    "duration": 7,
    "start_time": "2023-07-28T14:41:56.934Z"
   },
   {
    "duration": 4,
    "start_time": "2023-07-28T14:42:00.243Z"
   },
   {
    "duration": 164,
    "start_time": "2023-07-28T14:42:01.237Z"
   },
   {
    "duration": 68,
    "start_time": "2023-07-28T14:42:54.398Z"
   },
   {
    "duration": 91,
    "start_time": "2023-07-28T14:42:57.624Z"
   },
   {
    "duration": 16,
    "start_time": "2023-07-28T14:43:01.731Z"
   },
   {
    "duration": 9,
    "start_time": "2023-07-28T14:43:12.514Z"
   },
   {
    "duration": 5,
    "start_time": "2023-07-28T14:43:14.403Z"
   },
   {
    "duration": 3,
    "start_time": "2023-07-28T14:44:31.947Z"
   },
   {
    "duration": 6,
    "start_time": "2023-07-28T14:44:33.963Z"
   },
   {
    "duration": 3,
    "start_time": "2023-07-28T14:44:57.734Z"
   },
   {
    "duration": 21,
    "start_time": "2023-07-28T14:44:59.197Z"
   },
   {
    "duration": 4,
    "start_time": "2023-07-28T14:45:26.321Z"
   },
   {
    "duration": 12,
    "start_time": "2023-07-28T14:45:32.711Z"
   },
   {
    "duration": 6,
    "start_time": "2023-07-28T14:45:33.911Z"
   },
   {
    "duration": 3,
    "start_time": "2023-07-28T14:45:35.637Z"
   },
   {
    "duration": 19,
    "start_time": "2023-07-28T14:45:36.439Z"
   },
   {
    "duration": 10,
    "start_time": "2023-07-28T14:46:10.650Z"
   },
   {
    "duration": 11,
    "start_time": "2023-07-28T14:46:25.303Z"
   },
   {
    "duration": 3,
    "start_time": "2023-07-28T14:50:23.630Z"
   },
   {
    "duration": 11,
    "start_time": "2023-07-28T14:50:24.758Z"
   },
   {
    "duration": 4,
    "start_time": "2023-07-28T14:50:34.635Z"
   },
   {
    "duration": 1393,
    "start_time": "2023-07-28T14:50:34.641Z"
   },
   {
    "duration": 417,
    "start_time": "2023-07-28T14:50:36.036Z"
   },
   {
    "duration": 5,
    "start_time": "2023-07-28T14:50:36.454Z"
   },
   {
    "duration": 900,
    "start_time": "2023-07-28T14:50:36.461Z"
   },
   {
    "duration": 1039,
    "start_time": "2023-07-28T14:50:37.362Z"
   },
   {
    "duration": 868,
    "start_time": "2023-07-28T14:50:38.403Z"
   },
   {
    "duration": 26,
    "start_time": "2023-07-28T14:50:39.275Z"
   },
   {
    "duration": 2,
    "start_time": "2023-07-28T14:50:39.303Z"
   },
   {
    "duration": 78,
    "start_time": "2023-07-28T14:50:39.307Z"
   },
   {
    "duration": 118,
    "start_time": "2023-07-28T14:50:39.398Z"
   },
   {
    "duration": 176,
    "start_time": "2023-07-28T14:50:39.519Z"
   },
   {
    "duration": 10,
    "start_time": "2023-07-28T14:50:39.701Z"
   },
   {
    "duration": 16,
    "start_time": "2023-07-28T14:50:39.778Z"
   },
   {
    "duration": 81,
    "start_time": "2023-07-28T14:50:39.799Z"
   },
   {
    "duration": 31,
    "start_time": "2023-07-28T14:50:39.882Z"
   },
   {
    "duration": 6,
    "start_time": "2023-07-28T14:50:39.915Z"
   },
   {
    "duration": 72,
    "start_time": "2023-07-28T14:50:39.924Z"
   },
   {
    "duration": 85,
    "start_time": "2023-07-28T14:50:40.004Z"
   },
   {
    "duration": 144,
    "start_time": "2023-07-28T14:50:40.091Z"
   },
   {
    "duration": 21,
    "start_time": "2023-07-28T14:51:52.803Z"
   },
   {
    "duration": 5,
    "start_time": "2023-07-28T14:51:55.600Z"
   },
   {
    "duration": 20,
    "start_time": "2023-07-28T14:52:01.819Z"
   },
   {
    "duration": 9,
    "start_time": "2023-07-28T14:52:14.404Z"
   },
   {
    "duration": 5,
    "start_time": "2023-07-28T14:54:29.004Z"
   },
   {
    "duration": 1457,
    "start_time": "2023-07-28T14:54:29.011Z"
   },
   {
    "duration": 433,
    "start_time": "2023-07-28T14:54:30.470Z"
   },
   {
    "duration": 6,
    "start_time": "2023-07-28T14:54:30.905Z"
   },
   {
    "duration": 1045,
    "start_time": "2023-07-28T14:54:30.913Z"
   },
   {
    "duration": 1067,
    "start_time": "2023-07-28T14:54:31.959Z"
   },
   {
    "duration": 974,
    "start_time": "2023-07-28T14:54:33.028Z"
   },
   {
    "duration": 21,
    "start_time": "2023-07-28T14:54:34.003Z"
   },
   {
    "duration": 13,
    "start_time": "2023-07-28T14:54:34.026Z"
   },
   {
    "duration": 65,
    "start_time": "2023-07-28T14:54:34.041Z"
   },
   {
    "duration": 200,
    "start_time": "2023-07-28T14:54:34.108Z"
   },
   {
    "duration": 135,
    "start_time": "2023-07-28T14:54:34.379Z"
   },
   {
    "duration": 165,
    "start_time": "2023-07-28T14:54:34.516Z"
   },
   {
    "duration": 12,
    "start_time": "2023-07-28T14:54:34.697Z"
   },
   {
    "duration": 18,
    "start_time": "2023-07-28T14:54:34.710Z"
   },
   {
    "duration": 18,
    "start_time": "2023-07-28T14:54:34.730Z"
   },
   {
    "duration": 11,
    "start_time": "2023-07-28T14:54:34.750Z"
   },
   {
    "duration": 103,
    "start_time": "2023-07-28T14:54:34.782Z"
   },
   {
    "duration": 27,
    "start_time": "2023-07-28T14:54:34.887Z"
   },
   {
    "duration": 213,
    "start_time": "2023-07-28T14:54:34.916Z"
   },
   {
    "duration": 16,
    "start_time": "2023-07-28T14:55:30.909Z"
   },
   {
    "duration": 3,
    "start_time": "2023-07-28T14:57:17.111Z"
   },
   {
    "duration": 1326,
    "start_time": "2023-07-28T14:57:17.115Z"
   },
   {
    "duration": 398,
    "start_time": "2023-07-28T14:57:18.443Z"
   },
   {
    "duration": 5,
    "start_time": "2023-07-28T14:57:18.843Z"
   },
   {
    "duration": 896,
    "start_time": "2023-07-28T14:57:18.849Z"
   },
   {
    "duration": 1072,
    "start_time": "2023-07-28T14:57:19.747Z"
   },
   {
    "duration": 907,
    "start_time": "2023-07-28T14:57:20.820Z"
   },
   {
    "duration": 19,
    "start_time": "2023-07-28T14:57:21.728Z"
   },
   {
    "duration": 13,
    "start_time": "2023-07-28T14:57:21.748Z"
   },
   {
    "duration": 41,
    "start_time": "2023-07-28T14:57:21.777Z"
   },
   {
    "duration": 271,
    "start_time": "2023-07-28T14:57:21.822Z"
   },
   {
    "duration": 187,
    "start_time": "2023-07-28T14:57:22.102Z"
   },
   {
    "duration": 16,
    "start_time": "2023-07-28T14:57:22.292Z"
   },
   {
    "duration": 97,
    "start_time": "2023-07-28T14:57:22.310Z"
   },
   {
    "duration": 13,
    "start_time": "2023-07-28T14:57:22.409Z"
   },
   {
    "duration": 37,
    "start_time": "2023-07-28T14:57:22.423Z"
   },
   {
    "duration": 39,
    "start_time": "2023-07-28T14:57:22.461Z"
   },
   {
    "duration": 184,
    "start_time": "2023-07-28T14:57:22.503Z"
   },
   {
    "duration": 12,
    "start_time": "2023-07-28T14:57:22.689Z"
   },
   {
    "duration": 56,
    "start_time": "2023-07-28T14:57:22.702Z"
   },
   {
    "duration": 149,
    "start_time": "2023-07-28T14:57:22.760Z"
   },
   {
    "duration": 21,
    "start_time": "2023-07-28T14:59:16.208Z"
   },
   {
    "duration": 1342,
    "start_time": "2023-07-28T14:59:29.770Z"
   },
   {
    "duration": 1202,
    "start_time": "2023-07-28T15:01:01.125Z"
   },
   {
    "duration": 19,
    "start_time": "2023-07-28T15:03:14.803Z"
   },
   {
    "duration": 1252,
    "start_time": "2023-07-28T15:42:07.415Z"
   },
   {
    "duration": 1247,
    "start_time": "2023-07-28T15:42:56.012Z"
   },
   {
    "duration": 16,
    "start_time": "2023-07-28T15:52:32.802Z"
   },
   {
    "duration": 22,
    "start_time": "2023-07-28T15:53:03.048Z"
   },
   {
    "duration": 62,
    "start_time": "2023-07-28T15:53:24.619Z"
   },
   {
    "duration": 25,
    "start_time": "2023-07-28T15:53:28.668Z"
   },
   {
    "duration": 4,
    "start_time": "2023-07-28T15:57:23.553Z"
   },
   {
    "duration": 1478,
    "start_time": "2023-07-28T15:57:23.559Z"
   },
   {
    "duration": 415,
    "start_time": "2023-07-28T15:57:25.041Z"
   },
   {
    "duration": 5,
    "start_time": "2023-07-28T15:57:25.459Z"
   },
   {
    "duration": 932,
    "start_time": "2023-07-28T15:57:25.465Z"
   },
   {
    "duration": 1007,
    "start_time": "2023-07-28T15:57:26.399Z"
   },
   {
    "duration": 878,
    "start_time": "2023-07-28T15:57:27.407Z"
   },
   {
    "duration": 18,
    "start_time": "2023-07-28T15:57:28.288Z"
   },
   {
    "duration": 25,
    "start_time": "2023-07-28T15:57:28.307Z"
   },
   {
    "duration": 60,
    "start_time": "2023-07-28T15:57:28.334Z"
   },
   {
    "duration": 193,
    "start_time": "2023-07-28T15:57:28.396Z"
   },
   {
    "duration": 205,
    "start_time": "2023-07-28T15:57:28.591Z"
   },
   {
    "duration": 82,
    "start_time": "2023-07-28T15:57:28.800Z"
   },
   {
    "duration": 103,
    "start_time": "2023-07-28T15:57:28.886Z"
   },
   {
    "duration": 19,
    "start_time": "2023-07-28T15:57:28.991Z"
   },
   {
    "duration": 26,
    "start_time": "2023-07-28T15:57:29.012Z"
   },
   {
    "duration": 39,
    "start_time": "2023-07-28T15:57:29.039Z"
   },
   {
    "duration": 123,
    "start_time": "2023-07-28T15:57:29.081Z"
   },
   {
    "duration": 3,
    "start_time": "2023-07-28T15:57:29.206Z"
   },
   {
    "duration": 1277,
    "start_time": "2023-07-28T15:57:29.210Z"
   },
   {
    "duration": 124,
    "start_time": "2023-07-28T15:57:30.489Z"
   },
   {
    "duration": 46,
    "start_time": "2023-07-28T16:30:01.945Z"
   },
   {
    "duration": 216,
    "start_time": "2023-07-28T16:32:43.110Z"
   },
   {
    "duration": 175,
    "start_time": "2023-07-28T16:34:01.858Z"
   },
   {
    "duration": 13,
    "start_time": "2023-07-28T16:34:38.118Z"
   },
   {
    "duration": 1496,
    "start_time": "2023-07-28T16:34:45.608Z"
   },
   {
    "duration": 1292,
    "start_time": "2023-07-28T16:34:54.301Z"
   },
   {
    "duration": 1303,
    "start_time": "2023-07-28T16:35:22.693Z"
   },
   {
    "duration": 238,
    "start_time": "2023-07-28T16:37:29.335Z"
   },
   {
    "duration": 4,
    "start_time": "2023-07-28T16:37:49.295Z"
   },
   {
    "duration": 224,
    "start_time": "2023-07-28T16:37:52.843Z"
   },
   {
    "duration": 1324,
    "start_time": "2023-07-28T16:38:02.019Z"
   },
   {
    "duration": 68,
    "start_time": "2023-07-28T16:38:54.892Z"
   },
   {
    "duration": 1276,
    "start_time": "2023-07-28T16:39:02.883Z"
   },
   {
    "duration": 1699,
    "start_time": "2023-07-28T16:39:55.188Z"
   },
   {
    "duration": 1582,
    "start_time": "2023-07-28T16:40:49.126Z"
   },
   {
    "duration": 1393,
    "start_time": "2023-07-28T16:41:07.457Z"
   },
   {
    "duration": 1548,
    "start_time": "2023-07-28T16:42:04.807Z"
   },
   {
    "duration": 1525,
    "start_time": "2023-07-28T16:42:49.904Z"
   },
   {
    "duration": 1481,
    "start_time": "2023-07-28T16:43:14.560Z"
   },
   {
    "duration": 1758,
    "start_time": "2023-07-28T16:43:38.435Z"
   },
   {
    "duration": 1741,
    "start_time": "2023-07-28T16:45:27.970Z"
   },
   {
    "duration": 1645,
    "start_time": "2023-07-28T16:46:50.849Z"
   },
   {
    "duration": 1624,
    "start_time": "2023-07-28T16:47:20.778Z"
   },
   {
    "duration": 1589,
    "start_time": "2023-07-28T16:48:04.450Z"
   },
   {
    "duration": 1655,
    "start_time": "2023-07-28T16:48:51.846Z"
   },
   {
    "duration": 1636,
    "start_time": "2023-07-28T16:49:06.274Z"
   },
   {
    "duration": 1601,
    "start_time": "2023-07-28T16:49:39.387Z"
   },
   {
    "duration": 4,
    "start_time": "2023-07-28T16:51:39.397Z"
   },
   {
    "duration": 1456,
    "start_time": "2023-07-28T16:51:39.407Z"
   },
   {
    "duration": 433,
    "start_time": "2023-07-28T16:51:40.865Z"
   },
   {
    "duration": 5,
    "start_time": "2023-07-28T16:51:41.300Z"
   },
   {
    "duration": 959,
    "start_time": "2023-07-28T16:51:41.306Z"
   },
   {
    "duration": 1033,
    "start_time": "2023-07-28T16:51:42.267Z"
   },
   {
    "duration": 929,
    "start_time": "2023-07-28T16:51:43.302Z"
   },
   {
    "duration": 18,
    "start_time": "2023-07-28T16:51:44.233Z"
   },
   {
    "duration": 6,
    "start_time": "2023-07-28T16:51:44.253Z"
   },
   {
    "duration": 41,
    "start_time": "2023-07-28T16:51:44.260Z"
   },
   {
    "duration": 273,
    "start_time": "2023-07-28T16:51:44.304Z"
   },
   {
    "duration": 204,
    "start_time": "2023-07-28T16:51:44.580Z"
   },
   {
    "duration": 93,
    "start_time": "2023-07-28T16:51:44.788Z"
   },
   {
    "duration": 7,
    "start_time": "2023-07-28T16:51:44.886Z"
   },
   {
    "duration": 4,
    "start_time": "2023-07-28T16:51:44.896Z"
   },
   {
    "duration": 21,
    "start_time": "2023-07-28T16:51:44.902Z"
   },
   {
    "duration": 64,
    "start_time": "2023-07-28T16:51:44.924Z"
   },
   {
    "duration": 220,
    "start_time": "2023-07-28T16:51:44.991Z"
   },
   {
    "duration": 3,
    "start_time": "2023-07-28T16:51:45.213Z"
   },
   {
    "duration": 1801,
    "start_time": "2023-07-28T16:51:45.218Z"
   },
   {
    "duration": 1237,
    "start_time": "2023-07-28T16:51:47.021Z"
   },
   {
    "duration": 1196,
    "start_time": "2023-07-28T16:51:48.260Z"
   },
   {
    "duration": 1283,
    "start_time": "2023-07-28T16:53:35.488Z"
   },
   {
    "duration": 1253,
    "start_time": "2023-07-28T16:54:07.342Z"
   },
   {
    "duration": 1282,
    "start_time": "2023-07-28T16:54:24.862Z"
   },
   {
    "duration": 1223,
    "start_time": "2023-07-28T16:55:03.288Z"
   },
   {
    "duration": 1214,
    "start_time": "2023-07-28T16:55:11.203Z"
   },
   {
    "duration": 156,
    "start_time": "2023-07-28T16:55:29.988Z"
   },
   {
    "duration": 77,
    "start_time": "2023-07-28T16:55:49.840Z"
   },
   {
    "duration": 70,
    "start_time": "2023-07-28T16:56:58.603Z"
   },
   {
    "duration": 85,
    "start_time": "2023-07-28T16:57:21.262Z"
   },
   {
    "duration": 90,
    "start_time": "2023-07-28T16:57:32.543Z"
   },
   {
    "duration": 1525,
    "start_time": "2023-07-28T16:58:32.564Z"
   },
   {
    "duration": 1566,
    "start_time": "2023-07-28T16:58:44.606Z"
   },
   {
    "duration": 1678,
    "start_time": "2023-07-28T16:59:49.282Z"
   },
   {
    "duration": 1625,
    "start_time": "2023-07-28T17:00:03.668Z"
   },
   {
    "duration": 1630,
    "start_time": "2023-07-28T17:00:22.788Z"
   },
   {
    "duration": 1922,
    "start_time": "2023-07-28T17:01:14.604Z"
   },
   {
    "duration": 1574,
    "start_time": "2023-07-28T17:02:33.911Z"
   },
   {
    "duration": 1577,
    "start_time": "2023-07-28T17:02:43.589Z"
   },
   {
    "duration": 1475,
    "start_time": "2023-07-28T17:04:15.217Z"
   },
   {
    "duration": 1598,
    "start_time": "2023-07-28T17:04:35.407Z"
   },
   {
    "duration": 9,
    "start_time": "2023-07-28T17:05:38.772Z"
   },
   {
    "duration": 1359,
    "start_time": "2023-07-28T17:05:38.783Z"
   },
   {
    "duration": 418,
    "start_time": "2023-07-28T17:05:40.144Z"
   },
   {
    "duration": 5,
    "start_time": "2023-07-28T17:05:40.564Z"
   },
   {
    "duration": 837,
    "start_time": "2023-07-28T17:05:40.581Z"
   },
   {
    "duration": 975,
    "start_time": "2023-07-28T17:05:41.419Z"
   },
   {
    "duration": 874,
    "start_time": "2023-07-28T17:05:42.395Z"
   },
   {
    "duration": 28,
    "start_time": "2023-07-28T17:05:43.274Z"
   },
   {
    "duration": 3,
    "start_time": "2023-07-28T17:05:43.303Z"
   },
   {
    "duration": 66,
    "start_time": "2023-07-28T17:05:43.307Z"
   },
   {
    "duration": 126,
    "start_time": "2023-07-28T17:05:43.375Z"
   },
   {
    "duration": 193,
    "start_time": "2023-07-28T17:05:43.580Z"
   },
   {
    "duration": 9,
    "start_time": "2023-07-28T17:05:43.783Z"
   },
   {
    "duration": 91,
    "start_time": "2023-07-28T17:05:43.795Z"
   },
   {
    "duration": 5,
    "start_time": "2023-07-28T17:05:43.888Z"
   },
   {
    "duration": 21,
    "start_time": "2023-07-28T17:05:43.895Z"
   },
   {
    "duration": 72,
    "start_time": "2023-07-28T17:05:43.917Z"
   },
   {
    "duration": 216,
    "start_time": "2023-07-28T17:05:43.991Z"
   },
   {
    "duration": 3,
    "start_time": "2023-07-28T17:05:44.209Z"
   },
   {
    "duration": 1650,
    "start_time": "2023-07-28T17:05:44.213Z"
   },
   {
    "duration": 1598,
    "start_time": "2023-07-28T17:05:45.865Z"
   },
   {
    "duration": 1239,
    "start_time": "2023-07-28T17:05:47.465Z"
   },
   {
    "duration": 1585,
    "start_time": "2023-07-28T17:07:20.630Z"
   },
   {
    "duration": 8,
    "start_time": "2023-07-28T17:15:14.763Z"
   },
   {
    "duration": 3,
    "start_time": "2023-07-28T17:15:55.144Z"
   },
   {
    "duration": 7,
    "start_time": "2023-07-28T17:15:56.444Z"
   },
   {
    "duration": 3,
    "start_time": "2023-07-28T17:16:11.517Z"
   },
   {
    "duration": 1875,
    "start_time": "2023-07-28T17:17:15.261Z"
   },
   {
    "duration": 1867,
    "start_time": "2023-07-28T17:17:25.771Z"
   },
   {
    "duration": 1768,
    "start_time": "2023-07-28T17:17:46.756Z"
   },
   {
    "duration": 6,
    "start_time": "2023-07-28T17:21:53.807Z"
   },
   {
    "duration": 9,
    "start_time": "2023-07-28T17:22:01.217Z"
   },
   {
    "duration": 13,
    "start_time": "2023-07-28T17:26:53.158Z"
   },
   {
    "duration": 16,
    "start_time": "2023-07-28T17:27:15.296Z"
   },
   {
    "duration": 6,
    "start_time": "2023-07-28T17:42:37.193Z"
   },
   {
    "duration": 1833,
    "start_time": "2023-07-28T17:42:37.202Z"
   },
   {
    "duration": 507,
    "start_time": "2023-07-28T17:42:39.037Z"
   },
   {
    "duration": 6,
    "start_time": "2023-07-28T17:42:39.546Z"
   },
   {
    "duration": 1219,
    "start_time": "2023-07-28T17:42:39.554Z"
   },
   {
    "duration": 1293,
    "start_time": "2023-07-28T17:42:40.774Z"
   },
   {
    "duration": 1179,
    "start_time": "2023-07-28T17:42:42.069Z"
   },
   {
    "duration": 19,
    "start_time": "2023-07-28T17:42:43.250Z"
   },
   {
    "duration": 63,
    "start_time": "2023-07-28T17:42:43.272Z"
   },
   {
    "duration": 189,
    "start_time": "2023-07-28T17:42:43.337Z"
   },
   {
    "duration": 249,
    "start_time": "2023-07-28T17:42:43.529Z"
   },
   {
    "duration": 33,
    "start_time": "2023-07-28T17:42:43.785Z"
   },
   {
    "duration": 75,
    "start_time": "2023-07-28T17:42:43.830Z"
   },
   {
    "duration": 10,
    "start_time": "2023-07-28T17:42:43.920Z"
   },
   {
    "duration": 34,
    "start_time": "2023-07-28T17:42:43.932Z"
   },
   {
    "duration": 60,
    "start_time": "2023-07-28T17:42:43.968Z"
   },
   {
    "duration": 205,
    "start_time": "2023-07-28T17:42:44.030Z"
   },
   {
    "duration": 4,
    "start_time": "2023-07-28T17:42:44.237Z"
   },
   {
    "duration": 2032,
    "start_time": "2023-07-28T17:42:44.242Z"
   },
   {
    "duration": 1876,
    "start_time": "2023-07-28T17:42:46.277Z"
   },
   {
    "duration": 1996,
    "start_time": "2023-07-28T17:42:48.155Z"
   },
   {
    "duration": 11,
    "start_time": "2023-07-28T17:42:50.153Z"
   },
   {
    "duration": 7,
    "start_time": "2023-07-28T18:17:30.414Z"
   },
   {
    "duration": 1766,
    "start_time": "2023-07-28T18:17:30.424Z"
   },
   {
    "duration": 478,
    "start_time": "2023-07-28T18:17:32.194Z"
   },
   {
    "duration": 14,
    "start_time": "2023-07-28T18:17:32.673Z"
   },
   {
    "duration": 1102,
    "start_time": "2023-07-28T18:17:32.690Z"
   },
   {
    "duration": 1218,
    "start_time": "2023-07-28T18:17:33.795Z"
   },
   {
    "duration": 1126,
    "start_time": "2023-07-28T18:17:35.019Z"
   },
   {
    "duration": 19,
    "start_time": "2023-07-28T18:17:36.146Z"
   },
   {
    "duration": 68,
    "start_time": "2023-07-28T18:17:36.167Z"
   },
   {
    "duration": 154,
    "start_time": "2023-07-28T18:17:36.279Z"
   },
   {
    "duration": 208,
    "start_time": "2023-07-28T18:17:36.480Z"
   },
   {
    "duration": 13,
    "start_time": "2023-07-28T18:17:36.690Z"
   },
   {
    "duration": 71,
    "start_time": "2023-07-28T18:17:36.710Z"
   },
   {
    "duration": 10,
    "start_time": "2023-07-28T18:17:36.783Z"
   },
   {
    "duration": 34,
    "start_time": "2023-07-28T18:17:36.797Z"
   },
   {
    "duration": 54,
    "start_time": "2023-07-28T18:17:36.833Z"
   },
   {
    "duration": 156,
    "start_time": "2023-07-28T18:17:36.889Z"
   },
   {
    "duration": 4,
    "start_time": "2023-07-28T18:17:37.047Z"
   },
   {
    "duration": 1993,
    "start_time": "2023-07-28T18:17:37.052Z"
   },
   {
    "duration": 1887,
    "start_time": "2023-07-28T18:17:39.047Z"
   },
   {
    "duration": 1952,
    "start_time": "2023-07-28T18:17:40.936Z"
   },
   {
    "duration": 19,
    "start_time": "2023-07-28T18:17:42.890Z"
   },
   {
    "duration": 4,
    "start_time": "2023-07-28T18:22:47.031Z"
   },
   {
    "duration": 1730,
    "start_time": "2023-07-28T18:22:47.036Z"
   },
   {
    "duration": 493,
    "start_time": "2023-07-28T18:22:48.768Z"
   },
   {
    "duration": 5,
    "start_time": "2023-07-28T18:22:49.263Z"
   },
   {
    "duration": 1060,
    "start_time": "2023-07-28T18:22:49.269Z"
   },
   {
    "duration": 1174,
    "start_time": "2023-07-28T18:22:50.331Z"
   },
   {
    "duration": 1149,
    "start_time": "2023-07-28T18:22:51.507Z"
   },
   {
    "duration": 19,
    "start_time": "2023-07-28T18:22:52.658Z"
   },
   {
    "duration": 101,
    "start_time": "2023-07-28T18:22:52.683Z"
   },
   {
    "duration": 178,
    "start_time": "2023-07-28T18:22:52.800Z"
   },
   {
    "duration": 142,
    "start_time": "2023-07-28T18:22:52.989Z"
   },
   {
    "duration": 46,
    "start_time": "2023-07-28T18:22:53.133Z"
   },
   {
    "duration": 102,
    "start_time": "2023-07-28T18:22:53.181Z"
   },
   {
    "duration": 21,
    "start_time": "2023-07-28T18:22:53.296Z"
   },
   {
    "duration": 22,
    "start_time": "2023-07-28T18:22:53.322Z"
   },
   {
    "duration": 39,
    "start_time": "2023-07-28T18:22:53.345Z"
   },
   {
    "duration": 149,
    "start_time": "2023-07-28T18:22:53.386Z"
   },
   {
    "duration": 4,
    "start_time": "2023-07-28T18:22:53.538Z"
   },
   {
    "duration": 2056,
    "start_time": "2023-07-28T18:22:53.543Z"
   },
   {
    "duration": 1950,
    "start_time": "2023-07-28T18:22:55.607Z"
   },
   {
    "duration": 1803,
    "start_time": "2023-07-28T18:22:57.559Z"
   },
   {
    "duration": 32,
    "start_time": "2023-07-28T18:22:59.364Z"
   },
   {
    "duration": 3,
    "start_time": "2023-07-28T19:58:59.491Z"
   },
   {
    "duration": 3815,
    "start_time": "2023-07-28T19:58:59.495Z"
   },
   {
    "duration": 691,
    "start_time": "2023-07-28T19:59:03.312Z"
   },
   {
    "duration": 4,
    "start_time": "2023-07-28T19:59:04.005Z"
   },
   {
    "duration": 779,
    "start_time": "2023-07-28T19:59:04.011Z"
   },
   {
    "duration": 758,
    "start_time": "2023-07-28T19:59:04.791Z"
   },
   {
    "duration": 764,
    "start_time": "2023-07-28T19:59:05.551Z"
   },
   {
    "duration": 15,
    "start_time": "2023-07-28T19:59:06.317Z"
   },
   {
    "duration": 166,
    "start_time": "2023-07-28T19:59:06.334Z"
   },
   {
    "duration": 110,
    "start_time": "2023-07-28T19:59:06.502Z"
   },
   {
    "duration": 288,
    "start_time": "2023-07-28T19:59:06.614Z"
   },
   {
    "duration": 192,
    "start_time": "2023-07-28T19:59:06.909Z"
   },
   {
    "duration": 22,
    "start_time": "2023-07-28T19:59:07.103Z"
   },
   {
    "duration": 8,
    "start_time": "2023-07-28T19:59:07.126Z"
   },
   {
    "duration": 26,
    "start_time": "2023-07-28T19:59:07.135Z"
   },
   {
    "duration": 37,
    "start_time": "2023-07-28T19:59:07.163Z"
   },
   {
    "duration": 161,
    "start_time": "2023-07-28T19:59:07.201Z"
   },
   {
    "duration": 3,
    "start_time": "2023-07-28T19:59:07.364Z"
   },
   {
    "duration": 1330,
    "start_time": "2023-07-28T19:59:07.369Z"
   },
   {
    "duration": 1372,
    "start_time": "2023-07-28T19:59:08.701Z"
   },
   {
    "duration": 1312,
    "start_time": "2023-07-28T19:59:10.074Z"
   },
   {
    "duration": 13,
    "start_time": "2023-07-28T19:59:11.387Z"
   },
   {
    "duration": 4,
    "start_time": "2023-07-28T20:00:33.708Z"
   },
   {
    "duration": 23,
    "start_time": "2023-07-28T20:00:58.110Z"
   },
   {
    "duration": 5,
    "start_time": "2023-07-28T20:01:02.960Z"
   },
   {
    "duration": 15368,
    "start_time": "2023-07-28T20:11:07.176Z"
   },
   {
    "duration": 6706,
    "start_time": "2023-07-28T20:11:33.077Z"
   }
  ],
  "kernelspec": {
   "display_name": "Python 3 (ipykernel)",
   "language": "python",
   "name": "python3"
  },
  "language_info": {
   "codemirror_mode": {
    "name": "ipython",
    "version": 3
   },
   "file_extension": ".py",
   "mimetype": "text/x-python",
   "name": "python",
   "nbconvert_exporter": "python",
   "pygments_lexer": "ipython3",
   "version": "3.10.9"
  },
  "toc": {
   "base_numbering": 1,
   "nav_menu": {},
   "number_sections": true,
   "sideBar": true,
   "skip_h1_title": true,
   "title_cell": "Table of Contents",
   "title_sidebar": "Contents",
   "toc_cell": false,
   "toc_position": {
    "height": "calc(100% - 180px)",
    "left": "10px",
    "top": "150px",
    "width": "505px"
   },
   "toc_section_display": true,
   "toc_window_display": true
  }
 },
 "nbformat": 4,
 "nbformat_minor": 2
}
