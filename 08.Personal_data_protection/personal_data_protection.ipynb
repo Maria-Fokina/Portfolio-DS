{
 "cells": [
  {
   "cell_type": "markdown",
   "metadata": {},
   "source": [
    "# Защита персональных данных клиентов"
   ]
  },
  {
   "cell_type": "markdown",
   "metadata": {},
   "source": [
    "**Описание проекта:**\n",
    "\n",
    "Cтраховой компании нужно защитить данные клиентов. Им требуется разработать такой метод преобразования данных, чтобы по ним было сложно восстановить персональную информацию.\n",
    "\n",
    "**Цель проекта:**\n",
    "\n",
    "Нужно защитить данные, чтобы при преобразовании качество моделей машинного обучения не ухудшилось. Подбирать наилучшую модель не требуется.\n",
    "\n",
    "**План проекта:**\n",
    "1. Загрузка и изучение данных\n",
    "2. Умножение матриц (изучим изменение качества линейной регрессии при умножении признаков на обратимую матрицу)\n",
    "3. Алгоритм преобразования\n",
    "4. Проверка алгоритма\n",
    "5. Итоговый вывод"
   ]
  },
  {
   "cell_type": "markdown",
   "metadata": {},
   "source": [
    "## Загрузка и изучение данных"
   ]
  },
  {
   "cell_type": "code",
   "execution_count": 1,
   "metadata": {},
   "outputs": [],
   "source": [
    "import numpy as np\n",
    "import pandas as pd\n",
    "import matplotlib.pyplot as plt\n",
    "\n",
    "from sklearn.model_selection import train_test_split\n",
    "\n",
    "from sklearn.metrics import r2_score"
   ]
  },
  {
   "cell_type": "code",
   "execution_count": 2,
   "metadata": {},
   "outputs": [],
   "source": [
    "try:\n",
    "    data = pd.read_csv('/data/insurance.csv')\n",
    "except:\n",
    "    data = pd.read_csv('D:/insurance.csv')\n"
   ]
  },
  {
   "cell_type": "code",
   "execution_count": 3,
   "metadata": {
    "scrolled": false
   },
   "outputs": [
    {
     "name": "stdout",
     "output_type": "stream",
     "text": [
      "Первые 5 строк:\n"
     ]
    },
    {
     "data": {
      "text/html": [
       "<div>\n",
       "<style scoped>\n",
       "    .dataframe tbody tr th:only-of-type {\n",
       "        vertical-align: middle;\n",
       "    }\n",
       "\n",
       "    .dataframe tbody tr th {\n",
       "        vertical-align: top;\n",
       "    }\n",
       "\n",
       "    .dataframe thead th {\n",
       "        text-align: right;\n",
       "    }\n",
       "</style>\n",
       "<table border=\"1\" class=\"dataframe\">\n",
       "  <thead>\n",
       "    <tr style=\"text-align: right;\">\n",
       "      <th></th>\n",
       "      <th>Пол</th>\n",
       "      <th>Возраст</th>\n",
       "      <th>Зарплата</th>\n",
       "      <th>Члены семьи</th>\n",
       "      <th>Страховые выплаты</th>\n",
       "    </tr>\n",
       "  </thead>\n",
       "  <tbody>\n",
       "    <tr>\n",
       "      <th>0</th>\n",
       "      <td>1</td>\n",
       "      <td>41.0</td>\n",
       "      <td>49600.0</td>\n",
       "      <td>1</td>\n",
       "      <td>0</td>\n",
       "    </tr>\n",
       "    <tr>\n",
       "      <th>1</th>\n",
       "      <td>0</td>\n",
       "      <td>46.0</td>\n",
       "      <td>38000.0</td>\n",
       "      <td>1</td>\n",
       "      <td>1</td>\n",
       "    </tr>\n",
       "    <tr>\n",
       "      <th>2</th>\n",
       "      <td>0</td>\n",
       "      <td>29.0</td>\n",
       "      <td>21000.0</td>\n",
       "      <td>0</td>\n",
       "      <td>0</td>\n",
       "    </tr>\n",
       "    <tr>\n",
       "      <th>3</th>\n",
       "      <td>0</td>\n",
       "      <td>21.0</td>\n",
       "      <td>41700.0</td>\n",
       "      <td>2</td>\n",
       "      <td>0</td>\n",
       "    </tr>\n",
       "    <tr>\n",
       "      <th>4</th>\n",
       "      <td>1</td>\n",
       "      <td>28.0</td>\n",
       "      <td>26100.0</td>\n",
       "      <td>0</td>\n",
       "      <td>0</td>\n",
       "    </tr>\n",
       "  </tbody>\n",
       "</table>\n",
       "</div>"
      ],
      "text/plain": [
       "   Пол  Возраст  Зарплата  Члены семьи  Страховые выплаты\n",
       "0    1     41.0   49600.0            1                  0\n",
       "1    0     46.0   38000.0            1                  1\n",
       "2    0     29.0   21000.0            0                  0\n",
       "3    0     21.0   41700.0            2                  0\n",
       "4    1     28.0   26100.0            0                  0"
      ]
     },
     "metadata": {},
     "output_type": "display_data"
    },
    {
     "name": "stdout",
     "output_type": "stream",
     "text": [
      "\n",
      "Последние 5 строк:\n"
     ]
    },
    {
     "data": {
      "text/html": [
       "<div>\n",
       "<style scoped>\n",
       "    .dataframe tbody tr th:only-of-type {\n",
       "        vertical-align: middle;\n",
       "    }\n",
       "\n",
       "    .dataframe tbody tr th {\n",
       "        vertical-align: top;\n",
       "    }\n",
       "\n",
       "    .dataframe thead th {\n",
       "        text-align: right;\n",
       "    }\n",
       "</style>\n",
       "<table border=\"1\" class=\"dataframe\">\n",
       "  <thead>\n",
       "    <tr style=\"text-align: right;\">\n",
       "      <th></th>\n",
       "      <th>Пол</th>\n",
       "      <th>Возраст</th>\n",
       "      <th>Зарплата</th>\n",
       "      <th>Члены семьи</th>\n",
       "      <th>Страховые выплаты</th>\n",
       "    </tr>\n",
       "  </thead>\n",
       "  <tbody>\n",
       "    <tr>\n",
       "      <th>4995</th>\n",
       "      <td>0</td>\n",
       "      <td>28.0</td>\n",
       "      <td>35700.0</td>\n",
       "      <td>2</td>\n",
       "      <td>0</td>\n",
       "    </tr>\n",
       "    <tr>\n",
       "      <th>4996</th>\n",
       "      <td>0</td>\n",
       "      <td>34.0</td>\n",
       "      <td>52400.0</td>\n",
       "      <td>1</td>\n",
       "      <td>0</td>\n",
       "    </tr>\n",
       "    <tr>\n",
       "      <th>4997</th>\n",
       "      <td>0</td>\n",
       "      <td>20.0</td>\n",
       "      <td>33900.0</td>\n",
       "      <td>2</td>\n",
       "      <td>0</td>\n",
       "    </tr>\n",
       "    <tr>\n",
       "      <th>4998</th>\n",
       "      <td>1</td>\n",
       "      <td>22.0</td>\n",
       "      <td>32700.0</td>\n",
       "      <td>3</td>\n",
       "      <td>0</td>\n",
       "    </tr>\n",
       "    <tr>\n",
       "      <th>4999</th>\n",
       "      <td>1</td>\n",
       "      <td>28.0</td>\n",
       "      <td>40600.0</td>\n",
       "      <td>1</td>\n",
       "      <td>0</td>\n",
       "    </tr>\n",
       "  </tbody>\n",
       "</table>\n",
       "</div>"
      ],
      "text/plain": [
       "      Пол  Возраст  Зарплата  Члены семьи  Страховые выплаты\n",
       "4995    0     28.0   35700.0            2                  0\n",
       "4996    0     34.0   52400.0            1                  0\n",
       "4997    0     20.0   33900.0            2                  0\n",
       "4998    1     22.0   32700.0            3                  0\n",
       "4999    1     28.0   40600.0            1                  0"
      ]
     },
     "metadata": {},
     "output_type": "display_data"
    },
    {
     "name": "stdout",
     "output_type": "stream",
     "text": [
      "\n",
      "Общая информация по таблице:\n",
      "\n",
      "<class 'pandas.core.frame.DataFrame'>\n",
      "RangeIndex: 5000 entries, 0 to 4999\n",
      "Data columns (total 5 columns):\n",
      " #   Column             Non-Null Count  Dtype  \n",
      "---  ------             --------------  -----  \n",
      " 0   Пол                5000 non-null   int64  \n",
      " 1   Возраст            5000 non-null   float64\n",
      " 2   Зарплата           5000 non-null   float64\n",
      " 3   Члены семьи        5000 non-null   int64  \n",
      " 4   Страховые выплаты  5000 non-null   int64  \n",
      "dtypes: float64(2), int64(3)\n",
      "memory usage: 195.4 KB\n"
     ]
    },
    {
     "data": {
      "text/plain": [
       "None"
      ]
     },
     "metadata": {},
     "output_type": "display_data"
    },
    {
     "name": "stdout",
     "output_type": "stream",
     "text": [
      "\n",
      "Статистика по таблице:\n"
     ]
    },
    {
     "data": {
      "text/html": [
       "<div>\n",
       "<style scoped>\n",
       "    .dataframe tbody tr th:only-of-type {\n",
       "        vertical-align: middle;\n",
       "    }\n",
       "\n",
       "    .dataframe tbody tr th {\n",
       "        vertical-align: top;\n",
       "    }\n",
       "\n",
       "    .dataframe thead th {\n",
       "        text-align: right;\n",
       "    }\n",
       "</style>\n",
       "<table border=\"1\" class=\"dataframe\">\n",
       "  <thead>\n",
       "    <tr style=\"text-align: right;\">\n",
       "      <th></th>\n",
       "      <th>Пол</th>\n",
       "      <th>Возраст</th>\n",
       "      <th>Зарплата</th>\n",
       "      <th>Члены семьи</th>\n",
       "      <th>Страховые выплаты</th>\n",
       "    </tr>\n",
       "  </thead>\n",
       "  <tbody>\n",
       "    <tr>\n",
       "      <th>count</th>\n",
       "      <td>5000.000000</td>\n",
       "      <td>5000.000000</td>\n",
       "      <td>5000.000000</td>\n",
       "      <td>5000.000000</td>\n",
       "      <td>5000.000000</td>\n",
       "    </tr>\n",
       "    <tr>\n",
       "      <th>mean</th>\n",
       "      <td>0.499000</td>\n",
       "      <td>30.952800</td>\n",
       "      <td>39916.360000</td>\n",
       "      <td>1.194200</td>\n",
       "      <td>0.148000</td>\n",
       "    </tr>\n",
       "    <tr>\n",
       "      <th>std</th>\n",
       "      <td>0.500049</td>\n",
       "      <td>8.440807</td>\n",
       "      <td>9900.083569</td>\n",
       "      <td>1.091387</td>\n",
       "      <td>0.463183</td>\n",
       "    </tr>\n",
       "    <tr>\n",
       "      <th>min</th>\n",
       "      <td>0.000000</td>\n",
       "      <td>18.000000</td>\n",
       "      <td>5300.000000</td>\n",
       "      <td>0.000000</td>\n",
       "      <td>0.000000</td>\n",
       "    </tr>\n",
       "    <tr>\n",
       "      <th>25%</th>\n",
       "      <td>0.000000</td>\n",
       "      <td>24.000000</td>\n",
       "      <td>33300.000000</td>\n",
       "      <td>0.000000</td>\n",
       "      <td>0.000000</td>\n",
       "    </tr>\n",
       "    <tr>\n",
       "      <th>50%</th>\n",
       "      <td>0.000000</td>\n",
       "      <td>30.000000</td>\n",
       "      <td>40200.000000</td>\n",
       "      <td>1.000000</td>\n",
       "      <td>0.000000</td>\n",
       "    </tr>\n",
       "    <tr>\n",
       "      <th>75%</th>\n",
       "      <td>1.000000</td>\n",
       "      <td>37.000000</td>\n",
       "      <td>46600.000000</td>\n",
       "      <td>2.000000</td>\n",
       "      <td>0.000000</td>\n",
       "    </tr>\n",
       "    <tr>\n",
       "      <th>max</th>\n",
       "      <td>1.000000</td>\n",
       "      <td>65.000000</td>\n",
       "      <td>79000.000000</td>\n",
       "      <td>6.000000</td>\n",
       "      <td>5.000000</td>\n",
       "    </tr>\n",
       "  </tbody>\n",
       "</table>\n",
       "</div>"
      ],
      "text/plain": [
       "               Пол      Возраст      Зарплата  Члены семьи  Страховые выплаты\n",
       "count  5000.000000  5000.000000   5000.000000  5000.000000        5000.000000\n",
       "mean      0.499000    30.952800  39916.360000     1.194200           0.148000\n",
       "std       0.500049     8.440807   9900.083569     1.091387           0.463183\n",
       "min       0.000000    18.000000   5300.000000     0.000000           0.000000\n",
       "25%       0.000000    24.000000  33300.000000     0.000000           0.000000\n",
       "50%       0.000000    30.000000  40200.000000     1.000000           0.000000\n",
       "75%       1.000000    37.000000  46600.000000     2.000000           0.000000\n",
       "max       1.000000    65.000000  79000.000000     6.000000           5.000000"
      ]
     },
     "metadata": {},
     "output_type": "display_data"
    },
    {
     "name": "stdout",
     "output_type": "stream",
     "text": [
      "\n",
      "Всего явных дубликатов: 153\n",
      "\n",
      "Количество пропусков:\n"
     ]
    },
    {
     "data": {
      "text/plain": [
       "Пол                  0\n",
       "Возраст              0\n",
       "Зарплата             0\n",
       "Члены семьи          0\n",
       "Страховые выплаты    0\n",
       "dtype: int64"
      ]
     },
     "metadata": {},
     "output_type": "display_data"
    },
    {
     "name": "stdout",
     "output_type": "stream",
     "text": [
      "Количество пропусков в %:\n"
     ]
    },
    {
     "data": {
      "text/plain": [
       "Пол                  0.0\n",
       "Возраст              0.0\n",
       "Зарплата             0.0\n",
       "Члены семьи          0.0\n",
       "Страховые выплаты    0.0\n",
       "dtype: float64"
      ]
     },
     "metadata": {},
     "output_type": "display_data"
    },
    {
     "name": "stdout",
     "output_type": "stream",
     "text": [
      "Нулевые значения:\n",
      "Пол                  0\n",
      "Возраст              0\n",
      "Зарплата             0\n",
      "Члены семьи          0\n",
      "Страховые выплаты    0\n",
      "dtype: int64\n",
      "Гистограммы распределения признаков:\n"
     ]
    },
    {
     "data": {
      "image/png": "[encoded data removed]",
      "text/plain": [
       "<Figure size 1080x576 with 6 Axes>"
      ]
     },
     "metadata": {
      "needs_background": "light"
     },
     "output_type": "display_data"
    }
   ],
   "source": [
    "for _ in [data]:\n",
    "    print('Первые 5 строк:')\n",
    "    display(_.head())\n",
    "    print()\n",
    "    print('Последние 5 строк:')\n",
    "    display(_.tail())\n",
    "    print()\n",
    "    print('Общая информация по таблице:')\n",
    "    print()\n",
    "    print(_.info())\n",
    "    print()\n",
    "    print('Статистика по таблице:')\n",
    "    display(_.describe(datetime_is_numeric=True))\n",
    "    print()\n",
    "    print('Всего явных дубликатов:', _.duplicated().sum())\n",
    "    print()\n",
    "    print('Количество пропусков:')\n",
    "    display(_.isna().sum())\n",
    "    print('Количество пропусков в %:')\n",
    "    display(_.isna().mean()*100) \n",
    "    print('Нулевые значения:')\n",
    "    print(_.isnull().sum())\n",
    "    print('Гистограммы распределения признаков:')\n",
    "    data.hist(figsize=(15, 8), bins=60, edgecolor='Black', color='LightSteelBlue')\n"
   ]
  },
  {
   "cell_type": "code",
   "execution_count": 4,
   "metadata": {
    "scrolled": true
   },
   "outputs": [
    {
     "data": {
      "text/html": [
       "<div>\n",
       "<style scoped>\n",
       "    .dataframe tbody tr th:only-of-type {\n",
       "        vertical-align: middle;\n",
       "    }\n",
       "\n",
       "    .dataframe tbody tr th {\n",
       "        vertical-align: top;\n",
       "    }\n",
       "\n",
       "    .dataframe thead th {\n",
       "        text-align: right;\n",
       "    }\n",
       "</style>\n",
       "<table border=\"1\" class=\"dataframe\">\n",
       "  <thead>\n",
       "    <tr style=\"text-align: right;\">\n",
       "      <th></th>\n",
       "      <th>Пол</th>\n",
       "      <th>Возраст</th>\n",
       "      <th>Зарплата</th>\n",
       "      <th>Члены семьи</th>\n",
       "      <th>Страховые выплаты</th>\n",
       "    </tr>\n",
       "  </thead>\n",
       "  <tbody>\n",
       "    <tr>\n",
       "      <th>2955</th>\n",
       "      <td>1</td>\n",
       "      <td>32.0</td>\n",
       "      <td>21600.0</td>\n",
       "      <td>0</td>\n",
       "      <td>0</td>\n",
       "    </tr>\n",
       "    <tr>\n",
       "      <th>2988</th>\n",
       "      <td>1</td>\n",
       "      <td>32.0</td>\n",
       "      <td>21600.0</td>\n",
       "      <td>0</td>\n",
       "      <td>0</td>\n",
       "    </tr>\n",
       "    <tr>\n",
       "      <th>361</th>\n",
       "      <td>0</td>\n",
       "      <td>50.0</td>\n",
       "      <td>24700.0</td>\n",
       "      <td>1</td>\n",
       "      <td>2</td>\n",
       "    </tr>\n",
       "    <tr>\n",
       "      <th>2869</th>\n",
       "      <td>0</td>\n",
       "      <td>50.0</td>\n",
       "      <td>24700.0</td>\n",
       "      <td>1</td>\n",
       "      <td>2</td>\n",
       "    </tr>\n",
       "    <tr>\n",
       "      <th>333</th>\n",
       "      <td>0</td>\n",
       "      <td>32.0</td>\n",
       "      <td>25600.0</td>\n",
       "      <td>1</td>\n",
       "      <td>0</td>\n",
       "    </tr>\n",
       "    <tr>\n",
       "      <th>...</th>\n",
       "      <td>...</td>\n",
       "      <td>...</td>\n",
       "      <td>...</td>\n",
       "      <td>...</td>\n",
       "      <td>...</td>\n",
       "    </tr>\n",
       "    <tr>\n",
       "      <th>2465</th>\n",
       "      <td>0</td>\n",
       "      <td>40.0</td>\n",
       "      <td>54000.0</td>\n",
       "      <td>2</td>\n",
       "      <td>0</td>\n",
       "    </tr>\n",
       "    <tr>\n",
       "      <th>1042</th>\n",
       "      <td>0</td>\n",
       "      <td>33.0</td>\n",
       "      <td>59300.0</td>\n",
       "      <td>2</td>\n",
       "      <td>0</td>\n",
       "    </tr>\n",
       "    <tr>\n",
       "      <th>2231</th>\n",
       "      <td>0</td>\n",
       "      <td>33.0</td>\n",
       "      <td>59300.0</td>\n",
       "      <td>2</td>\n",
       "      <td>0</td>\n",
       "    </tr>\n",
       "    <tr>\n",
       "      <th>1418</th>\n",
       "      <td>1</td>\n",
       "      <td>28.0</td>\n",
       "      <td>59900.0</td>\n",
       "      <td>0</td>\n",
       "      <td>0</td>\n",
       "    </tr>\n",
       "    <tr>\n",
       "      <th>1742</th>\n",
       "      <td>1</td>\n",
       "      <td>28.0</td>\n",
       "      <td>59900.0</td>\n",
       "      <td>0</td>\n",
       "      <td>0</td>\n",
       "    </tr>\n",
       "  </tbody>\n",
       "</table>\n",
       "<p>300 rows × 5 columns</p>\n",
       "</div>"
      ],
      "text/plain": [
       "      Пол  Возраст  Зарплата  Члены семьи  Страховые выплаты\n",
       "2955    1     32.0   21600.0            0                  0\n",
       "2988    1     32.0   21600.0            0                  0\n",
       "361     0     50.0   24700.0            1                  2\n",
       "2869    0     50.0   24700.0            1                  2\n",
       "333     0     32.0   25600.0            1                  0\n",
       "...   ...      ...       ...          ...                ...\n",
       "2465    0     40.0   54000.0            2                  0\n",
       "1042    0     33.0   59300.0            2                  0\n",
       "2231    0     33.0   59300.0            2                  0\n",
       "1418    1     28.0   59900.0            0                  0\n",
       "1742    1     28.0   59900.0            0                  0\n",
       "\n",
       "[300 rows x 5 columns]"
      ]
     },
     "execution_count": 4,
     "metadata": {},
     "output_type": "execute_result"
    }
   ],
   "source": [
    "data[data.duplicated(keep=False)].sort_values(\"Зарплата\")"
   ]
  },
  {
   "cell_type": "code",
   "execution_count": 5,
   "metadata": {},
   "outputs": [
    {
     "data": {
      "text/plain": [
       "0"
      ]
     },
     "execution_count": 5,
     "metadata": {},
     "output_type": "execute_result"
    }
   ],
   "source": [
    "data = data.drop_duplicates()\n",
    "data.duplicated().sum()"
   ]
  },
  {
   "cell_type": "code",
   "execution_count": 6,
   "metadata": {
    "scrolled": true
   },
   "outputs": [
    {
     "name": "stdout",
     "output_type": "stream",
     "text": [
      "<class 'pandas.core.frame.DataFrame'>\n",
      "Int64Index: 4847 entries, 0 to 4999\n",
      "Data columns (total 5 columns):\n",
      " #   Column             Non-Null Count  Dtype  \n",
      "---  ------             --------------  -----  \n",
      " 0   Пол                4847 non-null   int64  \n",
      " 1   Возраст            4847 non-null   float64\n",
      " 2   Зарплата           4847 non-null   float64\n",
      " 3   Члены семьи        4847 non-null   int64  \n",
      " 4   Страховые выплаты  4847 non-null   int64  \n",
      "dtypes: float64(2), int64(3)\n",
      "memory usage: 227.2 KB\n"
     ]
    }
   ],
   "source": [
    "data.info()"
   ]
  },
  {
   "cell_type": "markdown",
   "metadata": {},
   "source": [
    "### Вывод:\n",
    "* Данные представляют собой персональную информацию клиентов страховой компании, в каждой строке информация по одному клиенту\n",
    "* Были обнаружены и удалены явные дубликаты - 153 шт \n",
    "* Пропуски, аномалии, нулевые значения отсутствуют\n",
    "* Выбросов не наблюдается, распределение зарплат близко к нормальному\n",
    "* Данные к работе готовы. Всего 4847 строк"
   ]
  },
  {
   "cell_type": "markdown",
   "metadata": {},
   "source": [
    "## Умножение матриц"
   ]
  },
  {
   "cell_type": "markdown",
   "metadata": {},
   "source": [
    "В этом задании вы можете записывать формулы в *Jupyter Notebook.*\n",
    "\n",
    "Чтобы записать формулу внутри текста, окружите её символами доллара \\\\$; если снаружи —  двойными символами \\\\$\\\\$. Эти формулы записываются на языке вёрстки *LaTeX.* \n",
    "\n",
    "Для примера мы записали формулы линейной регрессии. Можете их скопировать и отредактировать, чтобы решить задачу.\n",
    "\n",
    "Работать в *LaTeX* необязательно."
   ]
  },
  {
   "cell_type": "markdown",
   "metadata": {},
   "source": [
    "Обозначения:\n",
    "\n",
    "- $X$ — матрица признаков (нулевой столбец состоит из единиц)\n",
    "\n",
    "- $y$ — вектор целевого признака\n",
    "\n",
    "- $P$ — матрица, на которую умножаются признаки\n",
    "\n",
    "- $w$ — вектор весов линейной регрессии (нулевой элемент равен сдвигу)"
   ]
  },
  {
   "cell_type": "markdown",
   "metadata": {},
   "source": [
    "Предсказания:\n",
    "\n",
    "$$\n",
    "a = Xw\n",
    "$$\n",
    "\n",
    "Задача обучения:\n",
    "\n",
    "$$\n",
    "w = \\arg\\min_w MSE(Xw, y)\n",
    "$$\n",
    "\n",
    "Формула обучения:\n",
    "\n",
    "$$\n",
    "w = (X^T X)^{-1} X^T y\n",
    "$$"
   ]
  },
  {
   "cell_type": "markdown",
   "metadata": {},
   "source": [
    "**Признаки умножают на обратимую матрицу. Изменится ли качество линейной регрессии? (Её можно обучить заново.)**\n",
    "\n",
    "**Ответ:**  b. Качество детерминации R2 не изменится.\n",
    "\n",
    "**Обоснование:** "
   ]
  },
  {
   "cell_type": "markdown",
   "metadata": {},
   "source": [
    "Для подтверждения того, что качество детерминации R2 не изменится, при умножении признаков на обратимую матрицу, необходимо доказать, что $$ a=a' $$\n",
    "$$\n",
    "w = (X^T X)^{-1} X^T y\n",
    "$$\n",
    "\n",
    "Формула для вычисления предсказаний в Линейной регрессии:\n",
    "$$\n",
    "a=Xw+Xw0\n",
    "$$\n",
    "Упрощенная формула вычисления предсказаний в Линейной регрессии:\n",
    "$$\n",
    "a = Xw\n",
    "$$\n",
    "Подставим в нее формулу значения $w$:\n",
    "$$\n",
    "a = Xw = X(X^T X)^{-1} X^T y\n",
    "$$\n",
    "\n",
    "\n",
    "Домножим признаки на случайную матрицу $P$, котороя будет обратима( т е из $P$ можно получить $P^{-1}$, а также $PP^{-1} = E$ (единичная матрица)). При обучении модели на измененных признаках, модель найдет новый $w'$:\n",
    "$$w' = ((XP)^T(XP))^{-1}(XP)^T y$$\n",
    "\n",
    "Применим свойство матриц: $(AB)^T = B^TA^T$:\n",
    "\n",
    "\n",
    "$$\n",
    "w' = (P^T (X^T X) P)^{-1} (XP)^T y\n",
    "$$\n",
    "$$\n",
    "w' = (P^T (X^T X) P)^{-1} P^T X^T y\n",
    "$$\n",
    "$$\n",
    "w' = P^{-1} (X^T X)^{-1} (P^T)^{-1} P^T X^T y\n",
    "$$\n",
    "\n",
    "При умножении матрицы на обратную ($(P^T)^{-1}P^T$) получаем единичную матрицу $E$, которую можем сократить:\n",
    "\n",
    "$$\n",
    "  w' = P^{-1}(X^TX)^{-1}E X^T y =P^{-1}(X^TX)^{-1} X^T y \n",
    "$$  \n",
    "\n",
    "т к $w = (X^T X)^{-1} X^T y$ сворачиваем формулу до:\n",
    "$$\n",
    " w' = P^{-1} w\n",
    "$$\n",
    "\n",
    "Подставим в формулу $a = Xw$ матрицу $XP$ и $w'= P^{-1} w$\n",
    "\n",
    "$$\n",
    "a' = XPw'= XPP^{-1} w =Xw\n",
    "$$\n",
    "Следовательно: $a=a'$, а значит результат предсказания не изменился, и следовательно качество ленейной регрессии тоже не изменится\n",
    "\n",
    "\n"
   ]
  },
  {
   "cell_type": "markdown",
   "metadata": {},
   "source": [
    "## Алгоритм преобразования"
   ]
  },
  {
   "cell_type": "markdown",
   "metadata": {},
   "source": [
    "**Алгоритм**\n",
    "\n",
    "1. Подбираем с помощью генератора случайных чисел квадратную матрицу размера $(n * n)$, проверяем на обратимость, повторяем действия пока не подберем обратимую матрицу\n",
    "2. Сохраняем матрицы $P$, $P^{-1}$ для шифрования и дешифрования данных\n",
    "3. Умножаем матрицу признаков размера $(m * n)$ на найденую обратимую матрицу\n",
    "4. Проверяем возможность расшифровки данных путем умножения на $P^{-1}$ матрицу\n",
    "5. Формируем выводы"
   ]
  },
  {
   "cell_type": "markdown",
   "metadata": {},
   "source": [
    "**Обоснование**\n",
    "\n",
    "Ранее было доказано что преобразование данных не влияет на качество предсказаний модели, следовательно применяя данный алгоритм мы выполним поставленную задачу - зашифруем данные клиентов и сможем их применять для прогнозирования без потери качества, и затем сможем обратно расшифровать при необходимости"
   ]
  },
  {
   "cell_type": "markdown",
   "metadata": {},
   "source": [
    "## Проверка алгоритма"
   ]
  },
  {
   "cell_type": "code",
   "execution_count": 7,
   "metadata": {},
   "outputs": [
    {
     "data": {
      "text/plain": [
       "(4847, 4)"
      ]
     },
     "execution_count": 7,
     "metadata": {},
     "output_type": "execute_result"
    }
   ],
   "source": [
    "features = data.drop(['Страховые выплаты'], axis=1) \n",
    "target = data['Страховые выплаты'] \n",
    "features.shape"
   ]
  },
  {
   "cell_type": "markdown",
   "metadata": {},
   "source": [
    "### Создадим рандомную матрицу и проверим ее на обратимость"
   ]
  },
  {
   "cell_type": "code",
   "execution_count": 8,
   "metadata": {
    "scrolled": true
   },
   "outputs": [
    {
     "name": "stdout",
     "output_type": "stream",
     "text": [
      "Обратная матрица найдена:\n",
      " [[ 0.00443157 -0.01612271  0.00821523  0.00717275]\n",
      " [-0.01597764  0.00348978  0.01121617 -0.0008239 ]\n",
      " [ 0.00078972  0.0125908  -0.02210008  0.01306024]\n",
      " [ 0.01406795  0.00242701  0.00586221 -0.01257632]]\n"
     ]
    }
   ],
   "source": [
    "for i in range(10):\n",
    "    random_matrix = np.random.randint(100, size=(4,4))\n",
    "    try:\n",
    "        reverse_matrix = np.linalg.inv(random_matrix)\n",
    "        print('Обратная матрица найдена:\\n', reverse_matrix)\n",
    "        break\n",
    "    except:\n",
    "        print('Обратная матрица не найдена')    "
   ]
  },
  {
   "cell_type": "markdown",
   "metadata": {},
   "source": [
    "### Сформируем выборки и линейную регрессию, проверим качество модели на изначальных данных"
   ]
  },
  {
   "cell_type": "code",
   "execution_count": 9,
   "metadata": {},
   "outputs": [],
   "source": [
    "features_train, features_test, target_train, target_test = train_test_split(\n",
    "    features, target, test_size=0.25, random_state=12345)\n"
   ]
  },
  {
   "cell_type": "code",
   "execution_count": 10,
   "metadata": {},
   "outputs": [
    {
     "name": "stdout",
     "output_type": "stream",
     "text": [
      "R2 для линейной регрессии: 0.4230772749214825\n"
     ]
    }
   ],
   "source": [
    "class LinearRegression:\n",
    "    def fit(self, train_features, train_target):\n",
    "        X = np.concatenate((np.ones((train_features.shape[0], 1)), train_features), axis=1)\n",
    "        y = train_target\n",
    "        w = np.linalg.inv(X.T.dot(X)).dot(X.T).dot(y)\n",
    "        self.w = w[1:]\n",
    "        self.w0 = w[0]\n",
    "\n",
    "    def predict(self, test_features):\n",
    "        return test_features.dot(self.w) + self.w0\n",
    "    \n",
    "model = LinearRegression()\n",
    "model.fit(features_train, target_train)\n",
    "predictions = model.predict(features_test)\n",
    "print('R2 для линейной регрессии:', r2_score(target_test, predictions))\n"
   ]
  },
  {
   "cell_type": "markdown",
   "metadata": {},
   "source": [
    "### Домножим признаки на обратимую матрицу и проверим качество модели"
   ]
  },
  {
   "cell_type": "code",
   "execution_count": 11,
   "metadata": {},
   "outputs": [
    {
     "name": "stdout",
     "output_type": "stream",
     "text": [
      "R2 для линейной регрессии с шифрованием: 0.4230772876991111\n"
     ]
    }
   ],
   "source": [
    "features_train_rm = features_train.dot(random_matrix)\n",
    "features_test_rm = features_test.dot(random_matrix)\n",
    "model = LinearRegression()\n",
    "model.fit(features_train_rm, target_train)\n",
    "predictions = model.predict(features_test_rm)\n",
    "print('R2 для линейной регрессии с шифрованием:', r2_score(target_test, predictions))"
   ]
  },
  {
   "cell_type": "markdown",
   "metadata": {},
   "source": [
    "### Провизуализируем шифрование и дешифрование признаков чтобы убедиться в том, что данные подлежат востановлению:"
   ]
  },
  {
   "cell_type": "code",
   "execution_count": 12,
   "metadata": {
    "scrolled": false
   },
   "outputs": [
    {
     "data": {
      "text/plain": [
       "'Рандомная обратимая матрица:\\n'"
      ]
     },
     "metadata": {},
     "output_type": "display_data"
    },
    {
     "data": {
      "text/plain": [
       "array([[46, 13, 42, 69],\n",
       "       [22, 80, 70, 80],\n",
       "       [65, 88, 44, 77],\n",
       "       [86, 71, 81, 49]])"
      ]
     },
     "metadata": {},
     "output_type": "display_data"
    },
    {
     "name": "stdout",
     "output_type": "stream",
     "text": [
      "____________________________________________________________\n"
     ]
    },
    {
     "data": {
      "text/plain": [
       "'Обратная матрица:\\n'"
      ]
     },
     "metadata": {},
     "output_type": "display_data"
    },
    {
     "data": {
      "text/plain": [
       "array([[ 0.00443157, -0.01612271,  0.00821523,  0.00717275],\n",
       "       [-0.01597764,  0.00348978,  0.01121617, -0.0008239 ],\n",
       "       [ 0.00078972,  0.0125908 , -0.02210008,  0.01306024],\n",
       "       [ 0.01406795,  0.00242701,  0.00586221, -0.01257632]])"
      ]
     },
     "metadata": {},
     "output_type": "display_data"
    },
    {
     "name": "stdout",
     "output_type": "stream",
     "text": [
      "____________________________________________________________\n"
     ]
    },
    {
     "data": {
      "text/plain": [
       "'Изначальные признаки:\\n'"
      ]
     },
     "metadata": {},
     "output_type": "display_data"
    },
    {
     "data": {
      "text/html": [
       "<div>\n",
       "<style scoped>\n",
       "    .dataframe tbody tr th:only-of-type {\n",
       "        vertical-align: middle;\n",
       "    }\n",
       "\n",
       "    .dataframe tbody tr th {\n",
       "        vertical-align: top;\n",
       "    }\n",
       "\n",
       "    .dataframe thead th {\n",
       "        text-align: right;\n",
       "    }\n",
       "</style>\n",
       "<table border=\"1\" class=\"dataframe\">\n",
       "  <thead>\n",
       "    <tr style=\"text-align: right;\">\n",
       "      <th></th>\n",
       "      <th>Пол</th>\n",
       "      <th>Возраст</th>\n",
       "      <th>Зарплата</th>\n",
       "      <th>Члены семьи</th>\n",
       "    </tr>\n",
       "  </thead>\n",
       "  <tbody>\n",
       "    <tr>\n",
       "      <th>4599</th>\n",
       "      <td>0</td>\n",
       "      <td>28.0</td>\n",
       "      <td>54500.0</td>\n",
       "      <td>2</td>\n",
       "    </tr>\n",
       "    <tr>\n",
       "      <th>3882</th>\n",
       "      <td>1</td>\n",
       "      <td>38.0</td>\n",
       "      <td>50700.0</td>\n",
       "      <td>1</td>\n",
       "    </tr>\n",
       "    <tr>\n",
       "      <th>4705</th>\n",
       "      <td>0</td>\n",
       "      <td>24.0</td>\n",
       "      <td>28000.0</td>\n",
       "      <td>1</td>\n",
       "    </tr>\n",
       "    <tr>\n",
       "      <th>1400</th>\n",
       "      <td>0</td>\n",
       "      <td>47.0</td>\n",
       "      <td>38800.0</td>\n",
       "      <td>0</td>\n",
       "    </tr>\n",
       "    <tr>\n",
       "      <th>728</th>\n",
       "      <td>0</td>\n",
       "      <td>40.0</td>\n",
       "      <td>32500.0</td>\n",
       "      <td>1</td>\n",
       "    </tr>\n",
       "  </tbody>\n",
       "</table>\n",
       "</div>"
      ],
      "text/plain": [
       "      Пол  Возраст  Зарплата  Члены семьи\n",
       "4599    0     28.0   54500.0            2\n",
       "3882    1     38.0   50700.0            1\n",
       "4705    0     24.0   28000.0            1\n",
       "1400    0     47.0   38800.0            0\n",
       "728     0     40.0   32500.0            1"
      ]
     },
     "metadata": {},
     "output_type": "display_data"
    },
    {
     "name": "stdout",
     "output_type": "stream",
     "text": [
      "____________________________________________________________\n"
     ]
    },
    {
     "data": {
      "text/plain": [
       "'Зашифрованые признаки:\\n'"
      ]
     },
     "metadata": {},
     "output_type": "display_data"
    },
    {
     "data": {
      "text/html": [
       "<div>\n",
       "<style scoped>\n",
       "    .dataframe tbody tr th:only-of-type {\n",
       "        vertical-align: middle;\n",
       "    }\n",
       "\n",
       "    .dataframe tbody tr th {\n",
       "        vertical-align: top;\n",
       "    }\n",
       "\n",
       "    .dataframe thead th {\n",
       "        text-align: right;\n",
       "    }\n",
       "</style>\n",
       "<table border=\"1\" class=\"dataframe\">\n",
       "  <thead>\n",
       "    <tr style=\"text-align: right;\">\n",
       "      <th></th>\n",
       "      <th>0</th>\n",
       "      <th>1</th>\n",
       "      <th>2</th>\n",
       "      <th>3</th>\n",
       "    </tr>\n",
       "  </thead>\n",
       "  <tbody>\n",
       "    <tr>\n",
       "      <th>4599</th>\n",
       "      <td>3543288.0</td>\n",
       "      <td>4798382.0</td>\n",
       "      <td>2400122.0</td>\n",
       "      <td>4198838.0</td>\n",
       "    </tr>\n",
       "    <tr>\n",
       "      <th>3882</th>\n",
       "      <td>3296468.0</td>\n",
       "      <td>4464724.0</td>\n",
       "      <td>2233583.0</td>\n",
       "      <td>3907058.0</td>\n",
       "    </tr>\n",
       "    <tr>\n",
       "      <th>4705</th>\n",
       "      <td>1820614.0</td>\n",
       "      <td>2465991.0</td>\n",
       "      <td>1233761.0</td>\n",
       "      <td>2157969.0</td>\n",
       "    </tr>\n",
       "    <tr>\n",
       "      <th>1400</th>\n",
       "      <td>2523034.0</td>\n",
       "      <td>3418160.0</td>\n",
       "      <td>1710490.0</td>\n",
       "      <td>2991360.0</td>\n",
       "    </tr>\n",
       "    <tr>\n",
       "      <th>728</th>\n",
       "      <td>2113466.0</td>\n",
       "      <td>2863271.0</td>\n",
       "      <td>1432881.0</td>\n",
       "      <td>2505749.0</td>\n",
       "    </tr>\n",
       "  </tbody>\n",
       "</table>\n",
       "</div>"
      ],
      "text/plain": [
       "              0          1          2          3\n",
       "4599  3543288.0  4798382.0  2400122.0  4198838.0\n",
       "3882  3296468.0  4464724.0  2233583.0  3907058.0\n",
       "4705  1820614.0  2465991.0  1233761.0  2157969.0\n",
       "1400  2523034.0  3418160.0  1710490.0  2991360.0\n",
       "728   2113466.0  2863271.0  1432881.0  2505749.0"
      ]
     },
     "metadata": {},
     "output_type": "display_data"
    },
    {
     "name": "stdout",
     "output_type": "stream",
     "text": [
      "____________________________________________________________\n"
     ]
    },
    {
     "data": {
      "text/plain": [
       "'Расшифрованые признаки:\\n'"
      ]
     },
     "metadata": {},
     "output_type": "display_data"
    },
    {
     "data": {
      "text/html": [
       "<div>\n",
       "<style scoped>\n",
       "    .dataframe tbody tr th:only-of-type {\n",
       "        vertical-align: middle;\n",
       "    }\n",
       "\n",
       "    .dataframe tbody tr th {\n",
       "        vertical-align: top;\n",
       "    }\n",
       "\n",
       "    .dataframe thead th {\n",
       "        text-align: right;\n",
       "    }\n",
       "</style>\n",
       "<table border=\"1\" class=\"dataframe\">\n",
       "  <thead>\n",
       "    <tr style=\"text-align: right;\">\n",
       "      <th></th>\n",
       "      <th>0</th>\n",
       "      <th>1</th>\n",
       "      <th>2</th>\n",
       "      <th>3</th>\n",
       "    </tr>\n",
       "  </thead>\n",
       "  <tbody>\n",
       "    <tr>\n",
       "      <th>4599</th>\n",
       "      <td>-0.0</td>\n",
       "      <td>28.0</td>\n",
       "      <td>54500.0</td>\n",
       "      <td>2.0</td>\n",
       "    </tr>\n",
       "    <tr>\n",
       "      <th>3882</th>\n",
       "      <td>1.0</td>\n",
       "      <td>38.0</td>\n",
       "      <td>50700.0</td>\n",
       "      <td>1.0</td>\n",
       "    </tr>\n",
       "    <tr>\n",
       "      <th>4705</th>\n",
       "      <td>-0.0</td>\n",
       "      <td>24.0</td>\n",
       "      <td>28000.0</td>\n",
       "      <td>1.0</td>\n",
       "    </tr>\n",
       "    <tr>\n",
       "      <th>1400</th>\n",
       "      <td>-0.0</td>\n",
       "      <td>47.0</td>\n",
       "      <td>38800.0</td>\n",
       "      <td>0.0</td>\n",
       "    </tr>\n",
       "    <tr>\n",
       "      <th>728</th>\n",
       "      <td>-0.0</td>\n",
       "      <td>40.0</td>\n",
       "      <td>32500.0</td>\n",
       "      <td>1.0</td>\n",
       "    </tr>\n",
       "  </tbody>\n",
       "</table>\n",
       "</div>"
      ],
      "text/plain": [
       "        0     1        2    3\n",
       "4599 -0.0  28.0  54500.0  2.0\n",
       "3882  1.0  38.0  50700.0  1.0\n",
       "4705 -0.0  24.0  28000.0  1.0\n",
       "1400 -0.0  47.0  38800.0  0.0\n",
       "728  -0.0  40.0  32500.0  1.0"
      ]
     },
     "metadata": {},
     "output_type": "display_data"
    }
   ],
   "source": [
    "display('Рандомная обратимая матрица:\\n', random_matrix)\n",
    "print(60*'_')\n",
    "display('Обратная матрица:\\n', reverse_matrix)\n",
    "print(60*'_')\n",
    "display('Изначальные признаки:\\n', features_train.head())\n",
    "print(60*'_')\n",
    "display('Зашифрованые признаки:\\n', features_train_rm.head())\n",
    "print(60*'_')\n",
    "display('Расшифрованые признаки:\\n', round(features_train_rm.dot(reverse_matrix)).head())\n"
   ]
  },
  {
   "cell_type": "markdown",
   "metadata": {},
   "source": [
    "## Вывод:\n",
    "1. Данные загружены и изучены, подготовлены к работе.\n",
    "2. Сформирован, обоснован и реализован алгоритм преобразования данных клиентов без потери качества прогнозирования модели\n",
    "3. Качество модели (метрика R2) проверена на изначальных и преобразованых данных:\n",
    " * R2 для линейной регрессии: 0.4230772749214825\n",
    " * R2 для линейной регрессии с шифрованием: 0.42307729211528755\n",
    "4. Метрики практически равны (различие незначительно), что говорит об успешности использованного алгоритма\n",
    "5. Провизуализировано шифрование и дешифрование признаков, можно с уверенностью утверждать, что данные подлежат востановлению\n",
    "6. Было доказано что преобразование данных не влияет на качество предсказаний модели, следовательно применяя данный алгоритм мы выполнили поставленную задачу - зашифровали данные клиентов и сможем их применять для прогнозирования без потери качества, и затем сможем обратно расшифровать при необходимости."
   ]
  }
 ],
 "metadata": {
  "ExecuteTimeLog": [
   {
    "duration": 53,
    "start_time": "2023-08-23T10:47:58.342Z"
   },
   {
    "duration": 1736,
    "start_time": "2023-08-23T10:48:00.925Z"
   },
   {
    "duration": 84,
    "start_time": "2023-08-23T10:48:02.664Z"
   },
   {
    "duration": 72,
    "start_time": "2023-08-23T10:48:02.952Z"
   },
   {
    "duration": 9,
    "start_time": "2023-08-23T10:51:29.118Z"
   },
   {
    "duration": 14,
    "start_time": "2023-08-23T10:55:09.688Z"
   },
   {
    "duration": 7,
    "start_time": "2023-08-23T10:55:23.176Z"
   },
   {
    "duration": 19,
    "start_time": "2023-08-23T10:55:42.624Z"
   },
   {
    "duration": 18,
    "start_time": "2023-08-23T11:09:37.434Z"
   },
   {
    "duration": 23,
    "start_time": "2023-08-23T11:10:00.725Z"
   },
   {
    "duration": 76,
    "start_time": "2023-08-23T11:17:17.278Z"
   },
   {
    "duration": 90,
    "start_time": "2023-08-23T11:17:38.615Z"
   },
   {
    "duration": 15,
    "start_time": "2023-08-23T11:17:43.808Z"
   },
   {
    "duration": 16,
    "start_time": "2023-08-23T11:18:26.221Z"
   },
   {
    "duration": 15,
    "start_time": "2023-08-23T11:18:52.352Z"
   },
   {
    "duration": 12,
    "start_time": "2023-08-23T11:31:13.928Z"
   },
   {
    "duration": 19,
    "start_time": "2023-08-23T11:31:19.548Z"
   },
   {
    "duration": 8,
    "start_time": "2023-08-23T11:31:20.779Z"
   },
   {
    "duration": 9,
    "start_time": "2023-08-23T11:31:22.669Z"
   },
   {
    "duration": 10,
    "start_time": "2023-08-23T11:31:25.465Z"
   },
   {
    "duration": 8,
    "start_time": "2023-08-23T11:32:26.069Z"
   },
   {
    "duration": 14,
    "start_time": "2023-08-23T11:33:23.594Z"
   },
   {
    "duration": 60,
    "start_time": "2023-08-26T11:22:33.649Z"
   },
   {
    "duration": 1585,
    "start_time": "2023-08-26T11:22:41.718Z"
   },
   {
    "duration": 99,
    "start_time": "2023-08-26T11:22:43.306Z"
   },
   {
    "duration": 1082,
    "start_time": "2023-08-26T11:22:43.407Z"
   },
   {
    "duration": 16,
    "start_time": "2023-08-26T11:22:44.490Z"
   },
   {
    "duration": 9,
    "start_time": "2023-08-26T11:22:44.508Z"
   },
   {
    "duration": 32,
    "start_time": "2023-08-26T11:22:44.519Z"
   },
   {
    "duration": 1099,
    "start_time": "2023-08-26T13:01:50.643Z"
   },
   {
    "duration": 79,
    "start_time": "2023-08-27T11:37:43.318Z"
   },
   {
    "duration": 1747,
    "start_time": "2023-08-27T11:37:56.346Z"
   },
   {
    "duration": 107,
    "start_time": "2023-08-27T11:37:58.095Z"
   },
   {
    "duration": 1211,
    "start_time": "2023-08-27T11:37:58.204Z"
   },
   {
    "duration": 20,
    "start_time": "2023-08-27T11:37:59.418Z"
   },
   {
    "duration": 34,
    "start_time": "2023-08-27T11:37:59.441Z"
   },
   {
    "duration": 18,
    "start_time": "2023-08-27T11:37:59.477Z"
   },
   {
    "duration": 10,
    "start_time": "2023-08-27T11:37:59.497Z"
   },
   {
    "duration": 10,
    "start_time": "2023-08-27T11:37:59.509Z"
   },
   {
    "duration": 4,
    "start_time": "2023-08-27T11:38:18.450Z"
   },
   {
    "duration": 9,
    "start_time": "2023-08-27T11:41:36.931Z"
   },
   {
    "duration": 5,
    "start_time": "2023-08-27T11:42:11.632Z"
   },
   {
    "duration": 5,
    "start_time": "2023-08-27T11:42:13.622Z"
   },
   {
    "duration": 5,
    "start_time": "2023-08-27T11:42:15.287Z"
   },
   {
    "duration": 6,
    "start_time": "2023-08-27T11:42:17.403Z"
   },
   {
    "duration": 6,
    "start_time": "2023-08-27T11:42:18.783Z"
   },
   {
    "duration": 9,
    "start_time": "2023-08-27T11:42:20.150Z"
   },
   {
    "duration": 8,
    "start_time": "2023-08-27T11:42:21.380Z"
   },
   {
    "duration": 6,
    "start_time": "2023-08-27T11:42:22.617Z"
   },
   {
    "duration": 7,
    "start_time": "2023-08-27T11:42:24.299Z"
   },
   {
    "duration": 8,
    "start_time": "2023-08-27T11:42:25.600Z"
   },
   {
    "duration": 5,
    "start_time": "2023-08-27T11:42:26.824Z"
   },
   {
    "duration": 20,
    "start_time": "2023-08-27T11:42:27.999Z"
   },
   {
    "duration": 16,
    "start_time": "2023-08-27T11:42:29.476Z"
   },
   {
    "duration": 8,
    "start_time": "2023-08-27T11:42:31.386Z"
   },
   {
    "duration": 4,
    "start_time": "2023-08-27T11:42:34.693Z"
   },
   {
    "duration": 6,
    "start_time": "2023-08-27T11:42:36.034Z"
   },
   {
    "duration": 6,
    "start_time": "2023-08-27T11:45:45.944Z"
   },
   {
    "duration": 86,
    "start_time": "2023-08-27T11:45:47.151Z"
   },
   {
    "duration": 106,
    "start_time": "2023-08-27T11:46:03.849Z"
   },
   {
    "duration": 98,
    "start_time": "2023-08-27T11:46:24.505Z"
   },
   {
    "duration": 17,
    "start_time": "2023-08-27T11:46:32.185Z"
   },
   {
    "duration": 5,
    "start_time": "2023-08-27T11:46:52.313Z"
   },
   {
    "duration": 5,
    "start_time": "2023-08-27T11:47:00.619Z"
   },
   {
    "duration": 7,
    "start_time": "2023-08-27T11:47:01.881Z"
   },
   {
    "duration": 4,
    "start_time": "2023-08-27T11:47:03.346Z"
   },
   {
    "duration": 11,
    "start_time": "2023-08-27T11:47:04.356Z"
   },
   {
    "duration": 5,
    "start_time": "2023-08-27T11:47:05.682Z"
   },
   {
    "duration": 4,
    "start_time": "2023-08-27T11:47:06.623Z"
   },
   {
    "duration": 4,
    "start_time": "2023-08-27T11:47:08.249Z"
   },
   {
    "duration": 9,
    "start_time": "2023-08-27T11:47:09.495Z"
   },
   {
    "duration": 4,
    "start_time": "2023-08-27T11:47:10.903Z"
   },
   {
    "duration": 12,
    "start_time": "2023-08-27T11:47:12.054Z"
   },
   {
    "duration": 4,
    "start_time": "2023-08-27T11:47:14.007Z"
   },
   {
    "duration": 5,
    "start_time": "2023-08-27T11:47:15.143Z"
   },
   {
    "duration": 9,
    "start_time": "2023-08-27T11:47:16.896Z"
   },
   {
    "duration": 12,
    "start_time": "2023-08-27T11:47:17.890Z"
   },
   {
    "duration": 6,
    "start_time": "2023-08-27T11:47:19.017Z"
   },
   {
    "duration": 5,
    "start_time": "2023-08-27T11:47:20.211Z"
   },
   {
    "duration": 5,
    "start_time": "2023-08-27T11:47:21.430Z"
   },
   {
    "duration": 4,
    "start_time": "2023-08-27T11:47:22.548Z"
   },
   {
    "duration": 5,
    "start_time": "2023-08-27T11:47:23.700Z"
   },
   {
    "duration": 17,
    "start_time": "2023-08-27T11:47:24.782Z"
   },
   {
    "duration": 11,
    "start_time": "2023-08-27T11:47:26.180Z"
   },
   {
    "duration": 6,
    "start_time": "2023-08-27T11:47:27.700Z"
   },
   {
    "duration": 161,
    "start_time": "2023-08-27T11:57:29.751Z"
   },
   {
    "duration": 118,
    "start_time": "2023-08-27T11:57:45.906Z"
   },
   {
    "duration": 6,
    "start_time": "2023-08-27T11:59:32.941Z"
   },
   {
    "duration": 139,
    "start_time": "2023-08-27T12:02:49.582Z"
   },
   {
    "duration": 7,
    "start_time": "2023-08-27T12:02:54.274Z"
   },
   {
    "duration": 1704,
    "start_time": "2023-08-27T12:06:00.989Z"
   },
   {
    "duration": 43,
    "start_time": "2023-08-27T12:06:02.696Z"
   },
   {
    "duration": 1322,
    "start_time": "2023-08-27T12:06:02.741Z"
   },
   {
    "duration": 23,
    "start_time": "2023-08-27T12:06:04.065Z"
   },
   {
    "duration": 10,
    "start_time": "2023-08-27T12:06:04.090Z"
   },
   {
    "duration": 15,
    "start_time": "2023-08-27T12:06:04.102Z"
   },
   {
    "duration": 20,
    "start_time": "2023-08-27T12:06:04.119Z"
   },
   {
    "duration": 17,
    "start_time": "2023-08-27T12:06:04.141Z"
   },
   {
    "duration": 51,
    "start_time": "2023-08-27T12:06:04.160Z"
   },
   {
    "duration": 225,
    "start_time": "2023-08-27T12:06:04.219Z"
   },
   {
    "duration": 347,
    "start_time": "2023-08-27T12:06:04.446Z"
   },
   {
    "duration": 1687,
    "start_time": "2023-08-27T12:06:34.805Z"
   },
   {
    "duration": 34,
    "start_time": "2023-08-27T12:06:36.495Z"
   },
   {
    "duration": 1225,
    "start_time": "2023-08-27T12:06:36.531Z"
   },
   {
    "duration": 25,
    "start_time": "2023-08-27T12:06:37.765Z"
   },
   {
    "duration": 11,
    "start_time": "2023-08-27T12:06:37.793Z"
   },
   {
    "duration": 18,
    "start_time": "2023-08-27T12:06:37.806Z"
   },
   {
    "duration": 10,
    "start_time": "2023-08-27T12:06:37.826Z"
   },
   {
    "duration": 29,
    "start_time": "2023-08-27T12:06:37.838Z"
   },
   {
    "duration": 40,
    "start_time": "2023-08-27T12:06:37.869Z"
   },
   {
    "duration": 263,
    "start_time": "2023-08-27T12:06:37.915Z"
   },
   {
    "duration": 94,
    "start_time": "2023-08-27T12:06:38.183Z"
   },
   {
    "duration": 6,
    "start_time": "2023-08-27T12:17:12.648Z"
   },
   {
    "duration": 6,
    "start_time": "2023-08-27T12:17:53.736Z"
   },
   {
    "duration": 15,
    "start_time": "2023-08-27T12:17:56.286Z"
   },
   {
    "duration": 137,
    "start_time": "2023-08-27T12:17:57.445Z"
   },
   {
    "duration": 138,
    "start_time": "2023-08-27T12:17:59.475Z"
   },
   {
    "duration": 28,
    "start_time": "2023-08-27T12:18:21.905Z"
   },
   {
    "duration": 35,
    "start_time": "2023-08-27T12:26:30.353Z"
   },
   {
    "duration": 27,
    "start_time": "2023-08-27T12:27:24.290Z"
   },
   {
    "duration": 31,
    "start_time": "2023-08-27T12:27:36.388Z"
   },
   {
    "duration": 15,
    "start_time": "2023-08-27T12:28:14.184Z"
   },
   {
    "duration": 5,
    "start_time": "2023-08-27T12:28:15.136Z"
   },
   {
    "duration": 8,
    "start_time": "2023-08-27T12:28:16.877Z"
   },
   {
    "duration": 9,
    "start_time": "2023-08-27T12:28:17.743Z"
   },
   {
    "duration": 8,
    "start_time": "2023-08-27T12:28:19.342Z"
   },
   {
    "duration": 35,
    "start_time": "2023-08-27T12:28:20.286Z"
   },
   {
    "duration": 40,
    "start_time": "2023-08-27T12:29:42.191Z"
   },
   {
    "duration": 39,
    "start_time": "2023-08-27T12:32:40.498Z"
   },
   {
    "duration": 90,
    "start_time": "2023-08-27T12:33:36.646Z"
   },
   {
    "duration": 49,
    "start_time": "2023-08-27T12:33:47.625Z"
   },
   {
    "duration": 39,
    "start_time": "2023-08-27T12:33:53.621Z"
   },
   {
    "duration": 51,
    "start_time": "2023-08-27T12:34:01.672Z"
   },
   {
    "duration": 47,
    "start_time": "2023-08-27T12:34:22.739Z"
   },
   {
    "duration": 63,
    "start_time": "2023-08-27T12:35:47.528Z"
   },
   {
    "duration": 1733,
    "start_time": "2023-08-27T12:36:05.432Z"
   },
   {
    "duration": 44,
    "start_time": "2023-08-27T12:36:07.169Z"
   },
   {
    "duration": 1181,
    "start_time": "2023-08-27T12:36:07.215Z"
   },
   {
    "duration": 16,
    "start_time": "2023-08-27T12:36:08.398Z"
   },
   {
    "duration": 29,
    "start_time": "2023-08-27T12:36:08.417Z"
   },
   {
    "duration": 370,
    "start_time": "2023-08-27T12:36:08.448Z"
   },
   {
    "duration": 225,
    "start_time": "2023-08-27T12:36:08.820Z"
   },
   {
    "duration": 479,
    "start_time": "2023-08-27T12:36:09.046Z"
   },
   {
    "duration": 244,
    "start_time": "2023-08-27T12:36:09.528Z"
   },
   {
    "duration": 29,
    "start_time": "2023-08-27T12:36:09.778Z"
   },
   {
    "duration": 85,
    "start_time": "2023-08-27T12:36:09.808Z"
   },
   {
    "duration": 148,
    "start_time": "2023-08-27T12:36:09.963Z"
   },
   {
    "duration": 1615,
    "start_time": "2023-08-27T12:36:25.627Z"
   },
   {
    "duration": 47,
    "start_time": "2023-08-27T12:36:27.245Z"
   },
   {
    "duration": 1224,
    "start_time": "2023-08-27T12:36:27.293Z"
   },
   {
    "duration": 16,
    "start_time": "2023-08-27T12:36:28.519Z"
   },
   {
    "duration": 32,
    "start_time": "2023-08-27T12:36:28.537Z"
   },
   {
    "duration": 18,
    "start_time": "2023-08-27T12:36:28.571Z"
   },
   {
    "duration": 6,
    "start_time": "2023-08-27T12:36:28.591Z"
   },
   {
    "duration": 6,
    "start_time": "2023-08-27T12:36:28.599Z"
   },
   {
    "duration": 290,
    "start_time": "2023-08-27T12:36:28.610Z"
   },
   {
    "duration": 81,
    "start_time": "2023-08-27T12:36:28.906Z"
   },
   {
    "duration": 86,
    "start_time": "2023-08-27T12:36:28.989Z"
   },
   {
    "duration": 156,
    "start_time": "2023-08-27T12:36:29.077Z"
   },
   {
    "duration": 1631,
    "start_time": "2023-08-27T12:56:25.649Z"
   },
   {
    "duration": 38,
    "start_time": "2023-08-27T12:56:27.289Z"
   },
   {
    "duration": 1305,
    "start_time": "2023-08-27T12:56:27.330Z"
   },
   {
    "duration": 26,
    "start_time": "2023-08-27T12:56:28.639Z"
   },
   {
    "duration": 21,
    "start_time": "2023-08-27T12:56:28.670Z"
   },
   {
    "duration": 26,
    "start_time": "2023-08-27T12:56:28.694Z"
   },
   {
    "duration": 6,
    "start_time": "2023-08-27T12:56:28.721Z"
   },
   {
    "duration": 213,
    "start_time": "2023-08-27T12:56:28.729Z"
   },
   {
    "duration": 22,
    "start_time": "2023-08-27T12:56:28.945Z"
   },
   {
    "duration": 111,
    "start_time": "2023-08-27T12:56:28.972Z"
   },
   {
    "duration": 119,
    "start_time": "2023-08-27T12:56:29.092Z"
   },
   {
    "duration": 184,
    "start_time": "2023-08-27T12:56:29.220Z"
   },
   {
    "duration": 1501,
    "start_time": "2023-08-27T15:02:02.846Z"
   },
   {
    "duration": 79,
    "start_time": "2023-08-27T15:02:04.350Z"
   },
   {
    "duration": 993,
    "start_time": "2023-08-27T15:02:04.431Z"
   },
   {
    "duration": 28,
    "start_time": "2023-08-27T15:02:05.425Z"
   },
   {
    "duration": 38,
    "start_time": "2023-08-27T15:02:05.455Z"
   },
   {
    "duration": 11,
    "start_time": "2023-08-27T15:02:05.495Z"
   },
   {
    "duration": 8,
    "start_time": "2023-08-27T15:02:05.507Z"
   },
   {
    "duration": 14,
    "start_time": "2023-08-27T15:02:05.517Z"
   },
   {
    "duration": 224,
    "start_time": "2023-08-27T15:02:05.537Z"
   },
   {
    "duration": 74,
    "start_time": "2023-08-27T15:02:05.763Z"
   },
   {
    "duration": 109,
    "start_time": "2023-08-27T15:02:05.839Z"
   },
   {
    "duration": 131,
    "start_time": "2023-08-27T15:02:05.950Z"
   },
   {
    "duration": 61,
    "start_time": "2023-08-27T15:46:46.582Z"
   },
   {
    "duration": 8,
    "start_time": "2023-08-27T15:46:57.912Z"
   },
   {
    "duration": 1996,
    "start_time": "2023-08-27T15:47:03.478Z"
   },
   {
    "duration": 202,
    "start_time": "2023-08-27T15:47:05.477Z"
   },
   {
    "duration": 1314,
    "start_time": "2023-08-27T15:47:05.685Z"
   },
   {
    "duration": 28,
    "start_time": "2023-08-27T15:47:07.009Z"
   },
   {
    "duration": 8,
    "start_time": "2023-08-27T15:47:07.040Z"
   },
   {
    "duration": 22,
    "start_time": "2023-08-27T15:47:07.050Z"
   },
   {
    "duration": 21,
    "start_time": "2023-08-27T15:47:07.073Z"
   },
   {
    "duration": 20,
    "start_time": "2023-08-27T15:47:07.096Z"
   },
   {
    "duration": 7,
    "start_time": "2023-08-27T15:47:07.118Z"
   },
   {
    "duration": 36,
    "start_time": "2023-08-27T15:47:07.127Z"
   },
   {
    "duration": 40,
    "start_time": "2023-08-27T15:47:07.168Z"
   },
   {
    "duration": 107,
    "start_time": "2023-08-27T15:47:07.258Z"
   },
   {
    "duration": 79,
    "start_time": "2023-08-27T15:54:27.003Z"
   },
   {
    "duration": 99,
    "start_time": "2023-08-27T15:54:44.337Z"
   },
   {
    "duration": 26,
    "start_time": "2023-08-27T15:55:40.743Z"
   },
   {
    "duration": 7,
    "start_time": "2023-08-27T15:56:29.327Z"
   },
   {
    "duration": 9,
    "start_time": "2023-08-27T15:56:30.014Z"
   },
   {
    "duration": 11,
    "start_time": "2023-08-27T15:56:30.478Z"
   },
   {
    "duration": 9,
    "start_time": "2023-08-27T15:56:30.850Z"
   },
   {
    "duration": 24,
    "start_time": "2023-08-27T15:56:31.281Z"
   },
   {
    "duration": 18,
    "start_time": "2023-08-27T15:56:31.853Z"
   },
   {
    "duration": 6,
    "start_time": "2023-08-27T15:56:32.218Z"
   },
   {
    "duration": 6,
    "start_time": "2023-08-27T15:56:32.633Z"
   },
   {
    "duration": 15,
    "start_time": "2023-08-27T15:56:33.208Z"
   },
   {
    "duration": 17,
    "start_time": "2023-08-27T15:56:33.673Z"
   },
   {
    "duration": 8,
    "start_time": "2023-08-27T15:56:34.026Z"
   },
   {
    "duration": 9,
    "start_time": "2023-08-27T15:56:34.434Z"
   },
   {
    "duration": 9,
    "start_time": "2023-08-27T15:56:34.827Z"
   },
   {
    "duration": 6,
    "start_time": "2023-08-27T15:56:35.433Z"
   },
   {
    "duration": 9,
    "start_time": "2023-08-27T15:56:35.921Z"
   },
   {
    "duration": 10,
    "start_time": "2023-08-27T15:56:36.396Z"
   },
   {
    "duration": 7,
    "start_time": "2023-08-27T15:56:36.933Z"
   },
   {
    "duration": 6,
    "start_time": "2023-08-27T15:56:37.474Z"
   },
   {
    "duration": 8,
    "start_time": "2023-08-27T15:56:38.613Z"
   },
   {
    "duration": 14,
    "start_time": "2023-08-27T15:56:39.154Z"
   },
   {
    "duration": 7,
    "start_time": "2023-08-27T15:56:40.134Z"
   },
   {
    "duration": 12,
    "start_time": "2023-08-27T15:56:42.006Z"
   },
   {
    "duration": 25,
    "start_time": "2023-08-27T15:56:42.582Z"
   },
   {
    "duration": 5,
    "start_time": "2023-08-27T15:56:43.330Z"
   },
   {
    "duration": 10,
    "start_time": "2023-08-27T15:56:43.903Z"
   },
   {
    "duration": 17,
    "start_time": "2023-08-27T15:56:44.353Z"
   },
   {
    "duration": 21,
    "start_time": "2023-08-27T15:56:45.083Z"
   },
   {
    "duration": 5,
    "start_time": "2023-08-27T15:56:45.722Z"
   },
   {
    "duration": 10,
    "start_time": "2023-08-27T15:56:46.308Z"
   },
   {
    "duration": 5,
    "start_time": "2023-08-27T15:56:46.678Z"
   },
   {
    "duration": 10,
    "start_time": "2023-08-27T15:56:47.292Z"
   },
   {
    "duration": 13,
    "start_time": "2023-08-27T15:56:47.786Z"
   },
   {
    "duration": 12,
    "start_time": "2023-08-27T15:56:48.280Z"
   },
   {
    "duration": 5,
    "start_time": "2023-08-27T15:56:48.649Z"
   },
   {
    "duration": 13,
    "start_time": "2023-08-27T15:56:48.979Z"
   },
   {
    "duration": 10,
    "start_time": "2023-08-27T15:56:49.270Z"
   },
   {
    "duration": 16,
    "start_time": "2023-08-27T15:56:49.583Z"
   },
   {
    "duration": 11,
    "start_time": "2023-08-27T15:56:49.907Z"
   },
   {
    "duration": 5,
    "start_time": "2023-08-27T15:56:50.231Z"
   },
   {
    "duration": 9,
    "start_time": "2023-08-27T15:56:50.521Z"
   },
   {
    "duration": 5,
    "start_time": "2023-08-27T15:56:50.841Z"
   },
   {
    "duration": 5,
    "start_time": "2023-08-27T15:56:51.143Z"
   },
   {
    "duration": 5,
    "start_time": "2023-08-27T15:56:51.450Z"
   },
   {
    "duration": 15,
    "start_time": "2023-08-27T15:56:51.677Z"
   },
   {
    "duration": 22,
    "start_time": "2023-08-27T15:56:51.976Z"
   },
   {
    "duration": 13,
    "start_time": "2023-08-27T15:56:52.256Z"
   },
   {
    "duration": 9,
    "start_time": "2023-08-27T15:56:52.484Z"
   },
   {
    "duration": 10,
    "start_time": "2023-08-27T15:56:52.783Z"
   },
   {
    "duration": 6,
    "start_time": "2023-08-27T15:56:53.032Z"
   },
   {
    "duration": 6,
    "start_time": "2023-08-27T15:56:53.322Z"
   },
   {
    "duration": 5,
    "start_time": "2023-08-27T15:56:53.718Z"
   },
   {
    "duration": 14,
    "start_time": "2023-08-27T15:56:54.279Z"
   },
   {
    "duration": 6,
    "start_time": "2023-08-27T15:56:54.621Z"
   },
   {
    "duration": 124,
    "start_time": "2023-08-27T15:58:01.441Z"
   },
   {
    "duration": 170,
    "start_time": "2023-08-27T16:01:45.285Z"
   },
   {
    "duration": 231,
    "start_time": "2023-08-27T16:02:44.956Z"
   },
   {
    "duration": 108,
    "start_time": "2023-08-27T16:03:12.330Z"
   },
   {
    "duration": 8,
    "start_time": "2023-08-27T16:06:20.935Z"
   },
   {
    "duration": 9,
    "start_time": "2023-08-27T16:06:45.834Z"
   },
   {
    "duration": 86,
    "start_time": "2023-08-27T17:29:04.541Z"
   },
   {
    "duration": 1531,
    "start_time": "2023-08-27T17:50:35.259Z"
   },
   {
    "duration": 35,
    "start_time": "2023-08-27T17:50:36.792Z"
   },
   {
    "duration": 1200,
    "start_time": "2023-08-27T17:50:36.830Z"
   },
   {
    "duration": 37,
    "start_time": "2023-08-27T17:50:38.032Z"
   },
   {
    "duration": 15,
    "start_time": "2023-08-27T17:50:38.075Z"
   },
   {
    "duration": 19,
    "start_time": "2023-08-27T17:50:38.096Z"
   },
   {
    "duration": 10,
    "start_time": "2023-08-27T17:50:38.120Z"
   },
   {
    "duration": 242,
    "start_time": "2023-08-27T17:50:38.132Z"
   },
   {
    "duration": 17,
    "start_time": "2023-08-27T17:50:38.385Z"
   },
   {
    "duration": 29,
    "start_time": "2023-08-27T17:50:38.404Z"
   },
   {
    "duration": 60,
    "start_time": "2023-08-27T17:50:38.435Z"
   },
   {
    "duration": 184,
    "start_time": "2023-08-27T17:50:38.497Z"
   },
   {
    "duration": 85,
    "start_time": "2023-08-27T17:55:23.576Z"
   },
   {
    "duration": 89,
    "start_time": "2023-08-27T18:01:21.140Z"
   },
   {
    "duration": 1518,
    "start_time": "2023-08-27T18:06:31.255Z"
   },
   {
    "duration": 33,
    "start_time": "2023-08-27T18:06:32.779Z"
   },
   {
    "duration": 1026,
    "start_time": "2023-08-27T18:06:32.814Z"
   },
   {
    "duration": 42,
    "start_time": "2023-08-27T18:06:33.843Z"
   },
   {
    "duration": 8,
    "start_time": "2023-08-27T18:06:33.888Z"
   },
   {
    "duration": 20,
    "start_time": "2023-08-27T18:06:33.898Z"
   },
   {
    "duration": 5,
    "start_time": "2023-08-27T18:06:33.920Z"
   },
   {
    "duration": 200,
    "start_time": "2023-08-27T18:06:33.927Z"
   },
   {
    "duration": 7,
    "start_time": "2023-08-27T18:06:34.163Z"
   },
   {
    "duration": 20,
    "start_time": "2023-08-27T18:06:34.173Z"
   },
   {
    "duration": 74,
    "start_time": "2023-08-27T18:06:34.195Z"
   },
   {
    "duration": 191,
    "start_time": "2023-08-27T18:06:34.270Z"
   },
   {
    "duration": 11,
    "start_time": "2023-08-27T18:08:27.423Z"
   },
   {
    "duration": 17,
    "start_time": "2023-08-27T18:08:30.557Z"
   },
   {
    "duration": 15,
    "start_time": "2023-08-27T18:08:36.667Z"
   },
   {
    "duration": 16,
    "start_time": "2023-08-27T18:08:37.771Z"
   },
   {
    "duration": 1415,
    "start_time": "2023-08-27T18:08:43.379Z"
   },
   {
    "duration": 31,
    "start_time": "2023-08-27T18:08:44.796Z"
   },
   {
    "duration": 1060,
    "start_time": "2023-08-27T18:08:44.830Z"
   },
   {
    "duration": 17,
    "start_time": "2023-08-27T18:08:45.891Z"
   },
   {
    "duration": 12,
    "start_time": "2023-08-27T18:08:45.910Z"
   },
   {
    "duration": 22,
    "start_time": "2023-08-27T18:08:45.924Z"
   },
   {
    "duration": 32,
    "start_time": "2023-08-27T18:08:45.947Z"
   },
   {
    "duration": 235,
    "start_time": "2023-08-27T18:08:45.985Z"
   },
   {
    "duration": 13,
    "start_time": "2023-08-27T18:08:46.222Z"
   },
   {
    "duration": 22,
    "start_time": "2023-08-27T18:08:46.237Z"
   },
   {
    "duration": 20,
    "start_time": "2023-08-27T18:08:46.261Z"
   },
   {
    "duration": 212,
    "start_time": "2023-08-27T18:08:46.283Z"
   },
   {
    "duration": 1486,
    "start_time": "2023-08-27T18:08:56.650Z"
   },
   {
    "duration": 51,
    "start_time": "2023-08-27T18:08:58.138Z"
   },
   {
    "duration": 1159,
    "start_time": "2023-08-27T18:08:58.191Z"
   },
   {
    "duration": 24,
    "start_time": "2023-08-27T18:08:59.355Z"
   },
   {
    "duration": 11,
    "start_time": "2023-08-27T18:08:59.381Z"
   },
   {
    "duration": 14,
    "start_time": "2023-08-27T18:08:59.394Z"
   },
   {
    "duration": 6,
    "start_time": "2023-08-27T18:08:59.410Z"
   },
   {
    "duration": 211,
    "start_time": "2023-08-27T18:08:59.418Z"
   },
   {
    "duration": 7,
    "start_time": "2023-08-27T18:08:59.631Z"
   },
   {
    "duration": 49,
    "start_time": "2023-08-27T18:08:59.640Z"
   },
   {
    "duration": 80,
    "start_time": "2023-08-27T18:08:59.691Z"
   },
   {
    "duration": 130,
    "start_time": "2023-08-27T18:08:59.773Z"
   },
   {
    "duration": 1487,
    "start_time": "2023-08-27T18:09:12.739Z"
   },
   {
    "duration": 40,
    "start_time": "2023-08-27T18:09:14.229Z"
   },
   {
    "duration": 1030,
    "start_time": "2023-08-27T18:09:14.271Z"
   },
   {
    "duration": 16,
    "start_time": "2023-08-27T18:09:15.303Z"
   },
   {
    "duration": 7,
    "start_time": "2023-08-27T18:09:15.321Z"
   },
   {
    "duration": 35,
    "start_time": "2023-08-27T18:09:15.329Z"
   },
   {
    "duration": 19,
    "start_time": "2023-08-27T18:09:15.366Z"
   },
   {
    "duration": 225,
    "start_time": "2023-08-27T18:09:15.391Z"
   },
   {
    "duration": 8,
    "start_time": "2023-08-27T18:09:15.619Z"
   },
   {
    "duration": 33,
    "start_time": "2023-08-27T18:09:15.629Z"
   },
   {
    "duration": 94,
    "start_time": "2023-08-27T18:09:15.663Z"
   },
   {
    "duration": 133,
    "start_time": "2023-08-27T18:09:15.760Z"
   },
   {
    "duration": 148,
    "start_time": "2023-08-27T18:13:18.518Z"
   },
   {
    "duration": 1488,
    "start_time": "2023-08-27T18:15:05.353Z"
   },
   {
    "duration": 52,
    "start_time": "2023-08-27T18:15:06.843Z"
   },
   {
    "duration": 1177,
    "start_time": "2023-08-27T18:15:06.896Z"
   },
   {
    "duration": 25,
    "start_time": "2023-08-27T18:15:08.077Z"
   },
   {
    "duration": 11,
    "start_time": "2023-08-27T18:15:08.103Z"
   },
   {
    "duration": 13,
    "start_time": "2023-08-27T18:15:08.115Z"
   },
   {
    "duration": 18,
    "start_time": "2023-08-27T18:15:08.130Z"
   },
   {
    "duration": 259,
    "start_time": "2023-08-27T18:15:08.150Z"
   },
   {
    "duration": 5,
    "start_time": "2023-08-27T18:15:08.411Z"
   },
   {
    "duration": 47,
    "start_time": "2023-08-27T18:15:08.420Z"
   },
   {
    "duration": 22,
    "start_time": "2023-08-27T18:15:08.469Z"
   },
   {
    "duration": 194,
    "start_time": "2023-08-27T18:15:08.496Z"
   },
   {
    "duration": 1482,
    "start_time": "2023-08-28T16:34:26.817Z"
   },
   {
    "duration": 78,
    "start_time": "2023-08-28T16:34:28.301Z"
   },
   {
    "duration": 862,
    "start_time": "2023-08-28T16:34:28.381Z"
   },
   {
    "duration": 16,
    "start_time": "2023-08-28T16:34:29.246Z"
   },
   {
    "duration": 7,
    "start_time": "2023-08-28T16:34:29.264Z"
   },
   {
    "duration": 10,
    "start_time": "2023-08-28T16:34:29.273Z"
   },
   {
    "duration": 5,
    "start_time": "2023-08-28T16:34:29.284Z"
   },
   {
    "duration": 109,
    "start_time": "2023-08-28T16:34:29.291Z"
   },
   {
    "duration": 7,
    "start_time": "2023-08-28T16:34:29.402Z"
   },
   {
    "duration": 47,
    "start_time": "2023-08-28T16:34:29.410Z"
   },
   {
    "duration": 98,
    "start_time": "2023-08-28T16:34:29.459Z"
   },
   {
    "duration": 117,
    "start_time": "2023-08-28T16:34:29.560Z"
   },
   {
    "duration": 1424,
    "start_time": "2023-08-29T08:56:21.313Z"
   },
   {
    "duration": 82,
    "start_time": "2023-08-29T08:56:22.738Z"
   },
   {
    "duration": 835,
    "start_time": "2023-08-29T08:56:22.822Z"
   },
   {
    "duration": 13,
    "start_time": "2023-08-29T08:56:23.659Z"
   },
   {
    "duration": 23,
    "start_time": "2023-08-29T08:56:23.673Z"
   },
   {
    "duration": 13,
    "start_time": "2023-08-29T08:56:23.697Z"
   },
   {
    "duration": 23,
    "start_time": "2023-08-29T08:56:23.712Z"
   },
   {
    "duration": 98,
    "start_time": "2023-08-29T08:56:23.736Z"
   },
   {
    "duration": 11,
    "start_time": "2023-08-29T08:56:23.836Z"
   },
   {
    "duration": 98,
    "start_time": "2023-08-29T08:56:23.936Z"
   },
   {
    "duration": 11,
    "start_time": "2023-08-29T08:56:24.036Z"
   },
   {
    "duration": 208,
    "start_time": "2023-08-29T08:56:24.048Z"
   },
   {
    "duration": 1816,
    "start_time": "2023-08-29T12:42:28.410Z"
   },
   {
    "duration": 95,
    "start_time": "2023-08-29T12:42:30.228Z"
   },
   {
    "duration": 1128,
    "start_time": "2023-08-29T12:42:30.325Z"
   },
   {
    "duration": 29,
    "start_time": "2023-08-29T12:42:31.455Z"
   },
   {
    "duration": 95,
    "start_time": "2023-08-29T12:42:31.485Z"
   },
   {
    "duration": 95,
    "start_time": "2023-08-29T12:42:31.582Z"
   },
   {
    "duration": 36,
    "start_time": "2023-08-29T12:42:31.681Z"
   },
   {
    "duration": 123,
    "start_time": "2023-08-29T12:42:31.718Z"
   },
   {
    "duration": 106,
    "start_time": "2023-08-29T12:42:31.867Z"
   },
   {
    "duration": 35,
    "start_time": "2023-08-29T12:42:31.979Z"
   },
   {
    "duration": 161,
    "start_time": "2023-08-29T12:42:32.016Z"
   },
   {
    "duration": 232,
    "start_time": "2023-08-29T12:42:32.179Z"
   },
   {
    "duration": 75,
    "start_time": "2023-08-30T09:26:18.924Z"
   },
   {
    "duration": 1708,
    "start_time": "2023-08-30T13:29:14.237Z"
   },
   {
    "duration": 94,
    "start_time": "2023-08-30T13:29:15.946Z"
   },
   {
    "duration": 845,
    "start_time": "2023-08-30T13:29:16.041Z"
   },
   {
    "duration": 15,
    "start_time": "2023-08-30T13:29:16.888Z"
   },
   {
    "duration": 14,
    "start_time": "2023-08-30T13:29:16.905Z"
   },
   {
    "duration": 23,
    "start_time": "2023-08-30T13:29:16.921Z"
   },
   {
    "duration": 8,
    "start_time": "2023-08-30T13:29:16.946Z"
   },
   {
    "duration": 243,
    "start_time": "2023-08-30T13:29:16.955Z"
   },
   {
    "duration": 20,
    "start_time": "2023-08-30T13:29:17.200Z"
   },
   {
    "duration": 30,
    "start_time": "2023-08-30T13:29:17.222Z"
   },
   {
    "duration": 80,
    "start_time": "2023-08-30T13:29:17.255Z"
   },
   {
    "duration": 124,
    "start_time": "2023-08-30T13:29:17.337Z"
   }
  ],
  "kernelspec": {
   "display_name": "Python 3 (ipykernel)",
   "language": "python",
   "name": "python3"
  },
  "language_info": {
   "codemirror_mode": {
    "name": "ipython",
    "version": 3
   },
   "file_extension": ".py",
   "mimetype": "text/x-python",
   "name": "python",
   "nbconvert_exporter": "python",
   "pygments_lexer": "ipython3",
   "version": "3.10.9"
  },
  "toc": {
   "base_numbering": 1,
   "nav_menu": {},
   "number_sections": true,
   "sideBar": true,
   "skip_h1_title": true,
   "title_cell": "Содержание",
   "title_sidebar": "Contents",
   "toc_cell": true,
   "toc_position": {
    "height": "calc(100% - 180px)",
    "left": "10px",
    "top": "150px",
    "width": "313px"
   },
   "toc_section_display": true,
   "toc_window_display": false
  }
 },
 "nbformat": 4,
 "nbformat_minor": 2
}
