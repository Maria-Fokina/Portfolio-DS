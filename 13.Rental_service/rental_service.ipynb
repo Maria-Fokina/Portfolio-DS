{
 "cells": [
  {
   "cell_type": "markdown",
   "id": "2522adfd",
   "metadata": {},
   "source": [
    "# Исследование сервиса аренды самокатов GoFast.\n",
    "\n",
    " Предоставлены данные о некоторых пользователях из нескольких городов, а также об их поездках. Требуется проанализировать данные и проверить некоторые гипотезы, которые могут помочь бизнесу вырасти.\n",
    "Чтобы совершать поездки по городу, пользователи сервиса GoFast пользуются мобильным приложением. Сервисом можно пользоваться:\n",
    "без подписки и с подпиской Ultra.\n",
    "В основных данных есть информация о пользователях, их поездках и подписках.\n",
    "\n",
    "### План проекта:\n",
    "1. Загрузка и изучение данных \n",
    "2. Предобработка данных\n",
    "3. Исследовательский анализ даннных\n",
    "4. Подготовка данных и формирование выручки\n",
    "5. Проверка гипотез\n",
    "6. Решение задачи выснения оптимального количества промокодов\n",
    "7. Итоговый вывод\n",
    "\n",
    "### Описание данных\n",
    "\n",
    "В основных данных есть информация о пользователях, их поездках и подписках.\n",
    "\n",
    "**Пользователи — users_go.csv**\n",
    "\n",
    "* user_id - уникальный идентификатор пользователя\n",
    "* name\t- имя пользователя\n",
    "* age -\tвозраст\n",
    "* city - город\n",
    "* subscription_type - тип подписки (free, ultra)\n",
    "\n",
    "**Поездки — rides_go.csv**\n",
    "\n",
    "* user_id - уникальный идентификатор пользователя\n",
    "* distance\t- расстояние, которое пользователь проехал в текущей сессии (в метрах)\n",
    "* duration\t- продолжительность сессии (в минутах) — время с того момента, как пользователь нажал кнопку «Начать поездку» до момента, как он нажал кнопку «Завершить поездку»\n",
    "* date\t- дата совершения поездки\n",
    "\n",
    "**Подписки — subscriptions_go.csv**\n",
    "\n",
    "* subscription_type - тип подписки\n",
    "* minute_price\t- стоимость одной минуты поездки по данной подписке\n",
    "* start_ride_price\t- стоимость начала поездки\n",
    "* subscription_fee\t- стоимость ежемесячного платежа"
   ]
  },
  {
   "cell_type": "markdown",
   "id": "89e0d419",
   "metadata": {},
   "source": [
    "### Загрузка данных и изучение общей информации\n"
   ]
  },
  {
   "cell_type": "code",
   "execution_count": 1,
   "id": "c7699347",
   "metadata": {},
   "outputs": [],
   "source": [
    "import pandas as pd\n",
    "import numpy as np\n",
    "import scipy.stats as st\n",
    "import matplotlib.pyplot as plt\n",
    "import seaborn as sns \n",
    "from IPython.display import display\n",
    "from scipy.stats import binom, norm\n",
    "from math import sqrt\n",
    "from scipy import stats as st"
   ]
  },
  {
   "cell_type": "code",
   "execution_count": 2,
   "id": "f78fa6b4",
   "metadata": {
    "scrolled": true
   },
   "outputs": [
    {
     "data": {
      "text/html": [
       "<div>\n",
       "<style scoped>\n",
       "    .dataframe tbody tr th:only-of-type {\n",
       "        vertical-align: middle;\n",
       "    }\n",
       "\n",
       "    .dataframe tbody tr th {\n",
       "        vertical-align: top;\n",
       "    }\n",
       "\n",
       "    .dataframe thead th {\n",
       "        text-align: right;\n",
       "    }\n",
       "</style>\n",
       "<table border=\"1\" class=\"dataframe\">\n",
       "  <thead>\n",
       "    <tr style=\"text-align: right;\">\n",
       "      <th></th>\n",
       "      <th>user_id</th>\n",
       "      <th>name</th>\n",
       "      <th>age</th>\n",
       "      <th>city</th>\n",
       "      <th>subscription_type</th>\n",
       "    </tr>\n",
       "  </thead>\n",
       "  <tbody>\n",
       "    <tr>\n",
       "      <th>0</th>\n",
       "      <td>1</td>\n",
       "      <td>Кира</td>\n",
       "      <td>22</td>\n",
       "      <td>Тюмень</td>\n",
       "      <td>ultra</td>\n",
       "    </tr>\n",
       "    <tr>\n",
       "      <th>1</th>\n",
       "      <td>2</td>\n",
       "      <td>Станислав</td>\n",
       "      <td>31</td>\n",
       "      <td>Омск</td>\n",
       "      <td>ultra</td>\n",
       "    </tr>\n",
       "    <tr>\n",
       "      <th>2</th>\n",
       "      <td>3</td>\n",
       "      <td>Алексей</td>\n",
       "      <td>20</td>\n",
       "      <td>Москва</td>\n",
       "      <td>ultra</td>\n",
       "    </tr>\n",
       "    <tr>\n",
       "      <th>3</th>\n",
       "      <td>4</td>\n",
       "      <td>Константин</td>\n",
       "      <td>26</td>\n",
       "      <td>Ростов-на-Дону</td>\n",
       "      <td>ultra</td>\n",
       "    </tr>\n",
       "    <tr>\n",
       "      <th>4</th>\n",
       "      <td>5</td>\n",
       "      <td>Адель</td>\n",
       "      <td>28</td>\n",
       "      <td>Омск</td>\n",
       "      <td>ultra</td>\n",
       "    </tr>\n",
       "  </tbody>\n",
       "</table>\n",
       "</div>"
      ],
      "text/plain": [
       "   user_id        name  age            city subscription_type\n",
       "0        1        Кира   22          Тюмень             ultra\n",
       "1        2   Станислав   31            Омск             ultra\n",
       "2        3     Алексей   20          Москва             ultra\n",
       "3        4  Константин   26  Ростов-на-Дону             ultra\n",
       "4        5       Адель   28            Омск             ultra"
      ]
     },
     "metadata": {},
     "output_type": "display_data"
    },
    {
     "data": {
      "text/html": [
       "<div>\n",
       "<style scoped>\n",
       "    .dataframe tbody tr th:only-of-type {\n",
       "        vertical-align: middle;\n",
       "    }\n",
       "\n",
       "    .dataframe tbody tr th {\n",
       "        vertical-align: top;\n",
       "    }\n",
       "\n",
       "    .dataframe thead th {\n",
       "        text-align: right;\n",
       "    }\n",
       "</style>\n",
       "<table border=\"1\" class=\"dataframe\">\n",
       "  <thead>\n",
       "    <tr style=\"text-align: right;\">\n",
       "      <th></th>\n",
       "      <th>user_id</th>\n",
       "      <th>distance</th>\n",
       "      <th>duration</th>\n",
       "      <th>date</th>\n",
       "    </tr>\n",
       "  </thead>\n",
       "  <tbody>\n",
       "    <tr>\n",
       "      <th>0</th>\n",
       "      <td>1</td>\n",
       "      <td>4409.919140</td>\n",
       "      <td>25.599769</td>\n",
       "      <td>2021-01-01</td>\n",
       "    </tr>\n",
       "    <tr>\n",
       "      <th>1</th>\n",
       "      <td>1</td>\n",
       "      <td>2617.592153</td>\n",
       "      <td>15.816871</td>\n",
       "      <td>2021-01-18</td>\n",
       "    </tr>\n",
       "    <tr>\n",
       "      <th>2</th>\n",
       "      <td>1</td>\n",
       "      <td>754.159807</td>\n",
       "      <td>6.232113</td>\n",
       "      <td>2021-04-20</td>\n",
       "    </tr>\n",
       "    <tr>\n",
       "      <th>3</th>\n",
       "      <td>1</td>\n",
       "      <td>2694.783254</td>\n",
       "      <td>18.511000</td>\n",
       "      <td>2021-08-11</td>\n",
       "    </tr>\n",
       "    <tr>\n",
       "      <th>4</th>\n",
       "      <td>1</td>\n",
       "      <td>4028.687306</td>\n",
       "      <td>26.265803</td>\n",
       "      <td>2021-08-28</td>\n",
       "    </tr>\n",
       "  </tbody>\n",
       "</table>\n",
       "</div>"
      ],
      "text/plain": [
       "   user_id     distance   duration        date\n",
       "0        1  4409.919140  25.599769  2021-01-01\n",
       "1        1  2617.592153  15.816871  2021-01-18\n",
       "2        1   754.159807   6.232113  2021-04-20\n",
       "3        1  2694.783254  18.511000  2021-08-11\n",
       "4        1  4028.687306  26.265803  2021-08-28"
      ]
     },
     "metadata": {},
     "output_type": "display_data"
    },
    {
     "data": {
      "text/html": [
       "<div>\n",
       "<style scoped>\n",
       "    .dataframe tbody tr th:only-of-type {\n",
       "        vertical-align: middle;\n",
       "    }\n",
       "\n",
       "    .dataframe tbody tr th {\n",
       "        vertical-align: top;\n",
       "    }\n",
       "\n",
       "    .dataframe thead th {\n",
       "        text-align: right;\n",
       "    }\n",
       "</style>\n",
       "<table border=\"1\" class=\"dataframe\">\n",
       "  <thead>\n",
       "    <tr style=\"text-align: right;\">\n",
       "      <th></th>\n",
       "      <th>subscription_type</th>\n",
       "      <th>minute_price</th>\n",
       "      <th>start_ride_price</th>\n",
       "      <th>subscription_fee</th>\n",
       "    </tr>\n",
       "  </thead>\n",
       "  <tbody>\n",
       "    <tr>\n",
       "      <th>0</th>\n",
       "      <td>free</td>\n",
       "      <td>8</td>\n",
       "      <td>50</td>\n",
       "      <td>0</td>\n",
       "    </tr>\n",
       "    <tr>\n",
       "      <th>1</th>\n",
       "      <td>ultra</td>\n",
       "      <td>6</td>\n",
       "      <td>0</td>\n",
       "      <td>199</td>\n",
       "    </tr>\n",
       "  </tbody>\n",
       "</table>\n",
       "</div>"
      ],
      "text/plain": [
       "  subscription_type  minute_price  start_ride_price  subscription_fee\n",
       "0              free             8                50                 0\n",
       "1             ultra             6                 0               199"
      ]
     },
     "metadata": {},
     "output_type": "display_data"
    }
   ],
   "source": [
    "data_users = pd.read_csv('/data/users_go.csv', sep=',')\n",
    "display(data_users.head())\n",
    "data_rides_go = pd.read_csv('/data/rides_go.csv', sep=',')\n",
    "display(data_rides_go.head())\n",
    "data_subscriptions_go = pd.read_csv('/data/subscriptions_go.csv', sep=',')\n",
    "display(data_subscriptions_go.head())"
   ]
  },
  {
   "cell_type": "markdown",
   "id": "fcd69406",
   "metadata": {},
   "source": [
    "**Согласно документации к данным:**\n",
    "\n",
    "**data_users:**\n",
    "\n",
    "- user_id - уникальный идентификатор пользователя\n",
    "- name - имя пользователя\n",
    "- age - возраст\n",
    "- city - город\n",
    "- subscription_type - тип подписки (free, ultra)\n",
    "\n",
    "**data_rides_go:**\n",
    "\n",
    "- user_id - уникальный идентификатор пользователя\n",
    "- distance - расстояние, которое пользователь проехал в текущей сессии (в метрах)\n",
    "- duration - продолжительность сессии (в минутах) — время с того момента, как пользователь нажал кнопку «Начать поездку» до момента, как он нажал кнопку «Завершить поездку»\n",
    "- date - дата совершения поездки\n",
    "\n",
    "\n",
    "**data_subscriptions_go:**\n",
    "\n",
    "- subscription_type - тип подписки\n",
    "- minute_price - стоимость одной минуты поездки по данной подписке\n",
    "- start_ride_price - стоимость начала поездки\n",
    "- subscription_fee - стоимость ежемесячного платежа"
   ]
  },
  {
   "cell_type": "markdown",
   "id": "8ec5126b",
   "metadata": {},
   "source": [
    "#### Посмотрим информацию по data, проверим на соответствие хорошему стилю, типы данных, наличие пропусков и аномалий:"
   ]
  },
  {
   "cell_type": "code",
   "execution_count": 3,
   "id": "8b0181f3",
   "metadata": {},
   "outputs": [
    {
     "name": "stdout",
     "output_type": "stream",
     "text": [
      "<class 'pandas.core.frame.DataFrame'>\n",
      "RangeIndex: 1565 entries, 0 to 1564\n",
      "Data columns (total 5 columns):\n",
      " #   Column             Non-Null Count  Dtype \n",
      "---  ------             --------------  ----- \n",
      " 0   user_id            1565 non-null   int64 \n",
      " 1   name               1565 non-null   object\n",
      " 2   age                1565 non-null   int64 \n",
      " 3   city               1565 non-null   object\n",
      " 4   subscription_type  1565 non-null   object\n",
      "dtypes: int64(2), object(3)\n",
      "memory usage: 61.3+ KB\n"
     ]
    },
    {
     "data": {
      "text/plain": [
       "None"
      ]
     },
     "metadata": {},
     "output_type": "display_data"
    },
    {
     "data": {
      "text/html": [
       "<div>\n",
       "<style scoped>\n",
       "    .dataframe tbody tr th:only-of-type {\n",
       "        vertical-align: middle;\n",
       "    }\n",
       "\n",
       "    .dataframe tbody tr th {\n",
       "        vertical-align: top;\n",
       "    }\n",
       "\n",
       "    .dataframe thead th {\n",
       "        text-align: right;\n",
       "    }\n",
       "</style>\n",
       "<table border=\"1\" class=\"dataframe\">\n",
       "  <thead>\n",
       "    <tr style=\"text-align: right;\">\n",
       "      <th></th>\n",
       "      <th>user_id</th>\n",
       "      <th>age</th>\n",
       "    </tr>\n",
       "  </thead>\n",
       "  <tbody>\n",
       "    <tr>\n",
       "      <th>count</th>\n",
       "      <td>1565.000000</td>\n",
       "      <td>1565.000000</td>\n",
       "    </tr>\n",
       "    <tr>\n",
       "      <th>mean</th>\n",
       "      <td>762.633866</td>\n",
       "      <td>24.922045</td>\n",
       "    </tr>\n",
       "    <tr>\n",
       "      <th>std</th>\n",
       "      <td>443.260155</td>\n",
       "      <td>4.553496</td>\n",
       "    </tr>\n",
       "    <tr>\n",
       "      <th>min</th>\n",
       "      <td>1.000000</td>\n",
       "      <td>12.000000</td>\n",
       "    </tr>\n",
       "    <tr>\n",
       "      <th>25%</th>\n",
       "      <td>378.000000</td>\n",
       "      <td>22.000000</td>\n",
       "    </tr>\n",
       "    <tr>\n",
       "      <th>50%</th>\n",
       "      <td>762.000000</td>\n",
       "      <td>25.000000</td>\n",
       "    </tr>\n",
       "    <tr>\n",
       "      <th>75%</th>\n",
       "      <td>1146.000000</td>\n",
       "      <td>28.000000</td>\n",
       "    </tr>\n",
       "    <tr>\n",
       "      <th>max</th>\n",
       "      <td>1534.000000</td>\n",
       "      <td>43.000000</td>\n",
       "    </tr>\n",
       "  </tbody>\n",
       "</table>\n",
       "</div>"
      ],
      "text/plain": [
       "           user_id          age\n",
       "count  1565.000000  1565.000000\n",
       "mean    762.633866    24.922045\n",
       "std     443.260155     4.553496\n",
       "min       1.000000    12.000000\n",
       "25%     378.000000    22.000000\n",
       "50%     762.000000    25.000000\n",
       "75%    1146.000000    28.000000\n",
       "max    1534.000000    43.000000"
      ]
     },
     "metadata": {},
     "output_type": "display_data"
    },
    {
     "data": {
      "text/plain": [
       "user_id              0\n",
       "name                 0\n",
       "age                  0\n",
       "city                 0\n",
       "subscription_type    0\n",
       "dtype: int64"
      ]
     },
     "metadata": {},
     "output_type": "display_data"
    }
   ],
   "source": [
    "display(data_users.info())\n",
    "display(data_users.describe())\n",
    "display(data_users.isna().sum())"
   ]
  },
  {
   "cell_type": "markdown",
   "id": "dedfa357",
   "metadata": {},
   "source": [
    "В колонке user_id максимальное значение - 1534, а строк всего 1565 - значит есть дубликаты или ошибки - проверим.\n",
    "\n",
    "Возраст пользователей в выборке - от 12 до 43 лет, в среднем - 25 лет\n",
    "\n",
    "Тип данных соответствует необходимому в каждой колонке\n",
    "\n",
    "Пропуски и аномалии не обнаружены\n",
    "\n",
    "Всего строк - 1565"
   ]
  },
  {
   "cell_type": "markdown",
   "id": "dcae5e60",
   "metadata": {},
   "source": [
    "#### Посмотрим информацию по data_rides_go, проверим на соответствие хорошему стилю, типы данных, наличие пропусков и аномалий:"
   ]
  },
  {
   "cell_type": "code",
   "execution_count": 4,
   "id": "fc414011",
   "metadata": {},
   "outputs": [
    {
     "name": "stdout",
     "output_type": "stream",
     "text": [
      "<class 'pandas.core.frame.DataFrame'>\n",
      "RangeIndex: 18068 entries, 0 to 18067\n",
      "Data columns (total 4 columns):\n",
      " #   Column    Non-Null Count  Dtype  \n",
      "---  ------    --------------  -----  \n",
      " 0   user_id   18068 non-null  int64  \n",
      " 1   distance  18068 non-null  float64\n",
      " 2   duration  18068 non-null  float64\n",
      " 3   date      18068 non-null  object \n",
      "dtypes: float64(2), int64(1), object(1)\n",
      "memory usage: 564.8+ KB\n"
     ]
    },
    {
     "data": {
      "text/plain": [
       "None"
      ]
     },
     "metadata": {},
     "output_type": "display_data"
    },
    {
     "data": {
      "text/html": [
       "<div>\n",
       "<style scoped>\n",
       "    .dataframe tbody tr th:only-of-type {\n",
       "        vertical-align: middle;\n",
       "    }\n",
       "\n",
       "    .dataframe tbody tr th {\n",
       "        vertical-align: top;\n",
       "    }\n",
       "\n",
       "    .dataframe thead th {\n",
       "        text-align: right;\n",
       "    }\n",
       "</style>\n",
       "<table border=\"1\" class=\"dataframe\">\n",
       "  <thead>\n",
       "    <tr style=\"text-align: right;\">\n",
       "      <th></th>\n",
       "      <th>user_id</th>\n",
       "      <th>distance</th>\n",
       "      <th>duration</th>\n",
       "    </tr>\n",
       "  </thead>\n",
       "  <tbody>\n",
       "    <tr>\n",
       "      <th>count</th>\n",
       "      <td>18068.000000</td>\n",
       "      <td>18068.000000</td>\n",
       "      <td>18068.000000</td>\n",
       "    </tr>\n",
       "    <tr>\n",
       "      <th>mean</th>\n",
       "      <td>842.869936</td>\n",
       "      <td>3070.659976</td>\n",
       "      <td>17.805011</td>\n",
       "    </tr>\n",
       "    <tr>\n",
       "      <th>std</th>\n",
       "      <td>434.734317</td>\n",
       "      <td>1116.831209</td>\n",
       "      <td>6.091051</td>\n",
       "    </tr>\n",
       "    <tr>\n",
       "      <th>min</th>\n",
       "      <td>1.000000</td>\n",
       "      <td>0.855683</td>\n",
       "      <td>0.500000</td>\n",
       "    </tr>\n",
       "    <tr>\n",
       "      <th>25%</th>\n",
       "      <td>487.000000</td>\n",
       "      <td>2543.226360</td>\n",
       "      <td>13.597563</td>\n",
       "    </tr>\n",
       "    <tr>\n",
       "      <th>50%</th>\n",
       "      <td>889.000000</td>\n",
       "      <td>3133.609994</td>\n",
       "      <td>17.678395</td>\n",
       "    </tr>\n",
       "    <tr>\n",
       "      <th>75%</th>\n",
       "      <td>1213.250000</td>\n",
       "      <td>3776.222735</td>\n",
       "      <td>21.724800</td>\n",
       "    </tr>\n",
       "    <tr>\n",
       "      <th>max</th>\n",
       "      <td>1534.000000</td>\n",
       "      <td>7211.007745</td>\n",
       "      <td>40.823963</td>\n",
       "    </tr>\n",
       "  </tbody>\n",
       "</table>\n",
       "</div>"
      ],
      "text/plain": [
       "            user_id      distance      duration\n",
       "count  18068.000000  18068.000000  18068.000000\n",
       "mean     842.869936   3070.659976     17.805011\n",
       "std      434.734317   1116.831209      6.091051\n",
       "min        1.000000      0.855683      0.500000\n",
       "25%      487.000000   2543.226360     13.597563\n",
       "50%      889.000000   3133.609994     17.678395\n",
       "75%     1213.250000   3776.222735     21.724800\n",
       "max     1534.000000   7211.007745     40.823963"
      ]
     },
     "metadata": {},
     "output_type": "display_data"
    },
    {
     "data": {
      "text/plain": [
       "user_id     0\n",
       "distance    0\n",
       "duration    0\n",
       "date        0\n",
       "dtype: int64"
      ]
     },
     "metadata": {},
     "output_type": "display_data"
    }
   ],
   "source": [
    "display(data_rides_go.info())\n",
    "display(data_rides_go.describe())\n",
    "display(data_rides_go.isna().sum())"
   ]
  },
  {
   "cell_type": "markdown",
   "id": "fdc2905b",
   "metadata": {},
   "source": [
    "В колонке user_id - минимум 1 и максимум 1534 соответствует данным в таблице data_users - значит всего выборка составляет 1534 пользователя.\n",
    "\n",
    "Неправильный тип данных обнаружен в колонке date  - заменим на datetime\n",
    "\n",
    "В колонке distance - аномально низкое значение 0,85 метров- стоит проверить данные - возможно это техническая ошибка, или данные занесли ошибочно, возможно могли ошибиться с мерой длины - 85 сантиметров -  невозможная продолжительность поездки\n",
    "\n",
    "В колонке duration обнаружено аномально низкое значение -0.5 минуты - стоит проверить данные - возможно это техническая ошибка, или ошибка связана с попыткой использовать разряжающийся самокат, или ошибка в формировании данных - время указано в часах\n",
    "\n",
    "Пропуски не обнаружены\n",
    "\n",
    "Всего строк - 18068 "
   ]
  },
  {
   "cell_type": "markdown",
   "id": "48012653",
   "metadata": {},
   "source": [
    "#### Посмотрим информацию по data_subscriptions_go, проверим на соответствие хорошему стилю, типы данных, наличие пропусков и аномалий:"
   ]
  },
  {
   "cell_type": "code",
   "execution_count": 5,
   "id": "cfcb8102",
   "metadata": {},
   "outputs": [
    {
     "name": "stdout",
     "output_type": "stream",
     "text": [
      "<class 'pandas.core.frame.DataFrame'>\n",
      "RangeIndex: 2 entries, 0 to 1\n",
      "Data columns (total 4 columns):\n",
      " #   Column             Non-Null Count  Dtype \n",
      "---  ------             --------------  ----- \n",
      " 0   subscription_type  2 non-null      object\n",
      " 1   minute_price       2 non-null      int64 \n",
      " 2   start_ride_price   2 non-null      int64 \n",
      " 3   subscription_fee   2 non-null      int64 \n",
      "dtypes: int64(3), object(1)\n",
      "memory usage: 192.0+ bytes\n"
     ]
    },
    {
     "data": {
      "text/plain": [
       "None"
      ]
     },
     "metadata": {},
     "output_type": "display_data"
    }
   ],
   "source": [
    "display(data_subscriptions_go.info())"
   ]
  },
  {
   "cell_type": "markdown",
   "id": "9deaff6f",
   "metadata": {},
   "source": [
    "Тип данных соответствует необходимому в каждой колонке, пропусков, аномалий не обнаружено.\n",
    "\n",
    "Количество строк - 2, с данными о тарифах на поездку с подпиской и без."
   ]
  },
  {
   "cell_type": "markdown",
   "id": "2bff24bb",
   "metadata": {},
   "source": [
    "#### Вывод: \n",
    "Всего 3 таблицы с данными по 1534 пользователям. В таблице data_users указана информация о пользователях по категориям - город, возраст, тип подписки. В таблице data_rides_go  информация о пользователях по каждой поездке - расстоянию, продолжительности, дате - всего 18068 поездок. Также здесь обнаружены аномалии - проверим, и если целесообразно - исправим, и неправильный тип данных - исправим.\n",
    "В таблице data_subscriptions_go  информация о тарифах на поездки - два варианта: с подпиской и без.\n",
    "Пропуски в данных не обнаружены.\n",
    "Требуется проверка на дубликаты в таблицах data_users и data_rides_go.\n",
    "\n",
    "\n"
   ]
  },
  {
   "cell_type": "markdown",
   "id": "9ac9d5c0",
   "metadata": {},
   "source": [
    "### Предобработка данных"
   ]
  },
  {
   "cell_type": "markdown",
   "id": "1863865c",
   "metadata": {},
   "source": [
    "#### Проверка на дубликаты - таблица data_users\n"
   ]
  },
  {
   "cell_type": "code",
   "execution_count": 6,
   "id": "55d862ef",
   "metadata": {},
   "outputs": [
    {
     "name": "stdout",
     "output_type": "stream",
     "text": [
      "Обнаружены дубликаты:  31\n"
     ]
    },
    {
     "data": {
      "text/plain": [
       "user_id  name        age  city            subscription_type\n",
       "209      Андрей      23   Омск            ultra                2\n",
       "807      Александр   28   Екатеринбург    free                 2\n",
       "611      Владимир    28   Омск            ultra                2\n",
       "43       Стефания    22   Омск            ultra                2\n",
       "737      Мелания     27   Ростов-на-Дону  free                 2\n",
       "47       Юрий        28   Тюмень          ultra                2\n",
       "1198     Демид       29   Ростов-на-Дону  free                 2\n",
       "829      Федор       29   Пятигорск       free                 2\n",
       "924      Мария       23   Пятигорск       free                 2\n",
       "153      Герман      23   Москва          ultra                2\n",
       "635      Герман      21   Москва          ultra                2\n",
       "72       Никита      25   Москва          ultra                2\n",
       "909      Константин  20   Екатеринбург    free                 2\n",
       "908      Рустам      30   Тюмень          free                 2\n",
       "136      Марсель     25   Тюмень          ultra                2\n",
       "1045     Артемий     28   Ростов-на-Дону  free                 2\n",
       "1237     Евгения     23   Тюмень          free                 2\n",
       "127      Павел       25   Пятигорск       ultra                2\n",
       "659      Злата       27   Ростов-на-Дону  ultra                2\n",
       "307      Ясмина      19   Краснодар       ultra                2\n",
       "1245     Регина      27   Пятигорск       free                 2\n",
       "121      Алина       25   Пятигорск       ultra                2\n",
       "666      Зарина      29   Москва          ultra                2\n",
       "108      Влада       29   Тюмень          ultra                2\n",
       "297      Егор        33   Пятигорск       ultra                2\n",
       "809      Юрий        26   Сочи            free                 2\n",
       "293      Агата       26   Краснодар       ultra                2\n",
       "16       Амалия      27   Краснодар       ultra                2\n",
       "422      Кирилл      27   Сочи            ultra                2\n",
       "403      Полина      19   Сочи            ultra                2\n",
       "204      Руслан      30   Пятигорск       ultra                2\n",
       "1035     Ярослава    25   Сочи            free                 1\n",
       "1041     Рустам      21   Краснодар       free                 1\n",
       "1040     Валентина   25   Екатеринбург    free                 1\n",
       "1039     Василиса    25   Пятигорск       free                 1\n",
       "dtype: int64"
      ]
     },
     "execution_count": 6,
     "metadata": {},
     "output_type": "execute_result"
    }
   ],
   "source": [
    "print('Обнаружены дубликаты: ', data_users.duplicated().sum())\n",
    "data_users.value_counts().head(35)"
   ]
  },
  {
   "cell_type": "markdown",
   "id": "2f3fe793",
   "metadata": {},
   "source": [
    "Дубликатов 31 шт - удалим и проверим итог - должно остаться 1534 строки:"
   ]
  },
  {
   "cell_type": "code",
   "execution_count": 7,
   "id": "4fda518e",
   "metadata": {
    "scrolled": true
   },
   "outputs": [
    {
     "name": "stdout",
     "output_type": "stream",
     "text": [
      "0\n",
      "<class 'pandas.core.frame.DataFrame'>\n",
      "Int64Index: 1534 entries, 0 to 1533\n",
      "Data columns (total 5 columns):\n",
      " #   Column             Non-Null Count  Dtype \n",
      "---  ------             --------------  ----- \n",
      " 0   user_id            1534 non-null   int64 \n",
      " 1   name               1534 non-null   object\n",
      " 2   age                1534 non-null   int64 \n",
      " 3   city               1534 non-null   object\n",
      " 4   subscription_type  1534 non-null   object\n",
      "dtypes: int64(2), object(3)\n",
      "memory usage: 71.9+ KB\n"
     ]
    }
   ],
   "source": [
    "data_users = data_users.drop_duplicates(keep='first')\n",
    "print(data_users.duplicated().sum())\n",
    "data_users.info()"
   ]
  },
  {
   "cell_type": "markdown",
   "id": "9724dc92",
   "metadata": {},
   "source": [
    "#### Проверка на дубликаты - таблица data_rides_go"
   ]
  },
  {
   "cell_type": "code",
   "execution_count": 8,
   "id": "d0198c53",
   "metadata": {},
   "outputs": [
    {
     "name": "stdout",
     "output_type": "stream",
     "text": [
      "Обнаружены дубликаты:  0\n"
     ]
    }
   ],
   "source": [
    "print('Обнаружены дубликаты: ', data_rides_go.duplicated().sum())"
   ]
  },
  {
   "cell_type": "markdown",
   "id": "4cffa4dd",
   "metadata": {},
   "source": [
    "Дубликаты не обнаружены."
   ]
  },
  {
   "cell_type": "markdown",
   "id": "6dba2949",
   "metadata": {},
   "source": [
    "#### Колонка date - заменим тип данных на datetime"
   ]
  },
  {
   "cell_type": "code",
   "execution_count": 9,
   "id": "9aa7f0c4",
   "metadata": {
    "scrolled": true
   },
   "outputs": [
    {
     "data": {
      "text/plain": [
       "0   2021-01-01\n",
       "1   2021-01-18\n",
       "2   2021-04-20\n",
       "3   2021-08-11\n",
       "4   2021-08-28\n",
       "Name: date, dtype: datetime64[ns]"
      ]
     },
     "metadata": {},
     "output_type": "display_data"
    },
    {
     "name": "stdout",
     "output_type": "stream",
     "text": [
      "<class 'pandas.core.frame.DataFrame'>\n",
      "RangeIndex: 18068 entries, 0 to 18067\n",
      "Data columns (total 4 columns):\n",
      " #   Column    Non-Null Count  Dtype         \n",
      "---  ------    --------------  -----         \n",
      " 0   user_id   18068 non-null  int64         \n",
      " 1   distance  18068 non-null  float64       \n",
      " 2   duration  18068 non-null  float64       \n",
      " 3   date      18068 non-null  datetime64[ns]\n",
      "dtypes: datetime64[ns](1), float64(2), int64(1)\n",
      "memory usage: 564.8 KB\n"
     ]
    }
   ],
   "source": [
    "data_rides_go['date'] = pd.to_datetime(data_rides_go['date'], format='%Y-%m-%d')\n",
    "display(data_rides_go['date'].head())\n",
    "data_rides_go.info()"
   ]
  },
  {
   "cell_type": "markdown",
   "id": "4de2ee50",
   "metadata": {},
   "source": [
    "#### Создадим новый столбец с номером месяца на основе столбца date"
   ]
  },
  {
   "cell_type": "code",
   "execution_count": 10,
   "id": "79fbeb85",
   "metadata": {
    "scrolled": true
   },
   "outputs": [
    {
     "data": {
      "text/html": [
       "<div>\n",
       "<style scoped>\n",
       "    .dataframe tbody tr th:only-of-type {\n",
       "        vertical-align: middle;\n",
       "    }\n",
       "\n",
       "    .dataframe tbody tr th {\n",
       "        vertical-align: top;\n",
       "    }\n",
       "\n",
       "    .dataframe thead th {\n",
       "        text-align: right;\n",
       "    }\n",
       "</style>\n",
       "<table border=\"1\" class=\"dataframe\">\n",
       "  <thead>\n",
       "    <tr style=\"text-align: right;\">\n",
       "      <th></th>\n",
       "      <th>user_id</th>\n",
       "      <th>distance</th>\n",
       "      <th>duration</th>\n",
       "      <th>date</th>\n",
       "      <th>month</th>\n",
       "    </tr>\n",
       "  </thead>\n",
       "  <tbody>\n",
       "    <tr>\n",
       "      <th>0</th>\n",
       "      <td>1</td>\n",
       "      <td>4409.919140</td>\n",
       "      <td>25.599769</td>\n",
       "      <td>2021-01-01</td>\n",
       "      <td>1</td>\n",
       "    </tr>\n",
       "    <tr>\n",
       "      <th>13113</th>\n",
       "      <td>1184</td>\n",
       "      <td>5322.175064</td>\n",
       "      <td>25.206214</td>\n",
       "      <td>2021-01-01</td>\n",
       "      <td>1</td>\n",
       "    </tr>\n",
       "    <tr>\n",
       "      <th>5445</th>\n",
       "      <td>582</td>\n",
       "      <td>2842.009269</td>\n",
       "      <td>22.180040</td>\n",
       "      <td>2021-01-01</td>\n",
       "      <td>1</td>\n",
       "    </tr>\n",
       "    <tr>\n",
       "      <th>12775</th>\n",
       "      <td>1159</td>\n",
       "      <td>3098.412934</td>\n",
       "      <td>18.300367</td>\n",
       "      <td>2021-01-01</td>\n",
       "      <td>1</td>\n",
       "    </tr>\n",
       "    <tr>\n",
       "      <th>17096</th>\n",
       "      <td>1467</td>\n",
       "      <td>1875.822964</td>\n",
       "      <td>16.039241</td>\n",
       "      <td>2021-01-01</td>\n",
       "      <td>1</td>\n",
       "    </tr>\n",
       "  </tbody>\n",
       "</table>\n",
       "</div>"
      ],
      "text/plain": [
       "       user_id     distance   duration       date  month\n",
       "0            1  4409.919140  25.599769 2021-01-01      1\n",
       "13113     1184  5322.175064  25.206214 2021-01-01      1\n",
       "5445       582  2842.009269  22.180040 2021-01-01      1\n",
       "12775     1159  3098.412934  18.300367 2021-01-01      1\n",
       "17096     1467  1875.822964  16.039241 2021-01-01      1"
      ]
     },
     "metadata": {},
     "output_type": "display_data"
    },
    {
     "data": {
      "text/html": [
       "<div>\n",
       "<style scoped>\n",
       "    .dataframe tbody tr th:only-of-type {\n",
       "        vertical-align: middle;\n",
       "    }\n",
       "\n",
       "    .dataframe tbody tr th {\n",
       "        vertical-align: top;\n",
       "    }\n",
       "\n",
       "    .dataframe thead th {\n",
       "        text-align: right;\n",
       "    }\n",
       "</style>\n",
       "<table border=\"1\" class=\"dataframe\">\n",
       "  <thead>\n",
       "    <tr style=\"text-align: right;\">\n",
       "      <th></th>\n",
       "      <th>user_id</th>\n",
       "      <th>distance</th>\n",
       "      <th>duration</th>\n",
       "      <th>date</th>\n",
       "      <th>month</th>\n",
       "    </tr>\n",
       "  </thead>\n",
       "  <tbody>\n",
       "    <tr>\n",
       "      <th>2576</th>\n",
       "      <td>272</td>\n",
       "      <td>4141.347535</td>\n",
       "      <td>28.706738</td>\n",
       "      <td>2021-12-30</td>\n",
       "      <td>12</td>\n",
       "    </tr>\n",
       "    <tr>\n",
       "      <th>3278</th>\n",
       "      <td>353</td>\n",
       "      <td>1133.292906</td>\n",
       "      <td>15.230583</td>\n",
       "      <td>2021-12-30</td>\n",
       "      <td>12</td>\n",
       "    </tr>\n",
       "    <tr>\n",
       "      <th>11752</th>\n",
       "      <td>1083</td>\n",
       "      <td>2952.365209</td>\n",
       "      <td>19.626301</td>\n",
       "      <td>2021-12-30</td>\n",
       "      <td>12</td>\n",
       "    </tr>\n",
       "    <tr>\n",
       "      <th>15704</th>\n",
       "      <td>1369</td>\n",
       "      <td>2879.604810</td>\n",
       "      <td>18.911052</td>\n",
       "      <td>2021-12-30</td>\n",
       "      <td>12</td>\n",
       "    </tr>\n",
       "    <tr>\n",
       "      <th>14115</th>\n",
       "      <td>1252</td>\n",
       "      <td>325.677862</td>\n",
       "      <td>9.302711</td>\n",
       "      <td>2021-12-30</td>\n",
       "      <td>12</td>\n",
       "    </tr>\n",
       "  </tbody>\n",
       "</table>\n",
       "</div>"
      ],
      "text/plain": [
       "       user_id     distance   duration       date  month\n",
       "2576       272  4141.347535  28.706738 2021-12-30     12\n",
       "3278       353  1133.292906  15.230583 2021-12-30     12\n",
       "11752     1083  2952.365209  19.626301 2021-12-30     12\n",
       "15704     1369  2879.604810  18.911052 2021-12-30     12\n",
       "14115     1252   325.677862   9.302711 2021-12-30     12"
      ]
     },
     "metadata": {},
     "output_type": "display_data"
    },
    {
     "data": {
      "text/html": [
       "<div>\n",
       "<style scoped>\n",
       "    .dataframe tbody tr th:only-of-type {\n",
       "        vertical-align: middle;\n",
       "    }\n",
       "\n",
       "    .dataframe tbody tr th {\n",
       "        vertical-align: top;\n",
       "    }\n",
       "\n",
       "    .dataframe thead th {\n",
       "        text-align: right;\n",
       "    }\n",
       "</style>\n",
       "<table border=\"1\" class=\"dataframe\">\n",
       "  <thead>\n",
       "    <tr style=\"text-align: right;\">\n",
       "      <th></th>\n",
       "      <th>user_id</th>\n",
       "      <th>distance</th>\n",
       "      <th>duration</th>\n",
       "      <th>date</th>\n",
       "      <th>month</th>\n",
       "    </tr>\n",
       "  </thead>\n",
       "  <tbody>\n",
       "    <tr>\n",
       "      <th>0</th>\n",
       "      <td>1</td>\n",
       "      <td>4409.919140</td>\n",
       "      <td>25.599769</td>\n",
       "      <td>2021-01-01</td>\n",
       "      <td>1</td>\n",
       "    </tr>\n",
       "    <tr>\n",
       "      <th>1</th>\n",
       "      <td>1</td>\n",
       "      <td>2617.592153</td>\n",
       "      <td>15.816871</td>\n",
       "      <td>2021-01-18</td>\n",
       "      <td>1</td>\n",
       "    </tr>\n",
       "    <tr>\n",
       "      <th>2</th>\n",
       "      <td>1</td>\n",
       "      <td>754.159807</td>\n",
       "      <td>6.232113</td>\n",
       "      <td>2021-04-20</td>\n",
       "      <td>4</td>\n",
       "    </tr>\n",
       "    <tr>\n",
       "      <th>3</th>\n",
       "      <td>1</td>\n",
       "      <td>2694.783254</td>\n",
       "      <td>18.511000</td>\n",
       "      <td>2021-08-11</td>\n",
       "      <td>8</td>\n",
       "    </tr>\n",
       "    <tr>\n",
       "      <th>4</th>\n",
       "      <td>1</td>\n",
       "      <td>4028.687306</td>\n",
       "      <td>26.265803</td>\n",
       "      <td>2021-08-28</td>\n",
       "      <td>8</td>\n",
       "    </tr>\n",
       "  </tbody>\n",
       "</table>\n",
       "</div>"
      ],
      "text/plain": [
       "   user_id     distance   duration       date  month\n",
       "0        1  4409.919140  25.599769 2021-01-01      1\n",
       "1        1  2617.592153  15.816871 2021-01-18      1\n",
       "2        1   754.159807   6.232113 2021-04-20      4\n",
       "3        1  2694.783254  18.511000 2021-08-11      8\n",
       "4        1  4028.687306  26.265803 2021-08-28      8"
      ]
     },
     "execution_count": 10,
     "metadata": {},
     "output_type": "execute_result"
    }
   ],
   "source": [
    "data_rides_go['month'] = data_rides_go['date'].dt.month\n",
    "display(data_rides_go.sort_values('date').head())\n",
    "display(data_rides_go.sort_values('date', ascending=False).head())\n",
    "\n",
    "data_rides_go.head()"
   ]
  },
  {
   "cell_type": "markdown",
   "id": "ba370be3",
   "metadata": {},
   "source": [
    "Данные представлены за период с 1.01.2021 - 30.12.2021"
   ]
  },
  {
   "cell_type": "markdown",
   "id": "a2d9d64f",
   "metadata": {},
   "source": [
    "#### Проверим аномальные значения в колонках distance и duration\n",
    "\n",
    "Рассмотрим их в совокупности: время затраченное на поездку должно быть адекватно. Особенно нас интересует продолжительность поездки менее 1 минуты. Проверим значения на графиках."
   ]
  },
  {
   "cell_type": "code",
   "execution_count": 11,
   "id": "1490fd60",
   "metadata": {
    "scrolled": true
   },
   "outputs": [
    {
     "data": {
      "text/html": [
       "<div>\n",
       "<style scoped>\n",
       "    .dataframe tbody tr th:only-of-type {\n",
       "        vertical-align: middle;\n",
       "    }\n",
       "\n",
       "    .dataframe tbody tr th {\n",
       "        vertical-align: top;\n",
       "    }\n",
       "\n",
       "    .dataframe thead th {\n",
       "        text-align: right;\n",
       "    }\n",
       "</style>\n",
       "<table border=\"1\" class=\"dataframe\">\n",
       "  <thead>\n",
       "    <tr style=\"text-align: right;\">\n",
       "      <th></th>\n",
       "      <th>user_id</th>\n",
       "      <th>distance</th>\n",
       "      <th>duration</th>\n",
       "      <th>date</th>\n",
       "      <th>month</th>\n",
       "    </tr>\n",
       "  </thead>\n",
       "  <tbody>\n",
       "    <tr>\n",
       "      <th>11555</th>\n",
       "      <td>1069</td>\n",
       "      <td>0.855683</td>\n",
       "      <td>10.001902</td>\n",
       "      <td>2021-01-31</td>\n",
       "      <td>1</td>\n",
       "    </tr>\n",
       "    <tr>\n",
       "      <th>9541</th>\n",
       "      <td>925</td>\n",
       "      <td>2.570787</td>\n",
       "      <td>3.011018</td>\n",
       "      <td>2021-10-19</td>\n",
       "      <td>10</td>\n",
       "    </tr>\n",
       "    <tr>\n",
       "      <th>13690</th>\n",
       "      <td>1223</td>\n",
       "      <td>4.329506</td>\n",
       "      <td>4.008958</td>\n",
       "      <td>2021-05-22</td>\n",
       "      <td>5</td>\n",
       "    </tr>\n",
       "    <tr>\n",
       "      <th>8658</th>\n",
       "      <td>861</td>\n",
       "      <td>6.784447</td>\n",
       "      <td>6.015656</td>\n",
       "      <td>2021-07-21</td>\n",
       "      <td>7</td>\n",
       "    </tr>\n",
       "    <tr>\n",
       "      <th>7841</th>\n",
       "      <td>796</td>\n",
       "      <td>7.097072</td>\n",
       "      <td>10.026614</td>\n",
       "      <td>2021-11-26</td>\n",
       "      <td>11</td>\n",
       "    </tr>\n",
       "    <tr>\n",
       "      <th>8906</th>\n",
       "      <td>880</td>\n",
       "      <td>11.283615</td>\n",
       "      <td>2.035632</td>\n",
       "      <td>2021-03-28</td>\n",
       "      <td>3</td>\n",
       "    </tr>\n",
       "    <tr>\n",
       "      <th>8324</th>\n",
       "      <td>835</td>\n",
       "      <td>12.233115</td>\n",
       "      <td>4.034952</td>\n",
       "      <td>2021-09-19</td>\n",
       "      <td>9</td>\n",
       "    </tr>\n",
       "    <tr>\n",
       "      <th>13940</th>\n",
       "      <td>1240</td>\n",
       "      <td>15.000606</td>\n",
       "      <td>10.045002</td>\n",
       "      <td>2021-08-20</td>\n",
       "      <td>8</td>\n",
       "    </tr>\n",
       "    <tr>\n",
       "      <th>15626</th>\n",
       "      <td>1364</td>\n",
       "      <td>15.366168</td>\n",
       "      <td>6.057623</td>\n",
       "      <td>2021-08-22</td>\n",
       "      <td>8</td>\n",
       "    </tr>\n",
       "    <tr>\n",
       "      <th>11862</th>\n",
       "      <td>1091</td>\n",
       "      <td>15.630873</td>\n",
       "      <td>13.044660</td>\n",
       "      <td>2021-03-29</td>\n",
       "      <td>3</td>\n",
       "    </tr>\n",
       "    <tr>\n",
       "      <th>17414</th>\n",
       "      <td>1489</td>\n",
       "      <td>22.314412</td>\n",
       "      <td>6.074381</td>\n",
       "      <td>2021-10-06</td>\n",
       "      <td>10</td>\n",
       "    </tr>\n",
       "    <tr>\n",
       "      <th>15104</th>\n",
       "      <td>1323</td>\n",
       "      <td>22.393227</td>\n",
       "      <td>7.061072</td>\n",
       "      <td>2021-10-25</td>\n",
       "      <td>10</td>\n",
       "    </tr>\n",
       "    <tr>\n",
       "      <th>6691</th>\n",
       "      <td>712</td>\n",
       "      <td>23.963062</td>\n",
       "      <td>2.053251</td>\n",
       "      <td>2021-11-22</td>\n",
       "      <td>11</td>\n",
       "    </tr>\n",
       "    <tr>\n",
       "      <th>9784</th>\n",
       "      <td>943</td>\n",
       "      <td>26.784378</td>\n",
       "      <td>5.053569</td>\n",
       "      <td>2021-12-29</td>\n",
       "      <td>12</td>\n",
       "    </tr>\n",
       "    <tr>\n",
       "      <th>17173</th>\n",
       "      <td>1471</td>\n",
       "      <td>27.965145</td>\n",
       "      <td>3.093217</td>\n",
       "      <td>2021-10-06</td>\n",
       "      <td>10</td>\n",
       "    </tr>\n",
       "    <tr>\n",
       "      <th>6611</th>\n",
       "      <td>707</td>\n",
       "      <td>28.793204</td>\n",
       "      <td>14.143966</td>\n",
       "      <td>2021-09-12</td>\n",
       "      <td>9</td>\n",
       "    </tr>\n",
       "    <tr>\n",
       "      <th>6850</th>\n",
       "      <td>724</td>\n",
       "      <td>30.473763</td>\n",
       "      <td>3.166221</td>\n",
       "      <td>2021-05-09</td>\n",
       "      <td>5</td>\n",
       "    </tr>\n",
       "    <tr>\n",
       "      <th>14676</th>\n",
       "      <td>1293</td>\n",
       "      <td>30.586955</td>\n",
       "      <td>9.096590</td>\n",
       "      <td>2021-01-14</td>\n",
       "      <td>1</td>\n",
       "    </tr>\n",
       "    <tr>\n",
       "      <th>15870</th>\n",
       "      <td>1381</td>\n",
       "      <td>31.391295</td>\n",
       "      <td>14.099130</td>\n",
       "      <td>2021-06-29</td>\n",
       "      <td>6</td>\n",
       "    </tr>\n",
       "    <tr>\n",
       "      <th>9128</th>\n",
       "      <td>896</td>\n",
       "      <td>31.803410</td>\n",
       "      <td>8.079509</td>\n",
       "      <td>2021-03-16</td>\n",
       "      <td>3</td>\n",
       "    </tr>\n",
       "  </tbody>\n",
       "</table>\n",
       "</div>"
      ],
      "text/plain": [
       "       user_id   distance   duration       date  month\n",
       "11555     1069   0.855683  10.001902 2021-01-31      1\n",
       "9541       925   2.570787   3.011018 2021-10-19     10\n",
       "13690     1223   4.329506   4.008958 2021-05-22      5\n",
       "8658       861   6.784447   6.015656 2021-07-21      7\n",
       "7841       796   7.097072  10.026614 2021-11-26     11\n",
       "8906       880  11.283615   2.035632 2021-03-28      3\n",
       "8324       835  12.233115   4.034952 2021-09-19      9\n",
       "13940     1240  15.000606  10.045002 2021-08-20      8\n",
       "15626     1364  15.366168   6.057623 2021-08-22      8\n",
       "11862     1091  15.630873  13.044660 2021-03-29      3\n",
       "17414     1489  22.314412   6.074381 2021-10-06     10\n",
       "15104     1323  22.393227   7.061072 2021-10-25     10\n",
       "6691       712  23.963062   2.053251 2021-11-22     11\n",
       "9784       943  26.784378   5.053569 2021-12-29     12\n",
       "17173     1471  27.965145   3.093217 2021-10-06     10\n",
       "6611       707  28.793204  14.143966 2021-09-12      9\n",
       "6850       724  30.473763   3.166221 2021-05-09      5\n",
       "14676     1293  30.586955   9.096590 2021-01-14      1\n",
       "15870     1381  31.391295  14.099130 2021-06-29      6\n",
       "9128       896  31.803410   8.079509 2021-03-16      3"
      ]
     },
     "metadata": {},
     "output_type": "display_data"
    },
    {
     "data": {
      "image/png": "[encoded data removed]",
      "text/plain": [
       "<Figure size 864x360 with 1 Axes>"
      ]
     },
     "metadata": {
      "needs_background": "light"
     },
     "output_type": "display_data"
    },
    {
     "data": {
      "image/png": "[encoded data removed]",
      "text/plain": [
       "<Figure size 864x360 with 1 Axes>"
      ]
     },
     "metadata": {
      "needs_background": "light"
     },
     "output_type": "display_data"
    },
    {
     "data": {
      "image/png": "[encoded data removed]",
      "text/plain": [
       "<Figure size 864x360 with 1 Axes>"
      ]
     },
     "metadata": {
      "needs_background": "light"
     },
     "output_type": "display_data"
    }
   ],
   "source": [
    "display(data_rides_go.sort_values('distance', ascending=True).head(20))\n",
    "data_rides_go['distance'].hist(bins=70, edgecolor='black', figsize=(12,5))\n",
    "plt.xlabel('Дистация поездки в метрах')\n",
    "plt.show()\n",
    "data_rides_go['duration'].hist(bins=70, edgecolor='black', figsize=(12,5))\n",
    "plt.xlabel('Продолжительность поездки в минутах')\n",
    "plt.show()\n",
    "data_rides_go['duration'].hist(bins=10, edgecolor='black', range=(0, 5), figsize=(12,5))\n",
    "plt.xlabel('Продолжительность поездки в минутах')\n",
    "plt.show()"
   ]
  },
  {
   "cell_type": "markdown",
   "id": "98d9743e",
   "metadata": {},
   "source": [
    "Аномалия 0.85м всего одна, причем время использования 10 минут, можем удалить чтобы не сбивать показания средних значений. Возможно это ошибка данных и дистанция - 850 метров, или пользователь передумал ехать/не смог воспользоваться самокатом/ самокат был не исправен/зависло приложение.\n",
    "Также видим четкую аномалию в значении 0.5 минуты, таких поездок более 80 шт. рассмотрим подробнее, сравним с дистанцией:"
   ]
  },
  {
   "cell_type": "code",
   "execution_count": 12,
   "id": "e365de43",
   "metadata": {
    "scrolled": false
   },
   "outputs": [
    {
     "data": {
      "text/html": [
       "<div>\n",
       "<style scoped>\n",
       "    .dataframe tbody tr th:only-of-type {\n",
       "        vertical-align: middle;\n",
       "    }\n",
       "\n",
       "    .dataframe tbody tr th {\n",
       "        vertical-align: top;\n",
       "    }\n",
       "\n",
       "    .dataframe thead th {\n",
       "        text-align: right;\n",
       "    }\n",
       "</style>\n",
       "<table border=\"1\" class=\"dataframe\">\n",
       "  <thead>\n",
       "    <tr style=\"text-align: right;\">\n",
       "      <th></th>\n",
       "      <th>user_id</th>\n",
       "      <th>distance</th>\n",
       "      <th>duration</th>\n",
       "      <th>date</th>\n",
       "      <th>month</th>\n",
       "    </tr>\n",
       "  </thead>\n",
       "  <tbody>\n",
       "    <tr>\n",
       "      <th>16309</th>\n",
       "      <td>1411</td>\n",
       "      <td>7211.007745</td>\n",
       "      <td>0.500000</td>\n",
       "      <td>2021-04-15</td>\n",
       "      <td>4</td>\n",
       "    </tr>\n",
       "    <tr>\n",
       "      <th>16484</th>\n",
       "      <td>1422</td>\n",
       "      <td>7066.003772</td>\n",
       "      <td>23.619318</td>\n",
       "      <td>2021-02-12</td>\n",
       "      <td>2</td>\n",
       "    </tr>\n",
       "    <tr>\n",
       "      <th>15580</th>\n",
       "      <td>1361</td>\n",
       "      <td>6908.491343</td>\n",
       "      <td>23.816983</td>\n",
       "      <td>2021-03-27</td>\n",
       "      <td>3</td>\n",
       "    </tr>\n",
       "    <tr>\n",
       "      <th>17171</th>\n",
       "      <td>1471</td>\n",
       "      <td>6760.940067</td>\n",
       "      <td>32.043760</td>\n",
       "      <td>2021-08-03</td>\n",
       "      <td>8</td>\n",
       "    </tr>\n",
       "    <tr>\n",
       "      <th>17242</th>\n",
       "      <td>1477</td>\n",
       "      <td>6724.932981</td>\n",
       "      <td>0.500000</td>\n",
       "      <td>2021-01-12</td>\n",
       "      <td>1</td>\n",
       "    </tr>\n",
       "    <tr>\n",
       "      <th>10341</th>\n",
       "      <td>981</td>\n",
       "      <td>6671.969833</td>\n",
       "      <td>27.297078</td>\n",
       "      <td>2021-12-06</td>\n",
       "      <td>12</td>\n",
       "    </tr>\n",
       "    <tr>\n",
       "      <th>11385</th>\n",
       "      <td>1057</td>\n",
       "      <td>6601.197575</td>\n",
       "      <td>0.500000</td>\n",
       "      <td>2021-02-07</td>\n",
       "      <td>2</td>\n",
       "    </tr>\n",
       "    <tr>\n",
       "      <th>12086</th>\n",
       "      <td>1108</td>\n",
       "      <td>6538.937375</td>\n",
       "      <td>29.649276</td>\n",
       "      <td>2021-09-27</td>\n",
       "      <td>9</td>\n",
       "    </tr>\n",
       "    <tr>\n",
       "      <th>10915</th>\n",
       "      <td>1022</td>\n",
       "      <td>6535.386520</td>\n",
       "      <td>30.008799</td>\n",
       "      <td>2021-10-14</td>\n",
       "      <td>10</td>\n",
       "    </tr>\n",
       "    <tr>\n",
       "      <th>11319</th>\n",
       "      <td>1052</td>\n",
       "      <td>6503.600402</td>\n",
       "      <td>26.008309</td>\n",
       "      <td>2021-07-01</td>\n",
       "      <td>7</td>\n",
       "    </tr>\n",
       "    <tr>\n",
       "      <th>11189</th>\n",
       "      <td>1043</td>\n",
       "      <td>6456.423906</td>\n",
       "      <td>26.521413</td>\n",
       "      <td>2021-02-22</td>\n",
       "      <td>2</td>\n",
       "    </tr>\n",
       "    <tr>\n",
       "      <th>8527</th>\n",
       "      <td>850</td>\n",
       "      <td>6436.625605</td>\n",
       "      <td>34.746502</td>\n",
       "      <td>2021-12-27</td>\n",
       "      <td>12</td>\n",
       "    </tr>\n",
       "    <tr>\n",
       "      <th>7913</th>\n",
       "      <td>803</td>\n",
       "      <td>6427.053056</td>\n",
       "      <td>16.854106</td>\n",
       "      <td>2021-01-05</td>\n",
       "      <td>1</td>\n",
       "    </tr>\n",
       "    <tr>\n",
       "      <th>13701</th>\n",
       "      <td>1224</td>\n",
       "      <td>6414.516026</td>\n",
       "      <td>0.500000</td>\n",
       "      <td>2021-07-15</td>\n",
       "      <td>7</td>\n",
       "    </tr>\n",
       "    <tr>\n",
       "      <th>7635</th>\n",
       "      <td>782</td>\n",
       "      <td>6395.396068</td>\n",
       "      <td>28.982735</td>\n",
       "      <td>2021-02-22</td>\n",
       "      <td>2</td>\n",
       "    </tr>\n",
       "    <tr>\n",
       "      <th>7043</th>\n",
       "      <td>737</td>\n",
       "      <td>6386.938020</td>\n",
       "      <td>25.967345</td>\n",
       "      <td>2021-07-31</td>\n",
       "      <td>7</td>\n",
       "    </tr>\n",
       "    <tr>\n",
       "      <th>10663</th>\n",
       "      <td>1004</td>\n",
       "      <td>6383.036257</td>\n",
       "      <td>27.149109</td>\n",
       "      <td>2021-07-13</td>\n",
       "      <td>7</td>\n",
       "    </tr>\n",
       "    <tr>\n",
       "      <th>14574</th>\n",
       "      <td>1285</td>\n",
       "      <td>6316.574814</td>\n",
       "      <td>0.500000</td>\n",
       "      <td>2021-09-25</td>\n",
       "      <td>9</td>\n",
       "    </tr>\n",
       "    <tr>\n",
       "      <th>16278</th>\n",
       "      <td>1409</td>\n",
       "      <td>6306.531557</td>\n",
       "      <td>24.199632</td>\n",
       "      <td>2021-02-19</td>\n",
       "      <td>2</td>\n",
       "    </tr>\n",
       "    <tr>\n",
       "      <th>7830</th>\n",
       "      <td>795</td>\n",
       "      <td>6262.302747</td>\n",
       "      <td>0.500000</td>\n",
       "      <td>2021-09-09</td>\n",
       "      <td>9</td>\n",
       "    </tr>\n",
       "  </tbody>\n",
       "</table>\n",
       "</div>"
      ],
      "text/plain": [
       "       user_id     distance   duration       date  month\n",
       "16309     1411  7211.007745   0.500000 2021-04-15      4\n",
       "16484     1422  7066.003772  23.619318 2021-02-12      2\n",
       "15580     1361  6908.491343  23.816983 2021-03-27      3\n",
       "17171     1471  6760.940067  32.043760 2021-08-03      8\n",
       "17242     1477  6724.932981   0.500000 2021-01-12      1\n",
       "10341      981  6671.969833  27.297078 2021-12-06     12\n",
       "11385     1057  6601.197575   0.500000 2021-02-07      2\n",
       "12086     1108  6538.937375  29.649276 2021-09-27      9\n",
       "10915     1022  6535.386520  30.008799 2021-10-14     10\n",
       "11319     1052  6503.600402  26.008309 2021-07-01      7\n",
       "11189     1043  6456.423906  26.521413 2021-02-22      2\n",
       "8527       850  6436.625605  34.746502 2021-12-27     12\n",
       "7913       803  6427.053056  16.854106 2021-01-05      1\n",
       "13701     1224  6414.516026   0.500000 2021-07-15      7\n",
       "7635       782  6395.396068  28.982735 2021-02-22      2\n",
       "7043       737  6386.938020  25.967345 2021-07-31      7\n",
       "10663     1004  6383.036257  27.149109 2021-07-13      7\n",
       "14574     1285  6316.574814   0.500000 2021-09-25      9\n",
       "16278     1409  6306.531557  24.199632 2021-02-19      2\n",
       "7830       795  6262.302747   0.500000 2021-09-09      9"
      ]
     },
     "metadata": {},
     "output_type": "display_data"
    },
    {
     "data": {
      "text/plain": [
       "user_id     95\n",
       "distance    95\n",
       "duration    95\n",
       "date        95\n",
       "month       95\n",
       "dtype: int64"
      ]
     },
     "metadata": {},
     "output_type": "display_data"
    },
    {
     "data": {
      "text/html": [
       "<div>\n",
       "<style scoped>\n",
       "    .dataframe tbody tr th:only-of-type {\n",
       "        vertical-align: middle;\n",
       "    }\n",
       "\n",
       "    .dataframe tbody tr th {\n",
       "        vertical-align: top;\n",
       "    }\n",
       "\n",
       "    .dataframe thead th {\n",
       "        text-align: right;\n",
       "    }\n",
       "</style>\n",
       "<table border=\"1\" class=\"dataframe\">\n",
       "  <thead>\n",
       "    <tr style=\"text-align: right;\">\n",
       "      <th></th>\n",
       "      <th>user_id</th>\n",
       "      <th>distance</th>\n",
       "      <th>duration</th>\n",
       "      <th>date</th>\n",
       "      <th>month</th>\n",
       "    </tr>\n",
       "  </thead>\n",
       "  <tbody>\n",
       "    <tr>\n",
       "      <th>6531</th>\n",
       "      <td>701</td>\n",
       "      <td>4196.445201</td>\n",
       "      <td>0.5</td>\n",
       "      <td>2021-08-31</td>\n",
       "      <td>8</td>\n",
       "    </tr>\n",
       "    <tr>\n",
       "      <th>6570</th>\n",
       "      <td>704</td>\n",
       "      <td>4830.824371</td>\n",
       "      <td>0.5</td>\n",
       "      <td>2021-10-14</td>\n",
       "      <td>10</td>\n",
       "    </tr>\n",
       "    <tr>\n",
       "      <th>6680</th>\n",
       "      <td>712</td>\n",
       "      <td>4684.004397</td>\n",
       "      <td>0.5</td>\n",
       "      <td>2021-03-04</td>\n",
       "      <td>3</td>\n",
       "    </tr>\n",
       "    <tr>\n",
       "      <th>6695</th>\n",
       "      <td>713</td>\n",
       "      <td>5215.642710</td>\n",
       "      <td>0.5</td>\n",
       "      <td>2021-02-25</td>\n",
       "      <td>2</td>\n",
       "    </tr>\n",
       "    <tr>\n",
       "      <th>6768</th>\n",
       "      <td>718</td>\n",
       "      <td>5197.436649</td>\n",
       "      <td>0.5</td>\n",
       "      <td>2021-02-11</td>\n",
       "      <td>2</td>\n",
       "    </tr>\n",
       "    <tr>\n",
       "      <th>6860</th>\n",
       "      <td>724</td>\n",
       "      <td>6225.520342</td>\n",
       "      <td>0.5</td>\n",
       "      <td>2021-12-16</td>\n",
       "      <td>12</td>\n",
       "    </tr>\n",
       "    <tr>\n",
       "      <th>6883</th>\n",
       "      <td>726</td>\n",
       "      <td>4452.491518</td>\n",
       "      <td>0.5</td>\n",
       "      <td>2021-03-01</td>\n",
       "      <td>3</td>\n",
       "    </tr>\n",
       "    <tr>\n",
       "      <th>7018</th>\n",
       "      <td>735</td>\n",
       "      <td>4406.954812</td>\n",
       "      <td>0.5</td>\n",
       "      <td>2021-04-13</td>\n",
       "      <td>4</td>\n",
       "    </tr>\n",
       "    <tr>\n",
       "      <th>7160</th>\n",
       "      <td>745</td>\n",
       "      <td>5286.167732</td>\n",
       "      <td>0.5</td>\n",
       "      <td>2021-08-17</td>\n",
       "      <td>8</td>\n",
       "    </tr>\n",
       "    <tr>\n",
       "      <th>7364</th>\n",
       "      <td>760</td>\n",
       "      <td>4881.391865</td>\n",
       "      <td>0.5</td>\n",
       "      <td>2021-08-29</td>\n",
       "      <td>8</td>\n",
       "    </tr>\n",
       "    <tr>\n",
       "      <th>7437</th>\n",
       "      <td>766</td>\n",
       "      <td>4539.088310</td>\n",
       "      <td>0.5</td>\n",
       "      <td>2021-12-22</td>\n",
       "      <td>12</td>\n",
       "    </tr>\n",
       "    <tr>\n",
       "      <th>7508</th>\n",
       "      <td>772</td>\n",
       "      <td>4718.820996</td>\n",
       "      <td>0.5</td>\n",
       "      <td>2021-05-22</td>\n",
       "      <td>5</td>\n",
       "    </tr>\n",
       "    <tr>\n",
       "      <th>7537</th>\n",
       "      <td>774</td>\n",
       "      <td>5488.141903</td>\n",
       "      <td>0.5</td>\n",
       "      <td>2021-05-27</td>\n",
       "      <td>5</td>\n",
       "    </tr>\n",
       "    <tr>\n",
       "      <th>7612</th>\n",
       "      <td>780</td>\n",
       "      <td>6112.644835</td>\n",
       "      <td>0.5</td>\n",
       "      <td>2021-11-23</td>\n",
       "      <td>11</td>\n",
       "    </tr>\n",
       "    <tr>\n",
       "      <th>7679</th>\n",
       "      <td>784</td>\n",
       "      <td>5202.815712</td>\n",
       "      <td>0.5</td>\n",
       "      <td>2021-06-03</td>\n",
       "      <td>6</td>\n",
       "    </tr>\n",
       "    <tr>\n",
       "      <th>7791</th>\n",
       "      <td>792</td>\n",
       "      <td>5353.189287</td>\n",
       "      <td>0.5</td>\n",
       "      <td>2021-11-06</td>\n",
       "      <td>11</td>\n",
       "    </tr>\n",
       "    <tr>\n",
       "      <th>7830</th>\n",
       "      <td>795</td>\n",
       "      <td>6262.302747</td>\n",
       "      <td>0.5</td>\n",
       "      <td>2021-09-09</td>\n",
       "      <td>9</td>\n",
       "    </tr>\n",
       "    <tr>\n",
       "      <th>7883</th>\n",
       "      <td>800</td>\n",
       "      <td>5052.410425</td>\n",
       "      <td>0.5</td>\n",
       "      <td>2021-07-19</td>\n",
       "      <td>7</td>\n",
       "    </tr>\n",
       "    <tr>\n",
       "      <th>7932</th>\n",
       "      <td>804</td>\n",
       "      <td>5547.830031</td>\n",
       "      <td>0.5</td>\n",
       "      <td>2021-05-10</td>\n",
       "      <td>5</td>\n",
       "    </tr>\n",
       "    <tr>\n",
       "      <th>8329</th>\n",
       "      <td>836</td>\n",
       "      <td>4958.922077</td>\n",
       "      <td>0.5</td>\n",
       "      <td>2021-01-12</td>\n",
       "      <td>1</td>\n",
       "    </tr>\n",
       "  </tbody>\n",
       "</table>\n",
       "</div>"
      ],
      "text/plain": [
       "      user_id     distance  duration       date  month\n",
       "6531      701  4196.445201       0.5 2021-08-31      8\n",
       "6570      704  4830.824371       0.5 2021-10-14     10\n",
       "6680      712  4684.004397       0.5 2021-03-04      3\n",
       "6695      713  5215.642710       0.5 2021-02-25      2\n",
       "6768      718  5197.436649       0.5 2021-02-11      2\n",
       "6860      724  6225.520342       0.5 2021-12-16     12\n",
       "6883      726  4452.491518       0.5 2021-03-01      3\n",
       "7018      735  4406.954812       0.5 2021-04-13      4\n",
       "7160      745  5286.167732       0.5 2021-08-17      8\n",
       "7364      760  4881.391865       0.5 2021-08-29      8\n",
       "7437      766  4539.088310       0.5 2021-12-22     12\n",
       "7508      772  4718.820996       0.5 2021-05-22      5\n",
       "7537      774  5488.141903       0.5 2021-05-27      5\n",
       "7612      780  6112.644835       0.5 2021-11-23     11\n",
       "7679      784  5202.815712       0.5 2021-06-03      6\n",
       "7791      792  5353.189287       0.5 2021-11-06     11\n",
       "7830      795  6262.302747       0.5 2021-09-09      9\n",
       "7883      800  5052.410425       0.5 2021-07-19      7\n",
       "7932      804  5547.830031       0.5 2021-05-10      5\n",
       "8329      836  4958.922077       0.5 2021-01-12      1"
      ]
     },
     "metadata": {},
     "output_type": "display_data"
    },
    {
     "name": "stdout",
     "output_type": "stream",
     "text": [
      "Корреляция дистанции и времени поездки: 53.7%\n"
     ]
    }
   ],
   "source": [
    "data_rides_go = data_rides_go[(data_rides_go['distance'] > 1)]\n",
    "display(data_rides_go.sort_values('distance', ascending=False).head(20))\n",
    "display(data_rides_go.query('duration < 1').count()) \n",
    "display(data_rides_go.query('duration < 1').head(20))\n",
    "print('Корреляция дистанции и времени поездки: {:.1%}'.format(data_rides_go['distance'].corr(data_rides_go['duration'])))"
   ]
  },
  {
   "cell_type": "markdown",
   "id": "afb70ec7",
   "metadata": {},
   "source": [
    "Считаю наиболее вероятным что 0.5 минуты - это значения в часах - т е 30 минут. Корреляция почти 54%, можем заменить значения 0.5 средним значением по поездкам свыше 4000 метров\n"
   ]
  },
  {
   "cell_type": "code",
   "execution_count": 13,
   "id": "4c35a694",
   "metadata": {
    "scrolled": true
   },
   "outputs": [
    {
     "data": {
      "text/plain": [
       "user_id     0\n",
       "distance    0\n",
       "duration    0\n",
       "date        0\n",
       "month       0\n",
       "dtype: int64"
      ]
     },
     "metadata": {},
     "output_type": "display_data"
    },
    {
     "data": {
      "image/png": "[encoded data removed]",
      "text/plain": [
       "<Figure size 864x360 with 1 Axes>"
      ]
     },
     "metadata": {
      "needs_background": "light"
     },
     "output_type": "display_data"
    },
    {
     "name": "stdout",
     "output_type": "stream",
     "text": [
      "Корреляция дистанции и времени поездки: 59.1%\n"
     ]
    },
    {
     "data": {
      "text/html": [
       "<div>\n",
       "<style scoped>\n",
       "    .dataframe tbody tr th:only-of-type {\n",
       "        vertical-align: middle;\n",
       "    }\n",
       "\n",
       "    .dataframe tbody tr th {\n",
       "        vertical-align: top;\n",
       "    }\n",
       "\n",
       "    .dataframe thead th {\n",
       "        text-align: right;\n",
       "    }\n",
       "</style>\n",
       "<table border=\"1\" class=\"dataframe\">\n",
       "  <thead>\n",
       "    <tr style=\"text-align: right;\">\n",
       "      <th></th>\n",
       "      <th>user_id</th>\n",
       "      <th>distance</th>\n",
       "      <th>duration</th>\n",
       "      <th>month</th>\n",
       "    </tr>\n",
       "  </thead>\n",
       "  <tbody>\n",
       "    <tr>\n",
       "      <th>count</th>\n",
       "      <td>18067.000000</td>\n",
       "      <td>18067.000000</td>\n",
       "      <td>18067.000000</td>\n",
       "      <td>18067.000000</td>\n",
       "    </tr>\n",
       "    <tr>\n",
       "      <th>mean</th>\n",
       "      <td>842.857420</td>\n",
       "      <td>3070.829888</td>\n",
       "      <td>17.958707</td>\n",
       "      <td>6.487076</td>\n",
       "    </tr>\n",
       "    <tr>\n",
       "      <th>std</th>\n",
       "      <td>434.743093</td>\n",
       "      <td>1116.628558</td>\n",
       "      <td>6.026152</td>\n",
       "      <td>3.437263</td>\n",
       "    </tr>\n",
       "    <tr>\n",
       "      <th>min</th>\n",
       "      <td>1.000000</td>\n",
       "      <td>2.570787</td>\n",
       "      <td>2.035632</td>\n",
       "      <td>1.000000</td>\n",
       "    </tr>\n",
       "    <tr>\n",
       "      <th>25%</th>\n",
       "      <td>487.000000</td>\n",
       "      <td>2543.347870</td>\n",
       "      <td>13.697389</td>\n",
       "      <td>4.000000</td>\n",
       "    </tr>\n",
       "    <tr>\n",
       "      <th>50%</th>\n",
       "      <td>889.000000</td>\n",
       "      <td>3133.674411</td>\n",
       "      <td>17.751427</td>\n",
       "      <td>6.000000</td>\n",
       "    </tr>\n",
       "    <tr>\n",
       "      <th>75%</th>\n",
       "      <td>1213.500000</td>\n",
       "      <td>3776.251372</td>\n",
       "      <td>21.824713</td>\n",
       "      <td>9.000000</td>\n",
       "    </tr>\n",
       "    <tr>\n",
       "      <th>max</th>\n",
       "      <td>1534.000000</td>\n",
       "      <td>7211.007745</td>\n",
       "      <td>41.811234</td>\n",
       "      <td>12.000000</td>\n",
       "    </tr>\n",
       "  </tbody>\n",
       "</table>\n",
       "</div>"
      ],
      "text/plain": [
       "            user_id      distance      duration         month\n",
       "count  18067.000000  18067.000000  18067.000000  18067.000000\n",
       "mean     842.857420   3070.829888     17.958707      6.487076\n",
       "std      434.743093   1116.628558      6.026152      3.437263\n",
       "min        1.000000      2.570787      2.035632      1.000000\n",
       "25%      487.000000   2543.347870     13.697389      4.000000\n",
       "50%      889.000000   3133.674411     17.751427      6.000000\n",
       "75%     1213.500000   3776.251372     21.824713      9.000000\n",
       "max     1534.000000   7211.007745     41.811234     12.000000"
      ]
     },
     "metadata": {},
     "output_type": "display_data"
    }
   ],
   "source": [
    "mean_distanse =  data_rides_go['duration'].mean() / data_rides_go['distance'].mean()\n",
    "data_rides_go.loc[data_rides_go['duration'] < 1, 'duration'] = (mean_distanse * data_rides_go['distance']) \n",
    "display(data_rides_go.query('duration < 1').count())\n",
    "data_rides_go['duration'].hist(bins=70, edgecolor='black', figsize=(12,5))\n",
    "plt.title(\"Распределение пользователей по продолжительности поездки\")\n",
    "plt.ylabel('Количество пользователей')\n",
    "plt.xlabel('Продолжительность поездки в минутах')\n",
    "plt.show()\n",
    "print('Корреляция дистанции и времени поездки: {:.1%}'.format(data_rides_go['distance'].corr(data_rides_go['duration'])))\n",
    "display(data_rides_go.describe())"
   ]
  },
  {
   "cell_type": "markdown",
   "id": "271e17e3",
   "metadata": {},
   "source": [
    "Теперь распределение данных по продолжительности поездки Пуассона - выглядит правдоподобно, среднее время в пути - 17,95 минут и средняя дистанция 3070 метров\n"
   ]
  },
  {
   "cell_type": "code",
   "execution_count": 14,
   "id": "459d1882",
   "metadata": {},
   "outputs": [
    {
     "data": {
      "text/plain": [
       "1534"
      ]
     },
     "execution_count": 14,
     "metadata": {},
     "output_type": "execute_result"
    }
   ],
   "source": [
    "data_rides_go['user_id'].nunique()"
   ]
  },
  {
   "cell_type": "markdown",
   "id": "4cf540b4",
   "metadata": {},
   "source": [
    "#### Вывод:\n",
    "Данные готовы к исследованию, дубликаты, аномалии устранены, типы данных исправлены на необходимые.\n",
    "Всего в выборке данные по 1534 пользователям и их поездкам в количестве = 18067."
   ]
  },
  {
   "cell_type": "markdown",
   "id": "f1a08950",
   "metadata": {},
   "source": [
    "### Исследовательский анализ данных"
   ]
  },
  {
   "cell_type": "markdown",
   "id": "1152ca5a",
   "metadata": {},
   "source": [
    "Опишите и визуализируйте общую информацию о пользователях и поездках:\n",
    "3.1 частота встречаемости городов;\n",
    "3.2 соотношение пользователей с подпиской и без подписки;\n",
    "3.3 возраст пользователей;\n",
    "3.4 расстояние, которое пользователь преодолел за одну поездку;\n",
    "3.5 продолжительность поездок."
   ]
  },
  {
   "cell_type": "markdown",
   "id": "7a556315",
   "metadata": {},
   "source": [
    "#### Изучим распределениие выборки по городам"
   ]
  },
  {
   "cell_type": "code",
   "execution_count": 15,
   "id": "53b281b4",
   "metadata": {},
   "outputs": [
    {
     "data": {
      "image/png": "[encoded data removed]",
      "text/plain": [
       "<Figure size 432x288 with 1 Axes>"
      ]
     },
     "metadata": {
      "needs_background": "light"
     },
     "output_type": "display_data"
    }
   ],
   "source": [
    "(data_users\n",
    "  .pivot_table(index='city', values='user_id', aggfunc='count')\n",
    "  .sort_values(by='user_id', ascending=False)\n",
    "  .plot.barh(edgecolor='black', color='turquoise', grid=False)\n",
    ")\n",
    "\n",
    "plt.title(\"Распределение пользователей сервиса по городам\")\n",
    "plt.ylabel('Города')\n",
    "plt.xlabel('Количество пользователей')\n",
    "plt.show()"
   ]
  },
  {
   "cell_type": "markdown",
   "id": "67546b74",
   "metadata": {},
   "source": [
    "В выборке больше всего данных пользователей из Пятигорска и Екатеринбурга, и меньше всего  - из Москвы"
   ]
  },
  {
   "cell_type": "markdown",
   "id": "3199b383",
   "metadata": {},
   "source": [
    "#### Изучим соотношение пользователей с подпиской и без подписки"
   ]
  },
  {
   "cell_type": "markdown",
   "id": "b737d4b5",
   "metadata": {},
   "source": [
    "data_users['subscription_type'].hist(bins=3,figsize=(6,5), edgecolor='black',  grid=False, color='turquoise')\n",
    "plt.xlabel('Распределение  пользователей с подпиской и без подписки')\n",
    "plt.show()\n",
    "data_price_top_10.plot(y = 'Количество объявлений', kind='pie', figsize = (8,8), legend=True)"
   ]
  },
  {
   "cell_type": "code",
   "execution_count": 16,
   "id": "ea0dae54",
   "metadata": {},
   "outputs": [
    {
     "data": {
      "image/png": "[encoded data removed]",
      "text/plain": [
       "<Figure size 432x288 with 1 Axes>"
      ]
     },
     "metadata": {},
     "output_type": "display_data"
    }
   ],
   "source": [
    "colors = ['turquoise', 'pink']\n",
    "data_users.groupby(['subscription_type']).count().plot(\n",
    "    kind='pie', y='user_id', autopct='%1.0f%%', colors=colors )\n",
    "\n",
    "plt.title(\"Соотношение пользователей с подпиской и без подписки\")\n",
    "plt.ylabel('Пользователи')\n",
    "plt.show()"
   ]
  },
  {
   "cell_type": "markdown",
   "id": "c5b0df7e",
   "metadata": {},
   "source": [
    "Пользователей с подпиской на 16% меньше чем без подписки, всего по 835 и 699 пользователей соответственно"
   ]
  },
  {
   "cell_type": "markdown",
   "id": "5c486320",
   "metadata": {},
   "source": [
    "#### Изучим распределение пользователей по возрасту"
   ]
  },
  {
   "cell_type": "code",
   "execution_count": 17,
   "id": "0ad46447",
   "metadata": {
    "scrolled": true
   },
   "outputs": [
    {
     "data": {
      "image/png": "[encoded data removed]",
      "text/plain": [
       "<Figure size 864x360 with 1 Axes>"
      ]
     },
     "metadata": {
      "needs_background": "light"
     },
     "output_type": "display_data"
    }
   ],
   "source": [
    "data_users['age'].hist(bins=30,figsize=(12,5), range=(12,43), edgecolor='black',  grid=False, color='turquoise')\n",
    "\n",
    "plt.title(\"Распределение пользователей по возрасту\")\n",
    "plt.ylabel('Количество пользователей')\n",
    "plt.xlabel('Возраст пользователей')\n",
    "plt.show()"
   ]
  },
  {
   "cell_type": "code",
   "execution_count": 18,
   "id": "1980463e",
   "metadata": {},
   "outputs": [
    {
     "data": {
      "text/html": [
       "<div>\n",
       "<style scoped>\n",
       "    .dataframe tbody tr th:only-of-type {\n",
       "        vertical-align: middle;\n",
       "    }\n",
       "\n",
       "    .dataframe tbody tr th {\n",
       "        vertical-align: top;\n",
       "    }\n",
       "\n",
       "    .dataframe thead th {\n",
       "        text-align: right;\n",
       "    }\n",
       "</style>\n",
       "<table border=\"1\" class=\"dataframe\">\n",
       "  <thead>\n",
       "    <tr style=\"text-align: right;\">\n",
       "      <th></th>\n",
       "      <th>user_id</th>\n",
       "      <th>age</th>\n",
       "    </tr>\n",
       "  </thead>\n",
       "  <tbody>\n",
       "    <tr>\n",
       "      <th>count</th>\n",
       "      <td>1534.000000</td>\n",
       "      <td>1534.000000</td>\n",
       "    </tr>\n",
       "    <tr>\n",
       "      <th>mean</th>\n",
       "      <td>767.500000</td>\n",
       "      <td>24.903520</td>\n",
       "    </tr>\n",
       "    <tr>\n",
       "      <th>std</th>\n",
       "      <td>442.971971</td>\n",
       "      <td>4.572367</td>\n",
       "    </tr>\n",
       "    <tr>\n",
       "      <th>min</th>\n",
       "      <td>1.000000</td>\n",
       "      <td>12.000000</td>\n",
       "    </tr>\n",
       "    <tr>\n",
       "      <th>25%</th>\n",
       "      <td>384.250000</td>\n",
       "      <td>22.000000</td>\n",
       "    </tr>\n",
       "    <tr>\n",
       "      <th>50%</th>\n",
       "      <td>767.500000</td>\n",
       "      <td>25.000000</td>\n",
       "    </tr>\n",
       "    <tr>\n",
       "      <th>75%</th>\n",
       "      <td>1150.750000</td>\n",
       "      <td>28.000000</td>\n",
       "    </tr>\n",
       "    <tr>\n",
       "      <th>max</th>\n",
       "      <td>1534.000000</td>\n",
       "      <td>43.000000</td>\n",
       "    </tr>\n",
       "  </tbody>\n",
       "</table>\n",
       "</div>"
      ],
      "text/plain": [
       "           user_id          age\n",
       "count  1534.000000  1534.000000\n",
       "mean    767.500000    24.903520\n",
       "std     442.971971     4.572367\n",
       "min       1.000000    12.000000\n",
       "25%     384.250000    22.000000\n",
       "50%     767.500000    25.000000\n",
       "75%    1150.750000    28.000000\n",
       "max    1534.000000    43.000000"
      ]
     },
     "execution_count": 18,
     "metadata": {},
     "output_type": "execute_result"
    }
   ],
   "source": [
    "data_users.describe()"
   ]
  },
  {
   "cell_type": "markdown",
   "id": "56a87800",
   "metadata": {},
   "source": [
    "Распределение Пуассона, средний возраст - 25 лет, минимальный 12 лет, максимальный 43 года. Свыше 38 лет встречается крайне редко.\n",
    "Можно было бы удалить выбросы, но не считаю это полезным в данном исследовании - их мало и выборка не такая большая чтобы этими данными можно было пренебречь."
   ]
  },
  {
   "cell_type": "markdown",
   "id": "b5ecc346",
   "metadata": {},
   "source": [
    "#### Изучим расстояние, которое пользователь преодолел за одну поездку"
   ]
  },
  {
   "cell_type": "code",
   "execution_count": 19,
   "id": "e7769f35",
   "metadata": {},
   "outputs": [
    {
     "data": {
      "image/png": "[encoded data removed]",
      "text/plain": [
       "<Figure size 864x360 with 1 Axes>"
      ]
     },
     "metadata": {
      "needs_background": "light"
     },
     "output_type": "display_data"
    },
    {
     "data": {
      "image/png": "[encoded data removed]",
      "text/plain": [
       "<Figure size 1440x360 with 1 Axes>"
      ]
     },
     "metadata": {
      "needs_background": "light"
     },
     "output_type": "display_data"
    }
   ],
   "source": [
    "data_rides_go['distance'].hist(bins=70, edgecolor='black', figsize=(12,5), color='turquoise')\n",
    "plt.title(\"Распределение пользователей сервиса по расстоянию за одну поездку\")\n",
    "plt.ylabel('Количество пользователей')\n",
    "plt.xlabel('Расстояние в метрах')\n",
    "plt.show()\n",
    "\n",
    "data_rides_go['distance'].hist(bins=250, edgecolor='black', range=(0,500), figsize=(20,5), color='turquoise')\n",
    "plt.title(\"Распределение пользователей сервиса по расстоянию за одну поездку, минимальные значения\")\n",
    "plt.ylabel('Количество пользователей')\n",
    "plt.xlabel('Расстояние в метрах')\n",
    "plt.show()\n"
   ]
  },
  {
   "cell_type": "markdown",
   "id": "f8b84c60",
   "metadata": {},
   "source": [
    "В среднем расстояние которое преоодолеват пользователь за одну поездку  - 3133м , максимум 7211.\n",
    "Есть определенное количество очень коротких поездок - 2,5-200 метров - это вероятно связано с техническими неполадками/разрядкой аккумулятора/сменой планов/плохой погодой и другими возможными факторами.\n",
    "И от 200 до 1500 метров - такие поездки вероятно связаны с практическими целями - побыстрее добраться куда-либо, например до метро.\n"
   ]
  },
  {
   "cell_type": "markdown",
   "id": "2c59959d",
   "metadata": {},
   "source": [
    "#### Изучим продолжительность поездок"
   ]
  },
  {
   "cell_type": "code",
   "execution_count": 20,
   "id": "a56b9304",
   "metadata": {
    "scrolled": false
   },
   "outputs": [
    {
     "data": {
      "image/png": "[encoded data removed]",
      "text/plain": [
       "<Figure size 864x360 with 1 Axes>"
      ]
     },
     "metadata": {
      "needs_background": "light"
     },
     "output_type": "display_data"
    },
    {
     "data": {
      "image/png": "[encoded data removed]",
      "text/plain": [
       "<Figure size 864x360 with 1 Axes>"
      ]
     },
     "metadata": {
      "needs_background": "light"
     },
     "output_type": "display_data"
    },
    {
     "name": "stdout",
     "output_type": "stream",
     "text": [
      "Корреляция дистанции и продолжительности поездки: 59.1%\n"
     ]
    }
   ],
   "source": [
    "data_rides_go['duration'].hist(bins=70, edgecolor='black', figsize=(12,5), color='turquoise')\n",
    "plt.title(\"Распределение по продолжительности поездок\")\n",
    "plt.xlabel(\"Время поездки в минутах\")\n",
    "plt.ylabel(\"Количество пользователей\")\n",
    "plt.show()\n",
    "(\n",
    "    data_rides_go.pivot_table(index='distance', values='duration')\n",
    "    .plot(grid=True, style='o', figsize=(12, 5), color='turquoise',  alpha=0.1)\n",
    ")\n",
    "plt.title(\"Корреляция дистанции и продолжительности поездки\")\n",
    "plt.xlabel(\"Дистанция в метрах\")\n",
    "plt.ylabel(\"Время поездки в минутах\")\n",
    "plt.show()\n",
    "\n",
    "print('Корреляция дистанции и продолжительности поездки: {:.1%}'.format(data_rides_go['distance'].corr(data_rides_go['duration'])))"
   ]
  },
  {
   "cell_type": "markdown",
   "id": "6ff06af6",
   "metadata": {},
   "source": [
    "Распределение Пуассона, среднее время поездки 18 минут, есть очень короткие 2ух минутные и очень длинные - 40 минутные поездни, но их совсем мало. Обычно поездка занимает от 13 до 22 минут.\n",
    "Расчитана и визуализирована корреляция - 59.1% между продолжительностью и временем поездки - что логично. \n",
    "Средняя скорость - 10 км в час"
   ]
  },
  {
   "cell_type": "markdown",
   "id": "df75446b",
   "metadata": {},
   "source": [
    "#### Вывод:\n",
    "1. В выборке больше всего данных пользователей из Пятигорска и Екатеринбурга, и меньше всего - из Москвы\n",
    "2. Пользователей с подпиской на 16% меньше чем без подписки, всего по 835 и 699 пользователей соответственно\n",
    "3. Средний возраст - 25 лет, минимальный 12 лет, максимальный 43 года. Свыше 38 лет встречается крайне редко\n",
    "4. В среднем расстояние которое преоодолеват пользователь за одну поездку  - 3133м , максимум 7211, небольшая часть коротких поездок обусловлена техническими проблемами и человеческим фактором.\n",
    "5. Обычно поездка занимает от 13 до 22 минут. Корреляция между продолжительностью и временем поездки - 59.1%. Средняя скорость - 10 км в час"
   ]
  },
  {
   "cell_type": "markdown",
   "id": "e4568308",
   "metadata": {},
   "source": [
    "### Объединение данных"
   ]
  },
  {
   "cell_type": "markdown",
   "id": "253e582c",
   "metadata": {},
   "source": [
    "#### Объединим данные из таблиц data_users и data_rides_go в один датафрейм по столбцу user_id"
   ]
  },
  {
   "cell_type": "code",
   "execution_count": 21,
   "id": "89e0d52f",
   "metadata": {
    "scrolled": true
   },
   "outputs": [
    {
     "name": "stdout",
     "output_type": "stream",
     "text": [
      "<class 'pandas.core.frame.DataFrame'>\n",
      "Int64Index: 18067 entries, 0 to 18066\n",
      "Data columns (total 12 columns):\n",
      " #   Column             Non-Null Count  Dtype         \n",
      "---  ------             --------------  -----         \n",
      " 0   user_id            18067 non-null  int64         \n",
      " 1   name               18067 non-null  object        \n",
      " 2   age                18067 non-null  int64         \n",
      " 3   city               18067 non-null  object        \n",
      " 4   subscription_type  18067 non-null  object        \n",
      " 5   distance           18067 non-null  float64       \n",
      " 6   duration           18067 non-null  float64       \n",
      " 7   date               18067 non-null  datetime64[ns]\n",
      " 8   month              18067 non-null  int64         \n",
      " 9   minute_price       18067 non-null  int64         \n",
      " 10  start_ride_price   18067 non-null  int64         \n",
      " 11  subscription_fee   18067 non-null  int64         \n",
      "dtypes: datetime64[ns](1), float64(2), int64(6), object(3)\n",
      "memory usage: 1.8+ MB\n"
     ]
    },
    {
     "data": {
      "text/html": [
       "<div>\n",
       "<style scoped>\n",
       "    .dataframe tbody tr th:only-of-type {\n",
       "        vertical-align: middle;\n",
       "    }\n",
       "\n",
       "    .dataframe tbody tr th {\n",
       "        vertical-align: top;\n",
       "    }\n",
       "\n",
       "    .dataframe thead th {\n",
       "        text-align: right;\n",
       "    }\n",
       "</style>\n",
       "<table border=\"1\" class=\"dataframe\">\n",
       "  <thead>\n",
       "    <tr style=\"text-align: right;\">\n",
       "      <th></th>\n",
       "      <th>user_id</th>\n",
       "      <th>name</th>\n",
       "      <th>age</th>\n",
       "      <th>city</th>\n",
       "      <th>subscription_type</th>\n",
       "      <th>distance</th>\n",
       "      <th>duration</th>\n",
       "      <th>date</th>\n",
       "      <th>month</th>\n",
       "      <th>minute_price</th>\n",
       "      <th>start_ride_price</th>\n",
       "      <th>subscription_fee</th>\n",
       "    </tr>\n",
       "  </thead>\n",
       "  <tbody>\n",
       "    <tr>\n",
       "      <th>0</th>\n",
       "      <td>1</td>\n",
       "      <td>Кира</td>\n",
       "      <td>22</td>\n",
       "      <td>Тюмень</td>\n",
       "      <td>ultra</td>\n",
       "      <td>4409.919140</td>\n",
       "      <td>25.599769</td>\n",
       "      <td>2021-01-01</td>\n",
       "      <td>1</td>\n",
       "      <td>6</td>\n",
       "      <td>0</td>\n",
       "      <td>199</td>\n",
       "    </tr>\n",
       "    <tr>\n",
       "      <th>1</th>\n",
       "      <td>1</td>\n",
       "      <td>Кира</td>\n",
       "      <td>22</td>\n",
       "      <td>Тюмень</td>\n",
       "      <td>ultra</td>\n",
       "      <td>2617.592153</td>\n",
       "      <td>15.816871</td>\n",
       "      <td>2021-01-18</td>\n",
       "      <td>1</td>\n",
       "      <td>6</td>\n",
       "      <td>0</td>\n",
       "      <td>199</td>\n",
       "    </tr>\n",
       "    <tr>\n",
       "      <th>2</th>\n",
       "      <td>1</td>\n",
       "      <td>Кира</td>\n",
       "      <td>22</td>\n",
       "      <td>Тюмень</td>\n",
       "      <td>ultra</td>\n",
       "      <td>754.159807</td>\n",
       "      <td>6.232113</td>\n",
       "      <td>2021-04-20</td>\n",
       "      <td>4</td>\n",
       "      <td>6</td>\n",
       "      <td>0</td>\n",
       "      <td>199</td>\n",
       "    </tr>\n",
       "    <tr>\n",
       "      <th>3</th>\n",
       "      <td>1</td>\n",
       "      <td>Кира</td>\n",
       "      <td>22</td>\n",
       "      <td>Тюмень</td>\n",
       "      <td>ultra</td>\n",
       "      <td>2694.783254</td>\n",
       "      <td>18.511000</td>\n",
       "      <td>2021-08-11</td>\n",
       "      <td>8</td>\n",
       "      <td>6</td>\n",
       "      <td>0</td>\n",
       "      <td>199</td>\n",
       "    </tr>\n",
       "    <tr>\n",
       "      <th>4</th>\n",
       "      <td>1</td>\n",
       "      <td>Кира</td>\n",
       "      <td>22</td>\n",
       "      <td>Тюмень</td>\n",
       "      <td>ultra</td>\n",
       "      <td>4028.687306</td>\n",
       "      <td>26.265803</td>\n",
       "      <td>2021-08-28</td>\n",
       "      <td>8</td>\n",
       "      <td>6</td>\n",
       "      <td>0</td>\n",
       "      <td>199</td>\n",
       "    </tr>\n",
       "  </tbody>\n",
       "</table>\n",
       "</div>"
      ],
      "text/plain": [
       "   user_id  name  age    city subscription_type     distance   duration  \\\n",
       "0        1  Кира   22  Тюмень             ultra  4409.919140  25.599769   \n",
       "1        1  Кира   22  Тюмень             ultra  2617.592153  15.816871   \n",
       "2        1  Кира   22  Тюмень             ultra   754.159807   6.232113   \n",
       "3        1  Кира   22  Тюмень             ultra  2694.783254  18.511000   \n",
       "4        1  Кира   22  Тюмень             ultra  4028.687306  26.265803   \n",
       "\n",
       "        date  month  minute_price  start_ride_price  subscription_fee  \n",
       "0 2021-01-01      1             6                 0               199  \n",
       "1 2021-01-18      1             6                 0               199  \n",
       "2 2021-04-20      4             6                 0               199  \n",
       "3 2021-08-11      8             6                 0               199  \n",
       "4 2021-08-28      8             6                 0               199  "
      ]
     },
     "execution_count": 21,
     "metadata": {},
     "output_type": "execute_result"
    }
   ],
   "source": [
    "summary_data = data_users.merge(data_rides_go, on ='user_id', how='left')\n",
    "summary_data = summary_data.merge(data_subscriptions_go,on ='subscription_type', how='left')\n",
    "summary_data.info()\n",
    "summary_data.head()"
   ]
  },
  {
   "cell_type": "markdown",
   "id": "07667481",
   "metadata": {},
   "source": [
    "Сравнили количество строк с количеством строк таблиц до объединения - 18067 и  18067. Объединение выполнено корректно"
   ]
  },
  {
   "cell_type": "markdown",
   "id": "261f3c90",
   "metadata": {},
   "source": [
    "#### Создадим два датафрейма, один с данными пользователей, купивших подписку и второй с данными пользователей без подписки"
   ]
  },
  {
   "cell_type": "code",
   "execution_count": 22,
   "id": "3ace9917",
   "metadata": {},
   "outputs": [
    {
     "data": {
      "text/html": [
       "<div>\n",
       "<style scoped>\n",
       "    .dataframe tbody tr th:only-of-type {\n",
       "        vertical-align: middle;\n",
       "    }\n",
       "\n",
       "    .dataframe tbody tr th {\n",
       "        vertical-align: top;\n",
       "    }\n",
       "\n",
       "    .dataframe thead th {\n",
       "        text-align: right;\n",
       "    }\n",
       "</style>\n",
       "<table border=\"1\" class=\"dataframe\">\n",
       "  <thead>\n",
       "    <tr style=\"text-align: right;\">\n",
       "      <th></th>\n",
       "      <th>user_id</th>\n",
       "      <th>name</th>\n",
       "      <th>age</th>\n",
       "      <th>city</th>\n",
       "      <th>subscription_type</th>\n",
       "      <th>distance</th>\n",
       "      <th>duration</th>\n",
       "      <th>date</th>\n",
       "      <th>month</th>\n",
       "      <th>minute_price</th>\n",
       "      <th>start_ride_price</th>\n",
       "      <th>subscription_fee</th>\n",
       "    </tr>\n",
       "  </thead>\n",
       "  <tbody>\n",
       "    <tr>\n",
       "      <th>0</th>\n",
       "      <td>1</td>\n",
       "      <td>Кира</td>\n",
       "      <td>22</td>\n",
       "      <td>Тюмень</td>\n",
       "      <td>ultra</td>\n",
       "      <td>4409.919140</td>\n",
       "      <td>25.599769</td>\n",
       "      <td>2021-01-01</td>\n",
       "      <td>1</td>\n",
       "      <td>6</td>\n",
       "      <td>0</td>\n",
       "      <td>199</td>\n",
       "    </tr>\n",
       "    <tr>\n",
       "      <th>1</th>\n",
       "      <td>1</td>\n",
       "      <td>Кира</td>\n",
       "      <td>22</td>\n",
       "      <td>Тюмень</td>\n",
       "      <td>ultra</td>\n",
       "      <td>2617.592153</td>\n",
       "      <td>15.816871</td>\n",
       "      <td>2021-01-18</td>\n",
       "      <td>1</td>\n",
       "      <td>6</td>\n",
       "      <td>0</td>\n",
       "      <td>199</td>\n",
       "    </tr>\n",
       "    <tr>\n",
       "      <th>2</th>\n",
       "      <td>1</td>\n",
       "      <td>Кира</td>\n",
       "      <td>22</td>\n",
       "      <td>Тюмень</td>\n",
       "      <td>ultra</td>\n",
       "      <td>754.159807</td>\n",
       "      <td>6.232113</td>\n",
       "      <td>2021-04-20</td>\n",
       "      <td>4</td>\n",
       "      <td>6</td>\n",
       "      <td>0</td>\n",
       "      <td>199</td>\n",
       "    </tr>\n",
       "    <tr>\n",
       "      <th>3</th>\n",
       "      <td>1</td>\n",
       "      <td>Кира</td>\n",
       "      <td>22</td>\n",
       "      <td>Тюмень</td>\n",
       "      <td>ultra</td>\n",
       "      <td>2694.783254</td>\n",
       "      <td>18.511000</td>\n",
       "      <td>2021-08-11</td>\n",
       "      <td>8</td>\n",
       "      <td>6</td>\n",
       "      <td>0</td>\n",
       "      <td>199</td>\n",
       "    </tr>\n",
       "    <tr>\n",
       "      <th>4</th>\n",
       "      <td>1</td>\n",
       "      <td>Кира</td>\n",
       "      <td>22</td>\n",
       "      <td>Тюмень</td>\n",
       "      <td>ultra</td>\n",
       "      <td>4028.687306</td>\n",
       "      <td>26.265803</td>\n",
       "      <td>2021-08-28</td>\n",
       "      <td>8</td>\n",
       "      <td>6</td>\n",
       "      <td>0</td>\n",
       "      <td>199</td>\n",
       "    </tr>\n",
       "  </tbody>\n",
       "</table>\n",
       "</div>"
      ],
      "text/plain": [
       "   user_id  name  age    city subscription_type     distance   duration  \\\n",
       "0        1  Кира   22  Тюмень             ultra  4409.919140  25.599769   \n",
       "1        1  Кира   22  Тюмень             ultra  2617.592153  15.816871   \n",
       "2        1  Кира   22  Тюмень             ultra   754.159807   6.232113   \n",
       "3        1  Кира   22  Тюмень             ultra  2694.783254  18.511000   \n",
       "4        1  Кира   22  Тюмень             ultra  4028.687306  26.265803   \n",
       "\n",
       "        date  month  minute_price  start_ride_price  subscription_fee  \n",
       "0 2021-01-01      1             6                 0               199  \n",
       "1 2021-01-18      1             6                 0               199  \n",
       "2 2021-04-20      4             6                 0               199  \n",
       "3 2021-08-11      8             6                 0               199  \n",
       "4 2021-08-28      8             6                 0               199  "
      ]
     },
     "metadata": {},
     "output_type": "display_data"
    },
    {
     "data": {
      "text/html": [
       "<div>\n",
       "<style scoped>\n",
       "    .dataframe tbody tr th:only-of-type {\n",
       "        vertical-align: middle;\n",
       "    }\n",
       "\n",
       "    .dataframe tbody tr th {\n",
       "        vertical-align: top;\n",
       "    }\n",
       "\n",
       "    .dataframe thead th {\n",
       "        text-align: right;\n",
       "    }\n",
       "</style>\n",
       "<table border=\"1\" class=\"dataframe\">\n",
       "  <thead>\n",
       "    <tr style=\"text-align: right;\">\n",
       "      <th></th>\n",
       "      <th>user_id</th>\n",
       "      <th>name</th>\n",
       "      <th>age</th>\n",
       "      <th>city</th>\n",
       "      <th>subscription_type</th>\n",
       "      <th>distance</th>\n",
       "      <th>duration</th>\n",
       "      <th>date</th>\n",
       "      <th>month</th>\n",
       "      <th>minute_price</th>\n",
       "      <th>start_ride_price</th>\n",
       "      <th>subscription_fee</th>\n",
       "    </tr>\n",
       "  </thead>\n",
       "  <tbody>\n",
       "    <tr>\n",
       "      <th>6500</th>\n",
       "      <td>700</td>\n",
       "      <td>Айдар</td>\n",
       "      <td>22</td>\n",
       "      <td>Омск</td>\n",
       "      <td>free</td>\n",
       "      <td>2515.690719</td>\n",
       "      <td>14.944286</td>\n",
       "      <td>2021-01-02</td>\n",
       "      <td>1</td>\n",
       "      <td>8</td>\n",
       "      <td>50</td>\n",
       "      <td>0</td>\n",
       "    </tr>\n",
       "    <tr>\n",
       "      <th>6501</th>\n",
       "      <td>700</td>\n",
       "      <td>Айдар</td>\n",
       "      <td>22</td>\n",
       "      <td>Омск</td>\n",
       "      <td>free</td>\n",
       "      <td>846.932642</td>\n",
       "      <td>16.234663</td>\n",
       "      <td>2021-02-01</td>\n",
       "      <td>2</td>\n",
       "      <td>8</td>\n",
       "      <td>50</td>\n",
       "      <td>0</td>\n",
       "    </tr>\n",
       "    <tr>\n",
       "      <th>6502</th>\n",
       "      <td>700</td>\n",
       "      <td>Айдар</td>\n",
       "      <td>22</td>\n",
       "      <td>Омск</td>\n",
       "      <td>free</td>\n",
       "      <td>4004.434142</td>\n",
       "      <td>20.016628</td>\n",
       "      <td>2021-02-04</td>\n",
       "      <td>2</td>\n",
       "      <td>8</td>\n",
       "      <td>50</td>\n",
       "      <td>0</td>\n",
       "    </tr>\n",
       "    <tr>\n",
       "      <th>6503</th>\n",
       "      <td>700</td>\n",
       "      <td>Айдар</td>\n",
       "      <td>22</td>\n",
       "      <td>Омск</td>\n",
       "      <td>free</td>\n",
       "      <td>1205.911290</td>\n",
       "      <td>9.782872</td>\n",
       "      <td>2021-02-10</td>\n",
       "      <td>2</td>\n",
       "      <td>8</td>\n",
       "      <td>50</td>\n",
       "      <td>0</td>\n",
       "    </tr>\n",
       "    <tr>\n",
       "      <th>6504</th>\n",
       "      <td>700</td>\n",
       "      <td>Айдар</td>\n",
       "      <td>22</td>\n",
       "      <td>Омск</td>\n",
       "      <td>free</td>\n",
       "      <td>3047.379435</td>\n",
       "      <td>17.427673</td>\n",
       "      <td>2021-02-14</td>\n",
       "      <td>2</td>\n",
       "      <td>8</td>\n",
       "      <td>50</td>\n",
       "      <td>0</td>\n",
       "    </tr>\n",
       "  </tbody>\n",
       "</table>\n",
       "</div>"
      ],
      "text/plain": [
       "      user_id   name  age  city subscription_type     distance   duration  \\\n",
       "6500      700  Айдар   22  Омск              free  2515.690719  14.944286   \n",
       "6501      700  Айдар   22  Омск              free   846.932642  16.234663   \n",
       "6502      700  Айдар   22  Омск              free  4004.434142  20.016628   \n",
       "6503      700  Айдар   22  Омск              free  1205.911290   9.782872   \n",
       "6504      700  Айдар   22  Омск              free  3047.379435  17.427673   \n",
       "\n",
       "           date  month  minute_price  start_ride_price  subscription_fee  \n",
       "6500 2021-01-02      1             8                50                 0  \n",
       "6501 2021-02-01      2             8                50                 0  \n",
       "6502 2021-02-04      2             8                50                 0  \n",
       "6503 2021-02-10      2             8                50                 0  \n",
       "6504 2021-02-14      2             8                50                 0  "
      ]
     },
     "metadata": {},
     "output_type": "display_data"
    },
    {
     "name": "stdout",
     "output_type": "stream",
     "text": [
      "<class 'pandas.core.frame.DataFrame'>\n",
      "Int64Index: 6500 entries, 0 to 6499\n",
      "Data columns (total 12 columns):\n",
      " #   Column             Non-Null Count  Dtype         \n",
      "---  ------             --------------  -----         \n",
      " 0   user_id            6500 non-null   int64         \n",
      " 1   name               6500 non-null   object        \n",
      " 2   age                6500 non-null   int64         \n",
      " 3   city               6500 non-null   object        \n",
      " 4   subscription_type  6500 non-null   object        \n",
      " 5   distance           6500 non-null   float64       \n",
      " 6   duration           6500 non-null   float64       \n",
      " 7   date               6500 non-null   datetime64[ns]\n",
      " 8   month              6500 non-null   int64         \n",
      " 9   minute_price       6500 non-null   int64         \n",
      " 10  start_ride_price   6500 non-null   int64         \n",
      " 11  subscription_fee   6500 non-null   int64         \n",
      "dtypes: datetime64[ns](1), float64(2), int64(6), object(3)\n",
      "memory usage: 660.2+ KB\n",
      "None\n",
      "<class 'pandas.core.frame.DataFrame'>\n",
      "Int64Index: 11567 entries, 6500 to 18066\n",
      "Data columns (total 12 columns):\n",
      " #   Column             Non-Null Count  Dtype         \n",
      "---  ------             --------------  -----         \n",
      " 0   user_id            11567 non-null  int64         \n",
      " 1   name               11567 non-null  object        \n",
      " 2   age                11567 non-null  int64         \n",
      " 3   city               11567 non-null  object        \n",
      " 4   subscription_type  11567 non-null  object        \n",
      " 5   distance           11567 non-null  float64       \n",
      " 6   duration           11567 non-null  float64       \n",
      " 7   date               11567 non-null  datetime64[ns]\n",
      " 8   month              11567 non-null  int64         \n",
      " 9   minute_price       11567 non-null  int64         \n",
      " 10  start_ride_price   11567 non-null  int64         \n",
      " 11  subscription_fee   11567 non-null  int64         \n",
      "dtypes: datetime64[ns](1), float64(2), int64(6), object(3)\n",
      "memory usage: 1.1+ MB\n"
     ]
    }
   ],
   "source": [
    "data_users_ultra = summary_data[summary_data['subscription_type'] =='ultra']\n",
    "data_users_free = summary_data[summary_data['subscription_type'] =='free']\n",
    "display(data_users_ultra.head())\n",
    "display(data_users_free.head())\n",
    "print(data_users_ultra.info())\n",
    "data_users_free.info()"
   ]
  },
  {
   "cell_type": "markdown",
   "id": "2b3f42e7",
   "metadata": {},
   "source": [
    "Пользователей с подпиской почти в 2 раза больше чем без подписки. "
   ]
  },
  {
   "cell_type": "markdown",
   "id": "e89a9ac7",
   "metadata": {},
   "source": [
    "#### Изучим зависимость расстояния и времени поездок для пользователей обеих категорий, для этого построим сводный график"
   ]
  },
  {
   "cell_type": "code",
   "execution_count": 23,
   "id": "e9942d5b",
   "metadata": {},
   "outputs": [
    {
     "data": {
      "image/png": "[encoded data removed]",
      "text/plain": [
       "<Figure size 1152x360 with 1 Axes>"
      ]
     },
     "metadata": {
      "needs_background": "light"
     },
     "output_type": "display_data"
    },
    {
     "name": "stdout",
     "output_type": "stream",
     "text": [
      "Средняя дистация поездки пользователей с подпиской: 3115\n",
      "Средняя дистация поездки пользователей без подписки: 3046\n"
     ]
    },
    {
     "data": {
      "image/png": "[encoded data removed]",
      "text/plain": [
       "<Figure size 1152x360 with 1 Axes>"
      ]
     },
     "metadata": {
      "needs_background": "light"
     },
     "output_type": "display_data"
    }
   ],
   "source": [
    "ax=data_users_ultra.plot(\n",
    "    kind='hist',\n",
    "    y='distance',\n",
    "    histtype='step',\n",
    "    range=(0, 7000),\n",
    "    bins=100,\n",
    "    linewidth=4,\n",
    "    alpha=0.5,\n",
    "    label='Дистация пользователей с подпиской',\n",
    "    figsize=(16, 5),\n",
    "    grid=True,\n",
    "    color='turquoise',\n",
    "    legend=True,\n",
    ") \n",
    "data_users_free.plot(\n",
    "    kind='hist',\n",
    "    y='distance',\n",
    "    histtype='step',\n",
    "    range=(0, 7000),\n",
    "    bins=100,\n",
    "    linewidth=4,\n",
    "    ax=ax,\n",
    "    grid=True,\n",
    "    alpha=0.5,\n",
    "    color='teal',\n",
    "    label='Дистация пользователей без подписки',\n",
    ")  \n",
    "plt.title(\"Сравнение дистации поездки пользователей с подпиской и без\")\n",
    "plt.xlabel(\"Дистанция в метрах\")\n",
    "plt.ylabel(\"Количество пользователей\")\n",
    "plt.show()\n",
    "\n",
    "print('Средняя дистация поездки пользователей с подпиской:' , round(data_users_ultra['distance'].mean()))\n",
    "print('Средняя дистация поездки пользователей без подписки:' ,round(data_users_free['distance'].mean()))\n",
    "\n",
    "\n",
    "ax=data_users_ultra.plot(\n",
    "    kind='hist',\n",
    "    y='duration',\n",
    "    histtype='step',\n",
    "    range=(0, 45),\n",
    "    bins=100,\n",
    "    linewidth=4,\n",
    "    alpha=0.5,\n",
    "    label='Время поездки пользователей с подпиской',\n",
    "    figsize=(16, 5),\n",
    "    grid=True,\n",
    "    color='turquoise',\n",
    "    legend=True,\n",
    ") \n",
    "data_users_free.plot(\n",
    "    kind='hist',\n",
    "    y='duration',\n",
    "    histtype='step',\n",
    "    range=(0, 45),\n",
    "    bins=100,\n",
    "    linewidth=4,\n",
    "    ax=ax,\n",
    "    grid=True,\n",
    "    alpha=0.5,\n",
    "    color='teal',\n",
    "    label='Время поездки пользователей без подписки',\n",
    ")  \n",
    "plt.title(\"Сравнение времени поездки пользователей с подпиской и без\")\n",
    "plt.xlabel(\"Время поездки в минутах\")\n",
    "plt.ylabel(\"Количество пользователей\")\n",
    "plt.show()"
   ]
  },
  {
   "cell_type": "markdown",
   "id": "d45b596c",
   "metadata": {},
   "source": [
    "#### Вывод:\n",
    "Сравнив расстояние, которое преодолевают пользователи с подпиской и без подписки, можно выделить следущее:\n",
    "   1. Пользователей с подпиской почти в 2 раза больше чем без подписки - 11567 и 6500 соответственно\n",
    "   2. В среднем пользователи с подпиской ездят немного дальше чем пользователи без подписки, при этом распределение значений у пользователей без подписки шире - от 2-4 км, против 2,5-3,5 км\n",
    "   3. По продолжительности поездок распределение практически одинаковое с учетом того что пользователей с подпиской почти в два раза меньше пользователей без подписки. В среднем поездка длится от 10 до 25 минут\n",
    "    "
   ]
  },
  {
   "cell_type": "markdown",
   "id": "a862d86e",
   "metadata": {},
   "source": [
    "### Подсчёт выручки"
   ]
  },
  {
   "cell_type": "markdown",
   "id": "9ad868ac",
   "metadata": {},
   "source": [
    "Округляем продолжительность каждой поездки:"
   ]
  },
  {
   "cell_type": "code",
   "execution_count": 24,
   "id": "6ef26a55",
   "metadata": {
    "scrolled": true
   },
   "outputs": [
    {
     "data": {
      "text/html": [
       "<div>\n",
       "<style scoped>\n",
       "    .dataframe tbody tr th:only-of-type {\n",
       "        vertical-align: middle;\n",
       "    }\n",
       "\n",
       "    .dataframe tbody tr th {\n",
       "        vertical-align: top;\n",
       "    }\n",
       "\n",
       "    .dataframe thead th {\n",
       "        text-align: right;\n",
       "    }\n",
       "</style>\n",
       "<table border=\"1\" class=\"dataframe\">\n",
       "  <thead>\n",
       "    <tr style=\"text-align: right;\">\n",
       "      <th></th>\n",
       "      <th>user_id</th>\n",
       "      <th>name</th>\n",
       "      <th>age</th>\n",
       "      <th>city</th>\n",
       "      <th>subscription_type</th>\n",
       "      <th>distance</th>\n",
       "      <th>duration</th>\n",
       "      <th>date</th>\n",
       "      <th>month</th>\n",
       "      <th>minute_price</th>\n",
       "      <th>start_ride_price</th>\n",
       "      <th>subscription_fee</th>\n",
       "    </tr>\n",
       "  </thead>\n",
       "  <tbody>\n",
       "    <tr>\n",
       "      <th>0</th>\n",
       "      <td>1</td>\n",
       "      <td>Кира</td>\n",
       "      <td>22</td>\n",
       "      <td>Тюмень</td>\n",
       "      <td>ultra</td>\n",
       "      <td>4409.919140</td>\n",
       "      <td>26.0</td>\n",
       "      <td>2021-01-01</td>\n",
       "      <td>1</td>\n",
       "      <td>6</td>\n",
       "      <td>0</td>\n",
       "      <td>199</td>\n",
       "    </tr>\n",
       "    <tr>\n",
       "      <th>1</th>\n",
       "      <td>1</td>\n",
       "      <td>Кира</td>\n",
       "      <td>22</td>\n",
       "      <td>Тюмень</td>\n",
       "      <td>ultra</td>\n",
       "      <td>2617.592153</td>\n",
       "      <td>16.0</td>\n",
       "      <td>2021-01-18</td>\n",
       "      <td>1</td>\n",
       "      <td>6</td>\n",
       "      <td>0</td>\n",
       "      <td>199</td>\n",
       "    </tr>\n",
       "    <tr>\n",
       "      <th>2</th>\n",
       "      <td>1</td>\n",
       "      <td>Кира</td>\n",
       "      <td>22</td>\n",
       "      <td>Тюмень</td>\n",
       "      <td>ultra</td>\n",
       "      <td>754.159807</td>\n",
       "      <td>7.0</td>\n",
       "      <td>2021-04-20</td>\n",
       "      <td>4</td>\n",
       "      <td>6</td>\n",
       "      <td>0</td>\n",
       "      <td>199</td>\n",
       "    </tr>\n",
       "    <tr>\n",
       "      <th>3</th>\n",
       "      <td>1</td>\n",
       "      <td>Кира</td>\n",
       "      <td>22</td>\n",
       "      <td>Тюмень</td>\n",
       "      <td>ultra</td>\n",
       "      <td>2694.783254</td>\n",
       "      <td>19.0</td>\n",
       "      <td>2021-08-11</td>\n",
       "      <td>8</td>\n",
       "      <td>6</td>\n",
       "      <td>0</td>\n",
       "      <td>199</td>\n",
       "    </tr>\n",
       "    <tr>\n",
       "      <th>4</th>\n",
       "      <td>1</td>\n",
       "      <td>Кира</td>\n",
       "      <td>22</td>\n",
       "      <td>Тюмень</td>\n",
       "      <td>ultra</td>\n",
       "      <td>4028.687306</td>\n",
       "      <td>27.0</td>\n",
       "      <td>2021-08-28</td>\n",
       "      <td>8</td>\n",
       "      <td>6</td>\n",
       "      <td>0</td>\n",
       "      <td>199</td>\n",
       "    </tr>\n",
       "  </tbody>\n",
       "</table>\n",
       "</div>"
      ],
      "text/plain": [
       "   user_id  name  age    city subscription_type     distance  duration  \\\n",
       "0        1  Кира   22  Тюмень             ultra  4409.919140      26.0   \n",
       "1        1  Кира   22  Тюмень             ultra  2617.592153      16.0   \n",
       "2        1  Кира   22  Тюмень             ultra   754.159807       7.0   \n",
       "3        1  Кира   22  Тюмень             ultra  2694.783254      19.0   \n",
       "4        1  Кира   22  Тюмень             ultra  4028.687306      27.0   \n",
       "\n",
       "        date  month  minute_price  start_ride_price  subscription_fee  \n",
       "0 2021-01-01      1             6                 0               199  \n",
       "1 2021-01-18      1             6                 0               199  \n",
       "2 2021-04-20      4             6                 0               199  \n",
       "3 2021-08-11      8             6                 0               199  \n",
       "4 2021-08-28      8             6                 0               199  "
      ]
     },
     "execution_count": 24,
     "metadata": {},
     "output_type": "execute_result"
    }
   ],
   "source": [
    "summary_data['duration'] = np.ceil(summary_data['duration']) \n",
    "summary_data.head()"
   ]
  },
  {
   "cell_type": "markdown",
   "id": "d59a9135",
   "metadata": {},
   "source": [
    "\n",
    "\n",
    "Агреггируем данные по user_id и month, переименовываем столбцы\n"
   ]
  },
  {
   "cell_type": "code",
   "execution_count": 25,
   "id": "52ddea4f",
   "metadata": {
    "scrolled": false
   },
   "outputs": [
    {
     "data": {
      "text/html": [
       "<div>\n",
       "<style scoped>\n",
       "    .dataframe tbody tr th:only-of-type {\n",
       "        vertical-align: middle;\n",
       "    }\n",
       "\n",
       "    .dataframe tbody tr th {\n",
       "        vertical-align: top;\n",
       "    }\n",
       "\n",
       "    .dataframe thead th {\n",
       "        text-align: right;\n",
       "    }\n",
       "</style>\n",
       "<table border=\"1\" class=\"dataframe\">\n",
       "  <thead>\n",
       "    <tr style=\"text-align: right;\">\n",
       "      <th></th>\n",
       "      <th></th>\n",
       "      <th></th>\n",
       "      <th>distance</th>\n",
       "      <th>duration</th>\n",
       "      <th>number_trips</th>\n",
       "      <th>minute_price</th>\n",
       "      <th>start_ride_price</th>\n",
       "      <th>subscription_fee</th>\n",
       "    </tr>\n",
       "    <tr>\n",
       "      <th>user_id</th>\n",
       "      <th>month</th>\n",
       "      <th>subscription_type</th>\n",
       "      <th></th>\n",
       "      <th></th>\n",
       "      <th></th>\n",
       "      <th></th>\n",
       "      <th></th>\n",
       "      <th></th>\n",
       "    </tr>\n",
       "  </thead>\n",
       "  <tbody>\n",
       "    <tr>\n",
       "      <th rowspan=\"6\" valign=\"top\">1</th>\n",
       "      <th>1</th>\n",
       "      <th>ultra</th>\n",
       "      <td>7027.511294</td>\n",
       "      <td>42.0</td>\n",
       "      <td>2</td>\n",
       "      <td>6</td>\n",
       "      <td>0</td>\n",
       "      <td>199</td>\n",
       "    </tr>\n",
       "    <tr>\n",
       "      <th>4</th>\n",
       "      <th>ultra</th>\n",
       "      <td>754.159807</td>\n",
       "      <td>7.0</td>\n",
       "      <td>1</td>\n",
       "      <td>6</td>\n",
       "      <td>0</td>\n",
       "      <td>199</td>\n",
       "    </tr>\n",
       "    <tr>\n",
       "      <th>8</th>\n",
       "      <th>ultra</th>\n",
       "      <td>6723.470560</td>\n",
       "      <td>46.0</td>\n",
       "      <td>2</td>\n",
       "      <td>6</td>\n",
       "      <td>0</td>\n",
       "      <td>199</td>\n",
       "    </tr>\n",
       "    <tr>\n",
       "      <th>10</th>\n",
       "      <th>ultra</th>\n",
       "      <td>5809.911100</td>\n",
       "      <td>32.0</td>\n",
       "      <td>2</td>\n",
       "      <td>6</td>\n",
       "      <td>0</td>\n",
       "      <td>199</td>\n",
       "    </tr>\n",
       "    <tr>\n",
       "      <th>11</th>\n",
       "      <th>ultra</th>\n",
       "      <td>7003.499363</td>\n",
       "      <td>56.0</td>\n",
       "      <td>3</td>\n",
       "      <td>6</td>\n",
       "      <td>0</td>\n",
       "      <td>199</td>\n",
       "    </tr>\n",
       "    <tr>\n",
       "      <th>12</th>\n",
       "      <th>ultra</th>\n",
       "      <td>6751.629942</td>\n",
       "      <td>28.0</td>\n",
       "      <td>2</td>\n",
       "      <td>6</td>\n",
       "      <td>0</td>\n",
       "      <td>199</td>\n",
       "    </tr>\n",
       "    <tr>\n",
       "      <th rowspan=\"4\" valign=\"top\">2</th>\n",
       "      <th>3</th>\n",
       "      <th>ultra</th>\n",
       "      <td>10187.723006</td>\n",
       "      <td>63.0</td>\n",
       "      <td>3</td>\n",
       "      <td>6</td>\n",
       "      <td>0</td>\n",
       "      <td>199</td>\n",
       "    </tr>\n",
       "    <tr>\n",
       "      <th>4</th>\n",
       "      <th>ultra</th>\n",
       "      <td>6164.381824</td>\n",
       "      <td>40.0</td>\n",
       "      <td>2</td>\n",
       "      <td>6</td>\n",
       "      <td>0</td>\n",
       "      <td>199</td>\n",
       "    </tr>\n",
       "    <tr>\n",
       "      <th>6</th>\n",
       "      <th>ultra</th>\n",
       "      <td>3255.338202</td>\n",
       "      <td>14.0</td>\n",
       "      <td>1</td>\n",
       "      <td>6</td>\n",
       "      <td>0</td>\n",
       "      <td>199</td>\n",
       "    </tr>\n",
       "    <tr>\n",
       "      <th>7</th>\n",
       "      <th>ultra</th>\n",
       "      <td>6780.722964</td>\n",
       "      <td>48.0</td>\n",
       "      <td>2</td>\n",
       "      <td>6</td>\n",
       "      <td>0</td>\n",
       "      <td>199</td>\n",
       "    </tr>\n",
       "  </tbody>\n",
       "</table>\n",
       "</div>"
      ],
      "text/plain": [
       "                                     distance  duration  number_trips  \\\n",
       "user_id month subscription_type                                         \n",
       "1       1     ultra               7027.511294      42.0             2   \n",
       "        4     ultra                754.159807       7.0             1   \n",
       "        8     ultra               6723.470560      46.0             2   \n",
       "        10    ultra               5809.911100      32.0             2   \n",
       "        11    ultra               7003.499363      56.0             3   \n",
       "        12    ultra               6751.629942      28.0             2   \n",
       "2       3     ultra              10187.723006      63.0             3   \n",
       "        4     ultra               6164.381824      40.0             2   \n",
       "        6     ultra               3255.338202      14.0             1   \n",
       "        7     ultra               6780.722964      48.0             2   \n",
       "\n",
       "                                 minute_price  start_ride_price  \\\n",
       "user_id month subscription_type                                   \n",
       "1       1     ultra                         6                 0   \n",
       "        4     ultra                         6                 0   \n",
       "        8     ultra                         6                 0   \n",
       "        10    ultra                         6                 0   \n",
       "        11    ultra                         6                 0   \n",
       "        12    ultra                         6                 0   \n",
       "2       3     ultra                         6                 0   \n",
       "        4     ultra                         6                 0   \n",
       "        6     ultra                         6                 0   \n",
       "        7     ultra                         6                 0   \n",
       "\n",
       "                                 subscription_fee  \n",
       "user_id month subscription_type                    \n",
       "1       1     ultra                           199  \n",
       "        4     ultra                           199  \n",
       "        8     ultra                           199  \n",
       "        10    ultra                           199  \n",
       "        11    ultra                           199  \n",
       "        12    ultra                           199  \n",
       "2       3     ultra                           199  \n",
       "        4     ultra                           199  \n",
       "        6     ultra                           199  \n",
       "        7     ultra                           199  "
      ]
     },
     "execution_count": 25,
     "metadata": {},
     "output_type": "execute_result"
    }
   ],
   "source": [
    "summary_data_grouped = summary_data.groupby(['user_id','month','subscription_type']).agg({'distance':'sum', 'duration':'sum','user_id':'count','minute_price':'mean','start_ride_price':'mean','subscription_fee':'mean', })\n",
    "summary_data_grouped.columns = ['distance','duration','number_trips','minute_price','start_ride_price','subscription_fee']\n",
    "summary_data_grouped.head(10)"
   ]
  },
  {
   "cell_type": "markdown",
   "id": "76bdc5d9",
   "metadata": {},
   "source": [
    "Создадим функцию для расчета выручки, которая считается так: (стоимость старта поездки × количество поездок)+ (стоимость одной минуты поездки × общая продолжительность всех поездок в минутах)+ стоимость подписки.\n",
    "Передадим данные в новый столбец в датафрейме summary_data_grouped['revenue'].\n",
    "Создадим датафреймы с пользователями с подпиской и без нее."
   ]
  },
  {
   "cell_type": "code",
   "execution_count": 26,
   "id": "e8fd887f",
   "metadata": {
    "scrolled": false
   },
   "outputs": [
    {
     "data": {
      "text/html": [
       "<div>\n",
       "<style scoped>\n",
       "    .dataframe tbody tr th:only-of-type {\n",
       "        vertical-align: middle;\n",
       "    }\n",
       "\n",
       "    .dataframe tbody tr th {\n",
       "        vertical-align: top;\n",
       "    }\n",
       "\n",
       "    .dataframe thead th {\n",
       "        text-align: right;\n",
       "    }\n",
       "</style>\n",
       "<table border=\"1\" class=\"dataframe\">\n",
       "  <thead>\n",
       "    <tr style=\"text-align: right;\">\n",
       "      <th></th>\n",
       "      <th></th>\n",
       "      <th></th>\n",
       "      <th>distance</th>\n",
       "      <th>duration</th>\n",
       "      <th>number_trips</th>\n",
       "      <th>minute_price</th>\n",
       "      <th>start_ride_price</th>\n",
       "      <th>subscription_fee</th>\n",
       "      <th>revenue</th>\n",
       "    </tr>\n",
       "    <tr>\n",
       "      <th>user_id</th>\n",
       "      <th>month</th>\n",
       "      <th>subscription_type</th>\n",
       "      <th></th>\n",
       "      <th></th>\n",
       "      <th></th>\n",
       "      <th></th>\n",
       "      <th></th>\n",
       "      <th></th>\n",
       "      <th></th>\n",
       "    </tr>\n",
       "  </thead>\n",
       "  <tbody>\n",
       "    <tr>\n",
       "      <th rowspan=\"5\" valign=\"top\">1</th>\n",
       "      <th>1</th>\n",
       "      <th>ultra</th>\n",
       "      <td>7027.511294</td>\n",
       "      <td>42.0</td>\n",
       "      <td>2</td>\n",
       "      <td>6</td>\n",
       "      <td>0</td>\n",
       "      <td>199</td>\n",
       "      <td>451.0</td>\n",
       "    </tr>\n",
       "    <tr>\n",
       "      <th>4</th>\n",
       "      <th>ultra</th>\n",
       "      <td>754.159807</td>\n",
       "      <td>7.0</td>\n",
       "      <td>1</td>\n",
       "      <td>6</td>\n",
       "      <td>0</td>\n",
       "      <td>199</td>\n",
       "      <td>241.0</td>\n",
       "    </tr>\n",
       "    <tr>\n",
       "      <th>8</th>\n",
       "      <th>ultra</th>\n",
       "      <td>6723.470560</td>\n",
       "      <td>46.0</td>\n",
       "      <td>2</td>\n",
       "      <td>6</td>\n",
       "      <td>0</td>\n",
       "      <td>199</td>\n",
       "      <td>475.0</td>\n",
       "    </tr>\n",
       "    <tr>\n",
       "      <th>10</th>\n",
       "      <th>ultra</th>\n",
       "      <td>5809.911100</td>\n",
       "      <td>32.0</td>\n",
       "      <td>2</td>\n",
       "      <td>6</td>\n",
       "      <td>0</td>\n",
       "      <td>199</td>\n",
       "      <td>391.0</td>\n",
       "    </tr>\n",
       "    <tr>\n",
       "      <th>11</th>\n",
       "      <th>ultra</th>\n",
       "      <td>7003.499363</td>\n",
       "      <td>56.0</td>\n",
       "      <td>3</td>\n",
       "      <td>6</td>\n",
       "      <td>0</td>\n",
       "      <td>199</td>\n",
       "      <td>535.0</td>\n",
       "    </tr>\n",
       "  </tbody>\n",
       "</table>\n",
       "</div>"
      ],
      "text/plain": [
       "                                    distance  duration  number_trips  \\\n",
       "user_id month subscription_type                                        \n",
       "1       1     ultra              7027.511294      42.0             2   \n",
       "        4     ultra               754.159807       7.0             1   \n",
       "        8     ultra              6723.470560      46.0             2   \n",
       "        10    ultra              5809.911100      32.0             2   \n",
       "        11    ultra              7003.499363      56.0             3   \n",
       "\n",
       "                                 minute_price  start_ride_price  \\\n",
       "user_id month subscription_type                                   \n",
       "1       1     ultra                         6                 0   \n",
       "        4     ultra                         6                 0   \n",
       "        8     ultra                         6                 0   \n",
       "        10    ultra                         6                 0   \n",
       "        11    ultra                         6                 0   \n",
       "\n",
       "                                 subscription_fee  revenue  \n",
       "user_id month subscription_type                             \n",
       "1       1     ultra                           199    451.0  \n",
       "        4     ultra                           199    241.0  \n",
       "        8     ultra                           199    475.0  \n",
       "        10    ultra                           199    391.0  \n",
       "        11    ultra                           199    535.0  "
      ]
     },
     "metadata": {},
     "output_type": "display_data"
    }
   ],
   "source": [
    "def revenue(row):\n",
    "    start_ride_price = row['start_ride_price']\n",
    "    number_trips = row['number_trips']\n",
    "    minute_price = row['minute_price']\n",
    "    duration = row['duration']\n",
    "    subscription_fee = row['subscription_fee']\n",
    "    revenue = (start_ride_price*number_trips)+(minute_price*duration)+subscription_fee\n",
    "    return revenue\n",
    "summary_data_grouped['revenue'] = summary_data_grouped.apply(revenue, axis=1)\n",
    "display(summary_data_grouped.head())\n"
   ]
  },
  {
   "cell_type": "markdown",
   "id": "a6fae296",
   "metadata": {},
   "source": [
    "### Проверка гипотез"
   ]
  },
  {
   "cell_type": "markdown",
   "id": "2dbd22f1",
   "metadata": {},
   "source": [
    "Продакт-менеджеры сервиса хотят увеличить количество пользователей с подпиской. Нужно проверить следущие гипотезы:"
   ]
  },
  {
   "cell_type": "markdown",
   "id": "23add94f",
   "metadata": {},
   "source": [
    "#### Важно понять, тратят ли пользователи с подпиской больше времени на поездки? Если да, то пользователи с подпиской могут быть «выгоднее» для компании. Проверим гипотезу. Используем исходные данные о продолжительности каждой сессии — отдельно для подписчиков и тех, у кого нет подписки.\n",
    "Нулевая гипотеза (H0) - у пользователей с подпиской средний показатель продолжительности поездки такой же как у пользователей без подписки\n",
    "\n",
    "Альтернативная гипотеза (H1) - у пользователей с подпиской средний показатель продолжительности поездки больше чем у пользователей без подписки"
   ]
  },
  {
   "cell_type": "code",
   "execution_count": 27,
   "id": "01d41acf",
   "metadata": {},
   "outputs": [
    {
     "name": "stdout",
     "output_type": "stream",
     "text": [
      "p-value: 7.941653287174216e-23\n",
      "Отвергаем нулевую гипотезу\n",
      "\n",
      "Средняя продолжительность поездки пользователей с подпиской: 19 минут\n",
      "Средняя продолжительность поездки пользователей без подписки: 18 минут\n"
     ]
    }
   ],
   "source": [
    "# задаём уровень значимости\n",
    "alpha = 0.05\n",
    "\n",
    "# проводим ttest для двух выборок, в качестве альтернативной используем одностороннюю гипотезу \"больше\"\n",
    "results = st.ttest_ind(data_users_ultra['duration'], data_users_free['duration'], alternative='greater')\n",
    "\n",
    "print(f'p-value: {results.pvalue}')\n",
    "\n",
    "# проверяем p-value\n",
    "if results.pvalue < alpha:\n",
    "    print('Отвергаем нулевую гипотезу')\n",
    "else:\n",
    "    print('Нет оснований отвергнуть нулевую гипотезу')\n",
    "\n",
    "\n",
    "print()    \n",
    "print('Средняя продолжительность поездки пользователей с подпиской:' , round(data_users_ultra['duration'].mean()),'минут')\n",
    "print('Средняя продолжительность поездки пользователей без подписки:' ,round(data_users_free['duration'].mean()),'минут')"
   ]
  },
  {
   "cell_type": "markdown",
   "id": "7022f59c",
   "metadata": {},
   "source": [
    "Вывод: пользователи с подпиской тратят больше времени на поездки чем пользователи без подписки"
   ]
  },
  {
   "cell_type": "markdown",
   "id": "8d6d2f8f",
   "metadata": {},
   "source": [
    "#### Расстояние одной поездки в 3130 метров — оптимальное с точки зрения износа самоката. Можно ли сказать, что расстояние, которое проезжают пользователи с подпиской за одну поездку, не превышает 3130 метров? Проверим гипотезу и сделаем выводы.\n",
    "\n",
    "Нулевая гипотеза (H0) - пользователи с подпиской за одну сессию проезжают в среднем 3130 метров\n",
    "\n",
    "Альтернативная гипотеза (H1) - пользователи с подпиской за одну сессию проезжают больше 3130 метров"
   ]
  },
  {
   "cell_type": "code",
   "execution_count": 28,
   "id": "f3067a8f",
   "metadata": {},
   "outputs": [
    {
     "name": "stdout",
     "output_type": "stream",
     "text": [
      "p-значение: 0.9195368847849785\n",
      "Нет оснований отвергнуть нулевую гипотезу\n"
     ]
    }
   ],
   "source": [
    "# time_at_site = pd.read_csv('/datasets/user_time.csv')\n",
    "\n",
    "optimal_distance = 3130 # оптимальное расстояние с точки зрения износа самоката \n",
    "\n",
    "alpha = 0.01 # уровень статистической значимости\n",
    "\n",
    "\n",
    "results = st.ttest_1samp(\n",
    "    data_users_ultra['distance'], \n",
    "    optimal_distance,\n",
    "    alternative='greater')\n",
    "\n",
    "print('p-значение:', results.pvalue)\n",
    "\n",
    "if results.pvalue < alpha:\n",
    "    print('Отвергаем нулевую гипотезу')\n",
    "else:\n",
    "    print('Нет оснований отвергнуть нулевую гипотезу')\n",
    "\n"
   ]
  },
  {
   "cell_type": "markdown",
   "id": "c3d3b236",
   "metadata": {},
   "source": [
    "Вывод: у пользователей с подпиской средний показатель дистанции поездки примерно равен 3130, что является оптимальным значением с точки зрения износа самоката"
   ]
  },
  {
   "cell_type": "markdown",
   "id": "0b333d0a",
   "metadata": {},
   "source": [
    "#### Проверим гипотезу о том, будет ли помесячная выручка от пользователей с подпиской по месяцам выше, чем выручка от пользователей без подписки. Сделаем вывод.\n",
    "Нулевая гипотеза (H0) - помесячная выручка от пользователей с подпиской по месяцам равна выручке от пользователей без подписки.\n",
    "Альтернативная гипотеза (H1) - помесячная выручка от пользователей с подпиской по месяцам выше, чем выручка от пользователей без подписки."
   ]
  },
  {
   "cell_type": "code",
   "execution_count": 29,
   "id": "8bb1ae73",
   "metadata": {},
   "outputs": [
    {
     "data": {
      "text/html": [
       "<div>\n",
       "<style scoped>\n",
       "    .dataframe tbody tr th:only-of-type {\n",
       "        vertical-align: middle;\n",
       "    }\n",
       "\n",
       "    .dataframe tbody tr th {\n",
       "        vertical-align: top;\n",
       "    }\n",
       "\n",
       "    .dataframe thead th {\n",
       "        text-align: right;\n",
       "    }\n",
       "</style>\n",
       "<table border=\"1\" class=\"dataframe\">\n",
       "  <thead>\n",
       "    <tr style=\"text-align: right;\">\n",
       "      <th></th>\n",
       "      <th></th>\n",
       "      <th></th>\n",
       "      <th>distance</th>\n",
       "      <th>duration</th>\n",
       "      <th>number_trips</th>\n",
       "      <th>minute_price</th>\n",
       "      <th>start_ride_price</th>\n",
       "      <th>subscription_fee</th>\n",
       "      <th>revenue</th>\n",
       "    </tr>\n",
       "    <tr>\n",
       "      <th>user_id</th>\n",
       "      <th>month</th>\n",
       "      <th>subscription_type</th>\n",
       "      <th></th>\n",
       "      <th></th>\n",
       "      <th></th>\n",
       "      <th></th>\n",
       "      <th></th>\n",
       "      <th></th>\n",
       "      <th></th>\n",
       "    </tr>\n",
       "  </thead>\n",
       "  <tbody>\n",
       "    <tr>\n",
       "      <th rowspan=\"5\" valign=\"top\">1</th>\n",
       "      <th>1</th>\n",
       "      <th>ultra</th>\n",
       "      <td>7027.511294</td>\n",
       "      <td>42.0</td>\n",
       "      <td>2</td>\n",
       "      <td>6</td>\n",
       "      <td>0</td>\n",
       "      <td>199</td>\n",
       "      <td>451.0</td>\n",
       "    </tr>\n",
       "    <tr>\n",
       "      <th>4</th>\n",
       "      <th>ultra</th>\n",
       "      <td>754.159807</td>\n",
       "      <td>7.0</td>\n",
       "      <td>1</td>\n",
       "      <td>6</td>\n",
       "      <td>0</td>\n",
       "      <td>199</td>\n",
       "      <td>241.0</td>\n",
       "    </tr>\n",
       "    <tr>\n",
       "      <th>8</th>\n",
       "      <th>ultra</th>\n",
       "      <td>6723.470560</td>\n",
       "      <td>46.0</td>\n",
       "      <td>2</td>\n",
       "      <td>6</td>\n",
       "      <td>0</td>\n",
       "      <td>199</td>\n",
       "      <td>475.0</td>\n",
       "    </tr>\n",
       "    <tr>\n",
       "      <th>10</th>\n",
       "      <th>ultra</th>\n",
       "      <td>5809.911100</td>\n",
       "      <td>32.0</td>\n",
       "      <td>2</td>\n",
       "      <td>6</td>\n",
       "      <td>0</td>\n",
       "      <td>199</td>\n",
       "      <td>391.0</td>\n",
       "    </tr>\n",
       "    <tr>\n",
       "      <th>11</th>\n",
       "      <th>ultra</th>\n",
       "      <td>7003.499363</td>\n",
       "      <td>56.0</td>\n",
       "      <td>3</td>\n",
       "      <td>6</td>\n",
       "      <td>0</td>\n",
       "      <td>199</td>\n",
       "      <td>535.0</td>\n",
       "    </tr>\n",
       "  </tbody>\n",
       "</table>\n",
       "</div>"
      ],
      "text/plain": [
       "                                    distance  duration  number_trips  \\\n",
       "user_id month subscription_type                                        \n",
       "1       1     ultra              7027.511294      42.0             2   \n",
       "        4     ultra               754.159807       7.0             1   \n",
       "        8     ultra              6723.470560      46.0             2   \n",
       "        10    ultra              5809.911100      32.0             2   \n",
       "        11    ultra              7003.499363      56.0             3   \n",
       "\n",
       "                                 minute_price  start_ride_price  \\\n",
       "user_id month subscription_type                                   \n",
       "1       1     ultra                         6                 0   \n",
       "        4     ultra                         6                 0   \n",
       "        8     ultra                         6                 0   \n",
       "        10    ultra                         6                 0   \n",
       "        11    ultra                         6                 0   \n",
       "\n",
       "                                 subscription_fee  revenue  \n",
       "user_id month subscription_type                             \n",
       "1       1     ultra                           199    451.0  \n",
       "        4     ultra                           199    241.0  \n",
       "        8     ultra                           199    475.0  \n",
       "        10    ultra                           199    391.0  \n",
       "        11    ultra                           199    535.0  "
      ]
     },
     "metadata": {},
     "output_type": "display_data"
    },
    {
     "data": {
      "text/html": [
       "<div>\n",
       "<style scoped>\n",
       "    .dataframe tbody tr th:only-of-type {\n",
       "        vertical-align: middle;\n",
       "    }\n",
       "\n",
       "    .dataframe tbody tr th {\n",
       "        vertical-align: top;\n",
       "    }\n",
       "\n",
       "    .dataframe thead th {\n",
       "        text-align: right;\n",
       "    }\n",
       "</style>\n",
       "<table border=\"1\" class=\"dataframe\">\n",
       "  <thead>\n",
       "    <tr style=\"text-align: right;\">\n",
       "      <th></th>\n",
       "      <th></th>\n",
       "      <th></th>\n",
       "      <th>distance</th>\n",
       "      <th>duration</th>\n",
       "      <th>number_trips</th>\n",
       "      <th>minute_price</th>\n",
       "      <th>start_ride_price</th>\n",
       "      <th>subscription_fee</th>\n",
       "      <th>revenue</th>\n",
       "    </tr>\n",
       "    <tr>\n",
       "      <th>user_id</th>\n",
       "      <th>month</th>\n",
       "      <th>subscription_type</th>\n",
       "      <th></th>\n",
       "      <th></th>\n",
       "      <th></th>\n",
       "      <th></th>\n",
       "      <th></th>\n",
       "      <th></th>\n",
       "      <th></th>\n",
       "    </tr>\n",
       "  </thead>\n",
       "  <tbody>\n",
       "    <tr>\n",
       "      <th rowspan=\"5\" valign=\"top\">700</th>\n",
       "      <th>1</th>\n",
       "      <th>free</th>\n",
       "      <td>2515.690719</td>\n",
       "      <td>15.0</td>\n",
       "      <td>1</td>\n",
       "      <td>8</td>\n",
       "      <td>50</td>\n",
       "      <td>0</td>\n",
       "      <td>170.0</td>\n",
       "    </tr>\n",
       "    <tr>\n",
       "      <th>2</th>\n",
       "      <th>free</th>\n",
       "      <td>13446.659764</td>\n",
       "      <td>89.0</td>\n",
       "      <td>5</td>\n",
       "      <td>8</td>\n",
       "      <td>50</td>\n",
       "      <td>0</td>\n",
       "      <td>962.0</td>\n",
       "    </tr>\n",
       "    <tr>\n",
       "      <th>3</th>\n",
       "      <th>free</th>\n",
       "      <td>3798.334905</td>\n",
       "      <td>19.0</td>\n",
       "      <td>1</td>\n",
       "      <td>8</td>\n",
       "      <td>50</td>\n",
       "      <td>0</td>\n",
       "      <td>202.0</td>\n",
       "    </tr>\n",
       "    <tr>\n",
       "      <th>4</th>\n",
       "      <th>free</th>\n",
       "      <td>2984.551206</td>\n",
       "      <td>16.0</td>\n",
       "      <td>1</td>\n",
       "      <td>8</td>\n",
       "      <td>50</td>\n",
       "      <td>0</td>\n",
       "      <td>178.0</td>\n",
       "    </tr>\n",
       "    <tr>\n",
       "      <th>6</th>\n",
       "      <th>free</th>\n",
       "      <td>5927.650988</td>\n",
       "      <td>29.0</td>\n",
       "      <td>2</td>\n",
       "      <td>8</td>\n",
       "      <td>50</td>\n",
       "      <td>0</td>\n",
       "      <td>332.0</td>\n",
       "    </tr>\n",
       "  </tbody>\n",
       "</table>\n",
       "</div>"
      ],
      "text/plain": [
       "                                     distance  duration  number_trips  \\\n",
       "user_id month subscription_type                                         \n",
       "700     1     free                2515.690719      15.0             1   \n",
       "        2     free               13446.659764      89.0             5   \n",
       "        3     free                3798.334905      19.0             1   \n",
       "        4     free                2984.551206      16.0             1   \n",
       "        6     free                5927.650988      29.0             2   \n",
       "\n",
       "                                 minute_price  start_ride_price  \\\n",
       "user_id month subscription_type                                   \n",
       "700     1     free                          8                50   \n",
       "        2     free                          8                50   \n",
       "        3     free                          8                50   \n",
       "        4     free                          8                50   \n",
       "        6     free                          8                50   \n",
       "\n",
       "                                 subscription_fee  revenue  \n",
       "user_id month subscription_type                             \n",
       "700     1     free                              0    170.0  \n",
       "        2     free                              0    962.0  \n",
       "        3     free                              0    202.0  \n",
       "        4     free                              0    178.0  \n",
       "        6     free                              0    332.0  "
      ]
     },
     "metadata": {},
     "output_type": "display_data"
    },
    {
     "name": "stdout",
     "output_type": "stream",
     "text": [
      "p-value: 7.798421951532849e-26\n",
      "Отвергаем нулевую гипотезу\n",
      "\n",
      "Средняя выручка от пользователей с подпиской: 363\n",
      "Средняя выручка от пользователей без подписки: 332\n"
     ]
    }
   ],
   "source": [
    "\n",
    "data_users_ultra_rev = summary_data_grouped.query('subscription_type == \"ultra\"')\n",
    "data_users_free_rev = summary_data_grouped.query('subscription_type == \"free\"')\n",
    "display(data_users_ultra_rev.head())\n",
    "display(data_users_free_rev.head())\n",
    "\n",
    "# задаём уровень значимости\n",
    "alpha = 0.05\n",
    "\n",
    "# проводим ttest для двух выборок, в качестве альтернативной используем одностороннюю гипотезу \"больше\"\n",
    "results = st.ttest_ind(\n",
    "    data_users_ultra_rev['revenue'],\n",
    "    data_users_free_rev['revenue'],\n",
    "    alternative='greater')\n",
    "\n",
    "print(f'p-value: {results.pvalue}')\n",
    "\n",
    "# проверяем p-value\n",
    "if results.pvalue < alpha:\n",
    "    print('Отвергаем нулевую гипотезу')\n",
    "else:\n",
    "    print('Нет оснований отвергнуть нулевую гипотезу')\n",
    "\n",
    "print()    \n",
    "print('Средняя выручка от пользователей с подпиской:' , round(data_users_ultra_rev['revenue'].mean()))\n",
    "print('Средняя выручка от пользователей без подписки:' ,round(data_users_free_rev['revenue'].mean()))\n"
   ]
  },
  {
   "cell_type": "markdown",
   "id": "09693b99",
   "metadata": {},
   "source": [
    "Вывод: помесячная выручка от пользователей с подпиской по месяцам выше, чем выручка от пользователей без подписки."
   ]
  },
  {
   "cell_type": "markdown",
   "id": "901920f1",
   "metadata": {},
   "source": [
    "#### Ответим на вопрос: \"Представьте такую ситуацию: техническая команда сервиса обновила сервера, с которыми взаимодействует мобильное приложение. Она надеется, что из-за этого количество обращений в техподдержку значимо снизилось. Некоторый файл содержит для каждого пользователя данные о количестве обращений до обновления и после него. Какой тест вам понадобился бы для проверки этой гипотезы?\""
   ]
  },
  {
   "cell_type": "markdown",
   "id": "d094cb80",
   "metadata": {},
   "source": [
    "Гипотеза о равенстве средних для зависимых (парных) выборок метод - scipy.stats.ttest_rel()"
   ]
  },
  {
   "cell_type": "markdown",
   "id": "72323cce",
   "metadata": {},
   "source": [
    "### Распределения"
   ]
  },
  {
   "cell_type": "markdown",
   "id": "82f0c7b3",
   "metadata": {},
   "source": [
    "#### Отделу маркетинга GoFast поставили задачу: \n",
    "нужно провести акцию с раздачей промокодов на один бесплатный месяц подписки, в рамках которой как минимум 100 существующих клиентов должны продлить эту подписку. То есть по завершении периода действия подписки пользователь может либо отказаться от неё, либо продлить, совершив соотвествующий платёж. \n",
    "Эта акция уже проводилась ранее и по итогу выяснилось, что после бесплатного пробного периода подписку продлевают 10 % пользователей. Выясните, какое минимальное количество промокодов нужно разослать, чтобы вероятность не выполнить план была примерно 5 %. Подберите параметры распределения, описывающего эту ситуацию, постройте график распределения и сформулируйте ответ на вопрос о количестве промокодов.\n"
   ]
  },
  {
   "cell_type": "code",
   "execution_count": 30,
   "id": "9917a7ea",
   "metadata": {
    "scrolled": true
   },
   "outputs": [
    {
     "name": "stderr",
     "output_type": "stream",
     "text": [
      "/opt/conda/lib/python3.9/site-packages/scipy/stats/_discrete_distns.py:78: RuntimeWarning: divide by zero encountered in _binom_pdf\n",
      "  return _boost._binom_pdf(x, n, p)\n"
     ]
    },
    {
     "data": {
      "text/plain": [
       "<BarContainer object of 1171 artists>"
      ]
     },
     "execution_count": 30,
     "metadata": {},
     "output_type": "execute_result"
    },
    {
     "data": {
      "image/png": "[encoded data removed]",
      "text/plain": [
       "<Figure size 432x288 with 1 Axes>"
      ]
     },
     "metadata": {
      "needs_background": "light"
     },
     "output_type": "display_data"
    }
   ],
   "source": [
    "p = 0.1#вероятность что оплатят подписку после пробного периода\n",
    "n = 1170# скольким пользователям отправим промокод\n",
    "\n",
    "distr = []\n",
    "\n",
    "for k in range(0, n + 1):\n",
    "    values_SMI = binom.pmf(k, n, p)\n",
    "    distr.append(values_SMI) #построим распределение вероятностей\n",
    "\n",
    "plt.bar(range(0, n + 1), distr) #построим гистограмму распределения вероятностей"
   ]
  },
  {
   "cell_type": "markdown",
   "id": "3be71efb",
   "metadata": {},
   "source": [
    "Проверим вероятность выполнения плана (минимум 100 клиентов продлят подписку)"
   ]
  },
  {
   "cell_type": "code",
   "execution_count": 31,
   "id": "ea8bd6a6",
   "metadata": {},
   "outputs": [
    {
     "name": "stdout",
     "output_type": "stream",
     "text": [
      "Вероятность того, что пользователь продлит подписку: 0.95121\n"
     ]
    }
   ],
   "source": [
    "d = n*p*(1-p) \n",
    "mu = n*p\n",
    "sigma = d**0.5\n",
    "distr = st.norm(mu, sigma) \n",
    "\n",
    "a = 100\n",
    "\n",
    "# найдём и выведем на экран вероятности правых хвостов для a,\n",
    "# округлив их до 5 цифр после запятой:\n",
    "print('Вероятность того, что пользователь продлит подписку:',round(1- distr.cdf(a),5))\n"
   ]
  },
  {
   "cell_type": "markdown",
   "id": "19ee6d3f",
   "metadata": {},
   "source": [
    "Вывод: чтобы маркетологам выполнить план (100 пользователей подключат подписку с продлением) с веротностью более 95% нужно отправить 1170 промокодов пользователям"
   ]
  },
  {
   "cell_type": "markdown",
   "id": "7591ce5b",
   "metadata": {},
   "source": [
    "#### Отдел маркетинга рассылает клиентам push-уведомления в мобильном приложении.\n",
    "Клиенты могут открыть его или не открывать. Известно, что уведомления открывают около 40 % получивших клиентов. Отдел планирует разослать 1 млн уведомлений. С помощью аппроксимации постройте примерный график распределения и оцените вероятность того, что уведомление откроют не более 399,5 тыс. пользователей."
   ]
  },
  {
   "cell_type": "code",
   "execution_count": 32,
   "id": "7401e87a",
   "metadata": {},
   "outputs": [
    {
     "data": {
      "image/png": "[encoded data removed]",
      "text/plain": [
       "<Figure size 432x288 with 1 Axes>"
      ]
     },
     "metadata": {
      "needs_background": "light"
     },
     "output_type": "display_data"
    },
    {
     "name": "stdout",
     "output_type": "stream",
     "text": [
      "Условие выполняется\n"
     ]
    }
   ],
   "source": [
    "def linspace(start, stop, num):\n",
    "    step = (stop - start) / (num - 1)\n",
    "    result = []\n",
    "    for i in range(num):\n",
    "        result.append(start + step * i)\n",
    "    return result\n",
    " \n",
    "# задаём параметры биномиального распределения\n",
    "n = 100\n",
    "p = 0.4\n",
    "\n",
    "# границы промежутка, в котором будем строить аппроксимацию -\n",
    "# от n*p минус 10 ст.отклонения бином.распределения\n",
    "# до n*p плюс 10 ст.отклонения бином.распределения\n",
    "# (там, где вероятности значений почти не равны нулю)\n",
    "left = int(n * p - 4* sqrt(n * p * (1 - p)))\n",
    "right = int(n * p + 4 * sqrt(n * p * (1 - p)))\n",
    " \n",
    "# зададим набор значений биномиальной величины на выбранном промежутке:\n",
    "# все неотрицательные целые числа от left до right\n",
    "x = list(range(max(0, left), right))\n",
    "# рисуем график биномиального распределения\n",
    "ax = plt.subplot()\n",
    "# используем синие о-образные маркеры и размер маркера 5\n",
    "ax.plot(x, binom.pmf(x, n, p), 'bo', ms=5, label='вероятности биномиального распределения')\n",
    "\n",
    "# зададим параметры нормального распределения равными\n",
    "# мат.ожиданию и дисперсии биномиального распределения\n",
    "mu = n * p\n",
    "sigma = sqrt(n * p * (1 - p))\n",
    " \n",
    "# рисуем график нормального распределения:\n",
    "# получим список из 100 чисел от left до right\n",
    "x = linspace(left, right, 100)\n",
    "# используем красную линию ширины 3 и прозрачности 0.3\n",
    "ax.plot(x, norm.pdf(x, mu, sigma), 'r-', lw=3, alpha=0.3, label='плотность вероятности нормального распределения')\n",
    " \n",
    "# зададим подписи по оси x в пределах ± 3 ст.отклонений от мат.ожидания\n",
    "# (последний аргумент в методе range - интервал между подписями)\n",
    "x_ticks = list(range(int(mu - 3 * sigma), int(mu + 3 * sigma), 2))\n",
    "ax.set_xticks(x_ticks)\n",
    "\n",
    "# настраиваем оптимальное расположение легенды и выводим график\n",
    "ax.legend(loc='best')\n",
    "plt.show()\n",
    "\n",
    "# выводим, выполняется ли наше условие аппроксимации:\n",
    "# лежит ли mu ± 3 sigma в промежутке от 0 до n:\n",
    "if (mu - (3 * sigma) >= 0) and ((mu + (3 * sigma) <= n)):\n",
    "    print('Условие выполняется')\n",
    "else:\n",
    "    print('Условие не выполняется')"
   ]
  },
  {
   "cell_type": "code",
   "execution_count": 33,
   "id": "1b4b1aa3",
   "metadata": {
    "scrolled": true
   },
   "outputs": [
    {
     "name": "stdout",
     "output_type": "stream",
     "text": [
      "0.15371708296369768\n"
     ]
    }
   ],
   "source": [
    "# задаём параметры биномиального распределения\n",
    "n = 1000000\n",
    "p = 0.4\n",
    "\n",
    "# задаём параметры нормального распределения равными\n",
    "# мат.ожиданию и дисперсии биномиального распределения\n",
    "mu = n * p\n",
    "sigma = sqrt(n * p * (1 - p))\n",
    "\n",
    "# задаём нормальное распределение\n",
    "distr = st.norm(mu, sigma) \n",
    "\n",
    "# считаем вероятность хвоста слева не более 399,5 тыс.\n",
    "result = distr.cdf(399500)\n",
    "print(result)"
   ]
  },
  {
   "cell_type": "markdown",
   "id": "c8ca10bb",
   "metadata": {},
   "source": [
    " Вероятность того, что уведомление откроют не более 399,5 тыс. пользователей чуть больше 15%"
   ]
  },
  {
   "cell_type": "markdown",
   "id": "fda5e9e5",
   "metadata": {},
   "source": [
    "### Итоговый Вывод"
   ]
  },
  {
   "cell_type": "markdown",
   "id": "72aab91c",
   "metadata": {},
   "source": [
    "1. Всего 3 таблицы с данными по 1534 пользователям. В таблице data_users указана информация о пользователях по категориям - город, возраст, тип подписки. В таблице data_rides_go информация о пользователях по каждой поездке - расстоянию, продолжительности, дате - всего 18068 поездок. Также здесь обнаружены и исправлены аномалии, дубликаты, неправильный тип данных. В таблице data_subscriptions_go информация о тарифах на поездки - два варианта: с подпиской и без. Пропуски в данных не обнаружены.Всего в итоге в выборке данные по 1534 пользователям и их поездкам в количестве = 18067.\n",
    "2. В выборке больше всего данных пользователей из Пятигорска и Екатеринбурга, и меньше всего - из Москвы\n",
    "3. Пользователей с подпиской на 16% меньше чем без подписки, всего по 835 и 699 пользователей соответственно. Средний возраст - 25 лет, минимальный 12 лет, максимальный 43 года. Свыше 38 лет встречается крайне редко\n",
    "4. В среднем расстояние которое преоодолеват пользователь за одну поездку - 3133м , максимум 7211, небольшая часть коротких поездок обусловлена техническими проблемами и человеческим фактором.\n",
    "5. Обычно поездка занимает от 13 до 22 минут. Корреляция между продолжительностью и временем поездки - 59.1%. Средняя скорость - 10 км в час\n",
    "6. Пользователей с подпиской почти в 2 раза больше чем без подписки - 11567 и 6500 соответственно\n",
    "7. В среднем пользователи с подпиской ездят немного дальше чем пользователи без подписки, при этом распределение значений у пользователей без подписки шире - от 2-4 км, против 2,5-3,5 км\n",
    "8. По продолжительности поездок распределение практически одинаковое с учетом того что пользователей с подпиской почти в два раза меньше пользователей без подписки. В среднем поездка длится от 10 до 25 минут\n",
    "9. Пользователи с подпиской ездят на большие расстояния чем пользователи без подписки\n",
    "10. У пользователей с подпиской средний показатель дистанции поездки примерно равен 3130, что является оптимальным значением с точки зрения износа самоката\n",
    "11. Помесячная выручка от пользователей с подпиской по месяцам выше, чем выручка от пользователей без подписки.\n",
    "\n",
    "**В целом, рекомендуются меры по увеличению подписок у пользователей, высокая вероятность повышения прибыли.**"
   ]
  }
 ],
 "metadata": {
  "ExecuteTimeLog": [
   {
    "duration": 50,
    "start_time": "2023-06-03T09:50:36.268Z"
   },
   {
    "duration": 481,
    "start_time": "2023-06-03T09:51:09.517Z"
   },
   {
    "duration": 0,
    "start_time": "2023-06-03T09:51:10.000Z"
   },
   {
    "duration": 476,
    "start_time": "2023-06-03T09:52:15.842Z"
   },
   {
    "duration": 195,
    "start_time": "2023-06-03T09:52:18.063Z"
   },
   {
    "duration": 30,
    "start_time": "2023-06-03T09:52:50.725Z"
   },
   {
    "duration": 367,
    "start_time": "2023-06-03T09:53:28.740Z"
   },
   {
    "duration": 69,
    "start_time": "2023-06-03T09:53:30.115Z"
   },
   {
    "duration": 90,
    "start_time": "2023-06-03T09:53:52.043Z"
   },
   {
    "duration": 12,
    "start_time": "2023-06-03T10:21:43.174Z"
   },
   {
    "duration": 11,
    "start_time": "2023-06-03T10:22:19.780Z"
   },
   {
    "duration": 10,
    "start_time": "2023-06-03T10:22:21.174Z"
   },
   {
    "duration": 89,
    "start_time": "2023-06-03T10:30:09.959Z"
   },
   {
    "duration": 24,
    "start_time": "2023-06-03T10:31:09.743Z"
   },
   {
    "duration": 29,
    "start_time": "2023-06-03T10:37:09.817Z"
   },
   {
    "duration": 18,
    "start_time": "2023-06-03T10:37:20.133Z"
   },
   {
    "duration": 22,
    "start_time": "2023-06-03T10:38:06.543Z"
   },
   {
    "duration": 31,
    "start_time": "2023-06-03T10:41:03.895Z"
   },
   {
    "duration": 26,
    "start_time": "2023-06-03T10:53:34.575Z"
   },
   {
    "duration": 11,
    "start_time": "2023-06-03T10:58:29.678Z"
   },
   {
    "duration": 2,
    "start_time": "2023-06-03T11:05:08.274Z"
   },
   {
    "duration": 8,
    "start_time": "2023-06-03T11:21:49.211Z"
   },
   {
    "duration": 6,
    "start_time": "2023-06-03T11:22:00.266Z"
   },
   {
    "duration": 12,
    "start_time": "2023-06-03T11:32:24.338Z"
   },
   {
    "duration": 11,
    "start_time": "2023-06-03T11:32:54.228Z"
   },
   {
    "duration": 5,
    "start_time": "2023-06-03T11:34:48.949Z"
   },
   {
    "duration": 7,
    "start_time": "2023-06-03T11:35:07.517Z"
   },
   {
    "duration": 14,
    "start_time": "2023-06-03T11:35:23.604Z"
   },
   {
    "duration": 68,
    "start_time": "2023-06-03T11:37:33.277Z"
   },
   {
    "duration": 12,
    "start_time": "2023-06-03T11:37:44.383Z"
   },
   {
    "duration": 1086,
    "start_time": "2023-06-03T11:38:02.750Z"
   },
   {
    "duration": 85,
    "start_time": "2023-06-03T11:38:03.838Z"
   },
   {
    "duration": 25,
    "start_time": "2023-06-03T11:38:03.925Z"
   },
   {
    "duration": 50,
    "start_time": "2023-06-03T11:38:03.952Z"
   },
   {
    "duration": 23,
    "start_time": "2023-06-03T11:38:04.003Z"
   },
   {
    "duration": 36,
    "start_time": "2023-06-03T11:38:04.028Z"
   },
   {
    "duration": 31,
    "start_time": "2023-06-03T11:38:04.066Z"
   },
   {
    "duration": 11,
    "start_time": "2023-06-03T11:38:13.520Z"
   },
   {
    "duration": 1106,
    "start_time": "2023-06-03T11:38:19.607Z"
   },
   {
    "duration": 82,
    "start_time": "2023-06-03T11:38:20.714Z"
   },
   {
    "duration": 28,
    "start_time": "2023-06-03T11:38:20.797Z"
   },
   {
    "duration": 35,
    "start_time": "2023-06-03T11:38:20.826Z"
   },
   {
    "duration": 10,
    "start_time": "2023-06-03T11:38:20.863Z"
   },
   {
    "duration": 23,
    "start_time": "2023-06-03T11:38:20.875Z"
   },
   {
    "duration": 27,
    "start_time": "2023-06-03T11:38:20.900Z"
   },
   {
    "duration": 23,
    "start_time": "2023-06-03T11:39:10.105Z"
   },
   {
    "duration": 1119,
    "start_time": "2023-06-03T11:39:16.800Z"
   },
   {
    "duration": 81,
    "start_time": "2023-06-03T11:39:17.921Z"
   },
   {
    "duration": 24,
    "start_time": "2023-06-03T11:39:18.004Z"
   },
   {
    "duration": 44,
    "start_time": "2023-06-03T11:39:18.030Z"
   },
   {
    "duration": 11,
    "start_time": "2023-06-03T11:39:18.075Z"
   },
   {
    "duration": 23,
    "start_time": "2023-06-03T11:39:18.087Z"
   },
   {
    "duration": 13,
    "start_time": "2023-06-03T11:39:18.111Z"
   },
   {
    "duration": 32,
    "start_time": "2023-06-03T11:39:18.126Z"
   },
   {
    "duration": 23,
    "start_time": "2023-06-03T11:39:27.399Z"
   },
   {
    "duration": 25,
    "start_time": "2023-06-03T11:39:57.796Z"
   },
   {
    "duration": 23,
    "start_time": "2023-06-03T11:40:30.938Z"
   },
   {
    "duration": 25,
    "start_time": "2023-06-03T11:42:31.372Z"
   },
   {
    "duration": 1145,
    "start_time": "2023-06-03T11:44:57.703Z"
   },
   {
    "duration": 80,
    "start_time": "2023-06-03T11:44:58.850Z"
   },
   {
    "duration": 25,
    "start_time": "2023-06-03T11:44:58.931Z"
   },
   {
    "duration": 37,
    "start_time": "2023-06-03T11:44:58.958Z"
   },
   {
    "duration": 31,
    "start_time": "2023-06-03T11:44:58.997Z"
   },
   {
    "duration": 27,
    "start_time": "2023-06-03T11:44:59.029Z"
   },
   {
    "duration": 12,
    "start_time": "2023-06-03T11:44:59.058Z"
   },
   {
    "duration": 23,
    "start_time": "2023-06-03T11:44:59.071Z"
   },
   {
    "duration": 98,
    "start_time": "2023-06-03T11:49:31.168Z"
   },
   {
    "duration": 5,
    "start_time": "2023-06-03T11:50:02.518Z"
   },
   {
    "duration": 24,
    "start_time": "2023-06-03T11:50:42.699Z"
   },
   {
    "duration": 4,
    "start_time": "2023-06-03T11:51:00.819Z"
   },
   {
    "duration": 5,
    "start_time": "2023-06-03T11:51:03.304Z"
   },
   {
    "duration": 1137,
    "start_time": "2023-06-03T11:51:10.501Z"
   },
   {
    "duration": 81,
    "start_time": "2023-06-03T11:51:11.641Z"
   },
   {
    "duration": 24,
    "start_time": "2023-06-03T11:51:11.723Z"
   },
   {
    "duration": 27,
    "start_time": "2023-06-03T11:51:11.748Z"
   },
   {
    "duration": 9,
    "start_time": "2023-06-03T11:51:11.777Z"
   },
   {
    "duration": 39,
    "start_time": "2023-06-03T11:51:11.788Z"
   },
   {
    "duration": 13,
    "start_time": "2023-06-03T11:51:11.829Z"
   },
   {
    "duration": 31,
    "start_time": "2023-06-03T11:51:11.843Z"
   },
   {
    "duration": 4,
    "start_time": "2023-06-03T11:51:11.876Z"
   },
   {
    "duration": 6,
    "start_time": "2023-06-03T11:52:00.666Z"
   },
   {
    "duration": 7,
    "start_time": "2023-06-03T11:52:09.026Z"
   },
   {
    "duration": 6,
    "start_time": "2023-06-03T11:52:11.487Z"
   },
   {
    "duration": 6,
    "start_time": "2023-06-03T11:52:19.739Z"
   },
   {
    "duration": 296,
    "start_time": "2023-06-03T11:54:31.293Z"
   },
   {
    "duration": 1039,
    "start_time": "2023-06-03T11:56:26.071Z"
   },
   {
    "duration": 79,
    "start_time": "2023-06-03T11:56:27.112Z"
   },
   {
    "duration": 26,
    "start_time": "2023-06-03T11:56:27.192Z"
   },
   {
    "duration": 27,
    "start_time": "2023-06-03T11:56:27.219Z"
   },
   {
    "duration": 10,
    "start_time": "2023-06-03T11:56:27.248Z"
   },
   {
    "duration": 17,
    "start_time": "2023-06-03T11:56:27.259Z"
   },
   {
    "duration": 13,
    "start_time": "2023-06-03T11:56:27.278Z"
   },
   {
    "duration": 49,
    "start_time": "2023-06-03T11:56:27.292Z"
   },
   {
    "duration": 1101,
    "start_time": "2023-06-03T11:59:03.674Z"
   },
   {
    "duration": 100,
    "start_time": "2023-06-03T11:59:04.778Z"
   },
   {
    "duration": 35,
    "start_time": "2023-06-03T11:59:04.880Z"
   },
   {
    "duration": 39,
    "start_time": "2023-06-03T11:59:04.918Z"
   },
   {
    "duration": 46,
    "start_time": "2023-06-03T11:59:04.960Z"
   },
   {
    "duration": 42,
    "start_time": "2023-06-03T11:59:05.008Z"
   },
   {
    "duration": 13,
    "start_time": "2023-06-03T11:59:05.051Z"
   },
   {
    "duration": 46,
    "start_time": "2023-06-03T11:59:05.066Z"
   },
   {
    "duration": 1877,
    "start_time": "2023-06-03T11:59:05.113Z"
   },
   {
    "duration": 1976,
    "start_time": "2023-06-03T11:59:53.162Z"
   },
   {
    "duration": 142,
    "start_time": "2023-06-03T12:00:00.801Z"
   },
   {
    "duration": 83,
    "start_time": "2023-06-03T12:00:28.969Z"
   },
   {
    "duration": 77,
    "start_time": "2023-06-03T12:00:47.314Z"
   },
   {
    "duration": 164,
    "start_time": "2023-06-03T12:01:29.625Z"
   },
   {
    "duration": 8,
    "start_time": "2023-06-03T12:05:26.718Z"
   },
   {
    "duration": 1114,
    "start_time": "2023-06-03T12:06:06.829Z"
   },
   {
    "duration": 81,
    "start_time": "2023-06-03T12:06:07.945Z"
   },
   {
    "duration": 23,
    "start_time": "2023-06-03T12:06:08.027Z"
   },
   {
    "duration": 44,
    "start_time": "2023-06-03T12:06:08.052Z"
   },
   {
    "duration": 21,
    "start_time": "2023-06-03T12:06:08.097Z"
   },
   {
    "duration": 58,
    "start_time": "2023-06-03T12:06:08.120Z"
   },
   {
    "duration": 38,
    "start_time": "2023-06-03T12:06:08.180Z"
   },
   {
    "duration": 47,
    "start_time": "2023-06-03T12:06:08.219Z"
   },
   {
    "duration": 11,
    "start_time": "2023-06-03T12:35:39.312Z"
   },
   {
    "duration": 23,
    "start_time": "2023-06-03T12:36:26.275Z"
   },
   {
    "duration": 6,
    "start_time": "2023-06-03T12:38:47.154Z"
   },
   {
    "duration": 12,
    "start_time": "2023-06-03T12:39:01.205Z"
   },
   {
    "duration": 8,
    "start_time": "2023-06-03T12:43:38.978Z"
   },
   {
    "duration": 10,
    "start_time": "2023-06-03T12:44:34.471Z"
   },
   {
    "duration": 13,
    "start_time": "2023-06-03T12:44:44.362Z"
   },
   {
    "duration": 13,
    "start_time": "2023-06-03T12:44:52.770Z"
   },
   {
    "duration": 14,
    "start_time": "2023-06-03T12:45:00.172Z"
   },
   {
    "duration": 15,
    "start_time": "2023-06-03T12:45:17.618Z"
   },
   {
    "duration": 271,
    "start_time": "2023-06-03T12:47:15.606Z"
   },
   {
    "duration": 113,
    "start_time": "2023-06-03T12:47:33.159Z"
   },
   {
    "duration": 848,
    "start_time": "2023-06-03T12:49:28.447Z"
   },
   {
    "duration": 288,
    "start_time": "2023-06-03T12:50:08.539Z"
   },
   {
    "duration": 440,
    "start_time": "2023-06-03T12:54:36.508Z"
   },
   {
    "duration": 398,
    "start_time": "2023-06-03T13:00:01.915Z"
   },
   {
    "duration": 11,
    "start_time": "2023-06-03T13:02:16.049Z"
   },
   {
    "duration": 1154,
    "start_time": "2023-06-03T13:02:37.408Z"
   },
   {
    "duration": 83,
    "start_time": "2023-06-03T13:02:38.564Z"
   },
   {
    "duration": 28,
    "start_time": "2023-06-03T13:02:38.648Z"
   },
   {
    "duration": 47,
    "start_time": "2023-06-03T13:02:38.678Z"
   },
   {
    "duration": 10,
    "start_time": "2023-06-03T13:02:38.727Z"
   },
   {
    "duration": 13,
    "start_time": "2023-06-03T13:02:38.739Z"
   },
   {
    "duration": 14,
    "start_time": "2023-06-03T13:02:38.753Z"
   },
   {
    "duration": 8,
    "start_time": "2023-06-03T13:02:38.768Z"
   },
   {
    "duration": 46,
    "start_time": "2023-06-03T13:02:38.778Z"
   },
   {
    "duration": 10,
    "start_time": "2023-06-03T13:02:38.826Z"
   },
   {
    "duration": 483,
    "start_time": "2023-06-03T13:02:38.837Z"
   },
   {
    "duration": 104,
    "start_time": "2023-06-03T13:02:39.321Z"
   },
   {
    "duration": 10,
    "start_time": "2023-06-03T13:03:05.843Z"
   },
   {
    "duration": 1130,
    "start_time": "2023-06-03T13:03:32.841Z"
   },
   {
    "duration": 80,
    "start_time": "2023-06-03T13:03:33.973Z"
   },
   {
    "duration": 25,
    "start_time": "2023-06-03T13:03:34.055Z"
   },
   {
    "duration": 27,
    "start_time": "2023-06-03T13:03:34.082Z"
   },
   {
    "duration": 9,
    "start_time": "2023-06-03T13:03:34.125Z"
   },
   {
    "duration": 34,
    "start_time": "2023-06-03T13:03:34.135Z"
   },
   {
    "duration": 13,
    "start_time": "2023-06-03T13:03:34.171Z"
   },
   {
    "duration": 13,
    "start_time": "2023-06-03T13:03:34.186Z"
   },
   {
    "duration": 24,
    "start_time": "2023-06-03T13:03:34.200Z"
   },
   {
    "duration": 10,
    "start_time": "2023-06-03T13:03:34.226Z"
   },
   {
    "duration": 474,
    "start_time": "2023-06-03T13:03:34.237Z"
   },
   {
    "duration": 124,
    "start_time": "2023-06-03T13:03:34.712Z"
   },
   {
    "duration": 9,
    "start_time": "2023-06-03T13:04:01.947Z"
   },
   {
    "duration": 1059,
    "start_time": "2023-06-03T13:04:10.756Z"
   },
   {
    "duration": 81,
    "start_time": "2023-06-03T13:04:11.816Z"
   },
   {
    "duration": 25,
    "start_time": "2023-06-03T13:04:11.898Z"
   },
   {
    "duration": 28,
    "start_time": "2023-06-03T13:04:11.924Z"
   },
   {
    "duration": 10,
    "start_time": "2023-06-03T13:04:11.953Z"
   },
   {
    "duration": 23,
    "start_time": "2023-06-03T13:04:11.965Z"
   },
   {
    "duration": 13,
    "start_time": "2023-06-03T13:04:11.989Z"
   },
   {
    "duration": 22,
    "start_time": "2023-06-03T13:04:12.004Z"
   },
   {
    "duration": 16,
    "start_time": "2023-06-03T13:04:12.028Z"
   },
   {
    "duration": 17,
    "start_time": "2023-06-03T13:04:12.046Z"
   },
   {
    "duration": 454,
    "start_time": "2023-06-03T13:04:12.065Z"
   },
   {
    "duration": 105,
    "start_time": "2023-06-03T13:04:12.525Z"
   },
   {
    "duration": 415,
    "start_time": "2023-06-03T13:04:45.272Z"
   },
   {
    "duration": 9,
    "start_time": "2023-06-03T13:04:59.968Z"
   },
   {
    "duration": 1105,
    "start_time": "2023-06-03T13:05:06.346Z"
   },
   {
    "duration": 78,
    "start_time": "2023-06-03T13:05:07.452Z"
   },
   {
    "duration": 23,
    "start_time": "2023-06-03T13:05:07.531Z"
   },
   {
    "duration": 28,
    "start_time": "2023-06-03T13:05:07.555Z"
   },
   {
    "duration": 9,
    "start_time": "2023-06-03T13:05:07.584Z"
   },
   {
    "duration": 37,
    "start_time": "2023-06-03T13:05:07.594Z"
   },
   {
    "duration": 12,
    "start_time": "2023-06-03T13:05:07.632Z"
   },
   {
    "duration": 7,
    "start_time": "2023-06-03T13:05:07.645Z"
   },
   {
    "duration": 13,
    "start_time": "2023-06-03T13:05:07.653Z"
   },
   {
    "duration": 8,
    "start_time": "2023-06-03T13:05:07.668Z"
   },
   {
    "duration": 446,
    "start_time": "2023-06-03T13:05:07.678Z"
   },
   {
    "duration": 99,
    "start_time": "2023-06-03T13:05:08.126Z"
   },
   {
    "duration": 14,
    "start_time": "2023-06-03T13:06:11.303Z"
   },
   {
    "duration": 11,
    "start_time": "2023-06-03T13:07:17.125Z"
   },
   {
    "duration": 23,
    "start_time": "2023-06-03T13:08:39.128Z"
   },
   {
    "duration": 25,
    "start_time": "2023-06-03T13:08:54.844Z"
   },
   {
    "duration": 468,
    "start_time": "2023-06-03T13:09:31.621Z"
   },
   {
    "duration": 1135,
    "start_time": "2023-06-03T13:09:37.358Z"
   },
   {
    "duration": 89,
    "start_time": "2023-06-03T13:09:38.495Z"
   },
   {
    "duration": 28,
    "start_time": "2023-06-03T13:09:38.586Z"
   },
   {
    "duration": 32,
    "start_time": "2023-06-03T13:09:38.616Z"
   },
   {
    "duration": 12,
    "start_time": "2023-06-03T13:09:38.650Z"
   },
   {
    "duration": 19,
    "start_time": "2023-06-03T13:09:38.663Z"
   },
   {
    "duration": 38,
    "start_time": "2023-06-03T13:09:38.684Z"
   },
   {
    "duration": 46,
    "start_time": "2023-06-03T13:09:38.724Z"
   },
   {
    "duration": 24,
    "start_time": "2023-06-03T13:09:38.772Z"
   },
   {
    "duration": 12,
    "start_time": "2023-06-03T13:09:38.798Z"
   },
   {
    "duration": 515,
    "start_time": "2023-06-03T13:09:38.811Z"
   },
   {
    "duration": 29,
    "start_time": "2023-06-03T13:09:39.328Z"
   },
   {
    "duration": 614,
    "start_time": "2023-06-03T13:10:49.412Z"
   },
   {
    "duration": 94,
    "start_time": "2023-06-03T13:14:16.059Z"
   },
   {
    "duration": 31,
    "start_time": "2023-06-03T13:17:42.439Z"
   },
   {
    "duration": 11,
    "start_time": "2023-06-03T13:25:04.156Z"
   },
   {
    "duration": 10,
    "start_time": "2023-06-03T13:25:11.746Z"
   },
   {
    "duration": 303,
    "start_time": "2023-06-03T13:25:28.041Z"
   },
   {
    "duration": 1153,
    "start_time": "2023-06-03T13:25:49.592Z"
   },
   {
    "duration": 96,
    "start_time": "2023-06-03T13:25:50.747Z"
   },
   {
    "duration": 26,
    "start_time": "2023-06-03T13:25:50.845Z"
   },
   {
    "duration": 32,
    "start_time": "2023-06-03T13:25:50.873Z"
   },
   {
    "duration": 35,
    "start_time": "2023-06-03T13:25:50.907Z"
   },
   {
    "duration": 14,
    "start_time": "2023-06-03T13:25:50.944Z"
   },
   {
    "duration": 13,
    "start_time": "2023-06-03T13:25:50.959Z"
   },
   {
    "duration": 10,
    "start_time": "2023-06-03T13:25:50.974Z"
   },
   {
    "duration": 45,
    "start_time": "2023-06-03T13:25:50.986Z"
   },
   {
    "duration": 46,
    "start_time": "2023-06-03T13:25:51.033Z"
   },
   {
    "duration": 656,
    "start_time": "2023-06-03T13:25:51.080Z"
   },
   {
    "duration": 31,
    "start_time": "2023-06-03T13:25:51.741Z"
   },
   {
    "duration": 239,
    "start_time": "2023-06-03T13:25:51.773Z"
   },
   {
    "duration": 1121,
    "start_time": "2023-06-03T13:28:05.123Z"
   },
   {
    "duration": 83,
    "start_time": "2023-06-03T13:28:06.246Z"
   },
   {
    "duration": 23,
    "start_time": "2023-06-03T13:28:06.332Z"
   },
   {
    "duration": 27,
    "start_time": "2023-06-03T13:28:06.357Z"
   },
   {
    "duration": 10,
    "start_time": "2023-06-03T13:28:06.385Z"
   },
   {
    "duration": 39,
    "start_time": "2023-06-03T13:28:06.397Z"
   },
   {
    "duration": 16,
    "start_time": "2023-06-03T13:28:06.437Z"
   },
   {
    "duration": 8,
    "start_time": "2023-06-03T13:28:06.455Z"
   },
   {
    "duration": 16,
    "start_time": "2023-06-03T13:28:06.464Z"
   },
   {
    "duration": 10,
    "start_time": "2023-06-03T13:28:06.481Z"
   },
   {
    "duration": 569,
    "start_time": "2023-06-03T13:28:06.492Z"
   },
   {
    "duration": 29,
    "start_time": "2023-06-03T13:28:07.062Z"
   },
   {
    "duration": 230,
    "start_time": "2023-06-03T13:28:07.093Z"
   },
   {
    "duration": 1125,
    "start_time": "2023-06-03T13:30:20.179Z"
   },
   {
    "duration": 91,
    "start_time": "2023-06-03T13:30:21.306Z"
   },
   {
    "duration": 24,
    "start_time": "2023-06-03T13:30:21.398Z"
   },
   {
    "duration": 39,
    "start_time": "2023-06-03T13:30:21.424Z"
   },
   {
    "duration": 11,
    "start_time": "2023-06-03T13:30:21.464Z"
   },
   {
    "duration": 29,
    "start_time": "2023-06-03T13:30:21.477Z"
   },
   {
    "duration": 12,
    "start_time": "2023-06-03T13:30:21.507Z"
   },
   {
    "duration": 28,
    "start_time": "2023-06-03T13:30:21.520Z"
   },
   {
    "duration": 18,
    "start_time": "2023-06-03T13:30:21.549Z"
   },
   {
    "duration": 8,
    "start_time": "2023-06-03T13:30:21.569Z"
   },
   {
    "duration": 571,
    "start_time": "2023-06-03T13:30:21.579Z"
   },
   {
    "duration": 26,
    "start_time": "2023-06-03T13:30:22.151Z"
   },
   {
    "duration": 233,
    "start_time": "2023-06-03T13:30:22.179Z"
   },
   {
    "duration": 210,
    "start_time": "2023-06-03T13:31:07.893Z"
   },
   {
    "duration": 80,
    "start_time": "2023-06-03T13:31:54.449Z"
   },
   {
    "duration": 302,
    "start_time": "2023-06-03T13:32:25.464Z"
   },
   {
    "duration": 1181,
    "start_time": "2023-06-03T13:32:41.424Z"
   },
   {
    "duration": 87,
    "start_time": "2023-06-03T13:32:42.607Z"
   },
   {
    "duration": 24,
    "start_time": "2023-06-03T13:32:42.695Z"
   },
   {
    "duration": 55,
    "start_time": "2023-06-03T13:32:42.721Z"
   },
   {
    "duration": 10,
    "start_time": "2023-06-03T13:32:42.778Z"
   },
   {
    "duration": 15,
    "start_time": "2023-06-03T13:32:42.790Z"
   },
   {
    "duration": 30,
    "start_time": "2023-06-03T13:32:42.807Z"
   },
   {
    "duration": 8,
    "start_time": "2023-06-03T13:32:42.838Z"
   },
   {
    "duration": 33,
    "start_time": "2023-06-03T13:32:42.848Z"
   },
   {
    "duration": 18,
    "start_time": "2023-06-03T13:32:42.884Z"
   },
   {
    "duration": 628,
    "start_time": "2023-06-03T13:32:42.904Z"
   },
   {
    "duration": 33,
    "start_time": "2023-06-03T13:32:43.534Z"
   },
   {
    "duration": 254,
    "start_time": "2023-06-03T13:32:43.569Z"
   },
   {
    "duration": 1146,
    "start_time": "2023-06-03T13:33:39.241Z"
   },
   {
    "duration": 84,
    "start_time": "2023-06-03T13:33:40.389Z"
   },
   {
    "duration": 24,
    "start_time": "2023-06-03T13:33:40.475Z"
   },
   {
    "duration": 42,
    "start_time": "2023-06-03T13:33:40.500Z"
   },
   {
    "duration": 11,
    "start_time": "2023-06-03T13:33:40.544Z"
   },
   {
    "duration": 34,
    "start_time": "2023-06-03T13:33:40.556Z"
   },
   {
    "duration": 22,
    "start_time": "2023-06-03T13:33:40.591Z"
   },
   {
    "duration": 25,
    "start_time": "2023-06-03T13:33:40.614Z"
   },
   {
    "duration": 42,
    "start_time": "2023-06-03T13:33:40.641Z"
   },
   {
    "duration": 10,
    "start_time": "2023-06-03T13:33:40.684Z"
   },
   {
    "duration": 810,
    "start_time": "2023-06-03T13:33:40.695Z"
   },
   {
    "duration": 44,
    "start_time": "2023-06-03T13:33:41.507Z"
   },
   {
    "duration": 278,
    "start_time": "2023-06-03T13:33:41.553Z"
   },
   {
    "duration": 225,
    "start_time": "2023-06-03T13:35:06.264Z"
   },
   {
    "duration": 1177,
    "start_time": "2023-06-03T13:43:01.004Z"
   },
   {
    "duration": 86,
    "start_time": "2023-06-03T13:43:02.182Z"
   },
   {
    "duration": 25,
    "start_time": "2023-06-03T13:43:02.269Z"
   },
   {
    "duration": 60,
    "start_time": "2023-06-03T13:43:02.295Z"
   },
   {
    "duration": 20,
    "start_time": "2023-06-03T13:43:02.358Z"
   },
   {
    "duration": 21,
    "start_time": "2023-06-03T13:43:02.379Z"
   },
   {
    "duration": 36,
    "start_time": "2023-06-03T13:43:02.402Z"
   },
   {
    "duration": 20,
    "start_time": "2023-06-03T13:43:02.441Z"
   },
   {
    "duration": 23,
    "start_time": "2023-06-03T13:43:02.462Z"
   },
   {
    "duration": 13,
    "start_time": "2023-06-03T13:43:02.486Z"
   },
   {
    "duration": 578,
    "start_time": "2023-06-03T13:43:02.500Z"
   },
   {
    "duration": 28,
    "start_time": "2023-06-03T13:43:03.080Z"
   },
   {
    "duration": 279,
    "start_time": "2023-06-03T13:43:03.110Z"
   },
   {
    "duration": 21,
    "start_time": "2023-06-03T13:44:16.750Z"
   },
   {
    "duration": 1111,
    "start_time": "2023-06-03T13:44:24.398Z"
   },
   {
    "duration": 92,
    "start_time": "2023-06-03T13:44:25.511Z"
   },
   {
    "duration": 37,
    "start_time": "2023-06-03T13:44:25.604Z"
   },
   {
    "duration": 40,
    "start_time": "2023-06-03T13:44:25.643Z"
   },
   {
    "duration": 18,
    "start_time": "2023-06-03T13:44:25.685Z"
   },
   {
    "duration": 29,
    "start_time": "2023-06-03T13:44:25.705Z"
   },
   {
    "duration": 15,
    "start_time": "2023-06-03T13:44:25.736Z"
   },
   {
    "duration": 8,
    "start_time": "2023-06-03T13:44:25.753Z"
   },
   {
    "duration": 23,
    "start_time": "2023-06-03T13:44:25.762Z"
   },
   {
    "duration": 24,
    "start_time": "2023-06-03T13:44:25.787Z"
   },
   {
    "duration": 644,
    "start_time": "2023-06-03T13:44:25.813Z"
   },
   {
    "duration": 21,
    "start_time": "2023-06-03T13:44:26.459Z"
   },
   {
    "duration": 355,
    "start_time": "2023-06-03T13:44:26.481Z"
   },
   {
    "duration": 20,
    "start_time": "2023-06-03T13:44:50.963Z"
   },
   {
    "duration": 1142,
    "start_time": "2023-06-03T13:44:59.261Z"
   },
   {
    "duration": 91,
    "start_time": "2023-06-03T13:45:00.405Z"
   },
   {
    "duration": 39,
    "start_time": "2023-06-03T13:45:00.497Z"
   },
   {
    "duration": 63,
    "start_time": "2023-06-03T13:45:00.538Z"
   },
   {
    "duration": 40,
    "start_time": "2023-06-03T13:45:00.602Z"
   },
   {
    "duration": 45,
    "start_time": "2023-06-03T13:45:00.644Z"
   },
   {
    "duration": 27,
    "start_time": "2023-06-03T13:45:00.691Z"
   },
   {
    "duration": 26,
    "start_time": "2023-06-03T13:45:00.720Z"
   },
   {
    "duration": 58,
    "start_time": "2023-06-03T13:45:00.747Z"
   },
   {
    "duration": 11,
    "start_time": "2023-06-03T13:45:00.807Z"
   },
   {
    "duration": 746,
    "start_time": "2023-06-03T13:45:00.820Z"
   },
   {
    "duration": 31,
    "start_time": "2023-06-03T13:45:01.568Z"
   },
   {
    "duration": 305,
    "start_time": "2023-06-03T13:45:01.601Z"
   },
   {
    "duration": 10,
    "start_time": "2023-06-03T13:49:48.580Z"
   },
   {
    "duration": 5,
    "start_time": "2023-06-03T13:50:42.963Z"
   },
   {
    "duration": 95,
    "start_time": "2023-06-03T13:50:52.257Z"
   },
   {
    "duration": 9,
    "start_time": "2023-06-03T13:51:03.186Z"
   },
   {
    "duration": 9,
    "start_time": "2023-06-03T13:51:19.913Z"
   },
   {
    "duration": 5,
    "start_time": "2023-06-03T13:53:26.612Z"
   },
   {
    "duration": 1282,
    "start_time": "2023-06-03T13:59:41.250Z"
   },
   {
    "duration": 96,
    "start_time": "2023-06-03T13:59:42.537Z"
   },
   {
    "duration": 31,
    "start_time": "2023-06-03T13:59:42.636Z"
   },
   {
    "duration": 35,
    "start_time": "2023-06-03T13:59:42.669Z"
   },
   {
    "duration": 39,
    "start_time": "2023-06-03T13:59:42.705Z"
   },
   {
    "duration": 16,
    "start_time": "2023-06-03T13:59:42.746Z"
   },
   {
    "duration": 14,
    "start_time": "2023-06-03T13:59:42.764Z"
   },
   {
    "duration": 8,
    "start_time": "2023-06-03T13:59:42.780Z"
   },
   {
    "duration": 54,
    "start_time": "2023-06-03T13:59:42.790Z"
   },
   {
    "duration": 12,
    "start_time": "2023-06-03T13:59:42.846Z"
   },
   {
    "duration": 657,
    "start_time": "2023-06-03T13:59:42.859Z"
   },
   {
    "duration": 43,
    "start_time": "2023-06-03T13:59:43.517Z"
   },
   {
    "duration": 292,
    "start_time": "2023-06-03T13:59:43.562Z"
   },
   {
    "duration": 5,
    "start_time": "2023-06-03T13:59:43.855Z"
   },
   {
    "duration": 178,
    "start_time": "2023-06-03T14:09:56.452Z"
   },
   {
    "duration": 145,
    "start_time": "2023-06-03T14:10:03.950Z"
   },
   {
    "duration": 136,
    "start_time": "2023-06-03T14:10:11.849Z"
   },
   {
    "duration": 122,
    "start_time": "2023-06-03T14:13:14.243Z"
   },
   {
    "duration": 115,
    "start_time": "2023-06-03T14:13:20.846Z"
   },
   {
    "duration": 124,
    "start_time": "2023-06-03T14:16:25.142Z"
   },
   {
    "duration": 106,
    "start_time": "2023-06-03T14:16:30.444Z"
   },
   {
    "duration": 234,
    "start_time": "2023-06-03T14:17:30.968Z"
   },
   {
    "duration": 552,
    "start_time": "2023-06-03T14:17:43.937Z"
   },
   {
    "duration": 435,
    "start_time": "2023-06-03T14:18:12.736Z"
   },
   {
    "duration": 99,
    "start_time": "2023-06-03T14:18:27.605Z"
   },
   {
    "duration": 103,
    "start_time": "2023-06-03T14:20:48.462Z"
   },
   {
    "duration": 100,
    "start_time": "2023-06-03T14:21:12.266Z"
   },
   {
    "duration": 123,
    "start_time": "2023-06-03T14:21:27.844Z"
   },
   {
    "duration": 99,
    "start_time": "2023-06-03T14:22:58.476Z"
   },
   {
    "duration": 120,
    "start_time": "2023-06-03T14:23:15.270Z"
   },
   {
    "duration": 103,
    "start_time": "2023-06-03T14:23:30.745Z"
   },
   {
    "duration": 104,
    "start_time": "2023-06-03T14:23:45.298Z"
   },
   {
    "duration": 117,
    "start_time": "2023-06-03T14:23:56.813Z"
   },
   {
    "duration": 142,
    "start_time": "2023-06-03T14:24:04.725Z"
   },
   {
    "duration": 122,
    "start_time": "2023-06-03T14:26:41.587Z"
   },
   {
    "duration": 102,
    "start_time": "2023-06-03T14:27:04.627Z"
   },
   {
    "duration": 117,
    "start_time": "2023-06-03T14:27:15.301Z"
   },
   {
    "duration": 176,
    "start_time": "2023-06-03T14:27:26.881Z"
   },
   {
    "duration": 131,
    "start_time": "2023-06-03T14:27:34.732Z"
   },
   {
    "duration": 109,
    "start_time": "2023-06-03T14:28:03.233Z"
   },
   {
    "duration": 101,
    "start_time": "2023-06-03T14:28:53.967Z"
   },
   {
    "duration": 133,
    "start_time": "2023-06-03T14:29:11.563Z"
   },
   {
    "duration": 8,
    "start_time": "2023-06-03T14:29:38.128Z"
   },
   {
    "duration": 119,
    "start_time": "2023-06-03T14:29:53.299Z"
   },
   {
    "duration": 110,
    "start_time": "2023-06-03T14:29:59.149Z"
   },
   {
    "duration": 175,
    "start_time": "2023-06-03T14:30:09.589Z"
   },
   {
    "duration": 157,
    "start_time": "2023-06-03T14:30:19.502Z"
   },
   {
    "duration": 129,
    "start_time": "2023-06-03T14:31:32.034Z"
   },
   {
    "duration": 104,
    "start_time": "2023-06-03T14:32:29.462Z"
   },
   {
    "duration": 118,
    "start_time": "2023-06-03T14:32:51.341Z"
   },
   {
    "duration": 123,
    "start_time": "2023-06-03T14:34:17.173Z"
   },
   {
    "duration": 11,
    "start_time": "2023-06-03T14:37:12.950Z"
   },
   {
    "duration": 9,
    "start_time": "2023-06-03T14:37:20.250Z"
   },
   {
    "duration": 20,
    "start_time": "2023-06-03T14:37:30.867Z"
   },
   {
    "duration": 183,
    "start_time": "2023-06-03T14:37:44.650Z"
   },
   {
    "duration": 150,
    "start_time": "2023-06-03T14:37:50.838Z"
   },
   {
    "duration": 196,
    "start_time": "2023-06-03T14:39:19.381Z"
   },
   {
    "duration": 134,
    "start_time": "2023-06-03T14:39:46.439Z"
   },
   {
    "duration": 125,
    "start_time": "2023-06-03T14:40:13.157Z"
   },
   {
    "duration": 1438,
    "start_time": "2023-06-03T14:41:50.171Z"
   },
   {
    "duration": 155,
    "start_time": "2023-06-03T14:41:59.676Z"
   },
   {
    "duration": 131,
    "start_time": "2023-06-03T14:42:46.155Z"
   },
   {
    "duration": 125,
    "start_time": "2023-06-03T14:43:01.950Z"
   },
   {
    "duration": 136,
    "start_time": "2023-06-03T14:44:21.891Z"
   },
   {
    "duration": 1208,
    "start_time": "2023-06-03T14:45:29.098Z"
   },
   {
    "duration": 139,
    "start_time": "2023-06-03T14:45:30.309Z"
   },
   {
    "duration": 29,
    "start_time": "2023-06-03T14:45:30.449Z"
   },
   {
    "duration": 53,
    "start_time": "2023-06-03T14:45:30.480Z"
   },
   {
    "duration": 30,
    "start_time": "2023-06-03T14:45:30.535Z"
   },
   {
    "duration": 35,
    "start_time": "2023-06-03T14:45:30.567Z"
   },
   {
    "duration": 50,
    "start_time": "2023-06-03T14:45:30.604Z"
   },
   {
    "duration": 23,
    "start_time": "2023-06-03T14:45:30.656Z"
   },
   {
    "duration": 40,
    "start_time": "2023-06-03T14:45:30.681Z"
   },
   {
    "duration": 30,
    "start_time": "2023-06-03T14:45:30.723Z"
   },
   {
    "duration": 717,
    "start_time": "2023-06-03T14:45:30.755Z"
   },
   {
    "duration": 52,
    "start_time": "2023-06-03T14:45:31.474Z"
   },
   {
    "duration": 321,
    "start_time": "2023-06-03T14:45:31.528Z"
   },
   {
    "duration": 5,
    "start_time": "2023-06-03T14:45:31.851Z"
   },
   {
    "duration": 218,
    "start_time": "2023-06-03T14:45:31.858Z"
   },
   {
    "duration": 113,
    "start_time": "2023-06-03T14:45:32.078Z"
   },
   {
    "duration": 0,
    "start_time": "2023-06-03T14:45:32.193Z"
   },
   {
    "duration": 0,
    "start_time": "2023-06-03T14:45:32.195Z"
   },
   {
    "duration": 152,
    "start_time": "2023-06-03T14:46:13.569Z"
   },
   {
    "duration": 1154,
    "start_time": "2023-06-03T14:47:02.014Z"
   },
   {
    "duration": 89,
    "start_time": "2023-06-03T14:47:03.170Z"
   },
   {
    "duration": 29,
    "start_time": "2023-06-03T14:47:03.261Z"
   },
   {
    "duration": 39,
    "start_time": "2023-06-03T14:47:03.292Z"
   },
   {
    "duration": 11,
    "start_time": "2023-06-03T14:47:03.334Z"
   },
   {
    "duration": 17,
    "start_time": "2023-06-03T14:47:03.346Z"
   },
   {
    "duration": 14,
    "start_time": "2023-06-03T14:47:03.364Z"
   },
   {
    "duration": 7,
    "start_time": "2023-06-03T14:47:03.379Z"
   },
   {
    "duration": 50,
    "start_time": "2023-06-03T14:47:03.388Z"
   },
   {
    "duration": 10,
    "start_time": "2023-06-03T14:47:03.441Z"
   },
   {
    "duration": 626,
    "start_time": "2023-06-03T14:47:03.452Z"
   },
   {
    "duration": 33,
    "start_time": "2023-06-03T14:47:04.080Z"
   },
   {
    "duration": 248,
    "start_time": "2023-06-03T14:47:04.125Z"
   },
   {
    "duration": 5,
    "start_time": "2023-06-03T14:47:04.375Z"
   },
   {
    "duration": 146,
    "start_time": "2023-06-03T14:47:04.381Z"
   },
   {
    "duration": 110,
    "start_time": "2023-06-03T14:47:04.529Z"
   },
   {
    "duration": 239,
    "start_time": "2023-06-03T14:47:04.642Z"
   },
   {
    "duration": 119,
    "start_time": "2023-06-03T14:47:32.721Z"
   },
   {
    "duration": 136,
    "start_time": "2023-06-03T14:47:35.120Z"
   },
   {
    "duration": 164,
    "start_time": "2023-06-03T14:48:17.230Z"
   },
   {
    "duration": 152,
    "start_time": "2023-06-03T14:48:51.934Z"
   },
   {
    "duration": 171,
    "start_time": "2023-06-03T14:49:49.576Z"
   },
   {
    "duration": 190,
    "start_time": "2023-06-03T14:50:20.117Z"
   },
   {
    "duration": 157,
    "start_time": "2023-06-03T14:50:31.513Z"
   },
   {
    "duration": 92,
    "start_time": "2023-06-03T14:55:25.287Z"
   },
   {
    "duration": 209,
    "start_time": "2023-06-03T15:01:41.348Z"
   },
   {
    "duration": 601,
    "start_time": "2023-06-03T15:05:05.044Z"
   },
   {
    "duration": 463,
    "start_time": "2023-06-03T15:06:36.517Z"
   },
   {
    "duration": 265,
    "start_time": "2023-06-03T15:07:27.503Z"
   },
   {
    "duration": 428,
    "start_time": "2023-06-03T15:07:35.862Z"
   },
   {
    "duration": 502,
    "start_time": "2023-06-03T15:07:42.461Z"
   },
   {
    "duration": 425,
    "start_time": "2023-06-03T15:08:13.806Z"
   },
   {
    "duration": 420,
    "start_time": "2023-06-03T15:08:19.157Z"
   },
   {
    "duration": 470,
    "start_time": "2023-06-03T15:12:11.708Z"
   },
   {
    "duration": 631,
    "start_time": "2023-06-03T15:13:59.729Z"
   },
   {
    "duration": 581,
    "start_time": "2023-06-03T15:14:14.313Z"
   },
   {
    "duration": 689,
    "start_time": "2023-06-03T15:14:26.732Z"
   },
   {
    "duration": 652,
    "start_time": "2023-06-03T15:15:30.026Z"
   },
   {
    "duration": 710,
    "start_time": "2023-06-03T15:15:58.323Z"
   },
   {
    "duration": 684,
    "start_time": "2023-06-03T15:17:13.725Z"
   },
   {
    "duration": 2865,
    "start_time": "2023-06-03T15:17:39.231Z"
   },
   {
    "duration": 2781,
    "start_time": "2023-06-03T15:17:52.100Z"
   },
   {
    "duration": 2967,
    "start_time": "2023-06-03T15:18:10.078Z"
   },
   {
    "duration": 894,
    "start_time": "2023-06-03T15:18:29.088Z"
   },
   {
    "duration": 706,
    "start_time": "2023-06-03T15:18:37.487Z"
   },
   {
    "duration": 972,
    "start_time": "2023-06-03T15:18:47.873Z"
   },
   {
    "duration": 882,
    "start_time": "2023-06-03T15:18:55.157Z"
   },
   {
    "duration": 305,
    "start_time": "2023-06-03T15:37:18.301Z"
   },
   {
    "duration": 326,
    "start_time": "2023-06-03T15:41:07.682Z"
   },
   {
    "duration": 487,
    "start_time": "2023-06-03T15:41:25.633Z"
   },
   {
    "duration": 14,
    "start_time": "2023-06-03T15:58:15.638Z"
   },
   {
    "duration": 15,
    "start_time": "2023-06-03T15:58:22.062Z"
   },
   {
    "duration": 26,
    "start_time": "2023-06-03T16:00:24.060Z"
   },
   {
    "duration": 77,
    "start_time": "2023-06-03T16:04:51.672Z"
   },
   {
    "duration": 10,
    "start_time": "2023-06-03T16:08:14.143Z"
   },
   {
    "duration": 13,
    "start_time": "2023-06-03T16:12:35.356Z"
   },
   {
    "duration": 13,
    "start_time": "2023-06-03T16:12:50.556Z"
   },
   {
    "duration": 15,
    "start_time": "2023-06-03T16:12:56.501Z"
   },
   {
    "duration": 23,
    "start_time": "2023-06-03T16:15:09.735Z"
   },
   {
    "duration": 179,
    "start_time": "2023-06-03T16:17:19.163Z"
   },
   {
    "duration": 180,
    "start_time": "2023-06-03T16:17:37.371Z"
   },
   {
    "duration": 149,
    "start_time": "2023-06-03T16:18:35.668Z"
   },
   {
    "duration": 158,
    "start_time": "2023-06-03T16:19:27.523Z"
   },
   {
    "duration": 243,
    "start_time": "2023-06-03T16:19:48.715Z"
   },
   {
    "duration": 175,
    "start_time": "2023-06-03T16:20:12.290Z"
   },
   {
    "duration": 93,
    "start_time": "2023-06-03T16:20:34.836Z"
   },
   {
    "duration": 197,
    "start_time": "2023-06-03T16:20:43.490Z"
   },
   {
    "duration": 188,
    "start_time": "2023-06-03T16:20:59.498Z"
   },
   {
    "duration": 199,
    "start_time": "2023-06-03T16:21:05.769Z"
   },
   {
    "duration": 192,
    "start_time": "2023-06-03T16:21:16.650Z"
   },
   {
    "duration": 395,
    "start_time": "2023-06-03T16:22:35.999Z"
   },
   {
    "duration": 374,
    "start_time": "2023-06-03T16:23:15.296Z"
   },
   {
    "duration": 437,
    "start_time": "2023-06-03T16:26:50.480Z"
   },
   {
    "duration": 470,
    "start_time": "2023-06-03T16:32:03.007Z"
   },
   {
    "duration": 382,
    "start_time": "2023-06-03T16:32:13.231Z"
   },
   {
    "duration": 353,
    "start_time": "2023-06-03T16:32:36.106Z"
   },
   {
    "duration": 360,
    "start_time": "2023-06-03T16:32:48.184Z"
   },
   {
    "duration": 402,
    "start_time": "2023-06-03T16:34:14.408Z"
   },
   {
    "duration": 81,
    "start_time": "2023-06-03T16:34:36.050Z"
   },
   {
    "duration": 89,
    "start_time": "2023-06-03T16:34:58.321Z"
   },
   {
    "duration": 417,
    "start_time": "2023-06-03T16:35:11.146Z"
   },
   {
    "duration": 525,
    "start_time": "2023-06-03T16:36:09.670Z"
   },
   {
    "duration": 379,
    "start_time": "2023-06-03T16:37:02.234Z"
   },
   {
    "duration": 394,
    "start_time": "2023-06-03T16:37:12.519Z"
   },
   {
    "duration": 385,
    "start_time": "2023-06-03T16:37:25.102Z"
   },
   {
    "duration": 398,
    "start_time": "2023-06-03T16:37:55.175Z"
   },
   {
    "duration": 454,
    "start_time": "2023-06-03T16:38:04.409Z"
   },
   {
    "duration": 200,
    "start_time": "2023-06-03T16:41:43.433Z"
   },
   {
    "duration": 13623,
    "start_time": "2023-06-03T16:42:28.486Z"
   },
   {
    "duration": 1111,
    "start_time": "2023-06-03T16:42:46.028Z"
   },
   {
    "duration": 79,
    "start_time": "2023-06-03T16:42:47.141Z"
   },
   {
    "duration": 28,
    "start_time": "2023-06-03T16:42:47.222Z"
   },
   {
    "duration": 42,
    "start_time": "2023-06-03T16:42:47.252Z"
   },
   {
    "duration": 10,
    "start_time": "2023-06-03T16:42:47.295Z"
   },
   {
    "duration": 27,
    "start_time": "2023-06-03T16:42:47.306Z"
   },
   {
    "duration": 30,
    "start_time": "2023-06-03T16:42:47.334Z"
   },
   {
    "duration": 12,
    "start_time": "2023-06-03T16:42:47.366Z"
   },
   {
    "duration": 26,
    "start_time": "2023-06-03T16:42:47.380Z"
   },
   {
    "duration": 22,
    "start_time": "2023-06-03T16:42:47.408Z"
   },
   {
    "duration": 539,
    "start_time": "2023-06-03T16:42:47.431Z"
   },
   {
    "duration": 30,
    "start_time": "2023-06-03T16:42:47.971Z"
   },
   {
    "duration": 240,
    "start_time": "2023-06-03T16:42:48.003Z"
   },
   {
    "duration": 5,
    "start_time": "2023-06-03T16:42:48.244Z"
   },
   {
    "duration": 141,
    "start_time": "2023-06-03T16:42:48.250Z"
   },
   {
    "duration": 102,
    "start_time": "2023-06-03T16:42:48.393Z"
   },
   {
    "duration": 214,
    "start_time": "2023-06-03T16:42:48.497Z"
   },
   {
    "duration": 604,
    "start_time": "2023-06-03T16:42:48.713Z"
   },
   {
    "duration": 483,
    "start_time": "2023-06-03T16:42:49.323Z"
   },
   {
    "duration": 35,
    "start_time": "2023-06-03T16:42:49.808Z"
   },
   {
    "duration": 29,
    "start_time": "2023-06-03T16:42:49.845Z"
   },
   {
    "duration": 12942,
    "start_time": "2023-06-03T16:42:49.875Z"
   },
   {
    "duration": 75,
    "start_time": "2023-06-03T16:43:02.819Z"
   },
   {
    "duration": 0,
    "start_time": "2023-06-03T16:43:02.896Z"
   },
   {
    "duration": 1103,
    "start_time": "2023-06-03T16:44:12.428Z"
   },
   {
    "duration": 83,
    "start_time": "2023-06-03T16:44:13.533Z"
   },
   {
    "duration": 24,
    "start_time": "2023-06-03T16:44:13.618Z"
   },
   {
    "duration": 31,
    "start_time": "2023-06-03T16:44:13.643Z"
   },
   {
    "duration": 10,
    "start_time": "2023-06-03T16:44:13.676Z"
   },
   {
    "duration": 38,
    "start_time": "2023-06-03T16:44:13.687Z"
   },
   {
    "duration": 19,
    "start_time": "2023-06-03T16:44:13.727Z"
   },
   {
    "duration": 11,
    "start_time": "2023-06-03T16:44:13.748Z"
   },
   {
    "duration": 28,
    "start_time": "2023-06-03T16:44:13.761Z"
   },
   {
    "duration": 10,
    "start_time": "2023-06-03T16:44:13.791Z"
   },
   {
    "duration": 582,
    "start_time": "2023-06-03T16:44:13.803Z"
   },
   {
    "duration": 47,
    "start_time": "2023-06-03T16:44:14.387Z"
   },
   {
    "duration": 250,
    "start_time": "2023-06-03T16:44:14.436Z"
   },
   {
    "duration": 5,
    "start_time": "2023-06-03T16:44:14.689Z"
   },
   {
    "duration": 177,
    "start_time": "2023-06-03T16:44:14.695Z"
   },
   {
    "duration": 136,
    "start_time": "2023-06-03T16:44:14.874Z"
   },
   {
    "duration": 230,
    "start_time": "2023-06-03T16:44:15.012Z"
   },
   {
    "duration": 617,
    "start_time": "2023-06-03T16:44:15.244Z"
   },
   {
    "duration": 488,
    "start_time": "2023-06-03T16:44:15.862Z"
   },
   {
    "duration": 27,
    "start_time": "2023-06-03T16:44:16.351Z"
   },
   {
    "duration": 22,
    "start_time": "2023-06-03T16:44:16.380Z"
   },
   {
    "duration": 459,
    "start_time": "2023-06-03T16:44:16.404Z"
   },
   {
    "duration": 82,
    "start_time": "2023-06-03T16:44:16.865Z"
   },
   {
    "duration": 39,
    "start_time": "2023-06-03T16:48:20.283Z"
   },
   {
    "duration": 118,
    "start_time": "2023-06-03T18:12:24.592Z"
   },
   {
    "duration": 14,
    "start_time": "2023-06-03T18:12:31.647Z"
   },
   {
    "duration": 15,
    "start_time": "2023-06-03T18:14:05.506Z"
   },
   {
    "duration": 24,
    "start_time": "2023-06-03T18:19:52.514Z"
   },
   {
    "duration": 10,
    "start_time": "2023-06-03T18:22:38.017Z"
   },
   {
    "duration": 1098,
    "start_time": "2023-06-03T18:22:46.605Z"
   },
   {
    "duration": 78,
    "start_time": "2023-06-03T18:22:47.705Z"
   },
   {
    "duration": 22,
    "start_time": "2023-06-03T18:22:47.785Z"
   },
   {
    "duration": 34,
    "start_time": "2023-06-03T18:22:47.809Z"
   },
   {
    "duration": 13,
    "start_time": "2023-06-03T18:22:47.845Z"
   },
   {
    "duration": 25,
    "start_time": "2023-06-03T18:22:47.860Z"
   },
   {
    "duration": 19,
    "start_time": "2023-06-03T18:22:47.887Z"
   },
   {
    "duration": 23,
    "start_time": "2023-06-03T18:22:47.908Z"
   },
   {
    "duration": 25,
    "start_time": "2023-06-03T18:22:47.933Z"
   },
   {
    "duration": 29,
    "start_time": "2023-06-03T18:22:47.960Z"
   },
   {
    "duration": 540,
    "start_time": "2023-06-03T18:22:47.991Z"
   },
   {
    "duration": 29,
    "start_time": "2023-06-03T18:22:48.533Z"
   },
   {
    "duration": 251,
    "start_time": "2023-06-03T18:22:48.563Z"
   },
   {
    "duration": 10,
    "start_time": "2023-06-03T18:22:48.816Z"
   },
   {
    "duration": 144,
    "start_time": "2023-06-03T18:22:48.828Z"
   },
   {
    "duration": 111,
    "start_time": "2023-06-03T18:22:48.974Z"
   },
   {
    "duration": 231,
    "start_time": "2023-06-03T18:22:49.087Z"
   },
   {
    "duration": 609,
    "start_time": "2023-06-03T18:22:49.319Z"
   },
   {
    "duration": 492,
    "start_time": "2023-06-03T18:22:49.930Z"
   },
   {
    "duration": 27,
    "start_time": "2023-06-03T18:22:50.424Z"
   },
   {
    "duration": 41,
    "start_time": "2023-06-03T18:22:50.453Z"
   },
   {
    "duration": 497,
    "start_time": "2023-06-03T18:22:50.495Z"
   },
   {
    "duration": 22,
    "start_time": "2023-06-03T18:22:50.994Z"
   },
   {
    "duration": 18,
    "start_time": "2023-06-03T18:22:51.018Z"
   },
   {
    "duration": 9,
    "start_time": "2023-06-03T18:24:06.349Z"
   },
   {
    "duration": 96,
    "start_time": "2023-06-03T19:01:55.421Z"
   },
   {
    "duration": 13,
    "start_time": "2023-06-03T19:02:05.923Z"
   },
   {
    "duration": 15,
    "start_time": "2023-06-03T19:02:17.904Z"
   },
   {
    "duration": 1171,
    "start_time": "2023-06-03T19:02:29.002Z"
   },
   {
    "duration": 94,
    "start_time": "2023-06-03T19:02:30.175Z"
   },
   {
    "duration": 26,
    "start_time": "2023-06-03T19:02:30.270Z"
   },
   {
    "duration": 78,
    "start_time": "2023-06-03T19:02:30.298Z"
   },
   {
    "duration": 35,
    "start_time": "2023-06-03T19:02:30.378Z"
   },
   {
    "duration": 76,
    "start_time": "2023-06-03T19:02:30.415Z"
   },
   {
    "duration": 30,
    "start_time": "2023-06-03T19:02:30.493Z"
   },
   {
    "duration": 44,
    "start_time": "2023-06-03T19:02:30.525Z"
   },
   {
    "duration": 25,
    "start_time": "2023-06-03T19:02:30.570Z"
   },
   {
    "duration": 10,
    "start_time": "2023-06-03T19:02:30.597Z"
   },
   {
    "duration": 630,
    "start_time": "2023-06-03T19:02:30.608Z"
   },
   {
    "duration": 35,
    "start_time": "2023-06-03T19:02:31.240Z"
   },
   {
    "duration": 299,
    "start_time": "2023-06-03T19:02:31.277Z"
   },
   {
    "duration": 3,
    "start_time": "2023-06-03T19:02:31.578Z"
   },
   {
    "duration": 179,
    "start_time": "2023-06-03T19:02:31.583Z"
   },
   {
    "duration": 114,
    "start_time": "2023-06-03T19:02:31.764Z"
   },
   {
    "duration": 232,
    "start_time": "2023-06-03T19:02:31.880Z"
   },
   {
    "duration": 654,
    "start_time": "2023-06-03T19:02:32.114Z"
   },
   {
    "duration": 536,
    "start_time": "2023-06-03T19:02:32.770Z"
   },
   {
    "duration": 32,
    "start_time": "2023-06-03T19:02:33.307Z"
   },
   {
    "duration": 38,
    "start_time": "2023-06-03T19:02:33.341Z"
   },
   {
    "duration": 523,
    "start_time": "2023-06-03T19:02:33.381Z"
   },
   {
    "duration": 30,
    "start_time": "2023-06-03T19:02:33.906Z"
   },
   {
    "duration": 11,
    "start_time": "2023-06-03T19:02:33.938Z"
   },
   {
    "duration": 106,
    "start_time": "2023-06-03T19:02:33.950Z"
   },
   {
    "duration": 12,
    "start_time": "2023-06-03T19:03:00.061Z"
   },
   {
    "duration": 33,
    "start_time": "2023-06-03T19:18:26.379Z"
   },
   {
    "duration": 358,
    "start_time": "2023-06-03T19:21:09.288Z"
   },
   {
    "duration": 19,
    "start_time": "2023-06-03T19:22:08.356Z"
   },
   {
    "duration": 22,
    "start_time": "2023-06-03T19:22:25.356Z"
   },
   {
    "duration": 1080,
    "start_time": "2023-06-03T19:34:51.083Z"
   },
   {
    "duration": 90,
    "start_time": "2023-06-03T19:34:52.164Z"
   },
   {
    "duration": 26,
    "start_time": "2023-06-03T19:34:52.258Z"
   },
   {
    "duration": 51,
    "start_time": "2023-06-03T19:34:52.286Z"
   },
   {
    "duration": 11,
    "start_time": "2023-06-03T19:34:52.338Z"
   },
   {
    "duration": 17,
    "start_time": "2023-06-03T19:34:52.350Z"
   },
   {
    "duration": 11,
    "start_time": "2023-06-03T19:34:52.369Z"
   },
   {
    "duration": 22,
    "start_time": "2023-06-03T19:34:52.381Z"
   },
   {
    "duration": 35,
    "start_time": "2023-06-03T19:34:52.404Z"
   },
   {
    "duration": 21,
    "start_time": "2023-06-03T19:34:52.441Z"
   },
   {
    "duration": 584,
    "start_time": "2023-06-03T19:34:52.464Z"
   },
   {
    "duration": 31,
    "start_time": "2023-06-03T19:34:53.050Z"
   },
   {
    "duration": 276,
    "start_time": "2023-06-03T19:34:53.084Z"
   },
   {
    "duration": 5,
    "start_time": "2023-06-03T19:34:53.361Z"
   },
   {
    "duration": 175,
    "start_time": "2023-06-03T19:34:53.367Z"
   },
   {
    "duration": 112,
    "start_time": "2023-06-03T19:34:53.543Z"
   },
   {
    "duration": 242,
    "start_time": "2023-06-03T19:34:53.657Z"
   },
   {
    "duration": 626,
    "start_time": "2023-06-03T19:34:53.900Z"
   },
   {
    "duration": 532,
    "start_time": "2023-06-03T19:34:54.538Z"
   },
   {
    "duration": 35,
    "start_time": "2023-06-03T19:34:55.072Z"
   },
   {
    "duration": 48,
    "start_time": "2023-06-03T19:34:55.109Z"
   },
   {
    "duration": 484,
    "start_time": "2023-06-03T19:34:55.159Z"
   },
   {
    "duration": 22,
    "start_time": "2023-06-03T19:34:55.644Z"
   },
   {
    "duration": 26,
    "start_time": "2023-06-03T19:34:55.668Z"
   },
   {
    "duration": 3,
    "start_time": "2023-06-03T19:38:55.169Z"
   },
   {
    "duration": 66,
    "start_time": "2023-06-03T19:39:07.863Z"
   },
   {
    "duration": 126,
    "start_time": "2023-06-03T19:39:16.938Z"
   },
   {
    "duration": 24,
    "start_time": "2023-06-03T19:39:30.729Z"
   },
   {
    "duration": 4,
    "start_time": "2023-06-03T19:40:10.553Z"
   },
   {
    "duration": 23,
    "start_time": "2023-06-03T19:40:29.834Z"
   },
   {
    "duration": 92,
    "start_time": "2023-06-03T19:45:53.963Z"
   },
   {
    "duration": 184,
    "start_time": "2023-06-03T19:46:07.535Z"
   },
   {
    "duration": 187,
    "start_time": "2023-06-03T19:46:19.947Z"
   },
   {
    "duration": 89,
    "start_time": "2023-06-03T19:52:11.607Z"
   },
   {
    "duration": 1265,
    "start_time": "2023-06-04T08:19:48.302Z"
   },
   {
    "duration": 324,
    "start_time": "2023-06-04T08:19:49.569Z"
   },
   {
    "duration": 25,
    "start_time": "2023-06-04T08:19:49.895Z"
   },
   {
    "duration": 33,
    "start_time": "2023-06-04T08:19:49.922Z"
   },
   {
    "duration": 16,
    "start_time": "2023-06-04T08:19:49.956Z"
   },
   {
    "duration": 11,
    "start_time": "2023-06-04T08:19:49.973Z"
   },
   {
    "duration": 86,
    "start_time": "2023-06-04T08:19:49.986Z"
   },
   {
    "duration": 12,
    "start_time": "2023-06-04T08:19:50.073Z"
   },
   {
    "duration": 15,
    "start_time": "2023-06-04T08:19:50.086Z"
   },
   {
    "duration": 9,
    "start_time": "2023-06-04T08:19:50.104Z"
   },
   {
    "duration": 650,
    "start_time": "2023-06-04T08:19:50.114Z"
   },
   {
    "duration": 31,
    "start_time": "2023-06-04T08:19:50.766Z"
   },
   {
    "duration": 272,
    "start_time": "2023-06-04T08:19:50.799Z"
   },
   {
    "duration": 4,
    "start_time": "2023-06-04T08:19:51.073Z"
   },
   {
    "duration": 161,
    "start_time": "2023-06-04T08:19:51.078Z"
   },
   {
    "duration": 127,
    "start_time": "2023-06-04T08:19:51.241Z"
   },
   {
    "duration": 251,
    "start_time": "2023-06-04T08:19:51.369Z"
   },
   {
    "duration": 693,
    "start_time": "2023-06-04T08:19:51.622Z"
   },
   {
    "duration": 584,
    "start_time": "2023-06-04T08:19:52.316Z"
   },
   {
    "duration": 33,
    "start_time": "2023-06-04T08:19:52.902Z"
   },
   {
    "duration": 45,
    "start_time": "2023-06-04T08:19:52.937Z"
   },
   {
    "duration": 500,
    "start_time": "2023-06-04T08:19:52.984Z"
   },
   {
    "duration": 23,
    "start_time": "2023-06-04T08:19:53.485Z"
   },
   {
    "duration": 9,
    "start_time": "2023-06-04T08:19:53.510Z"
   },
   {
    "duration": 224,
    "start_time": "2023-06-04T08:19:53.521Z"
   },
   {
    "duration": 6,
    "start_time": "2023-06-04T09:18:11.229Z"
   },
   {
    "duration": 84,
    "start_time": "2023-06-04T09:26:07.633Z"
   },
   {
    "duration": 1237,
    "start_time": "2023-06-04T09:26:23.979Z"
   },
   {
    "duration": 107,
    "start_time": "2023-06-04T09:26:25.218Z"
   },
   {
    "duration": 44,
    "start_time": "2023-06-04T09:26:25.326Z"
   },
   {
    "duration": 31,
    "start_time": "2023-06-04T09:26:25.375Z"
   },
   {
    "duration": 11,
    "start_time": "2023-06-04T09:26:25.408Z"
   },
   {
    "duration": 18,
    "start_time": "2023-06-04T09:26:25.420Z"
   },
   {
    "duration": 24,
    "start_time": "2023-06-04T09:26:25.439Z"
   },
   {
    "duration": 12,
    "start_time": "2023-06-04T09:26:25.465Z"
   },
   {
    "duration": 16,
    "start_time": "2023-06-04T09:26:25.479Z"
   },
   {
    "duration": 11,
    "start_time": "2023-06-04T09:26:25.497Z"
   },
   {
    "duration": 729,
    "start_time": "2023-06-04T09:26:25.510Z"
   },
   {
    "duration": 57,
    "start_time": "2023-06-04T09:26:26.241Z"
   },
   {
    "duration": 309,
    "start_time": "2023-06-04T09:26:26.300Z"
   },
   {
    "duration": 5,
    "start_time": "2023-06-04T09:26:26.613Z"
   },
   {
    "duration": 194,
    "start_time": "2023-06-04T09:26:26.620Z"
   },
   {
    "duration": 151,
    "start_time": "2023-06-04T09:26:26.816Z"
   },
   {
    "duration": 288,
    "start_time": "2023-06-04T09:26:26.975Z"
   },
   {
    "duration": 740,
    "start_time": "2023-06-04T09:26:27.265Z"
   },
   {
    "duration": 610,
    "start_time": "2023-06-04T09:26:28.006Z"
   },
   {
    "duration": 42,
    "start_time": "2023-06-04T09:26:28.618Z"
   },
   {
    "duration": 59,
    "start_time": "2023-06-04T09:26:28.662Z"
   },
   {
    "duration": 616,
    "start_time": "2023-06-04T09:26:28.722Z"
   },
   {
    "duration": 44,
    "start_time": "2023-06-04T09:26:29.340Z"
   },
   {
    "duration": 12,
    "start_time": "2023-06-04T09:26:29.386Z"
   },
   {
    "duration": 254,
    "start_time": "2023-06-04T09:26:29.400Z"
   },
   {
    "duration": 58,
    "start_time": "2023-06-04T09:26:29.660Z"
   },
   {
    "duration": 0,
    "start_time": "2023-06-04T09:26:29.720Z"
   },
   {
    "duration": 0,
    "start_time": "2023-06-04T09:26:29.722Z"
   },
   {
    "duration": 0,
    "start_time": "2023-06-04T09:26:29.723Z"
   },
   {
    "duration": 0,
    "start_time": "2023-06-04T09:26:29.725Z"
   },
   {
    "duration": 1203,
    "start_time": "2023-06-04T09:26:58.065Z"
   },
   {
    "duration": 105,
    "start_time": "2023-06-04T09:26:59.274Z"
   },
   {
    "duration": 28,
    "start_time": "2023-06-04T09:26:59.381Z"
   },
   {
    "duration": 30,
    "start_time": "2023-06-04T09:26:59.410Z"
   },
   {
    "duration": 15,
    "start_time": "2023-06-04T09:26:59.453Z"
   },
   {
    "duration": 14,
    "start_time": "2023-06-04T09:26:59.470Z"
   },
   {
    "duration": 14,
    "start_time": "2023-06-04T09:26:59.486Z"
   },
   {
    "duration": 8,
    "start_time": "2023-06-04T09:26:59.501Z"
   },
   {
    "duration": 64,
    "start_time": "2023-06-04T09:26:59.510Z"
   },
   {
    "duration": 13,
    "start_time": "2023-06-04T09:26:59.578Z"
   },
   {
    "duration": 737,
    "start_time": "2023-06-04T09:26:59.593Z"
   },
   {
    "duration": 64,
    "start_time": "2023-06-04T09:27:00.336Z"
   },
   {
    "duration": 335,
    "start_time": "2023-06-04T09:27:00.402Z"
   },
   {
    "duration": 19,
    "start_time": "2023-06-04T09:27:00.740Z"
   },
   {
    "duration": 189,
    "start_time": "2023-06-04T09:27:00.762Z"
   },
   {
    "duration": 139,
    "start_time": "2023-06-04T09:27:00.952Z"
   },
   {
    "duration": 319,
    "start_time": "2023-06-04T09:27:01.093Z"
   },
   {
    "duration": 886,
    "start_time": "2023-06-04T09:27:01.414Z"
   },
   {
    "duration": 682,
    "start_time": "2023-06-04T09:27:02.302Z"
   },
   {
    "duration": 40,
    "start_time": "2023-06-04T09:27:02.986Z"
   },
   {
    "duration": 76,
    "start_time": "2023-06-04T09:27:03.028Z"
   },
   {
    "duration": 609,
    "start_time": "2023-06-04T09:27:03.105Z"
   },
   {
    "duration": 63,
    "start_time": "2023-06-04T09:27:03.716Z"
   },
   {
    "duration": 12,
    "start_time": "2023-06-04T09:27:03.780Z"
   },
   {
    "duration": 289,
    "start_time": "2023-06-04T09:27:03.794Z"
   },
   {
    "duration": 8,
    "start_time": "2023-06-04T09:27:04.086Z"
   },
   {
    "duration": 32,
    "start_time": "2023-06-04T09:27:04.096Z"
   },
   {
    "duration": 146,
    "start_time": "2023-06-04T09:27:04.130Z"
   },
   {
    "duration": 28,
    "start_time": "2023-06-04T09:27:52.376Z"
   },
   {
    "duration": 34,
    "start_time": "2023-06-04T09:35:19.697Z"
   },
   {
    "duration": 1083,
    "start_time": "2023-06-04T09:38:21.122Z"
   },
   {
    "duration": 1151,
    "start_time": "2023-06-04T09:42:41.328Z"
   },
   {
    "duration": 1422,
    "start_time": "2023-06-04T09:49:37.722Z"
   },
   {
    "duration": 258,
    "start_time": "2023-06-04T09:51:08.823Z"
   },
   {
    "duration": 279,
    "start_time": "2023-06-04T09:51:20.148Z"
   },
   {
    "duration": 266,
    "start_time": "2023-06-04T09:51:34.468Z"
   },
   {
    "duration": 264,
    "start_time": "2023-06-04T09:53:28.377Z"
   },
   {
    "duration": 23,
    "start_time": "2023-06-04T09:55:37.724Z"
   },
   {
    "duration": 1232,
    "start_time": "2023-06-04T09:55:48.740Z"
   },
   {
    "duration": 122,
    "start_time": "2023-06-04T09:55:49.974Z"
   },
   {
    "duration": 25,
    "start_time": "2023-06-04T09:55:50.098Z"
   },
   {
    "duration": 42,
    "start_time": "2023-06-04T09:55:50.124Z"
   },
   {
    "duration": 23,
    "start_time": "2023-06-04T09:55:50.169Z"
   },
   {
    "duration": 12,
    "start_time": "2023-06-04T09:55:50.195Z"
   },
   {
    "duration": 13,
    "start_time": "2023-06-04T09:55:50.208Z"
   },
   {
    "duration": 8,
    "start_time": "2023-06-04T09:55:50.223Z"
   },
   {
    "duration": 48,
    "start_time": "2023-06-04T09:55:50.232Z"
   },
   {
    "duration": 12,
    "start_time": "2023-06-04T09:55:50.282Z"
   },
   {
    "duration": 733,
    "start_time": "2023-06-04T09:55:50.296Z"
   },
   {
    "duration": 58,
    "start_time": "2023-06-04T09:55:51.030Z"
   },
   {
    "duration": 314,
    "start_time": "2023-06-04T09:55:51.091Z"
   },
   {
    "duration": 4,
    "start_time": "2023-06-04T09:55:51.408Z"
   },
   {
    "duration": 200,
    "start_time": "2023-06-04T09:55:51.413Z"
   },
   {
    "duration": 149,
    "start_time": "2023-06-04T09:55:51.615Z"
   },
   {
    "duration": 274,
    "start_time": "2023-06-04T09:55:51.766Z"
   },
   {
    "duration": 769,
    "start_time": "2023-06-04T09:55:52.042Z"
   },
   {
    "duration": 607,
    "start_time": "2023-06-04T09:55:52.813Z"
   },
   {
    "duration": 56,
    "start_time": "2023-06-04T09:55:53.422Z"
   },
   {
    "duration": 46,
    "start_time": "2023-06-04T09:55:53.485Z"
   },
   {
    "duration": 594,
    "start_time": "2023-06-04T09:55:53.533Z"
   },
   {
    "duration": 58,
    "start_time": "2023-06-04T09:55:54.129Z"
   },
   {
    "duration": 12,
    "start_time": "2023-06-04T09:55:54.192Z"
   },
   {
    "duration": 294,
    "start_time": "2023-06-04T09:55:54.206Z"
   },
   {
    "duration": 6,
    "start_time": "2023-06-04T09:55:54.502Z"
   },
   {
    "duration": 28,
    "start_time": "2023-06-04T09:55:54.510Z"
   },
   {
    "duration": 5,
    "start_time": "2023-06-04T09:55:54.540Z"
   },
   {
    "duration": 6,
    "start_time": "2023-06-04T09:58:23.904Z"
   },
   {
    "duration": 5,
    "start_time": "2023-06-04T10:00:32.176Z"
   },
   {
    "duration": 5,
    "start_time": "2023-06-04T10:01:36.925Z"
   },
   {
    "duration": 5,
    "start_time": "2023-06-04T10:01:46.186Z"
   },
   {
    "duration": 4,
    "start_time": "2023-06-04T10:05:41.304Z"
   },
   {
    "duration": 4,
    "start_time": "2023-06-04T10:05:56.077Z"
   },
   {
    "duration": 6,
    "start_time": "2023-06-04T10:06:27.179Z"
   },
   {
    "duration": 6,
    "start_time": "2023-06-04T10:06:48.707Z"
   },
   {
    "duration": 30,
    "start_time": "2023-06-04T10:16:38.782Z"
   },
   {
    "duration": 27,
    "start_time": "2023-06-04T10:18:11.392Z"
   },
   {
    "duration": 56,
    "start_time": "2023-06-04T10:19:34.122Z"
   },
   {
    "duration": 47,
    "start_time": "2023-06-04T10:19:49.660Z"
   },
   {
    "duration": 5,
    "start_time": "2023-06-04T10:20:30.427Z"
   },
   {
    "duration": 5,
    "start_time": "2023-06-04T10:21:12.099Z"
   },
   {
    "duration": 284,
    "start_time": "2023-06-04T10:22:59.308Z"
   },
   {
    "duration": 1288,
    "start_time": "2023-06-04T10:23:24.386Z"
   },
   {
    "duration": 110,
    "start_time": "2023-06-04T10:23:25.676Z"
   },
   {
    "duration": 29,
    "start_time": "2023-06-04T10:23:25.787Z"
   },
   {
    "duration": 47,
    "start_time": "2023-06-04T10:23:25.817Z"
   },
   {
    "duration": 18,
    "start_time": "2023-06-04T10:23:25.866Z"
   },
   {
    "duration": 14,
    "start_time": "2023-06-04T10:23:25.886Z"
   },
   {
    "duration": 15,
    "start_time": "2023-06-04T10:23:25.901Z"
   },
   {
    "duration": 47,
    "start_time": "2023-06-04T10:23:25.919Z"
   },
   {
    "duration": 21,
    "start_time": "2023-06-04T10:23:25.980Z"
   },
   {
    "duration": 13,
    "start_time": "2023-06-04T10:23:26.004Z"
   },
   {
    "duration": 766,
    "start_time": "2023-06-04T10:23:26.019Z"
   },
   {
    "duration": 36,
    "start_time": "2023-06-04T10:23:26.788Z"
   },
   {
    "duration": 383,
    "start_time": "2023-06-04T10:23:26.826Z"
   },
   {
    "duration": 5,
    "start_time": "2023-06-04T10:23:27.212Z"
   },
   {
    "duration": 188,
    "start_time": "2023-06-04T10:23:27.218Z"
   },
   {
    "duration": 162,
    "start_time": "2023-06-04T10:23:27.408Z"
   },
   {
    "duration": 304,
    "start_time": "2023-06-04T10:23:27.578Z"
   },
   {
    "duration": 804,
    "start_time": "2023-06-04T10:23:27.884Z"
   },
   {
    "duration": 654,
    "start_time": "2023-06-04T10:23:28.690Z"
   },
   {
    "duration": 51,
    "start_time": "2023-06-04T10:23:29.347Z"
   },
   {
    "duration": 85,
    "start_time": "2023-06-04T10:23:29.399Z"
   },
   {
    "duration": 615,
    "start_time": "2023-06-04T10:23:29.486Z"
   },
   {
    "duration": 23,
    "start_time": "2023-06-04T10:23:30.104Z"
   },
   {
    "duration": 50,
    "start_time": "2023-06-04T10:23:30.129Z"
   },
   {
    "duration": 311,
    "start_time": "2023-06-04T10:23:30.181Z"
   },
   {
    "duration": 6,
    "start_time": "2023-06-04T10:23:30.494Z"
   },
   {
    "duration": 67,
    "start_time": "2023-06-04T10:23:30.501Z"
   },
   {
    "duration": 62,
    "start_time": "2023-06-04T10:23:30.570Z"
   },
   {
    "duration": 1154,
    "start_time": "2023-06-04T10:23:30.634Z"
   },
   {
    "duration": 6,
    "start_time": "2023-06-04T10:27:00.313Z"
   },
   {
    "duration": 4,
    "start_time": "2023-06-04T10:28:24.792Z"
   },
   {
    "duration": 10,
    "start_time": "2023-06-04T10:28:36.947Z"
   },
   {
    "duration": 29,
    "start_time": "2023-06-04T10:29:02.499Z"
   },
   {
    "duration": 67,
    "start_time": "2023-06-04T10:29:21.851Z"
   },
   {
    "duration": 262,
    "start_time": "2023-06-04T10:30:11.106Z"
   },
   {
    "duration": 257,
    "start_time": "2023-06-04T10:30:15.779Z"
   },
   {
    "duration": 1346,
    "start_time": "2023-06-04T10:31:34.427Z"
   },
   {
    "duration": 105,
    "start_time": "2023-06-04T10:31:35.775Z"
   },
   {
    "duration": 28,
    "start_time": "2023-06-04T10:31:35.882Z"
   },
   {
    "duration": 33,
    "start_time": "2023-06-04T10:31:35.912Z"
   },
   {
    "duration": 31,
    "start_time": "2023-06-04T10:31:35.946Z"
   },
   {
    "duration": 15,
    "start_time": "2023-06-04T10:31:35.979Z"
   },
   {
    "duration": 15,
    "start_time": "2023-06-04T10:31:35.996Z"
   },
   {
    "duration": 9,
    "start_time": "2023-06-04T10:31:36.013Z"
   },
   {
    "duration": 59,
    "start_time": "2023-06-04T10:31:36.024Z"
   },
   {
    "duration": 13,
    "start_time": "2023-06-04T10:31:36.086Z"
   },
   {
    "duration": 744,
    "start_time": "2023-06-04T10:31:36.100Z"
   },
   {
    "duration": 50,
    "start_time": "2023-06-04T10:31:36.846Z"
   },
   {
    "duration": 320,
    "start_time": "2023-06-04T10:31:36.897Z"
   },
   {
    "duration": 4,
    "start_time": "2023-06-04T10:31:37.219Z"
   },
   {
    "duration": 195,
    "start_time": "2023-06-04T10:31:37.225Z"
   },
   {
    "duration": 144,
    "start_time": "2023-06-04T10:31:37.421Z"
   },
   {
    "duration": 316,
    "start_time": "2023-06-04T10:31:37.566Z"
   },
   {
    "duration": 796,
    "start_time": "2023-06-04T10:31:37.884Z"
   },
   {
    "duration": 660,
    "start_time": "2023-06-04T10:31:38.684Z"
   },
   {
    "duration": 56,
    "start_time": "2023-06-04T10:31:39.346Z"
   },
   {
    "duration": 77,
    "start_time": "2023-06-04T10:31:39.405Z"
   },
   {
    "duration": 645,
    "start_time": "2023-06-04T10:31:39.487Z"
   },
   {
    "duration": 51,
    "start_time": "2023-06-04T10:31:40.134Z"
   },
   {
    "duration": 12,
    "start_time": "2023-06-04T10:31:40.186Z"
   },
   {
    "duration": 257,
    "start_time": "2023-06-04T10:31:40.200Z"
   },
   {
    "duration": 11,
    "start_time": "2023-06-04T10:31:40.459Z"
   },
   {
    "duration": 56,
    "start_time": "2023-06-04T10:31:40.473Z"
   },
   {
    "duration": 7,
    "start_time": "2023-06-04T10:31:40.532Z"
   },
   {
    "duration": 6,
    "start_time": "2023-06-04T10:33:29.645Z"
   },
   {
    "duration": 5,
    "start_time": "2023-06-04T10:33:37.089Z"
   },
   {
    "duration": 11,
    "start_time": "2023-06-04T10:33:45.764Z"
   },
   {
    "duration": 6,
    "start_time": "2023-06-04T10:35:34.564Z"
   },
   {
    "duration": 28,
    "start_time": "2023-06-04T10:36:35.079Z"
   },
   {
    "duration": 28,
    "start_time": "2023-06-04T10:36:56.190Z"
   },
   {
    "duration": 29,
    "start_time": "2023-06-04T10:37:15.402Z"
   },
   {
    "duration": 6,
    "start_time": "2023-06-04T10:37:28.190Z"
   },
   {
    "duration": 109,
    "start_time": "2023-06-04T11:24:32.781Z"
   },
   {
    "duration": 12,
    "start_time": "2023-06-04T11:29:55.929Z"
   },
   {
    "duration": 3,
    "start_time": "2023-06-04T11:30:26.795Z"
   },
   {
    "duration": 1995,
    "start_time": "2023-06-04T11:30:35.011Z"
   },
   {
    "duration": 377,
    "start_time": "2023-06-04T11:30:37.052Z"
   },
   {
    "duration": 38,
    "start_time": "2023-06-04T11:30:37.431Z"
   },
   {
    "duration": 100,
    "start_time": "2023-06-04T11:30:37.471Z"
   },
   {
    "duration": 17,
    "start_time": "2023-06-04T11:30:37.574Z"
   },
   {
    "duration": 17,
    "start_time": "2023-06-04T11:30:37.593Z"
   },
   {
    "duration": 70,
    "start_time": "2023-06-04T11:30:37.611Z"
   },
   {
    "duration": 9,
    "start_time": "2023-06-04T11:30:37.684Z"
   },
   {
    "duration": 77,
    "start_time": "2023-06-04T11:30:37.694Z"
   },
   {
    "duration": 17,
    "start_time": "2023-06-04T11:30:37.772Z"
   },
   {
    "duration": 1713,
    "start_time": "2023-06-04T11:30:37.792Z"
   },
   {
    "duration": 95,
    "start_time": "2023-06-04T11:30:39.507Z"
   },
   {
    "duration": 475,
    "start_time": "2023-06-04T11:30:39.604Z"
   },
   {
    "duration": 5,
    "start_time": "2023-06-04T11:30:40.082Z"
   },
   {
    "duration": 173,
    "start_time": "2023-06-04T11:30:40.089Z"
   },
   {
    "duration": 143,
    "start_time": "2023-06-04T11:30:40.264Z"
   },
   {
    "duration": 311,
    "start_time": "2023-06-04T11:30:40.409Z"
   },
   {
    "duration": 780,
    "start_time": "2023-06-04T11:30:40.722Z"
   },
   {
    "duration": 606,
    "start_time": "2023-06-04T11:30:41.503Z"
   },
   {
    "duration": 34,
    "start_time": "2023-06-04T11:30:42.110Z"
   },
   {
    "duration": 57,
    "start_time": "2023-06-04T11:30:42.146Z"
   },
   {
    "duration": 571,
    "start_time": "2023-06-04T11:30:42.205Z"
   },
   {
    "duration": 24,
    "start_time": "2023-06-04T11:30:42.778Z"
   },
   {
    "duration": 11,
    "start_time": "2023-06-04T11:30:42.804Z"
   },
   {
    "duration": 318,
    "start_time": "2023-06-04T11:30:42.816Z"
   },
   {
    "duration": 21,
    "start_time": "2023-06-04T11:30:43.136Z"
   },
   {
    "duration": 10,
    "start_time": "2023-06-04T11:30:43.162Z"
   },
   {
    "duration": 7,
    "start_time": "2023-06-04T11:30:43.181Z"
   },
   {
    "duration": 1854,
    "start_time": "2023-06-04T11:30:43.190Z"
   },
   {
    "duration": 306,
    "start_time": "2023-06-04T11:31:55.302Z"
   },
   {
    "duration": 1881,
    "start_time": "2023-06-04T11:32:10.444Z"
   },
   {
    "duration": 3133,
    "start_time": "2023-06-04T11:32:45.382Z"
   },
   {
    "duration": 2212,
    "start_time": "2023-06-04T11:41:32.789Z"
   },
   {
    "duration": 2043,
    "start_time": "2023-06-04T11:41:52.668Z"
   },
   {
    "duration": 18447,
    "start_time": "2023-06-04T11:47:10.794Z"
   },
   {
    "duration": 1753,
    "start_time": "2023-06-04T11:49:48.799Z"
   },
   {
    "duration": 5054,
    "start_time": "2023-06-04T11:50:29.190Z"
   },
   {
    "duration": 149,
    "start_time": "2023-06-04T11:58:14.267Z"
   },
   {
    "duration": 4,
    "start_time": "2023-06-04T11:59:14.322Z"
   },
   {
    "duration": 1274,
    "start_time": "2023-06-04T11:59:23.174Z"
   },
   {
    "duration": 146,
    "start_time": "2023-06-04T11:59:24.457Z"
   },
   {
    "duration": 35,
    "start_time": "2023-06-04T11:59:24.606Z"
   },
   {
    "duration": 48,
    "start_time": "2023-06-04T11:59:24.643Z"
   },
   {
    "duration": 14,
    "start_time": "2023-06-04T11:59:24.694Z"
   },
   {
    "duration": 14,
    "start_time": "2023-06-04T11:59:24.712Z"
   },
   {
    "duration": 69,
    "start_time": "2023-06-04T11:59:24.728Z"
   },
   {
    "duration": 12,
    "start_time": "2023-06-04T11:59:24.799Z"
   },
   {
    "duration": 24,
    "start_time": "2023-06-04T11:59:24.813Z"
   },
   {
    "duration": 21,
    "start_time": "2023-06-04T11:59:24.839Z"
   },
   {
    "duration": 734,
    "start_time": "2023-06-04T11:59:24.862Z"
   },
   {
    "duration": 38,
    "start_time": "2023-06-04T11:59:25.598Z"
   },
   {
    "duration": 330,
    "start_time": "2023-06-04T11:59:25.637Z"
   },
   {
    "duration": 11,
    "start_time": "2023-06-04T11:59:25.970Z"
   },
   {
    "duration": 177,
    "start_time": "2023-06-04T11:59:25.982Z"
   },
   {
    "duration": 141,
    "start_time": "2023-06-04T11:59:26.165Z"
   },
   {
    "duration": 332,
    "start_time": "2023-06-04T11:59:26.308Z"
   },
   {
    "duration": 800,
    "start_time": "2023-06-04T11:59:26.642Z"
   },
   {
    "duration": 645,
    "start_time": "2023-06-04T11:59:27.444Z"
   },
   {
    "duration": 40,
    "start_time": "2023-06-04T11:59:28.091Z"
   },
   {
    "duration": 71,
    "start_time": "2023-06-04T11:59:28.133Z"
   },
   {
    "duration": 606,
    "start_time": "2023-06-04T11:59:28.206Z"
   },
   {
    "duration": 50,
    "start_time": "2023-06-04T11:59:28.814Z"
   },
   {
    "duration": 14,
    "start_time": "2023-06-04T11:59:28.867Z"
   },
   {
    "duration": 278,
    "start_time": "2023-06-04T11:59:28.882Z"
   },
   {
    "duration": 6,
    "start_time": "2023-06-04T11:59:29.161Z"
   },
   {
    "duration": 15,
    "start_time": "2023-06-04T11:59:29.169Z"
   },
   {
    "duration": 12,
    "start_time": "2023-06-04T11:59:29.186Z"
   },
   {
    "duration": 3762,
    "start_time": "2023-06-04T11:59:29.200Z"
   },
   {
    "duration": 8,
    "start_time": "2023-06-04T11:59:32.968Z"
   },
   {
    "duration": 6,
    "start_time": "2023-06-04T12:01:01.437Z"
   },
   {
    "duration": 6,
    "start_time": "2023-06-04T12:04:09.893Z"
   },
   {
    "duration": 6,
    "start_time": "2023-06-04T12:05:20.000Z"
   },
   {
    "duration": 16,
    "start_time": "2023-06-04T12:05:29.276Z"
   },
   {
    "duration": 6,
    "start_time": "2023-06-04T12:05:43.813Z"
   },
   {
    "duration": 15,
    "start_time": "2023-06-04T12:06:14.577Z"
   },
   {
    "duration": 373,
    "start_time": "2023-06-04T12:49:28.820Z"
   },
   {
    "duration": 1481,
    "start_time": "2023-06-04T12:51:19.283Z"
   },
   {
    "duration": 149,
    "start_time": "2023-06-04T12:51:20.766Z"
   },
   {
    "duration": 30,
    "start_time": "2023-06-04T12:51:20.917Z"
   },
   {
    "duration": 77,
    "start_time": "2023-06-04T12:51:20.949Z"
   },
   {
    "duration": 16,
    "start_time": "2023-06-04T12:51:21.029Z"
   },
   {
    "duration": 32,
    "start_time": "2023-06-04T12:51:21.047Z"
   },
   {
    "duration": 25,
    "start_time": "2023-06-04T12:51:21.081Z"
   },
   {
    "duration": 13,
    "start_time": "2023-06-04T12:51:21.108Z"
   },
   {
    "duration": 20,
    "start_time": "2023-06-04T12:51:21.124Z"
   },
   {
    "duration": 41,
    "start_time": "2023-06-04T12:51:21.155Z"
   },
   {
    "duration": 947,
    "start_time": "2023-06-04T12:51:21.198Z"
   },
   {
    "duration": 47,
    "start_time": "2023-06-04T12:51:22.150Z"
   },
   {
    "duration": 441,
    "start_time": "2023-06-04T12:51:22.199Z"
   },
   {
    "duration": 16,
    "start_time": "2023-06-04T12:51:22.645Z"
   },
   {
    "duration": 237,
    "start_time": "2023-06-04T12:51:22.669Z"
   },
   {
    "duration": 173,
    "start_time": "2023-06-04T12:51:22.910Z"
   },
   {
    "duration": 356,
    "start_time": "2023-06-04T12:51:23.085Z"
   },
   {
    "duration": 966,
    "start_time": "2023-06-04T12:51:23.444Z"
   },
   {
    "duration": 737,
    "start_time": "2023-06-04T12:51:24.416Z"
   },
   {
    "duration": 127,
    "start_time": "2023-06-04T12:51:25.163Z"
   },
   {
    "duration": 73,
    "start_time": "2023-06-04T12:51:25.295Z"
   },
   {
    "duration": 730,
    "start_time": "2023-06-04T12:51:25.370Z"
   },
   {
    "duration": 42,
    "start_time": "2023-06-04T12:51:26.103Z"
   },
   {
    "duration": 23,
    "start_time": "2023-06-04T12:51:26.147Z"
   },
   {
    "duration": 390,
    "start_time": "2023-06-04T12:51:26.172Z"
   },
   {
    "duration": 13,
    "start_time": "2023-06-04T12:51:26.564Z"
   },
   {
    "duration": 18,
    "start_time": "2023-06-04T12:51:26.579Z"
   },
   {
    "duration": 19,
    "start_time": "2023-06-04T12:51:26.599Z"
   },
   {
    "duration": 4487,
    "start_time": "2023-06-04T12:51:26.622Z"
   },
   {
    "duration": 11,
    "start_time": "2023-06-04T12:52:20.511Z"
   },
   {
    "duration": 100,
    "start_time": "2023-06-04T12:52:20.529Z"
   },
   {
    "duration": 0,
    "start_time": "2023-06-04T12:52:20.632Z"
   },
   {
    "duration": 47587,
    "start_time": "2023-06-04T12:53:17.202Z"
   },
   {
    "duration": 44,
    "start_time": "2023-06-04T12:54:04.854Z"
   },
   {
    "duration": 1477,
    "start_time": "2023-06-04T12:54:08.036Z"
   },
   {
    "duration": 121,
    "start_time": "2023-06-04T12:54:09.515Z"
   },
   {
    "duration": 49,
    "start_time": "2023-06-04T12:54:09.638Z"
   },
   {
    "duration": 45,
    "start_time": "2023-06-04T12:54:09.689Z"
   },
   {
    "duration": 23,
    "start_time": "2023-06-04T12:54:09.753Z"
   },
   {
    "duration": 33,
    "start_time": "2023-06-04T12:54:09.780Z"
   },
   {
    "duration": 19,
    "start_time": "2023-06-04T12:54:09.816Z"
   },
   {
    "duration": 19,
    "start_time": "2023-06-04T12:54:09.854Z"
   },
   {
    "duration": 27,
    "start_time": "2023-06-04T12:54:09.876Z"
   },
   {
    "duration": 14,
    "start_time": "2023-06-04T12:54:09.905Z"
   },
   {
    "duration": 978,
    "start_time": "2023-06-04T12:54:09.920Z"
   },
   {
    "duration": 40,
    "start_time": "2023-06-04T12:54:10.901Z"
   },
   {
    "duration": 367,
    "start_time": "2023-06-04T12:54:10.950Z"
   },
   {
    "duration": 6,
    "start_time": "2023-06-04T12:54:11.321Z"
   },
   {
    "duration": 204,
    "start_time": "2023-06-04T12:54:11.329Z"
   },
   {
    "duration": 163,
    "start_time": "2023-06-04T12:54:11.535Z"
   },
   {
    "duration": 310,
    "start_time": "2023-06-04T12:54:11.699Z"
   },
   {
    "duration": 887,
    "start_time": "2023-06-04T12:54:12.013Z"
   },
   {
    "duration": 658,
    "start_time": "2023-06-04T12:54:12.903Z"
   },
   {
    "duration": 59,
    "start_time": "2023-06-04T12:54:13.564Z"
   },
   {
    "duration": 89,
    "start_time": "2023-06-04T12:54:13.625Z"
   },
   {
    "duration": 758,
    "start_time": "2023-06-04T12:54:13.716Z"
   },
   {
    "duration": 55,
    "start_time": "2023-06-04T12:54:14.478Z"
   },
   {
    "duration": 35,
    "start_time": "2023-06-04T12:54:14.541Z"
   },
   {
    "duration": 408,
    "start_time": "2023-06-04T12:54:14.578Z"
   },
   {
    "duration": 15,
    "start_time": "2023-06-04T12:54:14.999Z"
   },
   {
    "duration": 12,
    "start_time": "2023-06-04T12:54:15.021Z"
   },
   {
    "duration": 18,
    "start_time": "2023-06-04T12:54:15.040Z"
   },
   {
    "duration": 4080,
    "start_time": "2023-06-04T12:54:15.065Z"
   },
   {
    "duration": 6,
    "start_time": "2023-06-04T12:56:46.652Z"
   },
   {
    "duration": 1280,
    "start_time": "2023-06-04T12:58:10.791Z"
   },
   {
    "duration": 120,
    "start_time": "2023-06-04T12:58:12.073Z"
   },
   {
    "duration": 28,
    "start_time": "2023-06-04T12:58:12.203Z"
   },
   {
    "duration": 53,
    "start_time": "2023-06-04T12:58:12.234Z"
   },
   {
    "duration": 16,
    "start_time": "2023-06-04T12:58:12.289Z"
   },
   {
    "duration": 12,
    "start_time": "2023-06-04T12:58:12.307Z"
   },
   {
    "duration": 44,
    "start_time": "2023-06-04T12:58:12.320Z"
   },
   {
    "duration": 9,
    "start_time": "2023-06-04T12:58:12.366Z"
   },
   {
    "duration": 29,
    "start_time": "2023-06-04T12:58:12.377Z"
   },
   {
    "duration": 11,
    "start_time": "2023-06-04T12:58:12.408Z"
   },
   {
    "duration": 877,
    "start_time": "2023-06-04T12:58:12.420Z"
   },
   {
    "duration": 34,
    "start_time": "2023-06-04T12:58:13.300Z"
   },
   {
    "duration": 326,
    "start_time": "2023-06-04T12:58:13.337Z"
   },
   {
    "duration": 7,
    "start_time": "2023-06-04T12:58:13.665Z"
   },
   {
    "duration": 194,
    "start_time": "2023-06-04T12:58:13.673Z"
   },
   {
    "duration": 137,
    "start_time": "2023-06-04T12:58:13.871Z"
   },
   {
    "duration": 369,
    "start_time": "2023-06-04T12:58:14.009Z"
   },
   {
    "duration": 896,
    "start_time": "2023-06-04T12:58:14.381Z"
   },
   {
    "duration": 678,
    "start_time": "2023-06-04T12:58:15.279Z"
   },
   {
    "duration": 56,
    "start_time": "2023-06-04T12:58:15.963Z"
   },
   {
    "duration": 72,
    "start_time": "2023-06-04T12:58:16.021Z"
   },
   {
    "duration": 606,
    "start_time": "2023-06-04T12:58:16.100Z"
   },
   {
    "duration": 24,
    "start_time": "2023-06-04T12:58:16.708Z"
   },
   {
    "duration": 27,
    "start_time": "2023-06-04T12:58:16.734Z"
   },
   {
    "duration": 279,
    "start_time": "2023-06-04T12:58:16.763Z"
   },
   {
    "duration": 7,
    "start_time": "2023-06-04T12:58:17.050Z"
   },
   {
    "duration": 6,
    "start_time": "2023-06-04T12:58:17.059Z"
   },
   {
    "duration": 16,
    "start_time": "2023-06-04T12:58:17.067Z"
   },
   {
    "duration": 42041,
    "start_time": "2023-06-04T12:58:17.085Z"
   },
   {
    "duration": 5,
    "start_time": "2023-06-04T12:58:59.128Z"
   },
   {
    "duration": 3701,
    "start_time": "2023-06-04T12:59:08.521Z"
   },
   {
    "duration": 42857,
    "start_time": "2023-06-04T12:59:27.733Z"
   },
   {
    "duration": 1529,
    "start_time": "2023-06-04T13:01:21.408Z"
   },
   {
    "duration": 1433,
    "start_time": "2023-06-04T13:01:38.284Z"
   },
   {
    "duration": 304,
    "start_time": "2023-06-04T13:01:52.602Z"
   },
   {
    "duration": 2054,
    "start_time": "2023-06-04T13:08:17.039Z"
   },
   {
    "duration": 2268,
    "start_time": "2023-06-04T13:10:12.306Z"
   },
   {
    "duration": 2822,
    "start_time": "2023-06-04T13:10:25.570Z"
   },
   {
    "duration": 3041,
    "start_time": "2023-06-04T13:20:27.292Z"
   },
   {
    "duration": 3185,
    "start_time": "2023-06-04T13:20:57.505Z"
   },
   {
    "duration": 12,
    "start_time": "2023-06-04T13:27:26.274Z"
   },
   {
    "duration": 8,
    "start_time": "2023-06-04T13:29:10.274Z"
   },
   {
    "duration": 3143,
    "start_time": "2023-06-04T13:29:18.367Z"
   },
   {
    "duration": 6,
    "start_time": "2023-06-04T13:29:21.514Z"
   },
   {
    "duration": 3060,
    "start_time": "2023-06-04T13:29:27.947Z"
   },
   {
    "duration": 7,
    "start_time": "2023-06-04T13:29:31.010Z"
   },
   {
    "duration": 2200,
    "start_time": "2023-06-04T13:29:41.940Z"
   },
   {
    "duration": 6,
    "start_time": "2023-06-04T13:29:45.617Z"
   },
   {
    "duration": 3121,
    "start_time": "2023-06-04T13:30:02.742Z"
   },
   {
    "duration": 8,
    "start_time": "2023-06-04T13:30:07.905Z"
   },
   {
    "duration": 2383,
    "start_time": "2023-06-04T13:30:15.558Z"
   },
   {
    "duration": 6,
    "start_time": "2023-06-04T13:30:18.827Z"
   },
   {
    "duration": 9,
    "start_time": "2023-06-04T13:36:09.242Z"
   },
   {
    "duration": 1153,
    "start_time": "2023-06-04T15:23:29.108Z"
   },
   {
    "duration": 90,
    "start_time": "2023-06-04T15:23:30.268Z"
   },
   {
    "duration": 38,
    "start_time": "2023-06-04T15:23:30.360Z"
   },
   {
    "duration": 64,
    "start_time": "2023-06-04T15:23:30.401Z"
   },
   {
    "duration": 13,
    "start_time": "2023-06-04T15:23:30.467Z"
   },
   {
    "duration": 53,
    "start_time": "2023-06-04T15:23:30.481Z"
   },
   {
    "duration": 53,
    "start_time": "2023-06-04T15:23:30.536Z"
   },
   {
    "duration": 50,
    "start_time": "2023-06-04T15:23:30.591Z"
   },
   {
    "duration": 42,
    "start_time": "2023-06-04T15:23:30.643Z"
   },
   {
    "duration": 38,
    "start_time": "2023-06-04T15:23:30.687Z"
   },
   {
    "duration": 771,
    "start_time": "2023-06-04T15:23:30.727Z"
   },
   {
    "duration": 69,
    "start_time": "2023-06-04T15:23:31.500Z"
   },
   {
    "duration": 382,
    "start_time": "2023-06-04T15:23:31.572Z"
   },
   {
    "duration": 10,
    "start_time": "2023-06-04T15:23:31.962Z"
   },
   {
    "duration": 171,
    "start_time": "2023-06-04T15:23:31.974Z"
   },
   {
    "duration": 141,
    "start_time": "2023-06-04T15:23:32.149Z"
   },
   {
    "duration": 295,
    "start_time": "2023-06-04T15:23:32.292Z"
   },
   {
    "duration": 753,
    "start_time": "2023-06-04T15:23:32.589Z"
   },
   {
    "duration": 574,
    "start_time": "2023-06-04T15:23:33.350Z"
   },
   {
    "duration": 46,
    "start_time": "2023-06-04T15:23:33.926Z"
   },
   {
    "duration": 53,
    "start_time": "2023-06-04T15:23:33.975Z"
   },
   {
    "duration": 640,
    "start_time": "2023-06-04T15:23:34.032Z"
   },
   {
    "duration": 25,
    "start_time": "2023-06-04T15:23:34.673Z"
   },
   {
    "duration": 13,
    "start_time": "2023-06-04T15:23:34.699Z"
   },
   {
    "duration": 295,
    "start_time": "2023-06-04T15:23:34.714Z"
   },
   {
    "duration": 8,
    "start_time": "2023-06-04T15:23:35.011Z"
   },
   {
    "duration": 6,
    "start_time": "2023-06-04T15:23:35.021Z"
   },
   {
    "duration": 9,
    "start_time": "2023-06-04T15:23:35.055Z"
   },
   {
    "duration": 2120,
    "start_time": "2023-06-04T15:23:35.065Z"
   },
   {
    "duration": 124,
    "start_time": "2023-06-04T15:23:37.187Z"
   },
   {
    "duration": 0,
    "start_time": "2023-06-04T15:23:37.314Z"
   },
   {
    "duration": 0,
    "start_time": "2023-06-04T15:23:37.315Z"
   },
   {
    "duration": 5,
    "start_time": "2023-06-04T15:24:05.688Z"
   },
   {
    "duration": 2123,
    "start_time": "2023-06-04T15:24:11.616Z"
   },
   {
    "duration": 6,
    "start_time": "2023-06-04T15:24:15.892Z"
   },
   {
    "duration": 273,
    "start_time": "2023-06-04T15:24:19.668Z"
   },
   {
    "duration": 8,
    "start_time": "2023-06-04T15:24:22.062Z"
   },
   {
    "duration": 1173,
    "start_time": "2023-06-04T15:57:20.265Z"
   },
   {
    "duration": 123,
    "start_time": "2023-06-04T15:57:21.440Z"
   },
   {
    "duration": 29,
    "start_time": "2023-06-04T15:57:21.565Z"
   },
   {
    "duration": 37,
    "start_time": "2023-06-04T15:57:21.596Z"
   },
   {
    "duration": 11,
    "start_time": "2023-06-04T15:57:21.635Z"
   },
   {
    "duration": 32,
    "start_time": "2023-06-04T15:57:21.648Z"
   },
   {
    "duration": 17,
    "start_time": "2023-06-04T15:57:21.682Z"
   },
   {
    "duration": 14,
    "start_time": "2023-06-04T15:57:21.701Z"
   },
   {
    "duration": 45,
    "start_time": "2023-06-04T15:57:21.717Z"
   },
   {
    "duration": 11,
    "start_time": "2023-06-04T15:57:21.767Z"
   },
   {
    "duration": 657,
    "start_time": "2023-06-04T15:57:21.779Z"
   },
   {
    "duration": 43,
    "start_time": "2023-06-04T15:57:22.451Z"
   },
   {
    "duration": 308,
    "start_time": "2023-06-04T15:57:22.495Z"
   },
   {
    "duration": 5,
    "start_time": "2023-06-04T15:57:22.806Z"
   },
   {
    "duration": 183,
    "start_time": "2023-06-04T15:57:22.812Z"
   },
   {
    "duration": 121,
    "start_time": "2023-06-04T15:57:22.997Z"
   },
   {
    "duration": 267,
    "start_time": "2023-06-04T15:57:23.120Z"
   },
   {
    "duration": 716,
    "start_time": "2023-06-04T15:57:23.389Z"
   },
   {
    "duration": 540,
    "start_time": "2023-06-04T15:57:24.106Z"
   },
   {
    "duration": 43,
    "start_time": "2023-06-04T15:57:24.651Z"
   },
   {
    "duration": 82,
    "start_time": "2023-06-04T15:57:24.696Z"
   },
   {
    "duration": 523,
    "start_time": "2023-06-04T15:57:24.780Z"
   },
   {
    "duration": 43,
    "start_time": "2023-06-04T15:57:25.304Z"
   },
   {
    "duration": 13,
    "start_time": "2023-06-04T15:57:25.348Z"
   },
   {
    "duration": 236,
    "start_time": "2023-06-04T15:57:25.370Z"
   },
   {
    "duration": 18,
    "start_time": "2023-06-04T15:57:25.608Z"
   },
   {
    "duration": 14,
    "start_time": "2023-06-04T15:57:25.629Z"
   },
   {
    "duration": 19,
    "start_time": "2023-06-04T15:57:25.653Z"
   },
   {
    "duration": 2023,
    "start_time": "2023-06-04T15:57:25.676Z"
   },
   {
    "duration": 5,
    "start_time": "2023-06-04T15:57:27.701Z"
   },
   {
    "duration": 287,
    "start_time": "2023-06-04T15:57:27.707Z"
   },
   {
    "duration": 5,
    "start_time": "2023-06-04T15:57:27.995Z"
   },
   {
    "duration": 146,
    "start_time": "2023-06-04T16:05:51.639Z"
   },
   {
    "duration": 8,
    "start_time": "2023-06-04T16:06:00.455Z"
   },
   {
    "duration": 1767,
    "start_time": "2023-06-04T16:17:53.032Z"
   },
   {
    "duration": 6,
    "start_time": "2023-06-04T16:17:55.510Z"
   },
   {
    "duration": 7,
    "start_time": "2023-06-04T16:18:51.515Z"
   },
   {
    "duration": 2515,
    "start_time": "2023-06-04T16:18:55.254Z"
   },
   {
    "duration": 7,
    "start_time": "2023-06-04T16:18:57.775Z"
   },
   {
    "duration": 558,
    "start_time": "2023-06-04T16:20:42.008Z"
   },
   {
    "duration": 1556,
    "start_time": "2023-06-04T16:21:28.114Z"
   },
   {
    "duration": 125,
    "start_time": "2023-06-04T16:21:29.673Z"
   },
   {
    "duration": 52,
    "start_time": "2023-06-04T16:21:29.800Z"
   },
   {
    "duration": 52,
    "start_time": "2023-06-04T16:21:29.857Z"
   },
   {
    "duration": 16,
    "start_time": "2023-06-04T16:21:29.911Z"
   },
   {
    "duration": 28,
    "start_time": "2023-06-04T16:21:29.931Z"
   },
   {
    "duration": 33,
    "start_time": "2023-06-04T16:21:29.960Z"
   },
   {
    "duration": 12,
    "start_time": "2023-06-04T16:21:29.996Z"
   },
   {
    "duration": 34,
    "start_time": "2023-06-04T16:21:30.011Z"
   },
   {
    "duration": 49,
    "start_time": "2023-06-04T16:21:30.053Z"
   },
   {
    "duration": 787,
    "start_time": "2023-06-04T16:21:30.104Z"
   },
   {
    "duration": 59,
    "start_time": "2023-06-04T16:21:30.893Z"
   },
   {
    "duration": 312,
    "start_time": "2023-06-04T16:21:30.956Z"
   },
   {
    "duration": 5,
    "start_time": "2023-06-04T16:21:31.270Z"
   },
   {
    "duration": 207,
    "start_time": "2023-06-04T16:21:31.277Z"
   },
   {
    "duration": 158,
    "start_time": "2023-06-04T16:21:31.486Z"
   },
   {
    "duration": 300,
    "start_time": "2023-06-04T16:21:31.649Z"
   },
   {
    "duration": 733,
    "start_time": "2023-06-04T16:21:31.951Z"
   },
   {
    "duration": 652,
    "start_time": "2023-06-04T16:21:32.686Z"
   },
   {
    "duration": 54,
    "start_time": "2023-06-04T16:21:33.340Z"
   },
   {
    "duration": 81,
    "start_time": "2023-06-04T16:21:33.396Z"
   },
   {
    "duration": 729,
    "start_time": "2023-06-04T16:21:33.479Z"
   },
   {
    "duration": 48,
    "start_time": "2023-06-04T16:21:34.209Z"
   },
   {
    "duration": 16,
    "start_time": "2023-06-04T16:21:34.259Z"
   },
   {
    "duration": 328,
    "start_time": "2023-06-04T16:21:34.278Z"
   },
   {
    "duration": 6,
    "start_time": "2023-06-04T16:21:34.607Z"
   },
   {
    "duration": 15,
    "start_time": "2023-06-04T16:21:34.633Z"
   },
   {
    "duration": 9,
    "start_time": "2023-06-04T16:21:34.660Z"
   },
   {
    "duration": 2208,
    "start_time": "2023-06-04T16:21:34.672Z"
   },
   {
    "duration": 7,
    "start_time": "2023-06-04T16:21:36.882Z"
   },
   {
    "duration": 313,
    "start_time": "2023-06-04T16:21:36.890Z"
   },
   {
    "duration": 5,
    "start_time": "2023-06-04T16:21:37.205Z"
   },
   {
    "duration": 83,
    "start_time": "2023-06-04T17:52:10.692Z"
   },
   {
    "duration": 61,
    "start_time": "2023-06-04T18:00:43.841Z"
   },
   {
    "duration": 165,
    "start_time": "2023-06-04T18:01:07.489Z"
   },
   {
    "duration": 14,
    "start_time": "2023-06-04T18:01:48.713Z"
   },
   {
    "duration": 10,
    "start_time": "2023-06-04T18:02:11.861Z"
   },
   {
    "duration": 13,
    "start_time": "2023-06-04T18:05:01.358Z"
   },
   {
    "duration": 12,
    "start_time": "2023-06-04T18:05:47.912Z"
   },
   {
    "duration": 467,
    "start_time": "2023-06-04T18:06:00.870Z"
   },
   {
    "duration": 107,
    "start_time": "2023-06-04T18:07:32.790Z"
   },
   {
    "duration": 200,
    "start_time": "2023-06-04T18:07:55.531Z"
   },
   {
    "duration": 12,
    "start_time": "2023-06-04T18:19:14.247Z"
   },
   {
    "duration": 11,
    "start_time": "2023-06-04T18:23:54.410Z"
   },
   {
    "duration": 400,
    "start_time": "2023-06-04T18:24:02.331Z"
   },
   {
    "duration": 2233,
    "start_time": "2023-06-04T18:24:13.942Z"
   },
   {
    "duration": 379,
    "start_time": "2023-06-04T18:25:12.745Z"
   },
   {
    "duration": 55,
    "start_time": "2023-06-04T18:27:23.724Z"
   },
   {
    "duration": 60,
    "start_time": "2023-06-04T18:27:31.441Z"
   },
   {
    "duration": 61,
    "start_time": "2023-06-04T18:28:05.412Z"
   },
   {
    "duration": 81,
    "start_time": "2023-06-04T18:28:25.109Z"
   },
   {
    "duration": 70,
    "start_time": "2023-06-04T18:34:29.343Z"
   },
   {
    "duration": 150,
    "start_time": "2023-06-04T18:34:42.800Z"
   },
   {
    "duration": 142,
    "start_time": "2023-06-04T18:35:11.002Z"
   },
   {
    "duration": 142,
    "start_time": "2023-06-04T18:36:34.797Z"
   },
   {
    "duration": 137,
    "start_time": "2023-06-04T18:36:47.264Z"
   },
   {
    "duration": 1169,
    "start_time": "2023-06-04T18:54:12.334Z"
   },
   {
    "duration": 1001,
    "start_time": "2023-06-04T18:54:24.398Z"
   },
   {
    "duration": 983,
    "start_time": "2023-06-04T18:55:44.944Z"
   },
   {
    "duration": 153,
    "start_time": "2023-06-04T18:55:49.721Z"
   },
   {
    "duration": 7,
    "start_time": "2023-06-04T19:20:38.710Z"
   },
   {
    "duration": 7,
    "start_time": "2023-06-04T19:20:50.039Z"
   },
   {
    "duration": 9,
    "start_time": "2023-06-04T19:21:01.790Z"
   },
   {
    "duration": 6,
    "start_time": "2023-06-04T19:26:05.647Z"
   },
   {
    "duration": 5,
    "start_time": "2023-06-04T19:26:07.097Z"
   },
   {
    "duration": 1098,
    "start_time": "2023-06-04T19:26:18.565Z"
   },
   {
    "duration": 84,
    "start_time": "2023-06-04T19:26:19.664Z"
   },
   {
    "duration": 26,
    "start_time": "2023-06-04T19:26:19.749Z"
   },
   {
    "duration": 31,
    "start_time": "2023-06-04T19:26:19.778Z"
   },
   {
    "duration": 40,
    "start_time": "2023-06-04T19:26:19.811Z"
   },
   {
    "duration": 18,
    "start_time": "2023-06-04T19:26:19.853Z"
   },
   {
    "duration": 25,
    "start_time": "2023-06-04T19:26:19.872Z"
   },
   {
    "duration": 19,
    "start_time": "2023-06-04T19:26:19.899Z"
   },
   {
    "duration": 17,
    "start_time": "2023-06-04T19:26:19.920Z"
   },
   {
    "duration": 18,
    "start_time": "2023-06-04T19:26:19.939Z"
   },
   {
    "duration": 636,
    "start_time": "2023-06-04T19:26:19.958Z"
   },
   {
    "duration": 36,
    "start_time": "2023-06-04T19:26:20.596Z"
   },
   {
    "duration": 283,
    "start_time": "2023-06-04T19:26:20.633Z"
   },
   {
    "duration": 5,
    "start_time": "2023-06-04T19:26:20.917Z"
   },
   {
    "duration": 154,
    "start_time": "2023-06-04T19:26:20.923Z"
   },
   {
    "duration": 141,
    "start_time": "2023-06-04T19:26:21.079Z"
   },
   {
    "duration": 247,
    "start_time": "2023-06-04T19:26:21.222Z"
   },
   {
    "duration": 631,
    "start_time": "2023-06-04T19:26:21.471Z"
   },
   {
    "duration": 587,
    "start_time": "2023-06-04T19:26:22.105Z"
   },
   {
    "duration": 36,
    "start_time": "2023-06-04T19:26:22.694Z"
   },
   {
    "duration": 51,
    "start_time": "2023-06-04T19:26:22.732Z"
   },
   {
    "duration": 624,
    "start_time": "2023-06-04T19:26:22.785Z"
   },
   {
    "duration": 23,
    "start_time": "2023-06-04T19:26:23.411Z"
   },
   {
    "duration": 23,
    "start_time": "2023-06-04T19:26:23.436Z"
   },
   {
    "duration": 236,
    "start_time": "2023-06-04T19:26:23.461Z"
   },
   {
    "duration": 8,
    "start_time": "2023-06-04T19:26:23.699Z"
   },
   {
    "duration": 12,
    "start_time": "2023-06-04T19:26:23.708Z"
   },
   {
    "duration": 18,
    "start_time": "2023-06-04T19:26:23.723Z"
   },
   {
    "duration": 1866,
    "start_time": "2023-06-04T19:26:23.743Z"
   },
   {
    "duration": 6,
    "start_time": "2023-06-04T19:26:25.611Z"
   },
   {
    "duration": 266,
    "start_time": "2023-06-04T19:26:25.619Z"
   },
   {
    "duration": 5,
    "start_time": "2023-06-04T19:26:25.887Z"
   },
   {
    "duration": 47,
    "start_time": "2023-06-04T19:28:47.541Z"
   },
   {
    "duration": 41,
    "start_time": "2023-06-04T19:28:53.519Z"
   },
   {
    "duration": 50,
    "start_time": "2023-06-04T19:28:56.538Z"
   },
   {
    "duration": 208,
    "start_time": "2023-06-04T19:33:48.584Z"
   },
   {
    "duration": 142,
    "start_time": "2023-06-04T19:33:58.065Z"
   },
   {
    "duration": 162,
    "start_time": "2023-06-04T19:38:36.529Z"
   },
   {
    "duration": 167,
    "start_time": "2023-06-04T19:41:22.424Z"
   },
   {
    "duration": 137,
    "start_time": "2023-06-04T19:41:43.370Z"
   },
   {
    "duration": 60,
    "start_time": "2023-06-04T19:52:49.773Z"
   },
   {
    "duration": 20,
    "start_time": "2023-06-04T19:56:30.599Z"
   },
   {
    "duration": 26,
    "start_time": "2023-06-04T19:57:17.616Z"
   },
   {
    "duration": 66,
    "start_time": "2023-06-04T19:58:51.437Z"
   },
   {
    "duration": 834,
    "start_time": "2023-06-04T19:59:07.081Z"
   },
   {
    "duration": 40,
    "start_time": "2023-06-04T20:01:41.187Z"
   },
   {
    "duration": 10,
    "start_time": "2023-06-04T20:07:15.504Z"
   },
   {
    "duration": 58,
    "start_time": "2023-06-04T20:08:22.328Z"
   },
   {
    "duration": 60,
    "start_time": "2023-06-04T20:08:35.121Z"
   },
   {
    "duration": 55,
    "start_time": "2023-06-04T20:08:38.593Z"
   },
   {
    "duration": 67,
    "start_time": "2023-06-04T20:09:18.914Z"
   },
   {
    "duration": 49,
    "start_time": "2023-06-04T20:09:26.255Z"
   },
   {
    "duration": 49,
    "start_time": "2023-06-04T20:09:48.571Z"
   },
   {
    "duration": 47,
    "start_time": "2023-06-04T20:09:54.404Z"
   },
   {
    "duration": 54,
    "start_time": "2023-06-04T20:10:11.139Z"
   },
   {
    "duration": 56,
    "start_time": "2023-06-04T20:10:27.647Z"
   },
   {
    "duration": 94,
    "start_time": "2023-06-04T20:10:32.406Z"
   },
   {
    "duration": 140,
    "start_time": "2023-06-04T20:10:39.863Z"
   },
   {
    "duration": 167,
    "start_time": "2023-06-04T20:10:44.407Z"
   },
   {
    "duration": 146,
    "start_time": "2023-06-04T20:10:54.761Z"
   },
   {
    "duration": 156,
    "start_time": "2023-06-04T20:11:20.530Z"
   },
   {
    "duration": 158,
    "start_time": "2023-06-04T20:12:32.835Z"
   },
   {
    "duration": 17,
    "start_time": "2023-06-04T20:12:50.197Z"
   },
   {
    "duration": 181,
    "start_time": "2023-06-04T20:13:01.428Z"
   },
   {
    "duration": 158,
    "start_time": "2023-06-04T20:13:15.967Z"
   },
   {
    "duration": 160,
    "start_time": "2023-06-04T20:15:05.662Z"
   },
   {
    "duration": 163,
    "start_time": "2023-06-04T20:16:32.344Z"
   },
   {
    "duration": 159,
    "start_time": "2023-06-04T20:17:05.356Z"
   },
   {
    "duration": 143,
    "start_time": "2023-06-04T20:17:10.079Z"
   },
   {
    "duration": 328,
    "start_time": "2023-06-04T20:17:31.193Z"
   },
   {
    "duration": 159,
    "start_time": "2023-06-04T20:17:39.918Z"
   },
   {
    "duration": 175,
    "start_time": "2023-06-04T20:17:48.400Z"
   },
   {
    "duration": 164,
    "start_time": "2023-06-04T20:19:00.878Z"
   },
   {
    "duration": 1178,
    "start_time": "2023-06-04T20:19:33.986Z"
   },
   {
    "duration": 81,
    "start_time": "2023-06-04T20:19:35.166Z"
   },
   {
    "duration": 29,
    "start_time": "2023-06-04T20:19:35.249Z"
   },
   {
    "duration": 32,
    "start_time": "2023-06-04T20:19:35.281Z"
   },
   {
    "duration": 47,
    "start_time": "2023-06-04T20:19:35.315Z"
   },
   {
    "duration": 13,
    "start_time": "2023-06-04T20:19:35.367Z"
   },
   {
    "duration": 15,
    "start_time": "2023-06-04T20:19:35.382Z"
   },
   {
    "duration": 7,
    "start_time": "2023-06-04T20:19:35.399Z"
   },
   {
    "duration": 17,
    "start_time": "2023-06-04T20:19:35.408Z"
   },
   {
    "duration": 31,
    "start_time": "2023-06-04T20:19:35.456Z"
   },
   {
    "duration": 642,
    "start_time": "2023-06-04T20:19:35.489Z"
   },
   {
    "duration": 45,
    "start_time": "2023-06-04T20:19:36.133Z"
   },
   {
    "duration": 307,
    "start_time": "2023-06-04T20:19:36.180Z"
   },
   {
    "duration": 6,
    "start_time": "2023-06-04T20:19:36.489Z"
   },
   {
    "duration": 203,
    "start_time": "2023-06-04T20:19:36.497Z"
   },
   {
    "duration": 171,
    "start_time": "2023-06-04T20:19:36.702Z"
   },
   {
    "duration": 249,
    "start_time": "2023-06-04T20:19:36.875Z"
   },
   {
    "duration": 689,
    "start_time": "2023-06-04T20:19:37.126Z"
   },
   {
    "duration": 551,
    "start_time": "2023-06-04T20:19:37.817Z"
   },
   {
    "duration": 48,
    "start_time": "2023-06-04T20:19:38.371Z"
   },
   {
    "duration": 52,
    "start_time": "2023-06-04T20:19:38.421Z"
   },
   {
    "duration": 521,
    "start_time": "2023-06-04T20:19:38.476Z"
   },
   {
    "duration": 23,
    "start_time": "2023-06-04T20:19:38.999Z"
   },
   {
    "duration": 29,
    "start_time": "2023-06-04T20:19:39.024Z"
   },
   {
    "duration": 230,
    "start_time": "2023-06-04T20:19:39.054Z"
   },
   {
    "duration": 7,
    "start_time": "2023-06-04T20:19:39.286Z"
   },
   {
    "duration": 6,
    "start_time": "2023-06-04T20:19:39.295Z"
   },
   {
    "duration": 6,
    "start_time": "2023-06-04T20:19:39.306Z"
   },
   {
    "duration": 1820,
    "start_time": "2023-06-04T20:19:39.314Z"
   },
   {
    "duration": 5,
    "start_time": "2023-06-04T20:19:41.136Z"
   },
   {
    "duration": 250,
    "start_time": "2023-06-04T20:19:41.150Z"
   },
   {
    "duration": 5,
    "start_time": "2023-06-04T20:19:41.402Z"
   },
   {
    "duration": 150,
    "start_time": "2023-06-04T20:20:06.392Z"
   },
   {
    "duration": 138,
    "start_time": "2023-06-04T20:20:21.170Z"
   },
   {
    "duration": 18,
    "start_time": "2023-06-04T20:22:24.649Z"
   },
   {
    "duration": 190,
    "start_time": "2023-06-04T20:24:52.540Z"
   },
   {
    "duration": 270,
    "start_time": "2023-06-04T20:26:40.922Z"
   },
   {
    "duration": 389,
    "start_time": "2023-06-04T20:26:47.346Z"
   },
   {
    "duration": 711,
    "start_time": "2023-06-04T20:29:26.231Z"
   },
   {
    "duration": 532,
    "start_time": "2023-06-04T20:31:23.641Z"
   },
   {
    "duration": 623,
    "start_time": "2023-06-04T20:31:42.950Z"
   },
   {
    "duration": 526,
    "start_time": "2023-06-04T20:32:03.437Z"
   },
   {
    "duration": 401,
    "start_time": "2023-06-04T20:38:37.405Z"
   },
   {
    "duration": 378,
    "start_time": "2023-06-04T20:42:01.961Z"
   },
   {
    "duration": 18,
    "start_time": "2023-06-04T20:42:09.874Z"
   },
   {
    "duration": 39,
    "start_time": "2023-06-04T20:46:02.439Z"
   },
   {
    "duration": 209,
    "start_time": "2023-06-04T20:46:39.263Z"
   },
   {
    "duration": 1087,
    "start_time": "2023-06-04T20:46:58.400Z"
   },
   {
    "duration": 82,
    "start_time": "2023-06-04T20:46:59.489Z"
   },
   {
    "duration": 28,
    "start_time": "2023-06-04T20:46:59.573Z"
   },
   {
    "duration": 48,
    "start_time": "2023-06-04T20:46:59.603Z"
   },
   {
    "duration": 14,
    "start_time": "2023-06-04T20:46:59.654Z"
   },
   {
    "duration": 19,
    "start_time": "2023-06-04T20:46:59.669Z"
   },
   {
    "duration": 17,
    "start_time": "2023-06-04T20:46:59.690Z"
   },
   {
    "duration": 9,
    "start_time": "2023-06-04T20:46:59.708Z"
   },
   {
    "duration": 48,
    "start_time": "2023-06-04T20:46:59.719Z"
   },
   {
    "duration": 28,
    "start_time": "2023-06-04T20:46:59.770Z"
   },
   {
    "duration": 645,
    "start_time": "2023-06-04T20:46:59.800Z"
   },
   {
    "duration": 44,
    "start_time": "2023-06-04T20:47:00.451Z"
   },
   {
    "duration": 309,
    "start_time": "2023-06-04T20:47:00.497Z"
   },
   {
    "duration": 4,
    "start_time": "2023-06-04T20:47:00.808Z"
   },
   {
    "duration": 247,
    "start_time": "2023-06-04T20:47:00.813Z"
   },
   {
    "duration": 139,
    "start_time": "2023-06-04T20:47:01.062Z"
   },
   {
    "duration": 294,
    "start_time": "2023-06-04T20:47:01.202Z"
   },
   {
    "duration": 15,
    "start_time": "2023-06-04T20:47:01.498Z"
   },
   {
    "duration": 884,
    "start_time": "2023-06-04T20:47:01.514Z"
   },
   {
    "duration": 1155,
    "start_time": "2023-06-04T20:47:02.400Z"
   },
   {
    "duration": 94,
    "start_time": "2023-06-04T20:47:03.558Z"
   },
   {
    "duration": 112,
    "start_time": "2023-06-04T20:47:03.654Z"
   },
   {
    "duration": 778,
    "start_time": "2023-06-04T20:47:03.768Z"
   },
   {
    "duration": 16,
    "start_time": "2023-06-04T20:47:04.552Z"
   },
   {
    "duration": 31,
    "start_time": "2023-06-04T20:47:04.569Z"
   },
   {
    "duration": 334,
    "start_time": "2023-06-04T20:47:04.602Z"
   },
   {
    "duration": 0,
    "start_time": "2023-06-04T20:47:04.938Z"
   },
   {
    "duration": 0,
    "start_time": "2023-06-04T20:47:04.939Z"
   },
   {
    "duration": 0,
    "start_time": "2023-06-04T20:47:04.941Z"
   },
   {
    "duration": 0,
    "start_time": "2023-06-04T20:47:04.942Z"
   },
   {
    "duration": 0,
    "start_time": "2023-06-04T20:47:04.949Z"
   },
   {
    "duration": 0,
    "start_time": "2023-06-04T20:47:04.950Z"
   },
   {
    "duration": 0,
    "start_time": "2023-06-04T20:47:04.951Z"
   },
   {
    "duration": 30,
    "start_time": "2023-06-04T20:47:21.682Z"
   },
   {
    "duration": 227,
    "start_time": "2023-06-04T20:48:16.867Z"
   },
   {
    "duration": 984,
    "start_time": "2023-06-04T20:48:38.834Z"
   },
   {
    "duration": 1084,
    "start_time": "2023-06-04T20:49:53.787Z"
   },
   {
    "duration": 1128,
    "start_time": "2023-06-04T20:50:20.976Z"
   },
   {
    "duration": 1092,
    "start_time": "2023-06-04T20:51:48.001Z"
   },
   {
    "duration": 93,
    "start_time": "2023-06-04T20:51:49.095Z"
   },
   {
    "duration": 24,
    "start_time": "2023-06-04T20:51:49.190Z"
   },
   {
    "duration": 62,
    "start_time": "2023-06-04T20:51:49.216Z"
   },
   {
    "duration": 11,
    "start_time": "2023-06-04T20:51:49.279Z"
   },
   {
    "duration": 12,
    "start_time": "2023-06-04T20:51:49.291Z"
   },
   {
    "duration": 14,
    "start_time": "2023-06-04T20:51:49.305Z"
   },
   {
    "duration": 9,
    "start_time": "2023-06-04T20:51:49.320Z"
   },
   {
    "duration": 34,
    "start_time": "2023-06-04T20:51:49.331Z"
   },
   {
    "duration": 33,
    "start_time": "2023-06-04T20:51:49.368Z"
   },
   {
    "duration": 714,
    "start_time": "2023-06-04T20:51:49.402Z"
   },
   {
    "duration": 55,
    "start_time": "2023-06-04T20:51:50.118Z"
   },
   {
    "duration": 301,
    "start_time": "2023-06-04T20:51:50.175Z"
   },
   {
    "duration": 6,
    "start_time": "2023-06-04T20:51:50.479Z"
   },
   {
    "duration": 168,
    "start_time": "2023-06-04T20:51:50.491Z"
   },
   {
    "duration": 139,
    "start_time": "2023-06-04T20:51:50.666Z"
   },
   {
    "duration": 279,
    "start_time": "2023-06-04T20:51:50.807Z"
   },
   {
    "duration": 14,
    "start_time": "2023-06-04T20:51:51.088Z"
   },
   {
    "duration": 725,
    "start_time": "2023-06-04T20:51:51.104Z"
   },
   {
    "duration": 545,
    "start_time": "2023-06-04T20:51:51.830Z"
   },
   {
    "duration": 35,
    "start_time": "2023-06-04T20:51:52.379Z"
   },
   {
    "duration": 48,
    "start_time": "2023-06-04T20:51:52.415Z"
   },
   {
    "duration": 539,
    "start_time": "2023-06-04T20:51:52.465Z"
   },
   {
    "duration": 13,
    "start_time": "2023-06-04T20:51:53.006Z"
   },
   {
    "duration": 50,
    "start_time": "2023-06-04T20:51:53.020Z"
   },
   {
    "duration": 1144,
    "start_time": "2023-06-04T20:51:53.071Z"
   },
   {
    "duration": 0,
    "start_time": "2023-06-04T20:51:54.217Z"
   },
   {
    "duration": 0,
    "start_time": "2023-06-04T20:51:54.218Z"
   },
   {
    "duration": 0,
    "start_time": "2023-06-04T20:51:54.220Z"
   },
   {
    "duration": 0,
    "start_time": "2023-06-04T20:51:54.221Z"
   },
   {
    "duration": 0,
    "start_time": "2023-06-04T20:51:54.223Z"
   },
   {
    "duration": 0,
    "start_time": "2023-06-04T20:51:54.224Z"
   },
   {
    "duration": 0,
    "start_time": "2023-06-04T20:51:54.226Z"
   },
   {
    "duration": 1117,
    "start_time": "2023-06-04T20:52:44.991Z"
   },
   {
    "duration": 211,
    "start_time": "2023-06-04T20:55:07.578Z"
   },
   {
    "duration": 41,
    "start_time": "2023-06-04T20:57:58.244Z"
   },
   {
    "duration": 29,
    "start_time": "2023-06-04T20:58:27.275Z"
   },
   {
    "duration": 28,
    "start_time": "2023-06-04T20:58:30.177Z"
   },
   {
    "duration": 1163,
    "start_time": "2023-06-04T20:58:36.424Z"
   },
   {
    "duration": 99,
    "start_time": "2023-06-04T20:58:37.589Z"
   },
   {
    "duration": 25,
    "start_time": "2023-06-04T20:58:37.689Z"
   },
   {
    "duration": 28,
    "start_time": "2023-06-04T20:58:37.716Z"
   },
   {
    "duration": 30,
    "start_time": "2023-06-04T20:58:37.745Z"
   },
   {
    "duration": 11,
    "start_time": "2023-06-04T20:58:37.777Z"
   },
   {
    "duration": 15,
    "start_time": "2023-06-04T20:58:37.789Z"
   },
   {
    "duration": 8,
    "start_time": "2023-06-04T20:58:37.805Z"
   },
   {
    "duration": 17,
    "start_time": "2023-06-04T20:58:37.814Z"
   },
   {
    "duration": 37,
    "start_time": "2023-06-04T20:58:37.854Z"
   },
   {
    "duration": 645,
    "start_time": "2023-06-04T20:58:37.892Z"
   },
   {
    "duration": 44,
    "start_time": "2023-06-04T20:58:38.538Z"
   },
   {
    "duration": 285,
    "start_time": "2023-06-04T20:58:38.583Z"
   },
   {
    "duration": 4,
    "start_time": "2023-06-04T20:58:38.870Z"
   },
   {
    "duration": 172,
    "start_time": "2023-06-04T20:58:38.876Z"
   },
   {
    "duration": 151,
    "start_time": "2023-06-04T20:58:39.053Z"
   },
   {
    "duration": 265,
    "start_time": "2023-06-04T20:58:39.206Z"
   },
   {
    "duration": 14,
    "start_time": "2023-06-04T20:58:39.472Z"
   },
   {
    "duration": 685,
    "start_time": "2023-06-04T20:58:39.488Z"
   },
   {
    "duration": 537,
    "start_time": "2023-06-04T20:58:40.175Z"
   },
   {
    "duration": 33,
    "start_time": "2023-06-04T20:58:40.714Z"
   },
   {
    "duration": 48,
    "start_time": "2023-06-04T20:58:40.751Z"
   },
   {
    "duration": 520,
    "start_time": "2023-06-04T20:58:40.801Z"
   },
   {
    "duration": 14,
    "start_time": "2023-06-04T20:58:41.322Z"
   },
   {
    "duration": 45,
    "start_time": "2023-06-04T20:58:41.337Z"
   },
   {
    "duration": 221,
    "start_time": "2023-06-04T20:58:41.383Z"
   },
   {
    "duration": 8,
    "start_time": "2023-06-04T20:58:41.606Z"
   },
   {
    "duration": 5,
    "start_time": "2023-06-04T20:58:41.617Z"
   },
   {
    "duration": 150,
    "start_time": "2023-06-04T20:58:41.624Z"
   },
   {
    "duration": 0,
    "start_time": "2023-06-04T20:58:41.775Z"
   },
   {
    "duration": 0,
    "start_time": "2023-06-04T20:58:41.777Z"
   },
   {
    "duration": 0,
    "start_time": "2023-06-04T20:58:41.778Z"
   },
   {
    "duration": 0,
    "start_time": "2023-06-04T20:58:41.779Z"
   },
   {
    "duration": 37,
    "start_time": "2023-06-04T21:00:27.365Z"
   },
   {
    "duration": 9,
    "start_time": "2023-06-04T21:01:34.608Z"
   },
   {
    "duration": 29,
    "start_time": "2023-06-04T21:02:38.098Z"
   },
   {
    "duration": 30,
    "start_time": "2023-06-04T21:03:08.567Z"
   },
   {
    "duration": 30,
    "start_time": "2023-06-04T21:03:36.108Z"
   },
   {
    "duration": 60,
    "start_time": "2023-06-04T21:05:29.380Z"
   },
   {
    "duration": 1121,
    "start_time": "2023-06-04T21:06:44.103Z"
   },
   {
    "duration": 86,
    "start_time": "2023-06-04T21:06:45.226Z"
   },
   {
    "duration": 24,
    "start_time": "2023-06-04T21:06:45.314Z"
   },
   {
    "duration": 35,
    "start_time": "2023-06-04T21:06:45.340Z"
   },
   {
    "duration": 10,
    "start_time": "2023-06-04T21:06:45.377Z"
   },
   {
    "duration": 11,
    "start_time": "2023-06-04T21:06:45.389Z"
   },
   {
    "duration": 12,
    "start_time": "2023-06-04T21:06:45.401Z"
   },
   {
    "duration": 8,
    "start_time": "2023-06-04T21:06:45.414Z"
   },
   {
    "duration": 51,
    "start_time": "2023-06-04T21:06:45.423Z"
   },
   {
    "duration": 36,
    "start_time": "2023-06-04T21:06:45.478Z"
   },
   {
    "duration": 671,
    "start_time": "2023-06-04T21:06:45.517Z"
   },
   {
    "duration": 31,
    "start_time": "2023-06-04T21:06:46.190Z"
   },
   {
    "duration": 321,
    "start_time": "2023-06-04T21:06:46.222Z"
   },
   {
    "duration": 23,
    "start_time": "2023-06-04T21:06:46.545Z"
   },
   {
    "duration": 173,
    "start_time": "2023-06-04T21:06:46.570Z"
   },
   {
    "duration": 157,
    "start_time": "2023-06-04T21:06:46.745Z"
   },
   {
    "duration": 270,
    "start_time": "2023-06-04T21:06:46.904Z"
   },
   {
    "duration": 14,
    "start_time": "2023-06-04T21:06:47.176Z"
   },
   {
    "duration": 704,
    "start_time": "2023-06-04T21:06:47.192Z"
   },
   {
    "duration": 567,
    "start_time": "2023-06-04T21:06:47.898Z"
   },
   {
    "duration": 35,
    "start_time": "2023-06-04T21:06:48.468Z"
   },
   {
    "duration": 47,
    "start_time": "2023-06-04T21:06:48.505Z"
   },
   {
    "duration": 522,
    "start_time": "2023-06-04T21:06:48.554Z"
   },
   {
    "duration": 13,
    "start_time": "2023-06-04T21:06:49.078Z"
   },
   {
    "duration": 30,
    "start_time": "2023-06-04T21:06:49.092Z"
   },
   {
    "duration": 221,
    "start_time": "2023-06-04T21:06:49.124Z"
   },
   {
    "duration": 12,
    "start_time": "2023-06-04T21:06:49.353Z"
   },
   {
    "duration": 5,
    "start_time": "2023-06-04T21:06:49.369Z"
   },
   {
    "duration": 28,
    "start_time": "2023-06-04T21:06:49.375Z"
   },
   {
    "duration": 1825,
    "start_time": "2023-06-04T21:06:49.405Z"
   },
   {
    "duration": 5,
    "start_time": "2023-06-04T21:06:51.231Z"
   },
   {
    "duration": 267,
    "start_time": "2023-06-04T21:06:51.238Z"
   },
   {
    "duration": 8,
    "start_time": "2023-06-04T21:06:51.507Z"
   },
   {
    "duration": 214,
    "start_time": "2023-06-04T21:10:20.720Z"
   },
   {
    "duration": 136,
    "start_time": "2023-06-04T21:10:54.366Z"
   },
   {
    "duration": 235,
    "start_time": "2023-06-04T21:11:03.430Z"
   },
   {
    "duration": 236,
    "start_time": "2023-06-04T21:11:15.150Z"
   },
   {
    "duration": 50,
    "start_time": "2023-06-04T21:13:36.103Z"
   },
   {
    "duration": 53,
    "start_time": "2023-06-04T21:13:53.767Z"
   },
   {
    "duration": 49,
    "start_time": "2023-06-04T21:13:59.216Z"
   },
   {
    "duration": 51,
    "start_time": "2023-06-04T21:14:03.553Z"
   },
   {
    "duration": 117,
    "start_time": "2023-06-04T21:19:34.427Z"
   },
   {
    "duration": 347,
    "start_time": "2023-06-04T21:19:47.557Z"
   },
   {
    "duration": 124,
    "start_time": "2023-06-04T21:20:36.573Z"
   },
   {
    "duration": 261,
    "start_time": "2023-06-04T21:20:56.133Z"
   },
   {
    "duration": 207,
    "start_time": "2023-06-04T21:21:21.521Z"
   },
   {
    "duration": 169,
    "start_time": "2023-06-04T21:21:30.281Z"
   },
   {
    "duration": 147,
    "start_time": "2023-06-04T21:21:43.434Z"
   },
   {
    "duration": 145,
    "start_time": "2023-06-04T21:22:20.069Z"
   },
   {
    "duration": 282,
    "start_time": "2023-06-04T21:22:44.236Z"
   },
   {
    "duration": 194,
    "start_time": "2023-06-04T21:22:49.702Z"
   },
   {
    "duration": 145,
    "start_time": "2023-06-04T21:22:57.989Z"
   },
   {
    "duration": 182,
    "start_time": "2023-06-04T21:23:03.295Z"
   },
   {
    "duration": 191,
    "start_time": "2023-06-04T21:23:09.490Z"
   },
   {
    "duration": 162,
    "start_time": "2023-06-04T21:23:19.169Z"
   },
   {
    "duration": 217,
    "start_time": "2023-06-04T21:23:34.873Z"
   },
   {
    "duration": 193,
    "start_time": "2023-06-04T21:23:44.209Z"
   },
   {
    "duration": 305,
    "start_time": "2023-06-04T21:23:51.816Z"
   },
   {
    "duration": 239,
    "start_time": "2023-06-04T21:24:03.598Z"
   },
   {
    "duration": 149,
    "start_time": "2023-06-04T21:24:13.005Z"
   },
   {
    "duration": 206,
    "start_time": "2023-06-04T21:24:17.376Z"
   },
   {
    "duration": 1890,
    "start_time": "2023-06-04T21:27:46.409Z"
   },
   {
    "duration": 1975,
    "start_time": "2023-06-04T21:28:15.945Z"
   },
   {
    "duration": 9,
    "start_time": "2023-06-04T21:28:57.857Z"
   },
   {
    "duration": 1954,
    "start_time": "2023-06-04T21:29:44.930Z"
   },
   {
    "duration": 5,
    "start_time": "2023-06-04T21:29:49.224Z"
   },
   {
    "duration": 46,
    "start_time": "2023-06-04T21:31:44.290Z"
   },
   {
    "duration": 1105,
    "start_time": "2023-06-04T21:34:32.823Z"
   },
   {
    "duration": 97,
    "start_time": "2023-06-04T21:34:33.929Z"
   },
   {
    "duration": 30,
    "start_time": "2023-06-04T21:34:34.028Z"
   },
   {
    "duration": 41,
    "start_time": "2023-06-04T21:34:34.060Z"
   },
   {
    "duration": 13,
    "start_time": "2023-06-04T21:34:34.103Z"
   },
   {
    "duration": 37,
    "start_time": "2023-06-04T21:34:34.118Z"
   },
   {
    "duration": 18,
    "start_time": "2023-06-04T21:34:34.157Z"
   },
   {
    "duration": 9,
    "start_time": "2023-06-04T21:34:34.176Z"
   },
   {
    "duration": 19,
    "start_time": "2023-06-04T21:34:34.186Z"
   },
   {
    "duration": 69,
    "start_time": "2023-06-04T21:34:34.208Z"
   },
   {
    "duration": 631,
    "start_time": "2023-06-04T21:34:34.279Z"
   },
   {
    "duration": 52,
    "start_time": "2023-06-04T21:34:34.912Z"
   },
   {
    "duration": 266,
    "start_time": "2023-06-04T21:34:34.966Z"
   },
   {
    "duration": 5,
    "start_time": "2023-06-04T21:34:35.233Z"
   },
   {
    "duration": 163,
    "start_time": "2023-06-04T21:34:35.250Z"
   },
   {
    "duration": 162,
    "start_time": "2023-06-04T21:34:35.414Z"
   },
   {
    "duration": 253,
    "start_time": "2023-06-04T21:34:35.578Z"
   },
   {
    "duration": 33,
    "start_time": "2023-06-04T21:34:35.832Z"
   },
   {
    "duration": 723,
    "start_time": "2023-06-04T21:34:35.866Z"
   },
   {
    "duration": 537,
    "start_time": "2023-06-04T21:34:36.591Z"
   },
   {
    "duration": 36,
    "start_time": "2023-06-04T21:34:37.130Z"
   },
   {
    "duration": 39,
    "start_time": "2023-06-04T21:34:37.168Z"
   },
   {
    "duration": 506,
    "start_time": "2023-06-04T21:34:37.209Z"
   },
   {
    "duration": 13,
    "start_time": "2023-06-04T21:34:37.717Z"
   },
   {
    "duration": 43,
    "start_time": "2023-06-04T21:34:37.732Z"
   },
   {
    "duration": 206,
    "start_time": "2023-06-04T21:34:37.776Z"
   },
   {
    "duration": 7,
    "start_time": "2023-06-04T21:34:37.984Z"
   },
   {
    "duration": 5,
    "start_time": "2023-06-04T21:34:37.994Z"
   },
   {
    "duration": 47,
    "start_time": "2023-06-04T21:34:38.000Z"
   },
   {
    "duration": 1723,
    "start_time": "2023-06-04T21:34:38.050Z"
   },
   {
    "duration": 5,
    "start_time": "2023-06-04T21:34:39.775Z"
   },
   {
    "duration": 191,
    "start_time": "2023-06-04T21:34:39.782Z"
   },
   {
    "duration": 5,
    "start_time": "2023-06-04T21:34:39.974Z"
   },
   {
    "duration": 1856,
    "start_time": "2023-06-04T21:34:52.978Z"
   },
   {
    "duration": 1010,
    "start_time": "2023-06-05T14:02:26.645Z"
   },
   {
    "duration": 82,
    "start_time": "2023-06-05T14:02:27.657Z"
   },
   {
    "duration": 22,
    "start_time": "2023-06-05T14:02:27.741Z"
   },
   {
    "duration": 34,
    "start_time": "2023-06-05T14:02:27.765Z"
   },
   {
    "duration": 9,
    "start_time": "2023-06-05T14:02:27.800Z"
   },
   {
    "duration": 33,
    "start_time": "2023-06-05T14:02:27.811Z"
   },
   {
    "duration": 13,
    "start_time": "2023-06-05T14:02:27.845Z"
   },
   {
    "duration": 7,
    "start_time": "2023-06-05T14:02:27.859Z"
   },
   {
    "duration": 38,
    "start_time": "2023-06-05T14:02:27.867Z"
   },
   {
    "duration": 25,
    "start_time": "2023-06-05T14:02:27.908Z"
   },
   {
    "duration": 519,
    "start_time": "2023-06-05T14:02:27.934Z"
   },
   {
    "duration": 40,
    "start_time": "2023-06-05T14:02:28.454Z"
   },
   {
    "duration": 259,
    "start_time": "2023-06-05T14:02:28.496Z"
   },
   {
    "duration": 4,
    "start_time": "2023-06-05T14:02:28.757Z"
   },
   {
    "duration": 176,
    "start_time": "2023-06-05T14:02:28.763Z"
   },
   {
    "duration": 116,
    "start_time": "2023-06-05T14:02:28.941Z"
   },
   {
    "duration": 205,
    "start_time": "2023-06-05T14:02:29.059Z"
   },
   {
    "duration": 19,
    "start_time": "2023-06-05T14:02:29.266Z"
   },
   {
    "duration": 563,
    "start_time": "2023-06-05T14:02:29.287Z"
   },
   {
    "duration": 454,
    "start_time": "2023-06-05T14:02:29.852Z"
   },
   {
    "duration": 29,
    "start_time": "2023-06-05T14:02:30.308Z"
   },
   {
    "duration": 57,
    "start_time": "2023-06-05T14:02:30.338Z"
   },
   {
    "duration": 425,
    "start_time": "2023-06-05T14:02:30.396Z"
   },
   {
    "duration": 11,
    "start_time": "2023-06-05T14:02:30.823Z"
   },
   {
    "duration": 152,
    "start_time": "2023-06-05T14:02:30.835Z"
   },
   {
    "duration": 191,
    "start_time": "2023-06-05T14:02:30.988Z"
   },
   {
    "duration": 8,
    "start_time": "2023-06-05T14:02:31.180Z"
   },
   {
    "duration": 46,
    "start_time": "2023-06-05T14:02:31.191Z"
   },
   {
    "duration": 261,
    "start_time": "2023-06-05T14:02:31.238Z"
   },
   {
    "duration": 1360,
    "start_time": "2023-06-05T14:02:31.501Z"
   },
   {
    "duration": 4,
    "start_time": "2023-06-05T14:02:32.863Z"
   },
   {
    "duration": 174,
    "start_time": "2023-06-05T14:02:32.868Z"
   },
   {
    "duration": 3,
    "start_time": "2023-06-05T14:02:33.044Z"
   }
  ],
  "kernelspec": {
   "display_name": "Python 3 (ipykernel)",
   "language": "python",
   "name": "python3"
  },
  "language_info": {
   "codemirror_mode": {
    "name": "ipython",
    "version": 3
   },
   "file_extension": ".py",
   "mimetype": "text/x-python",
   "name": "python",
   "nbconvert_exporter": "python",
   "pygments_lexer": "ipython3",
   "version": "3.10.9"
  },
  "toc": {
   "base_numbering": 1,
   "nav_menu": {},
   "number_sections": true,
   "sideBar": true,
   "skip_h1_title": true,
   "title_cell": "Table of Contents",
   "title_sidebar": "Contents",
   "toc_cell": false,
   "toc_position": {
    "height": "calc(100% - 180px)",
    "left": "10px",
    "top": "150px",
    "width": "346.625px"
   },
   "toc_section_display": true,
   "toc_window_display": true
  }
 },
 "nbformat": 4,
 "nbformat_minor": 5
}
