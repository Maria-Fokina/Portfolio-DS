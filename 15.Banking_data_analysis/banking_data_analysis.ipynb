{
 "cells": [
  {
   "cell_type": "markdown",
   "id": "d4c1aa0a",
   "metadata": {
    "deletable": false,
    "editable": false,
    "id": "c81daeeb"
   },
   "source": [
    "# Исследование надежности заемщиков\n"
   ]
  },
  {
   "cell_type": "markdown",
   "id": "f739dc0e",
   "metadata": {
    "deletable": false,
    "id": "827c20bf"
   },
   "source": [
    "Заказчик — кредитный отдел банка. Нужно разобраться, влияет ли семейное положение и количество детей клиента на факт погашения кредита в срок. Входные данные от банка — статистика о платёжеспособности клиентов.\n",
    "Результаты исследования будут учтены при построении модели кредитного скоринга — специальной системы, которая оценивает способность потенциального заёмщика вернуть кредит банку.\n",
    "\n",
    "**Описание данных**\n",
    "\n",
    "* children — количество детей в семье\n",
    "* days_employed — общий трудовой стаж в днях\n",
    "* dob_years — возраст клиента в годах\n",
    "* education — уровень образования клиента\n",
    "* education_id — идентификатор уровня образования\n",
    "* family_status — семейное положение\n",
    "* family_status_id — идентификатор семейного положения\n",
    "* gender — пол клиента\n",
    "* income_type — тип занятости\n",
    "* debt — имел ли задолженность по возврату кредитов\n",
    "* total_income — ежемесячный доход\n",
    "* purpose — цель получения кредита\n"
   ]
  },
  {
   "cell_type": "markdown",
   "id": "1923847a",
   "metadata": {
    "deletable": false,
    "id": "744d7639"
   },
   "source": [
    "## 1.Загрузка и изучение данных."
   ]
  },
  {
   "cell_type": "markdown",
   "id": "059272c7",
   "metadata": {
    "deletable": false,
    "id": "e7a14c31"
   },
   "source": [
    "**Задание 1. Импортируйте библиотеку pandas. Считайте данные из csv-файла в датафрейм и сохраните в переменную `data`. Путь к файлу:**\n",
    "\n",
    "`/data/data.csv`"
   ]
  },
  {
   "cell_type": "code",
   "execution_count": 1,
   "id": "ea180ebc",
   "metadata": {
    "deletable": false,
    "id": "7bcf75c9"
   },
   "outputs": [],
   "source": [
    "import pandas as pd\n",
    "\n",
    "try:\n",
    "    data = pd.read_csv('/data/data.csv')\n",
    "except:\n",
    "    data = pd.read_csv('https://code3/data/data.csv)"
   ]
  },
  {
   "cell_type": "markdown",
   "id": "fbc27b57",
   "metadata": {
    "deletable": false,
    "editable": false,
    "id": "b8038fe3"
   },
   "source": [
    "**Задание 2. Выведите первые 20 строчек датафрейма `data` на экран.**"
   ]
  },
  {
   "cell_type": "code",
   "execution_count": 2,
   "id": "890b82fe",
   "metadata": {
    "deletable": false,
    "id": "2a7cab99",
    "outputId": "1a8f3ef2-d323-4ec2-ddf7-89670b5944c4"
   },
   "outputs": [
    {
     "data": {
      "text/html": [
       "<div>\n",
       "<style scoped>\n",
       "    .dataframe tbody tr th:only-of-type {\n",
       "        vertical-align: middle;\n",
       "    }\n",
       "\n",
       "    .dataframe tbody tr th {\n",
       "        vertical-align: top;\n",
       "    }\n",
       "\n",
       "    .dataframe thead th {\n",
       "        text-align: right;\n",
       "    }\n",
       "</style>\n",
       "<table border=\"1\" class=\"dataframe\">\n",
       "  <thead>\n",
       "    <tr style=\"text-align: right;\">\n",
       "      <th></th>\n",
       "      <th>children</th>\n",
       "      <th>days_employed</th>\n",
       "      <th>dob_years</th>\n",
       "      <th>education</th>\n",
       "      <th>education_id</th>\n",
       "      <th>family_status</th>\n",
       "      <th>family_status_id</th>\n",
       "      <th>gender</th>\n",
       "      <th>income_type</th>\n",
       "      <th>debt</th>\n",
       "      <th>total_income</th>\n",
       "      <th>purpose</th>\n",
       "    </tr>\n",
       "  </thead>\n",
       "  <tbody>\n",
       "    <tr>\n",
       "      <th>0</th>\n",
       "      <td>1</td>\n",
       "      <td>-8437.673028</td>\n",
       "      <td>42</td>\n",
       "      <td>высшее</td>\n",
       "      <td>0</td>\n",
       "      <td>женат / замужем</td>\n",
       "      <td>0</td>\n",
       "      <td>F</td>\n",
       "      <td>сотрудник</td>\n",
       "      <td>0</td>\n",
       "      <td>253875.639453</td>\n",
       "      <td>покупка жилья</td>\n",
       "    </tr>\n",
       "    <tr>\n",
       "      <th>1</th>\n",
       "      <td>1</td>\n",
       "      <td>-4024.803754</td>\n",
       "      <td>36</td>\n",
       "      <td>среднее</td>\n",
       "      <td>1</td>\n",
       "      <td>женат / замужем</td>\n",
       "      <td>0</td>\n",
       "      <td>F</td>\n",
       "      <td>сотрудник</td>\n",
       "      <td>0</td>\n",
       "      <td>112080.014102</td>\n",
       "      <td>приобретение автомобиля</td>\n",
       "    </tr>\n",
       "    <tr>\n",
       "      <th>2</th>\n",
       "      <td>0</td>\n",
       "      <td>-5623.422610</td>\n",
       "      <td>33</td>\n",
       "      <td>Среднее</td>\n",
       "      <td>1</td>\n",
       "      <td>женат / замужем</td>\n",
       "      <td>0</td>\n",
       "      <td>M</td>\n",
       "      <td>сотрудник</td>\n",
       "      <td>0</td>\n",
       "      <td>145885.952297</td>\n",
       "      <td>покупка жилья</td>\n",
       "    </tr>\n",
       "    <tr>\n",
       "      <th>3</th>\n",
       "      <td>3</td>\n",
       "      <td>-4124.747207</td>\n",
       "      <td>32</td>\n",
       "      <td>среднее</td>\n",
       "      <td>1</td>\n",
       "      <td>женат / замужем</td>\n",
       "      <td>0</td>\n",
       "      <td>M</td>\n",
       "      <td>сотрудник</td>\n",
       "      <td>0</td>\n",
       "      <td>267628.550329</td>\n",
       "      <td>дополнительное образование</td>\n",
       "    </tr>\n",
       "    <tr>\n",
       "      <th>4</th>\n",
       "      <td>0</td>\n",
       "      <td>340266.072047</td>\n",
       "      <td>53</td>\n",
       "      <td>среднее</td>\n",
       "      <td>1</td>\n",
       "      <td>гражданский брак</td>\n",
       "      <td>1</td>\n",
       "      <td>F</td>\n",
       "      <td>пенсионер</td>\n",
       "      <td>0</td>\n",
       "      <td>158616.077870</td>\n",
       "      <td>сыграть свадьбу</td>\n",
       "    </tr>\n",
       "    <tr>\n",
       "      <th>5</th>\n",
       "      <td>0</td>\n",
       "      <td>-926.185831</td>\n",
       "      <td>27</td>\n",
       "      <td>высшее</td>\n",
       "      <td>0</td>\n",
       "      <td>гражданский брак</td>\n",
       "      <td>1</td>\n",
       "      <td>M</td>\n",
       "      <td>компаньон</td>\n",
       "      <td>0</td>\n",
       "      <td>255763.565419</td>\n",
       "      <td>покупка жилья</td>\n",
       "    </tr>\n",
       "    <tr>\n",
       "      <th>6</th>\n",
       "      <td>0</td>\n",
       "      <td>-2879.202052</td>\n",
       "      <td>43</td>\n",
       "      <td>высшее</td>\n",
       "      <td>0</td>\n",
       "      <td>женат / замужем</td>\n",
       "      <td>0</td>\n",
       "      <td>F</td>\n",
       "      <td>компаньон</td>\n",
       "      <td>0</td>\n",
       "      <td>240525.971920</td>\n",
       "      <td>операции с жильем</td>\n",
       "    </tr>\n",
       "    <tr>\n",
       "      <th>7</th>\n",
       "      <td>0</td>\n",
       "      <td>-152.779569</td>\n",
       "      <td>50</td>\n",
       "      <td>СРЕДНЕЕ</td>\n",
       "      <td>1</td>\n",
       "      <td>женат / замужем</td>\n",
       "      <td>0</td>\n",
       "      <td>M</td>\n",
       "      <td>сотрудник</td>\n",
       "      <td>0</td>\n",
       "      <td>135823.934197</td>\n",
       "      <td>образование</td>\n",
       "    </tr>\n",
       "    <tr>\n",
       "      <th>8</th>\n",
       "      <td>2</td>\n",
       "      <td>-6929.865299</td>\n",
       "      <td>35</td>\n",
       "      <td>ВЫСШЕЕ</td>\n",
       "      <td>0</td>\n",
       "      <td>гражданский брак</td>\n",
       "      <td>1</td>\n",
       "      <td>F</td>\n",
       "      <td>сотрудник</td>\n",
       "      <td>0</td>\n",
       "      <td>95856.832424</td>\n",
       "      <td>на проведение свадьбы</td>\n",
       "    </tr>\n",
       "    <tr>\n",
       "      <th>9</th>\n",
       "      <td>0</td>\n",
       "      <td>-2188.756445</td>\n",
       "      <td>41</td>\n",
       "      <td>среднее</td>\n",
       "      <td>1</td>\n",
       "      <td>женат / замужем</td>\n",
       "      <td>0</td>\n",
       "      <td>M</td>\n",
       "      <td>сотрудник</td>\n",
       "      <td>0</td>\n",
       "      <td>144425.938277</td>\n",
       "      <td>покупка жилья для семьи</td>\n",
       "    </tr>\n",
       "    <tr>\n",
       "      <th>10</th>\n",
       "      <td>2</td>\n",
       "      <td>-4171.483647</td>\n",
       "      <td>36</td>\n",
       "      <td>высшее</td>\n",
       "      <td>0</td>\n",
       "      <td>женат / замужем</td>\n",
       "      <td>0</td>\n",
       "      <td>M</td>\n",
       "      <td>компаньон</td>\n",
       "      <td>0</td>\n",
       "      <td>113943.491460</td>\n",
       "      <td>покупка недвижимости</td>\n",
       "    </tr>\n",
       "    <tr>\n",
       "      <th>11</th>\n",
       "      <td>0</td>\n",
       "      <td>-792.701887</td>\n",
       "      <td>40</td>\n",
       "      <td>среднее</td>\n",
       "      <td>1</td>\n",
       "      <td>женат / замужем</td>\n",
       "      <td>0</td>\n",
       "      <td>F</td>\n",
       "      <td>сотрудник</td>\n",
       "      <td>0</td>\n",
       "      <td>77069.234271</td>\n",
       "      <td>покупка коммерческой недвижимости</td>\n",
       "    </tr>\n",
       "    <tr>\n",
       "      <th>12</th>\n",
       "      <td>0</td>\n",
       "      <td>NaN</td>\n",
       "      <td>65</td>\n",
       "      <td>среднее</td>\n",
       "      <td>1</td>\n",
       "      <td>гражданский брак</td>\n",
       "      <td>1</td>\n",
       "      <td>M</td>\n",
       "      <td>пенсионер</td>\n",
       "      <td>0</td>\n",
       "      <td>NaN</td>\n",
       "      <td>сыграть свадьбу</td>\n",
       "    </tr>\n",
       "    <tr>\n",
       "      <th>13</th>\n",
       "      <td>0</td>\n",
       "      <td>-1846.641941</td>\n",
       "      <td>54</td>\n",
       "      <td>неоконченное высшее</td>\n",
       "      <td>2</td>\n",
       "      <td>женат / замужем</td>\n",
       "      <td>0</td>\n",
       "      <td>F</td>\n",
       "      <td>сотрудник</td>\n",
       "      <td>0</td>\n",
       "      <td>130458.228857</td>\n",
       "      <td>приобретение автомобиля</td>\n",
       "    </tr>\n",
       "    <tr>\n",
       "      <th>14</th>\n",
       "      <td>0</td>\n",
       "      <td>-1844.956182</td>\n",
       "      <td>56</td>\n",
       "      <td>высшее</td>\n",
       "      <td>0</td>\n",
       "      <td>гражданский брак</td>\n",
       "      <td>1</td>\n",
       "      <td>F</td>\n",
       "      <td>компаньон</td>\n",
       "      <td>1</td>\n",
       "      <td>165127.911772</td>\n",
       "      <td>покупка жилой недвижимости</td>\n",
       "    </tr>\n",
       "    <tr>\n",
       "      <th>15</th>\n",
       "      <td>1</td>\n",
       "      <td>-972.364419</td>\n",
       "      <td>26</td>\n",
       "      <td>среднее</td>\n",
       "      <td>1</td>\n",
       "      <td>женат / замужем</td>\n",
       "      <td>0</td>\n",
       "      <td>F</td>\n",
       "      <td>сотрудник</td>\n",
       "      <td>0</td>\n",
       "      <td>116820.904450</td>\n",
       "      <td>строительство собственной недвижимости</td>\n",
       "    </tr>\n",
       "    <tr>\n",
       "      <th>16</th>\n",
       "      <td>0</td>\n",
       "      <td>-1719.934226</td>\n",
       "      <td>35</td>\n",
       "      <td>среднее</td>\n",
       "      <td>1</td>\n",
       "      <td>женат / замужем</td>\n",
       "      <td>0</td>\n",
       "      <td>F</td>\n",
       "      <td>сотрудник</td>\n",
       "      <td>0</td>\n",
       "      <td>289202.704229</td>\n",
       "      <td>недвижимость</td>\n",
       "    </tr>\n",
       "    <tr>\n",
       "      <th>17</th>\n",
       "      <td>0</td>\n",
       "      <td>-2369.999720</td>\n",
       "      <td>33</td>\n",
       "      <td>высшее</td>\n",
       "      <td>0</td>\n",
       "      <td>гражданский брак</td>\n",
       "      <td>1</td>\n",
       "      <td>M</td>\n",
       "      <td>сотрудник</td>\n",
       "      <td>0</td>\n",
       "      <td>90410.586745</td>\n",
       "      <td>строительство недвижимости</td>\n",
       "    </tr>\n",
       "    <tr>\n",
       "      <th>18</th>\n",
       "      <td>0</td>\n",
       "      <td>400281.136913</td>\n",
       "      <td>53</td>\n",
       "      <td>среднее</td>\n",
       "      <td>1</td>\n",
       "      <td>вдовец / вдова</td>\n",
       "      <td>2</td>\n",
       "      <td>F</td>\n",
       "      <td>пенсионер</td>\n",
       "      <td>0</td>\n",
       "      <td>56823.777243</td>\n",
       "      <td>на покупку подержанного автомобиля</td>\n",
       "    </tr>\n",
       "    <tr>\n",
       "      <th>19</th>\n",
       "      <td>0</td>\n",
       "      <td>-10038.818549</td>\n",
       "      <td>48</td>\n",
       "      <td>СРЕДНЕЕ</td>\n",
       "      <td>1</td>\n",
       "      <td>в разводе</td>\n",
       "      <td>3</td>\n",
       "      <td>F</td>\n",
       "      <td>сотрудник</td>\n",
       "      <td>0</td>\n",
       "      <td>242831.107982</td>\n",
       "      <td>на покупку своего автомобиля</td>\n",
       "    </tr>\n",
       "  </tbody>\n",
       "</table>\n",
       "</div>"
      ],
      "text/plain": [
       "    children  days_employed  dob_years            education  education_id  \\\n",
       "0          1   -8437.673028         42               высшее             0   \n",
       "1          1   -4024.803754         36              среднее             1   \n",
       "2          0   -5623.422610         33              Среднее             1   \n",
       "3          3   -4124.747207         32              среднее             1   \n",
       "4          0  340266.072047         53              среднее             1   \n",
       "5          0    -926.185831         27               высшее             0   \n",
       "6          0   -2879.202052         43               высшее             0   \n",
       "7          0    -152.779569         50              СРЕДНЕЕ             1   \n",
       "8          2   -6929.865299         35               ВЫСШЕЕ             0   \n",
       "9          0   -2188.756445         41              среднее             1   \n",
       "10         2   -4171.483647         36               высшее             0   \n",
       "11         0    -792.701887         40              среднее             1   \n",
       "12         0            NaN         65              среднее             1   \n",
       "13         0   -1846.641941         54  неоконченное высшее             2   \n",
       "14         0   -1844.956182         56               высшее             0   \n",
       "15         1    -972.364419         26              среднее             1   \n",
       "16         0   -1719.934226         35              среднее             1   \n",
       "17         0   -2369.999720         33               высшее             0   \n",
       "18         0  400281.136913         53              среднее             1   \n",
       "19         0  -10038.818549         48              СРЕДНЕЕ             1   \n",
       "\n",
       "       family_status  family_status_id gender income_type  debt  \\\n",
       "0    женат / замужем                 0      F   сотрудник     0   \n",
       "1    женат / замужем                 0      F   сотрудник     0   \n",
       "2    женат / замужем                 0      M   сотрудник     0   \n",
       "3    женат / замужем                 0      M   сотрудник     0   \n",
       "4   гражданский брак                 1      F   пенсионер     0   \n",
       "5   гражданский брак                 1      M   компаньон     0   \n",
       "6    женат / замужем                 0      F   компаньон     0   \n",
       "7    женат / замужем                 0      M   сотрудник     0   \n",
       "8   гражданский брак                 1      F   сотрудник     0   \n",
       "9    женат / замужем                 0      M   сотрудник     0   \n",
       "10   женат / замужем                 0      M   компаньон     0   \n",
       "11   женат / замужем                 0      F   сотрудник     0   \n",
       "12  гражданский брак                 1      M   пенсионер     0   \n",
       "13   женат / замужем                 0      F   сотрудник     0   \n",
       "14  гражданский брак                 1      F   компаньон     1   \n",
       "15   женат / замужем                 0      F   сотрудник     0   \n",
       "16   женат / замужем                 0      F   сотрудник     0   \n",
       "17  гражданский брак                 1      M   сотрудник     0   \n",
       "18    вдовец / вдова                 2      F   пенсионер     0   \n",
       "19         в разводе                 3      F   сотрудник     0   \n",
       "\n",
       "     total_income                                 purpose  \n",
       "0   253875.639453                           покупка жилья  \n",
       "1   112080.014102                 приобретение автомобиля  \n",
       "2   145885.952297                           покупка жилья  \n",
       "3   267628.550329              дополнительное образование  \n",
       "4   158616.077870                         сыграть свадьбу  \n",
       "5   255763.565419                           покупка жилья  \n",
       "6   240525.971920                       операции с жильем  \n",
       "7   135823.934197                             образование  \n",
       "8    95856.832424                   на проведение свадьбы  \n",
       "9   144425.938277                 покупка жилья для семьи  \n",
       "10  113943.491460                    покупка недвижимости  \n",
       "11   77069.234271       покупка коммерческой недвижимости  \n",
       "12            NaN                         сыграть свадьбу  \n",
       "13  130458.228857                 приобретение автомобиля  \n",
       "14  165127.911772              покупка жилой недвижимости  \n",
       "15  116820.904450  строительство собственной недвижимости  \n",
       "16  289202.704229                            недвижимость  \n",
       "17   90410.586745              строительство недвижимости  \n",
       "18   56823.777243      на покупку подержанного автомобиля  \n",
       "19  242831.107982            на покупку своего автомобиля  "
      ]
     },
     "execution_count": 2,
     "metadata": {},
     "output_type": "execute_result"
    }
   ],
   "source": [
    "data.head(20)"
   ]
  },
  {
   "cell_type": "markdown",
   "id": "7f0172b9",
   "metadata": {
    "deletable": false,
    "editable": false,
    "id": "1c12e233"
   },
   "source": [
    "**Задание 3. Выведите основную информацию о датафрейме с помощью метода `info()`.**"
   ]
  },
  {
   "cell_type": "code",
   "execution_count": 3,
   "id": "cf167732",
   "metadata": {
    "deletable": false,
    "id": "2b757bca",
    "outputId": "15376089-8dad-46c9-b520-c05248d43158"
   },
   "outputs": [
    {
     "name": "stdout",
     "output_type": "stream",
     "text": [
      "<class 'pandas.core.frame.DataFrame'>\n",
      "RangeIndex: 21525 entries, 0 to 21524\n",
      "Data columns (total 12 columns):\n",
      " #   Column            Non-Null Count  Dtype  \n",
      "---  ------            --------------  -----  \n",
      " 0   children          21525 non-null  int64  \n",
      " 1   days_employed     19351 non-null  float64\n",
      " 2   dob_years         21525 non-null  int64  \n",
      " 3   education         21525 non-null  object \n",
      " 4   education_id      21525 non-null  int64  \n",
      " 5   family_status     21525 non-null  object \n",
      " 6   family_status_id  21525 non-null  int64  \n",
      " 7   gender            21525 non-null  object \n",
      " 8   income_type       21525 non-null  object \n",
      " 9   debt              21525 non-null  int64  \n",
      " 10  total_income      19351 non-null  float64\n",
      " 11  purpose           21525 non-null  object \n",
      "dtypes: float64(2), int64(5), object(5)\n",
      "memory usage: 2.0+ MB\n"
     ]
    }
   ],
   "source": [
    "data.info()"
   ]
  },
  {
   "cell_type": "markdown",
   "id": "cde03eb0",
   "metadata": {
    "deletable": false,
    "id": "333ec665"
   },
   "source": [
    "## 2.Предобработка данных."
   ]
  },
  {
   "cell_type": "markdown",
   "id": "4ab39b04",
   "metadata": {
    "deletable": false,
    "editable": false,
    "id": "02d92d53"
   },
   "source": [
    "### Удаление пропусков"
   ]
  },
  {
   "cell_type": "markdown",
   "id": "755a3feb",
   "metadata": {
    "deletable": false,
    "editable": false,
    "id": "cd84967c"
   },
   "source": [
    "**Задание 4. Выведите количество пропущенных значений для каждого столбца. Используйте комбинацию двух методов.**"
   ]
  },
  {
   "cell_type": "code",
   "execution_count": 4,
   "id": "11a70b10",
   "metadata": {
    "deletable": false,
    "id": "7f9b2309",
    "outputId": "81f4d817-781c-465c-ed15-91ce4446810d"
   },
   "outputs": [
    {
     "data": {
      "text/plain": [
       "children               0\n",
       "days_employed       2174\n",
       "dob_years              0\n",
       "education              0\n",
       "education_id           0\n",
       "family_status          0\n",
       "family_status_id       0\n",
       "gender                 0\n",
       "income_type            0\n",
       "debt                   0\n",
       "total_income        2174\n",
       "purpose                0\n",
       "dtype: int64"
      ]
     },
     "execution_count": 4,
     "metadata": {},
     "output_type": "execute_result"
    }
   ],
   "source": [
    "data.isna().sum()"
   ]
  },
  {
   "cell_type": "markdown",
   "id": "7a19cdb7",
   "metadata": {
    "deletable": false,
    "editable": false,
    "id": "db86e27b"
   },
   "source": [
    "**Задание 5. В двух столбцах есть пропущенные значения. Один из них — `days_employed`. Пропуски в этом столбце вы обработаете на следующем этапе. Другой столбец с пропущенными значениями — `total_income` — хранит данные о доходах. На сумму дохода сильнее всего влияет тип занятости, поэтому заполнить пропуски в этом столбце нужно медианным значением по каждому типу из столбца `income_type`. Например, у человека с типом занятости `сотрудник` пропуск в столбце `total_income` должен быть заполнен медианным доходом среди всех записей с тем же типом.**"
   ]
  },
  {
   "cell_type": "code",
   "execution_count": 5,
   "id": "746deb44",
   "metadata": {
    "deletable": false,
    "id": "42006a93"
   },
   "outputs": [],
   "source": [
    "for t in data['income_type'].unique():\n",
    "    data.loc[(data['income_type'] == t) & (data['total_income'].isna()), 'total_income'] = \\\n",
    "    data.loc[(data['income_type'] == t), 'total_income'].median()"
   ]
  },
  {
   "cell_type": "markdown",
   "id": "88f98a1d",
   "metadata": {
    "deletable": false,
    "editable": false,
    "id": "89da5ece"
   },
   "source": [
    "### Обработка аномальных значений"
   ]
  },
  {
   "cell_type": "markdown",
   "id": "bf83cba8",
   "metadata": {
    "deletable": false,
    "editable": false,
    "id": "57964554"
   },
   "source": [
    "**Задание 6. В данных могут встречаться артефакты (аномалии) — значения, которые не отражают действительность и появились по какой-то ошибке. таким артефактом будет отрицательное количество дней трудового стажа в столбце `days_employed`. Для реальных данных это нормально. Обработайте значения в этом столбце: замените все отрицательные значения положительными с помощью метода `abs()`.**"
   ]
  },
  {
   "cell_type": "code",
   "execution_count": 6,
   "id": "6fc603f8",
   "metadata": {
    "deletable": false,
    "id": "f6f055bf"
   },
   "outputs": [],
   "source": [
    "data['days_employed'] = data['days_employed'].abs()"
   ]
  },
  {
   "cell_type": "markdown",
   "id": "7275b420",
   "metadata": {
    "deletable": false,
    "editable": false,
    "id": "6107dd2f"
   },
   "source": [
    "**Задание 7. Для каждого типа занятости выведите медианное значение трудового стажа `days_employed` в днях.**"
   ]
  },
  {
   "cell_type": "code",
   "execution_count": 7,
   "id": "55171b43",
   "metadata": {
    "deletable": false,
    "id": "85a5faf6",
    "outputId": "801ef80e-522b-4668-f34e-565af7432bcf"
   },
   "outputs": [
    {
     "data": {
      "text/plain": [
       "income_type\n",
       "безработный        366413.652744\n",
       "в декрете            3296.759962\n",
       "госслужащий          2689.368353\n",
       "компаньон            1547.382223\n",
       "пенсионер          365213.306266\n",
       "предприниматель       520.848083\n",
       "сотрудник            1574.202821\n",
       "студент               578.751554\n",
       "Name: days_employed, dtype: float64"
      ]
     },
     "execution_count": 7,
     "metadata": {},
     "output_type": "execute_result"
    }
   ],
   "source": [
    "data.groupby('income_type')['days_employed'].agg('median')"
   ]
  },
  {
   "cell_type": "markdown",
   "id": "6fc0c596",
   "metadata": {
    "deletable": false,
    "editable": false,
    "id": "38d1a030"
   },
   "source": [
    "У двух типов (безработные и пенсионеры) получатся аномально большие значения. Исправить такие значения сложно, поэтому оставьте их как есть. Тем более этот столбец не понадобится вам для исследования."
   ]
  },
  {
   "cell_type": "markdown",
   "id": "f46d2c2e",
   "metadata": {
    "deletable": false,
    "editable": false,
    "id": "d8a9f147"
   },
   "source": [
    "**Задание 8. Выведите перечень уникальных значений столбца `children`.**"
   ]
  },
  {
   "cell_type": "code",
   "execution_count": 8,
   "id": "7cf47a1d",
   "metadata": {
    "deletable": false,
    "id": "ef5056eb",
    "outputId": "6975b15c-7f95-4697-d16d-a0c79b657b03"
   },
   "outputs": [
    {
     "data": {
      "text/plain": [
       "array([ 1,  0,  3,  2, -1,  4, 20,  5])"
      ]
     },
     "execution_count": 8,
     "metadata": {},
     "output_type": "execute_result"
    }
   ],
   "source": [
    "data['children'].unique()"
   ]
  },
  {
   "cell_type": "markdown",
   "id": "1343ce86",
   "metadata": {
    "deletable": false,
    "editable": false,
    "id": "40b9ebf2"
   },
   "source": [
    "**Задание 9. В столбце `children` есть два аномальных значения. Удалите строки, в которых встречаются такие аномальные значения из датафрейма `data`.**"
   ]
  },
  {
   "cell_type": "code",
   "execution_count": 9,
   "id": "5e7d5f16",
   "metadata": {
    "deletable": false,
    "id": "3ff9801d"
   },
   "outputs": [],
   "source": [
    "data = data[(data['children'] != -1) & (data['children'] != 20)]"
   ]
  },
  {
   "cell_type": "markdown",
   "id": "07769bdd",
   "metadata": {
    "deletable": false,
    "editable": false,
    "id": "bbc4d0ce"
   },
   "source": [
    "**Задание 10. Ещё раз выведите перечень уникальных значений столбца `children`, чтобы убедиться, что артефакты удалены.**"
   ]
  },
  {
   "cell_type": "code",
   "execution_count": 10,
   "id": "782f0a60",
   "metadata": {
    "deletable": false,
    "id": "ad4fa8b7",
    "outputId": "b2097101-d49d-44d9-901b-32a65c9463d1"
   },
   "outputs": [
    {
     "data": {
      "text/plain": [
       "array([1, 0, 3, 2, 4, 5])"
      ]
     },
     "execution_count": 10,
     "metadata": {},
     "output_type": "execute_result"
    }
   ],
   "source": [
    "data['children'].unique()"
   ]
  },
  {
   "cell_type": "markdown",
   "id": "d367ba53",
   "metadata": {
    "deletable": false,
    "editable": false,
    "id": "75440b63"
   },
   "source": [
    "### Удаление пропусков (продолжение)"
   ]
  },
  {
   "cell_type": "markdown",
   "id": "834191ee",
   "metadata": {
    "deletable": false,
    "editable": false,
    "id": "f4ea573f"
   },
   "source": [
    "**Задание 11. Заполните пропуски в столбце `days_employed` медианными значениями по каждого типа занятости `income_type`.**"
   ]
  },
  {
   "cell_type": "code",
   "execution_count": 11,
   "id": "78ec689c",
   "metadata": {
    "deletable": false,
    "id": "af6b1a7e"
   },
   "outputs": [],
   "source": [
    "for t in data['income_type'].unique():\n",
    "    data.loc[(data['income_type'] == t) & (data['days_employed'].isna()), 'days_employed'] = \\\n",
    "    data.loc[(data['income_type'] == t), 'days_employed'].median()"
   ]
  },
  {
   "cell_type": "markdown",
   "id": "7d3b9af1",
   "metadata": {
    "deletable": false,
    "editable": false,
    "id": "2753f40d"
   },
   "source": [
    "**Задание 12. Убедитесь, что все пропуски заполнены. Проверьте себя и ещё раз выведите количество пропущенных значений для каждого столбца с помощью двух методов.**"
   ]
  },
  {
   "cell_type": "code",
   "execution_count": 12,
   "id": "f3bf9c68",
   "metadata": {
    "deletable": false,
    "id": "55f78bc2",
    "outputId": "8da1e4e1-358e-4e87-98c9-f261bce0a7b2"
   },
   "outputs": [
    {
     "data": {
      "text/plain": [
       "children            0\n",
       "days_employed       0\n",
       "dob_years           0\n",
       "education           0\n",
       "education_id        0\n",
       "family_status       0\n",
       "family_status_id    0\n",
       "gender              0\n",
       "income_type         0\n",
       "debt                0\n",
       "total_income        0\n",
       "purpose             0\n",
       "dtype: int64"
      ]
     },
     "execution_count": 12,
     "metadata": {},
     "output_type": "execute_result"
    }
   ],
   "source": [
    "data.isna().sum()"
   ]
  },
  {
   "cell_type": "markdown",
   "id": "aaabffd4",
   "metadata": {
    "deletable": false,
    "editable": false,
    "id": "ddc81e43"
   },
   "source": [
    "### Изменение типов данных"
   ]
  },
  {
   "cell_type": "markdown",
   "id": "d16f9a30",
   "metadata": {
    "deletable": false,
    "editable": false,
    "id": "42d19d24"
   },
   "source": [
    "**Задание 13. Замените вещественный тип данных в столбце `total_income` на целочисленный с помощью метода `astype()`.**"
   ]
  },
  {
   "cell_type": "code",
   "execution_count": 13,
   "id": "2ae4d6c7",
   "metadata": {
    "deletable": false,
    "id": "920b65ad"
   },
   "outputs": [],
   "source": [
    "data['total_income'] = data['total_income'].astype(int)"
   ]
  },
  {
   "cell_type": "markdown",
   "id": "f7a34304",
   "metadata": {
    "deletable": false,
    "editable": false,
    "id": "80c420ba"
   },
   "source": [
    "### Обработка дубликатов"
   ]
  },
  {
   "cell_type": "markdown",
   "id": "18fc3884",
   "metadata": {
    "deletable": false,
    "editable": false
   },
   "source": [
    "**Задание 14. Обработайте неявные дубликаты в столбце `education`. В этом столбце есть одни и те же значения, но записанные по-разному: с использованием заглавных и строчных букв. Приведите их к нижнему регистру. Проверьте остальные столбцы.**"
   ]
  },
  {
   "cell_type": "code",
   "execution_count": 14,
   "id": "b9438f40",
   "metadata": {
    "deletable": false
   },
   "outputs": [],
   "source": [
    "data['education'] = data['education'].str.lower()"
   ]
  },
  {
   "cell_type": "markdown",
   "id": "a2eb61d0",
   "metadata": {
    "deletable": false,
    "editable": false,
    "id": "dc587695"
   },
   "source": [
    "**Задание 15. Выведите на экран количество строк-дубликатов в данных. Если такие строки присутствуют, удалите их.**"
   ]
  },
  {
   "cell_type": "code",
   "execution_count": 15,
   "id": "0598770e",
   "metadata": {
    "deletable": false,
    "id": "3ee445e4",
    "outputId": "9684deba-1934-42d1-99e1-cda61740f822"
   },
   "outputs": [
    {
     "data": {
      "text/plain": [
       "71"
      ]
     },
     "execution_count": 15,
     "metadata": {},
     "output_type": "execute_result"
    }
   ],
   "source": [
    "data.duplicated().sum()"
   ]
  },
  {
   "cell_type": "code",
   "execution_count": 16,
   "id": "168c8067",
   "metadata": {
    "deletable": false,
    "id": "8575fe05"
   },
   "outputs": [],
   "source": [
    "data = data.drop_duplicates()"
   ]
  },
  {
   "cell_type": "markdown",
   "id": "495c548b",
   "metadata": {
    "deletable": false,
    "editable": false,
    "id": "9904cf55"
   },
   "source": [
    "### Категоризация данных"
   ]
  },
  {
   "cell_type": "markdown",
   "id": "4d4e3c4f",
   "metadata": {
    "deletable": false,
    "editable": false,
    "id": "72fcc8a2"
   },
   "source": [
    "**Задание 16. На основании диапазонов, указанных ниже, создайте в датафрейме `data` столбец `total_income_category` с категориями:**\n",
    "\n",
    "- 0–30000 — `'E'`;\n",
    "- 30001–50000 — `'D'`;\n",
    "- 50001–200000 — `'C'`;\n",
    "- 200001–1000000 — `'B'`;\n",
    "- 1000001 и выше — `'A'`.\n",
    "\n",
    "\n",
    "**Например, кредитополучателю с доходом 25000 нужно назначить категорию `'E'`, а клиенту, получающему 235000, — `'B'`. Используйте собственную функцию с именем `categorize_income()` и метод `apply()`.**"
   ]
  },
  {
   "cell_type": "code",
   "execution_count": 17,
   "id": "3b500217",
   "metadata": {
    "deletable": false,
    "id": "e1771346"
   },
   "outputs": [],
   "source": [
    "def categorize_income(income):\n",
    "    try:\n",
    "        if 0 <= income <= 30000:\n",
    "            return 'E'\n",
    "        elif 30001 <= income <= 50000:\n",
    "            return 'D'\n",
    "        elif 50001 <= income <= 200000:\n",
    "            return 'C'\n",
    "        elif 200001 <= income <= 1000000:\n",
    "            return 'B'\n",
    "        elif income >= 1000001:\n",
    "            return 'A'\n",
    "    except:\n",
    "        pass"
   ]
  },
  {
   "cell_type": "code",
   "execution_count": 18,
   "id": "10d16f20",
   "metadata": {
    "deletable": false,
    "id": "d5f3586d"
   },
   "outputs": [],
   "source": [
    "data['total_income_category'] = data['total_income'].apply(categorize_income)"
   ]
  },
  {
   "cell_type": "markdown",
   "id": "515c7334",
   "metadata": {
    "deletable": false,
    "editable": false,
    "id": "dde49b5c"
   },
   "source": [
    "**Задание 17. Выведите на экран перечень уникальных целей взятия кредита из столбца `purpose`.**"
   ]
  },
  {
   "cell_type": "code",
   "execution_count": 20,
   "id": "9437ca63",
   "metadata": {
    "deletable": false,
    "id": "f67ce9b3",
    "outputId": "673c12d9-7d7e-4ae0-9812-c622c89dd244"
   },
   "outputs": [
    {
     "data": {
      "text/plain": [
       "array(['покупка жилья', 'приобретение автомобиля',\n",
       "       'дополнительное образование', 'сыграть свадьбу',\n",
       "       'операции с жильем', 'образование', 'на проведение свадьбы',\n",
       "       'покупка жилья для семьи', 'покупка недвижимости',\n",
       "       'покупка коммерческой недвижимости', 'покупка жилой недвижимости',\n",
       "       'строительство собственной недвижимости', 'недвижимость',\n",
       "       'строительство недвижимости', 'на покупку подержанного автомобиля',\n",
       "       'на покупку своего автомобиля',\n",
       "       'операции с коммерческой недвижимостью',\n",
       "       'строительство жилой недвижимости', 'жилье',\n",
       "       'операции со своей недвижимостью', 'автомобили',\n",
       "       'заняться образованием', 'сделка с подержанным автомобилем',\n",
       "       'получение образования', 'автомобиль', 'свадьба',\n",
       "       'получение дополнительного образования', 'покупка своего жилья',\n",
       "       'операции с недвижимостью', 'получение высшего образования',\n",
       "       'свой автомобиль', 'сделка с автомобилем',\n",
       "       'профильное образование', 'высшее образование',\n",
       "       'покупка жилья для сдачи', 'на покупку автомобиля', 'ремонт жилью',\n",
       "       'заняться высшим образованием'], dtype=object)"
      ]
     },
     "execution_count": 20,
     "metadata": {},
     "output_type": "execute_result"
    }
   ],
   "source": [
    "data['purpose'].unique()"
   ]
  },
  {
   "cell_type": "markdown",
   "id": "a1f1c718",
   "metadata": {
    "deletable": false,
    "editable": false,
    "id": "85d0aef0"
   },
   "source": [
    "**Задание 18. Создайте функцию, которая на основании данных из столбца `purpose` сформирует новый столбец `purpose_category`, в который войдут следующие категории:**\n",
    "\n",
    "- `'операции с автомобилем'`,\n",
    "- `'операции с недвижимостью'`,\n",
    "- `'проведение свадьбы'`,\n",
    "- `'получение образования'`.\n",
    "\n",
    "**Например, если в столбце `purpose` находится подстрока `'на покупку автомобиля'`, то в столбце `purpose_category` должна появиться строка `'операции с автомобилем'`.**\n",
    "\n",
    "**Используйте собственную функцию с именем `categorize_purpose()` и метод `apply()`. Изучите данные в столбце `purpose` и определите, какие подстроки помогут вам правильно определить категорию.**"
   ]
  },
  {
   "cell_type": "code",
   "execution_count": 21,
   "id": "f6f7213b",
   "metadata": {
    "deletable": false,
    "id": "e149fab4"
   },
   "outputs": [],
   "source": [
    "def categorize_purpose(row):\n",
    "    try:\n",
    "        if 'автом' in row:\n",
    "            return 'операции с автомобилем'\n",
    "        elif 'жил' in row or 'недвиж' in row:\n",
    "            return 'операции с недвижимостью'\n",
    "        elif 'свад' in row:\n",
    "            return 'проведение свадьбы'\n",
    "        elif 'образов' in row:\n",
    "            return 'получение образования'\n",
    "    except:\n",
    "        return 'нет категории'"
   ]
  },
  {
   "cell_type": "code",
   "execution_count": 22,
   "id": "486ced96",
   "metadata": {
    "deletable": false,
    "id": "bf36e69b"
   },
   "outputs": [],
   "source": [
    "data['purpose_category'] = data['purpose'].apply(categorize_purpose)"
   ]
  },
  {
   "cell_type": "markdown",
   "id": "86a074a0",
   "metadata": {
    "deletable": false,
    "id": "09b242bf"
   },
   "source": [
    "## 3. Исследование данных."
   ]
  },
  {
   "cell_type": "markdown",
   "id": "82319bb7",
   "metadata": {
    "deletable": false,
    "editable": false,
    "id": "c5d66278"
   },
   "source": [
    "#### 3.1 Есть ли зависимость между количеством детей и возвратом кредита в срок?"
   ]
  },
  {
   "cell_type": "code",
   "execution_count": 24,
   "id": "35c5eabe",
   "metadata": {
    "deletable": false,
    "id": "2cacfc4a",
    "scrolled": true
   },
   "outputs": [
    {
     "data": {
      "text/html": [
       "<div>\n",
       "<style scoped>\n",
       "    .dataframe tbody tr th:only-of-type {\n",
       "        vertical-align: middle;\n",
       "    }\n",
       "\n",
       "    .dataframe tbody tr th {\n",
       "        vertical-align: top;\n",
       "    }\n",
       "\n",
       "    .dataframe thead th {\n",
       "        text-align: right;\n",
       "    }\n",
       "</style>\n",
       "<table border=\"1\" class=\"dataframe\">\n",
       "  <thead>\n",
       "    <tr style=\"text-align: right;\">\n",
       "      <th></th>\n",
       "      <th>children</th>\n",
       "      <th>days_employed</th>\n",
       "      <th>dob_years</th>\n",
       "      <th>education</th>\n",
       "      <th>education_id</th>\n",
       "      <th>family_status</th>\n",
       "      <th>family_status_id</th>\n",
       "      <th>gender</th>\n",
       "      <th>income_type</th>\n",
       "      <th>debt</th>\n",
       "      <th>total_income</th>\n",
       "      <th>purpose</th>\n",
       "      <th>total_income_category</th>\n",
       "      <th>purpose_category</th>\n",
       "      <th>family_category</th>\n",
       "    </tr>\n",
       "  </thead>\n",
       "  <tbody>\n",
       "    <tr>\n",
       "      <th>0</th>\n",
       "      <td>1</td>\n",
       "      <td>8437.673028</td>\n",
       "      <td>42</td>\n",
       "      <td>высшее</td>\n",
       "      <td>0</td>\n",
       "      <td>женат / замужем</td>\n",
       "      <td>0</td>\n",
       "      <td>F</td>\n",
       "      <td>сотрудник</td>\n",
       "      <td>0</td>\n",
       "      <td>253875</td>\n",
       "      <td>покупка жилья</td>\n",
       "      <td>B</td>\n",
       "      <td>операции с недвижимостью</td>\n",
       "      <td>семья с 1 ребенком</td>\n",
       "    </tr>\n",
       "    <tr>\n",
       "      <th>1</th>\n",
       "      <td>1</td>\n",
       "      <td>4024.803754</td>\n",
       "      <td>36</td>\n",
       "      <td>среднее</td>\n",
       "      <td>1</td>\n",
       "      <td>женат / замужем</td>\n",
       "      <td>0</td>\n",
       "      <td>F</td>\n",
       "      <td>сотрудник</td>\n",
       "      <td>0</td>\n",
       "      <td>112080</td>\n",
       "      <td>приобретение автомобиля</td>\n",
       "      <td>C</td>\n",
       "      <td>операции с автомобилем</td>\n",
       "      <td>семья с 1 ребенком</td>\n",
       "    </tr>\n",
       "    <tr>\n",
       "      <th>2</th>\n",
       "      <td>0</td>\n",
       "      <td>5623.422610</td>\n",
       "      <td>33</td>\n",
       "      <td>среднее</td>\n",
       "      <td>1</td>\n",
       "      <td>женат / замужем</td>\n",
       "      <td>0</td>\n",
       "      <td>M</td>\n",
       "      <td>сотрудник</td>\n",
       "      <td>0</td>\n",
       "      <td>145885</td>\n",
       "      <td>покупка жилья</td>\n",
       "      <td>C</td>\n",
       "      <td>операции с недвижимостью</td>\n",
       "      <td>нет детей</td>\n",
       "    </tr>\n",
       "    <tr>\n",
       "      <th>3</th>\n",
       "      <td>3</td>\n",
       "      <td>4124.747207</td>\n",
       "      <td>32</td>\n",
       "      <td>среднее</td>\n",
       "      <td>1</td>\n",
       "      <td>женат / замужем</td>\n",
       "      <td>0</td>\n",
       "      <td>M</td>\n",
       "      <td>сотрудник</td>\n",
       "      <td>0</td>\n",
       "      <td>267628</td>\n",
       "      <td>дополнительное образование</td>\n",
       "      <td>B</td>\n",
       "      <td>получение образования</td>\n",
       "      <td>многодетная семья</td>\n",
       "    </tr>\n",
       "    <tr>\n",
       "      <th>4</th>\n",
       "      <td>0</td>\n",
       "      <td>340266.072047</td>\n",
       "      <td>53</td>\n",
       "      <td>среднее</td>\n",
       "      <td>1</td>\n",
       "      <td>гражданский брак</td>\n",
       "      <td>1</td>\n",
       "      <td>F</td>\n",
       "      <td>пенсионер</td>\n",
       "      <td>0</td>\n",
       "      <td>158616</td>\n",
       "      <td>сыграть свадьбу</td>\n",
       "      <td>C</td>\n",
       "      <td>проведение свадьбы</td>\n",
       "      <td>нет детей</td>\n",
       "    </tr>\n",
       "    <tr>\n",
       "      <th>5</th>\n",
       "      <td>0</td>\n",
       "      <td>926.185831</td>\n",
       "      <td>27</td>\n",
       "      <td>высшее</td>\n",
       "      <td>0</td>\n",
       "      <td>гражданский брак</td>\n",
       "      <td>1</td>\n",
       "      <td>M</td>\n",
       "      <td>компаньон</td>\n",
       "      <td>0</td>\n",
       "      <td>255763</td>\n",
       "      <td>покупка жилья</td>\n",
       "      <td>B</td>\n",
       "      <td>операции с недвижимостью</td>\n",
       "      <td>нет детей</td>\n",
       "    </tr>\n",
       "    <tr>\n",
       "      <th>6</th>\n",
       "      <td>0</td>\n",
       "      <td>2879.202052</td>\n",
       "      <td>43</td>\n",
       "      <td>высшее</td>\n",
       "      <td>0</td>\n",
       "      <td>женат / замужем</td>\n",
       "      <td>0</td>\n",
       "      <td>F</td>\n",
       "      <td>компаньон</td>\n",
       "      <td>0</td>\n",
       "      <td>240525</td>\n",
       "      <td>операции с жильем</td>\n",
       "      <td>B</td>\n",
       "      <td>операции с недвижимостью</td>\n",
       "      <td>нет детей</td>\n",
       "    </tr>\n",
       "    <tr>\n",
       "      <th>7</th>\n",
       "      <td>0</td>\n",
       "      <td>152.779569</td>\n",
       "      <td>50</td>\n",
       "      <td>среднее</td>\n",
       "      <td>1</td>\n",
       "      <td>женат / замужем</td>\n",
       "      <td>0</td>\n",
       "      <td>M</td>\n",
       "      <td>сотрудник</td>\n",
       "      <td>0</td>\n",
       "      <td>135823</td>\n",
       "      <td>образование</td>\n",
       "      <td>C</td>\n",
       "      <td>получение образования</td>\n",
       "      <td>нет детей</td>\n",
       "    </tr>\n",
       "    <tr>\n",
       "      <th>8</th>\n",
       "      <td>2</td>\n",
       "      <td>6929.865299</td>\n",
       "      <td>35</td>\n",
       "      <td>высшее</td>\n",
       "      <td>0</td>\n",
       "      <td>гражданский брак</td>\n",
       "      <td>1</td>\n",
       "      <td>F</td>\n",
       "      <td>сотрудник</td>\n",
       "      <td>0</td>\n",
       "      <td>95856</td>\n",
       "      <td>на проведение свадьбы</td>\n",
       "      <td>C</td>\n",
       "      <td>проведение свадьбы</td>\n",
       "      <td>семья с 2 детьми</td>\n",
       "    </tr>\n",
       "    <tr>\n",
       "      <th>9</th>\n",
       "      <td>0</td>\n",
       "      <td>2188.756445</td>\n",
       "      <td>41</td>\n",
       "      <td>среднее</td>\n",
       "      <td>1</td>\n",
       "      <td>женат / замужем</td>\n",
       "      <td>0</td>\n",
       "      <td>M</td>\n",
       "      <td>сотрудник</td>\n",
       "      <td>0</td>\n",
       "      <td>144425</td>\n",
       "      <td>покупка жилья для семьи</td>\n",
       "      <td>C</td>\n",
       "      <td>операции с недвижимостью</td>\n",
       "      <td>нет детей</td>\n",
       "    </tr>\n",
       "  </tbody>\n",
       "</table>\n",
       "</div>"
      ],
      "text/plain": [
       "   children  days_employed  dob_years education  education_id  \\\n",
       "0         1    8437.673028         42    высшее             0   \n",
       "1         1    4024.803754         36   среднее             1   \n",
       "2         0    5623.422610         33   среднее             1   \n",
       "3         3    4124.747207         32   среднее             1   \n",
       "4         0  340266.072047         53   среднее             1   \n",
       "5         0     926.185831         27    высшее             0   \n",
       "6         0    2879.202052         43    высшее             0   \n",
       "7         0     152.779569         50   среднее             1   \n",
       "8         2    6929.865299         35    высшее             0   \n",
       "9         0    2188.756445         41   среднее             1   \n",
       "\n",
       "      family_status  family_status_id gender income_type  debt  total_income  \\\n",
       "0   женат / замужем                 0      F   сотрудник     0        253875   \n",
       "1   женат / замужем                 0      F   сотрудник     0        112080   \n",
       "2   женат / замужем                 0      M   сотрудник     0        145885   \n",
       "3   женат / замужем                 0      M   сотрудник     0        267628   \n",
       "4  гражданский брак                 1      F   пенсионер     0        158616   \n",
       "5  гражданский брак                 1      M   компаньон     0        255763   \n",
       "6   женат / замужем                 0      F   компаньон     0        240525   \n",
       "7   женат / замужем                 0      M   сотрудник     0        135823   \n",
       "8  гражданский брак                 1      F   сотрудник     0         95856   \n",
       "9   женат / замужем                 0      M   сотрудник     0        144425   \n",
       "\n",
       "                      purpose total_income_category          purpose_category  \\\n",
       "0               покупка жилья                     B  операции с недвижимостью   \n",
       "1     приобретение автомобиля                     C    операции с автомобилем   \n",
       "2               покупка жилья                     C  операции с недвижимостью   \n",
       "3  дополнительное образование                     B     получение образования   \n",
       "4             сыграть свадьбу                     C        проведение свадьбы   \n",
       "5               покупка жилья                     B  операции с недвижимостью   \n",
       "6           операции с жильем                     B  операции с недвижимостью   \n",
       "7                 образование                     C     получение образования   \n",
       "8       на проведение свадьбы                     C        проведение свадьбы   \n",
       "9     покупка жилья для семьи                     C  операции с недвижимостью   \n",
       "\n",
       "      family_category  \n",
       "0  семья с 1 ребенком  \n",
       "1  семья с 1 ребенком  \n",
       "2           нет детей  \n",
       "3   многодетная семья  \n",
       "4           нет детей  \n",
       "5           нет детей  \n",
       "6           нет детей  \n",
       "7           нет детей  \n",
       "8    семья с 2 детьми  \n",
       "9           нет детей  "
      ]
     },
     "execution_count": 24,
     "metadata": {},
     "output_type": "execute_result"
    }
   ],
   "source": [
    "#создадим функцию, которая распределит по категориям заемщиков в зависимости от колличества детей,\n",
    "def family_category(children):\n",
    "    if children < 1:\n",
    "        return 'нет детей'\n",
    "    if children == 1:\n",
    "        return 'семья с 1 ребенком'    \n",
    "    if children == 2:\n",
    "        return 'семья с 2 детьми'\n",
    "    if children > 2:\n",
    "        return 'многодетная семья'\n",
    "#добавим в таблицу новую колонку с этими данными    \n",
    "data['family_category'] = data['children'].apply(family_category)\n",
    "#проверим результат\n",
    "data.head(10)"
   ]
  },
  {
   "cell_type": "code",
   "execution_count": 25,
   "id": "d8d01b6a",
   "metadata": {},
   "outputs": [
    {
     "data": {
      "text/html": [
       "<div>\n",
       "<style scoped>\n",
       "    .dataframe tbody tr th:only-of-type {\n",
       "        vertical-align: middle;\n",
       "    }\n",
       "\n",
       "    .dataframe tbody tr th {\n",
       "        vertical-align: top;\n",
       "    }\n",
       "\n",
       "    .dataframe thead th {\n",
       "        text-align: right;\n",
       "    }\n",
       "</style>\n",
       "<table border=\"1\" class=\"dataframe\">\n",
       "  <thead>\n",
       "    <tr style=\"text-align: right;\">\n",
       "      <th></th>\n",
       "      <th>no_debt</th>\n",
       "      <th>debt</th>\n",
       "      <th>percentage_debtors_%</th>\n",
       "    </tr>\n",
       "    <tr>\n",
       "      <th>family_category</th>\n",
       "      <th></th>\n",
       "      <th></th>\n",
       "      <th></th>\n",
       "    </tr>\n",
       "  </thead>\n",
       "  <tbody>\n",
       "    <tr>\n",
       "      <th>нет детей</th>\n",
       "      <td>13028</td>\n",
       "      <td>1063</td>\n",
       "      <td>7.543822</td>\n",
       "    </tr>\n",
       "    <tr>\n",
       "      <th>многодетная семья</th>\n",
       "      <td>349</td>\n",
       "      <td>31</td>\n",
       "      <td>8.157895</td>\n",
       "    </tr>\n",
       "    <tr>\n",
       "      <th>семья с 1 ребенком</th>\n",
       "      <td>4364</td>\n",
       "      <td>444</td>\n",
       "      <td>9.234609</td>\n",
       "    </tr>\n",
       "    <tr>\n",
       "      <th>семья с 2 детьми</th>\n",
       "      <td>1858</td>\n",
       "      <td>194</td>\n",
       "      <td>9.454191</td>\n",
       "    </tr>\n",
       "  </tbody>\n",
       "</table>\n",
       "</div>"
      ],
      "text/plain": [
       "                    no_debt  debt  percentage_debtors_%\n",
       "family_category                                        \n",
       "нет детей             13028  1063              7.543822\n",
       "многодетная семья       349    31              8.157895\n",
       "семья с 1 ребенком     4364   444              9.234609\n",
       "семья с 2 детьми       1858   194              9.454191"
      ]
     },
     "execution_count": 25,
     "metadata": {},
     "output_type": "execute_result"
    }
   ],
   "source": [
    "#создадим сводную таблицу с новыми данными:\n",
    "data_children = data.pivot_table(index='family_category', columns='debt', values='gender', aggfunc='count')\n",
    "#создаем столбцы\n",
    "data_children.columns = ['no_debt', 'debt']\n",
    "#считаем долю должников\n",
    "data_children['percentage_debtors_%'] = data_children['debt'] / (data_children['debt'] + data_children['no_debt'])\n",
    "#сохраняем результат в %\n",
    "data_children['percentage_debtors_%'] = data_children['percentage_debtors_%'] * 100\n",
    "#сортируем таблицу по возрастанию\n",
    "data_children.sort_values(by='percentage_debtors_%', ascending=True)"
   ]
  },
  {
   "cell_type": "markdown",
   "id": "9e3519a6",
   "metadata": {
    "deletable": false,
    "id": "3a6b99ec"
   },
   "source": [
    "**Вывод:** зависимость между количеством детей и возвратом кредита в срок есть. \n",
    "1. Заемщики, у которых нет детей имеют меньше просрочек по задолжностям, чем те у кого есть дети, (относительно 9.45% по задолжностям, 7.54%  - это на 22% меньше) причем у заемщиков с 2мя детьми просрочек больше чем у заемщиков с 1 ребенком, т е риск просрочек растет с количеством детей. \n",
    "2. У многодетных детей процент просрочек немного ниже - но тут и выборка ощитимо меньше - не факт что отражает корректно зависимость, можно подробнее рассмотреть. Возможно также что у многодетных семей выше доход или влияет соцподдержка.Эта категория значительно меньше берет кредитов чем остальные, возможно стоит провести исследование и маркетологам поработать над привлечением этой аудитории"
   ]
  },
  {
   "cell_type": "markdown",
   "id": "1b551cc3",
   "metadata": {
    "deletable": false,
    "editable": false,
    "id": "97be82ca"
   },
   "source": [
    "#### 3.2 Есть ли зависимость между семейным положением и возвратом кредита в срок?"
   ]
  },
  {
   "cell_type": "code",
   "execution_count": 26,
   "id": "ec6b2b5c",
   "metadata": {
    "deletable": false,
    "id": "dc3f7ee8"
   },
   "outputs": [
    {
     "data": {
      "text/html": [
       "<div>\n",
       "<style scoped>\n",
       "    .dataframe tbody tr th:only-of-type {\n",
       "        vertical-align: middle;\n",
       "    }\n",
       "\n",
       "    .dataframe tbody tr th {\n",
       "        vertical-align: top;\n",
       "    }\n",
       "\n",
       "    .dataframe thead th {\n",
       "        text-align: right;\n",
       "    }\n",
       "</style>\n",
       "<table border=\"1\" class=\"dataframe\">\n",
       "  <thead>\n",
       "    <tr style=\"text-align: right;\">\n",
       "      <th></th>\n",
       "      <th>no_debt</th>\n",
       "      <th>debt</th>\n",
       "      <th>percentage_debtors_%</th>\n",
       "    </tr>\n",
       "    <tr>\n",
       "      <th>family_status</th>\n",
       "      <th></th>\n",
       "      <th></th>\n",
       "      <th></th>\n",
       "    </tr>\n",
       "  </thead>\n",
       "  <tbody>\n",
       "    <tr>\n",
       "      <th>вдовец / вдова</th>\n",
       "      <td>888</td>\n",
       "      <td>63</td>\n",
       "      <td>6.624606</td>\n",
       "    </tr>\n",
       "    <tr>\n",
       "      <th>в разводе</th>\n",
       "      <td>1105</td>\n",
       "      <td>84</td>\n",
       "      <td>7.064760</td>\n",
       "    </tr>\n",
       "    <tr>\n",
       "      <th>женат / замужем</th>\n",
       "      <td>11334</td>\n",
       "      <td>927</td>\n",
       "      <td>7.560558</td>\n",
       "    </tr>\n",
       "    <tr>\n",
       "      <th>гражданский брак</th>\n",
       "      <td>3749</td>\n",
       "      <td>385</td>\n",
       "      <td>9.313014</td>\n",
       "    </tr>\n",
       "    <tr>\n",
       "      <th>Не женат / не замужем</th>\n",
       "      <td>2523</td>\n",
       "      <td>273</td>\n",
       "      <td>9.763948</td>\n",
       "    </tr>\n",
       "  </tbody>\n",
       "</table>\n",
       "</div>"
      ],
      "text/plain": [
       "                       no_debt  debt  percentage_debtors_%\n",
       "family_status                                             \n",
       "вдовец / вдова             888    63              6.624606\n",
       "в разводе                 1105    84              7.064760\n",
       "женат / замужем          11334   927              7.560558\n",
       "гражданский брак          3749   385              9.313014\n",
       "Не женат / не замужем     2523   273              9.763948"
      ]
     },
     "execution_count": 26,
     "metadata": {},
     "output_type": "execute_result"
    }
   ],
   "source": [
    "#создадим сводную таблицу с новыми данными:\n",
    "data_family_status = data.pivot_table(index='family_status', columns='debt', values='gender', aggfunc='count')\n",
    "#создаем столбцы\n",
    "data_family_status.columns = ['no_debt', 'debt']\n",
    "#считаем долю должников\n",
    "data_family_status['percentage_debtors_%'] = data_family_status['debt'] / (data_family_status['debt'] + data_family_status['no_debt'])\n",
    "#сохраняем результат в %\n",
    "data_family_status['percentage_debtors_%'] = data_family_status['percentage_debtors_%'] * 100\n",
    "#сортируем таблицу по возрастанию\n",
    "data_family_status.sort_values(by='percentage_debtors_%', ascending=True)"
   ]
  },
  {
   "cell_type": "markdown",
   "id": "6e8d81a5",
   "metadata": {
    "deletable": false,
    "id": "1cef7837"
   },
   "source": [
    "**Вывод:** зависимость между семейным положением и возвратом кредита в срок заключается в следующем:\n",
    "1. Заемщики состоящие или ранее состоящие в официальных отношниях имеют меньший процент просрочек по кредиту.\n",
    "2. Вдовцы/вдовы чаще других категорий заемщиков отдают долги вовремя (относительно максимального 9.76% по задолжностям, 6.62% - это на 32% меньше) - возможно это связано с получением наследства.\n",
    "3. Самая рискованная категория - не состоящие в отношениях заемщики - 9.76%"
   ]
  },
  {
   "cell_type": "markdown",
   "id": "86f1b132",
   "metadata": {
    "deletable": false,
    "editable": false,
    "id": "1e8b2fca"
   },
   "source": [
    "#### 3.3 Есть ли зависимость между уровнем дохода и возвратом кредита в срок?"
   ]
  },
  {
   "cell_type": "markdown",
   "id": "a93807aa",
   "metadata": {},
   "source": [
    "Ранее создали функцию \"categorize_income()\", которая делит заемщиков по категориям дохода:\n",
    "- 0–30000 — 'E'\n",
    "- 30001–50000 — 'D'\n",
    "- 50001–200000 — 'C'\n",
    "- 200001–1000000 — 'B'\n",
    "- 1000001 и выше — 'A'"
   ]
  },
  {
   "cell_type": "code",
   "execution_count": 27,
   "id": "4b475864",
   "metadata": {
    "deletable": false,
    "id": "cd7e3720"
   },
   "outputs": [
    {
     "data": {
      "text/html": [
       "<div>\n",
       "<style scoped>\n",
       "    .dataframe tbody tr th:only-of-type {\n",
       "        vertical-align: middle;\n",
       "    }\n",
       "\n",
       "    .dataframe tbody tr th {\n",
       "        vertical-align: top;\n",
       "    }\n",
       "\n",
       "    .dataframe thead th {\n",
       "        text-align: right;\n",
       "    }\n",
       "</style>\n",
       "<table border=\"1\" class=\"dataframe\">\n",
       "  <thead>\n",
       "    <tr style=\"text-align: right;\">\n",
       "      <th></th>\n",
       "      <th>no_debt</th>\n",
       "      <th>debt</th>\n",
       "      <th>percentage_debtors_%</th>\n",
       "    </tr>\n",
       "    <tr>\n",
       "      <th>total_income_category</th>\n",
       "      <th></th>\n",
       "      <th></th>\n",
       "      <th></th>\n",
       "    </tr>\n",
       "  </thead>\n",
       "  <tbody>\n",
       "    <tr>\n",
       "      <th>D</th>\n",
       "      <td>328</td>\n",
       "      <td>21</td>\n",
       "      <td>6.017192</td>\n",
       "    </tr>\n",
       "    <tr>\n",
       "      <th>B</th>\n",
       "      <td>4660</td>\n",
       "      <td>354</td>\n",
       "      <td>7.060231</td>\n",
       "    </tr>\n",
       "    <tr>\n",
       "      <th>A</th>\n",
       "      <td>23</td>\n",
       "      <td>2</td>\n",
       "      <td>8.000000</td>\n",
       "    </tr>\n",
       "    <tr>\n",
       "      <th>C</th>\n",
       "      <td>14568</td>\n",
       "      <td>1353</td>\n",
       "      <td>8.498210</td>\n",
       "    </tr>\n",
       "    <tr>\n",
       "      <th>E</th>\n",
       "      <td>20</td>\n",
       "      <td>2</td>\n",
       "      <td>9.090909</td>\n",
       "    </tr>\n",
       "  </tbody>\n",
       "</table>\n",
       "</div>"
      ],
      "text/plain": [
       "                       no_debt  debt  percentage_debtors_%\n",
       "total_income_category                                     \n",
       "D                          328    21              6.017192\n",
       "B                         4660   354              7.060231\n",
       "A                           23     2              8.000000\n",
       "C                        14568  1353              8.498210\n",
       "E                           20     2              9.090909"
      ]
     },
     "execution_count": 27,
     "metadata": {},
     "output_type": "execute_result"
    }
   ],
   "source": [
    "#создадим сводную таблицу с новыми данными:\n",
    "data_income = data.pivot_table(index='total_income_category', columns='debt', values='gender', aggfunc='count')\n",
    "#создаем столбцы\n",
    "data_income.columns = ['no_debt', 'debt']\n",
    "#считаем долю должников\n",
    "data_income['percentage_debtors_%'] = data_income['debt'] / (data_income['debt'] + data_income['no_debt'])\n",
    "#сохраняем результат в %\n",
    "data_income['percentage_debtors_%'] = data_income['percentage_debtors_%'] * 100\n",
    "#сортируем таблицу по возрастанию\n",
    "data_income.sort_values(by='percentage_debtors_%', ascending=True)# Ваш код будет здесь. Вы можете создавать новые ячейки."
   ]
  },
  {
   "cell_type": "markdown",
   "id": "5749bd0e",
   "metadata": {
    "deletable": false,
    "id": "e8593def"
   },
   "source": [
    "**Вывод:** зависимость между уровнем дохода и возвратом кредита в срок заключается в следующем:\n",
    "1. Самый низкий процент просрочек по кредиту у заемщиков с доходом 30001–50000.\n",
    "2. Категории с самым высоким доходои и с самым низким - не информативны, выборка слишком мала, их не будем учитывать.\n",
    "3. Заемщики с доходом 50001–200000 имеют ощутимо больше задожностей чем заемщики с доходом 30001–50000, при этом заемщики с доходом 30001–50000 берут кредиты в разы меньше категорий В и С"
   ]
  },
  {
   "cell_type": "markdown",
   "id": "56163e58",
   "metadata": {
    "deletable": false,
    "editable": false,
    "id": "99ecbd1f"
   },
   "source": [
    "#### 3.4 Как разные цели кредита влияют на его возврат в срок?"
   ]
  },
  {
   "cell_type": "markdown",
   "id": "72093130",
   "metadata": {},
   "source": [
    "Ранее создали функцию \"categorize_purpose\", которая разделила цели кредита по категориям:\n",
    "- 'операции с автомобилем',\n",
    "- 'операции с недвижимостью',\n",
    "- 'проведение свадьбы',\n",
    "- 'получение образования'"
   ]
  },
  {
   "cell_type": "code",
   "execution_count": 28,
   "id": "3339cae7",
   "metadata": {
    "deletable": false,
    "id": "2b687290"
   },
   "outputs": [
    {
     "data": {
      "text/html": [
       "<div>\n",
       "<style scoped>\n",
       "    .dataframe tbody tr th:only-of-type {\n",
       "        vertical-align: middle;\n",
       "    }\n",
       "\n",
       "    .dataframe tbody tr th {\n",
       "        vertical-align: top;\n",
       "    }\n",
       "\n",
       "    .dataframe thead th {\n",
       "        text-align: right;\n",
       "    }\n",
       "</style>\n",
       "<table border=\"1\" class=\"dataframe\">\n",
       "  <thead>\n",
       "    <tr style=\"text-align: right;\">\n",
       "      <th></th>\n",
       "      <th>no_debt</th>\n",
       "      <th>debt</th>\n",
       "      <th>percentage_debtors_%</th>\n",
       "    </tr>\n",
       "    <tr>\n",
       "      <th>purpose_category</th>\n",
       "      <th></th>\n",
       "      <th></th>\n",
       "      <th></th>\n",
       "    </tr>\n",
       "  </thead>\n",
       "  <tbody>\n",
       "    <tr>\n",
       "      <th>операции с недвижимостью</th>\n",
       "      <td>9971</td>\n",
       "      <td>780</td>\n",
       "      <td>7.255139</td>\n",
       "    </tr>\n",
       "    <tr>\n",
       "      <th>проведение свадьбы</th>\n",
       "      <td>2130</td>\n",
       "      <td>183</td>\n",
       "      <td>7.911803</td>\n",
       "    </tr>\n",
       "    <tr>\n",
       "      <th>получение образования</th>\n",
       "      <td>3619</td>\n",
       "      <td>369</td>\n",
       "      <td>9.252758</td>\n",
       "    </tr>\n",
       "    <tr>\n",
       "      <th>операции с автомобилем</th>\n",
       "      <td>3879</td>\n",
       "      <td>400</td>\n",
       "      <td>9.347978</td>\n",
       "    </tr>\n",
       "  </tbody>\n",
       "</table>\n",
       "</div>"
      ],
      "text/plain": [
       "                          no_debt  debt  percentage_debtors_%\n",
       "purpose_category                                             \n",
       "операции с недвижимостью     9971   780              7.255139\n",
       "проведение свадьбы           2130   183              7.911803\n",
       "получение образования        3619   369              9.252758\n",
       "операции с автомобилем       3879   400              9.347978"
      ]
     },
     "execution_count": 28,
     "metadata": {},
     "output_type": "execute_result"
    }
   ],
   "source": [
    "#создадим сводную таблицу с новыми данными:\n",
    "data_purpose = data.pivot_table(index='purpose_category', columns='debt', values='gender', aggfunc='count')\n",
    "#создаем столбцы\n",
    "data_purpose.columns = ['no_debt', 'debt']\n",
    "#считаем долю должников\n",
    "data_purpose['percentage_debtors_%'] = data_purpose['debt'] / (data_purpose['debt'] + data_purpose['no_debt'])\n",
    "#сохраняем результат в %\n",
    "data_purpose['percentage_debtors_%'] = data_purpose['percentage_debtors_%'] * 100\n",
    "#сортируем таблицу по возрастанию\n",
    "data_purpose.sort_values(by='percentage_debtors_%', ascending=True)# Ваш код будет здесь. Вы можете создавать новые ячейки.# Ваш код будет здесь. Вы можете создавать новые ячейки."
   ]
  },
  {
   "cell_type": "markdown",
   "id": "635989b9",
   "metadata": {
    "deletable": false,
    "id": "b4bb2ce6"
   },
   "source": [
    "**Вывод:** \n",
    "1. Заемщики, берущие кредит на недвижимость, имеют меньше просрочек чем все остальные заемщики. \n",
    "2. Самые рискованные категории - образование и операции с автомобилем, по ним больше просрочек на 22 % относительно просрочек кредитов на недвижимость, возможно это связано также с возрастом аудитории - можно дополнительно исследовать это предположение.\n",
    "3.  Заемщиков категории операций с недвижимостью более 50% относительно всех остальных"
   ]
  },
  {
   "cell_type": "markdown",
   "id": "1e60fe70",
   "metadata": {
    "deletable": false,
    "editable": false,
    "id": "09c3ac4c"
   },
   "source": [
    "#### 3.5 Приведите возможные причины появления пропусков в исходных данных."
   ]
  },
  {
   "cell_type": "markdown",
   "id": "4c852ef4",
   "metadata": {
    "deletable": false,
    "id": "9da2ceda"
   },
   "source": [
    "*Ответ:* Причины могут быть следущие - неверный ввод данных, сбой при извлечении и сохранении, \"человеческий\" фактор, технические проблемы"
   ]
  },
  {
   "cell_type": "markdown",
   "id": "0ef9f897",
   "metadata": {
    "deletable": false,
    "editable": false,
    "id": "7b0487d6"
   },
   "source": [
    "#### 3.6 Объясните, почему заполнить пропуски медианным значением — лучшее решение для количественных переменных."
   ]
  },
  {
   "cell_type": "markdown",
   "id": "d2d00dbd",
   "metadata": {
    "deletable": false,
    "id": "7ecf2b8e"
   },
   "source": [
    "*Ответ:* Не для всех количественных переменных, но в большинстве случаев медиана отражает наиболее адекватное значение переменных при различных аномалиях и сильно выраженных отклонениях"
   ]
  },
  {
   "cell_type": "markdown",
   "id": "542a618d",
   "metadata": {
    "deletable": false,
    "id": "6db5255a"
   },
   "source": [
    "## 4. Общий вывод."
   ]
  },
  {
   "cell_type": "markdown",
   "id": "d710ef1a",
   "metadata": {
    "deletable": false,
    "id": "bad65432"
   },
   "source": [
    "#### В данном исследовании на этапе предообработки были внесены следущие изменения: ####\n",
    " \n",
    " 1. В колонке \"total_income\" (ежемесячный доход) были выявлены пропуски, которые заполнили медианным значением, а также  заменили вещественный тип данных на целочисленный.\n",
    " 2. В колонке \"days_employed\" (трудовой стаж в днях) также выявлены пропуски и у двух типов (безработные и пенсионеры) выявлены аномально большие значения (более 14% аномальных значений). Пропуски заполнили медианными значениями по каждому типу занятости, аномалии не исправляли, т к данные из этого столбца в исследовании не используются.\n",
    " 3. В колонке \"children\" (количество детей в семье) обнаружены и удалены строки  с аномальными значениями (-1,20)\n",
    " 4. В колонке \"education\"(образование) обнаружены и устанены дубликаты, все строки приведены к нижнему регистру.\n",
    " 5. Данные на основании \"total_income\" (ежемесячный доход) сформировали по категориям:\n",
    " \n",
    "    * 0–30000 — 'E'\n",
    "    * 30001–50000 — 'D'\n",
    "    * 50001–200000 — 'C'\n",
    "    * 200001–1000000 — 'B'\n",
    "    * 1000001 и выше — 'A'\n",
    "\n",
    " \n",
    " 6. Данные на основании \"purpose\" (цель получения кредита) сформировали по категориям:\n",
    " \n",
    "    * 'операции с автомобилем'\n",
    "    * 'операции с недвижимостью'\n",
    "    * 'проведение свадьбы'\n",
    "    * 'получение образования'\n",
    "\n",
    "\n",
    " 7. Данные на основании \"children\" (количество детей в семье) сформировали по категориям:\n",
    " \n",
    "    * 'нет детей'\n",
    "    * 'семья с 1 ребенком'\n",
    "    * 'семья с 2 детьми'\n",
    "    * 'многодетная семья'\n",
    "\n",
    " \n",
    "#### При исследовании данных были выявлены следущие зависимости: ####\n",
    " 1. Заемщики, у которых нет детей имеют меньше просрочек по задолжностям, чем те у кого есть дети.\n",
    " 2. Заемщики, состоящие или ранее состоящие в официальных отношениях имеют меньший процент просрочек по кредиту, и этот критерий наиболее показателен по влиянию на выплаты в срок.\n",
    " 3. Самый низкий процент просрочек по кредиту у заемщиков с доходом 30001–50000\n",
    " 4. Заемщики, берущие кредит на недвижимость, имеют меньше просрочек чем все остальные заемщики\n",
    " \n",
    " **Наиболее эффективный заемщик - это человек в разводе, без детей, с доходом 30-50 тысяч, берущий кредит на недвижимость.** \n",
    " \n",
    " В целом % задолжностей по всем категориям не сильно отличается - от 6 до 9% от числа всех заемщиков, но самая большая разница в значениях выявлена в исследовании по категориям семейного положения (разница относительно минимального и максимального значений - 32%), значит этот фактор наиболее показателен"
   ]
  }
 ],
 "metadata": {
  "ExecuteTimeLog": [
   {
    "duration": 500,
    "start_time": "2023-05-01T10:07:39.907Z"
   },
   {
    "duration": 24,
    "start_time": "2023-05-01T10:07:40.409Z"
   },
   {
    "duration": 16,
    "start_time": "2023-05-01T10:07:40.434Z"
   },
   {
    "duration": 10,
    "start_time": "2023-05-01T10:07:40.451Z"
   },
   {
    "duration": 49,
    "start_time": "2023-05-01T10:07:40.463Z"
   },
   {
    "duration": 4,
    "start_time": "2023-05-01T10:07:40.514Z"
   },
   {
    "duration": 11,
    "start_time": "2023-05-01T10:07:40.520Z"
   },
   {
    "duration": 4,
    "start_time": "2023-05-01T10:07:40.533Z"
   },
   {
    "duration": 9,
    "start_time": "2023-05-01T10:07:40.539Z"
   },
   {
    "duration": 4,
    "start_time": "2023-05-01T10:07:40.550Z"
   },
   {
    "duration": 72,
    "start_time": "2023-05-01T10:07:40.556Z"
   },
   {
    "duration": 10,
    "start_time": "2023-05-01T10:07:40.629Z"
   },
   {
    "duration": 18,
    "start_time": "2023-05-01T10:07:40.641Z"
   },
   {
    "duration": 30,
    "start_time": "2023-05-01T10:07:40.663Z"
   },
   {
    "duration": 27,
    "start_time": "2023-05-01T10:07:40.695Z"
   },
   {
    "duration": 24,
    "start_time": "2023-05-01T10:07:40.724Z"
   },
   {
    "duration": 4,
    "start_time": "2023-05-01T10:07:40.751Z"
   },
   {
    "duration": 39,
    "start_time": "2023-05-01T10:07:40.757Z"
   },
   {
    "duration": 9,
    "start_time": "2023-05-01T10:07:40.798Z"
   },
   {
    "duration": 10,
    "start_time": "2023-05-01T10:07:40.809Z"
   },
   {
    "duration": 19,
    "start_time": "2023-05-01T10:07:40.821Z"
   },
   {
    "duration": 9,
    "start_time": "2023-05-01T10:07:40.842Z"
   },
   {
    "duration": 17,
    "start_time": "2023-05-01T10:07:40.853Z"
   },
   {
    "duration": 11,
    "start_time": "2023-05-01T10:07:40.873Z"
   },
   {
    "duration": 17,
    "start_time": "2023-05-01T10:07:40.887Z"
   },
   {
    "duration": 11,
    "start_time": "2023-05-01T11:08:14.505Z"
   },
   {
    "duration": 76,
    "start_time": "2023-05-01T11:09:05.212Z"
   },
   {
    "duration": 120,
    "start_time": "2023-05-01T11:09:09.585Z"
   },
   {
    "duration": 12,
    "start_time": "2023-05-01T11:09:37.516Z"
   },
   {
    "duration": 16,
    "start_time": "2023-05-01T11:10:14.318Z"
   },
   {
    "duration": 11,
    "start_time": "2023-05-01T11:10:21.460Z"
   },
   {
    "duration": 9,
    "start_time": "2023-05-01T11:13:21.225Z"
   },
   {
    "duration": 25,
    "start_time": "2023-05-01T11:13:29.120Z"
   },
   {
    "duration": 44,
    "start_time": "2023-05-01T11:13:46.325Z"
   },
   {
    "duration": 20,
    "start_time": "2023-05-01T11:15:17.356Z"
   },
   {
    "duration": 864,
    "start_time": "2023-05-01T11:15:42.020Z"
   },
   {
    "duration": 46,
    "start_time": "2023-05-01T11:16:43.927Z"
   },
   {
    "duration": 49,
    "start_time": "2023-05-01T11:18:24.628Z"
   },
   {
    "duration": 44,
    "start_time": "2023-05-01T11:19:26.544Z"
   },
   {
    "duration": 47,
    "start_time": "2023-05-01T11:19:34.525Z"
   },
   {
    "duration": 39,
    "start_time": "2023-05-01T11:19:57.945Z"
   },
   {
    "duration": 63,
    "start_time": "2023-05-01T11:20:26.172Z"
   },
   {
    "duration": 76,
    "start_time": "2023-05-01T11:23:13.210Z"
   },
   {
    "duration": 27,
    "start_time": "2023-05-01T11:32:45.115Z"
   },
   {
    "duration": 37,
    "start_time": "2023-05-01T11:33:00.057Z"
   },
   {
    "duration": 11,
    "start_time": "2023-05-01T11:41:40.258Z"
   },
   {
    "duration": 42,
    "start_time": "2023-05-01T11:43:28.313Z"
   },
   {
    "duration": 28,
    "start_time": "2023-05-01T11:44:05.818Z"
   },
   {
    "duration": 9,
    "start_time": "2023-05-01T11:44:55.556Z"
   },
   {
    "duration": 54,
    "start_time": "2023-05-01T18:15:17.584Z"
   },
   {
    "duration": 43,
    "start_time": "2023-05-01T18:15:31.764Z"
   },
   {
    "duration": 563,
    "start_time": "2023-05-01T18:16:32.747Z"
   },
   {
    "duration": 23,
    "start_time": "2023-05-01T18:16:33.311Z"
   },
   {
    "duration": 22,
    "start_time": "2023-05-01T18:16:33.336Z"
   },
   {
    "duration": 11,
    "start_time": "2023-05-01T18:16:33.360Z"
   },
   {
    "duration": 37,
    "start_time": "2023-05-01T18:16:33.373Z"
   },
   {
    "duration": 3,
    "start_time": "2023-05-01T18:16:33.412Z"
   },
   {
    "duration": 12,
    "start_time": "2023-05-01T18:16:33.417Z"
   },
   {
    "duration": 2,
    "start_time": "2023-05-01T18:16:33.431Z"
   },
   {
    "duration": 11,
    "start_time": "2023-05-01T18:16:33.459Z"
   },
   {
    "duration": 9,
    "start_time": "2023-05-01T18:16:33.472Z"
   },
   {
    "duration": 5,
    "start_time": "2023-05-01T18:16:33.483Z"
   },
   {
    "duration": 46,
    "start_time": "2023-05-01T18:16:33.489Z"
   },
   {
    "duration": 29,
    "start_time": "2023-05-01T18:16:33.536Z"
   },
   {
    "duration": 8,
    "start_time": "2023-05-01T18:16:33.569Z"
   },
   {
    "duration": 36,
    "start_time": "2023-05-01T18:16:33.580Z"
   },
   {
    "duration": 48,
    "start_time": "2023-05-01T18:16:33.617Z"
   },
   {
    "duration": 18,
    "start_time": "2023-05-01T18:16:33.667Z"
   },
   {
    "duration": 11,
    "start_time": "2023-05-01T18:16:33.687Z"
   },
   {
    "duration": 16,
    "start_time": "2023-05-01T18:16:33.699Z"
   },
   {
    "duration": 28,
    "start_time": "2023-05-01T18:16:33.717Z"
   },
   {
    "duration": 31,
    "start_time": "2023-05-01T18:16:33.747Z"
   },
   {
    "duration": 17,
    "start_time": "2023-05-01T18:16:33.780Z"
   },
   {
    "duration": 35,
    "start_time": "2023-05-01T18:16:33.798Z"
   },
   {
    "duration": 20,
    "start_time": "2023-05-01T18:16:33.835Z"
   },
   {
    "duration": 22,
    "start_time": "2023-05-01T18:16:33.856Z"
   },
   {
    "duration": 20,
    "start_time": "2023-05-01T18:16:33.880Z"
   },
   {
    "duration": 39,
    "start_time": "2023-05-01T18:16:33.902Z"
   },
   {
    "duration": 9,
    "start_time": "2023-05-01T18:16:51.514Z"
   },
   {
    "duration": 22,
    "start_time": "2023-05-01T18:17:14.067Z"
   },
   {
    "duration": 21,
    "start_time": "2023-05-01T18:17:59.345Z"
   },
   {
    "duration": 28,
    "start_time": "2023-05-01T18:21:39.604Z"
   },
   {
    "duration": 35,
    "start_time": "2023-05-01T18:46:00.896Z"
   },
   {
    "duration": 36,
    "start_time": "2023-05-01T19:23:02.673Z"
   },
   {
    "duration": 21,
    "start_time": "2023-05-01T19:23:17.159Z"
   },
   {
    "duration": 8,
    "start_time": "2023-05-01T19:25:50.713Z"
   },
   {
    "duration": 8,
    "start_time": "2023-05-01T19:26:17.093Z"
   },
   {
    "duration": 297,
    "start_time": "2023-05-01T19:33:48.042Z"
   },
   {
    "duration": 23,
    "start_time": "2023-05-01T19:33:55.969Z"
   },
   {
    "duration": 8,
    "start_time": "2023-05-01T19:34:35.869Z"
   },
   {
    "duration": 9,
    "start_time": "2023-05-01T19:34:40.873Z"
   },
   {
    "duration": 8,
    "start_time": "2023-05-01T19:35:20.673Z"
   },
   {
    "duration": 17,
    "start_time": "2023-05-01T19:36:10.617Z"
   },
   {
    "duration": 16,
    "start_time": "2023-05-01T19:37:21.799Z"
   },
   {
    "duration": 17,
    "start_time": "2023-05-01T19:38:06.113Z"
   },
   {
    "duration": 17,
    "start_time": "2023-05-01T19:38:08.973Z"
   },
   {
    "duration": 17,
    "start_time": "2023-05-01T19:38:44.012Z"
   },
   {
    "duration": 17,
    "start_time": "2023-05-01T19:42:53.011Z"
   },
   {
    "duration": 22,
    "start_time": "2023-05-01T19:43:35.711Z"
   },
   {
    "duration": 20,
    "start_time": "2023-05-01T19:44:51.877Z"
   },
   {
    "duration": 72,
    "start_time": "2023-05-01T19:59:31.556Z"
   },
   {
    "duration": 56,
    "start_time": "2023-05-01T19:59:42.353Z"
   },
   {
    "duration": 57,
    "start_time": "2023-05-01T20:00:02.623Z"
   },
   {
    "duration": 26,
    "start_time": "2023-05-01T20:03:27.174Z"
   },
   {
    "duration": 21,
    "start_time": "2023-05-01T20:03:39.397Z"
   },
   {
    "duration": 22,
    "start_time": "2023-05-01T20:04:07.301Z"
   },
   {
    "duration": 21,
    "start_time": "2023-05-01T20:04:55.942Z"
   },
   {
    "duration": 22,
    "start_time": "2023-05-01T20:06:14.303Z"
   },
   {
    "duration": 23,
    "start_time": "2023-05-01T20:11:21.636Z"
   },
   {
    "duration": 24,
    "start_time": "2023-05-01T20:11:24.612Z"
   },
   {
    "duration": 23,
    "start_time": "2023-05-01T20:11:38.054Z"
   },
   {
    "duration": 23,
    "start_time": "2023-05-01T20:13:53.309Z"
   },
   {
    "duration": 21,
    "start_time": "2023-05-01T20:14:02.512Z"
   },
   {
    "duration": 17,
    "start_time": "2023-05-01T20:24:32.088Z"
   },
   {
    "duration": 72,
    "start_time": "2023-05-01T20:25:35.091Z"
   },
   {
    "duration": 15,
    "start_time": "2023-05-01T20:25:35.165Z"
   },
   {
    "duration": 20,
    "start_time": "2023-05-01T20:25:35.182Z"
   },
   {
    "duration": 12,
    "start_time": "2023-05-01T20:25:35.205Z"
   },
   {
    "duration": 64,
    "start_time": "2023-05-01T20:25:35.219Z"
   },
   {
    "duration": 3,
    "start_time": "2023-05-01T20:25:35.285Z"
   },
   {
    "duration": 10,
    "start_time": "2023-05-01T20:25:35.290Z"
   },
   {
    "duration": 2,
    "start_time": "2023-05-01T20:25:35.301Z"
   },
   {
    "duration": 8,
    "start_time": "2023-05-01T20:25:35.305Z"
   },
   {
    "duration": 6,
    "start_time": "2023-05-01T20:25:35.316Z"
   },
   {
    "duration": 35,
    "start_time": "2023-05-01T20:25:35.324Z"
   },
   {
    "duration": 35,
    "start_time": "2023-05-01T20:25:35.361Z"
   },
   {
    "duration": 11,
    "start_time": "2023-05-01T20:25:35.398Z"
   },
   {
    "duration": 4,
    "start_time": "2023-05-01T20:25:35.410Z"
   },
   {
    "duration": 13,
    "start_time": "2023-05-01T20:25:35.416Z"
   },
   {
    "duration": 44,
    "start_time": "2023-05-01T20:25:35.431Z"
   },
   {
    "duration": 17,
    "start_time": "2023-05-01T20:25:35.477Z"
   },
   {
    "duration": 4,
    "start_time": "2023-05-01T20:25:35.495Z"
   },
   {
    "duration": 28,
    "start_time": "2023-05-01T20:25:35.500Z"
   },
   {
    "duration": 9,
    "start_time": "2023-05-01T20:25:35.530Z"
   },
   {
    "duration": 5,
    "start_time": "2023-05-01T20:25:35.541Z"
   },
   {
    "duration": 11,
    "start_time": "2023-05-01T20:25:35.559Z"
   },
   {
    "duration": 14,
    "start_time": "2023-05-01T20:25:35.573Z"
   },
   {
    "duration": 33,
    "start_time": "2023-05-01T20:25:35.589Z"
   },
   {
    "duration": 50,
    "start_time": "2023-05-01T20:25:35.624Z"
   },
   {
    "duration": 33,
    "start_time": "2023-05-01T20:25:35.676Z"
   },
   {
    "duration": 20,
    "start_time": "2023-05-01T20:25:35.711Z"
   },
   {
    "duration": 0,
    "start_time": "2023-05-01T20:25:35.733Z"
   },
   {
    "duration": 31,
    "start_time": "2023-05-01T20:27:18.531Z"
   },
   {
    "duration": 21,
    "start_time": "2023-05-01T20:27:43.308Z"
   },
   {
    "duration": 13,
    "start_time": "2023-05-01T21:07:57.216Z"
   },
   {
    "duration": 24,
    "start_time": "2023-05-01T21:08:46.409Z"
   },
   {
    "duration": 48,
    "start_time": "2023-05-01T21:36:41.250Z"
   },
   {
    "duration": 54,
    "start_time": "2023-05-01T21:36:58.052Z"
   },
   {
    "duration": 56,
    "start_time": "2023-05-01T21:37:05.226Z"
   },
   {
    "duration": 73,
    "start_time": "2023-05-01T21:37:20.446Z"
   },
   {
    "duration": 47,
    "start_time": "2023-05-01T21:37:27.381Z"
   },
   {
    "duration": 42,
    "start_time": "2023-05-01T21:37:35.572Z"
   },
   {
    "duration": 50,
    "start_time": "2023-05-01T21:37:38.999Z"
   },
   {
    "duration": 47,
    "start_time": "2023-05-01T21:37:45.938Z"
   },
   {
    "duration": 52,
    "start_time": "2023-05-01T21:38:07.198Z"
   },
   {
    "duration": 41,
    "start_time": "2023-05-01T21:39:39.163Z"
   },
   {
    "duration": 78,
    "start_time": "2023-05-01T21:40:27.985Z"
   },
   {
    "duration": 53,
    "start_time": "2023-05-01T21:40:44.960Z"
   },
   {
    "duration": 44,
    "start_time": "2023-05-01T21:40:54.328Z"
   },
   {
    "duration": 46,
    "start_time": "2023-05-01T21:41:01.119Z"
   },
   {
    "duration": 46,
    "start_time": "2023-05-01T21:41:12.248Z"
   },
   {
    "duration": 39,
    "start_time": "2023-05-01T21:41:28.555Z"
   },
   {
    "duration": 49,
    "start_time": "2023-05-01T21:41:40.085Z"
   },
   {
    "duration": 51,
    "start_time": "2023-05-01T21:41:47.380Z"
   },
   {
    "duration": 4,
    "start_time": "2023-05-01T21:48:19.288Z"
   },
   {
    "duration": 4,
    "start_time": "2023-05-01T21:48:44.638Z"
   },
   {
    "duration": 4,
    "start_time": "2023-05-01T21:49:18.045Z"
   },
   {
    "duration": 520,
    "start_time": "2023-05-01T21:49:36.111Z"
   },
   {
    "duration": 510,
    "start_time": "2023-05-01T21:50:15.862Z"
   },
   {
    "duration": 519,
    "start_time": "2023-05-01T21:50:48.802Z"
   },
   {
    "duration": 520,
    "start_time": "2023-05-01T21:51:04.900Z"
   },
   {
    "duration": 546,
    "start_time": "2023-05-01T21:51:30.130Z"
   },
   {
    "duration": 521,
    "start_time": "2023-05-01T21:51:52.538Z"
   },
   {
    "duration": 350,
    "start_time": "2023-05-01T21:54:21.181Z"
   },
   {
    "duration": 367,
    "start_time": "2023-05-01T21:54:46.917Z"
   },
   {
    "duration": 23,
    "start_time": "2023-05-01T21:55:01.083Z"
   },
   {
    "duration": 51,
    "start_time": "2023-05-01T21:57:02.562Z"
   },
   {
    "duration": 9,
    "start_time": "2023-05-01T21:57:31.218Z"
   },
   {
    "duration": 23,
    "start_time": "2023-05-01T21:57:55.255Z"
   },
   {
    "duration": 13,
    "start_time": "2023-05-01T21:58:36.809Z"
   },
   {
    "duration": 12,
    "start_time": "2023-05-01T21:58:56.560Z"
   },
   {
    "duration": 13,
    "start_time": "2023-05-01T21:59:20.229Z"
   },
   {
    "duration": 12,
    "start_time": "2023-05-01T21:59:32.907Z"
   },
   {
    "duration": 12,
    "start_time": "2023-05-01T21:59:56.142Z"
   },
   {
    "duration": 25,
    "start_time": "2023-05-01T22:00:10.189Z"
   },
   {
    "duration": 23,
    "start_time": "2023-05-01T22:00:18.804Z"
   },
   {
    "duration": 74,
    "start_time": "2023-05-01T22:26:58.716Z"
   },
   {
    "duration": 15,
    "start_time": "2023-05-01T22:26:58.792Z"
   },
   {
    "duration": 19,
    "start_time": "2023-05-01T22:26:58.808Z"
   },
   {
    "duration": 35,
    "start_time": "2023-05-01T22:26:58.829Z"
   },
   {
    "duration": 42,
    "start_time": "2023-05-01T22:26:58.866Z"
   },
   {
    "duration": 5,
    "start_time": "2023-05-01T22:26:58.910Z"
   },
   {
    "duration": 10,
    "start_time": "2023-05-01T22:26:58.916Z"
   },
   {
    "duration": 2,
    "start_time": "2023-05-01T22:26:58.928Z"
   },
   {
    "duration": 33,
    "start_time": "2023-05-01T22:26:58.932Z"
   },
   {
    "duration": 6,
    "start_time": "2023-05-01T22:26:58.969Z"
   },
   {
    "duration": 4,
    "start_time": "2023-05-01T22:26:58.977Z"
   },
   {
    "duration": 38,
    "start_time": "2023-05-01T22:26:58.983Z"
   },
   {
    "duration": 38,
    "start_time": "2023-05-01T22:26:59.023Z"
   },
   {
    "duration": 4,
    "start_time": "2023-05-01T22:26:59.062Z"
   },
   {
    "duration": 13,
    "start_time": "2023-05-01T22:26:59.068Z"
   },
   {
    "duration": 81,
    "start_time": "2023-05-01T22:26:59.083Z"
   },
   {
    "duration": 18,
    "start_time": "2023-05-01T22:26:59.165Z"
   },
   {
    "duration": 5,
    "start_time": "2023-05-01T22:26:59.184Z"
   },
   {
    "duration": 12,
    "start_time": "2023-05-01T22:26:59.190Z"
   },
   {
    "duration": 2,
    "start_time": "2023-05-01T22:26:59.204Z"
   },
   {
    "duration": 13,
    "start_time": "2023-05-01T22:26:59.207Z"
   },
   {
    "duration": 3,
    "start_time": "2023-05-01T22:26:59.222Z"
   },
   {
    "duration": 35,
    "start_time": "2023-05-01T22:26:59.227Z"
   },
   {
    "duration": 2,
    "start_time": "2023-05-01T22:26:59.264Z"
   },
   {
    "duration": 23,
    "start_time": "2023-05-01T22:26:59.268Z"
   },
   {
    "duration": 24,
    "start_time": "2023-05-01T22:26:59.293Z"
   },
   {
    "duration": 45,
    "start_time": "2023-05-01T22:26:59.319Z"
   },
   {
    "duration": 22,
    "start_time": "2023-05-01T22:26:59.367Z"
   },
   {
    "duration": 23,
    "start_time": "2023-05-01T22:26:59.391Z"
   },
   {
    "duration": 512,
    "start_time": "2023-05-02T09:08:49.885Z"
   },
   {
    "duration": 24,
    "start_time": "2023-05-02T09:08:50.411Z"
   },
   {
    "duration": 13,
    "start_time": "2023-05-02T09:08:50.436Z"
   },
   {
    "duration": 60,
    "start_time": "2023-05-02T09:08:50.450Z"
   },
   {
    "duration": 50,
    "start_time": "2023-05-02T09:08:50.513Z"
   },
   {
    "duration": 3,
    "start_time": "2023-05-02T09:08:50.565Z"
   },
   {
    "duration": 66,
    "start_time": "2023-05-02T09:08:50.569Z"
   },
   {
    "duration": 18,
    "start_time": "2023-05-02T09:08:50.637Z"
   },
   {
    "duration": 49,
    "start_time": "2023-05-02T09:08:50.657Z"
   },
   {
    "duration": 37,
    "start_time": "2023-05-02T09:08:50.707Z"
   },
   {
    "duration": 14,
    "start_time": "2023-05-02T09:08:50.746Z"
   },
   {
    "duration": 79,
    "start_time": "2023-05-02T09:08:50.762Z"
   },
   {
    "duration": 10,
    "start_time": "2023-05-02T09:08:50.842Z"
   },
   {
    "duration": 16,
    "start_time": "2023-05-02T09:08:50.855Z"
   },
   {
    "duration": 56,
    "start_time": "2023-05-02T09:08:50.890Z"
   },
   {
    "duration": 49,
    "start_time": "2023-05-02T09:08:50.948Z"
   },
   {
    "duration": 27,
    "start_time": "2023-05-02T09:08:51.006Z"
   },
   {
    "duration": 5,
    "start_time": "2023-05-02T09:08:51.034Z"
   },
   {
    "duration": 20,
    "start_time": "2023-05-02T09:08:51.040Z"
   },
   {
    "duration": 4,
    "start_time": "2023-05-02T09:08:51.062Z"
   },
   {
    "duration": 70,
    "start_time": "2023-05-02T09:08:51.067Z"
   },
   {
    "duration": 22,
    "start_time": "2023-05-02T09:08:51.139Z"
   },
   {
    "duration": 63,
    "start_time": "2023-05-02T09:08:51.162Z"
   },
   {
    "duration": 27,
    "start_time": "2023-05-02T09:08:51.226Z"
   },
   {
    "duration": 97,
    "start_time": "2023-05-02T09:08:51.254Z"
   },
   {
    "duration": 139,
    "start_time": "2023-05-02T09:08:51.353Z"
   },
   {
    "duration": 32,
    "start_time": "2023-05-02T09:08:51.494Z"
   },
   {
    "duration": 105,
    "start_time": "2023-05-02T09:08:51.528Z"
   },
   {
    "duration": 93,
    "start_time": "2023-05-02T09:08:51.634Z"
   },
   {
    "duration": 52,
    "start_time": "2023-05-03T04:37:31.597Z"
   },
   {
    "duration": 49,
    "start_time": "2023-05-03T04:37:53.625Z"
   },
   {
    "duration": 47,
    "start_time": "2023-05-03T04:38:05.296Z"
   },
   {
    "duration": 61,
    "start_time": "2023-05-03T05:37:20.545Z"
   },
   {
    "duration": 71,
    "start_time": "2023-05-04T09:03:58.910Z"
   },
   {
    "duration": 1015,
    "start_time": "2023-05-04T09:04:21.888Z"
   },
   {
    "duration": 21,
    "start_time": "2023-05-04T09:04:22.905Z"
   },
   {
    "duration": 84,
    "start_time": "2023-05-04T09:04:22.928Z"
   },
   {
    "duration": 13,
    "start_time": "2023-05-04T09:04:23.014Z"
   },
   {
    "duration": 152,
    "start_time": "2023-05-04T09:04:23.029Z"
   },
   {
    "duration": 46,
    "start_time": "2023-05-04T09:04:23.183Z"
   },
   {
    "duration": 90,
    "start_time": "2023-05-04T09:04:23.231Z"
   },
   {
    "duration": 44,
    "start_time": "2023-05-04T09:04:23.323Z"
   },
   {
    "duration": 48,
    "start_time": "2023-05-04T09:04:23.371Z"
   },
   {
    "duration": 10,
    "start_time": "2023-05-04T09:04:23.422Z"
   },
   {
    "duration": 131,
    "start_time": "2023-05-04T09:04:23.441Z"
   },
   {
    "duration": 24,
    "start_time": "2023-05-04T09:04:23.574Z"
   },
   {
    "duration": 19,
    "start_time": "2023-05-04T09:04:23.600Z"
   },
   {
    "duration": 43,
    "start_time": "2023-05-04T09:04:23.621Z"
   },
   {
    "duration": 51,
    "start_time": "2023-05-04T09:04:23.673Z"
   },
   {
    "duration": 63,
    "start_time": "2023-05-04T09:04:23.726Z"
   },
   {
    "duration": 35,
    "start_time": "2023-05-04T09:04:23.792Z"
   },
   {
    "duration": 86,
    "start_time": "2023-05-04T09:04:23.829Z"
   },
   {
    "duration": 12,
    "start_time": "2023-05-04T09:04:23.916Z"
   },
   {
    "duration": 69,
    "start_time": "2023-05-04T09:04:23.930Z"
   },
   {
    "duration": 25,
    "start_time": "2023-05-04T09:04:24.004Z"
   },
   {
    "duration": 186,
    "start_time": "2023-05-04T09:04:24.032Z"
   },
   {
    "duration": 0,
    "start_time": "2023-05-04T09:04:24.220Z"
   },
   {
    "duration": 0,
    "start_time": "2023-05-04T09:04:24.222Z"
   },
   {
    "duration": 0,
    "start_time": "2023-05-04T09:04:24.223Z"
   },
   {
    "duration": 0,
    "start_time": "2023-05-04T09:04:24.224Z"
   },
   {
    "duration": 0,
    "start_time": "2023-05-04T09:04:24.226Z"
   },
   {
    "duration": 0,
    "start_time": "2023-05-04T09:04:24.229Z"
   },
   {
    "duration": 70,
    "start_time": "2023-05-04T09:04:48.112Z"
   },
   {
    "duration": 6,
    "start_time": "2023-05-04T09:04:54.899Z"
   },
   {
    "duration": 5,
    "start_time": "2023-05-04T09:05:09.461Z"
   },
   {
    "duration": 122,
    "start_time": "2023-05-04T09:05:13.810Z"
   },
   {
    "duration": 37,
    "start_time": "2023-05-04T09:05:13.946Z"
   },
   {
    "duration": 42,
    "start_time": "2023-05-04T09:05:13.985Z"
   },
   {
    "duration": 39,
    "start_time": "2023-05-04T09:05:14.029Z"
   },
   {
    "duration": 155,
    "start_time": "2023-05-04T09:05:14.070Z"
   },
   {
    "duration": 17,
    "start_time": "2023-05-04T09:05:14.227Z"
   },
   {
    "duration": 67,
    "start_time": "2023-05-04T09:05:14.246Z"
   },
   {
    "duration": 12,
    "start_time": "2023-05-04T09:05:14.315Z"
   },
   {
    "duration": 17,
    "start_time": "2023-05-04T09:05:14.330Z"
   },
   {
    "duration": 60,
    "start_time": "2023-05-04T09:05:14.349Z"
   },
   {
    "duration": 70,
    "start_time": "2023-05-04T09:05:14.412Z"
   },
   {
    "duration": 13,
    "start_time": "2023-05-04T09:05:14.485Z"
   },
   {
    "duration": 19,
    "start_time": "2023-05-04T09:05:14.500Z"
   },
   {
    "duration": 28,
    "start_time": "2023-05-04T09:05:14.522Z"
   },
   {
    "duration": 79,
    "start_time": "2023-05-04T09:05:14.552Z"
   },
   {
    "duration": 30,
    "start_time": "2023-05-04T09:05:14.633Z"
   },
   {
    "duration": 62,
    "start_time": "2023-05-04T09:05:14.665Z"
   },
   {
    "duration": 97,
    "start_time": "2023-05-04T09:05:14.728Z"
   },
   {
    "duration": 3,
    "start_time": "2023-05-04T09:05:14.827Z"
   },
   {
    "duration": 71,
    "start_time": "2023-05-04T09:05:14.836Z"
   },
   {
    "duration": 7,
    "start_time": "2023-05-04T09:05:14.909Z"
   },
   {
    "duration": 213,
    "start_time": "2023-05-04T09:05:14.918Z"
   },
   {
    "duration": 0,
    "start_time": "2023-05-04T09:05:15.140Z"
   },
   {
    "duration": 0,
    "start_time": "2023-05-04T09:05:15.142Z"
   },
   {
    "duration": 0,
    "start_time": "2023-05-04T09:05:15.143Z"
   },
   {
    "duration": 0,
    "start_time": "2023-05-04T09:05:15.144Z"
   },
   {
    "duration": 1,
    "start_time": "2023-05-04T09:05:15.145Z"
   },
   {
    "duration": 0,
    "start_time": "2023-05-04T09:05:15.147Z"
   },
   {
    "duration": 9,
    "start_time": "2023-05-04T09:06:08.316Z"
   },
   {
    "duration": 12,
    "start_time": "2023-05-04T09:07:06.215Z"
   },
   {
    "duration": 19,
    "start_time": "2023-05-04T09:07:26.573Z"
   },
   {
    "duration": 11,
    "start_time": "2023-05-04T09:07:30.289Z"
   },
   {
    "duration": 10,
    "start_time": "2023-05-04T09:07:44.450Z"
   },
   {
    "duration": 5,
    "start_time": "2023-05-04T09:08:27.858Z"
   },
   {
    "duration": 15,
    "start_time": "2023-05-04T09:08:34.965Z"
   },
   {
    "duration": 141,
    "start_time": "2023-05-04T09:09:31.112Z"
   },
   {
    "duration": 28,
    "start_time": "2023-05-04T09:09:31.256Z"
   },
   {
    "duration": 57,
    "start_time": "2023-05-04T09:09:31.286Z"
   },
   {
    "duration": 66,
    "start_time": "2023-05-04T09:09:31.353Z"
   },
   {
    "duration": 98,
    "start_time": "2023-05-04T09:09:31.421Z"
   },
   {
    "duration": 4,
    "start_time": "2023-05-04T09:09:31.520Z"
   },
   {
    "duration": 88,
    "start_time": "2023-05-04T09:09:31.525Z"
   },
   {
    "duration": 88,
    "start_time": "2023-05-04T09:09:31.615Z"
   },
   {
    "duration": 20,
    "start_time": "2023-05-04T09:09:31.706Z"
   },
   {
    "duration": 70,
    "start_time": "2023-05-04T09:09:31.729Z"
   },
   {
    "duration": 63,
    "start_time": "2023-05-04T09:09:31.801Z"
   },
   {
    "duration": 26,
    "start_time": "2023-05-04T09:09:31.866Z"
   },
   {
    "duration": 12,
    "start_time": "2023-05-04T09:09:31.894Z"
   },
   {
    "duration": 46,
    "start_time": "2023-05-04T09:09:31.908Z"
   },
   {
    "duration": 70,
    "start_time": "2023-05-04T09:09:31.958Z"
   },
   {
    "duration": 68,
    "start_time": "2023-05-04T09:09:32.030Z"
   },
   {
    "duration": 17,
    "start_time": "2023-05-04T09:09:32.103Z"
   },
   {
    "duration": 94,
    "start_time": "2023-05-04T09:09:32.122Z"
   },
   {
    "duration": 11,
    "start_time": "2023-05-04T09:09:32.218Z"
   },
   {
    "duration": 81,
    "start_time": "2023-05-04T09:09:32.230Z"
   },
   {
    "duration": 5,
    "start_time": "2023-05-04T09:09:32.313Z"
   },
   {
    "duration": 236,
    "start_time": "2023-05-04T09:09:32.319Z"
   },
   {
    "duration": 0,
    "start_time": "2023-05-04T09:09:32.557Z"
   },
   {
    "duration": 0,
    "start_time": "2023-05-04T09:09:32.558Z"
   },
   {
    "duration": 0,
    "start_time": "2023-05-04T09:09:32.561Z"
   },
   {
    "duration": 0,
    "start_time": "2023-05-04T09:09:32.562Z"
   },
   {
    "duration": 0,
    "start_time": "2023-05-04T09:09:32.563Z"
   },
   {
    "duration": 0,
    "start_time": "2023-05-04T09:09:32.564Z"
   },
   {
    "duration": 216,
    "start_time": "2023-05-04T09:40:39.371Z"
   },
   {
    "duration": 35,
    "start_time": "2023-05-04T09:40:39.590Z"
   },
   {
    "duration": 225,
    "start_time": "2023-05-04T09:40:39.627Z"
   },
   {
    "duration": 118,
    "start_time": "2023-05-04T09:40:39.858Z"
   },
   {
    "duration": 170,
    "start_time": "2023-05-04T09:40:39.978Z"
   },
   {
    "duration": 77,
    "start_time": "2023-05-04T09:40:40.150Z"
   },
   {
    "duration": 99,
    "start_time": "2023-05-04T09:40:40.229Z"
   },
   {
    "duration": 15,
    "start_time": "2023-05-04T09:40:40.329Z"
   },
   {
    "duration": 82,
    "start_time": "2023-05-04T09:40:40.348Z"
   },
   {
    "duration": 90,
    "start_time": "2023-05-04T09:40:40.433Z"
   },
   {
    "duration": 122,
    "start_time": "2023-05-04T09:40:40.525Z"
   },
   {
    "duration": 34,
    "start_time": "2023-05-04T09:40:40.650Z"
   },
   {
    "duration": 154,
    "start_time": "2023-05-04T09:40:40.686Z"
   },
   {
    "duration": 118,
    "start_time": "2023-05-04T09:40:40.845Z"
   },
   {
    "duration": 112,
    "start_time": "2023-05-04T09:40:40.971Z"
   },
   {
    "duration": 59,
    "start_time": "2023-05-04T09:40:41.088Z"
   },
   {
    "duration": 14,
    "start_time": "2023-05-04T09:40:41.152Z"
   },
   {
    "duration": 74,
    "start_time": "2023-05-04T09:40:41.169Z"
   },
   {
    "duration": 71,
    "start_time": "2023-05-04T09:40:41.253Z"
   },
   {
    "duration": 45,
    "start_time": "2023-05-04T09:40:41.326Z"
   },
   {
    "duration": 38,
    "start_time": "2023-05-04T09:40:41.386Z"
   },
   {
    "duration": 189,
    "start_time": "2023-05-04T09:40:41.427Z"
   },
   {
    "duration": 0,
    "start_time": "2023-05-04T09:40:41.618Z"
   },
   {
    "duration": 0,
    "start_time": "2023-05-04T09:40:41.620Z"
   },
   {
    "duration": 0,
    "start_time": "2023-05-04T09:40:41.622Z"
   },
   {
    "duration": 0,
    "start_time": "2023-05-04T09:40:41.624Z"
   },
   {
    "duration": 0,
    "start_time": "2023-05-04T09:40:41.625Z"
   },
   {
    "duration": 0,
    "start_time": "2023-05-04T09:40:41.627Z"
   },
   {
    "duration": 73,
    "start_time": "2023-05-04T09:40:52.420Z"
   },
   {
    "duration": 480,
    "start_time": "2023-05-04T11:26:42.716Z"
   },
   {
    "duration": 20,
    "start_time": "2023-05-04T11:26:43.198Z"
   },
   {
    "duration": 17,
    "start_time": "2023-05-04T11:26:43.219Z"
   },
   {
    "duration": 12,
    "start_time": "2023-05-04T11:26:43.238Z"
   },
   {
    "duration": 34,
    "start_time": "2023-05-04T11:26:43.252Z"
   },
   {
    "duration": 3,
    "start_time": "2023-05-04T11:26:43.288Z"
   },
   {
    "duration": 12,
    "start_time": "2023-05-04T11:26:43.293Z"
   },
   {
    "duration": 8,
    "start_time": "2023-05-04T11:26:43.307Z"
   },
   {
    "duration": 8,
    "start_time": "2023-05-04T11:26:43.334Z"
   },
   {
    "duration": 8,
    "start_time": "2023-05-04T11:26:43.345Z"
   },
   {
    "duration": 45,
    "start_time": "2023-05-04T11:26:43.355Z"
   },
   {
    "duration": 9,
    "start_time": "2023-05-04T11:26:43.402Z"
   },
   {
    "duration": 3,
    "start_time": "2023-05-04T11:26:43.413Z"
   },
   {
    "duration": 22,
    "start_time": "2023-05-04T11:26:43.418Z"
   },
   {
    "duration": 26,
    "start_time": "2023-05-04T11:26:43.442Z"
   },
   {
    "duration": 15,
    "start_time": "2023-05-04T11:26:43.470Z"
   },
   {
    "duration": 4,
    "start_time": "2023-05-04T11:26:43.486Z"
   },
   {
    "duration": 19,
    "start_time": "2023-05-04T11:26:43.491Z"
   },
   {
    "duration": 12,
    "start_time": "2023-05-04T11:26:43.512Z"
   },
   {
    "duration": 19,
    "start_time": "2023-05-04T11:26:43.525Z"
   },
   {
    "duration": 12,
    "start_time": "2023-05-04T11:26:43.545Z"
   },
   {
    "duration": 10,
    "start_time": "2023-05-04T11:26:43.558Z"
   },
   {
    "duration": 2,
    "start_time": "2023-05-04T11:26:43.570Z"
   },
   {
    "duration": 21,
    "start_time": "2023-05-04T11:26:43.574Z"
   },
   {
    "duration": 24,
    "start_time": "2023-05-04T11:26:43.597Z"
   },
   {
    "duration": 22,
    "start_time": "2023-05-04T11:26:43.622Z"
   },
   {
    "duration": 19,
    "start_time": "2023-05-04T11:26:43.645Z"
   },
   {
    "duration": 19,
    "start_time": "2023-05-04T11:26:43.667Z"
   },
   {
    "duration": 497,
    "start_time": "2023-05-04T11:27:25.628Z"
   },
   {
    "duration": 26,
    "start_time": "2023-05-04T11:27:26.127Z"
   },
   {
    "duration": 36,
    "start_time": "2023-05-04T11:27:26.155Z"
   },
   {
    "duration": 12,
    "start_time": "2023-05-04T11:27:26.193Z"
   },
   {
    "duration": 45,
    "start_time": "2023-05-04T11:27:26.207Z"
   },
   {
    "duration": 4,
    "start_time": "2023-05-04T11:27:26.254Z"
   },
   {
    "duration": 16,
    "start_time": "2023-05-04T11:27:26.259Z"
   },
   {
    "duration": 3,
    "start_time": "2023-05-04T11:27:26.277Z"
   },
   {
    "duration": 10,
    "start_time": "2023-05-04T11:27:26.282Z"
   },
   {
    "duration": 4,
    "start_time": "2023-05-04T11:27:26.294Z"
   },
   {
    "duration": 64,
    "start_time": "2023-05-04T11:27:26.300Z"
   },
   {
    "duration": 11,
    "start_time": "2023-05-04T11:27:26.365Z"
   },
   {
    "duration": 6,
    "start_time": "2023-05-04T11:27:26.378Z"
   },
   {
    "duration": 19,
    "start_time": "2023-05-04T11:27:26.387Z"
   },
   {
    "duration": 37,
    "start_time": "2023-05-04T11:27:26.408Z"
   },
   {
    "duration": 18,
    "start_time": "2023-05-04T11:27:26.447Z"
   },
   {
    "duration": 5,
    "start_time": "2023-05-04T11:27:26.467Z"
   },
   {
    "duration": 19,
    "start_time": "2023-05-04T11:27:26.473Z"
   },
   {
    "duration": 3,
    "start_time": "2023-05-04T11:27:26.494Z"
   },
   {
    "duration": 12,
    "start_time": "2023-05-04T11:27:26.499Z"
   },
   {
    "duration": 23,
    "start_time": "2023-05-04T11:27:26.513Z"
   },
   {
    "duration": 17,
    "start_time": "2023-05-04T11:27:26.537Z"
   },
   {
    "duration": 3,
    "start_time": "2023-05-04T11:27:26.555Z"
   },
   {
    "duration": 30,
    "start_time": "2023-05-04T11:27:26.560Z"
   },
   {
    "duration": 44,
    "start_time": "2023-05-04T11:27:26.592Z"
   },
   {
    "duration": 21,
    "start_time": "2023-05-04T11:27:26.637Z"
   },
   {
    "duration": 20,
    "start_time": "2023-05-04T11:27:26.660Z"
   },
   {
    "duration": 19,
    "start_time": "2023-05-04T11:27:26.682Z"
   }
  ],
  "colab": {
   "name": "dpp_template_part2.ipynb",
   "provenance": []
  },
  "kernelspec": {
   "display_name": "Python 3 (ipykernel)",
   "language": "python",
   "name": "python3"
  },
  "language_info": {
   "codemirror_mode": {
    "name": "ipython",
    "version": 3
   },
   "file_extension": ".py",
   "mimetype": "text/x-python",
   "name": "python",
   "nbconvert_exporter": "python",
   "pygments_lexer": "ipython3",
   "version": "3.10.9"
  },
  "toc": {
   "base_numbering": 1,
   "nav_menu": {
    "height": "12px",
    "width": "160px"
   },
   "number_sections": true,
   "sideBar": true,
   "skip_h1_title": true,
   "title_cell": "Table of Contents",
   "title_sidebar": "Contents",
   "toc_cell": false,
   "toc_position": {
    "height": "calc(100% - 180px)",
    "left": "10px",
    "top": "150px",
    "width": "359.547px"
   },
   "toc_section_display": true,
   "toc_window_display": false
  }
 },
 "nbformat": 4,
 "nbformat_minor": 5
}
