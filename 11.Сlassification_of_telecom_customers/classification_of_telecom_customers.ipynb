{
 "cells": [
  {
   "cell_type": "markdown",
   "metadata": {},
   "source": [
    "# Рекомендация тарифов"
   ]
  },
  {
   "cell_type": "markdown",
   "metadata": {},
   "source": [
    "### Описание проекта:\n",
    "Оператор мобильной связи выяснил: многие клиенты пользуются архивными тарифами. Они хотят построить систему, способную проанализировать поведение клиентов и предложить пользователям один из новых тарифов. В нашем распоряжении данные о поведении клиентов, которые уже перешли на эти тарифы.\n",
    "\n",
    "### Цель проекта:\n",
    "Построить модель для задачи классификации с максимально большим значением accuracy, которая выберет подходящий тариф. Нужно довести долю правильных ответов по крайней мере до 0.75."
   ]
  },
  {
   "cell_type": "markdown",
   "metadata": {},
   "source": [
    "## Загрузка данных и изучение общей информации"
   ]
  },
  {
   "cell_type": "code",
   "execution_count": 1,
   "metadata": {},
   "outputs": [],
   "source": [
    "import pandas as pd\n",
    "from sklearn.metrics import accuracy_score \n",
    "from sklearn.model_selection import train_test_split\n",
    "from sklearn.metrics import mean_squared_error\n",
    "from sklearn.linear_model import LogisticRegression \n",
    "from sklearn.ensemble import RandomForestClassifier\n",
    "from sklearn.tree import DecisionTreeClassifier\n",
    "from sklearn.dummy import DummyClassifier"
   ]
  },
  {
   "cell_type": "code",
   "execution_count": 2,
   "metadata": {},
   "outputs": [],
   "source": [
    "data = pd.read_csv('/data/users_behavior.csv')"
   ]
  },
  {
   "cell_type": "markdown",
   "metadata": {},
   "source": [
    "***Описание данных:***\n",
    "\n",
    "Каждый объект в наборе данных — это информация о поведении одного пользователя за месяц. Известно:\n",
    "* сalls — количество звонков,\n",
    "* minutes — суммарная длительность звонков в минутах,\n",
    "* messages — количество sms-сообщений,\n",
    "* mb_used — израсходованный интернет-трафик в Мб,\n",
    "* is_ultra — каким тарифом пользовался в течение месяца («Ультра» — 1, «Смарт» — 0)."
   ]
  },
  {
   "cell_type": "code",
   "execution_count": 3,
   "metadata": {},
   "outputs": [
    {
     "data": {
      "text/html": [
       "<div>\n",
       "<style scoped>\n",
       "    .dataframe tbody tr th:only-of-type {\n",
       "        vertical-align: middle;\n",
       "    }\n",
       "\n",
       "    .dataframe tbody tr th {\n",
       "        vertical-align: top;\n",
       "    }\n",
       "\n",
       "    .dataframe thead th {\n",
       "        text-align: right;\n",
       "    }\n",
       "</style>\n",
       "<table border=\"1\" class=\"dataframe\">\n",
       "  <thead>\n",
       "    <tr style=\"text-align: right;\">\n",
       "      <th></th>\n",
       "      <th>calls</th>\n",
       "      <th>minutes</th>\n",
       "      <th>messages</th>\n",
       "      <th>mb_used</th>\n",
       "      <th>is_ultra</th>\n",
       "    </tr>\n",
       "  </thead>\n",
       "  <tbody>\n",
       "    <tr>\n",
       "      <th>0</th>\n",
       "      <td>40.0</td>\n",
       "      <td>311.90</td>\n",
       "      <td>83.0</td>\n",
       "      <td>19915.42</td>\n",
       "      <td>0</td>\n",
       "    </tr>\n",
       "    <tr>\n",
       "      <th>1</th>\n",
       "      <td>85.0</td>\n",
       "      <td>516.75</td>\n",
       "      <td>56.0</td>\n",
       "      <td>22696.96</td>\n",
       "      <td>0</td>\n",
       "    </tr>\n",
       "    <tr>\n",
       "      <th>2</th>\n",
       "      <td>77.0</td>\n",
       "      <td>467.66</td>\n",
       "      <td>86.0</td>\n",
       "      <td>21060.45</td>\n",
       "      <td>0</td>\n",
       "    </tr>\n",
       "    <tr>\n",
       "      <th>3</th>\n",
       "      <td>106.0</td>\n",
       "      <td>745.53</td>\n",
       "      <td>81.0</td>\n",
       "      <td>8437.39</td>\n",
       "      <td>1</td>\n",
       "    </tr>\n",
       "    <tr>\n",
       "      <th>4</th>\n",
       "      <td>66.0</td>\n",
       "      <td>418.74</td>\n",
       "      <td>1.0</td>\n",
       "      <td>14502.75</td>\n",
       "      <td>0</td>\n",
       "    </tr>\n",
       "    <tr>\n",
       "      <th>5</th>\n",
       "      <td>58.0</td>\n",
       "      <td>344.56</td>\n",
       "      <td>21.0</td>\n",
       "      <td>15823.37</td>\n",
       "      <td>0</td>\n",
       "    </tr>\n",
       "    <tr>\n",
       "      <th>6</th>\n",
       "      <td>57.0</td>\n",
       "      <td>431.64</td>\n",
       "      <td>20.0</td>\n",
       "      <td>3738.90</td>\n",
       "      <td>1</td>\n",
       "    </tr>\n",
       "    <tr>\n",
       "      <th>7</th>\n",
       "      <td>15.0</td>\n",
       "      <td>132.40</td>\n",
       "      <td>6.0</td>\n",
       "      <td>21911.60</td>\n",
       "      <td>0</td>\n",
       "    </tr>\n",
       "    <tr>\n",
       "      <th>8</th>\n",
       "      <td>7.0</td>\n",
       "      <td>43.39</td>\n",
       "      <td>3.0</td>\n",
       "      <td>2538.67</td>\n",
       "      <td>1</td>\n",
       "    </tr>\n",
       "    <tr>\n",
       "      <th>9</th>\n",
       "      <td>90.0</td>\n",
       "      <td>665.41</td>\n",
       "      <td>38.0</td>\n",
       "      <td>17358.61</td>\n",
       "      <td>0</td>\n",
       "    </tr>\n",
       "  </tbody>\n",
       "</table>\n",
       "</div>"
      ],
      "text/plain": [
       "   calls  minutes  messages   mb_used  is_ultra\n",
       "0   40.0   311.90      83.0  19915.42         0\n",
       "1   85.0   516.75      56.0  22696.96         0\n",
       "2   77.0   467.66      86.0  21060.45         0\n",
       "3  106.0   745.53      81.0   8437.39         1\n",
       "4   66.0   418.74       1.0  14502.75         0\n",
       "5   58.0   344.56      21.0  15823.37         0\n",
       "6   57.0   431.64      20.0   3738.90         1\n",
       "7   15.0   132.40       6.0  21911.60         0\n",
       "8    7.0    43.39       3.0   2538.67         1\n",
       "9   90.0   665.41      38.0  17358.61         0"
      ]
     },
     "execution_count": 3,
     "metadata": {},
     "output_type": "execute_result"
    }
   ],
   "source": [
    "data.head(10)"
   ]
  },
  {
   "cell_type": "code",
   "execution_count": 4,
   "metadata": {
    "scrolled": true
   },
   "outputs": [
    {
     "name": "stdout",
     "output_type": "stream",
     "text": [
      "<class 'pandas.core.frame.DataFrame'>\n",
      "RangeIndex: 3214 entries, 0 to 3213\n",
      "Data columns (total 5 columns):\n",
      " #   Column    Non-Null Count  Dtype  \n",
      "---  ------    --------------  -----  \n",
      " 0   calls     3214 non-null   float64\n",
      " 1   minutes   3214 non-null   float64\n",
      " 2   messages  3214 non-null   float64\n",
      " 3   mb_used   3214 non-null   float64\n",
      " 4   is_ultra  3214 non-null   int64  \n",
      "dtypes: float64(4), int64(1)\n",
      "memory usage: 125.7 KB\n"
     ]
    }
   ],
   "source": [
    "data.info()"
   ]
  },
  {
   "cell_type": "code",
   "execution_count": 5,
   "metadata": {
    "scrolled": true
   },
   "outputs": [
    {
     "data": {
      "text/html": [
       "<div>\n",
       "<style scoped>\n",
       "    .dataframe tbody tr th:only-of-type {\n",
       "        vertical-align: middle;\n",
       "    }\n",
       "\n",
       "    .dataframe tbody tr th {\n",
       "        vertical-align: top;\n",
       "    }\n",
       "\n",
       "    .dataframe thead th {\n",
       "        text-align: right;\n",
       "    }\n",
       "</style>\n",
       "<table border=\"1\" class=\"dataframe\">\n",
       "  <thead>\n",
       "    <tr style=\"text-align: right;\">\n",
       "      <th></th>\n",
       "      <th>calls</th>\n",
       "      <th>minutes</th>\n",
       "      <th>messages</th>\n",
       "      <th>mb_used</th>\n",
       "      <th>is_ultra</th>\n",
       "    </tr>\n",
       "  </thead>\n",
       "  <tbody>\n",
       "    <tr>\n",
       "      <th>count</th>\n",
       "      <td>3214.000000</td>\n",
       "      <td>3214.000000</td>\n",
       "      <td>3214.000000</td>\n",
       "      <td>3214.000000</td>\n",
       "      <td>3214.000000</td>\n",
       "    </tr>\n",
       "    <tr>\n",
       "      <th>mean</th>\n",
       "      <td>63.038892</td>\n",
       "      <td>438.208787</td>\n",
       "      <td>38.281269</td>\n",
       "      <td>17207.673836</td>\n",
       "      <td>0.306472</td>\n",
       "    </tr>\n",
       "    <tr>\n",
       "      <th>std</th>\n",
       "      <td>33.236368</td>\n",
       "      <td>234.569872</td>\n",
       "      <td>36.148326</td>\n",
       "      <td>7570.968246</td>\n",
       "      <td>0.461100</td>\n",
       "    </tr>\n",
       "    <tr>\n",
       "      <th>min</th>\n",
       "      <td>0.000000</td>\n",
       "      <td>0.000000</td>\n",
       "      <td>0.000000</td>\n",
       "      <td>0.000000</td>\n",
       "      <td>0.000000</td>\n",
       "    </tr>\n",
       "    <tr>\n",
       "      <th>25%</th>\n",
       "      <td>40.000000</td>\n",
       "      <td>274.575000</td>\n",
       "      <td>9.000000</td>\n",
       "      <td>12491.902500</td>\n",
       "      <td>0.000000</td>\n",
       "    </tr>\n",
       "    <tr>\n",
       "      <th>50%</th>\n",
       "      <td>62.000000</td>\n",
       "      <td>430.600000</td>\n",
       "      <td>30.000000</td>\n",
       "      <td>16943.235000</td>\n",
       "      <td>0.000000</td>\n",
       "    </tr>\n",
       "    <tr>\n",
       "      <th>75%</th>\n",
       "      <td>82.000000</td>\n",
       "      <td>571.927500</td>\n",
       "      <td>57.000000</td>\n",
       "      <td>21424.700000</td>\n",
       "      <td>1.000000</td>\n",
       "    </tr>\n",
       "    <tr>\n",
       "      <th>max</th>\n",
       "      <td>244.000000</td>\n",
       "      <td>1632.060000</td>\n",
       "      <td>224.000000</td>\n",
       "      <td>49745.730000</td>\n",
       "      <td>1.000000</td>\n",
       "    </tr>\n",
       "  </tbody>\n",
       "</table>\n",
       "</div>"
      ],
      "text/plain": [
       "             calls      minutes     messages       mb_used     is_ultra\n",
       "count  3214.000000  3214.000000  3214.000000   3214.000000  3214.000000\n",
       "mean     63.038892   438.208787    38.281269  17207.673836     0.306472\n",
       "std      33.236368   234.569872    36.148326   7570.968246     0.461100\n",
       "min       0.000000     0.000000     0.000000      0.000000     0.000000\n",
       "25%      40.000000   274.575000     9.000000  12491.902500     0.000000\n",
       "50%      62.000000   430.600000    30.000000  16943.235000     0.000000\n",
       "75%      82.000000   571.927500    57.000000  21424.700000     1.000000\n",
       "max     244.000000  1632.060000   224.000000  49745.730000     1.000000"
      ]
     },
     "execution_count": 5,
     "metadata": {},
     "output_type": "execute_result"
    }
   ],
   "source": [
    "data.describe()"
   ]
  },
  {
   "cell_type": "code",
   "execution_count": 6,
   "metadata": {},
   "outputs": [
    {
     "data": {
      "text/html": [
       "<div>\n",
       "<style scoped>\n",
       "    .dataframe tbody tr th:only-of-type {\n",
       "        vertical-align: middle;\n",
       "    }\n",
       "\n",
       "    .dataframe tbody tr th {\n",
       "        vertical-align: top;\n",
       "    }\n",
       "\n",
       "    .dataframe thead th {\n",
       "        text-align: right;\n",
       "    }\n",
       "</style>\n",
       "<table border=\"1\" class=\"dataframe\">\n",
       "  <thead>\n",
       "    <tr style=\"text-align: right;\">\n",
       "      <th></th>\n",
       "      <th>calls</th>\n",
       "      <th>minutes</th>\n",
       "      <th>messages</th>\n",
       "      <th>mb_used</th>\n",
       "      <th>is_ultra</th>\n",
       "    </tr>\n",
       "  </thead>\n",
       "  <tbody>\n",
       "    <tr>\n",
       "      <th>54</th>\n",
       "      <td>0.0</td>\n",
       "      <td>0.0</td>\n",
       "      <td>33.0</td>\n",
       "      <td>14010.33</td>\n",
       "      <td>1</td>\n",
       "    </tr>\n",
       "    <tr>\n",
       "      <th>247</th>\n",
       "      <td>0.0</td>\n",
       "      <td>0.0</td>\n",
       "      <td>35.0</td>\n",
       "      <td>16444.99</td>\n",
       "      <td>1</td>\n",
       "    </tr>\n",
       "    <tr>\n",
       "      <th>264</th>\n",
       "      <td>0.0</td>\n",
       "      <td>0.0</td>\n",
       "      <td>21.0</td>\n",
       "      <td>19559.55</td>\n",
       "      <td>0</td>\n",
       "    </tr>\n",
       "    <tr>\n",
       "      <th>351</th>\n",
       "      <td>0.0</td>\n",
       "      <td>0.0</td>\n",
       "      <td>8.0</td>\n",
       "      <td>35525.61</td>\n",
       "      <td>1</td>\n",
       "    </tr>\n",
       "    <tr>\n",
       "      <th>390</th>\n",
       "      <td>0.0</td>\n",
       "      <td>0.0</td>\n",
       "      <td>25.0</td>\n",
       "      <td>19088.67</td>\n",
       "      <td>1</td>\n",
       "    </tr>\n",
       "    <tr>\n",
       "      <th>484</th>\n",
       "      <td>0.0</td>\n",
       "      <td>0.0</td>\n",
       "      <td>191.0</td>\n",
       "      <td>32448.02</td>\n",
       "      <td>1</td>\n",
       "    </tr>\n",
       "    <tr>\n",
       "      <th>551</th>\n",
       "      <td>0.0</td>\n",
       "      <td>0.0</td>\n",
       "      <td>24.0</td>\n",
       "      <td>18701.54</td>\n",
       "      <td>1</td>\n",
       "    </tr>\n",
       "    <tr>\n",
       "      <th>647</th>\n",
       "      <td>0.0</td>\n",
       "      <td>0.0</td>\n",
       "      <td>30.0</td>\n",
       "      <td>10236.20</td>\n",
       "      <td>1</td>\n",
       "    </tr>\n",
       "    <tr>\n",
       "      <th>769</th>\n",
       "      <td>0.0</td>\n",
       "      <td>0.0</td>\n",
       "      <td>32.0</td>\n",
       "      <td>17206.44</td>\n",
       "      <td>0</td>\n",
       "    </tr>\n",
       "    <tr>\n",
       "      <th>884</th>\n",
       "      <td>0.0</td>\n",
       "      <td>0.0</td>\n",
       "      <td>180.0</td>\n",
       "      <td>32045.73</td>\n",
       "      <td>1</td>\n",
       "    </tr>\n",
       "    <tr>\n",
       "      <th>951</th>\n",
       "      <td>0.0</td>\n",
       "      <td>0.0</td>\n",
       "      <td>185.0</td>\n",
       "      <td>31032.94</td>\n",
       "      <td>1</td>\n",
       "    </tr>\n",
       "    <tr>\n",
       "      <th>1040</th>\n",
       "      <td>0.0</td>\n",
       "      <td>0.0</td>\n",
       "      <td>29.0</td>\n",
       "      <td>21289.28</td>\n",
       "      <td>1</td>\n",
       "    </tr>\n",
       "    <tr>\n",
       "      <th>1094</th>\n",
       "      <td>0.0</td>\n",
       "      <td>0.0</td>\n",
       "      <td>35.0</td>\n",
       "      <td>17322.59</td>\n",
       "      <td>0</td>\n",
       "    </tr>\n",
       "    <tr>\n",
       "      <th>1103</th>\n",
       "      <td>0.0</td>\n",
       "      <td>0.0</td>\n",
       "      <td>201.0</td>\n",
       "      <td>27825.95</td>\n",
       "      <td>1</td>\n",
       "    </tr>\n",
       "    <tr>\n",
       "      <th>1238</th>\n",
       "      <td>0.0</td>\n",
       "      <td>0.0</td>\n",
       "      <td>30.0</td>\n",
       "      <td>20016.75</td>\n",
       "      <td>1</td>\n",
       "    </tr>\n",
       "    <tr>\n",
       "      <th>1248</th>\n",
       "      <td>0.0</td>\n",
       "      <td>0.0</td>\n",
       "      <td>20.0</td>\n",
       "      <td>18418.27</td>\n",
       "      <td>1</td>\n",
       "    </tr>\n",
       "    <tr>\n",
       "      <th>1351</th>\n",
       "      <td>0.0</td>\n",
       "      <td>0.0</td>\n",
       "      <td>9.0</td>\n",
       "      <td>2923.50</td>\n",
       "      <td>1</td>\n",
       "    </tr>\n",
       "    <tr>\n",
       "      <th>1448</th>\n",
       "      <td>0.0</td>\n",
       "      <td>0.0</td>\n",
       "      <td>7.0</td>\n",
       "      <td>39419.77</td>\n",
       "      <td>1</td>\n",
       "    </tr>\n",
       "    <tr>\n",
       "      <th>1533</th>\n",
       "      <td>0.0</td>\n",
       "      <td>0.0</td>\n",
       "      <td>188.0</td>\n",
       "      <td>33189.50</td>\n",
       "      <td>1</td>\n",
       "    </tr>\n",
       "    <tr>\n",
       "      <th>1598</th>\n",
       "      <td>0.0</td>\n",
       "      <td>0.0</td>\n",
       "      <td>28.0</td>\n",
       "      <td>16573.03</td>\n",
       "      <td>1</td>\n",
       "    </tr>\n",
       "  </tbody>\n",
       "</table>\n",
       "</div>"
      ],
      "text/plain": [
       "      calls  minutes  messages   mb_used  is_ultra\n",
       "54      0.0      0.0      33.0  14010.33         1\n",
       "247     0.0      0.0      35.0  16444.99         1\n",
       "264     0.0      0.0      21.0  19559.55         0\n",
       "351     0.0      0.0       8.0  35525.61         1\n",
       "390     0.0      0.0      25.0  19088.67         1\n",
       "484     0.0      0.0     191.0  32448.02         1\n",
       "551     0.0      0.0      24.0  18701.54         1\n",
       "647     0.0      0.0      30.0  10236.20         1\n",
       "769     0.0      0.0      32.0  17206.44         0\n",
       "884     0.0      0.0     180.0  32045.73         1\n",
       "951     0.0      0.0     185.0  31032.94         1\n",
       "1040    0.0      0.0      29.0  21289.28         1\n",
       "1094    0.0      0.0      35.0  17322.59         0\n",
       "1103    0.0      0.0     201.0  27825.95         1\n",
       "1238    0.0      0.0      30.0  20016.75         1\n",
       "1248    0.0      0.0      20.0  18418.27         1\n",
       "1351    0.0      0.0       9.0   2923.50         1\n",
       "1448    0.0      0.0       7.0  39419.77         1\n",
       "1533    0.0      0.0     188.0  33189.50         1\n",
       "1598    0.0      0.0      28.0  16573.03         1"
      ]
     },
     "execution_count": 6,
     "metadata": {},
     "output_type": "execute_result"
    }
   ],
   "source": [
    "data.query('calls == 0 and minutes == 0').head(20)"
   ]
  },
  {
   "cell_type": "code",
   "execution_count": 7,
   "metadata": {},
   "outputs": [
    {
     "data": {
      "text/plain": [
       "0"
      ]
     },
     "execution_count": 7,
     "metadata": {},
     "output_type": "execute_result"
    }
   ],
   "source": [
    "data.duplicated().sum()"
   ]
  },
  {
   "cell_type": "markdown",
   "metadata": {},
   "source": [
    "#### Вывод:\n",
    "1. Пропуски, нарушения хорошего стиля, явные дубликаты не обнаружены. \n",
    "2. Присутствуют нулевые значения в колонках звонки и минуты - возможно это бизнес-аккаунты  с использованием мессенджеров или просто пользователи исключительно интернет-трафика, но по заданию преобработка данных не требуется, будем считать, что на адекватность модели это не повлияет.\n",
    "3. Всего 3214 строки, в каждой содержится информация по каждому пользователю об используемых ресурсах за месяц.\n",
    "Данные готовы к работе."
   ]
  },
  {
   "cell_type": "markdown",
   "metadata": {},
   "source": [
    "## Разделение данных на выборки"
   ]
  },
  {
   "cell_type": "markdown",
   "metadata": {},
   "source": [
    "Разобъем данные на тренировочную (60%), валидационную (20%) и тестовую (20%) выборки:"
   ]
  },
  {
   "cell_type": "code",
   "execution_count": 8,
   "metadata": {
    "scrolled": true
   },
   "outputs": [
    {
     "name": "stdout",
     "output_type": "stream",
     "text": [
      "(1928, 5)\n",
      "(643, 5)\n",
      "(643, 5)\n"
     ]
    }
   ],
   "source": [
    "data_train, data_valid_test = train_test_split(\n",
    "    data, test_size=0.40, random_state=12345)\n",
    "\n",
    "data_test, data_valid = train_test_split(\n",
    "    data_valid_test, test_size=0.50, random_state=12345)\n",
    "\n",
    "print(data_train.shape)\n",
    "print(data_test.shape)\n",
    "print(data_valid.shape)"
   ]
  },
  {
   "cell_type": "markdown",
   "metadata": {},
   "source": [
    "Определим целевой признак - тариф, колонка 'is_ultra'. \n",
    "\n",
    "Т к значений целевого признака всего два - определим тип задачи - **бинарная классификация**.\n",
    "\n",
    "Выборки готовы, извлечем признаки и целевой признак для каждой выборки (train - выборка для обучения модели, valid - валидационная выборка и test - тестовая выборка):"
   ]
  },
  {
   "cell_type": "code",
   "execution_count": 9,
   "metadata": {},
   "outputs": [],
   "source": [
    "train_features = data_train.drop(['is_ultra'], axis=1) \n",
    "train_target = data_train['is_ultra']\n",
    "\n",
    "valid_features = data_valid.drop(['is_ultra'], axis=1) \n",
    "valid_target = data_valid['is_ultra']\n",
    "\n",
    "test_features = data_test.drop(['is_ultra'], axis=1) \n",
    "test_target = data_test['is_ultra']"
   ]
  },
  {
   "cell_type": "markdown",
   "metadata": {},
   "source": [
    "## Исследование моделей"
   ]
  },
  {
   "cell_type": "markdown",
   "metadata": {},
   "source": [
    "Для решения задачи обучим три типа моделей и проверим качество прогнозирования:\n",
    "* Дерево решений\n",
    "* Случайный лес\n",
    "* Логистическая регрессия\n",
    "\n",
    "Затем лучшую модель с  долей правильных ответов не менее 0.75 проверим на тестовой выборке."
   ]
  },
  {
   "cell_type": "markdown",
   "metadata": {},
   "source": [
    "### Дерево решений"
   ]
  },
  {
   "cell_type": "code",
   "execution_count": 10,
   "metadata": {},
   "outputs": [
    {
     "name": "stdout",
     "output_type": "stream",
     "text": [
      "Качество наилучшей модели на валидационной выборке: 0.7993779160186625 \n",
      "Глубина дерева: 7\n"
     ]
    }
   ],
   "source": [
    "best_model = None\n",
    "best_result = 0\n",
    "for depth in range(2, 20):\n",
    "    model = DecisionTreeClassifier(random_state=12345, max_depth=depth) # обучите модель с заданной глубиной дерева\n",
    "    model.fit(train_features, train_target) \n",
    "    result = model.score(valid_features, valid_target)\n",
    "    if result > best_result:\n",
    "            best_model = model\n",
    "            best_result = result\n",
    "            best_depth = depth\n",
    "          \n",
    "\n",
    "print('Качество наилучшей модели на валидационной выборке:', best_result, '\\nГлубина дерева:', best_depth)"
   ]
  },
  {
   "cell_type": "code",
   "execution_count": 11,
   "metadata": {},
   "outputs": [
    {
     "name": "stdout",
     "output_type": "stream",
     "text": [
      "Качество наилучшей модели на валидационной выборке: 0.8009331259720062 \n",
      "Глубина дерева: 7\n"
     ]
    }
   ],
   "source": [
    "best_model = None\n",
    "best_result = 0\n",
    "for depth in range(2, 20):\n",
    "    model = DecisionTreeClassifier(random_state=12345, max_depth=depth, min_samples_leaf=3) # обучите модель с заданной глубиной дерева\n",
    "    model.fit(train_features, train_target) \n",
    "    result = model.score(valid_features, valid_target)\n",
    "    if result > best_result:\n",
    "            best_model = model\n",
    "            best_result = result\n",
    "            best_depth = depth\n",
    "          \n",
    "\n",
    "print('Качество наилучшей модели на валидационной выборке:', best_result, '\\nГлубина дерева:', best_depth)"
   ]
  },
  {
   "cell_type": "markdown",
   "metadata": {},
   "source": [
    "### Случайный лес"
   ]
  },
  {
   "cell_type": "code",
   "execution_count": 12,
   "metadata": {},
   "outputs": [
    {
     "name": "stdout",
     "output_type": "stream",
     "text": [
      "Качество наилучшей модели на валидационной выборке: 0.8149300155520995 \n",
      "Глубина дерева: 9 \n",
      "Количество деревьев 14\n"
     ]
    }
   ],
   "source": [
    "best_model = None\n",
    "best_result = 0\n",
    "\n",
    "for depth in range (1, 10):\n",
    "    for est in range(1, 30):\n",
    "        model = RandomForestClassifier(random_state=12345, criterion='gini', n_estimators=est, max_depth=depth) \n",
    "        model.fit(train_features, train_target) \n",
    "        result = model.score(valid_features, valid_target)\n",
    "        if result > best_result:\n",
    "            best_model = model\n",
    "            best_result = result\n",
    "            best_depth = depth\n",
    "            best_est = est\n",
    "\n",
    "print('Качество наилучшей модели на валидационной выборке:', best_result, '\\nГлубина дерева:', best_depth, \n",
    "      '\\nКоличество деревьев', best_est)"
   ]
  },
  {
   "cell_type": "code",
   "execution_count": 13,
   "metadata": {
    "scrolled": true
   },
   "outputs": [
    {
     "name": "stdout",
     "output_type": "stream",
     "text": [
      "Качество наилучшей модели на валидационной выборке: 0.8149300155520995 \n",
      "Глубина дерева: 9 \n",
      "Количество деревьев 14\n"
     ]
    }
   ],
   "source": [
    "best_model = None\n",
    "best_result = 0\n",
    "\n",
    "for depth in range (1, 10):\n",
    "    for est in range(1, 30):\n",
    "        model = RandomForestClassifier(random_state=12345, criterion='gini', n_estimators=est, max_depth=depth) \n",
    "        model.fit(train_features, train_target)\n",
    "        train_predictions = model.predict(valid_features)\n",
    "        result = accuracy_score(valid_target, train_predictions)\n",
    "        if result > best_result:\n",
    "            best_model = model\n",
    "            best_result = result\n",
    "            best_depth = depth\n",
    "            best_est = est\n",
    "\n",
    "print('Качество наилучшей модели на валидационной выборке:', best_result, '\\nГлубина дерева:', best_depth, \n",
    "      '\\nКоличество деревьев', best_est)"
   ]
  },
  {
   "cell_type": "markdown",
   "metadata": {},
   "source": [
    "### Логистическая регрессия"
   ]
  },
  {
   "cell_type": "code",
   "execution_count": 14,
   "metadata": {},
   "outputs": [
    {
     "name": "stdout",
     "output_type": "stream",
     "text": [
      "Качество модели на валидационной выборке: 0.6842923794712286\n"
     ]
    }
   ],
   "source": [
    "model = LogisticRegression(random_state=12345, solver='lbfgs', max_iter=1000) \n",
    "\n",
    "model.fit(train_features, train_target)\n",
    "\n",
    "result = model.score(valid_features, valid_target)\n",
    "\n",
    "print('Качество модели на валидационной выборке:', result)"
   ]
  },
  {
   "cell_type": "markdown",
   "metadata": {},
   "source": [
    "### Вывод\n",
    "\n",
    "Лучшее качество у модели \"Случайный лес\" на валидационной выборке: 0.8149300155520995 с глубиной дерева: 9 и количеством деревьев: 14"
   ]
  },
  {
   "cell_type": "markdown",
   "metadata": {},
   "source": [
    "## Проверка моделей на тестовой выборке"
   ]
  },
  {
   "cell_type": "markdown",
   "metadata": {},
   "source": [
    "Т к модель \"Случайный лес\" и \"Дерево решений\" получили близкие значения качества более 0.75, проверим обе модели на тестовой выборке:"
   ]
  },
  {
   "cell_type": "code",
   "execution_count": 15,
   "metadata": {},
   "outputs": [
    {
     "name": "stdout",
     "output_type": "stream",
     "text": [
      "Качество модели \"Случайный лес\" на тестовой выборке: 0.7916018662519441\n"
     ]
    }
   ],
   "source": [
    "model = RandomForestClassifier(random_state=12345, criterion='gini', n_estimators=est, max_depth=depth)\n",
    "model.fit(train_features, train_target)\n",
    "result = model.score(test_features, test_target)\n",
    "\n",
    "print('Качество модели \"Случайный лес\" на тестовой выборке:', result)"
   ]
  },
  {
   "cell_type": "code",
   "execution_count": 16,
   "metadata": {},
   "outputs": [
    {
     "name": "stdout",
     "output_type": "stream",
     "text": [
      "Качество модели \"Дерево решений\" на тестовой выборке: 0.7822706065318819\n"
     ]
    }
   ],
   "source": [
    "model = DecisionTreeClassifier(random_state=12345, max_depth=depth) # обучите модель с заданной глубиной дерева\n",
    "model.fit(train_features, train_target) \n",
    "result = model.score(test_features, test_target)\n",
    "print('Качество модели \"Дерево решений\" на тестовой выборке:', result)"
   ]
  },
  {
   "cell_type": "markdown",
   "metadata": {},
   "source": [
    "### Вывод:\n",
    "Лучшая модель \"Случайный лес\": качество на на тестовой выборке: 0.7916018662519441, на валидационной выборке: 0.8149300155520995"
   ]
  },
  {
   "cell_type": "markdown",
   "metadata": {},
   "source": [
    "## Проверка модели на адекватность"
   ]
  },
  {
   "cell_type": "markdown",
   "metadata": {},
   "source": [
    "Чтобы оценить адекватность модели в задачах классификации, нужно сравнить её со случайной. "
   ]
  },
  {
   "cell_type": "code",
   "execution_count": 17,
   "metadata": {},
   "outputs": [
    {
     "name": "stdout",
     "output_type": "stream",
     "text": [
      "Качество dummy модели на тестовой выборке: 0.5038880248833593\n"
     ]
    }
   ],
   "source": [
    "adequacy_test = DummyClassifier(strategy=\"uniform\" ,random_state=12345)\n",
    "adequacy_test.fit(train_features, train_target)\n",
    "result_accuracy = adequacy_test.score(test_features, test_target)\n",
    "print('Качество dummy модели на тестовой выборке:', result_accuracy)"
   ]
  },
  {
   "cell_type": "markdown",
   "metadata": {},
   "source": [
    "### Вывод:\n",
    "Сравнивая на тестовой выборке качество модели \"Случайный лес\" (0.7916018662519441) с dummy моделью (0.5038880248833593), приходим к выводу, что модель \"Случайный лес\" на самом деле достаточно качественно прогнозирует."
   ]
  },
  {
   "cell_type": "markdown",
   "metadata": {},
   "source": [
    "## Общий вывод\n",
    "\n",
    "1. Всего в данных 3214 строки, в каждой содержится информация по каждому пользователю об используемых услугах мобильной связи «Мегалайн» за месяц. Пропуски, нарушения стиля, неверный тип данных и аномалии не обнаружены. Предобработка не требуется.\n",
    "2. Данные разделили на тренировочную (60%), валидационную (20%) и тестовую (20%) выборки. \n",
    "3. Определили целевой признак - тариф, колонка 'is_ultra'.\n",
    "4. Т к значений целевого признака всего два - определим тип задачи - бинарная классификация.\n",
    "5. Выборки готовы, признаки и целевой признак для каждой выборки извлечены (train - выборка для обучения модели, valid - валидационная выборка и test - тестовая выборка)\n",
    "6. Для решения задачи обучили три типа моделей и проверли качество прогнозирования:\n",
    "* Дерево решений\n",
    "* Случайный лес\n",
    "* Логистическая регрессия\n",
    "\n",
    "7. **Лучшее качество у модели \"Случайный лес\" на валидационной выборке: 0.8149300155520995 с глубиной дерева: 9 и количеством деревьев: 14**\n",
    "8. **Худшее качество у модели \"Логистическая регрессия\": 0.6842923794712286**\n",
    "9. **Т к модель \"Случайный лес\" и \"Дерево решений\" получили близкие значения качества более 0.75, проверили обе модели на тестовой выборке - лучшая модель \"Случайный лес\": качество на на тестовой выборке: 0.7916018662519441, на валидационной выборке: 0.8149300155520995**\n",
    "10. **Проверили модель на вменяемость, качество модели достаточно адекватное**"
   ]
  }
 ],
 "metadata": {
  "ExecuteTimeLog": [
   {
    "duration": 51,
    "start_time": "2023-06-23T15:35:57.397Z"
   },
   {
    "duration": 468,
    "start_time": "2023-06-23T15:36:48.562Z"
   },
   {
    "duration": 115,
    "start_time": "2023-06-23T15:36:49.742Z"
   },
   {
    "duration": 24,
    "start_time": "2023-06-23T15:37:09.147Z"
   },
   {
    "duration": 11,
    "start_time": "2023-06-23T15:37:38.827Z"
   },
   {
    "duration": 28,
    "start_time": "2023-06-23T15:38:01.203Z"
   },
   {
    "duration": 9,
    "start_time": "2023-06-23T15:39:22.944Z"
   },
   {
    "duration": 100,
    "start_time": "2023-06-23T15:40:19.718Z"
   },
   {
    "duration": 31,
    "start_time": "2023-06-23T16:07:37.316Z"
   },
   {
    "duration": 8,
    "start_time": "2023-06-23T16:07:41.802Z"
   },
   {
    "duration": 2649,
    "start_time": "2023-06-23T16:08:09.917Z"
   },
   {
    "duration": 0,
    "start_time": "2023-06-23T16:08:12.568Z"
   },
   {
    "duration": 4,
    "start_time": "2023-06-23T16:08:19.200Z"
   },
   {
    "duration": 10,
    "start_time": "2023-06-23T16:08:22.200Z"
   },
   {
    "duration": 1296,
    "start_time": "2023-06-23T16:08:52.836Z"
   },
   {
    "duration": 59,
    "start_time": "2023-06-23T16:08:54.134Z"
   },
   {
    "duration": 26,
    "start_time": "2023-06-23T16:08:54.196Z"
   },
   {
    "duration": 78,
    "start_time": "2023-06-23T16:08:54.224Z"
   },
   {
    "duration": 43,
    "start_time": "2023-06-23T16:08:54.305Z"
   },
   {
    "duration": 54,
    "start_time": "2023-06-23T16:08:54.351Z"
   },
   {
    "duration": 42,
    "start_time": "2023-06-23T16:08:54.408Z"
   },
   {
    "duration": 66,
    "start_time": "2023-06-23T16:08:54.452Z"
   },
   {
    "duration": 16,
    "start_time": "2023-06-23T16:08:59.458Z"
   },
   {
    "duration": 130,
    "start_time": "2023-06-23T16:11:08.405Z"
   },
   {
    "duration": 7,
    "start_time": "2023-06-23T16:11:18.057Z"
   },
   {
    "duration": 7,
    "start_time": "2023-06-23T16:11:19.336Z"
   },
   {
    "duration": 17,
    "start_time": "2023-06-23T16:11:58.680Z"
   },
   {
    "duration": 56,
    "start_time": "2023-06-24T17:15:20.228Z"
   },
   {
    "duration": 1276,
    "start_time": "2023-06-24T17:16:30.409Z"
   },
   {
    "duration": 205,
    "start_time": "2023-06-24T17:16:31.690Z"
   },
   {
    "duration": 28,
    "start_time": "2023-06-24T17:16:31.901Z"
   },
   {
    "duration": 218,
    "start_time": "2023-06-24T17:16:31.931Z"
   },
   {
    "duration": 93,
    "start_time": "2023-06-24T17:16:32.152Z"
   },
   {
    "duration": 20,
    "start_time": "2023-06-24T17:16:32.247Z"
   },
   {
    "duration": 186,
    "start_time": "2023-06-24T17:16:32.269Z"
   },
   {
    "duration": 0,
    "start_time": "2023-06-24T17:16:32.457Z"
   },
   {
    "duration": 13,
    "start_time": "2023-06-24T17:17:27.237Z"
   },
   {
    "duration": 1325,
    "start_time": "2023-06-24T17:17:51.188Z"
   },
   {
    "duration": 31,
    "start_time": "2023-06-24T17:17:52.522Z"
   },
   {
    "duration": 17,
    "start_time": "2023-06-24T17:17:52.555Z"
   },
   {
    "duration": 69,
    "start_time": "2023-06-24T17:17:52.574Z"
   },
   {
    "duration": 45,
    "start_time": "2023-06-24T17:17:52.645Z"
   },
   {
    "duration": 38,
    "start_time": "2023-06-24T17:17:52.692Z"
   },
   {
    "duration": 126,
    "start_time": "2023-06-24T17:17:52.732Z"
   },
   {
    "duration": 0,
    "start_time": "2023-06-24T17:17:52.860Z"
   },
   {
    "duration": 19,
    "start_time": "2023-06-24T17:18:59.999Z"
   },
   {
    "duration": 178,
    "start_time": "2023-06-24T17:19:58.777Z"
   },
   {
    "duration": 9,
    "start_time": "2023-06-24T17:50:21.961Z"
   },
   {
    "duration": 20,
    "start_time": "2023-06-24T17:50:45.228Z"
   },
   {
    "duration": 18,
    "start_time": "2023-06-24T17:51:04.221Z"
   },
   {
    "duration": 15,
    "start_time": "2023-06-24T17:51:41.665Z"
   },
   {
    "duration": 30,
    "start_time": "2023-06-24T17:52:23.229Z"
   },
   {
    "duration": 10,
    "start_time": "2023-06-24T17:54:15.816Z"
   },
   {
    "duration": 9,
    "start_time": "2023-06-24T17:54:21.516Z"
   },
   {
    "duration": 10,
    "start_time": "2023-06-24T17:55:55.345Z"
   },
   {
    "duration": 14,
    "start_time": "2023-06-24T17:56:19.199Z"
   },
   {
    "duration": 18,
    "start_time": "2023-06-24T17:56:24.798Z"
   },
   {
    "duration": 7,
    "start_time": "2023-06-24T18:24:47.516Z"
   },
   {
    "duration": 9,
    "start_time": "2023-06-24T18:26:03.978Z"
   },
   {
    "duration": 52,
    "start_time": "2023-06-25T08:46:28.068Z"
   },
   {
    "duration": 1168,
    "start_time": "2023-06-25T08:46:44.676Z"
   },
   {
    "duration": 129,
    "start_time": "2023-06-25T08:46:45.846Z"
   },
   {
    "duration": 20,
    "start_time": "2023-06-25T08:46:45.977Z"
   },
   {
    "duration": 12,
    "start_time": "2023-06-25T08:46:45.999Z"
   },
   {
    "duration": 35,
    "start_time": "2023-06-25T08:46:46.013Z"
   },
   {
    "duration": 25,
    "start_time": "2023-06-25T08:46:46.050Z"
   },
   {
    "duration": 27,
    "start_time": "2023-06-25T08:46:46.076Z"
   },
   {
    "duration": 12,
    "start_time": "2023-06-25T08:46:46.105Z"
   },
   {
    "duration": 12,
    "start_time": "2023-06-25T08:46:46.118Z"
   },
   {
    "duration": 52,
    "start_time": "2023-06-25T08:46:46.132Z"
   },
   {
    "duration": 64,
    "start_time": "2023-06-25T08:46:58.578Z"
   },
   {
    "duration": 192,
    "start_time": "2023-06-25T08:47:19.669Z"
   },
   {
    "duration": 72,
    "start_time": "2023-06-25T08:47:41.509Z"
   },
   {
    "duration": 180,
    "start_time": "2023-06-25T08:48:41.520Z"
   },
   {
    "duration": 281,
    "start_time": "2023-06-25T08:48:51.503Z"
   },
   {
    "duration": 173,
    "start_time": "2023-06-25T08:49:02.723Z"
   },
   {
    "duration": 108,
    "start_time": "2023-06-25T08:57:58.136Z"
   },
   {
    "duration": 296,
    "start_time": "2023-06-25T08:58:47.749Z"
   },
   {
    "duration": 839,
    "start_time": "2023-06-25T08:58:55.375Z"
   },
   {
    "duration": 1277,
    "start_time": "2023-06-25T08:59:06.069Z"
   },
   {
    "duration": 1921,
    "start_time": "2023-06-25T08:59:13.559Z"
   },
   {
    "duration": 854,
    "start_time": "2023-06-25T08:59:24.165Z"
   },
   {
    "duration": 5311,
    "start_time": "2023-06-25T09:03:39.372Z"
   },
   {
    "duration": 1207,
    "start_time": "2023-06-25T09:03:53.844Z"
   },
   {
    "duration": 31,
    "start_time": "2023-06-25T09:03:55.053Z"
   },
   {
    "duration": 23,
    "start_time": "2023-06-25T09:03:55.087Z"
   },
   {
    "duration": 28,
    "start_time": "2023-06-25T09:03:55.123Z"
   },
   {
    "duration": 26,
    "start_time": "2023-06-25T09:03:55.154Z"
   },
   {
    "duration": 20,
    "start_time": "2023-06-25T09:03:55.182Z"
   },
   {
    "duration": 8,
    "start_time": "2023-06-25T09:03:55.204Z"
   },
   {
    "duration": 39,
    "start_time": "2023-06-25T09:03:55.214Z"
   },
   {
    "duration": 15,
    "start_time": "2023-06-25T09:03:55.255Z"
   },
   {
    "duration": 217,
    "start_time": "2023-06-25T09:03:55.272Z"
   },
   {
    "duration": 5138,
    "start_time": "2023-06-25T09:03:55.491Z"
   },
   {
    "duration": 125,
    "start_time": "2023-06-25T09:07:18.428Z"
   },
   {
    "duration": 13,
    "start_time": "2023-06-25T09:07:26.295Z"
   },
   {
    "duration": 21418,
    "start_time": "2023-06-25T09:07:33.839Z"
   },
   {
    "duration": 226,
    "start_time": "2023-06-25T09:07:55.260Z"
   },
   {
    "duration": 5514,
    "start_time": "2023-06-25T09:08:07.415Z"
   },
   {
    "duration": 1221,
    "start_time": "2023-06-25T09:11:02.913Z"
   },
   {
    "duration": 31,
    "start_time": "2023-06-25T09:11:04.137Z"
   },
   {
    "duration": 20,
    "start_time": "2023-06-25T09:11:04.170Z"
   },
   {
    "duration": 24,
    "start_time": "2023-06-25T09:11:04.192Z"
   },
   {
    "duration": 46,
    "start_time": "2023-06-25T09:11:04.219Z"
   },
   {
    "duration": 20,
    "start_time": "2023-06-25T09:11:04.267Z"
   },
   {
    "duration": 34,
    "start_time": "2023-06-25T09:11:04.289Z"
   },
   {
    "duration": 41,
    "start_time": "2023-06-25T09:11:04.325Z"
   },
   {
    "duration": 63,
    "start_time": "2023-06-25T09:11:04.369Z"
   },
   {
    "duration": 224,
    "start_time": "2023-06-25T09:11:04.434Z"
   },
   {
    "duration": 51827,
    "start_time": "2023-06-25T09:11:04.660Z"
   },
   {
    "duration": 51349,
    "start_time": "2023-06-25T09:16:34.546Z"
   },
   {
    "duration": 121,
    "start_time": "2023-06-25T09:18:02.923Z"
   },
   {
    "duration": 96,
    "start_time": "2023-06-25T09:18:18.297Z"
   },
   {
    "duration": 98,
    "start_time": "2023-06-25T09:18:24.932Z"
   },
   {
    "duration": 10801,
    "start_time": "2023-06-25T09:18:30.363Z"
   },
   {
    "duration": 10610,
    "start_time": "2023-06-25T09:19:51.488Z"
   },
   {
    "duration": 78,
    "start_time": "2023-06-25T09:20:20.069Z"
   },
   {
    "duration": 114,
    "start_time": "2023-06-25T09:20:29.770Z"
   },
   {
    "duration": 10559,
    "start_time": "2023-06-25T09:20:39.810Z"
   },
   {
    "duration": 96,
    "start_time": "2023-06-25T09:21:28.921Z"
   },
   {
    "duration": 73,
    "start_time": "2023-06-25T09:21:45.768Z"
   },
   {
    "duration": 10902,
    "start_time": "2023-06-25T09:21:54.608Z"
   },
   {
    "duration": 11119,
    "start_time": "2023-06-25T09:22:29.048Z"
   },
   {
    "duration": 16,
    "start_time": "2023-06-25T09:25:46.625Z"
   },
   {
    "duration": 178,
    "start_time": "2023-06-25T09:25:53.097Z"
   },
   {
    "duration": 175,
    "start_time": "2023-06-25T09:27:34.030Z"
   },
   {
    "duration": 165,
    "start_time": "2023-06-25T09:27:50.097Z"
   },
   {
    "duration": 185,
    "start_time": "2023-06-25T09:28:19.412Z"
   },
   {
    "duration": 152,
    "start_time": "2023-06-25T09:29:08.596Z"
   },
   {
    "duration": 30,
    "start_time": "2023-06-25T09:31:21.559Z"
   },
   {
    "duration": 1170,
    "start_time": "2023-06-25T09:31:28.228Z"
   },
   {
    "duration": 31,
    "start_time": "2023-06-25T09:31:29.402Z"
   },
   {
    "duration": 20,
    "start_time": "2023-06-25T09:31:29.435Z"
   },
   {
    "duration": 50,
    "start_time": "2023-06-25T09:31:29.457Z"
   },
   {
    "duration": 44,
    "start_time": "2023-06-25T09:31:29.510Z"
   },
   {
    "duration": 18,
    "start_time": "2023-06-25T09:31:29.556Z"
   },
   {
    "duration": 16,
    "start_time": "2023-06-25T09:31:29.576Z"
   },
   {
    "duration": 10,
    "start_time": "2023-06-25T09:31:29.594Z"
   },
   {
    "duration": 9,
    "start_time": "2023-06-25T09:31:29.606Z"
   },
   {
    "duration": 189,
    "start_time": "2023-06-25T09:31:29.617Z"
   },
   {
    "duration": 10410,
    "start_time": "2023-06-25T09:31:29.808Z"
   },
   {
    "duration": 772,
    "start_time": "2023-06-25T09:31:40.221Z"
   },
   {
    "duration": 25,
    "start_time": "2023-06-25T09:34:04.435Z"
   },
   {
    "duration": 155,
    "start_time": "2023-06-25T09:38:25.387Z"
   },
   {
    "duration": 10194,
    "start_time": "2023-06-25T09:38:30.835Z"
   },
   {
    "duration": 38,
    "start_time": "2023-06-25T09:38:41.031Z"
   },
   {
    "duration": 25,
    "start_time": "2023-06-25T09:42:03.410Z"
   },
   {
    "duration": 1102,
    "start_time": "2023-06-25T09:49:14.987Z"
   },
   {
    "duration": 29,
    "start_time": "2023-06-25T09:49:16.091Z"
   },
   {
    "duration": 18,
    "start_time": "2023-06-25T09:49:16.122Z"
   },
   {
    "duration": 11,
    "start_time": "2023-06-25T09:49:16.141Z"
   },
   {
    "duration": 39,
    "start_time": "2023-06-25T09:49:16.154Z"
   },
   {
    "duration": 17,
    "start_time": "2023-06-25T09:49:16.195Z"
   },
   {
    "duration": 6,
    "start_time": "2023-06-25T09:49:16.214Z"
   },
   {
    "duration": 18,
    "start_time": "2023-06-25T09:49:16.221Z"
   },
   {
    "duration": 17,
    "start_time": "2023-06-25T09:49:16.240Z"
   },
   {
    "duration": 165,
    "start_time": "2023-06-25T09:49:16.259Z"
   },
   {
    "duration": 10139,
    "start_time": "2023-06-25T09:49:16.426Z"
   },
   {
    "duration": 25,
    "start_time": "2023-06-25T09:49:26.567Z"
   },
   {
    "duration": 105,
    "start_time": "2023-06-25T10:10:08.975Z"
   },
   {
    "duration": 55,
    "start_time": "2023-06-25T10:10:26.692Z"
   },
   {
    "duration": 54,
    "start_time": "2023-06-25T10:10:57.676Z"
   },
   {
    "duration": 43,
    "start_time": "2023-06-25T10:11:09.628Z"
   },
   {
    "duration": 55,
    "start_time": "2023-06-25T10:11:16.593Z"
   },
   {
    "duration": 114,
    "start_time": "2023-06-25T10:15:24.514Z"
   },
   {
    "duration": 68,
    "start_time": "2023-06-25T10:15:57.847Z"
   },
   {
    "duration": 72,
    "start_time": "2023-06-25T10:18:05.197Z"
   },
   {
    "duration": 59,
    "start_time": "2023-06-25T10:20:17.973Z"
   },
   {
    "duration": 67,
    "start_time": "2023-06-25T10:20:41.413Z"
   },
   {
    "duration": 59,
    "start_time": "2023-06-25T10:22:09.848Z"
   },
   {
    "duration": 56,
    "start_time": "2023-06-25T10:27:59.800Z"
   },
   {
    "duration": 58,
    "start_time": "2023-06-25T10:28:56.386Z"
   },
   {
    "duration": 59,
    "start_time": "2023-06-25T10:29:48.454Z"
   },
   {
    "duration": 103,
    "start_time": "2023-06-25T10:30:05.928Z"
   },
   {
    "duration": 1629,
    "start_time": "2023-06-25T10:30:18.175Z"
   },
   {
    "duration": 30,
    "start_time": "2023-06-25T10:30:19.807Z"
   },
   {
    "duration": 19,
    "start_time": "2023-06-25T10:30:19.839Z"
   },
   {
    "duration": 13,
    "start_time": "2023-06-25T10:30:19.860Z"
   },
   {
    "duration": 45,
    "start_time": "2023-06-25T10:30:19.875Z"
   },
   {
    "duration": 19,
    "start_time": "2023-06-25T10:30:19.922Z"
   },
   {
    "duration": 13,
    "start_time": "2023-06-25T10:30:19.942Z"
   },
   {
    "duration": 11,
    "start_time": "2023-06-25T10:30:19.957Z"
   },
   {
    "duration": 10,
    "start_time": "2023-06-25T10:30:19.970Z"
   },
   {
    "duration": 180,
    "start_time": "2023-06-25T10:30:19.983Z"
   },
   {
    "duration": 10392,
    "start_time": "2023-06-25T10:30:20.164Z"
   },
   {
    "duration": 29,
    "start_time": "2023-06-25T10:30:30.559Z"
   },
   {
    "duration": 177,
    "start_time": "2023-06-25T10:30:30.590Z"
   },
   {
    "duration": 16,
    "start_time": "2023-06-25T10:31:30.474Z"
   },
   {
    "duration": 14,
    "start_time": "2023-06-25T10:31:51.374Z"
   },
   {
    "duration": 24,
    "start_time": "2023-06-25T10:32:26.686Z"
   },
   {
    "duration": 27,
    "start_time": "2023-06-25T10:32:37.467Z"
   },
   {
    "duration": 27,
    "start_time": "2023-06-25T10:32:50.707Z"
   },
   {
    "duration": 56,
    "start_time": "2023-06-25T10:37:14.990Z"
   },
   {
    "duration": 102,
    "start_time": "2023-06-25T10:37:23.267Z"
   },
   {
    "duration": 1138,
    "start_time": "2023-06-25T10:39:14.199Z"
   },
   {
    "duration": 38,
    "start_time": "2023-06-25T10:39:15.340Z"
   },
   {
    "duration": 22,
    "start_time": "2023-06-25T10:39:15.381Z"
   },
   {
    "duration": 13,
    "start_time": "2023-06-25T10:39:15.405Z"
   },
   {
    "duration": 35,
    "start_time": "2023-06-25T10:39:15.420Z"
   },
   {
    "duration": 19,
    "start_time": "2023-06-25T10:39:15.456Z"
   },
   {
    "duration": 7,
    "start_time": "2023-06-25T10:39:15.477Z"
   },
   {
    "duration": 13,
    "start_time": "2023-06-25T10:39:15.485Z"
   },
   {
    "duration": 9,
    "start_time": "2023-06-25T10:39:15.499Z"
   },
   {
    "duration": 185,
    "start_time": "2023-06-25T10:39:15.510Z"
   },
   {
    "duration": 10198,
    "start_time": "2023-06-25T10:39:15.697Z"
   },
   {
    "duration": 26,
    "start_time": "2023-06-25T10:39:25.897Z"
   },
   {
    "duration": 113,
    "start_time": "2023-06-25T10:39:25.925Z"
   },
   {
    "duration": 14,
    "start_time": "2023-06-25T10:39:26.051Z"
   },
   {
    "duration": 11369,
    "start_time": "2023-06-25T10:43:07.782Z"
   },
   {
    "duration": 125,
    "start_time": "2023-06-25T10:43:38.162Z"
   },
   {
    "duration": 103,
    "start_time": "2023-06-25T11:26:31.832Z"
   },
   {
    "duration": 1170,
    "start_time": "2023-06-25T11:27:28.852Z"
   },
   {
    "duration": 31,
    "start_time": "2023-06-25T11:27:30.024Z"
   },
   {
    "duration": 44,
    "start_time": "2023-06-25T11:27:30.060Z"
   },
   {
    "duration": 33,
    "start_time": "2023-06-25T11:27:30.107Z"
   },
   {
    "duration": 80,
    "start_time": "2023-06-25T11:27:30.142Z"
   },
   {
    "duration": 43,
    "start_time": "2023-06-25T11:27:30.224Z"
   },
   {
    "duration": 54,
    "start_time": "2023-06-25T11:27:30.269Z"
   },
   {
    "duration": 39,
    "start_time": "2023-06-25T11:27:30.325Z"
   },
   {
    "duration": 45,
    "start_time": "2023-06-25T11:27:30.366Z"
   },
   {
    "duration": 194,
    "start_time": "2023-06-25T11:27:30.412Z"
   },
   {
    "duration": 10668,
    "start_time": "2023-06-25T11:27:30.608Z"
   },
   {
    "duration": 27,
    "start_time": "2023-06-25T11:27:41.278Z"
   },
   {
    "duration": 126,
    "start_time": "2023-06-25T11:27:41.307Z"
   },
   {
    "duration": 20,
    "start_time": "2023-06-25T11:27:41.435Z"
   },
   {
    "duration": 4,
    "start_time": "2023-06-25T11:27:41.457Z"
   },
   {
    "duration": 5,
    "start_time": "2023-06-25T11:30:24.164Z"
   },
   {
    "duration": 5,
    "start_time": "2023-06-25T11:30:26.193Z"
   },
   {
    "duration": 6,
    "start_time": "2023-06-25T11:30:33.360Z"
   },
   {
    "duration": 6,
    "start_time": "2023-06-25T11:41:53.951Z"
   },
   {
    "duration": 6,
    "start_time": "2023-06-25T11:41:55.105Z"
   },
   {
    "duration": 9,
    "start_time": "2023-06-25T11:41:57.155Z"
   },
   {
    "duration": 11,
    "start_time": "2023-06-25T11:42:10.727Z"
   },
   {
    "duration": 1268,
    "start_time": "2023-06-25T11:42:28.497Z"
   },
   {
    "duration": 32,
    "start_time": "2023-06-25T11:42:29.768Z"
   },
   {
    "duration": 28,
    "start_time": "2023-06-25T11:42:29.802Z"
   },
   {
    "duration": 52,
    "start_time": "2023-06-25T11:42:29.833Z"
   },
   {
    "duration": 44,
    "start_time": "2023-06-25T11:42:29.888Z"
   },
   {
    "duration": 24,
    "start_time": "2023-06-25T11:42:29.935Z"
   },
   {
    "duration": 70,
    "start_time": "2023-06-25T11:42:29.962Z"
   },
   {
    "duration": 78,
    "start_time": "2023-06-25T11:42:30.034Z"
   },
   {
    "duration": 61,
    "start_time": "2023-06-25T11:42:30.114Z"
   },
   {
    "duration": 221,
    "start_time": "2023-06-25T11:42:30.179Z"
   },
   {
    "duration": 10956,
    "start_time": "2023-06-25T11:42:30.403Z"
   },
   {
    "duration": 35,
    "start_time": "2023-06-25T11:42:41.362Z"
   },
   {
    "duration": 120,
    "start_time": "2023-06-25T11:42:41.399Z"
   },
   {
    "duration": 13,
    "start_time": "2023-06-25T11:42:41.522Z"
   },
   {
    "duration": 18,
    "start_time": "2023-06-25T11:42:41.551Z"
   },
   {
    "duration": 8,
    "start_time": "2023-06-25T11:42:55.732Z"
   },
   {
    "duration": 6,
    "start_time": "2023-06-25T11:43:18.965Z"
   },
   {
    "duration": 7,
    "start_time": "2023-06-25T11:48:06.614Z"
   },
   {
    "duration": 7,
    "start_time": "2023-06-25T11:54:20.388Z"
   },
   {
    "duration": 1194,
    "start_time": "2023-06-25T11:55:46.636Z"
   },
   {
    "duration": 41,
    "start_time": "2023-06-25T11:55:47.832Z"
   },
   {
    "duration": 19,
    "start_time": "2023-06-25T11:55:47.874Z"
   },
   {
    "duration": 23,
    "start_time": "2023-06-25T11:55:47.895Z"
   },
   {
    "duration": 34,
    "start_time": "2023-06-25T11:55:47.921Z"
   },
   {
    "duration": 28,
    "start_time": "2023-06-25T11:55:47.958Z"
   },
   {
    "duration": 8,
    "start_time": "2023-06-25T11:55:47.987Z"
   },
   {
    "duration": 20,
    "start_time": "2023-06-25T11:55:47.997Z"
   },
   {
    "duration": 17,
    "start_time": "2023-06-25T11:55:48.019Z"
   },
   {
    "duration": 177,
    "start_time": "2023-06-25T11:55:48.037Z"
   },
   {
    "duration": 10967,
    "start_time": "2023-06-25T11:55:48.216Z"
   },
   {
    "duration": 28,
    "start_time": "2023-06-25T11:55:59.185Z"
   },
   {
    "duration": 118,
    "start_time": "2023-06-25T11:55:59.215Z"
   },
   {
    "duration": 26,
    "start_time": "2023-06-25T11:55:59.336Z"
   },
   {
    "duration": 11,
    "start_time": "2023-06-25T11:55:59.363Z"
   },
   {
    "duration": 3,
    "start_time": "2023-06-25T11:57:24.712Z"
   },
   {
    "duration": 1194,
    "start_time": "2023-06-25T12:08:49.221Z"
   },
   {
    "duration": 31,
    "start_time": "2023-06-25T12:08:50.417Z"
   },
   {
    "duration": 26,
    "start_time": "2023-06-25T12:08:50.450Z"
   },
   {
    "duration": 42,
    "start_time": "2023-06-25T12:08:50.477Z"
   },
   {
    "duration": 47,
    "start_time": "2023-06-25T12:08:50.522Z"
   },
   {
    "duration": 49,
    "start_time": "2023-06-25T12:08:50.571Z"
   },
   {
    "duration": 8,
    "start_time": "2023-06-25T12:08:50.622Z"
   },
   {
    "duration": 26,
    "start_time": "2023-06-25T12:08:50.632Z"
   },
   {
    "duration": 67,
    "start_time": "2023-06-25T12:08:50.660Z"
   },
   {
    "duration": 176,
    "start_time": "2023-06-25T12:08:50.729Z"
   },
   {
    "duration": 11666,
    "start_time": "2023-06-25T12:08:50.907Z"
   },
   {
    "duration": 39,
    "start_time": "2023-06-25T12:09:02.583Z"
   },
   {
    "duration": 212,
    "start_time": "2023-06-25T12:09:02.624Z"
   },
   {
    "duration": 27,
    "start_time": "2023-06-25T12:09:02.839Z"
   },
   {
    "duration": 43,
    "start_time": "2023-06-25T12:09:02.874Z"
   },
   {
    "duration": 1332,
    "start_time": "2023-06-25T12:11:17.037Z"
   },
   {
    "duration": 42,
    "start_time": "2023-06-25T12:11:18.372Z"
   },
   {
    "duration": 322,
    "start_time": "2023-06-25T12:11:18.416Z"
   },
   {
    "duration": 39,
    "start_time": "2023-06-25T12:11:18.740Z"
   },
   {
    "duration": 73,
    "start_time": "2023-06-25T12:11:18.785Z"
   },
   {
    "duration": 28,
    "start_time": "2023-06-25T12:11:18.860Z"
   },
   {
    "duration": 37,
    "start_time": "2023-06-25T12:11:18.890Z"
   },
   {
    "duration": 19,
    "start_time": "2023-06-25T12:11:18.930Z"
   },
   {
    "duration": 50,
    "start_time": "2023-06-25T12:11:18.951Z"
   },
   {
    "duration": 199,
    "start_time": "2023-06-25T12:11:19.003Z"
   },
   {
    "duration": 11841,
    "start_time": "2023-06-25T12:11:19.203Z"
   },
   {
    "duration": 47,
    "start_time": "2023-06-25T12:11:31.046Z"
   },
   {
    "duration": 213,
    "start_time": "2023-06-25T12:11:31.096Z"
   },
   {
    "duration": 16,
    "start_time": "2023-06-25T12:11:31.313Z"
   },
   {
    "duration": 86,
    "start_time": "2023-06-25T12:11:31.331Z"
   },
   {
    "duration": 3188,
    "start_time": "2023-06-25T12:23:16.133Z"
   },
   {
    "duration": 246,
    "start_time": "2023-06-25T12:23:19.323Z"
   },
   {
    "duration": 16,
    "start_time": "2023-06-25T12:23:19.574Z"
   },
   {
    "duration": 33,
    "start_time": "2023-06-25T12:23:19.592Z"
   },
   {
    "duration": 47,
    "start_time": "2023-06-25T12:23:19.633Z"
   },
   {
    "duration": 37,
    "start_time": "2023-06-25T12:23:19.681Z"
   },
   {
    "duration": 13,
    "start_time": "2023-06-25T12:23:19.722Z"
   },
   {
    "duration": 49,
    "start_time": "2023-06-25T12:23:19.737Z"
   },
   {
    "duration": 10,
    "start_time": "2023-06-25T12:23:19.787Z"
   },
   {
    "duration": 249,
    "start_time": "2023-06-25T12:23:19.800Z"
   },
   {
    "duration": 11618,
    "start_time": "2023-06-25T12:23:20.051Z"
   },
   {
    "duration": 18,
    "start_time": "2023-06-25T12:23:31.671Z"
   },
   {
    "duration": 181,
    "start_time": "2023-06-25T12:23:31.691Z"
   },
   {
    "duration": 15,
    "start_time": "2023-06-25T12:23:31.873Z"
   },
   {
    "duration": 36,
    "start_time": "2023-06-25T12:23:31.889Z"
   },
   {
    "duration": 168,
    "start_time": "2023-06-25T13:21:42.811Z"
   },
   {
    "duration": 5,
    "start_time": "2023-06-25T13:32:53.016Z"
   },
   {
    "duration": 1544,
    "start_time": "2023-06-25T13:33:06.515Z"
   },
   {
    "duration": 32,
    "start_time": "2023-06-25T13:33:08.068Z"
   },
   {
    "duration": 22,
    "start_time": "2023-06-25T13:33:08.102Z"
   },
   {
    "duration": 49,
    "start_time": "2023-06-25T13:33:08.126Z"
   },
   {
    "duration": 85,
    "start_time": "2023-06-25T13:33:08.177Z"
   },
   {
    "duration": 23,
    "start_time": "2023-06-25T13:33:08.264Z"
   },
   {
    "duration": 36,
    "start_time": "2023-06-25T13:33:08.290Z"
   },
   {
    "duration": 33,
    "start_time": "2023-06-25T13:33:08.328Z"
   },
   {
    "duration": 29,
    "start_time": "2023-06-25T13:33:08.363Z"
   },
   {
    "duration": 215,
    "start_time": "2023-06-25T13:33:08.394Z"
   },
   {
    "duration": 4,
    "start_time": "2023-06-25T13:33:08.612Z"
   },
   {
    "duration": 0,
    "start_time": "2023-06-25T13:33:08.618Z"
   },
   {
    "duration": 0,
    "start_time": "2023-06-25T13:33:08.620Z"
   },
   {
    "duration": 0,
    "start_time": "2023-06-25T13:33:08.621Z"
   },
   {
    "duration": 0,
    "start_time": "2023-06-25T13:33:08.622Z"
   },
   {
    "duration": 143,
    "start_time": "2023-06-25T13:33:38.627Z"
   },
   {
    "duration": 11819,
    "start_time": "2023-06-25T13:35:35.374Z"
   },
   {
    "duration": 11476,
    "start_time": "2023-06-25T13:35:58.721Z"
   },
   {
    "duration": 11188,
    "start_time": "2023-06-25T13:37:21.801Z"
   },
   {
    "duration": 11166,
    "start_time": "2023-06-25T13:37:32.991Z"
   },
   {
    "duration": 1373,
    "start_time": "2023-06-25T13:43:46.996Z"
   },
   {
    "duration": 32,
    "start_time": "2023-06-25T13:43:48.372Z"
   },
   {
    "duration": 26,
    "start_time": "2023-06-25T13:43:48.406Z"
   },
   {
    "duration": 56,
    "start_time": "2023-06-25T13:43:48.434Z"
   },
   {
    "duration": 54,
    "start_time": "2023-06-25T13:43:48.492Z"
   },
   {
    "duration": 29,
    "start_time": "2023-06-25T13:43:48.547Z"
   },
   {
    "duration": 40,
    "start_time": "2023-06-25T13:43:48.578Z"
   },
   {
    "duration": 16,
    "start_time": "2023-06-25T13:43:48.620Z"
   },
   {
    "duration": 49,
    "start_time": "2023-06-25T13:43:48.637Z"
   },
   {
    "duration": 184,
    "start_time": "2023-06-25T13:43:48.688Z"
   },
   {
    "duration": 11071,
    "start_time": "2023-06-25T13:43:48.874Z"
   },
   {
    "duration": 11048,
    "start_time": "2023-06-25T13:43:59.946Z"
   },
   {
    "duration": 26,
    "start_time": "2023-06-25T13:44:10.996Z"
   },
   {
    "duration": 139,
    "start_time": "2023-06-25T13:44:11.024Z"
   },
   {
    "duration": 16,
    "start_time": "2023-06-25T13:44:11.167Z"
   },
   {
    "duration": 7,
    "start_time": "2023-06-25T13:44:11.184Z"
   },
   {
    "duration": 153,
    "start_time": "2023-06-25T13:53:27.181Z"
   },
   {
    "duration": 1392,
    "start_time": "2023-06-25T13:59:04.585Z"
   },
   {
    "duration": 34,
    "start_time": "2023-06-25T13:59:05.979Z"
   },
   {
    "duration": 50,
    "start_time": "2023-06-25T13:59:06.016Z"
   },
   {
    "duration": 47,
    "start_time": "2023-06-25T13:59:06.074Z"
   },
   {
    "duration": 60,
    "start_time": "2023-06-25T13:59:06.124Z"
   },
   {
    "duration": 36,
    "start_time": "2023-06-25T13:59:06.187Z"
   },
   {
    "duration": 9,
    "start_time": "2023-06-25T13:59:06.224Z"
   },
   {
    "duration": 15,
    "start_time": "2023-06-25T13:59:06.235Z"
   },
   {
    "duration": 47,
    "start_time": "2023-06-25T13:59:06.260Z"
   },
   {
    "duration": 207,
    "start_time": "2023-06-25T13:59:06.310Z"
   },
   {
    "duration": 12379,
    "start_time": "2023-06-25T13:59:06.520Z"
   },
   {
    "duration": 12109,
    "start_time": "2023-06-25T13:59:18.901Z"
   },
   {
    "duration": 44,
    "start_time": "2023-06-25T13:59:31.012Z"
   },
   {
    "duration": 148,
    "start_time": "2023-06-25T13:59:31.059Z"
   },
   {
    "duration": 16,
    "start_time": "2023-06-25T13:59:31.210Z"
   },
   {
    "duration": 77,
    "start_time": "2023-06-25T13:59:31.228Z"
   },
   {
    "duration": 196,
    "start_time": "2023-06-25T14:02:50.553Z"
   },
   {
    "duration": 234,
    "start_time": "2023-06-25T14:03:03.435Z"
   },
   {
    "duration": 243,
    "start_time": "2023-06-25T14:03:08.140Z"
   },
   {
    "duration": 203,
    "start_time": "2023-06-25T14:03:12.545Z"
   },
   {
    "duration": 167,
    "start_time": "2023-06-25T14:03:17.117Z"
   },
   {
    "duration": 181,
    "start_time": "2023-06-25T14:03:21.988Z"
   },
   {
    "duration": 259,
    "start_time": "2023-06-25T14:03:26.392Z"
   },
   {
    "duration": 286,
    "start_time": "2023-06-25T14:04:41.676Z"
   },
   {
    "duration": 209,
    "start_time": "2023-06-25T14:04:47.788Z"
   },
   {
    "duration": 13535,
    "start_time": "2023-06-25T14:05:16.127Z"
   },
   {
    "duration": 12607,
    "start_time": "2023-06-25T14:05:37.529Z"
   },
   {
    "duration": 14289,
    "start_time": "2023-06-25T14:06:02.730Z"
   },
   {
    "duration": 15970,
    "start_time": "2023-06-25T14:06:36.848Z"
   },
   {
    "duration": 81,
    "start_time": "2023-06-25T14:10:49.636Z"
   },
   {
    "duration": 106,
    "start_time": "2023-06-25T14:10:53.994Z"
   },
   {
    "duration": 82,
    "start_time": "2023-06-25T14:10:57.843Z"
   },
   {
    "duration": 89,
    "start_time": "2023-06-25T14:11:04.709Z"
   },
   {
    "duration": 83,
    "start_time": "2023-06-25T14:11:08.990Z"
   },
   {
    "duration": 78,
    "start_time": "2023-06-25T14:11:18.881Z"
   },
   {
    "duration": 105,
    "start_time": "2023-06-25T14:11:28.557Z"
   },
   {
    "duration": 172,
    "start_time": "2023-06-25T14:11:33.644Z"
   },
   {
    "duration": 136,
    "start_time": "2023-06-25T14:11:49.888Z"
   },
   {
    "duration": 1272,
    "start_time": "2023-06-25T14:12:08.670Z"
   },
   {
    "duration": 52,
    "start_time": "2023-06-25T14:12:09.944Z"
   },
   {
    "duration": 27,
    "start_time": "2023-06-25T14:12:09.998Z"
   },
   {
    "duration": 42,
    "start_time": "2023-06-25T14:12:10.027Z"
   },
   {
    "duration": 41,
    "start_time": "2023-06-25T14:12:10.075Z"
   },
   {
    "duration": 23,
    "start_time": "2023-06-25T14:12:10.118Z"
   },
   {
    "duration": 10,
    "start_time": "2023-06-25T14:12:10.143Z"
   },
   {
    "duration": 60,
    "start_time": "2023-06-25T14:12:10.155Z"
   },
   {
    "duration": 10,
    "start_time": "2023-06-25T14:12:10.217Z"
   },
   {
    "duration": 181,
    "start_time": "2023-06-25T14:12:10.229Z"
   },
   {
    "duration": 188,
    "start_time": "2023-06-25T14:12:10.412Z"
   },
   {
    "duration": 11851,
    "start_time": "2023-06-25T14:12:10.602Z"
   },
   {
    "duration": 11952,
    "start_time": "2023-06-25T14:12:22.456Z"
   },
   {
    "duration": 26,
    "start_time": "2023-06-25T14:12:34.411Z"
   },
   {
    "duration": 143,
    "start_time": "2023-06-25T14:12:34.439Z"
   },
   {
    "duration": 17,
    "start_time": "2023-06-25T14:12:34.584Z"
   },
   {
    "duration": 10,
    "start_time": "2023-06-25T14:12:34.603Z"
   }
  ],
  "kernelspec": {
   "display_name": "Python 3 (ipykernel)",
   "language": "python",
   "name": "python3"
  },
  "language_info": {
   "codemirror_mode": {
    "name": "ipython",
    "version": 3
   },
   "file_extension": ".py",
   "mimetype": "text/x-python",
   "name": "python",
   "nbconvert_exporter": "python",
   "pygments_lexer": "ipython3",
   "version": "3.10.9"
  },
  "toc": {
   "base_numbering": 1,
   "nav_menu": {},
   "number_sections": true,
   "sideBar": true,
   "skip_h1_title": true,
   "title_cell": "Table of Contents",
   "title_sidebar": "Contents",
   "toc_cell": false,
   "toc_position": {
    "height": "calc(100% - 180px)",
    "left": "10px",
    "top": "150px",
    "width": "533.112px"
   },
   "toc_section_display": true,
   "toc_window_display": true
  }
 },
 "nbformat": 4,
 "nbformat_minor": 2
}
