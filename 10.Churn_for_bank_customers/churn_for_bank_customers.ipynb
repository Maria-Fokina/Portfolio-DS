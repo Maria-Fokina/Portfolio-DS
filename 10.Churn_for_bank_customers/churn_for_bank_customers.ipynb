{
 "cells": [
  {
   "cell_type": "markdown",
   "metadata": {},
   "source": [
    "## Проект  «Бета-Банк» - отток клиентов"
   ]
  },
  {
   "cell_type": "markdown",
   "metadata": {},
   "source": [
    "### Описание проекта:\n",
    "Из «Бета-Банка» стали уходить клиенты. Каждый месяц. Немного, но заметно. Банковские маркетологи посчитали: сохранять текущих клиентов дешевле, чем привлекать новых.\n",
    "\n",
    "Нужно спрогнозировать, уйдёт клиент из банка в ближайшее время или нет. Предоставлены исторические данные о поведении клиентов и расторжении договоров с банком. Целевой признак: Exited — факт ухода клиента\n",
    "\n",
    "**Цель проекта:**\n",
    "\n",
    "Сформировать модель, которая будет прогнозировать, уйдёт клиент из банка в ближайшее время или нет. Значение F1-меры должно быть не менее 0.59.\n"
   ]
  },
  {
   "cell_type": "markdown",
   "metadata": {},
   "source": [
    "**План работы:**\n",
    "1. Изучение данных\n",
    "2. Предобаботка данных\n",
    "3. Преобразование категориальных признаков техникой OHE\n",
    "4. Исследование задачи (в т ч масштабирование данных)\n",
    "5. Обучение моделей без учета дисбаланса классов\n",
    "6. Применение 3х способов борьбы с дисбалансом\n",
    "7. Тестирование модели\n",
    "8. Итоговый вывод"
   ]
  },
  {
   "cell_type": "markdown",
   "metadata": {},
   "source": [
    "## Изучение данных"
   ]
  },
  {
   "cell_type": "code",
   "execution_count": 2,
   "metadata": {},
   "outputs": [],
   "source": [
    "import pandas as pd\n",
    "import numpy as np\n",
    "import matplotlib.pyplot as plt\n",
    "from sklearn.model_selection import train_test_split\n",
    "from sklearn.preprocessing import StandardScaler\n",
    "from sklearn.utils import shuffle\n",
    "from sklearn.linear_model import LogisticRegression\n",
    "from sklearn.ensemble import RandomForestClassifier\n",
    "from sklearn.tree import DecisionTreeClassifier\n",
    "from sklearn.dummy import DummyClassifier\n",
    "from IPython.display import display\n",
    "from sklearn.metrics import (\n",
    "    accuracy_score,\n",
    "    confusion_matrix,\n",
    "    f1_score,\n",
    "    precision_score,\n",
    "    recall_score,\n",
    "    precision_recall_curve,\n",
    "    classification_report,\n",
    "    roc_curve,\n",
    "    roc_auc_score\n",
    ")"
   ]
  },
  {
   "cell_type": "code",
   "execution_count": 3,
   "metadata": {},
   "outputs": [
    {
     "name": "stdout",
     "output_type": "stream",
     "text": [
      "(10000, 14)\n"
     ]
    },
    {
     "data": {
      "text/html": [
       "<div>\n",
       "<style scoped>\n",
       "    .dataframe tbody tr th:only-of-type {\n",
       "        vertical-align: middle;\n",
       "    }\n",
       "\n",
       "    .dataframe tbody tr th {\n",
       "        vertical-align: top;\n",
       "    }\n",
       "\n",
       "    .dataframe thead th {\n",
       "        text-align: right;\n",
       "    }\n",
       "</style>\n",
       "<table border=\"1\" class=\"dataframe\">\n",
       "  <thead>\n",
       "    <tr style=\"text-align: right;\">\n",
       "      <th></th>\n",
       "      <th>RowNumber</th>\n",
       "      <th>CustomerId</th>\n",
       "      <th>Surname</th>\n",
       "      <th>CreditScore</th>\n",
       "      <th>Geography</th>\n",
       "      <th>Gender</th>\n",
       "      <th>Age</th>\n",
       "      <th>Tenure</th>\n",
       "      <th>Balance</th>\n",
       "      <th>NumOfProducts</th>\n",
       "      <th>HasCrCard</th>\n",
       "      <th>IsActiveMember</th>\n",
       "      <th>EstimatedSalary</th>\n",
       "      <th>Exited</th>\n",
       "    </tr>\n",
       "  </thead>\n",
       "  <tbody>\n",
       "    <tr>\n",
       "      <th>0</th>\n",
       "      <td>1</td>\n",
       "      <td>15634602</td>\n",
       "      <td>Hargrave</td>\n",
       "      <td>619</td>\n",
       "      <td>France</td>\n",
       "      <td>Female</td>\n",
       "      <td>42</td>\n",
       "      <td>2.0</td>\n",
       "      <td>0.00</td>\n",
       "      <td>1</td>\n",
       "      <td>1</td>\n",
       "      <td>1</td>\n",
       "      <td>101348.88</td>\n",
       "      <td>1</td>\n",
       "    </tr>\n",
       "    <tr>\n",
       "      <th>1</th>\n",
       "      <td>2</td>\n",
       "      <td>15647311</td>\n",
       "      <td>Hill</td>\n",
       "      <td>608</td>\n",
       "      <td>Spain</td>\n",
       "      <td>Female</td>\n",
       "      <td>41</td>\n",
       "      <td>1.0</td>\n",
       "      <td>83807.86</td>\n",
       "      <td>1</td>\n",
       "      <td>0</td>\n",
       "      <td>1</td>\n",
       "      <td>112542.58</td>\n",
       "      <td>0</td>\n",
       "    </tr>\n",
       "    <tr>\n",
       "      <th>2</th>\n",
       "      <td>3</td>\n",
       "      <td>15619304</td>\n",
       "      <td>Onio</td>\n",
       "      <td>502</td>\n",
       "      <td>France</td>\n",
       "      <td>Female</td>\n",
       "      <td>42</td>\n",
       "      <td>8.0</td>\n",
       "      <td>159660.80</td>\n",
       "      <td>3</td>\n",
       "      <td>1</td>\n",
       "      <td>0</td>\n",
       "      <td>113931.57</td>\n",
       "      <td>1</td>\n",
       "    </tr>\n",
       "    <tr>\n",
       "      <th>3</th>\n",
       "      <td>4</td>\n",
       "      <td>15701354</td>\n",
       "      <td>Boni</td>\n",
       "      <td>699</td>\n",
       "      <td>France</td>\n",
       "      <td>Female</td>\n",
       "      <td>39</td>\n",
       "      <td>1.0</td>\n",
       "      <td>0.00</td>\n",
       "      <td>2</td>\n",
       "      <td>0</td>\n",
       "      <td>0</td>\n",
       "      <td>93826.63</td>\n",
       "      <td>0</td>\n",
       "    </tr>\n",
       "    <tr>\n",
       "      <th>4</th>\n",
       "      <td>5</td>\n",
       "      <td>15737888</td>\n",
       "      <td>Mitchell</td>\n",
       "      <td>850</td>\n",
       "      <td>Spain</td>\n",
       "      <td>Female</td>\n",
       "      <td>43</td>\n",
       "      <td>2.0</td>\n",
       "      <td>125510.82</td>\n",
       "      <td>1</td>\n",
       "      <td>1</td>\n",
       "      <td>1</td>\n",
       "      <td>79084.10</td>\n",
       "      <td>0</td>\n",
       "    </tr>\n",
       "    <tr>\n",
       "      <th>5</th>\n",
       "      <td>6</td>\n",
       "      <td>15574012</td>\n",
       "      <td>Chu</td>\n",
       "      <td>645</td>\n",
       "      <td>Spain</td>\n",
       "      <td>Male</td>\n",
       "      <td>44</td>\n",
       "      <td>8.0</td>\n",
       "      <td>113755.78</td>\n",
       "      <td>2</td>\n",
       "      <td>1</td>\n",
       "      <td>0</td>\n",
       "      <td>149756.71</td>\n",
       "      <td>1</td>\n",
       "    </tr>\n",
       "    <tr>\n",
       "      <th>6</th>\n",
       "      <td>7</td>\n",
       "      <td>15592531</td>\n",
       "      <td>Bartlett</td>\n",
       "      <td>822</td>\n",
       "      <td>France</td>\n",
       "      <td>Male</td>\n",
       "      <td>50</td>\n",
       "      <td>7.0</td>\n",
       "      <td>0.00</td>\n",
       "      <td>2</td>\n",
       "      <td>1</td>\n",
       "      <td>1</td>\n",
       "      <td>10062.80</td>\n",
       "      <td>0</td>\n",
       "    </tr>\n",
       "    <tr>\n",
       "      <th>7</th>\n",
       "      <td>8</td>\n",
       "      <td>15656148</td>\n",
       "      <td>Obinna</td>\n",
       "      <td>376</td>\n",
       "      <td>Germany</td>\n",
       "      <td>Female</td>\n",
       "      <td>29</td>\n",
       "      <td>4.0</td>\n",
       "      <td>115046.74</td>\n",
       "      <td>4</td>\n",
       "      <td>1</td>\n",
       "      <td>0</td>\n",
       "      <td>119346.88</td>\n",
       "      <td>1</td>\n",
       "    </tr>\n",
       "    <tr>\n",
       "      <th>8</th>\n",
       "      <td>9</td>\n",
       "      <td>15792365</td>\n",
       "      <td>He</td>\n",
       "      <td>501</td>\n",
       "      <td>France</td>\n",
       "      <td>Male</td>\n",
       "      <td>44</td>\n",
       "      <td>4.0</td>\n",
       "      <td>142051.07</td>\n",
       "      <td>2</td>\n",
       "      <td>0</td>\n",
       "      <td>1</td>\n",
       "      <td>74940.50</td>\n",
       "      <td>0</td>\n",
       "    </tr>\n",
       "    <tr>\n",
       "      <th>9</th>\n",
       "      <td>10</td>\n",
       "      <td>15592389</td>\n",
       "      <td>H?</td>\n",
       "      <td>684</td>\n",
       "      <td>France</td>\n",
       "      <td>Male</td>\n",
       "      <td>27</td>\n",
       "      <td>2.0</td>\n",
       "      <td>134603.88</td>\n",
       "      <td>1</td>\n",
       "      <td>1</td>\n",
       "      <td>1</td>\n",
       "      <td>71725.73</td>\n",
       "      <td>0</td>\n",
       "    </tr>\n",
       "  </tbody>\n",
       "</table>\n",
       "</div>"
      ],
      "text/plain": [
       "   RowNumber  CustomerId   Surname  CreditScore Geography  Gender  Age  \\\n",
       "0          1    15634602  Hargrave          619    France  Female   42   \n",
       "1          2    15647311      Hill          608     Spain  Female   41   \n",
       "2          3    15619304      Onio          502    France  Female   42   \n",
       "3          4    15701354      Boni          699    France  Female   39   \n",
       "4          5    15737888  Mitchell          850     Spain  Female   43   \n",
       "5          6    15574012       Chu          645     Spain    Male   44   \n",
       "6          7    15592531  Bartlett          822    France    Male   50   \n",
       "7          8    15656148    Obinna          376   Germany  Female   29   \n",
       "8          9    15792365        He          501    France    Male   44   \n",
       "9         10    15592389        H?          684    France    Male   27   \n",
       "\n",
       "   Tenure    Balance  NumOfProducts  HasCrCard  IsActiveMember  \\\n",
       "0     2.0       0.00              1          1               1   \n",
       "1     1.0   83807.86              1          0               1   \n",
       "2     8.0  159660.80              3          1               0   \n",
       "3     1.0       0.00              2          0               0   \n",
       "4     2.0  125510.82              1          1               1   \n",
       "5     8.0  113755.78              2          1               0   \n",
       "6     7.0       0.00              2          1               1   \n",
       "7     4.0  115046.74              4          1               0   \n",
       "8     4.0  142051.07              2          0               1   \n",
       "9     2.0  134603.88              1          1               1   \n",
       "\n",
       "   EstimatedSalary  Exited  \n",
       "0        101348.88       1  \n",
       "1        112542.58       0  \n",
       "2        113931.57       1  \n",
       "3         93826.63       0  \n",
       "4         79084.10       0  \n",
       "5        149756.71       1  \n",
       "6         10062.80       0  \n",
       "7        119346.88       1  \n",
       "8         74940.50       0  \n",
       "9         71725.73       0  "
      ]
     },
     "metadata": {},
     "output_type": "display_data"
    }
   ],
   "source": [
    "data = pd.read_csv('/data/Churn.csv')\n",
    "print(data.shape)\n",
    "display(data.head(10))"
   ]
  },
  {
   "cell_type": "code",
   "execution_count": 5,
   "metadata": {
    "scrolled": false
   },
   "outputs": [
    {
     "name": "stdout",
     "output_type": "stream",
     "text": [
      "Первые 5 строк:\n"
     ]
    },
    {
     "data": {
      "text/html": [
       "<div>\n",
       "<style scoped>\n",
       "    .dataframe tbody tr th:only-of-type {\n",
       "        vertical-align: middle;\n",
       "    }\n",
       "\n",
       "    .dataframe tbody tr th {\n",
       "        vertical-align: top;\n",
       "    }\n",
       "\n",
       "    .dataframe thead th {\n",
       "        text-align: right;\n",
       "    }\n",
       "</style>\n",
       "<table border=\"1\" class=\"dataframe\">\n",
       "  <thead>\n",
       "    <tr style=\"text-align: right;\">\n",
       "      <th></th>\n",
       "      <th>RowNumber</th>\n",
       "      <th>CustomerId</th>\n",
       "      <th>Surname</th>\n",
       "      <th>CreditScore</th>\n",
       "      <th>Geography</th>\n",
       "      <th>Gender</th>\n",
       "      <th>Age</th>\n",
       "      <th>Tenure</th>\n",
       "      <th>Balance</th>\n",
       "      <th>NumOfProducts</th>\n",
       "      <th>HasCrCard</th>\n",
       "      <th>IsActiveMember</th>\n",
       "      <th>EstimatedSalary</th>\n",
       "      <th>Exited</th>\n",
       "    </tr>\n",
       "  </thead>\n",
       "  <tbody>\n",
       "    <tr>\n",
       "      <th>0</th>\n",
       "      <td>1</td>\n",
       "      <td>15634602</td>\n",
       "      <td>Hargrave</td>\n",
       "      <td>619</td>\n",
       "      <td>France</td>\n",
       "      <td>Female</td>\n",
       "      <td>42</td>\n",
       "      <td>2.0</td>\n",
       "      <td>0.00</td>\n",
       "      <td>1</td>\n",
       "      <td>1</td>\n",
       "      <td>1</td>\n",
       "      <td>101348.88</td>\n",
       "      <td>1</td>\n",
       "    </tr>\n",
       "    <tr>\n",
       "      <th>1</th>\n",
       "      <td>2</td>\n",
       "      <td>15647311</td>\n",
       "      <td>Hill</td>\n",
       "      <td>608</td>\n",
       "      <td>Spain</td>\n",
       "      <td>Female</td>\n",
       "      <td>41</td>\n",
       "      <td>1.0</td>\n",
       "      <td>83807.86</td>\n",
       "      <td>1</td>\n",
       "      <td>0</td>\n",
       "      <td>1</td>\n",
       "      <td>112542.58</td>\n",
       "      <td>0</td>\n",
       "    </tr>\n",
       "    <tr>\n",
       "      <th>2</th>\n",
       "      <td>3</td>\n",
       "      <td>15619304</td>\n",
       "      <td>Onio</td>\n",
       "      <td>502</td>\n",
       "      <td>France</td>\n",
       "      <td>Female</td>\n",
       "      <td>42</td>\n",
       "      <td>8.0</td>\n",
       "      <td>159660.80</td>\n",
       "      <td>3</td>\n",
       "      <td>1</td>\n",
       "      <td>0</td>\n",
       "      <td>113931.57</td>\n",
       "      <td>1</td>\n",
       "    </tr>\n",
       "    <tr>\n",
       "      <th>3</th>\n",
       "      <td>4</td>\n",
       "      <td>15701354</td>\n",
       "      <td>Boni</td>\n",
       "      <td>699</td>\n",
       "      <td>France</td>\n",
       "      <td>Female</td>\n",
       "      <td>39</td>\n",
       "      <td>1.0</td>\n",
       "      <td>0.00</td>\n",
       "      <td>2</td>\n",
       "      <td>0</td>\n",
       "      <td>0</td>\n",
       "      <td>93826.63</td>\n",
       "      <td>0</td>\n",
       "    </tr>\n",
       "    <tr>\n",
       "      <th>4</th>\n",
       "      <td>5</td>\n",
       "      <td>15737888</td>\n",
       "      <td>Mitchell</td>\n",
       "      <td>850</td>\n",
       "      <td>Spain</td>\n",
       "      <td>Female</td>\n",
       "      <td>43</td>\n",
       "      <td>2.0</td>\n",
       "      <td>125510.82</td>\n",
       "      <td>1</td>\n",
       "      <td>1</td>\n",
       "      <td>1</td>\n",
       "      <td>79084.10</td>\n",
       "      <td>0</td>\n",
       "    </tr>\n",
       "  </tbody>\n",
       "</table>\n",
       "</div>"
      ],
      "text/plain": [
       "   RowNumber  CustomerId   Surname  CreditScore Geography  Gender  Age  \\\n",
       "0          1    15634602  Hargrave          619    France  Female   42   \n",
       "1          2    15647311      Hill          608     Spain  Female   41   \n",
       "2          3    15619304      Onio          502    France  Female   42   \n",
       "3          4    15701354      Boni          699    France  Female   39   \n",
       "4          5    15737888  Mitchell          850     Spain  Female   43   \n",
       "\n",
       "   Tenure    Balance  NumOfProducts  HasCrCard  IsActiveMember  \\\n",
       "0     2.0       0.00              1          1               1   \n",
       "1     1.0   83807.86              1          0               1   \n",
       "2     8.0  159660.80              3          1               0   \n",
       "3     1.0       0.00              2          0               0   \n",
       "4     2.0  125510.82              1          1               1   \n",
       "\n",
       "   EstimatedSalary  Exited  \n",
       "0        101348.88       1  \n",
       "1        112542.58       0  \n",
       "2        113931.57       1  \n",
       "3         93826.63       0  \n",
       "4         79084.10       0  "
      ]
     },
     "metadata": {},
     "output_type": "display_data"
    },
    {
     "name": "stdout",
     "output_type": "stream",
     "text": [
      "\n",
      "Последние 5 строк:\n"
     ]
    },
    {
     "data": {
      "text/html": [
       "<div>\n",
       "<style scoped>\n",
       "    .dataframe tbody tr th:only-of-type {\n",
       "        vertical-align: middle;\n",
       "    }\n",
       "\n",
       "    .dataframe tbody tr th {\n",
       "        vertical-align: top;\n",
       "    }\n",
       "\n",
       "    .dataframe thead th {\n",
       "        text-align: right;\n",
       "    }\n",
       "</style>\n",
       "<table border=\"1\" class=\"dataframe\">\n",
       "  <thead>\n",
       "    <tr style=\"text-align: right;\">\n",
       "      <th></th>\n",
       "      <th>RowNumber</th>\n",
       "      <th>CustomerId</th>\n",
       "      <th>Surname</th>\n",
       "      <th>CreditScore</th>\n",
       "      <th>Geography</th>\n",
       "      <th>Gender</th>\n",
       "      <th>Age</th>\n",
       "      <th>Tenure</th>\n",
       "      <th>Balance</th>\n",
       "      <th>NumOfProducts</th>\n",
       "      <th>HasCrCard</th>\n",
       "      <th>IsActiveMember</th>\n",
       "      <th>EstimatedSalary</th>\n",
       "      <th>Exited</th>\n",
       "    </tr>\n",
       "  </thead>\n",
       "  <tbody>\n",
       "    <tr>\n",
       "      <th>9995</th>\n",
       "      <td>9996</td>\n",
       "      <td>15606229</td>\n",
       "      <td>Obijiaku</td>\n",
       "      <td>771</td>\n",
       "      <td>France</td>\n",
       "      <td>Male</td>\n",
       "      <td>39</td>\n",
       "      <td>5.0</td>\n",
       "      <td>0.00</td>\n",
       "      <td>2</td>\n",
       "      <td>1</td>\n",
       "      <td>0</td>\n",
       "      <td>96270.64</td>\n",
       "      <td>0</td>\n",
       "    </tr>\n",
       "    <tr>\n",
       "      <th>9996</th>\n",
       "      <td>9997</td>\n",
       "      <td>15569892</td>\n",
       "      <td>Johnstone</td>\n",
       "      <td>516</td>\n",
       "      <td>France</td>\n",
       "      <td>Male</td>\n",
       "      <td>35</td>\n",
       "      <td>10.0</td>\n",
       "      <td>57369.61</td>\n",
       "      <td>1</td>\n",
       "      <td>1</td>\n",
       "      <td>1</td>\n",
       "      <td>101699.77</td>\n",
       "      <td>0</td>\n",
       "    </tr>\n",
       "    <tr>\n",
       "      <th>9997</th>\n",
       "      <td>9998</td>\n",
       "      <td>15584532</td>\n",
       "      <td>Liu</td>\n",
       "      <td>709</td>\n",
       "      <td>France</td>\n",
       "      <td>Female</td>\n",
       "      <td>36</td>\n",
       "      <td>7.0</td>\n",
       "      <td>0.00</td>\n",
       "      <td>1</td>\n",
       "      <td>0</td>\n",
       "      <td>1</td>\n",
       "      <td>42085.58</td>\n",
       "      <td>1</td>\n",
       "    </tr>\n",
       "    <tr>\n",
       "      <th>9998</th>\n",
       "      <td>9999</td>\n",
       "      <td>15682355</td>\n",
       "      <td>Sabbatini</td>\n",
       "      <td>772</td>\n",
       "      <td>Germany</td>\n",
       "      <td>Male</td>\n",
       "      <td>42</td>\n",
       "      <td>3.0</td>\n",
       "      <td>75075.31</td>\n",
       "      <td>2</td>\n",
       "      <td>1</td>\n",
       "      <td>0</td>\n",
       "      <td>92888.52</td>\n",
       "      <td>1</td>\n",
       "    </tr>\n",
       "    <tr>\n",
       "      <th>9999</th>\n",
       "      <td>10000</td>\n",
       "      <td>15628319</td>\n",
       "      <td>Walker</td>\n",
       "      <td>792</td>\n",
       "      <td>France</td>\n",
       "      <td>Female</td>\n",
       "      <td>28</td>\n",
       "      <td>NaN</td>\n",
       "      <td>130142.79</td>\n",
       "      <td>1</td>\n",
       "      <td>1</td>\n",
       "      <td>0</td>\n",
       "      <td>38190.78</td>\n",
       "      <td>0</td>\n",
       "    </tr>\n",
       "  </tbody>\n",
       "</table>\n",
       "</div>"
      ],
      "text/plain": [
       "      RowNumber  CustomerId    Surname  CreditScore Geography  Gender  Age  \\\n",
       "9995       9996    15606229   Obijiaku          771    France    Male   39   \n",
       "9996       9997    15569892  Johnstone          516    France    Male   35   \n",
       "9997       9998    15584532        Liu          709    France  Female   36   \n",
       "9998       9999    15682355  Sabbatini          772   Germany    Male   42   \n",
       "9999      10000    15628319     Walker          792    France  Female   28   \n",
       "\n",
       "      Tenure    Balance  NumOfProducts  HasCrCard  IsActiveMember  \\\n",
       "9995     5.0       0.00              2          1               0   \n",
       "9996    10.0   57369.61              1          1               1   \n",
       "9997     7.0       0.00              1          0               1   \n",
       "9998     3.0   75075.31              2          1               0   \n",
       "9999     NaN  130142.79              1          1               0   \n",
       "\n",
       "      EstimatedSalary  Exited  \n",
       "9995         96270.64       0  \n",
       "9996        101699.77       0  \n",
       "9997         42085.58       1  \n",
       "9998         92888.52       1  \n",
       "9999         38190.78       0  "
      ]
     },
     "metadata": {},
     "output_type": "display_data"
    },
    {
     "name": "stdout",
     "output_type": "stream",
     "text": [
      "\n",
      "Общая информация по таблице:\n",
      "\n",
      "<class 'pandas.core.frame.DataFrame'>\n",
      "RangeIndex: 10000 entries, 0 to 9999\n",
      "Data columns (total 14 columns):\n",
      " #   Column           Non-Null Count  Dtype  \n",
      "---  ------           --------------  -----  \n",
      " 0   RowNumber        10000 non-null  int64  \n",
      " 1   CustomerId       10000 non-null  int64  \n",
      " 2   Surname          10000 non-null  object \n",
      " 3   CreditScore      10000 non-null  int64  \n",
      " 4   Geography        10000 non-null  object \n",
      " 5   Gender           10000 non-null  object \n",
      " 6   Age              10000 non-null  int64  \n",
      " 7   Tenure           9091 non-null   float64\n",
      " 8   Balance          10000 non-null  float64\n",
      " 9   NumOfProducts    10000 non-null  int64  \n",
      " 10  HasCrCard        10000 non-null  int64  \n",
      " 11  IsActiveMember   10000 non-null  int64  \n",
      " 12  EstimatedSalary  10000 non-null  float64\n",
      " 13  Exited           10000 non-null  int64  \n",
      "dtypes: float64(3), int64(8), object(3)\n",
      "memory usage: 1.1+ MB\n",
      "None\n",
      "\n",
      "Статистика по таблице:\n"
     ]
    },
    {
     "data": {
      "text/html": [
       "<div>\n",
       "<style scoped>\n",
       "    .dataframe tbody tr th:only-of-type {\n",
       "        vertical-align: middle;\n",
       "    }\n",
       "\n",
       "    .dataframe tbody tr th {\n",
       "        vertical-align: top;\n",
       "    }\n",
       "\n",
       "    .dataframe thead th {\n",
       "        text-align: right;\n",
       "    }\n",
       "</style>\n",
       "<table border=\"1\" class=\"dataframe\">\n",
       "  <thead>\n",
       "    <tr style=\"text-align: right;\">\n",
       "      <th></th>\n",
       "      <th>RowNumber</th>\n",
       "      <th>CustomerId</th>\n",
       "      <th>CreditScore</th>\n",
       "      <th>Age</th>\n",
       "      <th>Tenure</th>\n",
       "      <th>Balance</th>\n",
       "      <th>NumOfProducts</th>\n",
       "      <th>HasCrCard</th>\n",
       "      <th>IsActiveMember</th>\n",
       "      <th>EstimatedSalary</th>\n",
       "      <th>Exited</th>\n",
       "    </tr>\n",
       "  </thead>\n",
       "  <tbody>\n",
       "    <tr>\n",
       "      <th>count</th>\n",
       "      <td>10000.00000</td>\n",
       "      <td>1.000000e+04</td>\n",
       "      <td>10000.000000</td>\n",
       "      <td>10000.000000</td>\n",
       "      <td>9091.000000</td>\n",
       "      <td>10000.000000</td>\n",
       "      <td>10000.000000</td>\n",
       "      <td>10000.00000</td>\n",
       "      <td>10000.000000</td>\n",
       "      <td>10000.000000</td>\n",
       "      <td>10000.000000</td>\n",
       "    </tr>\n",
       "    <tr>\n",
       "      <th>mean</th>\n",
       "      <td>5000.50000</td>\n",
       "      <td>1.569094e+07</td>\n",
       "      <td>650.528800</td>\n",
       "      <td>38.921800</td>\n",
       "      <td>4.997690</td>\n",
       "      <td>76485.889288</td>\n",
       "      <td>1.530200</td>\n",
       "      <td>0.70550</td>\n",
       "      <td>0.515100</td>\n",
       "      <td>100090.239881</td>\n",
       "      <td>0.203700</td>\n",
       "    </tr>\n",
       "    <tr>\n",
       "      <th>std</th>\n",
       "      <td>2886.89568</td>\n",
       "      <td>7.193619e+04</td>\n",
       "      <td>96.653299</td>\n",
       "      <td>10.487806</td>\n",
       "      <td>2.894723</td>\n",
       "      <td>62397.405202</td>\n",
       "      <td>0.581654</td>\n",
       "      <td>0.45584</td>\n",
       "      <td>0.499797</td>\n",
       "      <td>57510.492818</td>\n",
       "      <td>0.402769</td>\n",
       "    </tr>\n",
       "    <tr>\n",
       "      <th>min</th>\n",
       "      <td>1.00000</td>\n",
       "      <td>1.556570e+07</td>\n",
       "      <td>350.000000</td>\n",
       "      <td>18.000000</td>\n",
       "      <td>0.000000</td>\n",
       "      <td>0.000000</td>\n",
       "      <td>1.000000</td>\n",
       "      <td>0.00000</td>\n",
       "      <td>0.000000</td>\n",
       "      <td>11.580000</td>\n",
       "      <td>0.000000</td>\n",
       "    </tr>\n",
       "    <tr>\n",
       "      <th>25%</th>\n",
       "      <td>2500.75000</td>\n",
       "      <td>1.562853e+07</td>\n",
       "      <td>584.000000</td>\n",
       "      <td>32.000000</td>\n",
       "      <td>2.000000</td>\n",
       "      <td>0.000000</td>\n",
       "      <td>1.000000</td>\n",
       "      <td>0.00000</td>\n",
       "      <td>0.000000</td>\n",
       "      <td>51002.110000</td>\n",
       "      <td>0.000000</td>\n",
       "    </tr>\n",
       "    <tr>\n",
       "      <th>50%</th>\n",
       "      <td>5000.50000</td>\n",
       "      <td>1.569074e+07</td>\n",
       "      <td>652.000000</td>\n",
       "      <td>37.000000</td>\n",
       "      <td>5.000000</td>\n",
       "      <td>97198.540000</td>\n",
       "      <td>1.000000</td>\n",
       "      <td>1.00000</td>\n",
       "      <td>1.000000</td>\n",
       "      <td>100193.915000</td>\n",
       "      <td>0.000000</td>\n",
       "    </tr>\n",
       "    <tr>\n",
       "      <th>75%</th>\n",
       "      <td>7500.25000</td>\n",
       "      <td>1.575323e+07</td>\n",
       "      <td>718.000000</td>\n",
       "      <td>44.000000</td>\n",
       "      <td>7.000000</td>\n",
       "      <td>127644.240000</td>\n",
       "      <td>2.000000</td>\n",
       "      <td>1.00000</td>\n",
       "      <td>1.000000</td>\n",
       "      <td>149388.247500</td>\n",
       "      <td>0.000000</td>\n",
       "    </tr>\n",
       "    <tr>\n",
       "      <th>max</th>\n",
       "      <td>10000.00000</td>\n",
       "      <td>1.581569e+07</td>\n",
       "      <td>850.000000</td>\n",
       "      <td>92.000000</td>\n",
       "      <td>10.000000</td>\n",
       "      <td>250898.090000</td>\n",
       "      <td>4.000000</td>\n",
       "      <td>1.00000</td>\n",
       "      <td>1.000000</td>\n",
       "      <td>199992.480000</td>\n",
       "      <td>1.000000</td>\n",
       "    </tr>\n",
       "  </tbody>\n",
       "</table>\n",
       "</div>"
      ],
      "text/plain": [
       "         RowNumber    CustomerId   CreditScore           Age       Tenure  \\\n",
       "count  10000.00000  1.000000e+04  10000.000000  10000.000000  9091.000000   \n",
       "mean    5000.50000  1.569094e+07    650.528800     38.921800     4.997690   \n",
       "std     2886.89568  7.193619e+04     96.653299     10.487806     2.894723   \n",
       "min        1.00000  1.556570e+07    350.000000     18.000000     0.000000   \n",
       "25%     2500.75000  1.562853e+07    584.000000     32.000000     2.000000   \n",
       "50%     5000.50000  1.569074e+07    652.000000     37.000000     5.000000   \n",
       "75%     7500.25000  1.575323e+07    718.000000     44.000000     7.000000   \n",
       "max    10000.00000  1.581569e+07    850.000000     92.000000    10.000000   \n",
       "\n",
       "             Balance  NumOfProducts    HasCrCard  IsActiveMember  \\\n",
       "count   10000.000000   10000.000000  10000.00000    10000.000000   \n",
       "mean    76485.889288       1.530200      0.70550        0.515100   \n",
       "std     62397.405202       0.581654      0.45584        0.499797   \n",
       "min         0.000000       1.000000      0.00000        0.000000   \n",
       "25%         0.000000       1.000000      0.00000        0.000000   \n",
       "50%     97198.540000       1.000000      1.00000        1.000000   \n",
       "75%    127644.240000       2.000000      1.00000        1.000000   \n",
       "max    250898.090000       4.000000      1.00000        1.000000   \n",
       "\n",
       "       EstimatedSalary        Exited  \n",
       "count     10000.000000  10000.000000  \n",
       "mean     100090.239881      0.203700  \n",
       "std       57510.492818      0.402769  \n",
       "min          11.580000      0.000000  \n",
       "25%       51002.110000      0.000000  \n",
       "50%      100193.915000      0.000000  \n",
       "75%      149388.247500      0.000000  \n",
       "max      199992.480000      1.000000  "
      ]
     },
     "metadata": {},
     "output_type": "display_data"
    },
    {
     "name": "stdout",
     "output_type": "stream",
     "text": [
      "\n",
      "Всего явных дубликатов: 0\n",
      "\n",
      "Количество пропусков:\n"
     ]
    },
    {
     "data": {
      "text/plain": [
       "RowNumber            0\n",
       "CustomerId           0\n",
       "Surname              0\n",
       "CreditScore          0\n",
       "Geography            0\n",
       "Gender               0\n",
       "Age                  0\n",
       "Tenure             909\n",
       "Balance              0\n",
       "NumOfProducts        0\n",
       "HasCrCard            0\n",
       "IsActiveMember       0\n",
       "EstimatedSalary      0\n",
       "Exited               0\n",
       "dtype: int64"
      ]
     },
     "metadata": {},
     "output_type": "display_data"
    },
    {
     "name": "stdout",
     "output_type": "stream",
     "text": [
      "Количество пропусков в %:\n"
     ]
    },
    {
     "data": {
      "text/plain": [
       "RowNumber          0.00\n",
       "CustomerId         0.00\n",
       "Surname            0.00\n",
       "CreditScore        0.00\n",
       "Geography          0.00\n",
       "Gender             0.00\n",
       "Age                0.00\n",
       "Tenure             9.09\n",
       "Balance            0.00\n",
       "NumOfProducts      0.00\n",
       "HasCrCard          0.00\n",
       "IsActiveMember     0.00\n",
       "EstimatedSalary    0.00\n",
       "Exited             0.00\n",
       "dtype: float64"
      ]
     },
     "metadata": {},
     "output_type": "display_data"
    },
    {
     "name": "stdout",
     "output_type": "stream",
     "text": [
      "Нулевые значения:\n",
      "RowNumber            0\n",
      "CustomerId           0\n",
      "Surname              0\n",
      "CreditScore          0\n",
      "Geography            0\n",
      "Gender               0\n",
      "Age                  0\n",
      "Tenure             909\n",
      "Balance              0\n",
      "NumOfProducts        0\n",
      "HasCrCard            0\n",
      "IsActiveMember       0\n",
      "EstimatedSalary      0\n",
      "Exited               0\n",
      "dtype: int64\n"
     ]
    }
   ],
   "source": [
    "for _ in [data]:\n",
    "    print('Первые 5 строк:')\n",
    "    display(_.head())\n",
    "    print()\n",
    "    print('Последние 5 строк:')\n",
    "    display(_.tail())\n",
    "    print()\n",
    "    print('Общая информация по таблице:')\n",
    "    print()\n",
    "    print(_.info())\n",
    "    print()\n",
    "    print('Статистика по таблице:')\n",
    "    display(_.describe(datetime_is_numeric=True))\n",
    "    print()\n",
    "    print('Всего явных дубликатов:', _.duplicated().sum())\n",
    "    print()\n",
    "    print('Количество пропусков:')\n",
    "    display(_.isna().sum())\n",
    "    print('Количество пропусков в %:')\n",
    "    display(_.isna().mean()*100) \n",
    "    print('Нулевые значения:')\n",
    "    print(_.isnull().sum())"
   ]
  },
  {
   "cell_type": "code",
   "execution_count": 6,
   "metadata": {
    "scrolled": false
   },
   "outputs": [
    {
     "name": "stdout",
     "output_type": "stream",
     "text": [
      "10000\n",
      "2932\n",
      "['France' 'Spain' 'Germany']\n",
      "['Female' 'Male']\n"
     ]
    }
   ],
   "source": [
    "print(data['CustomerId'].nunique())\n",
    "print(data['Surname'].nunique())\n",
    "print(data['Geography'].unique())\n",
    "print(data['Gender'].unique())"
   ]
  },
  {
   "cell_type": "code",
   "execution_count": 7,
   "metadata": {},
   "outputs": [
    {
     "name": "stdout",
     "output_type": "stream",
     "text": [
      "0\n",
      "7068\n"
     ]
    }
   ],
   "source": [
    "print(data['CustomerId'].duplicated().sum())\n",
    "print(data['Surname'].duplicated().sum())"
   ]
  },
  {
   "cell_type": "markdown",
   "metadata": {},
   "source": [
    "### Вывод:\n",
    "1. Данные предствляют собой 10 000 строк, в каждой информация о клиенте банка\n",
    "2. Колонка RowNumber(просто дублирует индексы с сдвигом на 1), CustomerId (дубликаты не обнаружены), Surname (дубликаты по фамилии присутствуют в большом колличестве, но т к по колонке с индентификатором дубликатов нет - выглядит правдоподобно) - не несут необходимой информации для исследования, можем их удалить.\n",
    "3. Колонки Geography(3 уникальных значения), Gender(2 уникальных значения) - нужно категоризировать и привести к числовым значениям\n",
    "4. Все данные признаки нужно стандартизировать (масштабировать)\n",
    "5. В данных обнаружены:\n",
    "* расхождения с хорошим стилем в названиях столбцов, нужно привести все столбцы к единому стилю\n",
    "* 9% пропуски в одном столбце - Tenure (сколько лет человек является клиентом банка) возможно ошибка при выгрузке или данные отсутствовали изначально, проверим, т к такое количество повляет на исследование\n",
    "6. Колонка Tenure - заменим тип данных на int\n",
    "7. Аномалий и явных дубликатов не обнаружено"
   ]
  },
  {
   "cell_type": "markdown",
   "metadata": {},
   "source": [
    "## Предобработка данных"
   ]
  },
  {
   "cell_type": "markdown",
   "metadata": {},
   "source": [
    "### Исправление наименований столбцов"
   ]
  },
  {
   "cell_type": "code",
   "execution_count": 8,
   "metadata": {
    "scrolled": true
   },
   "outputs": [
    {
     "data": {
      "text/plain": [
       "Index(['row_number', 'customer_id', 'surname', 'credit_score', 'geography',\n",
       "       'gender', 'age', 'tenure', 'balance', 'num_of_products', 'has_cr_card',\n",
       "       'is_active_member', 'estimated_salary', 'exited'],\n",
       "      dtype='object')"
      ]
     },
     "execution_count": 8,
     "metadata": {},
     "output_type": "execute_result"
    }
   ],
   "source": [
    "data = data.rename(columns=str.lower)\n",
    "data = data.rename(columns={'rownumber' : 'row_number',\n",
    "                            'customerid' : 'customer_id',\n",
    "                            'creditscore' : 'credit_score',\n",
    "                            'numofproducts' : 'num_of_products',\n",
    "                            'hascrcard' : 'has_cr_card',\n",
    "                            'isactivemember' : 'is_active_member',\n",
    "                            'estimatedsalary' : 'estimated_salary',})\n",
    "data.columns         "
   ]
  },
  {
   "cell_type": "markdown",
   "metadata": {},
   "source": [
    "### Удаление ненужных столбцов"
   ]
  },
  {
   "cell_type": "code",
   "execution_count": 9,
   "metadata": {},
   "outputs": [
    {
     "data": {
      "text/html": [
       "<div>\n",
       "<style scoped>\n",
       "    .dataframe tbody tr th:only-of-type {\n",
       "        vertical-align: middle;\n",
       "    }\n",
       "\n",
       "    .dataframe tbody tr th {\n",
       "        vertical-align: top;\n",
       "    }\n",
       "\n",
       "    .dataframe thead th {\n",
       "        text-align: right;\n",
       "    }\n",
       "</style>\n",
       "<table border=\"1\" class=\"dataframe\">\n",
       "  <thead>\n",
       "    <tr style=\"text-align: right;\">\n",
       "      <th></th>\n",
       "      <th>credit_score</th>\n",
       "      <th>geography</th>\n",
       "      <th>gender</th>\n",
       "      <th>age</th>\n",
       "      <th>tenure</th>\n",
       "      <th>balance</th>\n",
       "      <th>num_of_products</th>\n",
       "      <th>has_cr_card</th>\n",
       "      <th>is_active_member</th>\n",
       "      <th>estimated_salary</th>\n",
       "      <th>exited</th>\n",
       "    </tr>\n",
       "  </thead>\n",
       "  <tbody>\n",
       "    <tr>\n",
       "      <th>0</th>\n",
       "      <td>619</td>\n",
       "      <td>France</td>\n",
       "      <td>Female</td>\n",
       "      <td>42</td>\n",
       "      <td>2.0</td>\n",
       "      <td>0.00</td>\n",
       "      <td>1</td>\n",
       "      <td>1</td>\n",
       "      <td>1</td>\n",
       "      <td>101348.88</td>\n",
       "      <td>1</td>\n",
       "    </tr>\n",
       "    <tr>\n",
       "      <th>1</th>\n",
       "      <td>608</td>\n",
       "      <td>Spain</td>\n",
       "      <td>Female</td>\n",
       "      <td>41</td>\n",
       "      <td>1.0</td>\n",
       "      <td>83807.86</td>\n",
       "      <td>1</td>\n",
       "      <td>0</td>\n",
       "      <td>1</td>\n",
       "      <td>112542.58</td>\n",
       "      <td>0</td>\n",
       "    </tr>\n",
       "    <tr>\n",
       "      <th>2</th>\n",
       "      <td>502</td>\n",
       "      <td>France</td>\n",
       "      <td>Female</td>\n",
       "      <td>42</td>\n",
       "      <td>8.0</td>\n",
       "      <td>159660.80</td>\n",
       "      <td>3</td>\n",
       "      <td>1</td>\n",
       "      <td>0</td>\n",
       "      <td>113931.57</td>\n",
       "      <td>1</td>\n",
       "    </tr>\n",
       "    <tr>\n",
       "      <th>3</th>\n",
       "      <td>699</td>\n",
       "      <td>France</td>\n",
       "      <td>Female</td>\n",
       "      <td>39</td>\n",
       "      <td>1.0</td>\n",
       "      <td>0.00</td>\n",
       "      <td>2</td>\n",
       "      <td>0</td>\n",
       "      <td>0</td>\n",
       "      <td>93826.63</td>\n",
       "      <td>0</td>\n",
       "    </tr>\n",
       "    <tr>\n",
       "      <th>4</th>\n",
       "      <td>850</td>\n",
       "      <td>Spain</td>\n",
       "      <td>Female</td>\n",
       "      <td>43</td>\n",
       "      <td>2.0</td>\n",
       "      <td>125510.82</td>\n",
       "      <td>1</td>\n",
       "      <td>1</td>\n",
       "      <td>1</td>\n",
       "      <td>79084.10</td>\n",
       "      <td>0</td>\n",
       "    </tr>\n",
       "  </tbody>\n",
       "</table>\n",
       "</div>"
      ],
      "text/plain": [
       "   credit_score geography  gender  age  tenure    balance  num_of_products  \\\n",
       "0           619    France  Female   42     2.0       0.00                1   \n",
       "1           608     Spain  Female   41     1.0   83807.86                1   \n",
       "2           502    France  Female   42     8.0  159660.80                3   \n",
       "3           699    France  Female   39     1.0       0.00                2   \n",
       "4           850     Spain  Female   43     2.0  125510.82                1   \n",
       "\n",
       "   has_cr_card  is_active_member  estimated_salary  exited  \n",
       "0            1                 1         101348.88       1  \n",
       "1            0                 1         112542.58       0  \n",
       "2            1                 0         113931.57       1  \n",
       "3            0                 0          93826.63       0  \n",
       "4            1                 1          79084.10       0  "
      ]
     },
     "execution_count": 9,
     "metadata": {},
     "output_type": "execute_result"
    }
   ],
   "source": [
    "data = data.drop(['row_number', 'customer_id', 'surname'], axis=1)\n",
    "data.head()"
   ]
  },
  {
   "cell_type": "markdown",
   "metadata": {},
   "source": [
    "### Обработка пропусков"
   ]
  },
  {
   "cell_type": "code",
   "execution_count": 10,
   "metadata": {},
   "outputs": [
    {
     "data": {
      "text/plain": [
       "count    9091.000000\n",
       "mean        4.997690\n",
       "std         2.894723\n",
       "min         0.000000\n",
       "25%         2.000000\n",
       "50%         5.000000\n",
       "75%         7.000000\n",
       "max        10.000000\n",
       "Name: tenure, dtype: float64"
      ]
     },
     "execution_count": 10,
     "metadata": {},
     "output_type": "execute_result"
    }
   ],
   "source": [
    "data['tenure'].describe()"
   ]
  },
  {
   "cell_type": "code",
   "execution_count": 11,
   "metadata": {},
   "outputs": [
    {
     "data": {
      "text/plain": [
       "Text(0.5, 1.0, 'Распределение по годам, Сколько лет человек является клиентом банка')"
      ]
     },
     "execution_count": 11,
     "metadata": {},
     "output_type": "execute_result"
    },
    {
     "data": {
      "image/png": "[encoded data removed]",
      "text/plain": [
       "<Figure size 432x288 with 1 Axes>"
      ]
     },
     "metadata": {
      "needs_background": "light"
     },
     "output_type": "display_data"
    }
   ],
   "source": [
    "data['tenure'].hist(bins=11, color='turquoise',  edgecolor='black')\n",
    "plt.xlabel('Количество лет')\n",
    "plt.ylabel('Количество клиентов')\n",
    "plt.title('Распределение по годам, Сколько лет человек является клиентом банка')"
   ]
  },
  {
   "cell_type": "markdown",
   "metadata": {},
   "source": [
    "9% пропусков. Видим что медиана и среднее практически равны, но на графике распределение равномерное - если заполним значением медианы и средним - распределение сильно изменится, принято решение эти данные удалить, иначе может ощутимо повлиять на исследование. Изменим тип данных в этом столбце на int"
   ]
  },
  {
   "cell_type": "code",
   "execution_count": 10,
   "metadata": {},
   "outputs": [
    {
     "name": "stdout",
     "output_type": "stream",
     "text": [
      "<class 'pandas.core.frame.DataFrame'>\n",
      "Int64Index: 9091 entries, 0 to 9998\n",
      "Data columns (total 11 columns):\n",
      " #   Column            Non-Null Count  Dtype  \n",
      "---  ------            --------------  -----  \n",
      " 0   credit_score      9091 non-null   int64  \n",
      " 1   geography         9091 non-null   object \n",
      " 2   gender            9091 non-null   object \n",
      " 3   age               9091 non-null   int64  \n",
      " 4   tenure            9091 non-null   int64  \n",
      " 5   balance           9091 non-null   float64\n",
      " 6   num_of_products   9091 non-null   int64  \n",
      " 7   has_cr_card       9091 non-null   int64  \n",
      " 8   is_active_member  9091 non-null   int64  \n",
      " 9   estimated_salary  9091 non-null   float64\n",
      " 10  exited            9091 non-null   int64  \n",
      "dtypes: float64(2), int64(7), object(2)\n",
      "memory usage: 852.3+ KB\n"
     ]
    }
   ],
   "source": [
    "data.dropna(subset=['tenure'], inplace=True)\n",
    "data['tenure'] = data['tenure'].astype(int)\n",
    "data.info()"
   ]
  },
  {
   "cell_type": "markdown",
   "metadata": {},
   "source": [
    "###  Изменение типа данных"
   ]
  },
  {
   "cell_type": "markdown",
   "metadata": {},
   "source": [
    "### Преобразование категориальных признаков техникой OHE"
   ]
  },
  {
   "cell_type": "markdown",
   "metadata": {},
   "source": [
    "В столбцах geography gender категориальные данные, используем технику OHE, чтобы не попасть в дамми-ловушку, применим аргумент drop_first."
   ]
  },
  {
   "cell_type": "code",
   "execution_count": 11,
   "metadata": {
    "scrolled": true
   },
   "outputs": [
    {
     "data": {
      "text/html": [
       "<div>\n",
       "<style scoped>\n",
       "    .dataframe tbody tr th:only-of-type {\n",
       "        vertical-align: middle;\n",
       "    }\n",
       "\n",
       "    .dataframe tbody tr th {\n",
       "        vertical-align: top;\n",
       "    }\n",
       "\n",
       "    .dataframe thead th {\n",
       "        text-align: right;\n",
       "    }\n",
       "</style>\n",
       "<table border=\"1\" class=\"dataframe\">\n",
       "  <thead>\n",
       "    <tr style=\"text-align: right;\">\n",
       "      <th></th>\n",
       "      <th>credit_score</th>\n",
       "      <th>age</th>\n",
       "      <th>tenure</th>\n",
       "      <th>balance</th>\n",
       "      <th>num_of_products</th>\n",
       "      <th>has_cr_card</th>\n",
       "      <th>is_active_member</th>\n",
       "      <th>estimated_salary</th>\n",
       "      <th>exited</th>\n",
       "      <th>geography_Germany</th>\n",
       "      <th>geography_Spain</th>\n",
       "      <th>gender_Male</th>\n",
       "    </tr>\n",
       "  </thead>\n",
       "  <tbody>\n",
       "    <tr>\n",
       "      <th>0</th>\n",
       "      <td>619</td>\n",
       "      <td>42</td>\n",
       "      <td>2</td>\n",
       "      <td>0.00</td>\n",
       "      <td>1</td>\n",
       "      <td>1</td>\n",
       "      <td>1</td>\n",
       "      <td>101348.88</td>\n",
       "      <td>1</td>\n",
       "      <td>0</td>\n",
       "      <td>0</td>\n",
       "      <td>0</td>\n",
       "    </tr>\n",
       "    <tr>\n",
       "      <th>1</th>\n",
       "      <td>608</td>\n",
       "      <td>41</td>\n",
       "      <td>1</td>\n",
       "      <td>83807.86</td>\n",
       "      <td>1</td>\n",
       "      <td>0</td>\n",
       "      <td>1</td>\n",
       "      <td>112542.58</td>\n",
       "      <td>0</td>\n",
       "      <td>0</td>\n",
       "      <td>1</td>\n",
       "      <td>0</td>\n",
       "    </tr>\n",
       "    <tr>\n",
       "      <th>2</th>\n",
       "      <td>502</td>\n",
       "      <td>42</td>\n",
       "      <td>8</td>\n",
       "      <td>159660.80</td>\n",
       "      <td>3</td>\n",
       "      <td>1</td>\n",
       "      <td>0</td>\n",
       "      <td>113931.57</td>\n",
       "      <td>1</td>\n",
       "      <td>0</td>\n",
       "      <td>0</td>\n",
       "      <td>0</td>\n",
       "    </tr>\n",
       "    <tr>\n",
       "      <th>3</th>\n",
       "      <td>699</td>\n",
       "      <td>39</td>\n",
       "      <td>1</td>\n",
       "      <td>0.00</td>\n",
       "      <td>2</td>\n",
       "      <td>0</td>\n",
       "      <td>0</td>\n",
       "      <td>93826.63</td>\n",
       "      <td>0</td>\n",
       "      <td>0</td>\n",
       "      <td>0</td>\n",
       "      <td>0</td>\n",
       "    </tr>\n",
       "    <tr>\n",
       "      <th>4</th>\n",
       "      <td>850</td>\n",
       "      <td>43</td>\n",
       "      <td>2</td>\n",
       "      <td>125510.82</td>\n",
       "      <td>1</td>\n",
       "      <td>1</td>\n",
       "      <td>1</td>\n",
       "      <td>79084.10</td>\n",
       "      <td>0</td>\n",
       "      <td>0</td>\n",
       "      <td>1</td>\n",
       "      <td>0</td>\n",
       "    </tr>\n",
       "  </tbody>\n",
       "</table>\n",
       "</div>"
      ],
      "text/plain": [
       "   credit_score  age  tenure    balance  num_of_products  has_cr_card  \\\n",
       "0           619   42       2       0.00                1            1   \n",
       "1           608   41       1   83807.86                1            0   \n",
       "2           502   42       8  159660.80                3            1   \n",
       "3           699   39       1       0.00                2            0   \n",
       "4           850   43       2  125510.82                1            1   \n",
       "\n",
       "   is_active_member  estimated_salary  exited  geography_Germany  \\\n",
       "0                 1         101348.88       1                  0   \n",
       "1                 1         112542.58       0                  0   \n",
       "2                 0         113931.57       1                  0   \n",
       "3                 0          93826.63       0                  0   \n",
       "4                 1          79084.10       0                  0   \n",
       "\n",
       "   geography_Spain  gender_Male  \n",
       "0                0            0  \n",
       "1                1            0  \n",
       "2                0            0  \n",
       "3                0            0  \n",
       "4                1            0  "
      ]
     },
     "metadata": {},
     "output_type": "display_data"
    }
   ],
   "source": [
    "data = pd.get_dummies(data, drop_first=True)\n",
    "display(data.head())"
   ]
  },
  {
   "cell_type": "code",
   "execution_count": 12,
   "metadata": {},
   "outputs": [
    {
     "data": {
      "text/plain": [
       "(9091, 12)"
      ]
     },
     "execution_count": 12,
     "metadata": {},
     "output_type": "execute_result"
    }
   ],
   "source": [
    "data.shape"
   ]
  },
  {
   "cell_type": "markdown",
   "metadata": {},
   "source": [
    "### Вывод:\n",
    "В ходе предобработки данных:\n",
    "*  Все столбцы приведены к хорошему стилю\n",
    "*  В столбце Tenure (сколько лет человек является клиентом банка) 9% пропусков - удалено. Возможно пропуски из-за ошибки при выгрузке или данные отсутствовали, либо это не заполненые данные новых клиентов - подтвердить не получилось - данные в сustomer_id не по-порядку от старых клиентов к новым. Нужно передать информацию ответственным - 9% пропусков многовато.\n",
    "*  Типы данных заменены на соответствующие\n",
    "*  Удалены ненужные столбцы - row_number, сustomer_id, surname\n",
    "*  Преобразованы категориальные признаки техникой OHE (столбцы Geography(3 уникальных значения), Gender(2 уникальных значения))\n",
    "*  Всего готово к исследованию - 9091 строк и 12 столбцов\n"
   ]
  },
  {
   "cell_type": "markdown",
   "metadata": {},
   "source": [
    "## Исследование задачи"
   ]
  },
  {
   "cell_type": "markdown",
   "metadata": {},
   "source": [
    "**Проверим соотношение значений целевого признака:**"
   ]
  },
  {
   "cell_type": "code",
   "execution_count": 13,
   "metadata": {},
   "outputs": [
    {
     "data": {
      "text/plain": [
       "0    7237\n",
       "1    1854\n",
       "Name: exited, dtype: int64"
      ]
     },
     "execution_count": 13,
     "metadata": {},
     "output_type": "execute_result"
    }
   ],
   "source": [
    "data['exited'].value_counts()"
   ]
  },
  {
   "cell_type": "markdown",
   "metadata": {},
   "source": [
    "Видим ощутимый дисбаланс классов 80/20"
   ]
  },
  {
   "cell_type": "markdown",
   "metadata": {},
   "source": [
    "### Деление данных на выборки"
   ]
  },
  {
   "cell_type": "code",
   "execution_count": 14,
   "metadata": {
    "scrolled": true
   },
   "outputs": [
    {
     "name": "stdout",
     "output_type": "stream",
     "text": [
      "(5454, 12)\n",
      "(1818, 12)\n",
      "(1819, 12)\n"
     ]
    }
   ],
   "source": [
    "target = data['exited']\n",
    "features = data.drop('exited', axis=1)\n",
    "data_train, data_valid_test = train_test_split(\n",
    "    data, test_size=0.40, random_state=12345)\n",
    "\n",
    "data_test, data_valid = train_test_split(\n",
    "    data_valid_test, test_size=0.50, random_state=12345)\n",
    "\n",
    "print(data_train.shape)\n",
    "print(data_test.shape)\n",
    "print(data_valid.shape)"
   ]
  },
  {
   "cell_type": "code",
   "execution_count": 15,
   "metadata": {},
   "outputs": [],
   "source": [
    "features_train = data_train.drop(['exited'], axis=1) \n",
    "target_train = data_train['exited']\n",
    "\n",
    "features_valid = data_valid.drop(['exited'], axis=1) \n",
    "target_valid = data_valid['exited']\n",
    "\n",
    "features_test = data_test.drop(['exited'], axis=1) \n",
    "target_test = data_test['exited']"
   ]
  },
  {
   "cell_type": "markdown",
   "metadata": {},
   "source": [
    "**Итого получаем выборки:**\n",
    "* Тренировочная выборка - 60% - features_train, target_train\n",
    "* Валидационная выборка - 20% - features_valid , target_valid \n",
    "* Тестовая выборка - 20% - features_test, target_test"
   ]
  },
  {
   "cell_type": "code",
   "execution_count": 16,
   "metadata": {},
   "outputs": [
    {
     "name": "stdout",
     "output_type": "stream",
     "text": [
      "Cоотношение значений целевого признака, тренировочная выборка:\n",
      "0    4328\n",
      "1    1126\n",
      "Name: exited, dtype: int64\n",
      "Cоотношение значений целевого признака, валидационная выборка:\n",
      "0    1468\n",
      "1     351\n",
      "Name: exited, dtype: int64\n",
      "Cоотношение значений целевого признака, тестовая выборка:\n",
      "0    1441\n",
      "1     377\n",
      "Name: exited, dtype: int64\n"
     ]
    }
   ],
   "source": [
    "print('Cоотношение значений целевого признака, тренировочная выборка:') \n",
    "print(target_train.value_counts())\n",
    "print('Cоотношение значений целевого признака, валидационная выборка:')\n",
    "print(target_valid.value_counts()) \n",
    "print('Cоотношение значений целевого признака, тестовая выборка:') \n",
    "print(target_test.value_counts())"
   ]
  },
  {
   "cell_type": "markdown",
   "metadata": {},
   "source": [
    "### Масштабирование данных"
   ]
  },
  {
   "cell_type": "markdown",
   "metadata": {},
   "source": [
    "Т к признаки сильно различаются по размеру чисел, необходимо масшабировать их для корректной работы модели. Для масштабирования признаков используем метод стандартизации данных - StandardScaler "
   ]
  },
  {
   "cell_type": "code",
   "execution_count": 17,
   "metadata": {
    "scrolled": true
   },
   "outputs": [
    {
     "data": {
      "text/html": [
       "<div>\n",
       "<style scoped>\n",
       "    .dataframe tbody tr th:only-of-type {\n",
       "        vertical-align: middle;\n",
       "    }\n",
       "\n",
       "    .dataframe tbody tr th {\n",
       "        vertical-align: top;\n",
       "    }\n",
       "\n",
       "    .dataframe thead th {\n",
       "        text-align: right;\n",
       "    }\n",
       "</style>\n",
       "<table border=\"1\" class=\"dataframe\">\n",
       "  <thead>\n",
       "    <tr style=\"text-align: right;\">\n",
       "      <th></th>\n",
       "      <th>credit_score</th>\n",
       "      <th>age</th>\n",
       "      <th>tenure</th>\n",
       "      <th>balance</th>\n",
       "      <th>num_of_products</th>\n",
       "      <th>has_cr_card</th>\n",
       "      <th>is_active_member</th>\n",
       "      <th>estimated_salary</th>\n",
       "      <th>geography_Germany</th>\n",
       "      <th>geography_Spain</th>\n",
       "      <th>gender_Male</th>\n",
       "    </tr>\n",
       "  </thead>\n",
       "  <tbody>\n",
       "    <tr>\n",
       "      <th>9344</th>\n",
       "      <td>0.809075</td>\n",
       "      <td>-1.039327</td>\n",
       "      <td>-1.025995</td>\n",
       "      <td>0.554904</td>\n",
       "      <td>-0.908179</td>\n",
       "      <td>1</td>\n",
       "      <td>0</td>\n",
       "      <td>0.019508</td>\n",
       "      <td>0</td>\n",
       "      <td>0</td>\n",
       "      <td>0</td>\n",
       "    </tr>\n",
       "    <tr>\n",
       "      <th>3796</th>\n",
       "      <td>-1.152518</td>\n",
       "      <td>-1.227561</td>\n",
       "      <td>0.696524</td>\n",
       "      <td>0.480609</td>\n",
       "      <td>-0.908179</td>\n",
       "      <td>0</td>\n",
       "      <td>0</td>\n",
       "      <td>0.056167</td>\n",
       "      <td>0</td>\n",
       "      <td>0</td>\n",
       "      <td>1</td>\n",
       "    </tr>\n",
       "    <tr>\n",
       "      <th>7462</th>\n",
       "      <td>-0.398853</td>\n",
       "      <td>0.090079</td>\n",
       "      <td>1.385532</td>\n",
       "      <td>-1.237830</td>\n",
       "      <td>-0.908179</td>\n",
       "      <td>1</td>\n",
       "      <td>1</td>\n",
       "      <td>0.848738</td>\n",
       "      <td>0</td>\n",
       "      <td>0</td>\n",
       "      <td>1</td>\n",
       "    </tr>\n",
       "    <tr>\n",
       "      <th>1508</th>\n",
       "      <td>-0.749875</td>\n",
       "      <td>-0.286389</td>\n",
       "      <td>0.352020</td>\n",
       "      <td>-1.237830</td>\n",
       "      <td>0.809300</td>\n",
       "      <td>1</td>\n",
       "      <td>1</td>\n",
       "      <td>-0.894953</td>\n",
       "      <td>0</td>\n",
       "      <td>0</td>\n",
       "      <td>1</td>\n",
       "    </tr>\n",
       "    <tr>\n",
       "      <th>4478</th>\n",
       "      <td>-1.028628</td>\n",
       "      <td>-0.756975</td>\n",
       "      <td>-0.336987</td>\n",
       "      <td>-1.237830</td>\n",
       "      <td>0.809300</td>\n",
       "      <td>0</td>\n",
       "      <td>1</td>\n",
       "      <td>-1.284516</td>\n",
       "      <td>0</td>\n",
       "      <td>0</td>\n",
       "      <td>1</td>\n",
       "    </tr>\n",
       "  </tbody>\n",
       "</table>\n",
       "</div>"
      ],
      "text/plain": [
       "      credit_score       age    tenure   balance  num_of_products  \\\n",
       "9344      0.809075 -1.039327 -1.025995  0.554904        -0.908179   \n",
       "3796     -1.152518 -1.227561  0.696524  0.480609        -0.908179   \n",
       "7462     -0.398853  0.090079  1.385532 -1.237830        -0.908179   \n",
       "1508     -0.749875 -0.286389  0.352020 -1.237830         0.809300   \n",
       "4478     -1.028628 -0.756975 -0.336987 -1.237830         0.809300   \n",
       "\n",
       "      has_cr_card  is_active_member  estimated_salary  geography_Germany  \\\n",
       "9344            1                 0          0.019508                  0   \n",
       "3796            0                 0          0.056167                  0   \n",
       "7462            1                 1          0.848738                  0   \n",
       "1508            1                 1         -0.894953                  0   \n",
       "4478            0                 1         -1.284516                  0   \n",
       "\n",
       "      geography_Spain  gender_Male  \n",
       "9344                0            0  \n",
       "3796                0            1  \n",
       "7462                0            1  \n",
       "1508                0            1  \n",
       "4478                0            1  "
      ]
     },
     "metadata": {},
     "output_type": "display_data"
    },
    {
     "data": {
      "text/html": [
       "<div>\n",
       "<style scoped>\n",
       "    .dataframe tbody tr th:only-of-type {\n",
       "        vertical-align: middle;\n",
       "    }\n",
       "\n",
       "    .dataframe tbody tr th {\n",
       "        vertical-align: top;\n",
       "    }\n",
       "\n",
       "    .dataframe thead th {\n",
       "        text-align: right;\n",
       "    }\n",
       "</style>\n",
       "<table border=\"1\" class=\"dataframe\">\n",
       "  <thead>\n",
       "    <tr style=\"text-align: right;\">\n",
       "      <th></th>\n",
       "      <th>credit_score</th>\n",
       "      <th>age</th>\n",
       "      <th>tenure</th>\n",
       "      <th>balance</th>\n",
       "      <th>num_of_products</th>\n",
       "      <th>has_cr_card</th>\n",
       "      <th>is_active_member</th>\n",
       "      <th>estimated_salary</th>\n",
       "      <th>geography_Germany</th>\n",
       "      <th>geography_Spain</th>\n",
       "      <th>gender_Male</th>\n",
       "    </tr>\n",
       "  </thead>\n",
       "  <tbody>\n",
       "    <tr>\n",
       "      <th>5170</th>\n",
       "      <td>1.707279</td>\n",
       "      <td>-0.756975</td>\n",
       "      <td>-0.336987</td>\n",
       "      <td>-1.237830</td>\n",
       "      <td>0.809300</td>\n",
       "      <td>1</td>\n",
       "      <td>1</td>\n",
       "      <td>0.718362</td>\n",
       "      <td>0</td>\n",
       "      <td>0</td>\n",
       "      <td>0</td>\n",
       "    </tr>\n",
       "    <tr>\n",
       "      <th>4180</th>\n",
       "      <td>-0.429826</td>\n",
       "      <td>-0.286389</td>\n",
       "      <td>1.730036</td>\n",
       "      <td>0.485538</td>\n",
       "      <td>0.809300</td>\n",
       "      <td>0</td>\n",
       "      <td>0</td>\n",
       "      <td>1.687305</td>\n",
       "      <td>1</td>\n",
       "      <td>0</td>\n",
       "      <td>1</td>\n",
       "    </tr>\n",
       "    <tr>\n",
       "      <th>7349</th>\n",
       "      <td>-0.171721</td>\n",
       "      <td>0.278313</td>\n",
       "      <td>0.352020</td>\n",
       "      <td>-0.269213</td>\n",
       "      <td>0.809300</td>\n",
       "      <td>0</td>\n",
       "      <td>1</td>\n",
       "      <td>0.824128</td>\n",
       "      <td>1</td>\n",
       "      <td>0</td>\n",
       "      <td>1</td>\n",
       "    </tr>\n",
       "    <tr>\n",
       "      <th>7469</th>\n",
       "      <td>0.385784</td>\n",
       "      <td>-0.380507</td>\n",
       "      <td>1.041028</td>\n",
       "      <td>0.464813</td>\n",
       "      <td>-0.908179</td>\n",
       "      <td>1</td>\n",
       "      <td>0</td>\n",
       "      <td>-1.118018</td>\n",
       "      <td>0</td>\n",
       "      <td>0</td>\n",
       "      <td>0</td>\n",
       "    </tr>\n",
       "    <tr>\n",
       "      <th>3467</th>\n",
       "      <td>-1.142194</td>\n",
       "      <td>0.278313</td>\n",
       "      <td>-1.370498</td>\n",
       "      <td>0.353837</td>\n",
       "      <td>0.809300</td>\n",
       "      <td>0</td>\n",
       "      <td>1</td>\n",
       "      <td>-0.107642</td>\n",
       "      <td>1</td>\n",
       "      <td>0</td>\n",
       "      <td>0</td>\n",
       "    </tr>\n",
       "  </tbody>\n",
       "</table>\n",
       "</div>"
      ],
      "text/plain": [
       "      credit_score       age    tenure   balance  num_of_products  \\\n",
       "5170      1.707279 -0.756975 -0.336987 -1.237830         0.809300   \n",
       "4180     -0.429826 -0.286389  1.730036  0.485538         0.809300   \n",
       "7349     -0.171721  0.278313  0.352020 -0.269213         0.809300   \n",
       "7469      0.385784 -0.380507  1.041028  0.464813        -0.908179   \n",
       "3467     -1.142194  0.278313 -1.370498  0.353837         0.809300   \n",
       "\n",
       "      has_cr_card  is_active_member  estimated_salary  geography_Germany  \\\n",
       "5170            1                 1          0.718362                  0   \n",
       "4180            0                 0          1.687305                  1   \n",
       "7349            0                 1          0.824128                  1   \n",
       "7469            1                 0         -1.118018                  0   \n",
       "3467            0                 1         -0.107642                  1   \n",
       "\n",
       "      geography_Spain  gender_Male  \n",
       "5170                0            0  \n",
       "4180                0            1  \n",
       "7349                0            1  \n",
       "7469                0            0  \n",
       "3467                0            0  "
      ]
     },
     "metadata": {},
     "output_type": "display_data"
    },
    {
     "data": {
      "text/html": [
       "<div>\n",
       "<style scoped>\n",
       "    .dataframe tbody tr th:only-of-type {\n",
       "        vertical-align: middle;\n",
       "    }\n",
       "\n",
       "    .dataframe tbody tr th {\n",
       "        vertical-align: top;\n",
       "    }\n",
       "\n",
       "    .dataframe thead th {\n",
       "        text-align: right;\n",
       "    }\n",
       "</style>\n",
       "<table border=\"1\" class=\"dataframe\">\n",
       "  <thead>\n",
       "    <tr style=\"text-align: right;\">\n",
       "      <th></th>\n",
       "      <th>credit_score</th>\n",
       "      <th>age</th>\n",
       "      <th>tenure</th>\n",
       "      <th>balance</th>\n",
       "      <th>num_of_products</th>\n",
       "      <th>has_cr_card</th>\n",
       "      <th>is_active_member</th>\n",
       "      <th>estimated_salary</th>\n",
       "      <th>geography_Germany</th>\n",
       "      <th>geography_Spain</th>\n",
       "      <th>gender_Male</th>\n",
       "    </tr>\n",
       "  </thead>\n",
       "  <tbody>\n",
       "    <tr>\n",
       "      <th>7445</th>\n",
       "      <td>-1.369326</td>\n",
       "      <td>0.560665</td>\n",
       "      <td>-0.336987</td>\n",
       "      <td>-1.237830</td>\n",
       "      <td>-0.908179</td>\n",
       "      <td>1</td>\n",
       "      <td>0</td>\n",
       "      <td>-0.086537</td>\n",
       "      <td>0</td>\n",
       "      <td>0</td>\n",
       "      <td>0</td>\n",
       "    </tr>\n",
       "    <tr>\n",
       "      <th>8620</th>\n",
       "      <td>1.232367</td>\n",
       "      <td>0.090079</td>\n",
       "      <td>1.041028</td>\n",
       "      <td>-1.237830</td>\n",
       "      <td>0.809300</td>\n",
       "      <td>0</td>\n",
       "      <td>1</td>\n",
       "      <td>-0.537457</td>\n",
       "      <td>0</td>\n",
       "      <td>0</td>\n",
       "      <td>0</td>\n",
       "    </tr>\n",
       "    <tr>\n",
       "      <th>1714</th>\n",
       "      <td>0.840048</td>\n",
       "      <td>0.560665</td>\n",
       "      <td>0.352020</td>\n",
       "      <td>1.231363</td>\n",
       "      <td>-0.908179</td>\n",
       "      <td>0</td>\n",
       "      <td>0</td>\n",
       "      <td>1.070393</td>\n",
       "      <td>1</td>\n",
       "      <td>0</td>\n",
       "      <td>1</td>\n",
       "    </tr>\n",
       "    <tr>\n",
       "      <th>5441</th>\n",
       "      <td>1.056856</td>\n",
       "      <td>-0.945210</td>\n",
       "      <td>-1.370498</td>\n",
       "      <td>0.951231</td>\n",
       "      <td>-0.908179</td>\n",
       "      <td>1</td>\n",
       "      <td>0</td>\n",
       "      <td>-0.576279</td>\n",
       "      <td>0</td>\n",
       "      <td>0</td>\n",
       "      <td>1</td>\n",
       "    </tr>\n",
       "    <tr>\n",
       "      <th>9001</th>\n",
       "      <td>0.406433</td>\n",
       "      <td>-0.662858</td>\n",
       "      <td>0.352020</td>\n",
       "      <td>0.767800</td>\n",
       "      <td>-0.908179</td>\n",
       "      <td>1</td>\n",
       "      <td>1</td>\n",
       "      <td>0.662068</td>\n",
       "      <td>0</td>\n",
       "      <td>1</td>\n",
       "      <td>1</td>\n",
       "    </tr>\n",
       "  </tbody>\n",
       "</table>\n",
       "</div>"
      ],
      "text/plain": [
       "      credit_score       age    tenure   balance  num_of_products  \\\n",
       "7445     -1.369326  0.560665 -0.336987 -1.237830        -0.908179   \n",
       "8620      1.232367  0.090079  1.041028 -1.237830         0.809300   \n",
       "1714      0.840048  0.560665  0.352020  1.231363        -0.908179   \n",
       "5441      1.056856 -0.945210 -1.370498  0.951231        -0.908179   \n",
       "9001      0.406433 -0.662858  0.352020  0.767800        -0.908179   \n",
       "\n",
       "      has_cr_card  is_active_member  estimated_salary  geography_Germany  \\\n",
       "7445            1                 0         -0.086537                  0   \n",
       "8620            0                 1         -0.537457                  0   \n",
       "1714            0                 0          1.070393                  1   \n",
       "5441            1                 0         -0.576279                  0   \n",
       "9001            1                 1          0.662068                  0   \n",
       "\n",
       "      geography_Spain  gender_Male  \n",
       "7445                0            0  \n",
       "8620                0            0  \n",
       "1714                0            1  \n",
       "5441                0            1  \n",
       "9001                1            1  "
      ]
     },
     "metadata": {},
     "output_type": "display_data"
    }
   ],
   "source": [
    "numeric = ['credit_score', 'age', 'tenure', 'balance', 'num_of_products', 'estimated_salary']\n",
    "scaler = StandardScaler()\n",
    "scaler.fit(features_train[numeric])\n",
    "features_train[numeric] = scaler.transform(features_train[numeric])\n",
    "features_valid[numeric] = scaler.transform(features_valid[numeric])\n",
    "features_test[numeric] = scaler.transform(features_test[numeric])\n",
    "\n",
    "display(features_train.head())\n",
    "display(features_valid.head())\n",
    "display(features_test.head())"
   ]
  },
  {
   "cell_type": "markdown",
   "metadata": {},
   "source": [
    "### Обучение моделей без учета дисбаланса классов"
   ]
  },
  {
   "cell_type": "markdown",
   "metadata": {},
   "source": [
    "#### Дерево решений"
   ]
  },
  {
   "cell_type": "code",
   "execution_count": 18,
   "metadata": {},
   "outputs": [
    {
     "name": "stdout",
     "output_type": "stream",
     "text": [
      "Лучшая модель дерева решений: DecisionTreeClassifier(max_depth=12, min_samples_leaf=7, random_state=12345)\n",
      "Лучшая глубина для модели дерева решений: 12\n",
      "F1-мера лучшей модели дерева решений на валидационной выборке: 0.5741324921135647\n",
      "AUC-ROC лучшей модели дерева решений на валидационной выборке: 0.8052547412220438\n",
      "CPU times: user 419 ms, sys: 1.97 ms, total: 421 ms\n",
      "Wall time: 434 ms\n"
     ]
    }
   ],
   "source": [
    "%%time\n",
    "best_model = None\n",
    "best_depth = 0\n",
    "best_f1 = 0\n",
    "best_auc_roc = 0\n",
    "\n",
    "\n",
    "for depth in range(1, 20):\n",
    "    model = DecisionTreeClassifier(random_state=12345, max_depth=depth, min_samples_leaf=7) \n",
    "    model.fit(features_train, target_train)\n",
    "    prediction_valid = model.predict(features_valid)\n",
    "    f1_valid = f1_score(prediction_valid, target_valid)\n",
    "    probabilities_valid = model.predict_proba(features_valid)\n",
    "    probabilities_one_valid = probabilities_valid[:, 1]\n",
    "    auc_roc_valid = roc_auc_score (target_valid, probabilities_one_valid) \n",
    "    if f1_valid > best_f1:\n",
    "            best_model = model\n",
    "            best_depth = depth\n",
    "            best_f1 = f1_valid\n",
    "            best_auc_roc = auc_roc_valid\n",
    "            \n",
    "print('Лучшая модель дерева решений:', best_model)\n",
    "print('Лучшая глубина для модели дерева решений:', best_depth)\n",
    "print('F1-мера лучшей модели дерева решений на валидационной выборке:', best_f1)            \n",
    "print('AUC-ROC лучшей модели дерева решений на валидационной выборке:', best_auc_roc)            \n",
    "            "
   ]
  },
  {
   "cell_type": "markdown",
   "metadata": {},
   "source": [
    "#### Логистическая регрессия"
   ]
  },
  {
   "cell_type": "code",
   "execution_count": 19,
   "metadata": {},
   "outputs": [
    {
     "name": "stdout",
     "output_type": "stream",
     "text": [
      "F1-мера модели логистической регрессии на валидационной выборке: 0.3175965665236052\n",
      "AUC-ROC модели логистической регрессии на валидационной выборке: 0.780939239386106\n",
      "CPU times: user 36.1 ms, sys: 34.3 ms, total: 70.4 ms\n",
      "Wall time: 33.2 ms\n"
     ]
    }
   ],
   "source": [
    "%%time\n",
    "model = LogisticRegression(random_state=12345, solver='liblinear')\n",
    "model.fit(features_train, target_train)\n",
    "\n",
    "prediction_valid = model.predict(features_valid)\n",
    "f1_valid = f1_score(prediction_valid, target_valid)\n",
    "\n",
    "probabilities_valid = model.predict_proba(features_valid)\n",
    "probabilities_one_valid = probabilities_valid[:, 1]\n",
    "auc_roc_valid = roc_auc_score (target_valid, probabilities_one_valid)\n",
    "\n",
    "print('F1-мера модели логистической регрессии на валидационной выборке:', f1_valid)            \n",
    "print('AUC-ROC модели логистической регрессии на валидационной выборке:', auc_roc_valid) "
   ]
  },
  {
   "cell_type": "markdown",
   "metadata": {},
   "source": [
    "#### Случайный лес"
   ]
  },
  {
   "cell_type": "code",
   "execution_count": 20,
   "metadata": {},
   "outputs": [
    {
     "name": "stdout",
     "output_type": "stream",
     "text": [
      "Лучшая модель случайного леса: RandomForestClassifier(max_depth=15, n_estimators=81, random_state=12345)\n",
      "Лучшая глубина для модели случайный лес: 15\n",
      "Лучшее количество деревьев для модели случайный лес: 81\n",
      "F1-мера лучшей модели случайный лес на валидационной выборке: 0.590339892665474\n",
      "AUC-ROC лучшей модели случайный лес на валидационной выборке: 0.8549628542816554\n",
      "CPU times: user 1min 18s, sys: 573 ms, total: 1min 18s\n",
      "Wall time: 1min 19s\n"
     ]
    }
   ],
   "source": [
    "%%time\n",
    "best_model = None\n",
    "best_depth = 0\n",
    "best_est = 0\n",
    "best_f1 = 0\n",
    "best_auc_roc = 0\n",
    "\n",
    "for depth in range (1, 20):\n",
    "    for est in range(1, 130, 10):\n",
    "        model = RandomForestClassifier(random_state=12345, criterion='gini', n_estimators=est, max_depth=depth) \n",
    "        model.fit(features_train, target_train)\n",
    "        prediction_valid = model.predict(features_valid)\n",
    "        f1_valid = f1_score(prediction_valid, target_valid)\n",
    "        probabilities_valid = model.predict_proba(features_valid)\n",
    "        probabilities_one_valid = probabilities_valid[:, 1]\n",
    "        auc_roc_valid = roc_auc_score (target_valid, probabilities_one_valid) \n",
    "        if f1_valid > best_f1:\n",
    "                best_model = model\n",
    "                best_depth = depth\n",
    "                best_est = est\n",
    "                best_f1 = f1_valid\n",
    "                best_auc_roc = auc_roc_valid\n",
    "            \n",
    "print('Лучшая модель случайного леса:', best_model)\n",
    "print('Лучшая глубина для модели случайный лес:', best_depth)\n",
    "print('Лучшее количество деревьев для модели случайный лес:',  best_est)\n",
    "print('F1-мера лучшей модели случайный лес на валидационной выборке:', best_f1)            \n",
    "print('AUC-ROC лучшей модели случайный лес на валидационной выборке:', best_auc_roc)     \n",
    "        "
   ]
  },
  {
   "cell_type": "markdown",
   "metadata": {},
   "source": [
    "### Вывод:\n",
    "Выявлен значительный дисбаланс классов в целевом признаке (80/20)\n",
    "4. Данные поделены на выборки:\n",
    "*  Тренировочная выборка - 60% - features_train, target_train\n",
    "*  Валидационная выборка - 20% - features_valid , target_valid\n",
    "*  Тестовая выборка - 20% - features_test, target_test\n",
    "5. Т к признаки сильно различаются по размеру чисел, масшабировали их для корректной работы модели. Для масштабирования признаков использовали метод стандартизации данных - StandardScaler\n",
    "6. Изучены модели без учёта дисбаланса по метрикам F1-меры и AUC-ROC:\n",
    "*  Лучшие показатели F1-меры и AUC-ROC у моделей случайного леса (0.590 и 0.854) и дерева решений (0.574 и 0.805)\n",
    "*  У логистическрой регрессии очень низкий показатель F1-меры (0.317)"
   ]
  },
  {
   "cell_type": "markdown",
   "metadata": {},
   "source": [
    "## Борьба с дисбалансом"
   ]
  },
  {
   "cell_type": "markdown",
   "metadata": {},
   "source": [
    "### Способ №1. Аргумент \"class_weight \""
   ]
  },
  {
   "cell_type": "markdown",
   "metadata": {},
   "source": [
    "#### Дерево решений"
   ]
  },
  {
   "cell_type": "code",
   "execution_count": 21,
   "metadata": {
    "scrolled": true
   },
   "outputs": [
    {
     "name": "stdout",
     "output_type": "stream",
     "text": [
      "Лучшая модель дерева решений: DecisionTreeClassifier(class_weight='balanced', max_depth=5, min_samples_leaf=7,\n",
      "                       random_state=12345)\n",
      "Лучшая глубина для модели дерева решений: 5\n",
      "F1-мера лучшей модели дерева решений на валидационной выборке: 0.5659955257270692\n",
      "AUC-ROC лучшей модели дерева решений на валидационной выборке: 0.8374777785540728\n",
      "CPU times: user 441 ms, sys: 0 ns, total: 441 ms\n",
      "Wall time: 446 ms\n"
     ]
    }
   ],
   "source": [
    "%%time\n",
    "best_model = None\n",
    "best_depth = 0\n",
    "best_f1 = 0\n",
    "best_auc_roc = 0\n",
    "\n",
    "\n",
    "for depth in range(1, 20):\n",
    "    model = DecisionTreeClassifier(random_state=12345, max_depth=depth, min_samples_leaf=7, class_weight='balanced') \n",
    "    model.fit(features_train, target_train)\n",
    "    prediction_valid = model.predict(features_valid)\n",
    "    f1_valid = f1_score(prediction_valid, target_valid)\n",
    "    probabilities_valid = model.predict_proba(features_valid)\n",
    "    probabilities_one_valid = probabilities_valid[:, 1]\n",
    "    auc_roc_valid = roc_auc_score (target_valid, probabilities_one_valid) \n",
    "    if f1_valid > best_f1:\n",
    "            best_model = model\n",
    "            best_depth = depth\n",
    "            best_f1 = f1_valid\n",
    "            best_auc_roc = auc_roc_valid\n",
    "            \n",
    "print('Лучшая модель дерева решений:', best_model)\n",
    "print('Лучшая глубина для модели дерева решений:', best_depth)\n",
    "print('F1-мера лучшей модели дерева решений на валидационной выборке:', best_f1)            \n",
    "print('AUC-ROC лучшей модели дерева решений на валидационной выборке:', best_auc_roc)            \n",
    "            "
   ]
  },
  {
   "cell_type": "markdown",
   "metadata": {},
   "source": [
    "#### Логистическая регрессия"
   ]
  },
  {
   "cell_type": "code",
   "execution_count": 22,
   "metadata": {},
   "outputs": [
    {
     "name": "stdout",
     "output_type": "stream",
     "text": [
      "F1-мера модели логистической регрессии на валидационной выборке: 0.5025432349949135\n",
      "AUC-ROC модели логистической регрессии на валидационной выборке: 0.7817621121435836\n",
      "CPU times: user 30.4 ms, sys: 35.3 ms, total: 65.7 ms\n",
      "Wall time: 20.3 ms\n"
     ]
    }
   ],
   "source": [
    "%%time\n",
    "model = LogisticRegression(random_state=12345, solver='liblinear', class_weight='balanced')\n",
    "model.fit(features_train, target_train)\n",
    "\n",
    "prediction_valid = model.predict(features_valid)\n",
    "f1_valid = f1_score(prediction_valid, target_valid)\n",
    "\n",
    "probabilities_valid = model.predict_proba(features_valid)\n",
    "probabilities_one_valid = probabilities_valid[:, 1]\n",
    "auc_roc_valid = roc_auc_score (target_valid, probabilities_one_valid)\n",
    "\n",
    "print('F1-мера модели логистической регрессии на валидационной выборке:', f1_valid)            \n",
    "print('AUC-ROC модели логистической регрессии на валидационной выборке:', auc_roc_valid)"
   ]
  },
  {
   "cell_type": "markdown",
   "metadata": {},
   "source": [
    "#### Случайный лес"
   ]
  },
  {
   "cell_type": "code",
   "execution_count": 23,
   "metadata": {},
   "outputs": [
    {
     "name": "stdout",
     "output_type": "stream",
     "text": [
      "Лучшая модель случайного леса: RandomForestClassifier(class_weight='balanced', max_depth=11, n_estimators=31,\n",
      "                       random_state=12345)\n",
      "Лучшая глубина для модели случайный лес: 11\n",
      "Лучшее количество деревьев для модели случайный лес: 31\n",
      "F1-мера лучшей модели случайный лес на валидационной выборке: 0.6169895678092399\n",
      "AUC-ROC лучшей модели случайный лес на валидационной выборке: 0.8500818991282207\n",
      "CPU times: user 1min 19s, sys: 400 ms, total: 1min 19s\n",
      "Wall time: 1min 20s\n"
     ]
    }
   ],
   "source": [
    "%%time\n",
    "best_model = None\n",
    "best_depth = 0\n",
    "best_est = 0\n",
    "best_f1 = 0\n",
    "best_auc_roc = 0\n",
    "\n",
    "for depth in range (1, 20):\n",
    "    for est in range(1, 130, 10):\n",
    "        model = RandomForestClassifier(random_state=12345, criterion='gini', \n",
    "                                       n_estimators=est, max_depth=depth, class_weight='balanced') \n",
    "        model.fit(features_train, target_train)\n",
    "        prediction_valid = model.predict(features_valid)\n",
    "        f1_valid = f1_score(prediction_valid, target_valid)\n",
    "        probabilities_valid = model.predict_proba(features_valid)\n",
    "        probabilities_one_valid = probabilities_valid[:, 1]\n",
    "        auc_roc_valid = roc_auc_score (target_valid, probabilities_one_valid) \n",
    "        if f1_valid > best_f1:\n",
    "                best_model = model\n",
    "                best_depth = depth\n",
    "                best_est = est\n",
    "                best_f1 = f1_valid\n",
    "                best_auc_roc = auc_roc_valid\n",
    "            \n",
    "print('Лучшая модель случайного леса:', best_model)\n",
    "print('Лучшая глубина для модели случайный лес:', best_depth)\n",
    "print('Лучшее количество деревьев для модели случайный лес:',  best_est)\n",
    "print('F1-мера лучшей модели случайный лес на валидационной выборке:', best_f1)            \n",
    "print('AUC-ROC лучшей модели случайный лес на валидационной выборке:', best_auc_roc)     "
   ]
  },
  {
   "cell_type": "markdown",
   "metadata": {},
   "source": [
    "### Способ №2. Увеличение выборки техникой \"upsampling\" "
   ]
  },
  {
   "cell_type": "markdown",
   "metadata": {},
   "source": [
    "Создадим функцию для увеличения тренировочной выборки и проверим качество моделей на этой выборке:"
   ]
  },
  {
   "cell_type": "code",
   "execution_count": 24,
   "metadata": {},
   "outputs": [
    {
     "name": "stdout",
     "output_type": "stream",
     "text": [
      "(8832, 11)\n",
      "(8832,)\n"
     ]
    }
   ],
   "source": [
    "def upsample(features, target, repeat):\n",
    "    features_zeros = features[target == 0]\n",
    "    features_ones = features[target == 1]\n",
    "    target_zeros = target[target == 0]\n",
    "    target_ones = target[target == 1]\n",
    "\n",
    "    features_upsampled = pd.concat([features_zeros] + [features_ones] * repeat)\n",
    "    target_upsampled = pd.concat([target_zeros] + [target_ones] * repeat)\n",
    "    \n",
    "    features_upsampled, target_upsampled = shuffle(\n",
    "        features_upsampled, target_upsampled, random_state=12345)\n",
    "    \n",
    "    return features_upsampled, target_upsampled\n",
    "\n",
    "features_upsampled, target_upsampled = upsample(features_train, target_train, 4)\n",
    "\n",
    "\n",
    "print(features_upsampled.shape)\n",
    "print(target_upsampled.shape)\n"
   ]
  },
  {
   "cell_type": "markdown",
   "metadata": {},
   "source": [
    "#### Дерево решений"
   ]
  },
  {
   "cell_type": "code",
   "execution_count": 25,
   "metadata": {
    "scrolled": true
   },
   "outputs": [
    {
     "name": "stdout",
     "output_type": "stream",
     "text": [
      "Лучшая модель дерева решений: DecisionTreeClassifier(max_depth=5, min_samples_leaf=7, random_state=12345)\n",
      "Лучшая глубина для модели дерева решений: 5\n",
      "F1-мера лучшей модели дерева решений на валидационной выборке: 0.5659955257270692\n",
      "AUC-ROC лучшей модели дерева решений на валидационной выборке: 0.8387324654354628\n",
      "CPU times: user 508 ms, sys: 0 ns, total: 508 ms\n",
      "Wall time: 517 ms\n"
     ]
    }
   ],
   "source": [
    "%%time\n",
    "best_model = None\n",
    "best_depth = 0\n",
    "best_f1 = 0\n",
    "best_auc_roc = 0\n",
    "\n",
    "\n",
    "for depth in range(1, 20):\n",
    "    model = DecisionTreeClassifier(random_state=12345, max_depth=depth, min_samples_leaf=7) \n",
    "    model.fit(features_upsampled, target_upsampled)\n",
    "    prediction_valid = model.predict(features_valid)\n",
    "    f1_valid = f1_score(prediction_valid, target_valid)\n",
    "    probabilities_valid = model.predict_proba(features_valid)\n",
    "    probabilities_one_valid = probabilities_valid[:, 1]\n",
    "    auc_roc_valid = roc_auc_score (target_valid, probabilities_one_valid) \n",
    "    if f1_valid > best_f1:\n",
    "            best_model = model\n",
    "            best_depth = depth\n",
    "            best_f1 = f1_valid\n",
    "            best_auc_roc = auc_roc_valid\n",
    "            \n",
    "print('Лучшая модель дерева решений:', best_model)\n",
    "print('Лучшая глубина для модели дерева решений:', best_depth)\n",
    "print('F1-мера лучшей модели дерева решений на валидационной выборке:', best_f1)            \n",
    "print('AUC-ROC лучшей модели дерева решений на валидационной выборке:', best_auc_roc) "
   ]
  },
  {
   "cell_type": "markdown",
   "metadata": {},
   "source": [
    "#### Логистическая регрессия"
   ]
  },
  {
   "cell_type": "code",
   "execution_count": 26,
   "metadata": {},
   "outputs": [
    {
     "name": "stdout",
     "output_type": "stream",
     "text": [
      "F1-мера модели логистической регрессии на валидационной выборке: 0.49653808110781406\n",
      "AUC-ROC модели логистической регрессии на валидационной выборке: 0.7817349418166857\n",
      "CPU times: user 29.8 ms, sys: 19.9 ms, total: 49.8 ms\n",
      "Wall time: 29.9 ms\n"
     ]
    }
   ],
   "source": [
    "%%time\n",
    "model = LogisticRegression(random_state=12345, solver='liblinear')\n",
    "model.fit(features_upsampled, target_upsampled)\n",
    "\n",
    "prediction_valid = model.predict(features_valid)\n",
    "f1_valid = f1_score(prediction_valid, target_valid)\n",
    "\n",
    "probabilities_valid = model.predict_proba(features_valid)\n",
    "probabilities_one_valid = probabilities_valid[:, 1]\n",
    "auc_roc_valid = roc_auc_score (target_valid, probabilities_one_valid)\n",
    "\n",
    "print('F1-мера модели логистической регрессии на валидационной выборке:', f1_valid)            \n",
    "print('AUC-ROC модели логистической регрессии на валидационной выборке:', auc_roc_valid)"
   ]
  },
  {
   "cell_type": "markdown",
   "metadata": {},
   "source": [
    "#### Случайный лес"
   ]
  },
  {
   "cell_type": "code",
   "execution_count": 27,
   "metadata": {},
   "outputs": [
    {
     "name": "stdout",
     "output_type": "stream",
     "text": [
      "Лучшая модель случайного леса: RandomForestClassifier(max_depth=18, n_estimators=111, random_state=12345)\n",
      "Лучшая глубина для модели случайный лес: 18\n",
      "Лучшее количество деревьев для модели случайный лес: 111\n",
      "F1-мера лучшей модели случайный лес на валидационной выборке: 0.6216216216216216\n",
      "AUC-ROC лучшей модели случайный лес на валидационной выборке: 0.8491784857588672\n",
      "CPU times: user 1min 44s, sys: 571 ms, total: 1min 44s\n",
      "Wall time: 1min 44s\n"
     ]
    }
   ],
   "source": [
    "%%time\n",
    "best_model = None\n",
    "best_depth = 0\n",
    "best_est = 0\n",
    "best_f1 = 0\n",
    "best_auc_roc = 0\n",
    "\n",
    "for depth in range (1, 20):\n",
    "    for est in range(1, 130, 10):\n",
    "        model = RandomForestClassifier(random_state=12345, criterion='gini', \n",
    "                                       n_estimators=est, max_depth=depth) \n",
    "        model.fit(features_upsampled, target_upsampled)\n",
    "        prediction_valid = model.predict(features_valid)\n",
    "        f1_valid = f1_score(prediction_valid, target_valid)\n",
    "        probabilities_valid = model.predict_proba(features_valid)\n",
    "        probabilities_one_valid = probabilities_valid[:, 1]\n",
    "        auc_roc_valid = roc_auc_score (target_valid, probabilities_one_valid) \n",
    "        if f1_valid > best_f1:\n",
    "                best_model = model\n",
    "                best_depth = depth\n",
    "                best_est = est\n",
    "                best_f1 = f1_valid\n",
    "                best_auc_roc = auc_roc_valid\n",
    "            \n",
    "print('Лучшая модель случайного леса:', best_model)\n",
    "print('Лучшая глубина для модели случайный лес:',  best_depth )\n",
    "print('Лучшее количество деревьев для модели случайный лес:', best_est)\n",
    "print('F1-мера лучшей модели случайный лес на валидационной выборке:', best_f1)            \n",
    "print('AUC-ROC лучшей модели случайный лес на валидационной выборке:', best_auc_roc)     "
   ]
  },
  {
   "cell_type": "markdown",
   "metadata": {},
   "source": [
    "### Способ №3. Уменьшение выборки техникой \"downsampling\" "
   ]
  },
  {
   "cell_type": "markdown",
   "metadata": {},
   "source": [
    "Создадим функцию для увеличения тренировочной выборки и проверим качество моделей на этой выборке:"
   ]
  },
  {
   "cell_type": "code",
   "execution_count": 28,
   "metadata": {
    "scrolled": true
   },
   "outputs": [
    {
     "name": "stdout",
     "output_type": "stream",
     "text": [
      "(2208, 11)\n",
      "(2208,)\n"
     ]
    }
   ],
   "source": [
    "def downsample(features, target, fraction):\n",
    "    features_zeros = features[target == 0]\n",
    "    features_ones = features[target == 1]\n",
    "    target_zeros = target[target == 0]\n",
    "    target_ones = target[target == 1]\n",
    "\n",
    "    features_downsampled = pd.concat([features_zeros.sample(frac=fraction, random_state=12345)] + [features_ones])\n",
    "    target_downsampled = pd.concat([target_zeros.sample(frac=fraction, random_state=12345)] + [target_ones])\n",
    "    \n",
    "    features_downsampled, target_downsampled = shuffle(\n",
    "        features_downsampled, target_downsampled, random_state=12345)\n",
    "\n",
    "    \n",
    "    return features_downsampled, target_downsampled\n",
    "\n",
    "features_downsampled, target_downsampled = downsample(features_train, target_train, 0.25)\n",
    "\n",
    "print(features_downsampled.shape)\n",
    "print(target_downsampled.shape)\n"
   ]
  },
  {
   "cell_type": "markdown",
   "metadata": {},
   "source": [
    "#### Дерево решений"
   ]
  },
  {
   "cell_type": "code",
   "execution_count": 29,
   "metadata": {
    "scrolled": true
   },
   "outputs": [
    {
     "name": "stdout",
     "output_type": "stream",
     "text": [
      "Лучшая модель дерева решений: DecisionTreeClassifier(max_depth=6, min_samples_leaf=7, random_state=12345)\n",
      "Лучшая глубина для модели дерева решений: 6\n",
      "F1-мера лучшей модели дерева решений на валидационной выборке: 0.5553359683794467\n",
      "AUC-ROC лучшей модели дерева решений на валидационной выборке: 0.8373002010604191\n",
      "CPU times: user 228 ms, sys: 3.96 ms, total: 232 ms\n",
      "Wall time: 242 ms\n"
     ]
    }
   ],
   "source": [
    "%%time\n",
    "best_model = None\n",
    "best_depth = 0\n",
    "best_f1 = 0\n",
    "best_auc_roc = 0\n",
    "\n",
    "\n",
    "for depth in range(1, 20):\n",
    "    model = DecisionTreeClassifier(random_state=12345, max_depth=depth, min_samples_leaf=7) \n",
    "    model.fit(features_downsampled, target_downsampled)\n",
    "    prediction_valid = model.predict(features_valid)\n",
    "    f1_valid = f1_score(prediction_valid, target_valid)\n",
    "    probabilities_valid = model.predict_proba(features_valid)\n",
    "    probabilities_one_valid = probabilities_valid[:, 1]\n",
    "    auc_roc_valid = roc_auc_score (target_valid, probabilities_one_valid) \n",
    "    if f1_valid > best_f1:\n",
    "            best_model = model\n",
    "            best_depth = depth\n",
    "            best_f1 = f1_valid\n",
    "            best_auc_roc = auc_roc_valid\n",
    "            \n",
    "print('Лучшая модель дерева решений:', best_model)\n",
    "print('Лучшая глубина для модели дерева решений:', best_depth)\n",
    "print('F1-мера лучшей модели дерева решений на валидационной выборке:', best_f1)            \n",
    "print('AUC-ROC лучшей модели дерева решений на валидационной выборке:', best_auc_roc) "
   ]
  },
  {
   "cell_type": "markdown",
   "metadata": {},
   "source": [
    "#### Логистическая регрессия"
   ]
  },
  {
   "cell_type": "code",
   "execution_count": 30,
   "metadata": {},
   "outputs": [
    {
     "name": "stdout",
     "output_type": "stream",
     "text": [
      "F1-мера модели логистической регрессии на валидационной выборке: 0.4911591355599214\n",
      "AUC-ROC модели логистической регрессии на валидационной выборке: 0.7806655953794919\n",
      "CPU times: user 14.9 ms, sys: 35.8 ms, total: 50.6 ms\n",
      "Wall time: 14 ms\n"
     ]
    }
   ],
   "source": [
    "%%time\n",
    "model = LogisticRegression(random_state=12345, solver='liblinear')\n",
    "model.fit(features_downsampled, target_downsampled)\n",
    "\n",
    "prediction_valid = model.predict(features_valid)\n",
    "f1_valid = f1_score(prediction_valid, target_valid)\n",
    "\n",
    "probabilities_valid = model.predict_proba(features_valid)\n",
    "probabilities_one_valid = probabilities_valid[:, 1]\n",
    "auc_roc_valid = roc_auc_score (target_valid, probabilities_one_valid)\n",
    "\n",
    "print('F1-мера модели логистической регрессии на валидационной выборке:', f1_valid)            \n",
    "print('AUC-ROC модели логистической регрессии на валидационной выборке:', auc_roc_valid)"
   ]
  },
  {
   "cell_type": "markdown",
   "metadata": {},
   "source": [
    "#### Случайный лес"
   ]
  },
  {
   "cell_type": "code",
   "execution_count": 31,
   "metadata": {},
   "outputs": [
    {
     "name": "stdout",
     "output_type": "stream",
     "text": [
      "Лучшая модель случайного леса: RandomForestClassifier(max_depth=5, n_estimators=11, random_state=12345)\n",
      "Лучшая глубина для модели случайный лес: 5\n",
      "Лучшее количество деревьев для модели случайный лес: 11\n",
      "F1-мера лучшей модели случайный лес на валидационной выборке: 0.5825892857142857\n",
      "AUC-ROC лучшей модели случайный лес на валидационной выборке: 0.8475045995481962\n",
      "CPU times: user 47.9 s, sys: 336 ms, total: 48.3 s\n",
      "Wall time: 48.4 s\n"
     ]
    }
   ],
   "source": [
    "%%time\n",
    "best_model = None\n",
    "best_depth = 0\n",
    "best_est = 0\n",
    "best_f1 = 0\n",
    "best_auc_roc = 0\n",
    "\n",
    "for depth in range (1, 20):\n",
    "    for est in range(1, 130, 10):\n",
    "        model = RandomForestClassifier(random_state=12345, criterion='gini', \n",
    "                                       n_estimators=est, max_depth=depth) \n",
    "        model.fit(features_downsampled, target_downsampled)\n",
    "        prediction_valid = model.predict(features_valid)\n",
    "        f1_valid = f1_score(prediction_valid, target_valid)\n",
    "        probabilities_valid = model.predict_proba(features_valid)\n",
    "        probabilities_one_valid = probabilities_valid[:, 1]\n",
    "        auc_roc_valid = roc_auc_score (target_valid, probabilities_one_valid) \n",
    "        if f1_valid > best_f1:\n",
    "                best_model = model\n",
    "                best_depth = depth\n",
    "                best_est = est\n",
    "                best_f1 = f1_valid\n",
    "                best_auc_roc = auc_roc_valid\n",
    "            \n",
    "print('Лучшая модель случайного леса:', best_model)\n",
    "print('Лучшая глубина для модели случайный лес:', best_depth)\n",
    "print('Лучшее количество деревьев для модели случайный лес:', best_est)\n",
    "print('F1-мера лучшей модели случайный лес на валидационной выборке:', best_f1)            \n",
    "print('AUC-ROC лучшей модели случайный лес на валидационной выборке:', best_auc_roc)     "
   ]
  },
  {
   "cell_type": "markdown",
   "metadata": {},
   "source": [
    "### Вывод:"
   ]
  },
  {
   "cell_type": "markdown",
   "metadata": {},
   "source": [
    "1. В нашем случае лучше всего себя показал способ увеличение выборки техникой \"upsampling\" - на модели случайный лес на валидационной выборке показатели следущие:\n",
    "*  F1-мера лучшей модели случайный лес на валидационной выборке: 0.6216216216216216\n",
    "*  AUC-ROC лучшей модели случайный лес на валидационной выборке: 0.8491784857588672\n",
    "2. Случайный лес с аргументом \"class_weight\" дает второй по качеству результат:\n",
    "*  F1-мера лучшей модели случайный лес на валидационной выборке: 0.6169895678092399\n",
    "*  AUC-ROC лучшей модели случайный лес на валидационной выборке: 0.8500818991282207\n",
    "3. Худшие результаты по всем моделям у техники \"downsampling\"\n",
    "4. В целом, наиболее качественный результат показала модель случайного леса с гиперпараметрами: \n",
    "*  criterion='gini'\n",
    "*  n_estimators=111\n",
    "*  max_depth=18\n",
    "\n",
    "на ней и протестируем тестовую выборку с увеличением выборки техникой \"upsampling"
   ]
  },
  {
   "cell_type": "markdown",
   "metadata": {},
   "source": [
    "## Тестирование модели"
   ]
  },
  {
   "cell_type": "code",
   "execution_count": 32,
   "metadata": {
    "scrolled": false
   },
   "outputs": [
    {
     "name": "stdout",
     "output_type": "stream",
     "text": [
      "F1-мера лучшей модели случайный лес на тестовой выборке: 0.6269956458635705\n",
      "AUC-ROC лучшей модели случайный лес на тестовой выборке: 0.8601739140038691\n",
      "recall (полнота) лучшей модели случайный лес на тестовой выборке: 0.6923076923076923\n",
      "CPU times: user 1.02 s, sys: 4 ms, total: 1.02 s\n",
      "Wall time: 1.02 s\n"
     ]
    }
   ],
   "source": [
    "%%time\n",
    "model = RandomForestClassifier(random_state=12345, criterion='gini', \n",
    "                                       n_estimators=111, max_depth=18) \n",
    "model.fit(features_upsampled, target_upsampled)\n",
    "prediction_test = model.predict(features_test)\n",
    "f1_test = f1_score(prediction_test, target_test)\n",
    "probabilities_test = model.predict_proba(features_test)\n",
    "probabilities_one_test = probabilities_test[:, 1]\n",
    "auc_roc_test = roc_auc_score (target_test, probabilities_one_test) \n",
    "recall_test = recall_score(prediction_test, target_test)        \n",
    "           \n",
    "\n",
    "print('F1-мера лучшей модели случайный лес на тестовой выборке:', f1_test)            \n",
    "print('AUC-ROC лучшей модели случайный лес на тестовой выборке:', auc_roc_test)\n",
    "print('recall (полнота) лучшей модели случайный лес на тестовой выборке:', recall_test)"
   ]
  },
  {
   "cell_type": "markdown",
   "metadata": {},
   "source": [
    "**Рассмотрим график ROC-кривой:**"
   ]
  },
  {
   "cell_type": "code",
   "execution_count": 33,
   "metadata": {
    "scrolled": false
   },
   "outputs": [
    {
     "data": {
      "image/png": "[encoded data removed]",
      "text/plain": [
       "<Figure size 432x288 with 1 Axes>"
      ]
     },
     "metadata": {
      "needs_background": "light"
     },
     "output_type": "display_data"
    }
   ],
   "source": [
    "fpr, tpr, thresholds = roc_curve(target_test, probabilities_one_test)\n",
    "plt.figure()\n",
    "plt.plot(fpr, tpr)\n",
    "plt.plot([0, 1], [0, 1], linestyle='--')\n",
    "plt.xlim([0.0, 1.0])\n",
    "plt.ylim([0.0, 1.0])\n",
    "plt.xlabel('False Positive Rate')\n",
    "plt.ylabel('True Positive Rate')\n",
    "plt.title('ROC-кривая')\n",
    "plt.show()\n"
   ]
  },
  {
   "cell_type": "markdown",
   "metadata": {},
   "source": [
    "Создадим дамми-модель для сравнения F1-меры. В дамми-модели предскажем везде «1». Условно говоря, если предсказываем ноль, моделируем ситуацию, когда акцию с бонусами для удержания клиентов решили не проводить. Если предсказываем единицу − решили раздать бонусы вообще всем клиентам. Если в дамми-модели предсказываем по единице, можно подсчитать F1, она не будет зануляться."
   ]
  },
  {
   "cell_type": "code",
   "execution_count": 34,
   "metadata": {},
   "outputs": [
    {
     "name": "stdout",
     "output_type": "stream",
     "text": [
      "F1-мера дамми-модели: 0.34350797266514804\n"
     ]
    }
   ],
   "source": [
    "dummy_model = DummyClassifier(strategy='constant', constant=1)\n",
    "dummy_model.fit(features_train, target_train)\n",
    "f1_dummy_test = f1_score(dummy_model.predict(features_test), target_test)\n",
    "probabilities_test = model.predict_proba(features_test)\n",
    "probabilities_one_test = probabilities_test[:, 1]\n",
    "auc_roc_dummy_test = roc_auc_score (target_test, probabilities_one_test) \n",
    "        \n",
    "print('F1-мера дамми-модели:',f1_dummy_test)              "
   ]
  },
  {
   "cell_type": "markdown",
   "metadata": {},
   "source": [
    "## Итоговый вывод:\n",
    "\n",
    "**1. По итогу исследования для финального тестирования выбрана модель случайный лес с увеличением выборки техникой \"upsampling\" и с гиперпараметрами:** \n",
    "*  criterion='gini' \n",
    "*  n_estimators=111 \n",
    "*  max_depth=18 \n",
    "\n",
    "**2. На тестовой выборке показатели следущие:**\n",
    "*  F1-мера лучшей модели случайный лес на тестовой выборке: 0.6269956458635705\n",
    "*  AUC-ROC лучшей модели случайный лес на тестовой выборке: 0.8601739140038691\n",
    "\n",
    "**3. На графике ROC-кривой видим, что AUC-ROC модели случайный лес (0.8601739140038691) ощутимо превышает AUC-ROC случайной модели (0.5).**\n",
    "\n",
    "**4. F1-мера дамми-модели с constant=1: 0.34350797266514804 - почти в 2 раза меньше чем 0.6269956458635705, что говорит нам о том что модель случайный лес на тестовой выборке более чем адекватна.**\n",
    "\n",
    "**5. Recall (полнота) лучшей модели случайный лес на тестовой выборке: 0.6923076923076923, это указывает на то, что модель верно детектирует почти 70% клиентов на отток**"
   ]
  }
 ],
 "metadata": {
  "ExecuteTimeLog": [
   {
    "duration": 1217,
    "start_time": "2023-07-10T11:26:21.537Z"
   },
   {
    "duration": 98,
    "start_time": "2023-07-10T11:28:25.897Z"
   },
   {
    "duration": 592,
    "start_time": "2023-07-10T11:29:24.966Z"
   },
   {
    "duration": 55,
    "start_time": "2023-07-10T11:29:43.992Z"
   },
   {
    "duration": 243,
    "start_time": "2023-07-10T12:50:07.290Z"
   },
   {
    "duration": 4,
    "start_time": "2023-07-10T12:50:16.092Z"
   },
   {
    "duration": 3,
    "start_time": "2023-07-10T12:50:20.601Z"
   },
   {
    "duration": 3,
    "start_time": "2023-07-10T12:50:24.600Z"
   },
   {
    "duration": 3,
    "start_time": "2023-07-10T12:51:25.392Z"
   },
   {
    "duration": 3,
    "start_time": "2023-07-10T12:51:26.776Z"
   },
   {
    "duration": 103,
    "start_time": "2023-07-10T12:51:54.777Z"
   },
   {
    "duration": 0,
    "start_time": "2023-07-10T12:51:54.881Z"
   },
   {
    "duration": 0,
    "start_time": "2023-07-10T12:51:54.883Z"
   },
   {
    "duration": 0,
    "start_time": "2023-07-10T12:51:54.884Z"
   },
   {
    "duration": 42,
    "start_time": "2023-07-10T13:19:54.317Z"
   },
   {
    "duration": 136,
    "start_time": "2023-07-10T13:20:09.657Z"
   },
   {
    "duration": 0,
    "start_time": "2023-07-10T13:20:09.794Z"
   },
   {
    "duration": 0,
    "start_time": "2023-07-10T13:20:09.795Z"
   },
   {
    "duration": 0,
    "start_time": "2023-07-10T13:20:09.796Z"
   },
   {
    "duration": 1553,
    "start_time": "2023-07-10T13:21:01.863Z"
   },
   {
    "duration": 5,
    "start_time": "2023-07-10T13:21:37.443Z"
   },
   {
    "duration": 1647,
    "start_time": "2023-07-10T13:21:53.423Z"
   },
   {
    "duration": 56,
    "start_time": "2023-07-10T13:21:55.074Z"
   },
   {
    "duration": 87,
    "start_time": "2023-07-10T13:21:55.131Z"
   },
   {
    "duration": 122,
    "start_time": "2023-07-10T13:21:55.220Z"
   },
   {
    "duration": 88,
    "start_time": "2023-07-10T13:22:37.098Z"
   },
   {
    "duration": 84,
    "start_time": "2023-07-10T13:23:02.807Z"
   },
   {
    "duration": 76,
    "start_time": "2023-07-10T17:15:28.098Z"
   },
   {
    "duration": 83,
    "start_time": "2023-07-10T17:16:32.739Z"
   },
   {
    "duration": 85,
    "start_time": "2023-07-10T17:17:12.851Z"
   },
   {
    "duration": 12,
    "start_time": "2023-07-10T17:47:50.363Z"
   },
   {
    "duration": 7,
    "start_time": "2023-07-10T17:50:01.419Z"
   },
   {
    "duration": 4557,
    "start_time": "2023-07-10T18:11:02.734Z"
   },
   {
    "duration": 1799,
    "start_time": "2023-07-10T18:11:14.454Z"
   },
   {
    "duration": 56,
    "start_time": "2023-07-10T18:11:16.254Z"
   },
   {
    "duration": 97,
    "start_time": "2023-07-10T18:11:16.312Z"
   },
   {
    "duration": 155,
    "start_time": "2023-07-10T18:11:16.411Z"
   },
   {
    "duration": 0,
    "start_time": "2023-07-10T18:11:16.575Z"
   },
   {
    "duration": 5,
    "start_time": "2023-07-10T18:11:28.702Z"
   },
   {
    "duration": 5,
    "start_time": "2023-07-10T18:12:33.484Z"
   },
   {
    "duration": 7,
    "start_time": "2023-07-10T18:13:34.555Z"
   },
   {
    "duration": 8,
    "start_time": "2023-07-10T18:14:00.143Z"
   },
   {
    "duration": 7,
    "start_time": "2023-07-10T18:15:00.116Z"
   },
   {
    "duration": 5,
    "start_time": "2023-07-10T18:15:18.913Z"
   },
   {
    "duration": 8,
    "start_time": "2023-07-10T18:19:59.868Z"
   },
   {
    "duration": 6,
    "start_time": "2023-07-10T18:24:44.264Z"
   },
   {
    "duration": 10,
    "start_time": "2023-07-10T18:25:05.963Z"
   },
   {
    "duration": 9,
    "start_time": "2023-07-10T18:25:18.014Z"
   },
   {
    "duration": 1396,
    "start_time": "2023-07-10T18:25:28.620Z"
   },
   {
    "duration": 60,
    "start_time": "2023-07-10T18:25:30.018Z"
   },
   {
    "duration": 118,
    "start_time": "2023-07-10T18:25:30.079Z"
   },
   {
    "duration": 8,
    "start_time": "2023-07-10T18:25:30.198Z"
   },
   {
    "duration": 38,
    "start_time": "2023-07-10T18:25:30.208Z"
   },
   {
    "duration": 40,
    "start_time": "2023-07-10T18:25:30.248Z"
   },
   {
    "duration": 130,
    "start_time": "2023-07-10T18:25:30.289Z"
   },
   {
    "duration": 4,
    "start_time": "2023-07-10T18:25:53.646Z"
   },
   {
    "duration": 17,
    "start_time": "2023-07-10T18:26:11.987Z"
   },
   {
    "duration": 13,
    "start_time": "2023-07-10T18:26:20.183Z"
   },
   {
    "duration": 1374,
    "start_time": "2023-07-10T18:26:31.977Z"
   },
   {
    "duration": 56,
    "start_time": "2023-07-10T18:26:33.353Z"
   },
   {
    "duration": 100,
    "start_time": "2023-07-10T18:26:33.410Z"
   },
   {
    "duration": 7,
    "start_time": "2023-07-10T18:26:33.511Z"
   },
   {
    "duration": 21,
    "start_time": "2023-07-10T18:26:33.520Z"
   },
   {
    "duration": 20,
    "start_time": "2023-07-10T18:26:33.542Z"
   },
   {
    "duration": 29,
    "start_time": "2023-07-10T18:26:33.563Z"
   },
   {
    "duration": 1757,
    "start_time": "2023-07-11T13:04:44.551Z"
   },
   {
    "duration": 170,
    "start_time": "2023-07-11T13:04:46.310Z"
   },
   {
    "duration": 119,
    "start_time": "2023-07-11T13:04:46.482Z"
   },
   {
    "duration": 8,
    "start_time": "2023-07-11T13:04:46.603Z"
   },
   {
    "duration": 5,
    "start_time": "2023-07-11T13:04:46.612Z"
   },
   {
    "duration": 36,
    "start_time": "2023-07-11T13:04:46.618Z"
   },
   {
    "duration": 20,
    "start_time": "2023-07-11T13:04:46.657Z"
   },
   {
    "duration": 9,
    "start_time": "2023-07-11T13:28:30.459Z"
   },
   {
    "duration": 172,
    "start_time": "2023-07-11T13:29:05.852Z"
   },
   {
    "duration": 187,
    "start_time": "2023-07-11T13:29:19.303Z"
   },
   {
    "duration": 315,
    "start_time": "2023-07-11T13:29:35.976Z"
   },
   {
    "duration": 134,
    "start_time": "2023-07-11T13:29:41.795Z"
   },
   {
    "duration": 153,
    "start_time": "2023-07-11T13:32:13.636Z"
   },
   {
    "duration": 6,
    "start_time": "2023-07-11T13:35:55.455Z"
   },
   {
    "duration": 61,
    "start_time": "2023-07-11T13:37:19.198Z"
   },
   {
    "duration": 136,
    "start_time": "2023-07-11T13:37:33.721Z"
   },
   {
    "duration": 21,
    "start_time": "2023-07-11T13:37:46.318Z"
   },
   {
    "duration": 19,
    "start_time": "2023-07-11T13:37:50.092Z"
   },
   {
    "duration": 16,
    "start_time": "2023-07-11T13:38:05.215Z"
   },
   {
    "duration": 21,
    "start_time": "2023-07-11T13:38:33.716Z"
   },
   {
    "duration": 16,
    "start_time": "2023-07-11T13:38:54.580Z"
   },
   {
    "duration": 18,
    "start_time": "2023-07-11T13:40:29.084Z"
   },
   {
    "duration": 10,
    "start_time": "2023-07-11T13:40:36.306Z"
   },
   {
    "duration": 9,
    "start_time": "2023-07-11T13:41:08.827Z"
   },
   {
    "duration": 20,
    "start_time": "2023-07-11T13:41:26.656Z"
   },
   {
    "duration": 16,
    "start_time": "2023-07-11T13:41:46.637Z"
   },
   {
    "duration": 16,
    "start_time": "2023-07-11T13:41:57.168Z"
   },
   {
    "duration": 1574,
    "start_time": "2023-07-11T13:42:03.337Z"
   },
   {
    "duration": 61,
    "start_time": "2023-07-11T13:42:04.914Z"
   },
   {
    "duration": 151,
    "start_time": "2023-07-11T13:42:04.977Z"
   },
   {
    "duration": 30,
    "start_time": "2023-07-11T13:42:05.130Z"
   },
   {
    "duration": 5,
    "start_time": "2023-07-11T13:42:05.164Z"
   },
   {
    "duration": 14,
    "start_time": "2023-07-11T13:42:05.171Z"
   },
   {
    "duration": 17,
    "start_time": "2023-07-11T13:42:05.187Z"
   },
   {
    "duration": 17,
    "start_time": "2023-07-11T13:42:05.206Z"
   },
   {
    "duration": 184,
    "start_time": "2023-07-11T13:42:05.254Z"
   },
   {
    "duration": 32,
    "start_time": "2023-07-11T13:42:05.441Z"
   },
   {
    "duration": 12,
    "start_time": "2023-07-11T13:42:40.915Z"
   },
   {
    "duration": 18,
    "start_time": "2023-07-11T13:51:02.452Z"
   },
   {
    "duration": 143,
    "start_time": "2023-07-11T13:51:31.364Z"
   },
   {
    "duration": 21,
    "start_time": "2023-07-11T13:53:02.519Z"
   },
   {
    "duration": 27,
    "start_time": "2023-07-11T13:53:54.967Z"
   },
   {
    "duration": 21,
    "start_time": "2023-07-11T13:54:21.148Z"
   },
   {
    "duration": 14,
    "start_time": "2023-07-11T13:55:06.348Z"
   },
   {
    "duration": 15,
    "start_time": "2023-07-11T13:55:09.211Z"
   },
   {
    "duration": 153,
    "start_time": "2023-07-11T13:55:32.092Z"
   },
   {
    "duration": 1535,
    "start_time": "2023-07-11T13:55:44.341Z"
   },
   {
    "duration": 56,
    "start_time": "2023-07-11T13:55:45.878Z"
   },
   {
    "duration": 118,
    "start_time": "2023-07-11T13:55:45.936Z"
   },
   {
    "duration": 8,
    "start_time": "2023-07-11T13:55:46.056Z"
   },
   {
    "duration": 4,
    "start_time": "2023-07-11T13:55:46.066Z"
   },
   {
    "duration": 11,
    "start_time": "2023-07-11T13:55:46.072Z"
   },
   {
    "duration": 13,
    "start_time": "2023-07-11T13:55:46.085Z"
   },
   {
    "duration": 13,
    "start_time": "2023-07-11T13:55:46.100Z"
   },
   {
    "duration": 192,
    "start_time": "2023-07-11T13:55:46.115Z"
   },
   {
    "duration": 20,
    "start_time": "2023-07-11T13:55:46.308Z"
   },
   {
    "duration": 172,
    "start_time": "2023-07-11T13:56:17.233Z"
   },
   {
    "duration": 163,
    "start_time": "2023-07-11T13:58:19.473Z"
   },
   {
    "duration": 152,
    "start_time": "2023-07-11T13:58:49.577Z"
   },
   {
    "duration": 266,
    "start_time": "2023-07-11T13:58:57.271Z"
   },
   {
    "duration": 156,
    "start_time": "2023-07-11T13:59:09.155Z"
   },
   {
    "duration": 1158,
    "start_time": "2023-07-11T14:02:08.739Z"
   },
   {
    "duration": 1603,
    "start_time": "2023-07-11T14:02:17.120Z"
   },
   {
    "duration": 56,
    "start_time": "2023-07-11T14:02:18.725Z"
   },
   {
    "duration": 115,
    "start_time": "2023-07-11T14:02:18.783Z"
   },
   {
    "duration": 8,
    "start_time": "2023-07-11T14:02:18.899Z"
   },
   {
    "duration": 5,
    "start_time": "2023-07-11T14:02:18.910Z"
   },
   {
    "duration": 38,
    "start_time": "2023-07-11T14:02:18.916Z"
   },
   {
    "duration": 8,
    "start_time": "2023-07-11T14:02:18.956Z"
   },
   {
    "duration": 9,
    "start_time": "2023-07-11T14:02:18.966Z"
   },
   {
    "duration": 179,
    "start_time": "2023-07-11T14:02:18.977Z"
   },
   {
    "duration": 168,
    "start_time": "2023-07-11T14:02:19.158Z"
   },
   {
    "duration": 21,
    "start_time": "2023-07-11T14:02:52.964Z"
   },
   {
    "duration": 22,
    "start_time": "2023-07-11T14:03:26.095Z"
   },
   {
    "duration": 36,
    "start_time": "2023-07-11T14:03:51.399Z"
   },
   {
    "duration": 1543,
    "start_time": "2023-07-11T14:06:46.112Z"
   },
   {
    "duration": 70,
    "start_time": "2023-07-11T14:06:47.658Z"
   },
   {
    "duration": 138,
    "start_time": "2023-07-11T14:06:47.730Z"
   },
   {
    "duration": 8,
    "start_time": "2023-07-11T14:06:47.870Z"
   },
   {
    "duration": 15,
    "start_time": "2023-07-11T14:06:47.880Z"
   },
   {
    "duration": 32,
    "start_time": "2023-07-11T14:06:47.897Z"
   },
   {
    "duration": 48,
    "start_time": "2023-07-11T14:06:47.930Z"
   },
   {
    "duration": 10,
    "start_time": "2023-07-11T14:06:47.980Z"
   },
   {
    "duration": 187,
    "start_time": "2023-07-11T14:06:47.992Z"
   },
   {
    "duration": 3,
    "start_time": "2023-07-11T14:06:48.182Z"
   },
   {
    "duration": 171,
    "start_time": "2023-07-11T15:27:52.995Z"
   },
   {
    "duration": 13,
    "start_time": "2023-07-11T15:28:12.114Z"
   },
   {
    "duration": 1500,
    "start_time": "2023-07-11T15:28:16.899Z"
   },
   {
    "duration": 69,
    "start_time": "2023-07-11T15:28:18.402Z"
   },
   {
    "duration": 132,
    "start_time": "2023-07-11T15:28:18.472Z"
   },
   {
    "duration": 10,
    "start_time": "2023-07-11T15:28:18.606Z"
   },
   {
    "duration": 10,
    "start_time": "2023-07-11T15:28:18.619Z"
   },
   {
    "duration": 9,
    "start_time": "2023-07-11T15:28:18.655Z"
   },
   {
    "duration": 23,
    "start_time": "2023-07-11T15:28:18.667Z"
   },
   {
    "duration": 10,
    "start_time": "2023-07-11T15:28:18.692Z"
   },
   {
    "duration": 189,
    "start_time": "2023-07-11T15:28:18.704Z"
   },
   {
    "duration": 178,
    "start_time": "2023-07-11T15:28:18.895Z"
   },
   {
    "duration": 6,
    "start_time": "2023-07-11T15:32:17.207Z"
   },
   {
    "duration": 21,
    "start_time": "2023-07-11T16:01:29.525Z"
   },
   {
    "duration": 20,
    "start_time": "2023-07-11T16:01:45.615Z"
   },
   {
    "duration": 22,
    "start_time": "2023-07-11T16:21:28.535Z"
   },
   {
    "duration": 19,
    "start_time": "2023-07-11T16:25:29.911Z"
   },
   {
    "duration": 2,
    "start_time": "2023-07-11T16:26:08.998Z"
   },
   {
    "duration": 17,
    "start_time": "2023-07-11T16:26:10.316Z"
   },
   {
    "duration": 1644,
    "start_time": "2023-07-11T16:26:37.148Z"
   },
   {
    "duration": 57,
    "start_time": "2023-07-11T16:26:38.794Z"
   },
   {
    "duration": 128,
    "start_time": "2023-07-11T16:26:38.853Z"
   },
   {
    "duration": 8,
    "start_time": "2023-07-11T16:26:38.983Z"
   },
   {
    "duration": 5,
    "start_time": "2023-07-11T16:26:38.993Z"
   },
   {
    "duration": 9,
    "start_time": "2023-07-11T16:26:38.999Z"
   },
   {
    "duration": 3,
    "start_time": "2023-07-11T16:26:39.009Z"
   },
   {
    "duration": 53,
    "start_time": "2023-07-11T16:26:39.014Z"
   },
   {
    "duration": 12,
    "start_time": "2023-07-11T16:26:39.069Z"
   },
   {
    "duration": 181,
    "start_time": "2023-07-11T16:26:39.083Z"
   },
   {
    "duration": 166,
    "start_time": "2023-07-11T16:26:39.266Z"
   },
   {
    "duration": 32,
    "start_time": "2023-07-11T16:26:39.434Z"
   },
   {
    "duration": 2,
    "start_time": "2023-07-11T16:26:39.469Z"
   },
   {
    "duration": 20,
    "start_time": "2023-07-11T16:26:39.474Z"
   },
   {
    "duration": 4,
    "start_time": "2023-07-11T16:26:39.496Z"
   },
   {
    "duration": 116,
    "start_time": "2023-07-11T16:45:54.516Z"
   },
   {
    "duration": 5,
    "start_time": "2023-07-11T16:46:00.186Z"
   },
   {
    "duration": 8,
    "start_time": "2023-07-11T16:47:57.946Z"
   },
   {
    "duration": 29,
    "start_time": "2023-07-11T16:48:08.465Z"
   },
   {
    "duration": 35,
    "start_time": "2023-07-11T16:49:00.289Z"
   },
   {
    "duration": 1446,
    "start_time": "2023-07-11T16:49:15.808Z"
   },
   {
    "duration": 57,
    "start_time": "2023-07-11T16:49:17.256Z"
   },
   {
    "duration": 111,
    "start_time": "2023-07-11T16:49:17.315Z"
   },
   {
    "duration": 30,
    "start_time": "2023-07-11T16:49:17.428Z"
   },
   {
    "duration": 5,
    "start_time": "2023-07-11T16:49:17.460Z"
   },
   {
    "duration": 7,
    "start_time": "2023-07-11T16:49:17.467Z"
   },
   {
    "duration": 2,
    "start_time": "2023-07-11T16:49:17.476Z"
   },
   {
    "duration": 14,
    "start_time": "2023-07-11T16:49:17.480Z"
   },
   {
    "duration": 11,
    "start_time": "2023-07-11T16:49:17.496Z"
   },
   {
    "duration": 257,
    "start_time": "2023-07-11T16:49:17.510Z"
   },
   {
    "duration": 170,
    "start_time": "2023-07-11T16:49:17.769Z"
   },
   {
    "duration": 26,
    "start_time": "2023-07-11T16:49:17.941Z"
   },
   {
    "duration": 3,
    "start_time": "2023-07-11T16:49:17.969Z"
   },
   {
    "duration": 19,
    "start_time": "2023-07-11T16:49:17.975Z"
   },
   {
    "duration": 4,
    "start_time": "2023-07-11T16:49:17.996Z"
   },
   {
    "duration": 12,
    "start_time": "2023-07-11T16:49:18.001Z"
   },
   {
    "duration": 71,
    "start_time": "2023-07-11T16:49:18.015Z"
   },
   {
    "duration": 12,
    "start_time": "2023-07-11T16:57:33.789Z"
   },
   {
    "duration": 32,
    "start_time": "2023-07-11T16:57:48.074Z"
   },
   {
    "duration": 34,
    "start_time": "2023-07-11T16:58:14.404Z"
   },
   {
    "duration": 48,
    "start_time": "2023-07-11T16:58:46.931Z"
   },
   {
    "duration": 9,
    "start_time": "2023-07-11T17:02:16.063Z"
   },
   {
    "duration": 40,
    "start_time": "2023-07-11T17:02:18.295Z"
   },
   {
    "duration": 46,
    "start_time": "2023-07-11T17:02:42.582Z"
   },
   {
    "duration": 50,
    "start_time": "2023-07-11T17:03:11.598Z"
   },
   {
    "duration": 1443,
    "start_time": "2023-07-11T17:03:35.097Z"
   },
   {
    "duration": 58,
    "start_time": "2023-07-11T17:03:36.542Z"
   },
   {
    "duration": 110,
    "start_time": "2023-07-11T17:03:36.601Z"
   },
   {
    "duration": 11,
    "start_time": "2023-07-11T17:03:36.714Z"
   },
   {
    "duration": 5,
    "start_time": "2023-07-11T17:03:36.755Z"
   },
   {
    "duration": 9,
    "start_time": "2023-07-11T17:03:36.761Z"
   },
   {
    "duration": 3,
    "start_time": "2023-07-11T17:03:36.771Z"
   },
   {
    "duration": 16,
    "start_time": "2023-07-11T17:03:36.776Z"
   },
   {
    "duration": 17,
    "start_time": "2023-07-11T17:03:36.794Z"
   },
   {
    "duration": 198,
    "start_time": "2023-07-11T17:03:36.813Z"
   },
   {
    "duration": 186,
    "start_time": "2023-07-11T17:03:37.013Z"
   },
   {
    "duration": 14,
    "start_time": "2023-07-11T17:03:37.200Z"
   },
   {
    "duration": 4,
    "start_time": "2023-07-11T17:03:37.216Z"
   },
   {
    "duration": 33,
    "start_time": "2023-07-11T17:03:37.223Z"
   },
   {
    "duration": 4,
    "start_time": "2023-07-11T17:03:37.259Z"
   },
   {
    "duration": 12,
    "start_time": "2023-07-11T17:03:37.264Z"
   },
   {
    "duration": 8,
    "start_time": "2023-07-11T17:03:37.277Z"
   },
   {
    "duration": 85,
    "start_time": "2023-07-11T17:03:37.286Z"
   },
   {
    "duration": 126,
    "start_time": "2023-07-11T17:41:33.824Z"
   },
   {
    "duration": 6,
    "start_time": "2023-07-11T17:41:40.020Z"
   },
   {
    "duration": 920,
    "start_time": "2023-07-11T17:47:30.299Z"
   },
   {
    "duration": 7,
    "start_time": "2023-07-11T17:47:53.193Z"
   },
   {
    "duration": 81,
    "start_time": "2023-07-11T17:49:30.871Z"
   },
   {
    "duration": 11,
    "start_time": "2023-07-11T17:49:37.268Z"
   },
   {
    "duration": 78,
    "start_time": "2023-07-11T17:49:57.705Z"
   },
   {
    "duration": 63,
    "start_time": "2023-07-11T17:50:03.882Z"
   },
   {
    "duration": 104,
    "start_time": "2023-07-11T17:50:08.702Z"
   },
   {
    "duration": 69,
    "start_time": "2023-07-11T17:50:33.817Z"
   },
   {
    "duration": 64,
    "start_time": "2023-07-11T17:50:47.170Z"
   },
   {
    "duration": 19,
    "start_time": "2023-07-11T17:50:52.388Z"
   },
   {
    "duration": 64,
    "start_time": "2023-07-11T17:51:03.394Z"
   },
   {
    "duration": 10,
    "start_time": "2023-07-11T17:51:10.287Z"
   },
   {
    "duration": 54,
    "start_time": "2023-07-11T17:51:18.387Z"
   },
   {
    "duration": 68,
    "start_time": "2023-07-11T17:52:17.404Z"
   },
   {
    "duration": 58,
    "start_time": "2023-07-11T17:52:23.971Z"
   },
   {
    "duration": 77,
    "start_time": "2023-07-11T17:52:42.385Z"
   },
   {
    "duration": 105,
    "start_time": "2023-07-11T17:52:48.586Z"
   },
   {
    "duration": 8,
    "start_time": "2023-07-11T17:53:07.995Z"
   },
   {
    "duration": 9,
    "start_time": "2023-07-11T17:53:15.928Z"
   },
   {
    "duration": 9,
    "start_time": "2023-07-11T17:53:20.224Z"
   },
   {
    "duration": 8,
    "start_time": "2023-07-11T17:53:32.246Z"
   },
   {
    "duration": 81,
    "start_time": "2023-07-11T17:53:48.555Z"
   },
   {
    "duration": 64,
    "start_time": "2023-07-11T17:53:54.469Z"
   },
   {
    "duration": 70,
    "start_time": "2023-07-11T17:54:00.581Z"
   },
   {
    "duration": 92,
    "start_time": "2023-07-11T17:54:07.644Z"
   },
   {
    "duration": 9,
    "start_time": "2023-07-11T17:54:24.083Z"
   },
   {
    "duration": 7,
    "start_time": "2023-07-11T17:54:27.798Z"
   },
   {
    "duration": 8,
    "start_time": "2023-07-11T17:54:55.346Z"
   },
   {
    "duration": 9,
    "start_time": "2023-07-11T17:55:07.889Z"
   },
   {
    "duration": 8,
    "start_time": "2023-07-11T17:55:22.109Z"
   },
   {
    "duration": 7,
    "start_time": "2023-07-11T17:55:29.498Z"
   },
   {
    "duration": 10,
    "start_time": "2023-07-11T17:55:40.427Z"
   },
   {
    "duration": 8,
    "start_time": "2023-07-11T17:56:02.038Z"
   },
   {
    "duration": 9,
    "start_time": "2023-07-11T17:56:15.389Z"
   },
   {
    "duration": 9,
    "start_time": "2023-07-11T17:56:56.547Z"
   },
   {
    "duration": 8,
    "start_time": "2023-07-11T17:57:28.082Z"
   },
   {
    "duration": 60,
    "start_time": "2023-07-11T17:57:40.473Z"
   },
   {
    "duration": 79,
    "start_time": "2023-07-11T17:57:45.369Z"
   },
   {
    "duration": 55,
    "start_time": "2023-07-11T17:57:49.171Z"
   },
   {
    "duration": 122,
    "start_time": "2023-07-11T17:57:58.012Z"
   },
   {
    "duration": 9,
    "start_time": "2023-07-11T17:58:01.334Z"
   },
   {
    "duration": 1638,
    "start_time": "2023-07-11T17:58:27.746Z"
   },
   {
    "duration": 58,
    "start_time": "2023-07-11T17:58:29.386Z"
   },
   {
    "duration": 142,
    "start_time": "2023-07-11T17:58:29.445Z"
   },
   {
    "duration": 9,
    "start_time": "2023-07-11T17:58:29.589Z"
   },
   {
    "duration": 5,
    "start_time": "2023-07-11T17:58:29.601Z"
   },
   {
    "duration": 12,
    "start_time": "2023-07-11T17:58:29.608Z"
   },
   {
    "duration": 3,
    "start_time": "2023-07-11T17:58:29.622Z"
   },
   {
    "duration": 25,
    "start_time": "2023-07-11T17:58:29.655Z"
   },
   {
    "duration": 19,
    "start_time": "2023-07-11T17:58:29.683Z"
   },
   {
    "duration": 189,
    "start_time": "2023-07-11T17:58:29.704Z"
   },
   {
    "duration": 186,
    "start_time": "2023-07-11T17:58:29.895Z"
   },
   {
    "duration": 15,
    "start_time": "2023-07-11T17:58:30.084Z"
   },
   {
    "duration": 24,
    "start_time": "2023-07-11T17:58:30.101Z"
   },
   {
    "duration": 61,
    "start_time": "2023-07-11T17:58:30.129Z"
   },
   {
    "duration": 28,
    "start_time": "2023-07-11T17:58:30.192Z"
   },
   {
    "duration": 31,
    "start_time": "2023-07-11T17:58:30.222Z"
   },
   {
    "duration": 42,
    "start_time": "2023-07-11T17:58:30.256Z"
   },
   {
    "duration": 37,
    "start_time": "2023-07-11T17:58:30.300Z"
   },
   {
    "duration": 36,
    "start_time": "2023-07-11T17:58:30.339Z"
   },
   {
    "duration": 111,
    "start_time": "2023-07-11T17:58:30.377Z"
   },
   {
    "duration": 1587,
    "start_time": "2023-07-12T11:28:51.258Z"
   },
   {
    "duration": 175,
    "start_time": "2023-07-12T11:28:52.847Z"
   },
   {
    "duration": 143,
    "start_time": "2023-07-12T11:28:53.025Z"
   },
   {
    "duration": 9,
    "start_time": "2023-07-12T11:28:53.170Z"
   },
   {
    "duration": 30,
    "start_time": "2023-07-12T11:28:53.181Z"
   },
   {
    "duration": 9,
    "start_time": "2023-07-12T11:28:53.213Z"
   },
   {
    "duration": 8,
    "start_time": "2023-07-12T11:28:53.224Z"
   },
   {
    "duration": 20,
    "start_time": "2023-07-12T11:28:53.234Z"
   },
   {
    "duration": 24,
    "start_time": "2023-07-12T11:28:53.256Z"
   },
   {
    "duration": 152,
    "start_time": "2023-07-12T11:28:53.281Z"
   },
   {
    "duration": 148,
    "start_time": "2023-07-12T11:28:53.435Z"
   },
   {
    "duration": 13,
    "start_time": "2023-07-12T11:28:53.585Z"
   },
   {
    "duration": 8,
    "start_time": "2023-07-12T11:28:53.601Z"
   },
   {
    "duration": 27,
    "start_time": "2023-07-12T11:28:53.613Z"
   },
   {
    "duration": 5,
    "start_time": "2023-07-12T11:28:53.642Z"
   },
   {
    "duration": 24,
    "start_time": "2023-07-12T11:28:53.669Z"
   },
   {
    "duration": 14,
    "start_time": "2023-07-12T11:28:53.695Z"
   },
   {
    "duration": 25,
    "start_time": "2023-07-12T11:28:53.711Z"
   },
   {
    "duration": 28,
    "start_time": "2023-07-12T11:28:53.738Z"
   },
   {
    "duration": 59,
    "start_time": "2023-07-12T11:28:53.768Z"
   },
   {
    "duration": 105,
    "start_time": "2023-07-12T11:30:05.128Z"
   },
   {
    "duration": 1487,
    "start_time": "2023-07-12T12:09:46.257Z"
   },
   {
    "duration": 60,
    "start_time": "2023-07-12T12:09:47.746Z"
   },
   {
    "duration": 119,
    "start_time": "2023-07-12T12:09:47.807Z"
   },
   {
    "duration": 9,
    "start_time": "2023-07-12T12:09:47.928Z"
   },
   {
    "duration": 32,
    "start_time": "2023-07-12T12:09:47.939Z"
   },
   {
    "duration": 10,
    "start_time": "2023-07-12T12:09:47.973Z"
   },
   {
    "duration": 4,
    "start_time": "2023-07-12T12:09:47.984Z"
   },
   {
    "duration": 17,
    "start_time": "2023-07-12T12:09:47.989Z"
   },
   {
    "duration": 12,
    "start_time": "2023-07-12T12:09:48.007Z"
   },
   {
    "duration": 186,
    "start_time": "2023-07-12T12:09:48.020Z"
   },
   {
    "duration": 161,
    "start_time": "2023-07-12T12:09:48.207Z"
   },
   {
    "duration": 15,
    "start_time": "2023-07-12T12:09:48.371Z"
   },
   {
    "duration": 3,
    "start_time": "2023-07-12T12:09:48.388Z"
   },
   {
    "duration": 19,
    "start_time": "2023-07-12T12:09:48.394Z"
   },
   {
    "duration": 5,
    "start_time": "2023-07-12T12:09:48.414Z"
   },
   {
    "duration": 6,
    "start_time": "2023-07-12T12:09:48.423Z"
   },
   {
    "duration": 46,
    "start_time": "2023-07-12T12:09:48.431Z"
   },
   {
    "duration": 12,
    "start_time": "2023-07-12T12:09:48.480Z"
   },
   {
    "duration": 9,
    "start_time": "2023-07-12T12:09:48.494Z"
   },
   {
    "duration": 82,
    "start_time": "2023-07-12T12:09:48.505Z"
   },
   {
    "duration": 132,
    "start_time": "2023-07-12T12:09:48.589Z"
   },
   {
    "duration": 20,
    "start_time": "2023-07-12T12:12:04.487Z"
   },
   {
    "duration": 455,
    "start_time": "2023-07-12T12:12:12.704Z"
   },
   {
    "duration": 1397,
    "start_time": "2023-07-12T12:12:39.963Z"
   },
   {
    "duration": 329,
    "start_time": "2023-07-12T12:12:54.110Z"
   },
   {
    "duration": 301,
    "start_time": "2023-07-12T12:13:52.529Z"
   },
   {
    "duration": 480,
    "start_time": "2023-07-12T12:14:24.766Z"
   },
   {
    "duration": 26,
    "start_time": "2023-07-12T12:19:23.185Z"
   },
   {
    "duration": 477,
    "start_time": "2023-07-12T12:20:38.340Z"
   },
   {
    "duration": 26,
    "start_time": "2023-07-12T12:20:42.167Z"
   },
   {
    "duration": 50153,
    "start_time": "2023-07-12T12:42:53.783Z"
   },
   {
    "duration": 464,
    "start_time": "2023-07-12T12:44:52.934Z"
   },
   {
    "duration": 469,
    "start_time": "2023-07-12T12:45:00.552Z"
   },
   {
    "duration": 455,
    "start_time": "2023-07-12T12:45:07.516Z"
   },
   {
    "duration": 463,
    "start_time": "2023-07-12T12:45:11.768Z"
   },
   {
    "duration": 443,
    "start_time": "2023-07-12T12:45:15.942Z"
   },
   {
    "duration": 478,
    "start_time": "2023-07-12T12:45:20.363Z"
   },
   {
    "duration": 444,
    "start_time": "2023-07-12T12:45:24.323Z"
   },
   {
    "duration": 434,
    "start_time": "2023-07-12T12:45:29.321Z"
   },
   {
    "duration": 452,
    "start_time": "2023-07-12T12:45:34.399Z"
   },
   {
    "duration": 448,
    "start_time": "2023-07-12T12:45:39.306Z"
   },
   {
    "duration": 470,
    "start_time": "2023-07-12T12:45:50.038Z"
   },
   {
    "duration": 486,
    "start_time": "2023-07-12T12:46:02.206Z"
   },
   {
    "duration": 453,
    "start_time": "2023-07-12T12:46:11.507Z"
   },
   {
    "duration": 479,
    "start_time": "2023-07-12T12:46:17.752Z"
   },
   {
    "duration": 493,
    "start_time": "2023-07-12T12:46:21.750Z"
   },
   {
    "duration": 459,
    "start_time": "2023-07-12T12:46:26.544Z"
   },
   {
    "duration": 456,
    "start_time": "2023-07-12T12:46:31.194Z"
   },
   {
    "duration": 506,
    "start_time": "2023-07-12T12:46:34.502Z"
   },
   {
    "duration": 518,
    "start_time": "2023-07-12T12:47:00.995Z"
   },
   {
    "duration": 437,
    "start_time": "2023-07-12T12:47:08.599Z"
   },
   {
    "duration": 419,
    "start_time": "2023-07-12T12:47:13.495Z"
   },
   {
    "duration": 414,
    "start_time": "2023-07-12T12:47:18.114Z"
   },
   {
    "duration": 432,
    "start_time": "2023-07-12T12:47:23.323Z"
   },
   {
    "duration": 435,
    "start_time": "2023-07-12T12:47:35.190Z"
   },
   {
    "duration": 1469,
    "start_time": "2023-07-12T12:48:41.523Z"
   },
   {
    "duration": 57,
    "start_time": "2023-07-12T12:48:42.995Z"
   },
   {
    "duration": 122,
    "start_time": "2023-07-12T12:48:43.054Z"
   },
   {
    "duration": 26,
    "start_time": "2023-07-12T12:48:43.178Z"
   },
   {
    "duration": 6,
    "start_time": "2023-07-12T12:48:43.210Z"
   },
   {
    "duration": 18,
    "start_time": "2023-07-12T12:48:43.217Z"
   },
   {
    "duration": 3,
    "start_time": "2023-07-12T12:48:43.237Z"
   },
   {
    "duration": 20,
    "start_time": "2023-07-12T12:48:43.241Z"
   },
   {
    "duration": 20,
    "start_time": "2023-07-12T12:48:43.263Z"
   },
   {
    "duration": 157,
    "start_time": "2023-07-12T12:48:43.287Z"
   },
   {
    "duration": 158,
    "start_time": "2023-07-12T12:48:43.446Z"
   },
   {
    "duration": 11,
    "start_time": "2023-07-12T12:48:43.605Z"
   },
   {
    "duration": 2,
    "start_time": "2023-07-12T12:48:43.618Z"
   },
   {
    "duration": 19,
    "start_time": "2023-07-12T12:48:43.622Z"
   },
   {
    "duration": 4,
    "start_time": "2023-07-12T12:48:43.642Z"
   },
   {
    "duration": 7,
    "start_time": "2023-07-12T12:48:43.668Z"
   },
   {
    "duration": 16,
    "start_time": "2023-07-12T12:48:43.678Z"
   },
   {
    "duration": 6,
    "start_time": "2023-07-12T12:48:43.695Z"
   },
   {
    "duration": 10,
    "start_time": "2023-07-12T12:48:43.703Z"
   },
   {
    "duration": 77,
    "start_time": "2023-07-12T12:48:43.714Z"
   },
   {
    "duration": 525,
    "start_time": "2023-07-12T12:48:43.793Z"
   },
   {
    "duration": 63,
    "start_time": "2023-07-12T12:48:44.319Z"
   },
   {
    "duration": 53767,
    "start_time": "2023-07-12T12:48:44.384Z"
   },
   {
    "duration": 131,
    "start_time": "2023-07-12T15:04:59.786Z"
   },
   {
    "duration": 1504,
    "start_time": "2023-07-12T15:05:46.039Z"
   },
   {
    "duration": 67,
    "start_time": "2023-07-12T15:05:47.544Z"
   },
   {
    "duration": 130,
    "start_time": "2023-07-12T15:05:47.612Z"
   },
   {
    "duration": 34,
    "start_time": "2023-07-12T15:05:47.744Z"
   },
   {
    "duration": 11,
    "start_time": "2023-07-12T15:05:47.780Z"
   },
   {
    "duration": 10,
    "start_time": "2023-07-12T15:05:47.792Z"
   },
   {
    "duration": 2,
    "start_time": "2023-07-12T15:05:47.804Z"
   },
   {
    "duration": 15,
    "start_time": "2023-07-12T15:05:47.808Z"
   },
   {
    "duration": 11,
    "start_time": "2023-07-12T15:05:47.825Z"
   },
   {
    "duration": 197,
    "start_time": "2023-07-12T15:05:47.838Z"
   },
   {
    "duration": 399,
    "start_time": "2023-07-12T15:05:48.037Z"
   },
   {
    "duration": 0,
    "start_time": "2023-07-12T15:05:48.438Z"
   },
   {
    "duration": 0,
    "start_time": "2023-07-12T15:05:48.439Z"
   },
   {
    "duration": 0,
    "start_time": "2023-07-12T15:05:48.440Z"
   },
   {
    "duration": 0,
    "start_time": "2023-07-12T15:05:48.441Z"
   },
   {
    "duration": 0,
    "start_time": "2023-07-12T15:05:48.442Z"
   },
   {
    "duration": 0,
    "start_time": "2023-07-12T15:05:48.443Z"
   },
   {
    "duration": 0,
    "start_time": "2023-07-12T15:05:48.444Z"
   },
   {
    "duration": 0,
    "start_time": "2023-07-12T15:05:48.445Z"
   },
   {
    "duration": 0,
    "start_time": "2023-07-12T15:05:48.446Z"
   },
   {
    "duration": 0,
    "start_time": "2023-07-12T15:05:48.447Z"
   },
   {
    "duration": 0,
    "start_time": "2023-07-12T15:05:48.448Z"
   },
   {
    "duration": 0,
    "start_time": "2023-07-12T15:05:48.450Z"
   },
   {
    "duration": 130,
    "start_time": "2023-07-12T15:06:03.370Z"
   },
   {
    "duration": 21,
    "start_time": "2023-07-12T15:06:32.643Z"
   },
   {
    "duration": 14,
    "start_time": "2023-07-12T15:07:35.712Z"
   },
   {
    "duration": 1573,
    "start_time": "2023-07-12T15:07:55.623Z"
   },
   {
    "duration": 64,
    "start_time": "2023-07-12T15:07:57.198Z"
   },
   {
    "duration": 135,
    "start_time": "2023-07-12T15:07:57.263Z"
   },
   {
    "duration": 8,
    "start_time": "2023-07-12T15:07:57.400Z"
   },
   {
    "duration": 7,
    "start_time": "2023-07-12T15:07:57.410Z"
   },
   {
    "duration": 11,
    "start_time": "2023-07-12T15:07:57.419Z"
   },
   {
    "duration": 2,
    "start_time": "2023-07-12T15:07:57.432Z"
   },
   {
    "duration": 20,
    "start_time": "2023-07-12T15:07:57.473Z"
   },
   {
    "duration": 11,
    "start_time": "2023-07-12T15:07:57.494Z"
   },
   {
    "duration": 165,
    "start_time": "2023-07-12T15:07:57.507Z"
   },
   {
    "duration": 137,
    "start_time": "2023-07-12T15:07:57.675Z"
   },
   {
    "duration": 0,
    "start_time": "2023-07-12T15:07:57.814Z"
   },
   {
    "duration": 0,
    "start_time": "2023-07-12T15:07:57.816Z"
   },
   {
    "duration": 0,
    "start_time": "2023-07-12T15:07:57.817Z"
   },
   {
    "duration": 0,
    "start_time": "2023-07-12T15:07:57.818Z"
   },
   {
    "duration": 0,
    "start_time": "2023-07-12T15:07:57.819Z"
   },
   {
    "duration": 0,
    "start_time": "2023-07-12T15:07:57.820Z"
   },
   {
    "duration": 0,
    "start_time": "2023-07-12T15:07:57.822Z"
   },
   {
    "duration": 0,
    "start_time": "2023-07-12T15:07:57.823Z"
   },
   {
    "duration": 0,
    "start_time": "2023-07-12T15:07:57.824Z"
   },
   {
    "duration": 0,
    "start_time": "2023-07-12T15:07:57.825Z"
   },
   {
    "duration": 0,
    "start_time": "2023-07-12T15:07:57.826Z"
   },
   {
    "duration": 0,
    "start_time": "2023-07-12T15:07:57.828Z"
   },
   {
    "duration": 13,
    "start_time": "2023-07-12T15:08:52.718Z"
   },
   {
    "duration": 1603,
    "start_time": "2023-07-12T15:09:12.549Z"
   },
   {
    "duration": 87,
    "start_time": "2023-07-12T15:09:14.154Z"
   },
   {
    "duration": 137,
    "start_time": "2023-07-12T15:09:14.243Z"
   },
   {
    "duration": 15,
    "start_time": "2023-07-12T15:09:14.387Z"
   },
   {
    "duration": 7,
    "start_time": "2023-07-12T15:09:14.405Z"
   },
   {
    "duration": 13,
    "start_time": "2023-07-12T15:09:14.414Z"
   },
   {
    "duration": 3,
    "start_time": "2023-07-12T15:09:14.429Z"
   },
   {
    "duration": 57,
    "start_time": "2023-07-12T15:09:14.434Z"
   },
   {
    "duration": 10,
    "start_time": "2023-07-12T15:09:14.498Z"
   },
   {
    "duration": 144,
    "start_time": "2023-07-12T15:09:14.511Z"
   },
   {
    "duration": 128,
    "start_time": "2023-07-12T15:09:14.657Z"
   },
   {
    "duration": 0,
    "start_time": "2023-07-12T15:09:14.787Z"
   },
   {
    "duration": 0,
    "start_time": "2023-07-12T15:09:14.788Z"
   },
   {
    "duration": 0,
    "start_time": "2023-07-12T15:09:14.790Z"
   },
   {
    "duration": 0,
    "start_time": "2023-07-12T15:09:14.791Z"
   },
   {
    "duration": 0,
    "start_time": "2023-07-12T15:09:14.792Z"
   },
   {
    "duration": 0,
    "start_time": "2023-07-12T15:09:14.793Z"
   },
   {
    "duration": 0,
    "start_time": "2023-07-12T15:09:14.794Z"
   },
   {
    "duration": 0,
    "start_time": "2023-07-12T15:09:14.795Z"
   },
   {
    "duration": 0,
    "start_time": "2023-07-12T15:09:14.796Z"
   },
   {
    "duration": 0,
    "start_time": "2023-07-12T15:09:14.797Z"
   },
   {
    "duration": 0,
    "start_time": "2023-07-12T15:09:14.798Z"
   },
   {
    "duration": 0,
    "start_time": "2023-07-12T15:09:14.799Z"
   },
   {
    "duration": 12,
    "start_time": "2023-07-12T15:10:01.927Z"
   },
   {
    "duration": 1485,
    "start_time": "2023-07-12T15:10:22.010Z"
   },
   {
    "duration": 57,
    "start_time": "2023-07-12T15:10:23.496Z"
   },
   {
    "duration": 127,
    "start_time": "2023-07-12T15:10:23.555Z"
   },
   {
    "duration": 10,
    "start_time": "2023-07-12T15:10:23.685Z"
   },
   {
    "duration": 5,
    "start_time": "2023-07-12T15:10:23.696Z"
   },
   {
    "duration": 10,
    "start_time": "2023-07-12T15:10:23.702Z"
   },
   {
    "duration": 2,
    "start_time": "2023-07-12T15:10:23.713Z"
   },
   {
    "duration": 14,
    "start_time": "2023-07-12T15:10:23.717Z"
   },
   {
    "duration": 43,
    "start_time": "2023-07-12T15:10:23.732Z"
   },
   {
    "duration": 147,
    "start_time": "2023-07-12T15:10:23.782Z"
   },
   {
    "duration": 168,
    "start_time": "2023-07-12T15:10:23.930Z"
   },
   {
    "duration": 0,
    "start_time": "2023-07-12T15:10:24.102Z"
   },
   {
    "duration": 0,
    "start_time": "2023-07-12T15:10:24.104Z"
   },
   {
    "duration": 0,
    "start_time": "2023-07-12T15:10:24.107Z"
   },
   {
    "duration": 0,
    "start_time": "2023-07-12T15:10:24.108Z"
   },
   {
    "duration": 0,
    "start_time": "2023-07-12T15:10:24.110Z"
   },
   {
    "duration": 0,
    "start_time": "2023-07-12T15:10:24.111Z"
   },
   {
    "duration": 0,
    "start_time": "2023-07-12T15:10:24.112Z"
   },
   {
    "duration": 0,
    "start_time": "2023-07-12T15:10:24.113Z"
   },
   {
    "duration": 0,
    "start_time": "2023-07-12T15:10:24.114Z"
   },
   {
    "duration": 0,
    "start_time": "2023-07-12T15:10:24.116Z"
   },
   {
    "duration": 0,
    "start_time": "2023-07-12T15:10:24.117Z"
   },
   {
    "duration": 0,
    "start_time": "2023-07-12T15:10:24.118Z"
   },
   {
    "duration": 26,
    "start_time": "2023-07-12T15:11:25.954Z"
   },
   {
    "duration": 1581,
    "start_time": "2023-07-12T15:11:42.157Z"
   },
   {
    "duration": 65,
    "start_time": "2023-07-12T15:11:43.740Z"
   },
   {
    "duration": 122,
    "start_time": "2023-07-12T15:11:43.807Z"
   },
   {
    "duration": 21,
    "start_time": "2023-07-12T15:11:43.932Z"
   },
   {
    "duration": 18,
    "start_time": "2023-07-12T15:11:43.968Z"
   },
   {
    "duration": 16,
    "start_time": "2023-07-12T15:11:43.988Z"
   },
   {
    "duration": 5,
    "start_time": "2023-07-12T15:11:44.006Z"
   },
   {
    "duration": 18,
    "start_time": "2023-07-12T15:11:44.013Z"
   },
   {
    "duration": 13,
    "start_time": "2023-07-12T15:11:44.033Z"
   },
   {
    "duration": 202,
    "start_time": "2023-07-12T15:11:44.050Z"
   },
   {
    "duration": 173,
    "start_time": "2023-07-12T15:11:44.254Z"
   },
   {
    "duration": 0,
    "start_time": "2023-07-12T15:11:44.429Z"
   },
   {
    "duration": 0,
    "start_time": "2023-07-12T15:11:44.430Z"
   },
   {
    "duration": 0,
    "start_time": "2023-07-12T15:11:44.431Z"
   },
   {
    "duration": 0,
    "start_time": "2023-07-12T15:11:44.433Z"
   },
   {
    "duration": 0,
    "start_time": "2023-07-12T15:11:44.434Z"
   },
   {
    "duration": 0,
    "start_time": "2023-07-12T15:11:44.435Z"
   },
   {
    "duration": 0,
    "start_time": "2023-07-12T15:11:44.437Z"
   },
   {
    "duration": 0,
    "start_time": "2023-07-12T15:11:44.438Z"
   },
   {
    "duration": 0,
    "start_time": "2023-07-12T15:11:44.438Z"
   },
   {
    "duration": 0,
    "start_time": "2023-07-12T15:11:44.440Z"
   },
   {
    "duration": 0,
    "start_time": "2023-07-12T15:11:44.441Z"
   },
   {
    "duration": 0,
    "start_time": "2023-07-12T15:11:44.442Z"
   },
   {
    "duration": 10,
    "start_time": "2023-07-12T15:11:59.745Z"
   },
   {
    "duration": 70,
    "start_time": "2023-07-12T15:13:15.261Z"
   },
   {
    "duration": 95,
    "start_time": "2023-07-12T15:13:26.797Z"
   },
   {
    "duration": 78,
    "start_time": "2023-07-12T15:13:35.038Z"
   },
   {
    "duration": 13,
    "start_time": "2023-07-12T15:14:30.713Z"
   },
   {
    "duration": 1629,
    "start_time": "2023-07-12T15:15:42.424Z"
   },
   {
    "duration": 85,
    "start_time": "2023-07-12T15:15:44.055Z"
   },
   {
    "duration": 150,
    "start_time": "2023-07-12T15:15:44.143Z"
   },
   {
    "duration": 17,
    "start_time": "2023-07-12T15:15:44.295Z"
   },
   {
    "duration": 55,
    "start_time": "2023-07-12T15:15:44.315Z"
   },
   {
    "duration": 11,
    "start_time": "2023-07-12T15:15:44.372Z"
   },
   {
    "duration": 2,
    "start_time": "2023-07-12T15:15:44.385Z"
   },
   {
    "duration": 22,
    "start_time": "2023-07-12T15:15:44.389Z"
   },
   {
    "duration": 62,
    "start_time": "2023-07-12T15:15:44.415Z"
   },
   {
    "duration": 326,
    "start_time": "2023-07-12T15:15:44.480Z"
   },
   {
    "duration": 7,
    "start_time": "2023-07-12T15:15:44.807Z"
   },
   {
    "duration": 313,
    "start_time": "2023-07-12T15:15:44.871Z"
   },
   {
    "duration": 1,
    "start_time": "2023-07-12T15:15:45.186Z"
   },
   {
    "duration": 0,
    "start_time": "2023-07-12T15:15:45.188Z"
   },
   {
    "duration": 0,
    "start_time": "2023-07-12T15:15:45.189Z"
   },
   {
    "duration": 0,
    "start_time": "2023-07-12T15:15:45.190Z"
   },
   {
    "duration": 0,
    "start_time": "2023-07-12T15:15:45.192Z"
   },
   {
    "duration": 0,
    "start_time": "2023-07-12T15:15:45.193Z"
   },
   {
    "duration": 0,
    "start_time": "2023-07-12T15:15:45.194Z"
   },
   {
    "duration": 0,
    "start_time": "2023-07-12T15:15:45.195Z"
   },
   {
    "duration": 0,
    "start_time": "2023-07-12T15:15:45.195Z"
   },
   {
    "duration": 0,
    "start_time": "2023-07-12T15:15:45.201Z"
   },
   {
    "duration": 0,
    "start_time": "2023-07-12T15:15:45.202Z"
   },
   {
    "duration": 9,
    "start_time": "2023-07-12T15:16:18.938Z"
   },
   {
    "duration": 9,
    "start_time": "2023-07-12T15:16:28.644Z"
   },
   {
    "duration": 10,
    "start_time": "2023-07-12T15:16:49.707Z"
   },
   {
    "duration": 1561,
    "start_time": "2023-07-12T15:17:48.235Z"
   },
   {
    "duration": 58,
    "start_time": "2023-07-12T15:17:49.802Z"
   },
   {
    "duration": 137,
    "start_time": "2023-07-12T15:17:49.861Z"
   },
   {
    "duration": 11,
    "start_time": "2023-07-12T15:17:50.000Z"
   },
   {
    "duration": 34,
    "start_time": "2023-07-12T15:17:50.013Z"
   },
   {
    "duration": 18,
    "start_time": "2023-07-12T15:17:50.048Z"
   },
   {
    "duration": 10,
    "start_time": "2023-07-12T15:17:50.068Z"
   },
   {
    "duration": 48,
    "start_time": "2023-07-12T15:17:50.080Z"
   },
   {
    "duration": 14,
    "start_time": "2023-07-12T15:17:50.130Z"
   },
   {
    "duration": 157,
    "start_time": "2023-07-12T15:17:50.145Z"
   },
   {
    "duration": 4,
    "start_time": "2023-07-12T15:17:50.303Z"
   },
   {
    "duration": 29,
    "start_time": "2023-07-12T15:17:50.309Z"
   },
   {
    "duration": 3,
    "start_time": "2023-07-12T15:17:50.340Z"
   },
   {
    "duration": 8,
    "start_time": "2023-07-12T15:17:50.346Z"
   },
   {
    "duration": 17,
    "start_time": "2023-07-12T15:17:50.356Z"
   },
   {
    "duration": 9,
    "start_time": "2023-07-12T15:17:50.375Z"
   },
   {
    "duration": 13,
    "start_time": "2023-07-12T15:17:50.385Z"
   },
   {
    "duration": 80,
    "start_time": "2023-07-12T15:17:50.400Z"
   },
   {
    "duration": 204,
    "start_time": "2023-07-12T15:17:50.481Z"
   },
   {
    "duration": 120,
    "start_time": "2023-07-12T15:17:50.687Z"
   },
   {
    "duration": 97,
    "start_time": "2023-07-12T15:17:50.808Z"
   },
   {
    "duration": 14,
    "start_time": "2023-07-12T15:18:57.232Z"
   },
   {
    "duration": 11,
    "start_time": "2023-07-12T15:19:08.355Z"
   },
   {
    "duration": 14,
    "start_time": "2023-07-12T15:19:52.494Z"
   },
   {
    "duration": 14,
    "start_time": "2023-07-12T15:22:44.069Z"
   },
   {
    "duration": 1620,
    "start_time": "2023-07-12T15:23:01.008Z"
   },
   {
    "duration": 76,
    "start_time": "2023-07-12T15:23:02.630Z"
   },
   {
    "duration": 101,
    "start_time": "2023-07-12T15:23:02.707Z"
   },
   {
    "duration": 6,
    "start_time": "2023-07-12T15:23:02.810Z"
   },
   {
    "duration": 12,
    "start_time": "2023-07-12T15:23:02.818Z"
   },
   {
    "duration": 11,
    "start_time": "2023-07-12T15:23:02.831Z"
   },
   {
    "duration": 28,
    "start_time": "2023-07-12T15:23:02.843Z"
   },
   {
    "duration": 24,
    "start_time": "2023-07-12T15:23:02.873Z"
   },
   {
    "duration": 8,
    "start_time": "2023-07-12T15:23:02.899Z"
   },
   {
    "duration": 151,
    "start_time": "2023-07-12T15:23:02.908Z"
   },
   {
    "duration": 32,
    "start_time": "2023-07-12T15:23:03.061Z"
   },
   {
    "duration": 5,
    "start_time": "2023-07-12T15:23:03.098Z"
   },
   {
    "duration": 19,
    "start_time": "2023-07-12T15:23:03.105Z"
   },
   {
    "duration": 4,
    "start_time": "2023-07-12T15:23:03.127Z"
   },
   {
    "duration": 11,
    "start_time": "2023-07-12T15:23:03.132Z"
   },
   {
    "duration": 26,
    "start_time": "2023-07-12T15:23:03.144Z"
   },
   {
    "duration": 8,
    "start_time": "2023-07-12T15:23:03.172Z"
   },
   {
    "duration": 31,
    "start_time": "2023-07-12T15:23:03.182Z"
   },
   {
    "duration": 63,
    "start_time": "2023-07-12T15:23:03.215Z"
   },
   {
    "duration": 458,
    "start_time": "2023-07-12T15:23:03.280Z"
   },
   {
    "duration": 35,
    "start_time": "2023-07-12T15:23:03.740Z"
   },
   {
    "duration": 53774,
    "start_time": "2023-07-12T15:23:03.777Z"
   },
   {
    "duration": 1659,
    "start_time": "2023-07-12T15:26:13.238Z"
   },
   {
    "duration": 56,
    "start_time": "2023-07-12T15:26:14.899Z"
   },
   {
    "duration": 136,
    "start_time": "2023-07-12T15:26:14.956Z"
   },
   {
    "duration": 9,
    "start_time": "2023-07-12T15:26:15.099Z"
   },
   {
    "duration": 14,
    "start_time": "2023-07-12T15:26:15.110Z"
   },
   {
    "duration": 16,
    "start_time": "2023-07-12T15:26:15.126Z"
   },
   {
    "duration": 5,
    "start_time": "2023-07-12T15:26:15.143Z"
   },
   {
    "duration": 28,
    "start_time": "2023-07-12T15:26:15.150Z"
   },
   {
    "duration": 20,
    "start_time": "2023-07-12T15:26:15.180Z"
   },
   {
    "duration": 153,
    "start_time": "2023-07-12T15:26:15.202Z"
   },
   {
    "duration": 22,
    "start_time": "2023-07-12T15:26:15.357Z"
   },
   {
    "duration": 4,
    "start_time": "2023-07-12T15:26:15.380Z"
   },
   {
    "duration": 24,
    "start_time": "2023-07-12T15:26:15.385Z"
   },
   {
    "duration": 4,
    "start_time": "2023-07-12T15:26:15.411Z"
   },
   {
    "duration": 6,
    "start_time": "2023-07-12T15:26:15.417Z"
   },
   {
    "duration": 9,
    "start_time": "2023-07-12T15:26:15.424Z"
   },
   {
    "duration": 39,
    "start_time": "2023-07-12T15:26:15.435Z"
   },
   {
    "duration": 12,
    "start_time": "2023-07-12T15:26:15.476Z"
   },
   {
    "duration": 104,
    "start_time": "2023-07-12T15:26:15.490Z"
   },
   {
    "duration": 1112,
    "start_time": "2023-07-12T15:26:15.596Z"
   },
   {
    "duration": 168,
    "start_time": "2023-07-12T15:26:16.709Z"
   },
   {
    "duration": 2120,
    "start_time": "2023-07-12T15:27:07.097Z"
   },
   {
    "duration": 100,
    "start_time": "2023-07-12T15:27:09.269Z"
   },
   {
    "duration": 241,
    "start_time": "2023-07-12T15:27:09.372Z"
   },
   {
    "duration": 56,
    "start_time": "2023-07-12T15:27:09.615Z"
   },
   {
    "duration": 8,
    "start_time": "2023-07-12T15:27:09.674Z"
   },
   {
    "duration": 23,
    "start_time": "2023-07-12T15:27:09.684Z"
   },
   {
    "duration": 16,
    "start_time": "2023-07-12T15:27:09.709Z"
   },
   {
    "duration": 55,
    "start_time": "2023-07-12T15:27:09.727Z"
   },
   {
    "duration": 18,
    "start_time": "2023-07-12T15:27:09.785Z"
   },
   {
    "duration": 315,
    "start_time": "2023-07-12T15:27:09.805Z"
   },
   {
    "duration": 125,
    "start_time": "2023-07-12T15:27:10.121Z"
   },
   {
    "duration": 0,
    "start_time": "2023-07-12T15:27:10.248Z"
   },
   {
    "duration": 0,
    "start_time": "2023-07-12T15:27:10.249Z"
   },
   {
    "duration": 0,
    "start_time": "2023-07-12T15:27:10.250Z"
   },
   {
    "duration": 0,
    "start_time": "2023-07-12T15:27:10.251Z"
   },
   {
    "duration": 0,
    "start_time": "2023-07-12T15:27:10.252Z"
   },
   {
    "duration": 0,
    "start_time": "2023-07-12T15:27:10.253Z"
   },
   {
    "duration": 1,
    "start_time": "2023-07-12T15:27:10.254Z"
   },
   {
    "duration": 0,
    "start_time": "2023-07-12T15:27:10.256Z"
   },
   {
    "duration": 0,
    "start_time": "2023-07-12T15:27:10.258Z"
   },
   {
    "duration": 0,
    "start_time": "2023-07-12T15:27:10.278Z"
   },
   {
    "duration": 0,
    "start_time": "2023-07-12T15:27:10.285Z"
   },
   {
    "duration": 21,
    "start_time": "2023-07-12T15:27:22.567Z"
   },
   {
    "duration": 15,
    "start_time": "2023-07-12T15:27:25.455Z"
   },
   {
    "duration": 15,
    "start_time": "2023-07-12T15:27:39.594Z"
   },
   {
    "duration": 1589,
    "start_time": "2023-07-12T15:27:45.604Z"
   },
   {
    "duration": 59,
    "start_time": "2023-07-12T15:27:47.196Z"
   },
   {
    "duration": 136,
    "start_time": "2023-07-12T15:27:47.257Z"
   },
   {
    "duration": 10,
    "start_time": "2023-07-12T15:27:47.398Z"
   },
   {
    "duration": 5,
    "start_time": "2023-07-12T15:27:47.410Z"
   },
   {
    "duration": 61,
    "start_time": "2023-07-12T15:27:47.417Z"
   },
   {
    "duration": 3,
    "start_time": "2023-07-12T15:27:47.480Z"
   },
   {
    "duration": 19,
    "start_time": "2023-07-12T15:27:47.485Z"
   },
   {
    "duration": 66,
    "start_time": "2023-07-12T15:27:47.506Z"
   },
   {
    "duration": 315,
    "start_time": "2023-07-12T15:27:47.575Z"
   },
   {
    "duration": 19,
    "start_time": "2023-07-12T15:27:47.892Z"
   },
   {
    "duration": 3,
    "start_time": "2023-07-12T15:27:47.912Z"
   },
   {
    "duration": 84,
    "start_time": "2023-07-12T15:27:47.916Z"
   },
   {
    "duration": 4,
    "start_time": "2023-07-12T15:27:48.002Z"
   },
   {
    "duration": 21,
    "start_time": "2023-07-12T15:27:48.007Z"
   },
   {
    "duration": 13,
    "start_time": "2023-07-12T15:27:48.070Z"
   },
   {
    "duration": 8,
    "start_time": "2023-07-12T15:27:48.085Z"
   },
   {
    "duration": 13,
    "start_time": "2023-07-12T15:27:48.096Z"
   },
   {
    "duration": 164,
    "start_time": "2023-07-12T15:27:48.111Z"
   },
   {
    "duration": 1034,
    "start_time": "2023-07-12T15:27:48.277Z"
   },
   {
    "duration": 257,
    "start_time": "2023-07-12T15:27:49.312Z"
   },
   {
    "duration": 51323,
    "start_time": "2023-07-12T15:27:49.574Z"
   },
   {
    "duration": 1551,
    "start_time": "2023-07-12T15:29:02.804Z"
   },
   {
    "duration": 72,
    "start_time": "2023-07-12T15:29:04.361Z"
   },
   {
    "duration": 107,
    "start_time": "2023-07-12T15:29:04.435Z"
   },
   {
    "duration": 7,
    "start_time": "2023-07-12T15:29:04.544Z"
   },
   {
    "duration": 36,
    "start_time": "2023-07-12T15:29:04.553Z"
   },
   {
    "duration": 8,
    "start_time": "2023-07-12T15:29:04.591Z"
   },
   {
    "duration": 12,
    "start_time": "2023-07-12T15:29:04.601Z"
   },
   {
    "duration": 23,
    "start_time": "2023-07-12T15:29:04.614Z"
   },
   {
    "duration": 13,
    "start_time": "2023-07-12T15:29:04.638Z"
   },
   {
    "duration": 155,
    "start_time": "2023-07-12T15:29:04.652Z"
   },
   {
    "duration": 13,
    "start_time": "2023-07-12T15:29:04.809Z"
   },
   {
    "duration": 2,
    "start_time": "2023-07-12T15:29:04.824Z"
   },
   {
    "duration": 49,
    "start_time": "2023-07-12T15:29:04.827Z"
   },
   {
    "duration": 5,
    "start_time": "2023-07-12T15:29:04.879Z"
   },
   {
    "duration": 12,
    "start_time": "2023-07-12T15:29:04.886Z"
   },
   {
    "duration": 16,
    "start_time": "2023-07-12T15:29:04.899Z"
   },
   {
    "duration": 7,
    "start_time": "2023-07-12T15:29:04.916Z"
   },
   {
    "duration": 10,
    "start_time": "2023-07-12T15:29:04.925Z"
   },
   {
    "duration": 80,
    "start_time": "2023-07-12T15:29:04.936Z"
   },
   {
    "duration": 473,
    "start_time": "2023-07-12T15:29:05.018Z"
   },
   {
    "duration": 74,
    "start_time": "2023-07-12T15:29:05.496Z"
   },
   {
    "duration": 52791,
    "start_time": "2023-07-12T15:29:05.572Z"
   },
   {
    "duration": 455,
    "start_time": "2023-07-12T15:30:58.608Z"
   },
   {
    "duration": 464,
    "start_time": "2023-07-12T15:31:07.958Z"
   },
   {
    "duration": 479,
    "start_time": "2023-07-12T15:31:20.543Z"
   },
   {
    "duration": 442,
    "start_time": "2023-07-12T15:31:30.921Z"
   },
   {
    "duration": 464,
    "start_time": "2023-07-12T15:31:35.934Z"
   },
   {
    "duration": 445,
    "start_time": "2023-07-12T15:31:44.259Z"
   },
   {
    "duration": 507,
    "start_time": "2023-07-12T15:47:40.862Z"
   },
   {
    "duration": 96,
    "start_time": "2023-07-12T15:48:39.795Z"
   },
   {
    "duration": 53750,
    "start_time": "2023-07-12T15:49:25.514Z"
   },
   {
    "duration": 1780,
    "start_time": "2023-07-12T15:50:30.715Z"
   },
   {
    "duration": 56,
    "start_time": "2023-07-12T15:50:32.497Z"
   },
   {
    "duration": 125,
    "start_time": "2023-07-12T15:50:32.555Z"
   },
   {
    "duration": 8,
    "start_time": "2023-07-12T15:50:32.683Z"
   },
   {
    "duration": 21,
    "start_time": "2023-07-12T15:50:32.693Z"
   },
   {
    "duration": 24,
    "start_time": "2023-07-12T15:50:32.715Z"
   },
   {
    "duration": 9,
    "start_time": "2023-07-12T15:50:32.741Z"
   },
   {
    "duration": 50,
    "start_time": "2023-07-12T15:50:32.752Z"
   },
   {
    "duration": 21,
    "start_time": "2023-07-12T15:50:32.804Z"
   },
   {
    "duration": 160,
    "start_time": "2023-07-12T15:50:32.827Z"
   },
   {
    "duration": 16,
    "start_time": "2023-07-12T15:50:32.989Z"
   },
   {
    "duration": 2,
    "start_time": "2023-07-12T15:50:33.007Z"
   },
   {
    "duration": 21,
    "start_time": "2023-07-12T15:50:33.011Z"
   },
   {
    "duration": 4,
    "start_time": "2023-07-12T15:50:33.034Z"
   },
   {
    "duration": 31,
    "start_time": "2023-07-12T15:50:33.039Z"
   },
   {
    "duration": 16,
    "start_time": "2023-07-12T15:50:33.072Z"
   },
   {
    "duration": 9,
    "start_time": "2023-07-12T15:50:33.090Z"
   },
   {
    "duration": 8,
    "start_time": "2023-07-12T15:50:33.101Z"
   },
   {
    "duration": 90,
    "start_time": "2023-07-12T15:50:33.111Z"
   },
   {
    "duration": 495,
    "start_time": "2023-07-12T15:50:33.203Z"
   },
   {
    "duration": 73,
    "start_time": "2023-07-12T15:50:33.700Z"
   },
   {
    "duration": 49175,
    "start_time": "2023-07-12T15:50:33.775Z"
   },
   {
    "duration": 483,
    "start_time": "2023-07-12T15:51:22.952Z"
   },
   {
    "duration": 40,
    "start_time": "2023-07-12T15:51:23.436Z"
   },
   {
    "duration": 50616,
    "start_time": "2023-07-12T15:51:23.479Z"
   },
   {
    "duration": 16,
    "start_time": "2023-07-12T16:23:08.424Z"
   },
   {
    "duration": 16,
    "start_time": "2023-07-12T16:23:29.241Z"
   },
   {
    "duration": 14,
    "start_time": "2023-07-12T16:23:30.499Z"
   },
   {
    "duration": 113,
    "start_time": "2023-07-12T16:24:41.805Z"
   },
   {
    "duration": 519,
    "start_time": "2023-07-12T16:27:03.735Z"
   },
   {
    "duration": 478,
    "start_time": "2023-07-12T16:27:08.342Z"
   },
   {
    "duration": 496,
    "start_time": "2023-07-12T16:27:12.810Z"
   },
   {
    "duration": 480,
    "start_time": "2023-07-12T16:27:17.982Z"
   },
   {
    "duration": 497,
    "start_time": "2023-07-12T16:27:22.333Z"
   },
   {
    "duration": 534,
    "start_time": "2023-07-12T16:27:26.212Z"
   },
   {
    "duration": 466,
    "start_time": "2023-07-12T16:27:29.591Z"
   },
   {
    "duration": 548,
    "start_time": "2023-07-12T16:27:35.695Z"
   },
   {
    "duration": 485,
    "start_time": "2023-07-12T16:27:43.039Z"
   },
   {
    "duration": 538,
    "start_time": "2023-07-12T16:27:49.770Z"
   },
   {
    "duration": 567,
    "start_time": "2023-07-12T16:27:53.854Z"
   },
   {
    "duration": 477,
    "start_time": "2023-07-12T16:27:59.195Z"
   },
   {
    "duration": 521,
    "start_time": "2023-07-12T16:28:04.116Z"
   },
   {
    "duration": 482,
    "start_time": "2023-07-12T16:28:11.121Z"
   },
   {
    "duration": 815,
    "start_time": "2023-07-12T16:29:43.098Z"
   },
   {
    "duration": 853,
    "start_time": "2023-07-12T16:29:50.597Z"
   },
   {
    "duration": 851,
    "start_time": "2023-07-12T16:30:06.446Z"
   },
   {
    "duration": 829,
    "start_time": "2023-07-12T16:30:12.600Z"
   },
   {
    "duration": 815,
    "start_time": "2023-07-12T16:30:18.193Z"
   },
   {
    "duration": 476,
    "start_time": "2023-07-12T16:30:41.299Z"
   },
   {
    "duration": 842,
    "start_time": "2023-07-12T16:30:52.902Z"
   },
   {
    "duration": 1591,
    "start_time": "2023-07-12T16:31:05.721Z"
   },
   {
    "duration": 78,
    "start_time": "2023-07-12T16:31:07.314Z"
   },
   {
    "duration": 127,
    "start_time": "2023-07-12T16:31:07.394Z"
   },
   {
    "duration": 9,
    "start_time": "2023-07-12T16:31:07.523Z"
   },
   {
    "duration": 5,
    "start_time": "2023-07-12T16:31:07.534Z"
   },
   {
    "duration": 29,
    "start_time": "2023-07-12T16:31:07.540Z"
   },
   {
    "duration": 10,
    "start_time": "2023-07-12T16:31:07.570Z"
   },
   {
    "duration": 24,
    "start_time": "2023-07-12T16:31:07.581Z"
   },
   {
    "duration": 9,
    "start_time": "2023-07-12T16:31:07.606Z"
   },
   {
    "duration": 175,
    "start_time": "2023-07-12T16:31:07.617Z"
   },
   {
    "duration": 19,
    "start_time": "2023-07-12T16:31:07.794Z"
   },
   {
    "duration": 3,
    "start_time": "2023-07-12T16:31:07.814Z"
   },
   {
    "duration": 23,
    "start_time": "2023-07-12T16:31:07.819Z"
   },
   {
    "duration": 4,
    "start_time": "2023-07-12T16:31:07.844Z"
   },
   {
    "duration": 29,
    "start_time": "2023-07-12T16:31:07.849Z"
   },
   {
    "duration": 20,
    "start_time": "2023-07-12T16:31:07.880Z"
   },
   {
    "duration": 9,
    "start_time": "2023-07-12T16:31:07.901Z"
   },
   {
    "duration": 16,
    "start_time": "2023-07-12T16:31:07.911Z"
   },
   {
    "duration": 83,
    "start_time": "2023-07-12T16:31:07.928Z"
   },
   {
    "duration": 516,
    "start_time": "2023-07-12T16:31:08.014Z"
   },
   {
    "duration": 57,
    "start_time": "2023-07-12T16:31:08.532Z"
   },
   {
    "duration": 53899,
    "start_time": "2023-07-12T16:31:08.591Z"
   },
   {
    "duration": 484,
    "start_time": "2023-07-12T16:32:02.494Z"
   },
   {
    "duration": 91,
    "start_time": "2023-07-12T16:32:02.981Z"
   },
   {
    "duration": 52461,
    "start_time": "2023-07-12T16:32:03.076Z"
   },
   {
    "duration": 15,
    "start_time": "2023-07-12T16:32:55.539Z"
   },
   {
    "duration": 865,
    "start_time": "2023-07-12T16:32:55.555Z"
   },
   {
    "duration": 774,
    "start_time": "2023-07-12T16:33:12.749Z"
   },
   {
    "duration": 765,
    "start_time": "2023-07-12T16:33:20.219Z"
   },
   {
    "duration": 699,
    "start_time": "2023-07-12T16:33:24.752Z"
   },
   {
    "duration": 761,
    "start_time": "2023-07-12T16:33:29.039Z"
   },
   {
    "duration": 816,
    "start_time": "2023-07-12T16:33:32.999Z"
   },
   {
    "duration": 760,
    "start_time": "2023-07-12T16:33:36.151Z"
   },
   {
    "duration": 771,
    "start_time": "2023-07-12T16:33:40.056Z"
   },
   {
    "duration": 770,
    "start_time": "2023-07-12T16:33:44.294Z"
   },
   {
    "duration": 778,
    "start_time": "2023-07-12T16:33:48.669Z"
   },
   {
    "duration": 780,
    "start_time": "2023-07-12T16:33:52.353Z"
   },
   {
    "duration": 39,
    "start_time": "2023-07-12T16:35:16.915Z"
   },
   {
    "duration": 88774,
    "start_time": "2023-07-12T16:35:18.155Z"
   },
   {
    "duration": 11,
    "start_time": "2023-07-12T16:37:38.800Z"
   },
   {
    "duration": 1608,
    "start_time": "2023-07-12T16:41:24.604Z"
   },
   {
    "duration": 68,
    "start_time": "2023-07-12T16:41:26.214Z"
   },
   {
    "duration": 162,
    "start_time": "2023-07-12T16:41:26.285Z"
   },
   {
    "duration": 20,
    "start_time": "2023-07-12T16:41:26.449Z"
   },
   {
    "duration": 11,
    "start_time": "2023-07-12T16:41:26.473Z"
   },
   {
    "duration": 14,
    "start_time": "2023-07-12T16:41:26.490Z"
   },
   {
    "duration": 10,
    "start_time": "2023-07-12T16:41:26.506Z"
   },
   {
    "duration": 17,
    "start_time": "2023-07-12T16:41:26.518Z"
   },
   {
    "duration": 37,
    "start_time": "2023-07-12T16:41:26.538Z"
   },
   {
    "duration": 200,
    "start_time": "2023-07-12T16:41:26.577Z"
   },
   {
    "duration": 28,
    "start_time": "2023-07-12T16:41:26.779Z"
   },
   {
    "duration": 2,
    "start_time": "2023-07-12T16:41:26.809Z"
   },
   {
    "duration": 20,
    "start_time": "2023-07-12T16:41:26.813Z"
   },
   {
    "duration": 20,
    "start_time": "2023-07-12T16:41:26.836Z"
   },
   {
    "duration": 21,
    "start_time": "2023-07-12T16:41:26.858Z"
   },
   {
    "duration": 19,
    "start_time": "2023-07-12T16:41:26.881Z"
   },
   {
    "duration": 8,
    "start_time": "2023-07-12T16:41:26.904Z"
   },
   {
    "duration": 7,
    "start_time": "2023-07-12T16:41:26.914Z"
   },
   {
    "duration": 93,
    "start_time": "2023-07-12T16:41:26.923Z"
   },
   {
    "duration": 517,
    "start_time": "2023-07-12T16:41:27.019Z"
   },
   {
    "duration": 151,
    "start_time": "2023-07-12T16:41:27.537Z"
   },
   {
    "duration": 54238,
    "start_time": "2023-07-12T16:41:27.694Z"
   },
   {
    "duration": 494,
    "start_time": "2023-07-12T16:42:21.933Z"
   },
   {
    "duration": 149,
    "start_time": "2023-07-12T16:42:22.429Z"
   },
   {
    "duration": 54925,
    "start_time": "2023-07-12T16:42:22.582Z"
   },
   {
    "duration": 18,
    "start_time": "2023-07-12T16:43:17.509Z"
   },
   {
    "duration": 805,
    "start_time": "2023-07-12T16:43:17.528Z"
   },
   {
    "duration": 149,
    "start_time": "2023-07-12T16:43:18.334Z"
   },
   {
    "duration": 92718,
    "start_time": "2023-07-12T16:43:18.488Z"
   },
   {
    "duration": 12,
    "start_time": "2023-07-12T16:44:51.209Z"
   },
   {
    "duration": 243,
    "start_time": "2023-07-12T16:44:51.222Z"
   },
   {
    "duration": 113,
    "start_time": "2023-07-12T16:44:51.467Z"
   },
   {
    "duration": 30062,
    "start_time": "2023-07-12T16:44:51.584Z"
   },
   {
    "duration": 347,
    "start_time": "2023-07-12T16:51:21.183Z"
   },
   {
    "duration": 90,
    "start_time": "2023-07-12T16:51:41.126Z"
   },
   {
    "duration": 57153,
    "start_time": "2023-07-12T16:52:25.502Z"
   },
   {
    "duration": 57591,
    "start_time": "2023-07-12T16:54:20.151Z"
   },
   {
    "duration": 173,
    "start_time": "2023-07-12T17:09:04.002Z"
   },
   {
    "duration": 180,
    "start_time": "2023-07-12T17:11:46.770Z"
   },
   {
    "duration": 170,
    "start_time": "2023-07-12T17:11:56.213Z"
   },
   {
    "duration": 147,
    "start_time": "2023-07-12T17:13:42.307Z"
   },
   {
    "duration": 151,
    "start_time": "2023-07-12T17:13:51.355Z"
   },
   {
    "duration": 65,
    "start_time": "2023-07-12T17:14:37.005Z"
   },
   {
    "duration": 1679,
    "start_time": "2023-07-12T18:04:46.563Z"
   },
   {
    "duration": 69,
    "start_time": "2023-07-12T18:04:48.244Z"
   },
   {
    "duration": 489,
    "start_time": "2023-07-12T18:04:48.315Z"
   },
   {
    "duration": 292,
    "start_time": "2023-07-12T18:04:48.806Z"
   },
   {
    "duration": 874,
    "start_time": "2023-07-12T18:04:49.100Z"
   },
   {
    "duration": 2308,
    "start_time": "2023-07-12T18:04:49.978Z"
   },
   {
    "duration": 612,
    "start_time": "2023-07-12T18:04:52.288Z"
   },
   {
    "duration": 1486,
    "start_time": "2023-07-12T18:04:52.902Z"
   },
   {
    "duration": 236,
    "start_time": "2023-07-12T18:04:54.393Z"
   },
   {
    "duration": 15,
    "start_time": "2023-07-12T18:04:54.631Z"
   },
   {
    "duration": 305,
    "start_time": "2023-07-12T18:04:54.648Z"
   },
   {
    "duration": 634,
    "start_time": "2023-07-12T18:04:54.954Z"
   },
   {
    "duration": 373,
    "start_time": "2023-07-12T18:04:55.590Z"
   },
   {
    "duration": 32,
    "start_time": "2023-07-12T18:04:55.969Z"
   },
   {
    "duration": 9,
    "start_time": "2023-07-12T18:04:56.004Z"
   },
   {
    "duration": 29,
    "start_time": "2023-07-12T18:04:56.014Z"
   },
   {
    "duration": 101,
    "start_time": "2023-07-12T18:04:56.045Z"
   },
   {
    "duration": 460,
    "start_time": "2023-07-12T18:04:56.148Z"
   },
   {
    "duration": 81,
    "start_time": "2023-07-12T18:04:56.610Z"
   },
   {
    "duration": 54541,
    "start_time": "2023-07-12T18:04:56.694Z"
   },
   {
    "duration": 469,
    "start_time": "2023-07-12T18:05:51.236Z"
   },
   {
    "duration": 569,
    "start_time": "2023-07-12T18:05:51.707Z"
   },
   {
    "duration": 57001,
    "start_time": "2023-07-12T18:05:52.278Z"
   },
   {
    "duration": 20,
    "start_time": "2023-07-12T18:06:49.282Z"
   },
   {
    "duration": 3323,
    "start_time": "2023-07-12T18:06:49.308Z"
   },
   {
    "duration": 79,
    "start_time": "2023-07-12T18:06:52.632Z"
   },
   {
    "duration": 99514,
    "start_time": "2023-07-12T18:06:52.718Z"
   },
   {
    "duration": 12,
    "start_time": "2023-07-12T18:08:32.234Z"
   },
   {
    "duration": 289,
    "start_time": "2023-07-12T18:08:32.247Z"
   },
   {
    "duration": 164,
    "start_time": "2023-07-12T18:08:32.538Z"
   },
   {
    "duration": 30023,
    "start_time": "2023-07-12T18:08:32.718Z"
   },
   {
    "duration": 52268,
    "start_time": "2023-07-12T18:09:02.742Z"
   },
   {
    "duration": 136,
    "start_time": "2023-07-12T18:09:55.013Z"
   },
   {
    "duration": 78,
    "start_time": "2023-07-13T08:23:31.566Z"
   },
   {
    "duration": 78,
    "start_time": "2023-07-13T08:31:43.222Z"
   },
   {
    "duration": 54,
    "start_time": "2023-07-13T08:35:32.015Z"
   },
   {
    "duration": 70,
    "start_time": "2023-07-13T08:35:43.053Z"
   },
   {
    "duration": 42,
    "start_time": "2023-07-13T08:35:43.152Z"
   },
   {
    "duration": 1,
    "start_time": "2023-07-13T08:35:43.195Z"
   },
   {
    "duration": 0,
    "start_time": "2023-07-13T08:35:43.197Z"
   },
   {
    "duration": 0,
    "start_time": "2023-07-13T08:35:43.198Z"
   },
   {
    "duration": 0,
    "start_time": "2023-07-13T08:35:43.199Z"
   },
   {
    "duration": 0,
    "start_time": "2023-07-13T08:35:43.200Z"
   },
   {
    "duration": 0,
    "start_time": "2023-07-13T08:35:43.201Z"
   },
   {
    "duration": 0,
    "start_time": "2023-07-13T08:35:43.202Z"
   },
   {
    "duration": 0,
    "start_time": "2023-07-13T08:35:43.203Z"
   },
   {
    "duration": 0,
    "start_time": "2023-07-13T08:35:43.204Z"
   },
   {
    "duration": 0,
    "start_time": "2023-07-13T08:35:43.205Z"
   },
   {
    "duration": 0,
    "start_time": "2023-07-13T08:35:43.206Z"
   },
   {
    "duration": 0,
    "start_time": "2023-07-13T08:35:43.207Z"
   },
   {
    "duration": 0,
    "start_time": "2023-07-13T08:35:43.208Z"
   },
   {
    "duration": 50,
    "start_time": "2023-07-13T08:35:43.211Z"
   },
   {
    "duration": 0,
    "start_time": "2023-07-13T08:35:43.263Z"
   },
   {
    "duration": 0,
    "start_time": "2023-07-13T08:35:43.264Z"
   },
   {
    "duration": 0,
    "start_time": "2023-07-13T08:35:43.265Z"
   },
   {
    "duration": 0,
    "start_time": "2023-07-13T08:35:43.266Z"
   },
   {
    "duration": 0,
    "start_time": "2023-07-13T08:35:43.268Z"
   },
   {
    "duration": 0,
    "start_time": "2023-07-13T08:35:43.269Z"
   },
   {
    "duration": 0,
    "start_time": "2023-07-13T08:35:43.270Z"
   },
   {
    "duration": 0,
    "start_time": "2023-07-13T08:35:43.271Z"
   },
   {
    "duration": 93,
    "start_time": "2023-07-13T08:35:43.273Z"
   },
   {
    "duration": 89,
    "start_time": "2023-07-13T08:35:43.368Z"
   },
   {
    "duration": 64,
    "start_time": "2023-07-13T08:35:43.458Z"
   },
   {
    "duration": 10,
    "start_time": "2023-07-13T08:35:43.524Z"
   },
   {
    "duration": 0,
    "start_time": "2023-07-13T08:35:43.536Z"
   },
   {
    "duration": 0,
    "start_time": "2023-07-13T08:35:43.537Z"
   },
   {
    "duration": 0,
    "start_time": "2023-07-13T08:35:43.538Z"
   },
   {
    "duration": 0,
    "start_time": "2023-07-13T08:35:43.540Z"
   },
   {
    "duration": 0,
    "start_time": "2023-07-13T08:35:43.541Z"
   },
   {
    "duration": 1187,
    "start_time": "2023-07-13T08:36:32.719Z"
   },
   {
    "duration": 190,
    "start_time": "2023-07-13T08:36:33.909Z"
   },
   {
    "duration": 132,
    "start_time": "2023-07-13T08:36:34.101Z"
   },
   {
    "duration": 31,
    "start_time": "2023-07-13T08:36:34.236Z"
   },
   {
    "duration": 7,
    "start_time": "2023-07-13T08:36:34.269Z"
   },
   {
    "duration": 11,
    "start_time": "2023-07-13T08:36:34.278Z"
   },
   {
    "duration": 17,
    "start_time": "2023-07-13T08:36:34.291Z"
   },
   {
    "duration": 13,
    "start_time": "2023-07-13T08:36:34.310Z"
   },
   {
    "duration": 770,
    "start_time": "2023-07-13T08:36:34.327Z"
   },
   {
    "duration": 0,
    "start_time": "2023-07-13T08:36:35.100Z"
   },
   {
    "duration": 0,
    "start_time": "2023-07-13T08:36:35.101Z"
   },
   {
    "duration": 0,
    "start_time": "2023-07-13T08:36:35.103Z"
   },
   {
    "duration": 0,
    "start_time": "2023-07-13T08:36:35.105Z"
   },
   {
    "duration": 0,
    "start_time": "2023-07-13T08:36:35.106Z"
   },
   {
    "duration": 0,
    "start_time": "2023-07-13T08:36:35.108Z"
   },
   {
    "duration": 0,
    "start_time": "2023-07-13T08:36:35.109Z"
   },
   {
    "duration": 0,
    "start_time": "2023-07-13T08:36:35.111Z"
   },
   {
    "duration": 0,
    "start_time": "2023-07-13T08:36:35.112Z"
   },
   {
    "duration": 0,
    "start_time": "2023-07-13T08:36:35.113Z"
   },
   {
    "duration": 0,
    "start_time": "2023-07-13T08:36:35.115Z"
   },
   {
    "duration": 0,
    "start_time": "2023-07-13T08:36:35.116Z"
   },
   {
    "duration": 0,
    "start_time": "2023-07-13T08:36:35.118Z"
   },
   {
    "duration": 0,
    "start_time": "2023-07-13T08:36:35.119Z"
   },
   {
    "duration": 0,
    "start_time": "2023-07-13T08:36:35.160Z"
   },
   {
    "duration": 0,
    "start_time": "2023-07-13T08:36:35.161Z"
   },
   {
    "duration": 0,
    "start_time": "2023-07-13T08:36:35.163Z"
   },
   {
    "duration": 0,
    "start_time": "2023-07-13T08:36:35.164Z"
   },
   {
    "duration": 0,
    "start_time": "2023-07-13T08:36:35.166Z"
   },
   {
    "duration": 0,
    "start_time": "2023-07-13T08:36:35.167Z"
   },
   {
    "duration": 0,
    "start_time": "2023-07-13T08:36:35.169Z"
   },
   {
    "duration": 0,
    "start_time": "2023-07-13T08:36:35.170Z"
   },
   {
    "duration": 0,
    "start_time": "2023-07-13T08:36:35.172Z"
   },
   {
    "duration": 0,
    "start_time": "2023-07-13T08:36:35.173Z"
   },
   {
    "duration": 1326,
    "start_time": "2023-07-13T08:37:33.311Z"
   },
   {
    "duration": 56,
    "start_time": "2023-07-13T08:37:34.639Z"
   },
   {
    "duration": 102,
    "start_time": "2023-07-13T08:37:34.697Z"
   },
   {
    "duration": 7,
    "start_time": "2023-07-13T08:37:34.801Z"
   },
   {
    "duration": 6,
    "start_time": "2023-07-13T08:37:34.810Z"
   },
   {
    "duration": 22,
    "start_time": "2023-07-13T08:37:34.817Z"
   },
   {
    "duration": 46,
    "start_time": "2023-07-13T08:37:34.840Z"
   },
   {
    "duration": 18,
    "start_time": "2023-07-13T08:37:34.888Z"
   },
   {
    "duration": 153,
    "start_time": "2023-07-13T08:37:34.907Z"
   },
   {
    "duration": 14,
    "start_time": "2023-07-13T08:37:35.063Z"
   },
   {
    "duration": 20,
    "start_time": "2023-07-13T08:37:35.078Z"
   },
   {
    "duration": 3,
    "start_time": "2023-07-13T08:37:35.100Z"
   },
   {
    "duration": 16,
    "start_time": "2023-07-13T08:37:35.105Z"
   },
   {
    "duration": 14,
    "start_time": "2023-07-13T08:37:35.123Z"
   },
   {
    "duration": 34,
    "start_time": "2023-07-13T08:37:35.139Z"
   },
   {
    "duration": 10,
    "start_time": "2023-07-13T08:37:35.174Z"
   },
   {
    "duration": 62,
    "start_time": "2023-07-13T08:37:35.185Z"
   },
   {
    "duration": 432,
    "start_time": "2023-07-13T08:37:35.248Z"
   },
   {
    "duration": 23,
    "start_time": "2023-07-13T08:37:35.682Z"
   },
   {
    "duration": 51520,
    "start_time": "2023-07-13T08:37:35.760Z"
   },
   {
    "duration": 425,
    "start_time": "2023-07-13T08:38:27.282Z"
   },
   {
    "duration": 55,
    "start_time": "2023-07-13T08:38:27.709Z"
   },
   {
    "duration": 49275,
    "start_time": "2023-07-13T08:38:27.766Z"
   },
   {
    "duration": 30,
    "start_time": "2023-07-13T08:39:17.043Z"
   },
   {
    "duration": 716,
    "start_time": "2023-07-13T08:39:17.075Z"
   },
   {
    "duration": 87,
    "start_time": "2023-07-13T08:39:17.793Z"
   },
   {
    "duration": 84245,
    "start_time": "2023-07-13T08:39:17.882Z"
   },
   {
    "duration": 12,
    "start_time": "2023-07-13T08:40:42.130Z"
   },
   {
    "duration": 233,
    "start_time": "2023-07-13T08:40:42.143Z"
   },
   {
    "duration": 81,
    "start_time": "2023-07-13T08:40:42.378Z"
   },
   {
    "duration": 27290,
    "start_time": "2023-07-13T08:40:42.461Z"
   },
   {
    "duration": 49614,
    "start_time": "2023-07-13T08:41:09.760Z"
   },
   {
    "duration": 125,
    "start_time": "2023-07-13T08:41:59.376Z"
   },
   {
    "duration": 71,
    "start_time": "2023-07-13T08:41:59.503Z"
   },
   {
    "duration": 89446,
    "start_time": "2023-07-13T08:53:45.390Z"
   },
   {
    "duration": 1440,
    "start_time": "2023-07-13T09:07:11.503Z"
   },
   {
    "duration": 58,
    "start_time": "2023-07-13T09:07:12.945Z"
   },
   {
    "duration": 116,
    "start_time": "2023-07-13T09:07:13.005Z"
   },
   {
    "duration": 10,
    "start_time": "2023-07-13T09:07:13.123Z"
   },
   {
    "duration": 6,
    "start_time": "2023-07-13T09:07:13.158Z"
   },
   {
    "duration": 20,
    "start_time": "2023-07-13T09:07:13.166Z"
   },
   {
    "duration": 25,
    "start_time": "2023-07-13T09:07:13.188Z"
   },
   {
    "duration": 15,
    "start_time": "2023-07-13T09:07:13.215Z"
   },
   {
    "duration": 169,
    "start_time": "2023-07-13T09:07:13.232Z"
   },
   {
    "duration": 15,
    "start_time": "2023-07-13T09:07:13.403Z"
   },
   {
    "duration": 18,
    "start_time": "2023-07-13T09:07:13.420Z"
   },
   {
    "duration": 4,
    "start_time": "2023-07-13T09:07:13.460Z"
   },
   {
    "duration": 27,
    "start_time": "2023-07-13T09:07:13.466Z"
   },
   {
    "duration": 15,
    "start_time": "2023-07-13T09:07:13.496Z"
   },
   {
    "duration": 7,
    "start_time": "2023-07-13T09:07:13.513Z"
   },
   {
    "duration": 14,
    "start_time": "2023-07-13T09:07:13.522Z"
   },
   {
    "duration": 57,
    "start_time": "2023-07-13T09:07:13.538Z"
   },
   {
    "duration": 446,
    "start_time": "2023-07-13T09:07:13.597Z"
   },
   {
    "duration": 35,
    "start_time": "2023-07-13T09:07:14.045Z"
   },
   {
    "duration": 83621,
    "start_time": "2023-07-13T09:07:14.083Z"
   },
   {
    "duration": 471,
    "start_time": "2023-07-13T09:08:37.706Z"
   },
   {
    "duration": 82,
    "start_time": "2023-07-13T09:08:38.179Z"
   },
   {
    "duration": 50836,
    "start_time": "2023-07-13T09:08:38.263Z"
   },
   {
    "duration": 14,
    "start_time": "2023-07-13T09:09:29.101Z"
   },
   {
    "duration": 533,
    "start_time": "2023-07-13T09:09:29.117Z"
   },
   {
    "duration": 34,
    "start_time": "2023-07-13T09:09:29.652Z"
   },
   {
    "duration": 64008,
    "start_time": "2023-07-13T09:09:29.758Z"
   },
   {
    "duration": 12,
    "start_time": "2023-07-13T09:10:33.769Z"
   },
   {
    "duration": 276,
    "start_time": "2023-07-13T09:10:33.782Z"
   },
   {
    "duration": 200,
    "start_time": "2023-07-13T09:10:34.060Z"
   },
   {
    "duration": 51169,
    "start_time": "2023-07-13T09:11:02.975Z"
   },
   {
    "duration": 169,
    "start_time": "2023-07-13T09:11:54.146Z"
   },
   {
    "duration": 14,
    "start_time": "2023-07-13T09:11:54.320Z"
   },
   {
    "duration": 270,
    "start_time": "2023-07-13T09:11:54.336Z"
   },
   {
    "duration": 62,
    "start_time": "2023-07-13T09:11:54.607Z"
   },
   {
    "duration": 32757,
    "start_time": "2023-07-13T09:11:54.671Z"
   },
   {
    "duration": 113865,
    "start_time": "2023-07-13T09:12:27.430Z"
   },
   {
    "duration": 1849,
    "start_time": "2023-07-13T09:15:05.134Z"
   },
   {
    "duration": 90,
    "start_time": "2023-07-13T09:15:06.986Z"
   },
   {
    "duration": 204,
    "start_time": "2023-07-13T09:15:07.078Z"
   },
   {
    "duration": 16,
    "start_time": "2023-07-13T09:15:07.287Z"
   },
   {
    "duration": 9,
    "start_time": "2023-07-13T09:15:07.306Z"
   },
   {
    "duration": 17,
    "start_time": "2023-07-13T09:15:07.317Z"
   },
   {
    "duration": 58,
    "start_time": "2023-07-13T09:15:07.337Z"
   },
   {
    "duration": 17,
    "start_time": "2023-07-13T09:15:07.408Z"
   },
   {
    "duration": 216,
    "start_time": "2023-07-13T09:15:07.428Z"
   },
   {
    "duration": 35,
    "start_time": "2023-07-13T09:15:07.647Z"
   },
   {
    "duration": 29,
    "start_time": "2023-07-13T09:15:07.685Z"
   },
   {
    "duration": 6,
    "start_time": "2023-07-13T09:15:07.716Z"
   },
   {
    "duration": 9,
    "start_time": "2023-07-13T09:15:07.723Z"
   },
   {
    "duration": 47,
    "start_time": "2023-07-13T09:15:07.733Z"
   },
   {
    "duration": 8,
    "start_time": "2023-07-13T09:15:07.782Z"
   },
   {
    "duration": 23,
    "start_time": "2023-07-13T09:15:07.792Z"
   },
   {
    "duration": 101,
    "start_time": "2023-07-13T09:15:07.817Z"
   },
   {
    "duration": 502,
    "start_time": "2023-07-13T09:15:07.920Z"
   },
   {
    "duration": 57,
    "start_time": "2023-07-13T09:15:08.425Z"
   },
   {
    "duration": 91284,
    "start_time": "2023-07-13T09:15:08.500Z"
   },
   {
    "duration": 488,
    "start_time": "2023-07-13T09:16:39.785Z"
   },
   {
    "duration": 26,
    "start_time": "2023-07-13T09:16:40.275Z"
   },
   {
    "duration": 85454,
    "start_time": "2023-07-13T09:16:40.365Z"
   },
   {
    "duration": 14,
    "start_time": "2023-07-13T09:18:05.820Z"
   },
   {
    "duration": 563,
    "start_time": "2023-07-13T09:18:05.836Z"
   },
   {
    "duration": 64,
    "start_time": "2023-07-13T09:18:06.401Z"
   },
   {
    "duration": 122179,
    "start_time": "2023-07-13T09:18:06.470Z"
   },
   {
    "duration": 20,
    "start_time": "2023-07-13T09:20:08.658Z"
   },
   {
    "duration": 292,
    "start_time": "2023-07-13T09:20:08.685Z"
   },
   {
    "duration": 81,
    "start_time": "2023-07-13T09:20:08.984Z"
   },
   {
    "duration": 54881,
    "start_time": "2023-07-13T09:20:09.071Z"
   },
   {
    "duration": 83,
    "start_time": "2023-07-13T09:21:03.954Z"
   },
   {
    "duration": 181,
    "start_time": "2023-07-13T09:21:04.039Z"
   },
   {
    "duration": 185,
    "start_time": "2023-07-13T09:23:31.821Z"
   },
   {
    "duration": 79,
    "start_time": "2023-07-13T09:24:17.814Z"
   },
   {
    "duration": 183,
    "start_time": "2023-07-13T09:24:28.030Z"
   },
   {
    "duration": 106,
    "start_time": "2023-07-13T09:25:17.125Z"
   },
   {
    "duration": 278644,
    "start_time": "2023-07-13T09:26:01.302Z"
   },
   {
    "duration": 218,
    "start_time": "2023-07-13T09:31:10.901Z"
   },
   {
    "duration": 1523,
    "start_time": "2023-07-13T09:31:29.732Z"
   },
   {
    "duration": 63,
    "start_time": "2023-07-13T09:31:31.257Z"
   },
   {
    "duration": 118,
    "start_time": "2023-07-13T09:31:31.322Z"
   },
   {
    "duration": 35,
    "start_time": "2023-07-13T09:31:31.441Z"
   },
   {
    "duration": 47,
    "start_time": "2023-07-13T09:31:31.478Z"
   },
   {
    "duration": 44,
    "start_time": "2023-07-13T09:31:31.527Z"
   },
   {
    "duration": 38,
    "start_time": "2023-07-13T09:31:31.573Z"
   },
   {
    "duration": 66,
    "start_time": "2023-07-13T09:31:31.612Z"
   },
   {
    "duration": 219,
    "start_time": "2023-07-13T09:31:31.680Z"
   },
   {
    "duration": 16,
    "start_time": "2023-07-13T09:31:31.901Z"
   },
   {
    "duration": 34,
    "start_time": "2023-07-13T09:31:31.918Z"
   },
   {
    "duration": 17,
    "start_time": "2023-07-13T09:31:31.963Z"
   },
   {
    "duration": 18,
    "start_time": "2023-07-13T09:31:31.982Z"
   },
   {
    "duration": 30,
    "start_time": "2023-07-13T09:31:32.004Z"
   },
   {
    "duration": 16,
    "start_time": "2023-07-13T09:31:32.036Z"
   },
   {
    "duration": 32,
    "start_time": "2023-07-13T09:31:32.054Z"
   },
   {
    "duration": 87,
    "start_time": "2023-07-13T09:31:32.088Z"
   },
   {
    "duration": 449,
    "start_time": "2023-07-13T09:31:32.177Z"
   },
   {
    "duration": 45,
    "start_time": "2023-07-13T09:31:32.627Z"
   },
   {
    "duration": 87240,
    "start_time": "2023-07-13T09:31:32.675Z"
   },
   {
    "duration": 501,
    "start_time": "2023-07-13T09:32:59.917Z"
   },
   {
    "duration": 50,
    "start_time": "2023-07-13T09:33:00.420Z"
   },
   {
    "duration": 85102,
    "start_time": "2023-07-13T09:33:00.474Z"
   },
   {
    "duration": 12,
    "start_time": "2023-07-13T09:34:25.579Z"
   },
   {
    "duration": 1128,
    "start_time": "2023-07-13T09:34:25.592Z"
   },
   {
    "duration": 139,
    "start_time": "2023-07-13T09:34:26.722Z"
   },
   {
    "duration": 304851,
    "start_time": "2023-07-13T09:34:26.863Z"
   },
   {
    "duration": 17,
    "start_time": "2023-07-13T09:39:31.715Z"
   },
   {
    "duration": 381,
    "start_time": "2023-07-13T09:39:31.734Z"
   },
   {
    "duration": 53,
    "start_time": "2023-07-13T09:39:32.118Z"
   },
   {
    "duration": 56976,
    "start_time": "2023-07-13T09:39:32.174Z"
   },
   {
    "duration": 227,
    "start_time": "2023-07-13T09:40:29.159Z"
   },
   {
    "duration": 205,
    "start_time": "2023-07-13T09:40:29.388Z"
   },
   {
    "duration": 191,
    "start_time": "2023-07-13T09:45:07.066Z"
   },
   {
    "duration": 245,
    "start_time": "2023-07-13T09:45:15.309Z"
   },
   {
    "duration": 388,
    "start_time": "2023-07-13T09:45:25.542Z"
   },
   {
    "duration": 60,
    "start_time": "2023-07-13T09:45:38.048Z"
   },
   {
    "duration": 1386,
    "start_time": "2023-07-13T09:47:58.325Z"
   },
   {
    "duration": 1294,
    "start_time": "2023-07-13T09:51:51.969Z"
   },
   {
    "duration": 1415,
    "start_time": "2023-07-13T09:53:59.367Z"
   },
   {
    "duration": 57,
    "start_time": "2023-07-13T09:54:00.785Z"
   },
   {
    "duration": 122,
    "start_time": "2023-07-13T09:54:00.844Z"
   },
   {
    "duration": 8,
    "start_time": "2023-07-13T09:54:00.968Z"
   },
   {
    "duration": 54,
    "start_time": "2023-07-13T09:54:00.978Z"
   },
   {
    "duration": 57,
    "start_time": "2023-07-13T09:54:01.034Z"
   },
   {
    "duration": 48,
    "start_time": "2023-07-13T09:54:01.093Z"
   },
   {
    "duration": 63,
    "start_time": "2023-07-13T09:54:01.142Z"
   },
   {
    "duration": 245,
    "start_time": "2023-07-13T09:54:01.207Z"
   },
   {
    "duration": 16,
    "start_time": "2023-07-13T09:54:01.455Z"
   },
   {
    "duration": 66,
    "start_time": "2023-07-13T09:54:01.473Z"
   },
   {
    "duration": 102,
    "start_time": "2023-07-13T09:54:01.541Z"
   },
   {
    "duration": 42,
    "start_time": "2023-07-13T09:54:01.645Z"
   },
   {
    "duration": 53,
    "start_time": "2023-07-13T09:54:01.689Z"
   },
   {
    "duration": 61,
    "start_time": "2023-07-13T09:54:01.744Z"
   },
   {
    "duration": 68,
    "start_time": "2023-07-13T09:54:01.807Z"
   },
   {
    "duration": 128,
    "start_time": "2023-07-13T09:54:01.877Z"
   },
   {
    "duration": 513,
    "start_time": "2023-07-13T09:54:02.008Z"
   },
   {
    "duration": 44,
    "start_time": "2023-07-13T09:54:02.523Z"
   },
   {
    "duration": 85704,
    "start_time": "2023-07-13T09:54:02.569Z"
   },
   {
    "duration": 460,
    "start_time": "2023-07-13T09:55:28.276Z"
   },
   {
    "duration": 46,
    "start_time": "2023-07-13T09:55:28.738Z"
   },
   {
    "duration": 85000,
    "start_time": "2023-07-13T09:55:28.786Z"
   },
   {
    "duration": 13,
    "start_time": "2023-07-13T09:56:53.787Z"
   },
   {
    "duration": 625,
    "start_time": "2023-07-13T09:56:53.801Z"
   },
   {
    "duration": 241,
    "start_time": "2023-07-13T09:56:54.428Z"
   },
   {
    "duration": 282224,
    "start_time": "2023-07-13T09:56:54.671Z"
   },
   {
    "duration": 12,
    "start_time": "2023-07-13T10:01:36.898Z"
   },
   {
    "duration": 267,
    "start_time": "2023-07-13T10:01:36.912Z"
   },
   {
    "duration": 85,
    "start_time": "2023-07-13T10:01:37.181Z"
   },
   {
    "duration": 50619,
    "start_time": "2023-07-13T10:01:37.268Z"
   },
   {
    "duration": 1460,
    "start_time": "2023-07-13T10:02:27.888Z"
   },
   {
    "duration": 137,
    "start_time": "2023-07-13T10:02:29.350Z"
   },
   {
    "duration": 191868,
    "start_time": "2023-07-13T10:07:41.721Z"
   },
   {
    "duration": 1028,
    "start_time": "2023-07-13T10:11:24.047Z"
   },
   {
    "duration": 1065,
    "start_time": "2023-07-13T10:12:17.551Z"
   },
   {
    "duration": 1538,
    "start_time": "2023-07-13T10:12:30.844Z"
   },
   {
    "duration": 61,
    "start_time": "2023-07-13T10:12:32.385Z"
   },
   {
    "duration": 122,
    "start_time": "2023-07-13T10:12:32.448Z"
   },
   {
    "duration": 8,
    "start_time": "2023-07-13T10:12:32.572Z"
   },
   {
    "duration": 5,
    "start_time": "2023-07-13T10:12:32.582Z"
   },
   {
    "duration": 9,
    "start_time": "2023-07-13T10:12:32.588Z"
   },
   {
    "duration": 19,
    "start_time": "2023-07-13T10:12:32.599Z"
   },
   {
    "duration": 41,
    "start_time": "2023-07-13T10:12:32.619Z"
   },
   {
    "duration": 175,
    "start_time": "2023-07-13T10:12:32.662Z"
   },
   {
    "duration": 25,
    "start_time": "2023-07-13T10:12:32.840Z"
   },
   {
    "duration": 19,
    "start_time": "2023-07-13T10:12:32.868Z"
   },
   {
    "duration": 4,
    "start_time": "2023-07-13T10:12:32.888Z"
   },
   {
    "duration": 8,
    "start_time": "2023-07-13T10:12:32.893Z"
   },
   {
    "duration": 11,
    "start_time": "2023-07-13T10:12:32.902Z"
   },
   {
    "duration": 45,
    "start_time": "2023-07-13T10:12:32.915Z"
   },
   {
    "duration": 8,
    "start_time": "2023-07-13T10:12:32.962Z"
   },
   {
    "duration": 56,
    "start_time": "2023-07-13T10:12:32.971Z"
   },
   {
    "duration": 476,
    "start_time": "2023-07-13T10:12:33.030Z"
   },
   {
    "duration": 55,
    "start_time": "2023-07-13T10:12:33.508Z"
   },
   {
    "duration": 86134,
    "start_time": "2023-07-13T10:12:33.565Z"
   },
   {
    "duration": 487,
    "start_time": "2023-07-13T10:13:59.704Z"
   },
   {
    "duration": 72,
    "start_time": "2023-07-13T10:14:00.193Z"
   },
   {
    "duration": 220339,
    "start_time": "2023-07-13T10:14:00.267Z"
   },
   {
    "duration": 19,
    "start_time": "2023-07-13T10:17:40.609Z"
   },
   {
    "duration": 594,
    "start_time": "2023-07-13T10:17:40.630Z"
   },
   {
    "duration": 141,
    "start_time": "2023-07-13T10:17:41.226Z"
   },
   {
    "duration": 198042,
    "start_time": "2023-07-13T10:17:41.371Z"
   },
   {
    "duration": 12,
    "start_time": "2023-07-13T10:20:59.416Z"
   },
   {
    "duration": 259,
    "start_time": "2023-07-13T10:20:59.429Z"
   },
   {
    "duration": 74,
    "start_time": "2023-07-13T10:20:59.689Z"
   },
   {
    "duration": 54200,
    "start_time": "2023-07-13T10:20:59.767Z"
   },
   {
    "duration": 1120,
    "start_time": "2023-07-13T10:21:53.969Z"
   },
   {
    "duration": 139,
    "start_time": "2023-07-13T10:21:55.090Z"
   },
   {
    "duration": 95,
    "start_time": "2023-07-13T10:30:53.550Z"
   },
   {
    "duration": 124,
    "start_time": "2023-07-13T10:34:52.861Z"
   },
   {
    "duration": 67,
    "start_time": "2023-07-13T10:35:55.530Z"
   },
   {
    "duration": 91,
    "start_time": "2023-07-13T10:41:21.933Z"
   },
   {
    "duration": 74,
    "start_time": "2023-07-13T10:41:32.760Z"
   },
   {
    "duration": 78,
    "start_time": "2023-07-13T10:41:41.277Z"
   },
   {
    "duration": 1475,
    "start_time": "2023-07-13T10:43:09.965Z"
   },
   {
    "duration": 68,
    "start_time": "2023-07-13T10:43:11.442Z"
   },
   {
    "duration": 113,
    "start_time": "2023-07-13T10:43:11.512Z"
   },
   {
    "duration": 9,
    "start_time": "2023-07-13T10:43:11.626Z"
   },
   {
    "duration": 32,
    "start_time": "2023-07-13T10:43:11.637Z"
   },
   {
    "duration": 9,
    "start_time": "2023-07-13T10:43:11.675Z"
   },
   {
    "duration": 15,
    "start_time": "2023-07-13T10:43:11.685Z"
   },
   {
    "duration": 10,
    "start_time": "2023-07-13T10:43:11.701Z"
   },
   {
    "duration": 205,
    "start_time": "2023-07-13T10:43:11.713Z"
   },
   {
    "duration": 22,
    "start_time": "2023-07-13T10:43:11.920Z"
   },
   {
    "duration": 41,
    "start_time": "2023-07-13T10:43:11.943Z"
   },
   {
    "duration": 4,
    "start_time": "2023-07-13T10:43:11.987Z"
   },
   {
    "duration": 24,
    "start_time": "2023-07-13T10:43:11.993Z"
   },
   {
    "duration": 15,
    "start_time": "2023-07-13T10:43:12.020Z"
   },
   {
    "duration": 9,
    "start_time": "2023-07-13T10:43:12.038Z"
   },
   {
    "duration": 27,
    "start_time": "2023-07-13T10:43:12.050Z"
   },
   {
    "duration": 96,
    "start_time": "2023-07-13T10:43:12.081Z"
   },
   {
    "duration": 468,
    "start_time": "2023-07-13T10:43:12.185Z"
   },
   {
    "duration": 104,
    "start_time": "2023-07-13T10:43:12.660Z"
   },
   {
    "duration": 91042,
    "start_time": "2023-07-13T10:43:12.770Z"
   },
   {
    "duration": 559,
    "start_time": "2023-07-13T10:44:43.814Z"
   },
   {
    "duration": 202,
    "start_time": "2023-07-13T10:44:44.375Z"
   },
   {
    "duration": 87440,
    "start_time": "2023-07-13T10:44:44.585Z"
   },
   {
    "duration": 15,
    "start_time": "2023-07-13T10:46:12.027Z"
   },
   {
    "duration": 550,
    "start_time": "2023-07-13T10:46:12.044Z"
   },
   {
    "duration": 69,
    "start_time": "2023-07-13T10:46:12.596Z"
   },
   {
    "duration": 108287,
    "start_time": "2023-07-13T10:46:12.669Z"
   },
   {
    "duration": 18,
    "start_time": "2023-07-13T10:48:00.960Z"
   },
   {
    "duration": 312,
    "start_time": "2023-07-13T10:48:00.980Z"
   },
   {
    "duration": 18,
    "start_time": "2023-07-13T10:48:01.294Z"
   },
   {
    "duration": 52759,
    "start_time": "2023-07-13T10:48:01.360Z"
   },
   {
    "duration": 1169,
    "start_time": "2023-07-13T10:48:54.122Z"
   },
   {
    "duration": 146,
    "start_time": "2023-07-13T10:48:55.293Z"
   },
   {
    "duration": 77,
    "start_time": "2023-07-13T10:48:55.441Z"
   },
   {
    "duration": 1271,
    "start_time": "2023-07-13T11:00:35.822Z"
   },
   {
    "duration": 1108,
    "start_time": "2023-07-13T11:14:43.118Z"
   },
   {
    "duration": 1275,
    "start_time": "2023-07-13T11:15:55.754Z"
   },
   {
    "duration": 1192,
    "start_time": "2023-07-13T11:16:04.329Z"
   },
   {
    "duration": 1123,
    "start_time": "2023-07-13T11:17:56.878Z"
   },
   {
    "duration": 1105,
    "start_time": "2023-07-13T11:18:24.587Z"
   },
   {
    "duration": 1192,
    "start_time": "2023-07-13T11:19:32.137Z"
   },
   {
    "duration": 1113,
    "start_time": "2023-07-13T11:20:01.422Z"
   },
   {
    "duration": 1061,
    "start_time": "2023-07-13T11:21:57.940Z"
   },
   {
    "duration": 1054,
    "start_time": "2023-07-13T11:26:53.314Z"
   },
   {
    "duration": 1107,
    "start_time": "2023-07-13T11:27:45.522Z"
   },
   {
    "duration": 1429,
    "start_time": "2023-07-13T11:46:42.815Z"
   },
   {
    "duration": 64,
    "start_time": "2023-07-13T11:46:44.246Z"
   },
   {
    "duration": 122,
    "start_time": "2023-07-13T11:46:44.313Z"
   },
   {
    "duration": 28,
    "start_time": "2023-07-13T11:46:44.437Z"
   },
   {
    "duration": 5,
    "start_time": "2023-07-13T11:46:44.468Z"
   },
   {
    "duration": 15,
    "start_time": "2023-07-13T11:46:44.474Z"
   },
   {
    "duration": 16,
    "start_time": "2023-07-13T11:46:44.491Z"
   },
   {
    "duration": 14,
    "start_time": "2023-07-13T11:46:44.509Z"
   },
   {
    "duration": 182,
    "start_time": "2023-07-13T11:46:44.525Z"
   },
   {
    "duration": 16,
    "start_time": "2023-07-13T11:46:44.708Z"
   },
   {
    "duration": 35,
    "start_time": "2023-07-13T11:46:44.726Z"
   },
   {
    "duration": 4,
    "start_time": "2023-07-13T11:46:44.763Z"
   },
   {
    "duration": 6,
    "start_time": "2023-07-13T11:46:44.769Z"
   },
   {
    "duration": 11,
    "start_time": "2023-07-13T11:46:44.779Z"
   },
   {
    "duration": 8,
    "start_time": "2023-07-13T11:46:44.791Z"
   },
   {
    "duration": 8,
    "start_time": "2023-07-13T11:46:44.800Z"
   },
   {
    "duration": 88,
    "start_time": "2023-07-13T11:46:44.810Z"
   },
   {
    "duration": 440,
    "start_time": "2023-07-13T11:46:44.900Z"
   },
   {
    "duration": 39,
    "start_time": "2023-07-13T11:46:45.341Z"
   },
   {
    "duration": 79044,
    "start_time": "2023-07-13T11:46:45.460Z"
   },
   {
    "duration": 453,
    "start_time": "2023-07-13T11:48:04.506Z"
   },
   {
    "duration": 99,
    "start_time": "2023-07-13T11:48:04.961Z"
   },
   {
    "duration": 80017,
    "start_time": "2023-07-13T11:48:05.063Z"
   },
   {
    "duration": 14,
    "start_time": "2023-07-13T11:49:25.081Z"
   },
   {
    "duration": 530,
    "start_time": "2023-07-13T11:49:25.097Z"
   },
   {
    "duration": 34,
    "start_time": "2023-07-13T11:49:25.629Z"
   },
   {
    "duration": 104949,
    "start_time": "2023-07-13T11:49:25.666Z"
   },
   {
    "duration": 14,
    "start_time": "2023-07-13T11:51:10.617Z"
   },
   {
    "duration": 254,
    "start_time": "2023-07-13T11:51:10.632Z"
   },
   {
    "duration": 73,
    "start_time": "2023-07-13T11:51:10.888Z"
   },
   {
    "duration": 48366,
    "start_time": "2023-07-13T11:51:10.963Z"
   },
   {
    "duration": 1031,
    "start_time": "2023-07-13T11:51:59.331Z"
   },
   {
    "duration": 132,
    "start_time": "2023-07-13T11:52:00.364Z"
   },
   {
    "duration": 72,
    "start_time": "2023-07-13T11:52:00.498Z"
   },
   {
    "duration": 46,
    "start_time": "2024-03-27T17:54:59.459Z"
   },
   {
    "duration": 1483,
    "start_time": "2024-03-27T17:55:33.631Z"
   },
   {
    "duration": 200,
    "start_time": "2024-03-27T17:55:35.698Z"
   },
   {
    "duration": 91,
    "start_time": "2024-03-27T17:55:37.898Z"
   },
   {
    "duration": 84,
    "start_time": "2024-03-27T17:55:52.049Z"
   },
   {
    "duration": 7,
    "start_time": "2024-03-27T17:55:55.696Z"
   },
   {
    "duration": 5,
    "start_time": "2024-03-27T17:55:57.611Z"
   },
   {
    "duration": 7,
    "start_time": "2024-03-27T17:56:11.626Z"
   },
   {
    "duration": 12,
    "start_time": "2024-03-27T17:56:14.540Z"
   },
   {
    "duration": 9,
    "start_time": "2024-03-27T17:56:17.327Z"
   },
   {
    "duration": 160,
    "start_time": "2024-03-27T17:56:18.475Z"
   }
  ],
  "kernelspec": {
   "display_name": "Python 3 (ipykernel)",
   "language": "python",
   "name": "python3"
  },
  "language_info": {
   "codemirror_mode": {
    "name": "ipython",
    "version": 3
   },
   "file_extension": ".py",
   "mimetype": "text/x-python",
   "name": "python",
   "nbconvert_exporter": "python",
   "pygments_lexer": "ipython3",
   "version": "3.10.9"
  },
  "toc": {
   "base_numbering": 1,
   "nav_menu": {},
   "number_sections": true,
   "sideBar": true,
   "skip_h1_title": true,
   "title_cell": "Содержание",
   "title_sidebar": "Contents",
   "toc_cell": true,
   "toc_position": {
    "height": "802.391px",
    "left": "150px",
    "top": "111.125px",
    "width": "267.781px"
   },
   "toc_section_display": true,
   "toc_window_display": true
  }
 },
 "nbformat": 4,
 "nbformat_minor": 2
}
